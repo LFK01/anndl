{
 "cells": [
  {
   "cell_type": "markdown",
   "metadata": {},
   "source": [
    "ANN&DL Project Kaggle Competition - Image Classification\n",
    "-------"
   ]
  },
  {
   "cell_type": "code",
   "execution_count": null,
   "metadata": {},
   "outputs": [],
   "source": [
    "from IPython.core.interactiveshell import InteractiveShell\n",
    "InteractiveShell.ast_node_interactivity = \"all\""
   ]
  },
  {
   "cell_type": "markdown",
   "metadata": {},
   "source": [
    "Environment settings\n",
    "-----\n",
    "Import necessary libraries and gpu memory growth enabling. Uncomment below \"Allows to only as much GPU memory as needed\" to activate Gpu memory growth. "
   ]
  },
  {
   "cell_type": "code",
   "execution_count": null,
   "metadata": {},
   "outputs": [],
   "source": [
    "import os\n",
    "import tensorflow as tf\n",
    "import numpy as np\n",
    "\n",
    "# Set the seed for random operations. \n",
    "# This let our experiments to be reproducible. \n",
    "SEED = 1234\n",
    "tf.random.set_seed(SEED)  \n",
    "\n",
    "# Get current working directory\n",
    "cwd = os.getcwd()\n",
    "\n",
    "# Set GPU memory growth\n",
    "# Allows to only as much GPU memory as needed\n",
    "#gpus = tf.config.experimental.list_physical_devices('GPU')\n",
    "#if gpus:\n",
    "#  try:\n",
    "#    for gpu in gpus:\n",
    "#      tf.config.experimental.set_memory_growth(gpu, True)\n",
    "#    logical_gpus = tf.config.experimental.list_logical_devices('GPU')\n",
    "#    print(len(gpus), \"Physical GPUs,\", len(logical_gpus), \"Logical GPUs\")\n",
    "#  except RuntimeError as e:\n",
    "#    print(e)"
   ]
  },
  {
   "cell_type": "code",
   "execution_count": null,
   "metadata": {},
   "outputs": [],
   "source": [
    "# ImageDataGenerator\n",
    "# ------------------\n",
    "import shutil\n",
    "from tensorflow.keras.preprocessing.image import ImageDataGenerator\n",
    "\n",
    "#directories used to handle the datasets\n",
    "dataset_dir = os.path.join(cwd, 'Classification_Dataset')\n",
    "training_dir = os.path.join(dataset_dir, 'training')\n",
    "validation_dir = os.path.join(dataset_dir, 'validation')"
   ]
  },
  {
   "cell_type": "markdown",
   "metadata": {},
   "source": [
    "Validation Split\n",
    "------\n",
    "20% of samples are moved into a new directory called validation."
   ]
  },
  {
   "cell_type": "code",
   "execution_count": null,
   "metadata": {},
   "outputs": [],
   "source": [
    "#Validation split in a reproducible way\n",
    "#Done according to https://cs230-stanford.github.io/train-dev-test-split.html#have-a-reproducible-script\n",
    "\n",
    "\n",
    "if not os.path.exists(validation_dir):\n",
    "    os.mkdir(validation_dir)\n",
    "    \n",
    "for subdir, dirs, files in os.walk(training_dir):\n",
    "    for class_dir in dirs:\n",
    "        filenames = os.listdir(os.path.join(training_dir, class_dir))\n",
    "        tf.random.shuffle(filenames)\n",
    "        split = int(0.8 * len(filenames))\n",
    "        train_filenames = filenames[:split]\n",
    "        valid_filenames = filenames[split:]\n",
    "        if not os.path.exists(os.path.join(validation_dir, class_dir)):\n",
    "            os.mkdir(os.path.join(validation_dir, class_dir))\n",
    "        for file in valid_filenames:\n",
    "            shutil.move(os.path.join(training_dir, class_dir, file), os.path.join(validation_dir, class_dir, file))\n",
    "        "
   ]
  },
  {
   "cell_type": "markdown",
   "metadata": {},
   "source": [
    "Data Augmentation\n",
    "----\n",
    "Creation of two ImageDataGenerator objects to scan Training and Validation directories. train_data_gen performs data augmentation on the training set."
   ]
  },
  {
   "cell_type": "code",
   "execution_count": null,
   "metadata": {},
   "outputs": [],
   "source": [
    "apply_data_augmentation = True\n",
    "\n",
    "if apply_data_augmentation:\n",
    "    train_data_gen = ImageDataGenerator(rotation_range=10,\n",
    "                                        width_shift_range=10,\n",
    "                                        height_shift_range=10,\n",
    "                                        zoom_range=0.3,\n",
    "                                        horizontal_flip=True,\n",
    "                                        vertical_flip=False,\n",
    "                                        fill_mode='constant',\n",
    "                                        cval=0,\n",
    "                                        rescale=1./255)\n",
    "\n",
    "# Create validation and test ImageDataGenerator objects\n",
    "valid_data_gen = ImageDataGenerator(rescale=1./255)"
   ]
  },
  {
   "cell_type": "markdown",
   "metadata": {},
   "source": [
    "Data\n",
    "----\n",
    "- Batch size\n",
    "- Image Shape\n",
    "- Classes Indices\n",
    "- Dataset Reading"
   ]
  },
  {
   "cell_type": "code",
   "execution_count": null,
   "metadata": {},
   "outputs": [],
   "source": [
    "# Create generators to read images from dataset directory\n",
    "# -------------------------------------------------------\n",
    "\n",
    "# Batch size\n",
    "bs = 8\n",
    "\n",
    "# img shape, competition dataset does not have regular shapes, must search a method to solve\n",
    "img_h = 256\n",
    "img_w = 256\n",
    "\n",
    "num_classes = 20\n",
    "\n",
    "decide_class_indices = True\n",
    "if decide_class_indices:\n",
    "    class_list = ['owl', # 0\n",
    "               'galaxy', # 1\n",
    "               'lightning', # 2\n",
    "               'wine-bottle', # 3\n",
    "               't-shirt', # 4\n",
    "               'waterfall', # 5\n",
    "               'sword', # 6\n",
    "               'school-bus', # 7\n",
    "               'calculator', # 8\n",
    "               'sheet-music', # 9\n",
    "               'airplanes', # 10\n",
    "               'lightbulb', # 11\n",
    "               'skyscraper', # 12\n",
    "               'mountain-bike', # 13\n",
    "               'fireworks', # 14\n",
    "               'computer-monitor', # 15\n",
    "               'bear', # 16\n",
    "               'grand-piano', # 17\n",
    "               'kangaroo', # 18\n",
    "               'laptop'] # 19\n",
    "else:\n",
    "    classes = None\n",
    "\n",
    "# Training\n",
    "\n",
    "train_gen = train_data_gen.flow_from_directory(training_dir,\n",
    "                                               target_size=(img_h, img_w),\n",
    "                                               batch_size=bs,\n",
    "                                               classes=class_list,\n",
    "                                               class_mode='categorical',\n",
    "                                               shuffle=True,\n",
    "                                               seed=SEED)  \n",
    "# targets are directly converted into one-hot vectors\n",
    "\n",
    "#for cycle to show training images\n",
    "\n",
    "#from matplotlib import pyplot as plt\n",
    "#%matplotlib inline\n",
    "#n_array_images, n_array_labels = train_gen.next()\n",
    "\n",
    "#for images in n_array_images[:8]:\n",
    "#        plt.imshow(images)\n",
    "#        plt.show()\n",
    "\n",
    "# Validation,\n",
    "valid_gen = valid_data_gen.flow_from_directory(validation_dir,\n",
    "                                               target_size=(img_h, img_w),\n",
    "                                               batch_size=bs, \n",
    "                                               classes=class_list,\n",
    "                                               class_mode='categorical',\n",
    "                                               shuffle=False,\n",
    "                                               seed=SEED)\n",
    "\n",
    "#for cycle to show validation images\n",
    "#n_array_images, n_array_labels = valid_gen.next()\n",
    "#print(\"validation Set\")\n",
    "#for images in n_array_images[:8]:\n",
    "#        plt.imshow(images)\n",
    "#        plt.show()"
   ]
  },
  {
   "cell_type": "markdown",
   "metadata": {},
   "source": [
    "Dataset objects\n",
    "----------------------"
   ]
  },
  {
   "cell_type": "code",
   "execution_count": null,
   "metadata": {},
   "outputs": [],
   "source": [
    "# Training\n",
    "train_dataset = tf.data.Dataset.from_generator(lambda: train_gen,\n",
    "                                               output_types=(tf.float32, tf.float32),\n",
    "                                               output_shapes=([None, img_h, img_w, 3], [None, num_classes]))\n",
    "\n",
    "\n",
    "# Repeat\n",
    "# Without calling the repeat function the dataset \n",
    "# will be empty after consuming all the images\n",
    "train_dataset = train_dataset.repeat()\n",
    "\n",
    "# Validation\n",
    "# ----------\n",
    "valid_dataset = tf.data.Dataset.from_generator(lambda: valid_gen, \n",
    "                                               output_types=(tf.float32, tf.float32),\n",
    "                                               output_shapes=([None, img_h, img_w, 3], [None, num_classes]))\n",
    "\n",
    "# Repeat\n",
    "valid_dataset = valid_dataset.repeat()"
   ]
  },
  {
   "cell_type": "code",
   "execution_count": null,
   "metadata": {},
   "outputs": [],
   "source": [
    "train_gen.class_indices"
   ]
  },
  {
   "cell_type": "markdown",
   "metadata": {},
   "source": [
    "Transfer Learning\n",
    "-----\n",
    "Import of Xception model."
   ]
  },
  {
   "cell_type": "code",
   "execution_count": null,
   "metadata": {},
   "outputs": [],
   "source": [
    "#transfer_model = tf.keras.applications.VGG16(weights='imagenet', include_top=False, input_shape=(img_h, img_w, 3))\n",
    "transfer_model = tf.keras.applications.xception.Xception(include_top=False, weights='imagenet', input_tensor=None, input_shape=(img_h, img_w, 3), pooling='max')\n",
    "#transfer_model = tf.keras.applications.mobilenet_v2.MobileNetV2(input_shape=(img_h, img_w, 3), alpha=1.0, include_top=False, weights='imagenet', input_tensor=None, pooling=None)"
   ]
  },
  {
   "cell_type": "code",
   "execution_count": null,
   "metadata": {},
   "outputs": [],
   "source": [
    "#Layers visualization\n",
    "transfer_model.summary()\n",
    "transfer_model.layers"
   ]
  },
  {
   "cell_type": "markdown",
   "metadata": {},
   "source": [
    "First Training\n",
    "----\n",
    "Training of the fully connected layer of the model without fine tuning."
   ]
  },
  {
   "cell_type": "code",
   "execution_count": null,
   "metadata": {},
   "outputs": [],
   "source": [
    "for layer in transfer_model.layers:    \n",
    "    layer.trainable = False    \n",
    "\n",
    "model = tf.keras.Sequential()\n",
    "model.add(transfer_model)\n",
    "model.add(tf.keras.layers.Flatten())\n",
    "model.add(tf.keras.layers.Dropout(0.2, noise_shape=None, seed=SEED))\n",
    "model.add(tf.keras.layers.Dense(units=512, activation='relu'))\n",
    "#model.add(tf.keras.layers.Dense(units=512, activation='relu'))\n",
    "#model.add(tf.keras.layers.Dense(units=256, activation='relu'))\n",
    "model.add(tf.keras.layers.Dense(units=num_classes, activation='softmax'))\n",
    "\n",
    "# Visualize created model as a table\n",
    "model.summary()\n",
    "\n",
    "# Visualize initialized weights\n",
    "model.weights"
   ]
  },
  {
   "cell_type": "markdown",
   "metadata": {},
   "source": [
    "Optimization params\n",
    "-------------------"
   ]
  },
  {
   "cell_type": "code",
   "execution_count": null,
   "metadata": {},
   "outputs": [],
   "source": [
    "# Loss\n",
    "loss = tf.keras.losses.CategoricalCrossentropy()\n",
    "\n",
    "# learning rate\n",
    "lr = 1e-3\n",
    "optimizer = tf.keras.optimizers.Adam(learning_rate=lr)\n",
    "\n",
    "# Validation metrics\n",
    "metrics = ['accuracy']\n",
    "\n",
    "# Compile Model\n",
    "model.compile(optimizer=optimizer, loss=loss, metrics=metrics)"
   ]
  },
  {
   "cell_type": "markdown",
   "metadata": {},
   "source": [
    "Experiments Directory Creation\n",
    "----"
   ]
  },
  {
   "cell_type": "code",
   "execution_count": null,
   "metadata": {},
   "outputs": [],
   "source": [
    "from datetime import datetime\n",
    "\n",
    "cwd = os.getcwd()\n",
    "\n",
    "exps_dir = os.path.join(cwd, 'classification_experiments')\n",
    "if not os.path.exists(exps_dir):\n",
    "    os.makedirs(exps_dir)\n",
    "\n",
    "now = datetime.now().strftime('%b%d_%H-%M-%S')\n",
    "\n",
    "#model_name = 'VGG'\n",
    "model_name = 'Xception'\n",
    "#model_name = 'MobileNet'\n",
    "\n",
    "exp_dir = os.path.join(exps_dir, model_name + '_' + str(now))\n",
    "if not os.path.exists(exp_dir):\n",
    "    os.makedirs(exp_dir)\n",
    "    "
   ]
  },
  {
   "cell_type": "markdown",
   "metadata": {},
   "source": [
    "Training\n",
    "------\n",
    "Model checkpoint creation.\n",
    "Callbacks creation.\n",
    "Early Stopping.\n",
    "Model training with early stopping."
   ]
  },
  {
   "cell_type": "code",
   "execution_count": null,
   "metadata": {},
   "outputs": [],
   "source": [
    "callbacks = []\n",
    "\n",
    "# Model checkpoint\n",
    "# ----------------\n",
    "ckpt_dir = os.path.join(exp_dir, 'ckpts')\n",
    "if not os.path.exists(ckpt_dir):\n",
    "    os.makedirs(ckpt_dir)\n",
    "\n",
    "ckpt_callback = tf.keras.callbacks.ModelCheckpoint(filepath=os.path.join(ckpt_dir, 'cp_class_{epoch:02d}.ckpt'), \n",
    "                                                   save_weights_only=True)  # False to save the model directly\n",
    "callbacks.append(ckpt_callback)\n",
    "\n",
    "# Visualize Learning on Tensorboard\n",
    "# ---------------------------------\n",
    "tb_dir = os.path.join(exp_dir, 'tb_logs')\n",
    "if not os.path.exists(tb_dir):\n",
    "    os.makedirs(tb_dir)\n",
    "    \n",
    "# By default shows losses and metrics for both training and validation\n",
    "tb_callback = tf.keras.callbacks.TensorBoard(log_dir=tb_dir,\n",
    "                                             profile_batch=0,\n",
    "                                             histogram_freq=1)  # if 1 shows weights histograms\n",
    "callbacks.append(tb_callback)\n",
    "\n",
    "# Early Stopping\n",
    "# --------------\n",
    "early_stop = True\n",
    "if early_stop:\n",
    "    es_callback = tf.keras.callbacks.EarlyStopping(monitor='val_loss', \n",
    "                                                   min_delta=0,\n",
    "                                                   patience=10)\n",
    "    callbacks.append(es_callback)\n",
    "\n",
    "\n",
    "model.fit(x=train_dataset,\n",
    "          epochs=100,  #### set repeat in training dataset\n",
    "          steps_per_epoch=len(train_gen),\n",
    "          validation_data=valid_dataset,\n",
    "          validation_steps=len(valid_gen),\n",
    "          callbacks=callbacks)\n",
    "\n",
    "# How to visualize Tensorboard\n",
    "\n",
    "# 1. tensorboard --logdir classification_experiments --port 6066     <- from terminal\n",
    "# 2. localhost:6066   <- in your browser"
   ]
  },
  {
   "cell_type": "markdown",
   "metadata": {},
   "source": [
    "Fine Tuning\n",
    "----\n",
    "Setting of the model section to train with fine tuning. "
   ]
  },
  {
   "cell_type": "code",
   "execution_count": null,
   "metadata": {},
   "outputs": [],
   "source": [
    "freeze_until = 126 # layer from which we want to fine-tune\n",
    "\n",
    "for layer in model.layers[:freeze_until]:    \n",
    "    layer.trainable = False\n",
    "for layer in model.layers[freeze_until:]:\n",
    "    layer.trainable = True\n",
    "\n",
    "# Visualize created model as a table\n",
    "model.summary()\n",
    "\n",
    "# Visualize initialized weights\n",
    "model.weights\n",
    "\n",
    "model.compile(optimizer=optimizer, loss=loss, metrics=metrics)"
   ]
  },
  {
   "cell_type": "markdown",
   "metadata": {},
   "source": [
    "Re training\n",
    "-----------\n",
    "Second training of the model with fine tuning."
   ]
  },
  {
   "cell_type": "code",
   "execution_count": null,
   "metadata": {},
   "outputs": [],
   "source": [
    "callbacks = []\n",
    "\n",
    "# Model checkpoint\n",
    "# ----------------\n",
    "ckpt_dir = os.path.join(exp_dir, 'ckpts')\n",
    "if not os.path.exists(ckpt_dir):\n",
    "    os.makedirs(ckpt_dir)\n",
    "\n",
    "ckpt_callback = tf.keras.callbacks.ModelCheckpoint(filepath=os.path.join(ckpt_dir, 'cp_fine_{epoch:02d}.ckpt'), \n",
    "                                                   save_weights_only=True)  # False to save the model directly\n",
    "callbacks.append(ckpt_callback)\n",
    "\n",
    "# Visualize Learning on Tensorboard\n",
    "# ---------------------------------\n",
    "tb_dir = os.path.join(exp_dir, 'tb_logs')\n",
    "if not os.path.exists(tb_dir):\n",
    "    os.makedirs(tb_dir)\n",
    "    \n",
    "# By default shows losses and metrics for both training and validation\n",
    "tb_callback = tf.keras.callbacks.TensorBoard(log_dir=tb_dir,\n",
    "                                             profile_batch=0,\n",
    "                                             histogram_freq=1)  # if 1 shows weights histograms\n",
    "callbacks.append(tb_callback)\n",
    "\n",
    "# Early Stopping\n",
    "# --------------\n",
    "early_stop = True\n",
    "if early_stop:\n",
    "    es_callback = tf.keras.callbacks.EarlyStopping(monitor='val_loss', \n",
    "                                                   min_delta=0,\n",
    "                                                   patience=10)\n",
    "    callbacks.append(es_callback)\n",
    "\n",
    "\n",
    "model.fit(x=train_dataset,\n",
    "          epochs=100,  #### set repeat in training dataset\n",
    "          steps_per_epoch=len(train_gen),\n",
    "          validation_data=valid_dataset,\n",
    "          validation_steps=len(valid_gen),\n",
    "          callbacks=callbacks)"
   ]
  },
  {
   "cell_type": "markdown",
   "metadata": {},
   "source": []
  },
  {
   "cell_type": "code",
   "execution_count": null,
   "metadata": {},
   "outputs": [],
   "source": [
    "import json\n",
    "\n",
    "# dictionary with the format shown in the Evaluation tab\n",
    "dataset_split = {'training': \n",
    "                 {'owl', # 0\n",
    "                   'galaxy', # 1\n",
    "                   'lightning', # 2\n",
    "                   'wine-bottle', # 3\n",
    "                   't-shirt', # 4\n",
    "                   'waterfall', # 5\n",
    "                   'sword', # 6\n",
    "                   'school-bus', # 7\n",
    "                   'calculator', # 8\n",
    "                   'sheet-music', # 9\n",
    "                   'airplanes', # 10\n",
    "                   'lightbulb', # 11\n",
    "                   'skyscraper', # 12\n",
    "                   'mountain-bike', # 13\n",
    "                   'fireworks', # 14\n",
    "                   'computer-monitor', # 15\n",
    "                   'bear', # 16\n",
    "                   'grand-piano', # 17\n",
    "                   'kangaroo', # 18\n",
    "                   'laptop'}, \n",
    "                 'validation': {'owl', # 0\n",
    "                   'galaxy', # 1\n",
    "                   'lightning', # 2\n",
    "                   'wine-bottle', # 3\n",
    "                   't-shirt', # 4\n",
    "                   'waterfall', # 5\n",
    "                   'sword', # 6\n",
    "                   'school-bus', # 7\n",
    "                   'calculator', # 8\n",
    "                   'sheet-music', # 9\n",
    "                   'airplanes', # 10\n",
    "                   'lightbulb', # 11\n",
    "                   'skyscraper', # 12\n",
    "                   'mountain-bike', # 13\n",
    "                   'fireworks', # 14\n",
    "                   'computer-monitor', # 15\n",
    "                   'bear', # 16\n",
    "                   'grand-piano', # 17\n",
    "                   'kangaroo', # 18\n",
    "                   'laptop'}}   \n",
    "\n",
    "with open('dataset_split.json', 'w') as fp:\n",
    " json.dump(dataset_split, fp)"
   ]
  },
  {
   "cell_type": "code",
   "execution_count": null,
   "metadata": {},
   "outputs": [],
   "source": [
    "with open(os.path.join(exp_dir, \"dataset_split.json\"), \"w\")  as split_json:\n",
    "    split_json.write(\"{\\t\\\"training\\\":\\n\\t{\")\n",
    "    for subdir, dirs, files in os.walk(training_dir):\n",
    "        for d in dirs:\n",
    "            images = os.listdir(os.path.join(training_dir,d))\n",
    "            split_json.write(\"\\t\\\"\" + d + \"\\\": [\")\n",
    "            for file in images:\n",
    "                split_json.write(\"\\\"\" + file + \"\\\"\")\n",
    "                if images.index(file) != len(images)-1:\n",
    "                    split_json.write(\", \")\n",
    "                else:    \n",
    "                    split_json.write(\"]\")\n",
    "            if dirs.index(d) != len(dirs)-1:\n",
    "                split_json.write(\",\")\n",
    "            split_json.write(\"\\n\\t\")\n",
    "                \n",
    "    split_json.write(\"},\\n \\t\\\"validation\\\":\\n\\t{\")\n",
    "\n",
    "    for subdir, dirs, files in os.walk(validation_dir):\n",
    "        for d in dirs:\n",
    "            images = os.listdir(os.path.join(validation_dir,d))\n",
    "            split_json.write(\"\\t\\\"\" + d + \"\\\": [\")\n",
    "            for file in images:\n",
    "                split_json.write(\"\\\"\" + file + \"\\\"\")\n",
    "                if images.index(file) != len(images)-1:\n",
    "                    split_json.write(\", \")\n",
    "                else:    \n",
    "                    split_json.write(\"]\")\n",
    "            if dirs.index(d) != len(dirs)-1:\n",
    "                split_json.write(\",\")\n",
    "            split_json.write(\"\\n\\t\")\n",
    "\n",
    "    split_json.write(\"}\\n}\")"
   ]
  },
  {
   "cell_type": "markdown",
   "metadata": {},
   "source": [
    "Dataset Merge\n",
    "----\n",
    "Merge of validaton and training directories to restore the original dataset."
   ]
  },
  {
   "cell_type": "code",
   "execution_count": null,
   "metadata": {},
   "outputs": [],
   "source": [
    "for subdir, dirs, files in os.walk(validation_dir):\n",
    "    for file in files:\n",
    "        class_dir = os.path.basename(subdir)\n",
    "        shutil.move(os.path.join(subdir, file), os.path.join(training_dir, class_dir, file))\n",
    "        \n",
    "shutil.rmtree(validation_dir)"
   ]
  },
  {
   "cell_type": "code",
   "execution_count": null,
   "metadata": {},
   "outputs": [],
   "source": [
    "def create_csv(results, results_dir=cwd):\n",
    "\n",
    "    csv_fname = 'results_'\n",
    "    csv_fname += datetime.now().strftime('%b%d_%H-%M-%S') + '.csv'\n",
    "\n",
    "    with open(os.path.join(results_dir, csv_fname), 'w') as f:\n",
    "\n",
    "        f.write('Id,Category\\n')\n",
    "\n",
    "        for key, value in results.items():\n",
    "            f.write(key + ',' + str(value) + '\\n')"
   ]
  },
  {
   "cell_type": "markdown",
   "metadata": {},
   "source": [
    "Prediction\n",
    "---\n",
    "Creation of csv file with the prediction of the model on the test dataset."
   ]
  },
  {
   "cell_type": "code",
   "execution_count": null,
   "metadata": {},
   "outputs": [],
   "source": [
    "from PIL import Image\n",
    "\n",
    "# Test\n",
    "test_dir = os.path.join(dataset_dir, 'test')\n",
    "image_filenames = next(os.walk(test_dir))[2]\n",
    "\n",
    "results = {}\n",
    "for image_name in image_filenames:\n",
    "    file_path = os.path.join(test_dir, image_name)\n",
    "    img = Image.open(file_path).convert('RGB')\n",
    "    img = img.resize((img_w, img_h))\n",
    "    img_array = np.array(img)\n",
    "    img_array = np.expand_dims(img_array, 0)\n",
    "    out_softmax = model.predict(x=img_array / 255.)\n",
    "    prediction = tf.argmax(out_softmax, -1)\n",
    "    results[image_name] = prediction[0].numpy()\n",
    "    \n",
    "create_csv(results)\n",
    "results"
   ]
  }
 ],
 "metadata": {
  "kernelspec": {
   "display_name": "Python 3",
   "language": "python",
   "name": "python3"
  },
  "language_info": {
   "codemirror_mode": {
    "name": "ipython",
    "version": 3
   },
   "file_extension": ".py",
   "mimetype": "text/x-python",
   "name": "python",
   "nbconvert_exporter": "python",
   "pygments_lexer": "ipython3",
   "version": "3.7.3"
  }
 },
 "nbformat": 4,
 "nbformat_minor": 2
}
