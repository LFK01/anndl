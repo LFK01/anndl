{
 "cells": [
  {
   "cell_type": "code",
   "execution_count": 1,
   "metadata": {},
   "outputs": [],
   "source": [
    "from IPython.core.interactiveshell import InteractiveShell\n",
    "InteractiveShell.ast_node_interactivity = \"all\""
   ]
  },
  {
   "cell_type": "code",
   "execution_count": 2,
   "metadata": {},
   "outputs": [],
   "source": [
    "import os\n",
    "\n",
    "# os.environ[\"CUDA_VISIBLE_DEVICES\"]=\"-1\" \n",
    "import tensorflow as tf\n",
    "import numpy as np\n",
    "\n",
    "# Set the seed for random operations. \n",
    "# This let our experiments to be reproducible. \n",
    "SEED = 1234\n",
    "tf.random.set_seed(SEED)  \n",
    "\n",
    "# Get current working directory\n",
    "cwd = os.getcwd()\n",
    "\n",
    "# Set GPU memory growth\n",
    "# Allows to only as much GPU memory as needed\n",
    "gpus = tf.config.experimental.list_physical_devices('GPU')\n",
    "if gpus:\n",
    "  try:\n",
    "    # Currently, memory growth needs to be the same across GPUs\n",
    "    for gpu in gpus:\n",
    "      tf.config.experimental.set_memory_growth(gpu, True)\n",
    "    logical_gpus = tf.config.experimental.list_logical_devices('GPU')\n",
    "    print(len(gpus), \"Physical GPUs,\", len(logical_gpus), \"Logical GPUs\")\n",
    "  except RuntimeError as e:\n",
    "    # Memory growth must be set before GPUs have been initialized\n",
    "    print(e)"
   ]
  },
  {
   "cell_type": "markdown",
   "metadata": {},
   "source": [
    "Dataset\n",
    "---"
   ]
  },
  {
   "cell_type": "code",
   "execution_count": 3,
   "metadata": {},
   "outputs": [],
   "source": [
    "# ImageDataGenerator\n",
    "# ------------------\n",
    "import shutil\n",
    "from tensorflow.keras.preprocessing.image import ImageDataGenerator\n",
    "\n",
    "#directories used to handle the datasets\n",
    "dataset_dir = os.path.join(cwd, 'Segmentation_Dataset')\n",
    "training_dir = os.path.join(dataset_dir, 'training')\n",
    "validation_dir = os.path.join(dataset_dir, 'validation')"
   ]
  },
  {
   "cell_type": "code",
   "execution_count": 4,
   "metadata": {},
   "outputs": [],
   "source": [
    "if not os.path.exists(validation_dir):\n",
    "    os.mkdir(validation_dir)\n",
    "\n",
    "images_dir = os.path.join(training_dir, 'images', 'img')\n",
    "masks_dir = os.path.join(training_dir, 'masks', 'img')"
   ]
  },
  {
   "cell_type": "code",
   "execution_count": null,
   "metadata": {},
   "outputs": [],
   "source": [
    "#Validation split in a reproducible way\n",
    "#Done according to https://cs230-stanford.github.io/train-dev-test-split.html#have-a-reproducible-script\n",
    "\n",
    "for subdir, dirs, files in os.walk(images_dir):\n",
    "    filenames = os.listdir(images_dir)\n",
    "    np.random.shuffle(filenames)\n",
    "    split = int(0.8 * len(filenames))\n",
    "    valid_filenames = filenames[split:]\n",
    "    if not os.path.exists(os.path.join(validation_dir, 'images')):\n",
    "        os.mkdir(os.path.join(validation_dir, 'images'))\n",
    "        os.mkdir(os.path.join(validation_dir, 'masks'))\n",
    "        os.mkdir(os.path.join(validation_dir, 'images', 'img'))\n",
    "        os.mkdir(os.path.join(validation_dir, 'masks', 'img'))\n",
    "    for file in valid_filenames:\n",
    "        shutil.move(os.path.join(images_dir, file), os.path.join(validation_dir, 'images', 'img', file))\n",
    "        shutil.move(os.path.join(masks_dir, file), os.path.join(validation_dir, 'masks', 'img', file))"
   ]
  },
  {
   "cell_type": "code",
   "execution_count": 5,
   "metadata": {},
   "outputs": [],
   "source": [
    "# ImageDataGenerator\n",
    "# ------------------\n",
    "\n",
    "from tensorflow.keras.preprocessing.image import ImageDataGenerator\n",
    "\n",
    "apply_data_augmentation = False\n",
    "\n",
    "# Create training ImageDataGenerator object\n",
    "# We need two different generators for images and corresponding masks\n",
    "if apply_data_augmentation:\n",
    "    train_img_data_gen = ImageDataGenerator(rotation_range=10,\n",
    "                                            width_shift_range=10,\n",
    "                                            height_shift_range=10,\n",
    "                                            zoom_range=0.3,\n",
    "                                            horizontal_flip=True,\n",
    "                                            vertical_flip=True,\n",
    "                                            fill_mode='constant',\n",
    "                                            cval=0,\n",
    "                                            rescale=1./255)\n",
    "    train_mask_data_gen = ImageDataGenerator(rotation_range=10,\n",
    "                                             width_shift_range=10,\n",
    "                                             height_shift_range=10,\n",
    "                                             zoom_range=0.3,\n",
    "                                             horizontal_flip=True,\n",
    "                                             vertical_flip=True,\n",
    "                                             fill_mode='constant',\n",
    "                                             cval=0)\n",
    "else:\n",
    "    train_img_data_gen = ImageDataGenerator(rescale=1./255)\n",
    "    train_mask_data_gen = ImageDataGenerator()\n",
    "\n",
    "# Create validation and test ImageDataGenerator objects\n",
    "valid_img_data_gen = ImageDataGenerator(rescale=1./255)\n",
    "valid_mask_data_gen = ImageDataGenerator()"
   ]
  },
  {
   "cell_type": "code",
   "execution_count": 8,
   "metadata": {},
   "outputs": [
    {
     "name": "stdout",
     "output_type": "stream",
     "text": [
      "Found 6117 images belonging to 1 classes.\n",
      "Found 6117 images belonging to 1 classes.\n",
      "Found 1530 images belonging to 1 classes.\n",
      "Found 1530 images belonging to 1 classes.\n"
     ]
    }
   ],
   "source": [
    "# Create generators to read images from dataset directory\n",
    "# -------------------------------------------------------\n",
    "dataset_dir = os.path.join(cwd, 'Segmentation_Dataset')\n",
    "\n",
    "# Batch size\n",
    "bs = 4\n",
    "\n",
    "# img shape\n",
    "img_h = 256\n",
    "img_w = 256\n",
    "\n",
    "\n",
    "# Training\n",
    "# Two different generators for images and masks\n",
    "# ATTENTION: here the seed is important!! We have to give the same SEED to both the generator\n",
    "# to apply the same transformations/shuffling to images and corresponding masks\n",
    "train_img_gen = train_img_data_gen.flow_from_directory(os.path.join(training_dir, 'images'),\n",
    "                                                       target_size=(img_h, img_w),\n",
    "                                                       batch_size=bs, \n",
    "                                                       class_mode=None, # Because we have no class subfolders in this case\n",
    "                                                       shuffle=True,\n",
    "                                                       interpolation='bilinear',\n",
    "                                                       seed=SEED)  \n",
    "train_mask_gen = train_mask_data_gen.flow_from_directory(os.path.join(training_dir, 'images'),\n",
    "                                                         target_size=(img_h, img_w),\n",
    "                                                         batch_size=bs,\n",
    "                                                         class_mode=None, # Because we have no class subfolders in this case\n",
    "                                                         shuffle=True,\n",
    "                                                         interpolation='bilinear',\n",
    "                                                         seed=SEED)\n",
    "train_gen = zip(train_img_gen, train_mask_gen)\n",
    "\n",
    "# Validation\n",
    "valid_img_gen = valid_img_data_gen.flow_from_directory(os.path.join(validation_dir, 'images'),\n",
    "                                                       target_size=(img_h, img_w),\n",
    "                                                       batch_size=bs, \n",
    "                                                       class_mode=None, # Because we have no class subfolders in this case\n",
    "                                                       shuffle=False,\n",
    "                                                       interpolation='bilinear',\n",
    "                                                       seed=SEED)\n",
    "valid_mask_gen = valid_mask_data_gen.flow_from_directory(os.path.join(validation_dir, 'masks'),\n",
    "                                                         target_size=(img_h, img_w),\n",
    "                                                         batch_size=bs, \n",
    "                                                         class_mode=None, # Because we have no class subfolders in this case\n",
    "                                                         shuffle=False,\n",
    "                                                         interpolation='bilinear',\n",
    "                                                         seed=SEED)\n",
    "valid_gen = zip(valid_img_gen, valid_mask_gen)"
   ]
  },
  {
   "cell_type": "code",
   "execution_count": 9,
   "metadata": {},
   "outputs": [],
   "source": [
    "# Create Dataset objects\n",
    "# ----------------------\n",
    "\n",
    "# Training\n",
    "# --------\n",
    "train_dataset = tf.data.Dataset.from_generator(lambda: train_gen,\n",
    "                                               output_types=(tf.float32, tf.float32),\n",
    "                                               output_shapes=([None, img_h, img_w, 3], [None, img_h, img_w, 3]))\n",
    "\n",
    "def prepare_target(x_, y_):\n",
    "    y_ = tf.cast(tf.expand_dims(y_[..., 0], -1), tf.int32)\n",
    "    return x_, tf.where(y_ > 0, y_ - 1, y_ + 1)\n",
    "\n",
    "train_dataset = train_dataset.map(prepare_target)\n",
    "\n",
    "# Repeat\n",
    "train_dataset = train_dataset.repeat()\n",
    "\n",
    "# Validation\n",
    "# ----------\n",
    "valid_dataset = tf.data.Dataset.from_generator(lambda: valid_gen, \n",
    "                                               output_types=(tf.float32, tf.float32),\n",
    "                                               output_shapes=([None, img_h, img_w, 3], [None, img_h, img_w, 3]))\n",
    "valid_dataset = valid_dataset.map(prepare_target)\n",
    "\n",
    "# Repeat\n",
    "valid_dataset = valid_dataset.repeat()"
   ]
  },
  {
   "cell_type": "code",
   "execution_count": 24,
   "metadata": {},
   "outputs": [
    {
     "data": {
      "application/javascript": [
       "/* Put everything inside the global mpl namespace */\n",
       "window.mpl = {};\n",
       "\n",
       "\n",
       "mpl.get_websocket_type = function() {\n",
       "    if (typeof(WebSocket) !== 'undefined') {\n",
       "        return WebSocket;\n",
       "    } else if (typeof(MozWebSocket) !== 'undefined') {\n",
       "        return MozWebSocket;\n",
       "    } else {\n",
       "        alert('Your browser does not have WebSocket support.' +\n",
       "              'Please try Chrome, Safari or Firefox ≥ 6. ' +\n",
       "              'Firefox 4 and 5 are also supported but you ' +\n",
       "              'have to enable WebSockets in about:config.');\n",
       "    };\n",
       "}\n",
       "\n",
       "mpl.figure = function(figure_id, websocket, ondownload, parent_element) {\n",
       "    this.id = figure_id;\n",
       "\n",
       "    this.ws = websocket;\n",
       "\n",
       "    this.supports_binary = (this.ws.binaryType != undefined);\n",
       "\n",
       "    if (!this.supports_binary) {\n",
       "        var warnings = document.getElementById(\"mpl-warnings\");\n",
       "        if (warnings) {\n",
       "            warnings.style.display = 'block';\n",
       "            warnings.textContent = (\n",
       "                \"This browser does not support binary websocket messages. \" +\n",
       "                    \"Performance may be slow.\");\n",
       "        }\n",
       "    }\n",
       "\n",
       "    this.imageObj = new Image();\n",
       "\n",
       "    this.context = undefined;\n",
       "    this.message = undefined;\n",
       "    this.canvas = undefined;\n",
       "    this.rubberband_canvas = undefined;\n",
       "    this.rubberband_context = undefined;\n",
       "    this.format_dropdown = undefined;\n",
       "\n",
       "    this.image_mode = 'full';\n",
       "\n",
       "    this.root = $('<div/>');\n",
       "    this._root_extra_style(this.root)\n",
       "    this.root.attr('style', 'display: inline-block');\n",
       "\n",
       "    $(parent_element).append(this.root);\n",
       "\n",
       "    this._init_header(this);\n",
       "    this._init_canvas(this);\n",
       "    this._init_toolbar(this);\n",
       "\n",
       "    var fig = this;\n",
       "\n",
       "    this.waiting = false;\n",
       "\n",
       "    this.ws.onopen =  function () {\n",
       "            fig.send_message(\"supports_binary\", {value: fig.supports_binary});\n",
       "            fig.send_message(\"send_image_mode\", {});\n",
       "            if (mpl.ratio != 1) {\n",
       "                fig.send_message(\"set_dpi_ratio\", {'dpi_ratio': mpl.ratio});\n",
       "            }\n",
       "            fig.send_message(\"refresh\", {});\n",
       "        }\n",
       "\n",
       "    this.imageObj.onload = function() {\n",
       "            if (fig.image_mode == 'full') {\n",
       "                // Full images could contain transparency (where diff images\n",
       "                // almost always do), so we need to clear the canvas so that\n",
       "                // there is no ghosting.\n",
       "                fig.context.clearRect(0, 0, fig.canvas.width, fig.canvas.height);\n",
       "            }\n",
       "            fig.context.drawImage(fig.imageObj, 0, 0);\n",
       "        };\n",
       "\n",
       "    this.imageObj.onunload = function() {\n",
       "        fig.ws.close();\n",
       "    }\n",
       "\n",
       "    this.ws.onmessage = this._make_on_message_function(this);\n",
       "\n",
       "    this.ondownload = ondownload;\n",
       "}\n",
       "\n",
       "mpl.figure.prototype._init_header = function() {\n",
       "    var titlebar = $(\n",
       "        '<div class=\"ui-dialog-titlebar ui-widget-header ui-corner-all ' +\n",
       "        'ui-helper-clearfix\"/>');\n",
       "    var titletext = $(\n",
       "        '<div class=\"ui-dialog-title\" style=\"width: 100%; ' +\n",
       "        'text-align: center; padding: 3px;\"/>');\n",
       "    titlebar.append(titletext)\n",
       "    this.root.append(titlebar);\n",
       "    this.header = titletext[0];\n",
       "}\n",
       "\n",
       "\n",
       "\n",
       "mpl.figure.prototype._canvas_extra_style = function(canvas_div) {\n",
       "\n",
       "}\n",
       "\n",
       "\n",
       "mpl.figure.prototype._root_extra_style = function(canvas_div) {\n",
       "\n",
       "}\n",
       "\n",
       "mpl.figure.prototype._init_canvas = function() {\n",
       "    var fig = this;\n",
       "\n",
       "    var canvas_div = $('<div/>');\n",
       "\n",
       "    canvas_div.attr('style', 'position: relative; clear: both; outline: 0');\n",
       "\n",
       "    function canvas_keyboard_event(event) {\n",
       "        return fig.key_event(event, event['data']);\n",
       "    }\n",
       "\n",
       "    canvas_div.keydown('key_press', canvas_keyboard_event);\n",
       "    canvas_div.keyup('key_release', canvas_keyboard_event);\n",
       "    this.canvas_div = canvas_div\n",
       "    this._canvas_extra_style(canvas_div)\n",
       "    this.root.append(canvas_div);\n",
       "\n",
       "    var canvas = $('<canvas/>');\n",
       "    canvas.addClass('mpl-canvas');\n",
       "    canvas.attr('style', \"left: 0; top: 0; z-index: 0; outline: 0\")\n",
       "\n",
       "    this.canvas = canvas[0];\n",
       "    this.context = canvas[0].getContext(\"2d\");\n",
       "\n",
       "    var backingStore = this.context.backingStorePixelRatio ||\n",
       "\tthis.context.webkitBackingStorePixelRatio ||\n",
       "\tthis.context.mozBackingStorePixelRatio ||\n",
       "\tthis.context.msBackingStorePixelRatio ||\n",
       "\tthis.context.oBackingStorePixelRatio ||\n",
       "\tthis.context.backingStorePixelRatio || 1;\n",
       "\n",
       "    mpl.ratio = (window.devicePixelRatio || 1) / backingStore;\n",
       "\n",
       "    var rubberband = $('<canvas/>');\n",
       "    rubberband.attr('style', \"position: absolute; left: 0; top: 0; z-index: 1;\")\n",
       "\n",
       "    var pass_mouse_events = true;\n",
       "\n",
       "    canvas_div.resizable({\n",
       "        start: function(event, ui) {\n",
       "            pass_mouse_events = false;\n",
       "        },\n",
       "        resize: function(event, ui) {\n",
       "            fig.request_resize(ui.size.width, ui.size.height);\n",
       "        },\n",
       "        stop: function(event, ui) {\n",
       "            pass_mouse_events = true;\n",
       "            fig.request_resize(ui.size.width, ui.size.height);\n",
       "        },\n",
       "    });\n",
       "\n",
       "    function mouse_event_fn(event) {\n",
       "        if (pass_mouse_events)\n",
       "            return fig.mouse_event(event, event['data']);\n",
       "    }\n",
       "\n",
       "    rubberband.mousedown('button_press', mouse_event_fn);\n",
       "    rubberband.mouseup('button_release', mouse_event_fn);\n",
       "    // Throttle sequential mouse events to 1 every 20ms.\n",
       "    rubberband.mousemove('motion_notify', mouse_event_fn);\n",
       "\n",
       "    rubberband.mouseenter('figure_enter', mouse_event_fn);\n",
       "    rubberband.mouseleave('figure_leave', mouse_event_fn);\n",
       "\n",
       "    canvas_div.on(\"wheel\", function (event) {\n",
       "        event = event.originalEvent;\n",
       "        event['data'] = 'scroll'\n",
       "        if (event.deltaY < 0) {\n",
       "            event.step = 1;\n",
       "        } else {\n",
       "            event.step = -1;\n",
       "        }\n",
       "        mouse_event_fn(event);\n",
       "    });\n",
       "\n",
       "    canvas_div.append(canvas);\n",
       "    canvas_div.append(rubberband);\n",
       "\n",
       "    this.rubberband = rubberband;\n",
       "    this.rubberband_canvas = rubberband[0];\n",
       "    this.rubberband_context = rubberband[0].getContext(\"2d\");\n",
       "    this.rubberband_context.strokeStyle = \"#000000\";\n",
       "\n",
       "    this._resize_canvas = function(width, height) {\n",
       "        // Keep the size of the canvas, canvas container, and rubber band\n",
       "        // canvas in synch.\n",
       "        canvas_div.css('width', width)\n",
       "        canvas_div.css('height', height)\n",
       "\n",
       "        canvas.attr('width', width * mpl.ratio);\n",
       "        canvas.attr('height', height * mpl.ratio);\n",
       "        canvas.attr('style', 'width: ' + width + 'px; height: ' + height + 'px;');\n",
       "\n",
       "        rubberband.attr('width', width);\n",
       "        rubberband.attr('height', height);\n",
       "    }\n",
       "\n",
       "    // Set the figure to an initial 600x600px, this will subsequently be updated\n",
       "    // upon first draw.\n",
       "    this._resize_canvas(600, 600);\n",
       "\n",
       "    // Disable right mouse context menu.\n",
       "    $(this.rubberband_canvas).bind(\"contextmenu\",function(e){\n",
       "        return false;\n",
       "    });\n",
       "\n",
       "    function set_focus () {\n",
       "        canvas.focus();\n",
       "        canvas_div.focus();\n",
       "    }\n",
       "\n",
       "    window.setTimeout(set_focus, 100);\n",
       "}\n",
       "\n",
       "mpl.figure.prototype._init_toolbar = function() {\n",
       "    var fig = this;\n",
       "\n",
       "    var nav_element = $('<div/>')\n",
       "    nav_element.attr('style', 'width: 100%');\n",
       "    this.root.append(nav_element);\n",
       "\n",
       "    // Define a callback function for later on.\n",
       "    function toolbar_event(event) {\n",
       "        return fig.toolbar_button_onclick(event['data']);\n",
       "    }\n",
       "    function toolbar_mouse_event(event) {\n",
       "        return fig.toolbar_button_onmouseover(event['data']);\n",
       "    }\n",
       "\n",
       "    for(var toolbar_ind in mpl.toolbar_items) {\n",
       "        var name = mpl.toolbar_items[toolbar_ind][0];\n",
       "        var tooltip = mpl.toolbar_items[toolbar_ind][1];\n",
       "        var image = mpl.toolbar_items[toolbar_ind][2];\n",
       "        var method_name = mpl.toolbar_items[toolbar_ind][3];\n",
       "\n",
       "        if (!name) {\n",
       "            // put a spacer in here.\n",
       "            continue;\n",
       "        }\n",
       "        var button = $('<button/>');\n",
       "        button.addClass('ui-button ui-widget ui-state-default ui-corner-all ' +\n",
       "                        'ui-button-icon-only');\n",
       "        button.attr('role', 'button');\n",
       "        button.attr('aria-disabled', 'false');\n",
       "        button.click(method_name, toolbar_event);\n",
       "        button.mouseover(tooltip, toolbar_mouse_event);\n",
       "\n",
       "        var icon_img = $('<span/>');\n",
       "        icon_img.addClass('ui-button-icon-primary ui-icon');\n",
       "        icon_img.addClass(image);\n",
       "        icon_img.addClass('ui-corner-all');\n",
       "\n",
       "        var tooltip_span = $('<span/>');\n",
       "        tooltip_span.addClass('ui-button-text');\n",
       "        tooltip_span.html(tooltip);\n",
       "\n",
       "        button.append(icon_img);\n",
       "        button.append(tooltip_span);\n",
       "\n",
       "        nav_element.append(button);\n",
       "    }\n",
       "\n",
       "    var fmt_picker_span = $('<span/>');\n",
       "\n",
       "    var fmt_picker = $('<select/>');\n",
       "    fmt_picker.addClass('mpl-toolbar-option ui-widget ui-widget-content');\n",
       "    fmt_picker_span.append(fmt_picker);\n",
       "    nav_element.append(fmt_picker_span);\n",
       "    this.format_dropdown = fmt_picker[0];\n",
       "\n",
       "    for (var ind in mpl.extensions) {\n",
       "        var fmt = mpl.extensions[ind];\n",
       "        var option = $(\n",
       "            '<option/>', {selected: fmt === mpl.default_extension}).html(fmt);\n",
       "        fmt_picker.append(option)\n",
       "    }\n",
       "\n",
       "    // Add hover states to the ui-buttons\n",
       "    $( \".ui-button\" ).hover(\n",
       "        function() { $(this).addClass(\"ui-state-hover\");},\n",
       "        function() { $(this).removeClass(\"ui-state-hover\");}\n",
       "    );\n",
       "\n",
       "    var status_bar = $('<span class=\"mpl-message\"/>');\n",
       "    nav_element.append(status_bar);\n",
       "    this.message = status_bar[0];\n",
       "}\n",
       "\n",
       "mpl.figure.prototype.request_resize = function(x_pixels, y_pixels) {\n",
       "    // Request matplotlib to resize the figure. Matplotlib will then trigger a resize in the client,\n",
       "    // which will in turn request a refresh of the image.\n",
       "    this.send_message('resize', {'width': x_pixels, 'height': y_pixels});\n",
       "}\n",
       "\n",
       "mpl.figure.prototype.send_message = function(type, properties) {\n",
       "    properties['type'] = type;\n",
       "    properties['figure_id'] = this.id;\n",
       "    this.ws.send(JSON.stringify(properties));\n",
       "}\n",
       "\n",
       "mpl.figure.prototype.send_draw_message = function() {\n",
       "    if (!this.waiting) {\n",
       "        this.waiting = true;\n",
       "        this.ws.send(JSON.stringify({type: \"draw\", figure_id: this.id}));\n",
       "    }\n",
       "}\n",
       "\n",
       "\n",
       "mpl.figure.prototype.handle_save = function(fig, msg) {\n",
       "    var format_dropdown = fig.format_dropdown;\n",
       "    var format = format_dropdown.options[format_dropdown.selectedIndex].value;\n",
       "    fig.ondownload(fig, format);\n",
       "}\n",
       "\n",
       "\n",
       "mpl.figure.prototype.handle_resize = function(fig, msg) {\n",
       "    var size = msg['size'];\n",
       "    if (size[0] != fig.canvas.width || size[1] != fig.canvas.height) {\n",
       "        fig._resize_canvas(size[0], size[1]);\n",
       "        fig.send_message(\"refresh\", {});\n",
       "    };\n",
       "}\n",
       "\n",
       "mpl.figure.prototype.handle_rubberband = function(fig, msg) {\n",
       "    var x0 = msg['x0'] / mpl.ratio;\n",
       "    var y0 = (fig.canvas.height - msg['y0']) / mpl.ratio;\n",
       "    var x1 = msg['x1'] / mpl.ratio;\n",
       "    var y1 = (fig.canvas.height - msg['y1']) / mpl.ratio;\n",
       "    x0 = Math.floor(x0) + 0.5;\n",
       "    y0 = Math.floor(y0) + 0.5;\n",
       "    x1 = Math.floor(x1) + 0.5;\n",
       "    y1 = Math.floor(y1) + 0.5;\n",
       "    var min_x = Math.min(x0, x1);\n",
       "    var min_y = Math.min(y0, y1);\n",
       "    var width = Math.abs(x1 - x0);\n",
       "    var height = Math.abs(y1 - y0);\n",
       "\n",
       "    fig.rubberband_context.clearRect(\n",
       "        0, 0, fig.canvas.width, fig.canvas.height);\n",
       "\n",
       "    fig.rubberband_context.strokeRect(min_x, min_y, width, height);\n",
       "}\n",
       "\n",
       "mpl.figure.prototype.handle_figure_label = function(fig, msg) {\n",
       "    // Updates the figure title.\n",
       "    fig.header.textContent = msg['label'];\n",
       "}\n",
       "\n",
       "mpl.figure.prototype.handle_cursor = function(fig, msg) {\n",
       "    var cursor = msg['cursor'];\n",
       "    switch(cursor)\n",
       "    {\n",
       "    case 0:\n",
       "        cursor = 'pointer';\n",
       "        break;\n",
       "    case 1:\n",
       "        cursor = 'default';\n",
       "        break;\n",
       "    case 2:\n",
       "        cursor = 'crosshair';\n",
       "        break;\n",
       "    case 3:\n",
       "        cursor = 'move';\n",
       "        break;\n",
       "    }\n",
       "    fig.rubberband_canvas.style.cursor = cursor;\n",
       "}\n",
       "\n",
       "mpl.figure.prototype.handle_message = function(fig, msg) {\n",
       "    fig.message.textContent = msg['message'];\n",
       "}\n",
       "\n",
       "mpl.figure.prototype.handle_draw = function(fig, msg) {\n",
       "    // Request the server to send over a new figure.\n",
       "    fig.send_draw_message();\n",
       "}\n",
       "\n",
       "mpl.figure.prototype.handle_image_mode = function(fig, msg) {\n",
       "    fig.image_mode = msg['mode'];\n",
       "}\n",
       "\n",
       "mpl.figure.prototype.updated_canvas_event = function() {\n",
       "    // Called whenever the canvas gets updated.\n",
       "    this.send_message(\"ack\", {});\n",
       "}\n",
       "\n",
       "// A function to construct a web socket function for onmessage handling.\n",
       "// Called in the figure constructor.\n",
       "mpl.figure.prototype._make_on_message_function = function(fig) {\n",
       "    return function socket_on_message(evt) {\n",
       "        if (evt.data instanceof Blob) {\n",
       "            /* FIXME: We get \"Resource interpreted as Image but\n",
       "             * transferred with MIME type text/plain:\" errors on\n",
       "             * Chrome.  But how to set the MIME type?  It doesn't seem\n",
       "             * to be part of the websocket stream */\n",
       "            evt.data.type = \"image/png\";\n",
       "\n",
       "            /* Free the memory for the previous frames */\n",
       "            if (fig.imageObj.src) {\n",
       "                (window.URL || window.webkitURL).revokeObjectURL(\n",
       "                    fig.imageObj.src);\n",
       "            }\n",
       "\n",
       "            fig.imageObj.src = (window.URL || window.webkitURL).createObjectURL(\n",
       "                evt.data);\n",
       "            fig.updated_canvas_event();\n",
       "            fig.waiting = false;\n",
       "            return;\n",
       "        }\n",
       "        else if (typeof evt.data === 'string' && evt.data.slice(0, 21) == \"data:image/png;base64\") {\n",
       "            fig.imageObj.src = evt.data;\n",
       "            fig.updated_canvas_event();\n",
       "            fig.waiting = false;\n",
       "            return;\n",
       "        }\n",
       "\n",
       "        var msg = JSON.parse(evt.data);\n",
       "        var msg_type = msg['type'];\n",
       "\n",
       "        // Call the  \"handle_{type}\" callback, which takes\n",
       "        // the figure and JSON message as its only arguments.\n",
       "        try {\n",
       "            var callback = fig[\"handle_\" + msg_type];\n",
       "        } catch (e) {\n",
       "            console.log(\"No handler for the '\" + msg_type + \"' message type: \", msg);\n",
       "            return;\n",
       "        }\n",
       "\n",
       "        if (callback) {\n",
       "            try {\n",
       "                // console.log(\"Handling '\" + msg_type + \"' message: \", msg);\n",
       "                callback(fig, msg);\n",
       "            } catch (e) {\n",
       "                console.log(\"Exception inside the 'handler_\" + msg_type + \"' callback:\", e, e.stack, msg);\n",
       "            }\n",
       "        }\n",
       "    };\n",
       "}\n",
       "\n",
       "// from http://stackoverflow.com/questions/1114465/getting-mouse-location-in-canvas\n",
       "mpl.findpos = function(e) {\n",
       "    //this section is from http://www.quirksmode.org/js/events_properties.html\n",
       "    var targ;\n",
       "    if (!e)\n",
       "        e = window.event;\n",
       "    if (e.target)\n",
       "        targ = e.target;\n",
       "    else if (e.srcElement)\n",
       "        targ = e.srcElement;\n",
       "    if (targ.nodeType == 3) // defeat Safari bug\n",
       "        targ = targ.parentNode;\n",
       "\n",
       "    // jQuery normalizes the pageX and pageY\n",
       "    // pageX,Y are the mouse positions relative to the document\n",
       "    // offset() returns the position of the element relative to the document\n",
       "    var x = e.pageX - $(targ).offset().left;\n",
       "    var y = e.pageY - $(targ).offset().top;\n",
       "\n",
       "    return {\"x\": x, \"y\": y};\n",
       "};\n",
       "\n",
       "/*\n",
       " * return a copy of an object with only non-object keys\n",
       " * we need this to avoid circular references\n",
       " * http://stackoverflow.com/a/24161582/3208463\n",
       " */\n",
       "function simpleKeys (original) {\n",
       "  return Object.keys(original).reduce(function (obj, key) {\n",
       "    if (typeof original[key] !== 'object')\n",
       "        obj[key] = original[key]\n",
       "    return obj;\n",
       "  }, {});\n",
       "}\n",
       "\n",
       "mpl.figure.prototype.mouse_event = function(event, name) {\n",
       "    var canvas_pos = mpl.findpos(event)\n",
       "\n",
       "    if (name === 'button_press')\n",
       "    {\n",
       "        this.canvas.focus();\n",
       "        this.canvas_div.focus();\n",
       "    }\n",
       "\n",
       "    var x = canvas_pos.x * mpl.ratio;\n",
       "    var y = canvas_pos.y * mpl.ratio;\n",
       "\n",
       "    this.send_message(name, {x: x, y: y, button: event.button,\n",
       "                             step: event.step,\n",
       "                             guiEvent: simpleKeys(event)});\n",
       "\n",
       "    /* This prevents the web browser from automatically changing to\n",
       "     * the text insertion cursor when the button is pressed.  We want\n",
       "     * to control all of the cursor setting manually through the\n",
       "     * 'cursor' event from matplotlib */\n",
       "    event.preventDefault();\n",
       "    return false;\n",
       "}\n",
       "\n",
       "mpl.figure.prototype._key_event_extra = function(event, name) {\n",
       "    // Handle any extra behaviour associated with a key event\n",
       "}\n",
       "\n",
       "mpl.figure.prototype.key_event = function(event, name) {\n",
       "\n",
       "    // Prevent repeat events\n",
       "    if (name == 'key_press')\n",
       "    {\n",
       "        if (event.which === this._key)\n",
       "            return;\n",
       "        else\n",
       "            this._key = event.which;\n",
       "    }\n",
       "    if (name == 'key_release')\n",
       "        this._key = null;\n",
       "\n",
       "    var value = '';\n",
       "    if (event.ctrlKey && event.which != 17)\n",
       "        value += \"ctrl+\";\n",
       "    if (event.altKey && event.which != 18)\n",
       "        value += \"alt+\";\n",
       "    if (event.shiftKey && event.which != 16)\n",
       "        value += \"shift+\";\n",
       "\n",
       "    value += 'k';\n",
       "    value += event.which.toString();\n",
       "\n",
       "    this._key_event_extra(event, name);\n",
       "\n",
       "    this.send_message(name, {key: value,\n",
       "                             guiEvent: simpleKeys(event)});\n",
       "    return false;\n",
       "}\n",
       "\n",
       "mpl.figure.prototype.toolbar_button_onclick = function(name) {\n",
       "    if (name == 'download') {\n",
       "        this.handle_save(this, null);\n",
       "    } else {\n",
       "        this.send_message(\"toolbar_button\", {name: name});\n",
       "    }\n",
       "};\n",
       "\n",
       "mpl.figure.prototype.toolbar_button_onmouseover = function(tooltip) {\n",
       "    this.message.textContent = tooltip;\n",
       "};\n",
       "mpl.toolbar_items = [[\"Home\", \"Reset original view\", \"fa fa-home icon-home\", \"home\"], [\"Back\", \"Back to previous view\", \"fa fa-arrow-left icon-arrow-left\", \"back\"], [\"Forward\", \"Forward to next view\", \"fa fa-arrow-right icon-arrow-right\", \"forward\"], [\"\", \"\", \"\", \"\"], [\"Pan\", \"Pan axes with left mouse, zoom with right\", \"fa fa-arrows icon-move\", \"pan\"], [\"Zoom\", \"Zoom to rectangle\", \"fa fa-square-o icon-check-empty\", \"zoom\"], [\"\", \"\", \"\", \"\"], [\"Download\", \"Download plot\", \"fa fa-floppy-o icon-save\", \"download\"]];\n",
       "\n",
       "mpl.extensions = [\"eps\", \"jpeg\", \"pdf\", \"png\", \"ps\", \"raw\", \"svg\", \"tif\"];\n",
       "\n",
       "mpl.default_extension = \"png\";var comm_websocket_adapter = function(comm) {\n",
       "    // Create a \"websocket\"-like object which calls the given IPython comm\n",
       "    // object with the appropriate methods. Currently this is a non binary\n",
       "    // socket, so there is still some room for performance tuning.\n",
       "    var ws = {};\n",
       "\n",
       "    ws.close = function() {\n",
       "        comm.close()\n",
       "    };\n",
       "    ws.send = function(m) {\n",
       "        //console.log('sending', m);\n",
       "        comm.send(m);\n",
       "    };\n",
       "    // Register the callback with on_msg.\n",
       "    comm.on_msg(function(msg) {\n",
       "        //console.log('receiving', msg['content']['data'], msg);\n",
       "        // Pass the mpl event to the overridden (by mpl) onmessage function.\n",
       "        ws.onmessage(msg['content']['data'])\n",
       "    });\n",
       "    return ws;\n",
       "}\n",
       "\n",
       "mpl.mpl_figure_comm = function(comm, msg) {\n",
       "    // This is the function which gets called when the mpl process\n",
       "    // starts-up an IPython Comm through the \"matplotlib\" channel.\n",
       "\n",
       "    var id = msg.content.data.id;\n",
       "    // Get hold of the div created by the display call when the Comm\n",
       "    // socket was opened in Python.\n",
       "    var element = $(\"#\" + id);\n",
       "    var ws_proxy = comm_websocket_adapter(comm)\n",
       "\n",
       "    function ondownload(figure, format) {\n",
       "        window.open(figure.imageObj.src);\n",
       "    }\n",
       "\n",
       "    var fig = new mpl.figure(id, ws_proxy,\n",
       "                           ondownload,\n",
       "                           element.get(0));\n",
       "\n",
       "    // Call onopen now - mpl needs it, as it is assuming we've passed it a real\n",
       "    // web socket which is closed, not our websocket->open comm proxy.\n",
       "    ws_proxy.onopen();\n",
       "\n",
       "    fig.parent_element = element.get(0);\n",
       "    fig.cell_info = mpl.find_output_cell(\"<div id='\" + id + \"'></div>\");\n",
       "    if (!fig.cell_info) {\n",
       "        console.error(\"Failed to find cell for figure\", id, fig);\n",
       "        return;\n",
       "    }\n",
       "\n",
       "    var output_index = fig.cell_info[2]\n",
       "    var cell = fig.cell_info[0];\n",
       "\n",
       "};\n",
       "\n",
       "mpl.figure.prototype.handle_close = function(fig, msg) {\n",
       "    var width = fig.canvas.width/mpl.ratio\n",
       "    fig.root.unbind('remove')\n",
       "\n",
       "    // Update the output cell to use the data from the current canvas.\n",
       "    fig.push_to_output();\n",
       "    var dataURL = fig.canvas.toDataURL();\n",
       "    // Re-enable the keyboard manager in IPython - without this line, in FF,\n",
       "    // the notebook keyboard shortcuts fail.\n",
       "    IPython.keyboard_manager.enable()\n",
       "    $(fig.parent_element).html('<img src=\"' + dataURL + '\" width=\"' + width + '\">');\n",
       "    fig.close_ws(fig, msg);\n",
       "}\n",
       "\n",
       "mpl.figure.prototype.close_ws = function(fig, msg){\n",
       "    fig.send_message('closing', msg);\n",
       "    // fig.ws.close()\n",
       "}\n",
       "\n",
       "mpl.figure.prototype.push_to_output = function(remove_interactive) {\n",
       "    // Turn the data on the canvas into data in the output cell.\n",
       "    var width = this.canvas.width/mpl.ratio\n",
       "    var dataURL = this.canvas.toDataURL();\n",
       "    this.cell_info[1]['text/html'] = '<img src=\"' + dataURL + '\" width=\"' + width + '\">';\n",
       "}\n",
       "\n",
       "mpl.figure.prototype.updated_canvas_event = function() {\n",
       "    // Tell IPython that the notebook contents must change.\n",
       "    IPython.notebook.set_dirty(true);\n",
       "    this.send_message(\"ack\", {});\n",
       "    var fig = this;\n",
       "    // Wait a second, then push the new image to the DOM so\n",
       "    // that it is saved nicely (might be nice to debounce this).\n",
       "    setTimeout(function () { fig.push_to_output() }, 1000);\n",
       "}\n",
       "\n",
       "mpl.figure.prototype._init_toolbar = function() {\n",
       "    var fig = this;\n",
       "\n",
       "    var nav_element = $('<div/>')\n",
       "    nav_element.attr('style', 'width: 100%');\n",
       "    this.root.append(nav_element);\n",
       "\n",
       "    // Define a callback function for later on.\n",
       "    function toolbar_event(event) {\n",
       "        return fig.toolbar_button_onclick(event['data']);\n",
       "    }\n",
       "    function toolbar_mouse_event(event) {\n",
       "        return fig.toolbar_button_onmouseover(event['data']);\n",
       "    }\n",
       "\n",
       "    for(var toolbar_ind in mpl.toolbar_items){\n",
       "        var name = mpl.toolbar_items[toolbar_ind][0];\n",
       "        var tooltip = mpl.toolbar_items[toolbar_ind][1];\n",
       "        var image = mpl.toolbar_items[toolbar_ind][2];\n",
       "        var method_name = mpl.toolbar_items[toolbar_ind][3];\n",
       "\n",
       "        if (!name) { continue; };\n",
       "\n",
       "        var button = $('<button class=\"btn btn-default\" href=\"#\" title=\"' + name + '\"><i class=\"fa ' + image + ' fa-lg\"></i></button>');\n",
       "        button.click(method_name, toolbar_event);\n",
       "        button.mouseover(tooltip, toolbar_mouse_event);\n",
       "        nav_element.append(button);\n",
       "    }\n",
       "\n",
       "    // Add the status bar.\n",
       "    var status_bar = $('<span class=\"mpl-message\" style=\"text-align:right; float: right;\"/>');\n",
       "    nav_element.append(status_bar);\n",
       "    this.message = status_bar[0];\n",
       "\n",
       "    // Add the close button to the window.\n",
       "    var buttongrp = $('<div class=\"btn-group inline pull-right\"></div>');\n",
       "    var button = $('<button class=\"btn btn-mini btn-primary\" href=\"#\" title=\"Stop Interaction\"><i class=\"fa fa-power-off icon-remove icon-large\"></i></button>');\n",
       "    button.click(function (evt) { fig.handle_close(fig, {}); } );\n",
       "    button.mouseover('Stop Interaction', toolbar_mouse_event);\n",
       "    buttongrp.append(button);\n",
       "    var titlebar = this.root.find($('.ui-dialog-titlebar'));\n",
       "    titlebar.prepend(buttongrp);\n",
       "}\n",
       "\n",
       "mpl.figure.prototype._root_extra_style = function(el){\n",
       "    var fig = this\n",
       "    el.on(\"remove\", function(){\n",
       "\tfig.close_ws(fig, {});\n",
       "    });\n",
       "}\n",
       "\n",
       "mpl.figure.prototype._canvas_extra_style = function(el){\n",
       "    // this is important to make the div 'focusable\n",
       "    el.attr('tabindex', 0)\n",
       "    // reach out to IPython and tell the keyboard manager to turn it's self\n",
       "    // off when our div gets focus\n",
       "\n",
       "    // location in version 3\n",
       "    if (IPython.notebook.keyboard_manager) {\n",
       "        IPython.notebook.keyboard_manager.register_events(el);\n",
       "    }\n",
       "    else {\n",
       "        // location in version 2\n",
       "        IPython.keyboard_manager.register_events(el);\n",
       "    }\n",
       "\n",
       "}\n",
       "\n",
       "mpl.figure.prototype._key_event_extra = function(event, name) {\n",
       "    var manager = IPython.notebook.keyboard_manager;\n",
       "    if (!manager)\n",
       "        manager = IPython.keyboard_manager;\n",
       "\n",
       "    // Check for shift+enter\n",
       "    if (event.shiftKey && event.which == 13) {\n",
       "        this.canvas_div.blur();\n",
       "        event.shiftKey = false;\n",
       "        // Send a \"J\" for go to next cell\n",
       "        event.which = 74;\n",
       "        event.keyCode = 74;\n",
       "        manager.command_mode();\n",
       "        manager.handle_keydown(event);\n",
       "    }\n",
       "}\n",
       "\n",
       "mpl.figure.prototype.handle_save = function(fig, msg) {\n",
       "    fig.ondownload(fig, null);\n",
       "}\n",
       "\n",
       "\n",
       "mpl.find_output_cell = function(html_output) {\n",
       "    // Return the cell and output element which can be found *uniquely* in the notebook.\n",
       "    // Note - this is a bit hacky, but it is done because the \"notebook_saving.Notebook\"\n",
       "    // IPython event is triggered only after the cells have been serialised, which for\n",
       "    // our purposes (turning an active figure into a static one), is too late.\n",
       "    var cells = IPython.notebook.get_cells();\n",
       "    var ncells = cells.length;\n",
       "    for (var i=0; i<ncells; i++) {\n",
       "        var cell = cells[i];\n",
       "        if (cell.cell_type === 'code'){\n",
       "            for (var j=0; j<cell.output_area.outputs.length; j++) {\n",
       "                var data = cell.output_area.outputs[j];\n",
       "                if (data.data) {\n",
       "                    // IPython >= 3 moved mimebundle to data attribute of output\n",
       "                    data = data.data;\n",
       "                }\n",
       "                if (data['text/html'] == html_output) {\n",
       "                    return [cell, data, j];\n",
       "                }\n",
       "            }\n",
       "        }\n",
       "    }\n",
       "}\n",
       "\n",
       "// Register the function which deals with the matplotlib target/channel.\n",
       "// The kernel may be null if the page has been refreshed.\n",
       "if (IPython.notebook.kernel != null) {\n",
       "    IPython.notebook.kernel.comm_manager.register_target('matplotlib', mpl.mpl_figure_comm);\n",
       "}\n"
      ],
      "text/plain": [
       "<IPython.core.display.Javascript object>"
      ]
     },
     "metadata": {},
     "output_type": "display_data"
    },
    {
     "data": {
      "text/html": [
       "<img src=\"data:image/png;base64,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\" width=\"640\">"
      ],
      "text/plain": [
       "<IPython.core.display.HTML object>"
      ]
     },
     "metadata": {},
     "output_type": "display_data"
    },
    {
     "data": {
      "text/plain": [
       "<matplotlib.image.AxesImage at 0x1c01e5611d0>"
      ]
     },
     "execution_count": 24,
     "metadata": {},
     "output_type": "execute_result"
    },
    {
     "data": {
      "text/plain": [
       "<matplotlib.image.AxesImage at 0x1c01e5e5470>"
      ]
     },
     "execution_count": 24,
     "metadata": {},
     "output_type": "execute_result"
    },
    {
     "data": {
      "text/plain": [
       "<matplotlib.image.AxesImage at 0x1c01e5d7400>"
      ]
     },
     "execution_count": 24,
     "metadata": {},
     "output_type": "execute_result"
    },
    {
     "data": {
      "text/plain": [
       "<matplotlib.image.AxesImage at 0x1c01e5c96d8>"
      ]
     },
     "execution_count": 24,
     "metadata": {},
     "output_type": "execute_result"
    },
    {
     "data": {
      "text/plain": [
       "<matplotlib.image.AxesImage at 0x1c01e5deeb8>"
      ]
     },
     "execution_count": 24,
     "metadata": {},
     "output_type": "execute_result"
    },
    {
     "data": {
      "text/plain": [
       "<matplotlib.image.AxesImage at 0x1c01e5c9e80>"
      ]
     },
     "execution_count": 24,
     "metadata": {},
     "output_type": "execute_result"
    },
    {
     "data": {
      "text/plain": [
       "<matplotlib.image.AxesImage at 0x1c01e5c9a20>"
      ]
     },
     "execution_count": 24,
     "metadata": {},
     "output_type": "execute_result"
    },
    {
     "data": {
      "text/plain": [
       "<matplotlib.image.AxesImage at 0x1c01e5ed128>"
      ]
     },
     "execution_count": 24,
     "metadata": {},
     "output_type": "execute_result"
    },
    {
     "data": {
      "text/plain": [
       "<matplotlib.image.AxesImage at 0x1c01e5de438>"
      ]
     },
     "execution_count": 24,
     "metadata": {},
     "output_type": "execute_result"
    },
    {
     "data": {
      "text/plain": [
       "<matplotlib.image.AxesImage at 0x1c01d418f60>"
      ]
     },
     "execution_count": 24,
     "metadata": {},
     "output_type": "execute_result"
    },
    {
     "data": {
      "text/plain": [
       "<matplotlib.image.AxesImage at 0x1c01e5c3c18>"
      ]
     },
     "execution_count": 24,
     "metadata": {},
     "output_type": "execute_result"
    },
    {
     "data": {
      "text/plain": [
       "<matplotlib.image.AxesImage at 0x1c01d4183c8>"
      ]
     },
     "execution_count": 24,
     "metadata": {},
     "output_type": "execute_result"
    },
    {
     "data": {
      "text/plain": [
       "<matplotlib.image.AxesImage at 0x1c01e5c9a58>"
      ]
     },
     "execution_count": 24,
     "metadata": {},
     "output_type": "execute_result"
    },
    {
     "data": {
      "text/plain": [
       "<matplotlib.image.AxesImage at 0x1c01e5c33c8>"
      ]
     },
     "execution_count": 24,
     "metadata": {},
     "output_type": "execute_result"
    },
    {
     "data": {
      "text/plain": [
       "<matplotlib.image.AxesImage at 0x1c019aa7cc0>"
      ]
     },
     "execution_count": 24,
     "metadata": {},
     "output_type": "execute_result"
    },
    {
     "data": {
      "text/plain": [
       "<matplotlib.image.AxesImage at 0x1c01e5edeb8>"
      ]
     },
     "execution_count": 24,
     "metadata": {},
     "output_type": "execute_result"
    },
    {
     "data": {
      "text/plain": [
       "<matplotlib.image.AxesImage at 0x1c01d418ac8>"
      ]
     },
     "execution_count": 24,
     "metadata": {},
     "output_type": "execute_result"
    },
    {
     "data": {
      "text/plain": [
       "<matplotlib.image.AxesImage at 0x1c01d4186a0>"
      ]
     },
     "execution_count": 24,
     "metadata": {},
     "output_type": "execute_result"
    },
    {
     "data": {
      "text/plain": [
       "<matplotlib.image.AxesImage at 0x1c01e5c9fd0>"
      ]
     },
     "execution_count": 24,
     "metadata": {},
     "output_type": "execute_result"
    },
    {
     "data": {
      "text/plain": [
       "<matplotlib.image.AxesImage at 0x1c01d418940>"
      ]
     },
     "execution_count": 24,
     "metadata": {},
     "output_type": "execute_result"
    },
    {
     "data": {
      "text/plain": [
       "<matplotlib.image.AxesImage at 0x1c01d4189e8>"
      ]
     },
     "execution_count": 24,
     "metadata": {},
     "output_type": "execute_result"
    },
    {
     "data": {
      "text/plain": [
       "<matplotlib.image.AxesImage at 0x1c01d448c50>"
      ]
     },
     "execution_count": 24,
     "metadata": {},
     "output_type": "execute_result"
    },
    {
     "data": {
      "text/plain": [
       "<matplotlib.image.AxesImage at 0x1c01e5e5438>"
      ]
     },
     "execution_count": 24,
     "metadata": {},
     "output_type": "execute_result"
    },
    {
     "data": {
      "text/plain": [
       "<matplotlib.image.AxesImage at 0x1c01d4485f8>"
      ]
     },
     "execution_count": 24,
     "metadata": {},
     "output_type": "execute_result"
    },
    {
     "data": {
      "text/plain": [
       "<matplotlib.image.AxesImage at 0x1c01e5ba9e8>"
      ]
     },
     "execution_count": 24,
     "metadata": {},
     "output_type": "execute_result"
    },
    {
     "data": {
      "text/plain": [
       "<matplotlib.image.AxesImage at 0x1c01d446f60>"
      ]
     },
     "execution_count": 24,
     "metadata": {},
     "output_type": "execute_result"
    },
    {
     "data": {
      "text/plain": [
       "<matplotlib.image.AxesImage at 0x1c01e5edef0>"
      ]
     },
     "execution_count": 24,
     "metadata": {},
     "output_type": "execute_result"
    },
    {
     "data": {
      "text/plain": [
       "<matplotlib.image.AxesImage at 0x1c01e5ed978>"
      ]
     },
     "execution_count": 24,
     "metadata": {},
     "output_type": "execute_result"
    },
    {
     "data": {
      "text/plain": [
       "<matplotlib.image.AxesImage at 0x1c01e5d72e8>"
      ]
     },
     "execution_count": 24,
     "metadata": {},
     "output_type": "execute_result"
    },
    {
     "data": {
      "text/plain": [
       "<matplotlib.image.AxesImage at 0x1c01e5def98>"
      ]
     },
     "execution_count": 24,
     "metadata": {},
     "output_type": "execute_result"
    },
    {
     "data": {
      "text/plain": [
       "<matplotlib.image.AxesImage at 0x1c01e5dec50>"
      ]
     },
     "execution_count": 24,
     "metadata": {},
     "output_type": "execute_result"
    },
    {
     "data": {
      "text/plain": [
       "<matplotlib.image.AxesImage at 0x1c01d434f60>"
      ]
     },
     "execution_count": 24,
     "metadata": {},
     "output_type": "execute_result"
    },
    {
     "data": {
      "text/plain": [
       "<matplotlib.image.AxesImage at 0x1c01d448080>"
      ]
     },
     "execution_count": 24,
     "metadata": {},
     "output_type": "execute_result"
    },
    {
     "data": {
      "text/plain": [
       "<matplotlib.image.AxesImage at 0x1c01e577e48>"
      ]
     },
     "execution_count": 24,
     "metadata": {},
     "output_type": "execute_result"
    },
    {
     "data": {
      "text/plain": [
       "<matplotlib.image.AxesImage at 0x1c01e5777f0>"
      ]
     },
     "execution_count": 24,
     "metadata": {},
     "output_type": "execute_result"
    },
    {
     "data": {
      "text/plain": [
       "<matplotlib.image.AxesImage at 0x1c01e577c50>"
      ]
     },
     "execution_count": 24,
     "metadata": {},
     "output_type": "execute_result"
    },
    {
     "data": {
      "text/plain": [
       "<matplotlib.image.AxesImage at 0x1c01e5ba048>"
      ]
     },
     "execution_count": 24,
     "metadata": {},
     "output_type": "execute_result"
    },
    {
     "data": {
      "text/plain": [
       "<matplotlib.image.AxesImage at 0x1c01d448a20>"
      ]
     },
     "execution_count": 24,
     "metadata": {},
     "output_type": "execute_result"
    },
    {
     "data": {
      "text/plain": [
       "<matplotlib.image.AxesImage at 0x1c01d448d30>"
      ]
     },
     "execution_count": 24,
     "metadata": {},
     "output_type": "execute_result"
    },
    {
     "data": {
      "text/plain": [
       "<matplotlib.image.AxesImage at 0x1c01e577080>"
      ]
     },
     "execution_count": 24,
     "metadata": {},
     "output_type": "execute_result"
    },
    {
     "data": {
      "text/plain": [
       "<matplotlib.image.AxesImage at 0x1c01d448ac8>"
      ]
     },
     "execution_count": 24,
     "metadata": {},
     "output_type": "execute_result"
    },
    {
     "data": {
      "text/plain": [
       "<matplotlib.image.AxesImage at 0x1c01d434400>"
      ]
     },
     "execution_count": 24,
     "metadata": {},
     "output_type": "execute_result"
    },
    {
     "data": {
      "text/plain": [
       "<matplotlib.image.AxesImage at 0x1c01e589588>"
      ]
     },
     "execution_count": 24,
     "metadata": {},
     "output_type": "execute_result"
    },
    {
     "data": {
      "text/plain": [
       "<matplotlib.image.AxesImage at 0x1c01e577828>"
      ]
     },
     "execution_count": 24,
     "metadata": {},
     "output_type": "execute_result"
    },
    {
     "data": {
      "text/plain": [
       "<matplotlib.image.AxesImage at 0x1c01e577a20>"
      ]
     },
     "execution_count": 24,
     "metadata": {},
     "output_type": "execute_result"
    },
    {
     "data": {
      "text/plain": [
       "<matplotlib.image.AxesImage at 0x1c01e5a3e48>"
      ]
     },
     "execution_count": 24,
     "metadata": {},
     "output_type": "execute_result"
    },
    {
     "data": {
      "text/plain": [
       "<matplotlib.image.AxesImage at 0x1c01d446c50>"
      ]
     },
     "execution_count": 24,
     "metadata": {},
     "output_type": "execute_result"
    },
    {
     "data": {
      "text/plain": [
       "<matplotlib.image.AxesImage at 0x1c01e5a3908>"
      ]
     },
     "execution_count": 24,
     "metadata": {},
     "output_type": "execute_result"
    },
    {
     "data": {
      "text/plain": [
       "<matplotlib.image.AxesImage at 0x1c01e5c9400>"
      ]
     },
     "execution_count": 24,
     "metadata": {},
     "output_type": "execute_result"
    },
    {
     "data": {
      "text/plain": [
       "<matplotlib.image.AxesImage at 0x1c01e589e48>"
      ]
     },
     "execution_count": 24,
     "metadata": {},
     "output_type": "execute_result"
    },
    {
     "data": {
      "text/plain": [
       "<matplotlib.image.AxesImage at 0x1c01e5775c0>"
      ]
     },
     "execution_count": 24,
     "metadata": {},
     "output_type": "execute_result"
    },
    {
     "data": {
      "text/plain": [
       "<matplotlib.image.AxesImage at 0x1c01e589048>"
      ]
     },
     "execution_count": 24,
     "metadata": {},
     "output_type": "execute_result"
    },
    {
     "data": {
      "text/plain": [
       "<matplotlib.image.AxesImage at 0x1c01e5ed5c0>"
      ]
     },
     "execution_count": 24,
     "metadata": {},
     "output_type": "execute_result"
    },
    {
     "data": {
      "text/plain": [
       "<matplotlib.image.AxesImage at 0x1c01e5f0438>"
      ]
     },
     "execution_count": 24,
     "metadata": {},
     "output_type": "execute_result"
    },
    {
     "data": {
      "text/plain": [
       "<matplotlib.image.AxesImage at 0x1c01e5edda0>"
      ]
     },
     "execution_count": 24,
     "metadata": {},
     "output_type": "execute_result"
    },
    {
     "data": {
      "text/plain": [
       "<matplotlib.image.AxesImage at 0x1c01d446a20>"
      ]
     },
     "execution_count": 24,
     "metadata": {},
     "output_type": "execute_result"
    },
    {
     "data": {
      "text/plain": [
       "<matplotlib.image.AxesImage at 0x1c01e5a39b0>"
      ]
     },
     "execution_count": 24,
     "metadata": {},
     "output_type": "execute_result"
    },
    {
     "data": {
      "text/plain": [
       "<matplotlib.image.AxesImage at 0x1c01e6020f0>"
      ]
     },
     "execution_count": 24,
     "metadata": {},
     "output_type": "execute_result"
    },
    {
     "data": {
      "text/plain": [
       "<matplotlib.image.AxesImage at 0x1c01d446128>"
      ]
     },
     "execution_count": 24,
     "metadata": {},
     "output_type": "execute_result"
    },
    {
     "data": {
      "text/plain": [
       "<matplotlib.image.AxesImage at 0x1c01d446080>"
      ]
     },
     "execution_count": 24,
     "metadata": {},
     "output_type": "execute_result"
    },
    {
     "data": {
      "text/plain": [
       "<matplotlib.image.AxesImage at 0x1c01d446160>"
      ]
     },
     "execution_count": 24,
     "metadata": {},
     "output_type": "execute_result"
    },
    {
     "data": {
      "text/plain": [
       "<matplotlib.image.AxesImage at 0x1c01e5f0a58>"
      ]
     },
     "execution_count": 24,
     "metadata": {},
     "output_type": "execute_result"
    },
    {
     "data": {
      "text/plain": [
       "<matplotlib.image.AxesImage at 0x1c01d4460f0>"
      ]
     },
     "execution_count": 24,
     "metadata": {},
     "output_type": "execute_result"
    },
    {
     "data": {
      "text/plain": [
       "<matplotlib.image.AxesImage at 0x1c01e589cc0>"
      ]
     },
     "execution_count": 24,
     "metadata": {},
     "output_type": "execute_result"
    },
    {
     "data": {
      "text/plain": [
       "<matplotlib.image.AxesImage at 0x1c01e5a3a20>"
      ]
     },
     "execution_count": 24,
     "metadata": {},
     "output_type": "execute_result"
    },
    {
     "data": {
      "text/plain": [
       "<matplotlib.image.AxesImage at 0x1c01e612ef0>"
      ]
     },
     "execution_count": 24,
     "metadata": {},
     "output_type": "execute_result"
    },
    {
     "data": {
      "text/plain": [
       "<matplotlib.image.AxesImage at 0x1c01e577208>"
      ]
     },
     "execution_count": 24,
     "metadata": {},
     "output_type": "execute_result"
    },
    {
     "data": {
      "text/plain": [
       "<matplotlib.image.AxesImage at 0x1c01e5f0c88>"
      ]
     },
     "execution_count": 24,
     "metadata": {},
     "output_type": "execute_result"
    },
    {
     "data": {
      "text/plain": [
       "<matplotlib.image.AxesImage at 0x1c01d446550>"
      ]
     },
     "execution_count": 24,
     "metadata": {},
     "output_type": "execute_result"
    },
    {
     "data": {
      "text/plain": [
       "<matplotlib.image.AxesImage at 0x1c01e5a3198>"
      ]
     },
     "execution_count": 24,
     "metadata": {},
     "output_type": "execute_result"
    },
    {
     "data": {
      "text/plain": [
       "<matplotlib.image.AxesImage at 0x1c01e5895f8>"
      ]
     },
     "execution_count": 24,
     "metadata": {},
     "output_type": "execute_result"
    },
    {
     "data": {
      "text/plain": [
       "<matplotlib.image.AxesImage at 0x1c01e602ef0>"
      ]
     },
     "execution_count": 24,
     "metadata": {},
     "output_type": "execute_result"
    },
    {
     "data": {
      "text/plain": [
       "<matplotlib.image.AxesImage at 0x1c01e602c50>"
      ]
     },
     "execution_count": 24,
     "metadata": {},
     "output_type": "execute_result"
    },
    {
     "data": {
      "text/plain": [
       "<matplotlib.image.AxesImage at 0x1c01e627fd0>"
      ]
     },
     "execution_count": 24,
     "metadata": {},
     "output_type": "execute_result"
    },
    {
     "data": {
      "text/plain": [
       "<matplotlib.image.AxesImage at 0x1c01e6024a8>"
      ]
     },
     "execution_count": 24,
     "metadata": {},
     "output_type": "execute_result"
    },
    {
     "data": {
      "text/plain": [
       "<matplotlib.image.AxesImage at 0x1c01e602d68>"
      ]
     },
     "execution_count": 24,
     "metadata": {},
     "output_type": "execute_result"
    },
    {
     "data": {
      "text/plain": [
       "<matplotlib.image.AxesImage at 0x1c01e612550>"
      ]
     },
     "execution_count": 24,
     "metadata": {},
     "output_type": "execute_result"
    },
    {
     "data": {
      "text/plain": [
       "<matplotlib.image.AxesImage at 0x1c01d117d30>"
      ]
     },
     "execution_count": 24,
     "metadata": {},
     "output_type": "execute_result"
    },
    {
     "data": {
      "text/plain": [
       "<matplotlib.image.AxesImage at 0x1c01d1171d0>"
      ]
     },
     "execution_count": 24,
     "metadata": {},
     "output_type": "execute_result"
    },
    {
     "data": {
      "text/plain": [
       "<matplotlib.image.AxesImage at 0x1c01d117518>"
      ]
     },
     "execution_count": 24,
     "metadata": {},
     "output_type": "execute_result"
    },
    {
     "data": {
      "text/plain": [
       "<matplotlib.image.AxesImage at 0x1c01d117940>"
      ]
     },
     "execution_count": 24,
     "metadata": {},
     "output_type": "execute_result"
    },
    {
     "data": {
      "text/plain": [
       "<matplotlib.image.AxesImage at 0x1c01e627208>"
      ]
     },
     "execution_count": 24,
     "metadata": {},
     "output_type": "execute_result"
    },
    {
     "data": {
      "text/plain": [
       "<matplotlib.image.AxesImage at 0x1c01e5c9748>"
      ]
     },
     "execution_count": 24,
     "metadata": {},
     "output_type": "execute_result"
    },
    {
     "data": {
      "text/plain": [
       "<matplotlib.image.AxesImage at 0x1c01e627550>"
      ]
     },
     "execution_count": 24,
     "metadata": {},
     "output_type": "execute_result"
    },
    {
     "data": {
      "text/plain": [
       "<matplotlib.image.AxesImage at 0x1c01e5edf60>"
      ]
     },
     "execution_count": 24,
     "metadata": {},
     "output_type": "execute_result"
    },
    {
     "data": {
      "text/plain": [
       "<matplotlib.image.AxesImage at 0x1c01d10d518>"
      ]
     },
     "execution_count": 24,
     "metadata": {},
     "output_type": "execute_result"
    },
    {
     "data": {
      "text/plain": [
       "<matplotlib.image.AxesImage at 0x1c01d117eb8>"
      ]
     },
     "execution_count": 24,
     "metadata": {},
     "output_type": "execute_result"
    },
    {
     "data": {
      "text/plain": [
       "<matplotlib.image.AxesImage at 0x1c01d10dc50>"
      ]
     },
     "execution_count": 24,
     "metadata": {},
     "output_type": "execute_result"
    },
    {
     "data": {
      "text/plain": [
       "<matplotlib.image.AxesImage at 0x1c01e6120f0>"
      ]
     },
     "execution_count": 24,
     "metadata": {},
     "output_type": "execute_result"
    },
    {
     "data": {
      "text/plain": [
       "<matplotlib.image.AxesImage at 0x1c01e612c50>"
      ]
     },
     "execution_count": 24,
     "metadata": {},
     "output_type": "execute_result"
    },
    {
     "data": {
      "text/plain": [
       "<matplotlib.image.AxesImage at 0x1c01e6271d0>"
      ]
     },
     "execution_count": 24,
     "metadata": {},
     "output_type": "execute_result"
    },
    {
     "data": {
      "text/plain": [
       "<matplotlib.image.AxesImage at 0x1c01d1176a0>"
      ]
     },
     "execution_count": 24,
     "metadata": {},
     "output_type": "execute_result"
    },
    {
     "ename": "KeyboardInterrupt",
     "evalue": "",
     "output_type": "error",
     "traceback": [
      "\u001b[1;31m---------------------------------------------------------------------------\u001b[0m",
      "\u001b[1;31mKeyboardInterrupt\u001b[0m                         Traceback (most recent call last)",
      "\u001b[1;32m<ipython-input-24-c4781d508454>\u001b[0m in \u001b[0;36m<module>\u001b[1;34m\u001b[0m\n\u001b[0;32m     33\u001b[0m     \u001b[0max\u001b[0m\u001b[1;33m[\u001b[0m\u001b[1;36m1\u001b[0m\u001b[1;33m]\u001b[0m\u001b[1;33m.\u001b[0m\u001b[0mimshow\u001b[0m\u001b[1;33m(\u001b[0m\u001b[0mnp\u001b[0m\u001b[1;33m.\u001b[0m\u001b[0muint8\u001b[0m\u001b[1;33m(\u001b[0m\u001b[0mtarget_img\u001b[0m\u001b[1;33m)\u001b[0m\u001b[1;33m)\u001b[0m\u001b[1;33m\u001b[0m\u001b[1;33m\u001b[0m\u001b[0m\n\u001b[0;32m     34\u001b[0m \u001b[1;33m\u001b[0m\u001b[0m\n\u001b[1;32m---> 35\u001b[1;33m     \u001b[0mfig\u001b[0m\u001b[1;33m.\u001b[0m\u001b[0mcanvas\u001b[0m\u001b[1;33m.\u001b[0m\u001b[0mdraw\u001b[0m\u001b[1;33m(\u001b[0m\u001b[1;33m)\u001b[0m\u001b[1;33m\u001b[0m\u001b[1;33m\u001b[0m\u001b[0m\n\u001b[0m\u001b[0;32m     36\u001b[0m     \u001b[0mtime\u001b[0m\u001b[1;33m.\u001b[0m\u001b[0msleep\u001b[0m\u001b[1;33m(\u001b[0m\u001b[1;36m1\u001b[0m\u001b[1;33m)\u001b[0m\u001b[1;33m\u001b[0m\u001b[1;33m\u001b[0m\u001b[0m\n",
      "\u001b[1;32mc:\\users\\luciano\\appdata\\local\\programs\\python\\python37\\lib\\site-packages\\matplotlib\\backends\\backend_webagg_core.py\u001b[0m in \u001b[0;36mdraw\u001b[1;34m(self)\u001b[0m\n\u001b[0;32m    148\u001b[0m         \u001b[0mself\u001b[0m\u001b[1;33m.\u001b[0m\u001b[0m_png_is_old\u001b[0m \u001b[1;33m=\u001b[0m \u001b[1;32mTrue\u001b[0m\u001b[1;33m\u001b[0m\u001b[1;33m\u001b[0m\u001b[0m\n\u001b[0;32m    149\u001b[0m         \u001b[1;32mtry\u001b[0m\u001b[1;33m:\u001b[0m\u001b[1;33m\u001b[0m\u001b[1;33m\u001b[0m\u001b[0m\n\u001b[1;32m--> 150\u001b[1;33m             \u001b[0msuper\u001b[0m\u001b[1;33m(\u001b[0m\u001b[1;33m)\u001b[0m\u001b[1;33m.\u001b[0m\u001b[0mdraw\u001b[0m\u001b[1;33m(\u001b[0m\u001b[1;33m)\u001b[0m\u001b[1;33m\u001b[0m\u001b[1;33m\u001b[0m\u001b[0m\n\u001b[0m\u001b[0;32m    151\u001b[0m         \u001b[1;32mfinally\u001b[0m\u001b[1;33m:\u001b[0m\u001b[1;33m\u001b[0m\u001b[1;33m\u001b[0m\u001b[0m\n\u001b[0;32m    152\u001b[0m             \u001b[0mself\u001b[0m\u001b[1;33m.\u001b[0m\u001b[0mmanager\u001b[0m\u001b[1;33m.\u001b[0m\u001b[0mrefresh_all\u001b[0m\u001b[1;33m(\u001b[0m\u001b[1;33m)\u001b[0m  \u001b[1;31m# Swap the frames.\u001b[0m\u001b[1;33m\u001b[0m\u001b[1;33m\u001b[0m\u001b[0m\n",
      "\u001b[1;32mc:\\users\\luciano\\appdata\\local\\programs\\python\\python37\\lib\\site-packages\\matplotlib\\backends\\backend_agg.py\u001b[0m in \u001b[0;36mdraw\u001b[1;34m(self)\u001b[0m\n\u001b[0;32m    400\u001b[0m         \u001b[0mtoolbar\u001b[0m \u001b[1;33m=\u001b[0m \u001b[0mself\u001b[0m\u001b[1;33m.\u001b[0m\u001b[0mtoolbar\u001b[0m\u001b[1;33m\u001b[0m\u001b[1;33m\u001b[0m\u001b[0m\n\u001b[0;32m    401\u001b[0m         \u001b[1;32mtry\u001b[0m\u001b[1;33m:\u001b[0m\u001b[1;33m\u001b[0m\u001b[1;33m\u001b[0m\u001b[0m\n\u001b[1;32m--> 402\u001b[1;33m             \u001b[0mself\u001b[0m\u001b[1;33m.\u001b[0m\u001b[0mfigure\u001b[0m\u001b[1;33m.\u001b[0m\u001b[0mdraw\u001b[0m\u001b[1;33m(\u001b[0m\u001b[0mself\u001b[0m\u001b[1;33m.\u001b[0m\u001b[0mrenderer\u001b[0m\u001b[1;33m)\u001b[0m\u001b[1;33m\u001b[0m\u001b[1;33m\u001b[0m\u001b[0m\n\u001b[0m\u001b[0;32m    403\u001b[0m             \u001b[1;31m# A GUI class may be need to update a window using this draw, so\u001b[0m\u001b[1;33m\u001b[0m\u001b[1;33m\u001b[0m\u001b[1;33m\u001b[0m\u001b[0m\n\u001b[0;32m    404\u001b[0m             \u001b[1;31m# don't forget to call the superclass.\u001b[0m\u001b[1;33m\u001b[0m\u001b[1;33m\u001b[0m\u001b[1;33m\u001b[0m\u001b[0m\n",
      "\u001b[1;32mc:\\users\\luciano\\appdata\\local\\programs\\python\\python37\\lib\\site-packages\\matplotlib\\artist.py\u001b[0m in \u001b[0;36mdraw_wrapper\u001b[1;34m(artist, renderer, *args, **kwargs)\u001b[0m\n\u001b[0;32m     48\u001b[0m                 \u001b[0mrenderer\u001b[0m\u001b[1;33m.\u001b[0m\u001b[0mstart_filter\u001b[0m\u001b[1;33m(\u001b[0m\u001b[1;33m)\u001b[0m\u001b[1;33m\u001b[0m\u001b[1;33m\u001b[0m\u001b[0m\n\u001b[0;32m     49\u001b[0m \u001b[1;33m\u001b[0m\u001b[0m\n\u001b[1;32m---> 50\u001b[1;33m             \u001b[1;32mreturn\u001b[0m \u001b[0mdraw\u001b[0m\u001b[1;33m(\u001b[0m\u001b[0martist\u001b[0m\u001b[1;33m,\u001b[0m \u001b[0mrenderer\u001b[0m\u001b[1;33m,\u001b[0m \u001b[1;33m*\u001b[0m\u001b[0margs\u001b[0m\u001b[1;33m,\u001b[0m \u001b[1;33m**\u001b[0m\u001b[0mkwargs\u001b[0m\u001b[1;33m)\u001b[0m\u001b[1;33m\u001b[0m\u001b[1;33m\u001b[0m\u001b[0m\n\u001b[0m\u001b[0;32m     51\u001b[0m         \u001b[1;32mfinally\u001b[0m\u001b[1;33m:\u001b[0m\u001b[1;33m\u001b[0m\u001b[1;33m\u001b[0m\u001b[0m\n\u001b[0;32m     52\u001b[0m             \u001b[1;32mif\u001b[0m \u001b[0martist\u001b[0m\u001b[1;33m.\u001b[0m\u001b[0mget_agg_filter\u001b[0m\u001b[1;33m(\u001b[0m\u001b[1;33m)\u001b[0m \u001b[1;32mis\u001b[0m \u001b[1;32mnot\u001b[0m \u001b[1;32mNone\u001b[0m\u001b[1;33m:\u001b[0m\u001b[1;33m\u001b[0m\u001b[1;33m\u001b[0m\u001b[0m\n",
      "\u001b[1;32mc:\\users\\luciano\\appdata\\local\\programs\\python\\python37\\lib\\site-packages\\matplotlib\\figure.py\u001b[0m in \u001b[0;36mdraw\u001b[1;34m(self, renderer)\u001b[0m\n\u001b[0;32m   1647\u001b[0m \u001b[1;33m\u001b[0m\u001b[0m\n\u001b[0;32m   1648\u001b[0m             mimage._draw_list_compositing_images(\n\u001b[1;32m-> 1649\u001b[1;33m                 renderer, self, artists, self.suppressComposite)\n\u001b[0m\u001b[0;32m   1650\u001b[0m \u001b[1;33m\u001b[0m\u001b[0m\n\u001b[0;32m   1651\u001b[0m             \u001b[0mrenderer\u001b[0m\u001b[1;33m.\u001b[0m\u001b[0mclose_group\u001b[0m\u001b[1;33m(\u001b[0m\u001b[1;34m'figure'\u001b[0m\u001b[1;33m)\u001b[0m\u001b[1;33m\u001b[0m\u001b[1;33m\u001b[0m\u001b[0m\n",
      "\u001b[1;32mc:\\users\\luciano\\appdata\\local\\programs\\python\\python37\\lib\\site-packages\\matplotlib\\image.py\u001b[0m in \u001b[0;36m_draw_list_compositing_images\u001b[1;34m(renderer, parent, artists, suppress_composite)\u001b[0m\n\u001b[0;32m    136\u001b[0m     \u001b[1;32mif\u001b[0m \u001b[0mnot_composite\u001b[0m \u001b[1;32mor\u001b[0m \u001b[1;32mnot\u001b[0m \u001b[0mhas_images\u001b[0m\u001b[1;33m:\u001b[0m\u001b[1;33m\u001b[0m\u001b[1;33m\u001b[0m\u001b[0m\n\u001b[0;32m    137\u001b[0m         \u001b[1;32mfor\u001b[0m \u001b[0ma\u001b[0m \u001b[1;32min\u001b[0m \u001b[0martists\u001b[0m\u001b[1;33m:\u001b[0m\u001b[1;33m\u001b[0m\u001b[1;33m\u001b[0m\u001b[0m\n\u001b[1;32m--> 138\u001b[1;33m             \u001b[0ma\u001b[0m\u001b[1;33m.\u001b[0m\u001b[0mdraw\u001b[0m\u001b[1;33m(\u001b[0m\u001b[0mrenderer\u001b[0m\u001b[1;33m)\u001b[0m\u001b[1;33m\u001b[0m\u001b[1;33m\u001b[0m\u001b[0m\n\u001b[0m\u001b[0;32m    139\u001b[0m     \u001b[1;32melse\u001b[0m\u001b[1;33m:\u001b[0m\u001b[1;33m\u001b[0m\u001b[1;33m\u001b[0m\u001b[0m\n\u001b[0;32m    140\u001b[0m         \u001b[1;31m# Composite any adjacent images together\u001b[0m\u001b[1;33m\u001b[0m\u001b[1;33m\u001b[0m\u001b[1;33m\u001b[0m\u001b[0m\n",
      "\u001b[1;32mc:\\users\\luciano\\appdata\\local\\programs\\python\\python37\\lib\\site-packages\\matplotlib\\artist.py\u001b[0m in \u001b[0;36mdraw_wrapper\u001b[1;34m(artist, renderer, *args, **kwargs)\u001b[0m\n\u001b[0;32m     48\u001b[0m                 \u001b[0mrenderer\u001b[0m\u001b[1;33m.\u001b[0m\u001b[0mstart_filter\u001b[0m\u001b[1;33m(\u001b[0m\u001b[1;33m)\u001b[0m\u001b[1;33m\u001b[0m\u001b[1;33m\u001b[0m\u001b[0m\n\u001b[0;32m     49\u001b[0m \u001b[1;33m\u001b[0m\u001b[0m\n\u001b[1;32m---> 50\u001b[1;33m             \u001b[1;32mreturn\u001b[0m \u001b[0mdraw\u001b[0m\u001b[1;33m(\u001b[0m\u001b[0martist\u001b[0m\u001b[1;33m,\u001b[0m \u001b[0mrenderer\u001b[0m\u001b[1;33m,\u001b[0m \u001b[1;33m*\u001b[0m\u001b[0margs\u001b[0m\u001b[1;33m,\u001b[0m \u001b[1;33m**\u001b[0m\u001b[0mkwargs\u001b[0m\u001b[1;33m)\u001b[0m\u001b[1;33m\u001b[0m\u001b[1;33m\u001b[0m\u001b[0m\n\u001b[0m\u001b[0;32m     51\u001b[0m         \u001b[1;32mfinally\u001b[0m\u001b[1;33m:\u001b[0m\u001b[1;33m\u001b[0m\u001b[1;33m\u001b[0m\u001b[0m\n\u001b[0;32m     52\u001b[0m             \u001b[1;32mif\u001b[0m \u001b[0martist\u001b[0m\u001b[1;33m.\u001b[0m\u001b[0mget_agg_filter\u001b[0m\u001b[1;33m(\u001b[0m\u001b[1;33m)\u001b[0m \u001b[1;32mis\u001b[0m \u001b[1;32mnot\u001b[0m \u001b[1;32mNone\u001b[0m\u001b[1;33m:\u001b[0m\u001b[1;33m\u001b[0m\u001b[1;33m\u001b[0m\u001b[0m\n",
      "\u001b[1;32mc:\\users\\luciano\\appdata\\local\\programs\\python\\python37\\lib\\site-packages\\matplotlib\\axes\\_base.py\u001b[0m in \u001b[0;36mdraw\u001b[1;34m(self, renderer, inframe)\u001b[0m\n\u001b[0;32m   2626\u001b[0m             \u001b[0mrenderer\u001b[0m\u001b[1;33m.\u001b[0m\u001b[0mstop_rasterizing\u001b[0m\u001b[1;33m(\u001b[0m\u001b[1;33m)\u001b[0m\u001b[1;33m\u001b[0m\u001b[1;33m\u001b[0m\u001b[0m\n\u001b[0;32m   2627\u001b[0m \u001b[1;33m\u001b[0m\u001b[0m\n\u001b[1;32m-> 2628\u001b[1;33m         \u001b[0mmimage\u001b[0m\u001b[1;33m.\u001b[0m\u001b[0m_draw_list_compositing_images\u001b[0m\u001b[1;33m(\u001b[0m\u001b[0mrenderer\u001b[0m\u001b[1;33m,\u001b[0m \u001b[0mself\u001b[0m\u001b[1;33m,\u001b[0m \u001b[0martists\u001b[0m\u001b[1;33m)\u001b[0m\u001b[1;33m\u001b[0m\u001b[1;33m\u001b[0m\u001b[0m\n\u001b[0m\u001b[0;32m   2629\u001b[0m \u001b[1;33m\u001b[0m\u001b[0m\n\u001b[0;32m   2630\u001b[0m         \u001b[0mrenderer\u001b[0m\u001b[1;33m.\u001b[0m\u001b[0mclose_group\u001b[0m\u001b[1;33m(\u001b[0m\u001b[1;34m'axes'\u001b[0m\u001b[1;33m)\u001b[0m\u001b[1;33m\u001b[0m\u001b[1;33m\u001b[0m\u001b[0m\n",
      "\u001b[1;32mc:\\users\\luciano\\appdata\\local\\programs\\python\\python37\\lib\\site-packages\\matplotlib\\image.py\u001b[0m in \u001b[0;36m_draw_list_compositing_images\u001b[1;34m(renderer, parent, artists, suppress_composite)\u001b[0m\n\u001b[0;32m    136\u001b[0m     \u001b[1;32mif\u001b[0m \u001b[0mnot_composite\u001b[0m \u001b[1;32mor\u001b[0m \u001b[1;32mnot\u001b[0m \u001b[0mhas_images\u001b[0m\u001b[1;33m:\u001b[0m\u001b[1;33m\u001b[0m\u001b[1;33m\u001b[0m\u001b[0m\n\u001b[0;32m    137\u001b[0m         \u001b[1;32mfor\u001b[0m \u001b[0ma\u001b[0m \u001b[1;32min\u001b[0m \u001b[0martists\u001b[0m\u001b[1;33m:\u001b[0m\u001b[1;33m\u001b[0m\u001b[1;33m\u001b[0m\u001b[0m\n\u001b[1;32m--> 138\u001b[1;33m             \u001b[0ma\u001b[0m\u001b[1;33m.\u001b[0m\u001b[0mdraw\u001b[0m\u001b[1;33m(\u001b[0m\u001b[0mrenderer\u001b[0m\u001b[1;33m)\u001b[0m\u001b[1;33m\u001b[0m\u001b[1;33m\u001b[0m\u001b[0m\n\u001b[0m\u001b[0;32m    139\u001b[0m     \u001b[1;32melse\u001b[0m\u001b[1;33m:\u001b[0m\u001b[1;33m\u001b[0m\u001b[1;33m\u001b[0m\u001b[0m\n\u001b[0;32m    140\u001b[0m         \u001b[1;31m# Composite any adjacent images together\u001b[0m\u001b[1;33m\u001b[0m\u001b[1;33m\u001b[0m\u001b[1;33m\u001b[0m\u001b[0m\n",
      "\u001b[1;32mc:\\users\\luciano\\appdata\\local\\programs\\python\\python37\\lib\\site-packages\\matplotlib\\artist.py\u001b[0m in \u001b[0;36mdraw_wrapper\u001b[1;34m(artist, renderer, *args, **kwargs)\u001b[0m\n\u001b[0;32m     48\u001b[0m                 \u001b[0mrenderer\u001b[0m\u001b[1;33m.\u001b[0m\u001b[0mstart_filter\u001b[0m\u001b[1;33m(\u001b[0m\u001b[1;33m)\u001b[0m\u001b[1;33m\u001b[0m\u001b[1;33m\u001b[0m\u001b[0m\n\u001b[0;32m     49\u001b[0m \u001b[1;33m\u001b[0m\u001b[0m\n\u001b[1;32m---> 50\u001b[1;33m             \u001b[1;32mreturn\u001b[0m \u001b[0mdraw\u001b[0m\u001b[1;33m(\u001b[0m\u001b[0martist\u001b[0m\u001b[1;33m,\u001b[0m \u001b[0mrenderer\u001b[0m\u001b[1;33m,\u001b[0m \u001b[1;33m*\u001b[0m\u001b[0margs\u001b[0m\u001b[1;33m,\u001b[0m \u001b[1;33m**\u001b[0m\u001b[0mkwargs\u001b[0m\u001b[1;33m)\u001b[0m\u001b[1;33m\u001b[0m\u001b[1;33m\u001b[0m\u001b[0m\n\u001b[0m\u001b[0;32m     51\u001b[0m         \u001b[1;32mfinally\u001b[0m\u001b[1;33m:\u001b[0m\u001b[1;33m\u001b[0m\u001b[1;33m\u001b[0m\u001b[0m\n\u001b[0;32m     52\u001b[0m             \u001b[1;32mif\u001b[0m \u001b[0martist\u001b[0m\u001b[1;33m.\u001b[0m\u001b[0mget_agg_filter\u001b[0m\u001b[1;33m(\u001b[0m\u001b[1;33m)\u001b[0m \u001b[1;32mis\u001b[0m \u001b[1;32mnot\u001b[0m \u001b[1;32mNone\u001b[0m\u001b[1;33m:\u001b[0m\u001b[1;33m\u001b[0m\u001b[1;33m\u001b[0m\u001b[0m\n",
      "\u001b[1;32mc:\\users\\luciano\\appdata\\local\\programs\\python\\python37\\lib\\site-packages\\matplotlib\\image.py\u001b[0m in \u001b[0;36mdraw\u001b[1;34m(self, renderer, *args, **kwargs)\u001b[0m\n\u001b[0;32m    582\u001b[0m         \u001b[1;32melse\u001b[0m\u001b[1;33m:\u001b[0m\u001b[1;33m\u001b[0m\u001b[1;33m\u001b[0m\u001b[0m\n\u001b[0;32m    583\u001b[0m             im, l, b, trans = self.make_image(\n\u001b[1;32m--> 584\u001b[1;33m                 renderer, renderer.get_image_magnification())\n\u001b[0m\u001b[0;32m    585\u001b[0m             \u001b[1;32mif\u001b[0m \u001b[0mim\u001b[0m \u001b[1;32mis\u001b[0m \u001b[1;32mnot\u001b[0m \u001b[1;32mNone\u001b[0m\u001b[1;33m:\u001b[0m\u001b[1;33m\u001b[0m\u001b[1;33m\u001b[0m\u001b[0m\n\u001b[0;32m    586\u001b[0m                 \u001b[0mrenderer\u001b[0m\u001b[1;33m.\u001b[0m\u001b[0mdraw_image\u001b[0m\u001b[1;33m(\u001b[0m\u001b[0mgc\u001b[0m\u001b[1;33m,\u001b[0m \u001b[0ml\u001b[0m\u001b[1;33m,\u001b[0m \u001b[0mb\u001b[0m\u001b[1;33m,\u001b[0m \u001b[0mim\u001b[0m\u001b[1;33m)\u001b[0m\u001b[1;33m\u001b[0m\u001b[1;33m\u001b[0m\u001b[0m\n",
      "\u001b[1;32mc:\\users\\luciano\\appdata\\local\\programs\\python\\python37\\lib\\site-packages\\matplotlib\\image.py\u001b[0m in \u001b[0;36mmake_image\u001b[1;34m(self, renderer, magnification, unsampled)\u001b[0m\n\u001b[0;32m    829\u001b[0m         return self._make_image(\n\u001b[0;32m    830\u001b[0m             \u001b[0mself\u001b[0m\u001b[1;33m.\u001b[0m\u001b[0m_A\u001b[0m\u001b[1;33m,\u001b[0m \u001b[0mbbox\u001b[0m\u001b[1;33m,\u001b[0m \u001b[0mtransformed_bbox\u001b[0m\u001b[1;33m,\u001b[0m \u001b[0mself\u001b[0m\u001b[1;33m.\u001b[0m\u001b[0maxes\u001b[0m\u001b[1;33m.\u001b[0m\u001b[0mbbox\u001b[0m\u001b[1;33m,\u001b[0m \u001b[0mmagnification\u001b[0m\u001b[1;33m,\u001b[0m\u001b[1;33m\u001b[0m\u001b[1;33m\u001b[0m\u001b[0m\n\u001b[1;32m--> 831\u001b[1;33m             unsampled=unsampled)\n\u001b[0m\u001b[0;32m    832\u001b[0m \u001b[1;33m\u001b[0m\u001b[0m\n\u001b[0;32m    833\u001b[0m     \u001b[1;32mdef\u001b[0m \u001b[0m_check_unsampled_image\u001b[0m\u001b[1;33m(\u001b[0m\u001b[0mself\u001b[0m\u001b[1;33m,\u001b[0m \u001b[0mrenderer\u001b[0m\u001b[1;33m)\u001b[0m\u001b[1;33m:\u001b[0m\u001b[1;33m\u001b[0m\u001b[1;33m\u001b[0m\u001b[0m\n",
      "\u001b[1;32mc:\\users\\luciano\\appdata\\local\\programs\\python\\python37\\lib\\site-packages\\matplotlib\\image.py\u001b[0m in \u001b[0;36m_make_image\u001b[1;34m(self, A, in_bbox, out_bbox, clip_bbox, magnification, unsampled, round_to_pixel_border)\u001b[0m\n\u001b[0;32m    482\u001b[0m                 \u001b[1;31m# Always convert to RGBA, even if only RGB input\u001b[0m\u001b[1;33m\u001b[0m\u001b[1;33m\u001b[0m\u001b[1;33m\u001b[0m\u001b[0m\n\u001b[0;32m    483\u001b[0m                 \u001b[1;32mif\u001b[0m \u001b[0mA\u001b[0m\u001b[1;33m.\u001b[0m\u001b[0mshape\u001b[0m\u001b[1;33m[\u001b[0m\u001b[1;36m2\u001b[0m\u001b[1;33m]\u001b[0m \u001b[1;33m==\u001b[0m \u001b[1;36m3\u001b[0m\u001b[1;33m:\u001b[0m\u001b[1;33m\u001b[0m\u001b[1;33m\u001b[0m\u001b[0m\n\u001b[1;32m--> 484\u001b[1;33m                     \u001b[0mA\u001b[0m \u001b[1;33m=\u001b[0m \u001b[0m_rgb_to_rgba\u001b[0m\u001b[1;33m(\u001b[0m\u001b[0mA\u001b[0m\u001b[1;33m)\u001b[0m\u001b[1;33m\u001b[0m\u001b[1;33m\u001b[0m\u001b[0m\n\u001b[0m\u001b[0;32m    485\u001b[0m                 \u001b[1;32melif\u001b[0m \u001b[0mA\u001b[0m\u001b[1;33m.\u001b[0m\u001b[0mshape\u001b[0m\u001b[1;33m[\u001b[0m\u001b[1;36m2\u001b[0m\u001b[1;33m]\u001b[0m \u001b[1;33m!=\u001b[0m \u001b[1;36m4\u001b[0m\u001b[1;33m:\u001b[0m\u001b[1;33m\u001b[0m\u001b[1;33m\u001b[0m\u001b[0m\n\u001b[0;32m    486\u001b[0m                     \u001b[1;32mraise\u001b[0m \u001b[0mValueError\u001b[0m\u001b[1;33m(\u001b[0m\u001b[1;34m\"Invalid dimensions, got %s\"\u001b[0m \u001b[1;33m%\u001b[0m \u001b[1;33m(\u001b[0m\u001b[0mA\u001b[0m\u001b[1;33m.\u001b[0m\u001b[0mshape\u001b[0m\u001b[1;33m,\u001b[0m\u001b[1;33m)\u001b[0m\u001b[1;33m)\u001b[0m\u001b[1;33m\u001b[0m\u001b[1;33m\u001b[0m\u001b[0m\n",
      "\u001b[1;32mc:\\users\\luciano\\appdata\\local\\programs\\python\\python37\\lib\\site-packages\\matplotlib\\image.py\u001b[0m in \u001b[0;36m_rgb_to_rgba\u001b[1;34m(A)\u001b[0m\n\u001b[0;32m    170\u001b[0m     \"\"\"\n\u001b[0;32m    171\u001b[0m     \u001b[0mrgba\u001b[0m \u001b[1;33m=\u001b[0m \u001b[0mnp\u001b[0m\u001b[1;33m.\u001b[0m\u001b[0mzeros\u001b[0m\u001b[1;33m(\u001b[0m\u001b[1;33m(\u001b[0m\u001b[0mA\u001b[0m\u001b[1;33m.\u001b[0m\u001b[0mshape\u001b[0m\u001b[1;33m[\u001b[0m\u001b[1;36m0\u001b[0m\u001b[1;33m]\u001b[0m\u001b[1;33m,\u001b[0m \u001b[0mA\u001b[0m\u001b[1;33m.\u001b[0m\u001b[0mshape\u001b[0m\u001b[1;33m[\u001b[0m\u001b[1;36m1\u001b[0m\u001b[1;33m]\u001b[0m\u001b[1;33m,\u001b[0m \u001b[1;36m4\u001b[0m\u001b[1;33m)\u001b[0m\u001b[1;33m,\u001b[0m \u001b[0mdtype\u001b[0m\u001b[1;33m=\u001b[0m\u001b[0mA\u001b[0m\u001b[1;33m.\u001b[0m\u001b[0mdtype\u001b[0m\u001b[1;33m)\u001b[0m\u001b[1;33m\u001b[0m\u001b[1;33m\u001b[0m\u001b[0m\n\u001b[1;32m--> 172\u001b[1;33m     \u001b[0mrgba\u001b[0m\u001b[1;33m[\u001b[0m\u001b[1;33m:\u001b[0m\u001b[1;33m,\u001b[0m \u001b[1;33m:\u001b[0m\u001b[1;33m,\u001b[0m \u001b[1;33m:\u001b[0m\u001b[1;36m3\u001b[0m\u001b[1;33m]\u001b[0m \u001b[1;33m=\u001b[0m \u001b[0mA\u001b[0m\u001b[1;33m\u001b[0m\u001b[1;33m\u001b[0m\u001b[0m\n\u001b[0m\u001b[0;32m    173\u001b[0m     \u001b[1;32mif\u001b[0m \u001b[0mrgba\u001b[0m\u001b[1;33m.\u001b[0m\u001b[0mdtype\u001b[0m \u001b[1;33m==\u001b[0m \u001b[0mnp\u001b[0m\u001b[1;33m.\u001b[0m\u001b[0muint8\u001b[0m\u001b[1;33m:\u001b[0m\u001b[1;33m\u001b[0m\u001b[1;33m\u001b[0m\u001b[0m\n\u001b[0;32m    174\u001b[0m         \u001b[0mrgba\u001b[0m\u001b[1;33m[\u001b[0m\u001b[1;33m:\u001b[0m\u001b[1;33m,\u001b[0m \u001b[1;33m:\u001b[0m\u001b[1;33m,\u001b[0m \u001b[1;36m3\u001b[0m\u001b[1;33m]\u001b[0m \u001b[1;33m=\u001b[0m \u001b[1;36m255\u001b[0m\u001b[1;33m\u001b[0m\u001b[1;33m\u001b[0m\u001b[0m\n",
      "\u001b[1;31mKeyboardInterrupt\u001b[0m: "
     ]
    }
   ],
   "source": [
    "# Let's test data generator\n",
    "# -------------------------\n",
    "import time\n",
    "import matplotlib.pyplot as plt\n",
    "\n",
    "%matplotlib notebook\n",
    "\n",
    "fig, ax = plt.subplots(1, 2)\n",
    "fig.show()\n",
    "\n",
    "# Assign a color to each class\n",
    "colors_dict = {}\n",
    "colors_dict[0] = [252, 186, 3]  # foreground\n",
    "colors_dict[1] = [0, 0, 0]  # background\n",
    "\n",
    "iterator = iter(train_dataset)\n",
    "iterator = iter(train_dataset)\n",
    "for _ in range(1000):\n",
    "    augmented_img, target = next(iterator)\n",
    "    augmented_img = augmented_img[0]   # First element\n",
    "    augmented_img = augmented_img * 255  # denormalize\n",
    "    \n",
    "    target = np.array(target[0, ..., 0])   # First element (squeezing channel dimension)\n",
    "    target = target * 255\n",
    "    \n",
    "    # Assign colors (just for visualization)\n",
    "    #target_img = np.zeros([target.shape[0], target.shape[1], 3])\n",
    "    \n",
    "    #target_img[np.where(target == 0)] = colors_dict[0]\n",
    "    #target_img[np.where(target == 1)] = colors_dict[1]\n",
    "    \n",
    "    ax[0].imshow(np.uint8(augmented_img))\n",
    "    ax[1].imshow(np.uint8(target_img))\n",
    "    \n",
    "    fig.canvas.draw()\n",
    "    time.sleep(1)"
   ]
  },
  {
   "cell_type": "code",
   "execution_count": null,
   "metadata": {},
   "outputs": [],
   "source": [
    "np.unique(target_img)"
   ]
  },
  {
   "cell_type": "code",
   "execution_count": null,
   "metadata": {},
   "outputs": [],
   "source": [
    "# Create Model\n",
    "# ------------\n",
    "\n",
    "def create_model(depth, start_f, num_classes, dynamic_input_shape):\n",
    "\n",
    "    model = tf.keras.Sequential()\n",
    "    \n",
    "    # Encoder\n",
    "    # -------\n",
    "    for i in range(depth):\n",
    "        \n",
    "        if i == 0:\n",
    "            if dynamic_input_shape:\n",
    "                input_shape = [None, None, 3]\n",
    "            else:\n",
    "                input_shape = [img_h, img_w, 3]\n",
    "        else:\n",
    "            input_shape=[None]\n",
    "        \n",
    "        model.add(tf.keras.layers.Conv2D(filters=start_f, \n",
    "                                         kernel_size=(3, 3),\n",
    "                                         strides=(1, 1),\n",
    "                                         padding='same',\n",
    "                                         input_shape=input_shape))\n",
    "        model.add(tf.keras.layers.ReLU())\n",
    "        model.add(tf.keras.layers.MaxPool2D(pool_size=(2, 2)))\n",
    "\n",
    "        start_f *= 2\n",
    "\n",
    "    # Decoder\n",
    "    # -------\n",
    "    for i in range(depth):\n",
    "        model.add(tf.keras.layers.UpSampling2D(2, interpolation='bilinear'))\n",
    "        model.add(tf.keras.layers.Conv2D(filters=start_f // 2,\n",
    "                                         kernel_size=(3, 3),\n",
    "                                         strides=(1, 1),\n",
    "                                         padding='same'))\n",
    "\n",
    "        model.add(tf.keras.layers.ReLU())\n",
    "\n",
    "        start_f = start_f // 2\n",
    "\n",
    "    # Prediction Layer\n",
    "    # ----------------\n",
    "    model.add(tf.keras.layers.Conv2D(filters=num_classes,\n",
    "                                     kernel_size=(1, 1),\n",
    "                                     strides=(1, 1),\n",
    "                                     padding='same',\n",
    "                                     activation='softmax'))\n",
    "    \n",
    "    return model"
   ]
  },
  {
   "cell_type": "code",
   "execution_count": null,
   "metadata": {},
   "outputs": [],
   "source": [
    "model = create_model(depth=4, \n",
    "                     start_f=4, \n",
    "                     num_classes=3, \n",
    "                     dynamic_input_shape=False)\n",
    "\n",
    "# Visualize created model as a table\n",
    "model.summary()\n",
    "\n",
    "# Visualize initialized weights\n",
    "model.weights"
   ]
  },
  {
   "cell_type": "code",
   "execution_count": null,
   "metadata": {},
   "outputs": [],
   "source": [
    "# Optimization params\n",
    "# -------------------\n",
    "\n",
    "# Loss\n",
    "# Sparse Categorical Crossentropy to use integers (mask) instead of one-hot encoded labels\n",
    "loss = tf.keras.losses.SparseCategoricalCrossentropy(from_logits=False) \n",
    "# learning rate\n",
    "lr = 1e-3\n",
    "optimizer = tf.keras.optimizers.Adam(learning_rate=lr)\n",
    "# -------------------\n",
    "\n",
    "# Validation metrics\n",
    "# ------------------\n",
    "def my_IoU(y_true, y_pred):\n",
    "    # from pobability to predicted class {0, 1}\n",
    "    y_pred = tf.cast(y_pred > 0.5, tf.float32) # when using sigmoid. Use argmax for softmax\n",
    "\n",
    "    # A and B\n",
    "    intersection = tf.reduce_sum(y_true * y_pred)\n",
    "    # A or B\n",
    "    union = tf.reduce_sum(y_true) + tf.reduce_sum(y_pred) - intersection\n",
    "    # IoU\n",
    "    return intersection / union\n",
    "\n",
    "# ------------------\n",
    "\n",
    "# Compile Model\n",
    "model.compile(optimizer=optimizer, loss=loss, metrics=[my_IoU])"
   ]
  },
  {
   "cell_type": "markdown",
   "metadata": {},
   "source": [
    "Training with callbacks\n",
    "---"
   ]
  },
  {
   "cell_type": "code",
   "execution_count": null,
   "metadata": {},
   "outputs": [],
   "source": [
    "import os\n",
    "from datetime import datetime\n",
    "\n",
    "# from tensorflow.compat.v1 import ConfigProto\n",
    "# from tensorflow.compat.v1 import InteractiveSession\n",
    "\n",
    "# config = ConfigProto()\n",
    "# config.gpu_options.allow_growth = True\n",
    "# session = InteractiveSession(config=config)\n",
    "\n",
    "cwd = os.getcwd()\n",
    "\n",
    "exps_dir = os.path.join(cwd, 'segmentation_experiments')\n",
    "if not os.path.exists(exps_dir):\n",
    "    os.makedirs(exps_dir)\n",
    "\n",
    "now = datetime.now().strftime('%b%d_%H-%M-%S')\n",
    "\n",
    "model_name = 'CNN'\n",
    "\n",
    "exp_dir = os.path.join(exps_dir, model_name + '_' + str(now))\n",
    "if not os.path.exists(exp_dir):\n",
    "    os.makedirs(exp_dir)\n",
    "    \n",
    "callbacks = []\n",
    "\n",
    "# Model checkpoint\n",
    "# ----------------\n",
    "ckpt_dir = os.path.join(exp_dir, 'ckpts')\n",
    "if not os.path.exists(ckpt_dir):\n",
    "    os.makedirs(ckpt_dir)\n",
    "\n",
    "ckpt_callback = tf.keras.callbacks.ModelCheckpoint(filepath=os.path.join(ckpt_dir, 'cp_{epoch:02d}.ckpt'), \n",
    "                                                   save_weights_only=True)  # False to save the model directly\n",
    "callbacks.append(ckpt_callback)\n",
    "\n",
    "# Visualize Learning on Tensorboard\n",
    "# ---------------------------------\n",
    "tb_dir = os.path.join(exp_dir, 'tb_logs')\n",
    "if not os.path.exists(tb_dir):\n",
    "    os.makedirs(tb_dir)\n",
    "    \n",
    "# By default shows losses and metrics for both training and validation\n",
    "tb_callback = tf.keras.callbacks.TensorBoard(log_dir=tb_dir,\n",
    "                                             profile_batch=0,\n",
    "                                             histogram_freq=0)  # if 1 shows weights histograms\n",
    "callbacks.append(tb_callback)\n",
    "\n",
    "# Early Stopping\n",
    "# --------------\n",
    "early_stop = False\n",
    "if early_stop:\n",
    "    es_callback = tf.keras.callback.EarlyStopping(monitor='val_loss', patience=10)\n",
    "    callbacks.append(es_callback)\n",
    "\n",
    "\n",
    "model.fit(x=train_dataset,\n",
    "          epochs=100,  #### set repeat in training dataset\n",
    "          steps_per_epoch=len(train_img_gen),\n",
    "          validation_data=valid_dataset,\n",
    "          validation_steps=len(valid_img_gen), \n",
    "          callbacks=callbacks)\n",
    "\n",
    "# How to visualize Tensorboard\n",
    "\n",
    "# 1. tensorboard --logdir EXPERIMENTS_DIR --port PORT     <- from terminal\n",
    "# 2. localhost:PORT   <- in your browser"
   ]
  },
  {
   "cell_type": "markdown",
   "metadata": {},
   "source": [
    "Dataset Split Json creation\n",
    "---"
   ]
  },
  {
   "cell_type": "code",
   "execution_count": null,
   "metadata": {},
   "outputs": [],
   "source": [
    "import json\n",
    "\n",
    "directories = os.listdir(training_dir)\n",
    "\n",
    "dataset_split = {}\n",
    "\n",
    "dataset_split[\"training\"] =  os.listdir(images_dir)\n",
    "                                                    \n",
    "dataset_split[\"validation\"] =  os.listdir(os.path.join(validation_dir, 'images', 'img'))\n",
    "    \n",
    "with open('dataset_split.json', 'w') as fp:\n",
    "     json.dump(dataset_split, fp)"
   ]
  },
  {
   "cell_type": "code",
   "execution_count": null,
   "metadata": {},
   "outputs": [],
   "source": [
    "for subdir, dirs, files in os.walk(os.path.join(validation_dir, 'images', 'img')):\n",
    "    for file in files:\n",
    "        shutil.move(os.path.join(subdir, file), os.path.join(images_dir, file))\n",
    "        shutil.move(os.path.join(validation_dir, 'masks', 'img', file), os.path.join(masks_dir, file))\n",
    "        \n",
    "shutil.rmtree(validation_dir)"
   ]
  },
  {
   "cell_type": "markdown",
   "metadata": {},
   "source": [
    "Compute Prediction\n",
    "---"
   ]
  },
  {
   "cell_type": "code",
   "execution_count": null,
   "metadata": {},
   "outputs": [],
   "source": [
    "import time\n",
    "import matplotlib.pyplot as plt\n",
    "\n",
    "from PIL import Image\n",
    "\n",
    "%matplotlib notebook\n",
    "\n",
    "# Cycle over test images\n",
    "\n",
    "test_img_dir = os.path.join(test_dir, 'images', 'img')\n",
    "test_mask_dir = os.path.join(test_dir, 'masks', 'img')\n",
    "\n",
    "img_filenames = next(os.walk(test_img_dir))[2]\n",
    "\n",
    "fig, ax = plt.subplots(1, 3, figsize=(8, 8))\n",
    "fig.show()\n",
    "\n",
    "# Assign a color to each class\n",
    "colors_dict = {}\n",
    "colors_dict[0] = [252, 186, 3]  # foreground\n",
    "colors_dict[1] = [0, 0, 0]      # background\n",
    "colors_dict[2] = [3, 82, 252]   # contours\n",
    "\n",
    "for img_filename in img_filenames:\n",
    "    \n",
    "    mask_filename = img_filename[:-4] + '.png'\n",
    "    \n",
    "    img = Image.open(os.path.join(test_img_dir, img_filename))\n",
    "    img = img.resize((128, 128))\n",
    "    mask = Image.open(os.path.join(test_mask_dir, mask_filename))\n",
    "    mask = mask.resize((128, 128))\n",
    "    \n",
    "    img_arr = np.expand_dims(np.array(img), 0)\n",
    "    \n",
    "    out_softmax = model.predict(x=img_arr / 255.)\n",
    "    \n",
    "    # Get predicted class as the index corresponding to the maximum value in the vector probability\n",
    "    predicted_class = tf.argmax(out_softmax, -1)\n",
    "    predicted_class = predicted_class[0]\n",
    "    \n",
    "    target = np.array(mask)\n",
    "    target -= 1    ## to get classes 0,1,2 instead of 1,2,3\n",
    "    \n",
    "    print(target.shape)\n",
    "    \n",
    "    # Assign colors (just for visualization)\n",
    "    target_img = np.zeros([target.shape[0], target.shape[1], 3])\n",
    "    prediction_img = np.zeros([target.shape[0], target.shape[1], 3])\n",
    "    \n",
    "    target_img[np.where(target == 0)] = colors_dict[0]\n",
    "    target_img[np.where(target == 1)] = colors_dict[1]\n",
    "    target_img[np.where(target == 2)] = colors_dict[2]\n",
    "    \n",
    "    prediction_img[np.where(predicted_class == 0)] = colors_dict[0]\n",
    "    prediction_img[np.where(predicted_class == 1)] = colors_dict[1]\n",
    "    prediction_img[np.where(predicted_class == 2)] = colors_dict[2]\n",
    "    \n",
    "    ax[0].imshow(np.uint8(img_arr[0, ...]))\n",
    "    ax[1].imshow(np.uint8(target_img))\n",
    "    ax[2].imshow(np.uint8(prediction_img))\n",
    "    \n",
    "    fig.canvas.draw()\n",
    "    time.sleep(1)"
   ]
  },
  {
   "cell_type": "markdown",
   "metadata": {},
   "source": [
    "CSV File Creation\n",
    "---"
   ]
  },
  {
   "cell_type": "code",
   "execution_count": null,
   "metadata": {},
   "outputs": [],
   "source": [
    "import os\n",
    "from datetime import datetime\n",
    "\n",
    "def create_csv(results, results_dir='./'):\n",
    "\n",
    "    csv_fname = 'results_'\n",
    "    csv_fname += datetime.now().strftime('%b%d_%H-%M-%S') + '.csv'\n",
    "\n",
    "    with open(csv_fname, 'w') as f:\n",
    "\n",
    "      f.write('ImageId,EncodedPixels,Width,Height\\n')\n",
    "\n",
    "      for key, value in results.items():\n",
    "          f.write(key + ',' + str(value) + ',' + '256' + ',' + '256' + '\\n')"
   ]
  },
  {
   "cell_type": "markdown",
   "metadata": {},
   "source": [
    "Image Flatten Codification\n",
    "----"
   ]
  },
  {
   "cell_type": "code",
   "execution_count": null,
   "metadata": {},
   "outputs": [],
   "source": [
    "def rle_encode(img):\n",
    "    # Flatten column-wise\n",
    "    pixels = img.T.flatten()\n",
    "    pixels\n",
    "    pixels = np.concatenate([[0], pixels, [0]])\n",
    "    pixels\n",
    "    runs = np.where(pixels[1:] != pixels[:-1])[0] + 1\n",
    "    runs\n",
    "    runs[1::2] -= runs[::2]\n",
    "    runs\n",
    "    return ' '.join(str(x) for x in runs)"
   ]
  },
  {
   "cell_type": "markdown",
   "metadata": {},
   "source": [
    "Model Predictions\n",
    "---"
   ]
  },
  {
   "cell_type": "code",
   "execution_count": null,
   "metadata": {},
   "outputs": [],
   "source": [
    "import time\n",
    "import matplotlib.pyplot as plt\n",
    "\n",
    "from PIL import Image\n",
    "\n",
    "%matplotlib notebook\n",
    "\n",
    "# Cycle over test images\n",
    "\n",
    "test_img_dir = os.path.join(test_dir, 'images', 'img')\n",
    "\n",
    "img_filenames = next(os.walk(test_img_dir))[2]\n",
    "\n",
    "fig, ax = plt.subplots(1, 3, figsize=(8, 8))\n",
    "fig.show()\n",
    "\n",
    "# Assign a color to each class\n",
    "colors_dict = {}\n",
    "colors_dict[0] = [252, 186, 3]  # foreground\n",
    "colors_dict[1] = [0, 0, 0]      # background\n",
    "\n",
    "results={}\n",
    "\n",
    "for img_filename in img_filenames:\n",
    "    \n",
    "    mask_filename = img_filename[:-4] + '.png'\n",
    "    \n",
    "    img = Image.open(os.path.join(test_img_dir, img_filename))\n",
    "    img = img.resize((256, 256))\n",
    "    \n",
    "    img_arr = np.expand_dims(np.array(img), 0)\n",
    "    \n",
    "    out_softmax = model.predict(x=img_arr / 255.)\n",
    "    \n",
    "    results[img_filename] = rle_encode(out_softmax)\n",
    "    \n",
    "    # Get predicted class as the index corresponding to the maximum value in the vector probability\n",
    "    predicted_class = tf.argmax(out_softmax, -1)\n",
    "    predicted_class = predicted_class[0]\n",
    "    \n",
    "    # Assign colors (just for visualization)\n",
    "    prediction_img = np.zeros([256, 256, 3])\n",
    "    \n",
    "    prediction_img[np.where(predicted_class == 0)] = colors_dict[0]\n",
    "    prediction_img[np.where(predicted_class == 1)] = colors_dict[1]\n",
    "    \n",
    "    ax[0].imshow(np.uint8(img_arr[0, ...]))\n",
    "    ax[1].imshow(np.uint8(target_img))\n",
    "    ax[2].imshow(np.uint8(prediction_img))\n",
    "    \n",
    "    fig.canvas.draw()\n",
    "    time.sleep(1)\n",
    "    \n",
    "create_csv(results)"
   ]
  },
  {
   "cell_type": "code",
   "execution_count": null,
   "metadata": {},
   "outputs": [],
   "source": []
  }
 ],
 "metadata": {
  "kernelspec": {
   "display_name": "Python 3",
   "language": "python",
   "name": "python3"
  },
  "language_info": {
   "codemirror_mode": {
    "name": "ipython",
    "version": 3
   },
   "file_extension": ".py",
   "mimetype": "text/x-python",
   "name": "python",
   "nbconvert_exporter": "python",
   "pygments_lexer": "ipython3",
   "version": "3.7.3"
  }
 },
 "nbformat": 4,
 "nbformat_minor": 2
}
