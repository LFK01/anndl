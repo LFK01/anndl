{
 "cells": [
  {
   "cell_type": "code",
   "execution_count": 1,
   "metadata": {},
   "outputs": [],
   "source": [
    "from IPython.core.interactiveshell import InteractiveShell\n",
    "InteractiveShell.ast_node_interactivity = \"all\""
   ]
  },
  {
   "cell_type": "code",
   "execution_count": 2,
   "metadata": {},
   "outputs": [],
   "source": [
    "import os\n",
    "\n",
    "#os.environ[\"CUDA_VISIBLE_DEVICES\"]=\"-1\" \n",
    "import tensorflow as tf\n",
    "import numpy as np\n",
    "\n",
    "# Set the seed for random operations. \n",
    "# This let our experiments to be reproducible. \n",
    "SEED = 1234\n",
    "tf.random.set_seed(SEED)  \n",
    "\n",
    "# Get current working directory\n",
    "cwd = os.getcwd()\n",
    "\n",
    "# Set GPU memory growth\n",
    "# Allows to only as much GPU memory as needed\n",
    "gpus = tf.config.experimental.list_physical_devices('GPU')\n",
    "if gpus:\n",
    "  try:\n",
    "    # Currently, memory growth needs to be the same across GPUs\n",
    "    for gpu in gpus:\n",
    "      tf.config.experimental.set_memory_growth(gpu, True)\n",
    "    logical_gpus = tf.config.experimental.list_logical_devices('GPU')\n",
    "    print(len(gpus), \"Physical GPUs,\", len(logical_gpus), \"Logical GPUs\")\n",
    "  except RuntimeError as e:\n",
    "    # Memory growth must be set before GPUs have been initialized\n",
    "    print(e)"
   ]
  },
  {
   "cell_type": "markdown",
   "metadata": {},
   "source": [
    "Dataset\n",
    "---"
   ]
  },
  {
   "cell_type": "code",
   "execution_count": 3,
   "metadata": {},
   "outputs": [],
   "source": [
    "# ImageDataGenerator\n",
    "# ------------------\n",
    "import shutil\n",
    "from tensorflow.keras.preprocessing.image import ImageDataGenerator\n",
    "\n",
    "#directories used to handle the datasets\n",
    "dataset_dir = os.path.join(cwd, 'Segmentation_Dataset')\n",
    "training_dir = os.path.join(dataset_dir, 'training')\n",
    "validation_dir = os.path.join(dataset_dir, 'validation')"
   ]
  },
  {
   "cell_type": "code",
   "execution_count": 4,
   "metadata": {},
   "outputs": [],
   "source": [
    "if not os.path.exists(validation_dir):\n",
    "    os.mkdir(validation_dir)"
   ]
  },
  {
   "cell_type": "code",
   "execution_count": 5,
   "metadata": {},
   "outputs": [],
   "source": [
    "images_dir = os.path.join(training_dir, 'images', 'img')\n",
    "masks_dir = os.path.join(training_dir, 'masks', 'img')"
   ]
  },
  {
   "cell_type": "code",
   "execution_count": null,
   "metadata": {},
   "outputs": [],
   "source": [
    "#Validation split in a reproducible way\n",
    "#Done according to https://cs230-stanford.github.io/train-dev-test-split.html#have-a-reproducible-script\n",
    "\n",
    "for subdir, dirs, files in os.walk(images_dir):\n",
    "    filenames = os.listdir(images_dir)\n",
    "    np.random.shuffle(filenames)\n",
    "    split = int(0.8 * len(filenames))\n",
    "    valid_filenames = filenames[split:]\n",
    "    if not os.path.exists(os.path.join(validation_dir, 'images')):\n",
    "        os.mkdir(os.path.join(validation_dir, 'images'))\n",
    "        os.mkdir(os.path.join(validation_dir, 'masks'))\n",
    "        os.mkdir(os.path.join(validation_dir, 'images', 'img'))\n",
    "        os.mkdir(os.path.join(validation_dir, 'masks', 'img'))\n",
    "    for file in valid_filenames:\n",
    "        shutil.move(os.path.join(images_dir, file), os.path.join(validation_dir, 'images', 'img', file))\n",
    "        shutil.move(os.path.join(masks_dir, file), os.path.join(validation_dir, 'masks', 'img', file))"
   ]
  },
  {
   "cell_type": "code",
   "execution_count": null,
   "metadata": {},
   "outputs": [],
   "source": [
    "# ImageDataGenerator\n",
    "# ------------------\n",
    "\n",
    "from tensorflow.keras.preprocessing.image import ImageDataGenerator\n",
    "\n",
    "apply_data_augmentation = False\n",
    "\n",
    "# Create training ImageDataGenerator object\n",
    "# We need two different generators for images and corresponding masks\n",
    "if apply_data_augmentation:\n",
    "    train_img_data_gen = ImageDataGenerator(rotation_range=10,\n",
    "                                            width_shift_range=10,\n",
    "                                            height_shift_range=10,\n",
    "                                            zoom_range=0.3,\n",
    "                                            horizontal_flip=True,\n",
    "                                            vertical_flip=True,\n",
    "                                            fill_mode='constant',\n",
    "                                            cval=0,\n",
    "                                            rescale=1./255)\n",
    "    train_mask_data_gen = ImageDataGenerator(rotation_range=10,\n",
    "                                             width_shift_range=10,\n",
    "                                             height_shift_range=10,\n",
    "                                             zoom_range=0.3,\n",
    "                                             horizontal_flip=True,\n",
    "                                             vertical_flip=True,\n",
    "                                             fill_mode='constant',\n",
    "                                             cval=0)\n",
    "else:\n",
    "    train_img_data_gen = ImageDataGenerator(rescale=1./255)\n",
    "    train_mask_data_gen = ImageDataGenerator()\n",
    "\n",
    "# Create validation and test ImageDataGenerator objects\n",
    "valid_img_data_gen = ImageDataGenerator(rescale=1./255)\n",
    "valid_mask_data_gen = ImageDataGenerator()"
   ]
  },
  {
   "cell_type": "code",
   "execution_count": null,
   "metadata": {},
   "outputs": [],
   "source": [
    "# Create generators to read images from dataset directory\n",
    "# -------------------------------------------------------\n",
    "\n",
    "# Batch size\n",
    "bs = 4\n",
    "\n",
    "# img shape\n",
    "img_h = 256\n",
    "img_w = 256\n",
    "\n",
    "\n",
    "# Training\n",
    "# Two different generators for images and masks\n",
    "# ATTENTION: here the seed is important!! We have to give the same SEED to both the generator\n",
    "# to apply the same transformations/shuffling to images and corresponding masks\n",
    "train_img_gen = train_img_data_gen.flow_from_directory(os.path.join(training_dir, 'images'),\n",
    "                                                       target_size=(img_h, img_w),\n",
    "                                                       batch_size=bs, \n",
    "                                                       class_mode=None, # Because we have no class subfolders in this case\n",
    "                                                       shuffle=True,\n",
    "                                                       interpolation='bilinear',\n",
    "                                                       seed=SEED)  \n",
    "train_mask_gen = train_mask_data_gen.flow_from_directory(os.path.join(training_dir, 'masks'),\n",
    "                                                         target_size=(img_h, img_w),\n",
    "                                                         batch_size=bs,\n",
    "                                                         class_mode=None, # Because we have no class subfolders in this case\n",
    "                                                         shuffle=True,\n",
    "                                                         interpolation='bilinear',\n",
    "                                                         seed=SEED)\n",
    "train_gen = zip(train_img_gen, train_mask_gen)\n",
    "\n",
    "# Validation\n",
    "valid_img_gen = valid_img_data_gen.flow_from_directory(os.path.join(validation_dir, 'images'),\n",
    "                                                       target_size=(img_h, img_w),\n",
    "                                                       batch_size=bs, \n",
    "                                                       class_mode=None, # Because we have no class subfolders in this case\n",
    "                                                       shuffle=False,\n",
    "                                                       interpolation='bilinear',\n",
    "                                                       seed=SEED)\n",
    "valid_mask_gen = valid_mask_data_gen.flow_from_directory(os.path.join(validation_dir, 'masks'),\n",
    "                                                         target_size=(img_h, img_w),\n",
    "                                                         batch_size=bs, \n",
    "                                                         class_mode=None, # Because we have no class subfolders in this case\n",
    "                                                         shuffle=False,\n",
    "                                                         interpolation='bilinear',\n",
    "                                                         seed=SEED)\n",
    "valid_gen = zip(valid_img_gen, valid_mask_gen)"
   ]
  },
  {
   "cell_type": "code",
   "execution_count": null,
   "metadata": {},
   "outputs": [],
   "source": [
    "# Create Dataset objects\n",
    "# ----------------------\n",
    "\n",
    "# Training\n",
    "# --------\n",
    "train_dataset = tf.data.Dataset.from_generator(lambda: train_gen,\n",
    "                                               output_types=(tf.float32, tf.float32),\n",
    "                                               output_shapes=([None, img_h, img_w, 3], [None, img_h, img_w, 3]))\n",
    "\n",
    "def prepare_target(x_, y_):\n",
    "    y_ = tf.cast(tf.expand_dims(y_[..., 0], -1), tf.int32)\n",
    "    return x_, tf.where(y_ > 0, y_ - 254, y_)\n",
    "\n",
    "train_dataset = train_dataset.map(prepare_target)\n",
    "\n",
    "# Repeat\n",
    "train_dataset = train_dataset.repeat()\n",
    "\n",
    "# Validation\n",
    "# ----------\n",
    "valid_dataset = tf.data.Dataset.from_generator(lambda: valid_gen, \n",
    "                                               output_types=(tf.float32, tf.float32),\n",
    "                                               output_shapes=([None, img_h, img_w, 3], [None, img_h, img_w, 3]))\n",
    "valid_dataset = valid_dataset.map(prepare_target)\n",
    "\n",
    "# Repeat\n",
    "valid_dataset = valid_dataset.repeat()"
   ]
  },
  {
   "cell_type": "code",
   "execution_count": null,
   "metadata": {},
   "outputs": [],
   "source": [
    "# Let's test data generator\n",
    "# -------------------------\n",
    "import time\n",
    "import matplotlib.pyplot as plt\n",
    "\n",
    "#%matplotlib notebook\n",
    "\n",
    "#fig, ax = plt.subplots(1, 2)\n",
    "#fig.show()\n",
    "\n",
    "# Assign a color to each class\n",
    "colors_dict = {}\n",
    "colors_dict[1] = [255, 255, 255]  # foreground\n",
    "colors_dict[0] = [0, 0, 0]  # background\n",
    "\n",
    "iterator = iter(train_dataset)\n",
    "\n",
    "for _ in range(1000):\n",
    "    augmented_img, target = next(iterator)\n",
    "    augmented_img = augmented_img[0]   # First element\n",
    "    augmented_img = augmented_img * 255  # denormalize\n",
    "    \n",
    "    target = np.array(target[0, ..., 0])   # First element (squeezing channel dimension)\n",
    "    \n",
    "    # Assign colors (just for visualization)\n",
    "    #target_img = np.zeros([target.shape[0], target.shape[1], 3])\n",
    "    \n",
    "    #target_img[np.where(target == 0)] = colors_dict[0]\n",
    "    #target_img[np.where(target == 1)] = colors_dict[1]\n",
    "    \n",
    "    #ax[0].imshow(np.uint8(augmented_img))\n",
    "    #ax[1].imshow(np.uint8(target_img))\n",
    "    \n",
    "    #fig.canvas.draw()\n",
    "    #time.sleep(1)"
   ]
  },
  {
   "cell_type": "code",
   "execution_count": null,
   "metadata": {},
   "outputs": [],
   "source": [
    "np.unique(target_img)"
   ]
  },
  {
   "cell_type": "code",
   "execution_count": null,
   "metadata": {},
   "outputs": [],
   "source": [
    "# Create Model\n",
    "# ------------\n",
    "\n",
    "def create_model(depth, start_f, num_classes, dynamic_input_shape):\n",
    "\n",
    "    model = tf.keras.Sequential()\n",
    "    \n",
    "    # Encoder\n",
    "    # -------\n",
    "    for i in range(depth):\n",
    "        \n",
    "        if i == 0:\n",
    "            if dynamic_input_shape:\n",
    "                input_shape = [None, None, 3]\n",
    "            else:\n",
    "                input_shape = [img_h, img_w, 3]\n",
    "        else:\n",
    "            input_shape=[None]\n",
    "        \n",
    "        model.add(tf.keras.layers.Conv2D(filters=start_f, \n",
    "                                         kernel_size=(3, 3),\n",
    "                                         strides=(1, 1),\n",
    "                                         padding='same',\n",
    "                                         input_shape=input_shape))\n",
    "        model.add(tf.keras.layers.ReLU())\n",
    "        model.add(tf.keras.layers.MaxPool2D(pool_size=(2, 2)))\n",
    "\n",
    "        start_f *= 2\n",
    "\n",
    "    # Decoder\n",
    "    # -------\n",
    "    for i in range(depth):\n",
    "        model.add(tf.keras.layers.UpSampling2D(2, interpolation='bilinear'))\n",
    "        model.add(tf.keras.layers.Conv2D(filters=start_f // 2,\n",
    "                                         kernel_size=(3, 3),\n",
    "                                         strides=(1, 1),\n",
    "                                         padding='same'))\n",
    "\n",
    "        model.add(tf.keras.layers.ReLU())\n",
    "\n",
    "        start_f = start_f // 2\n",
    "\n",
    "    # Prediction Layer\n",
    "    # ----------------\n",
    "    model.add(tf.keras.layers.Conv2D(filters=num_classes,\n",
    "                                     kernel_size=(1, 1),\n",
    "                                     strides=(1, 1),\n",
    "                                     padding='same',\n",
    "                                     activation='sigmoid'))\n",
    "    \n",
    "    return model"
   ]
  },
  {
   "cell_type": "code",
   "execution_count": null,
   "metadata": {},
   "outputs": [],
   "source": [
    "model = create_model(depth=4, \n",
    "                     start_f=4, \n",
    "                     num_classes=2, \n",
    "                     dynamic_input_shape=False)\n",
    "\n",
    "# Visualize created model as a table\n",
    "model.summary()\n",
    "\n",
    "# Visualize initialized weights\n",
    "model.weights"
   ]
  },
  {
   "cell_type": "code",
   "execution_count": null,
   "metadata": {},
   "outputs": [],
   "source": [
    "# Optimization params\n",
    "# -------------------\n",
    "\n",
    "# Loss\n",
    "# Sparse Categorical Crossentropy to use integers (mask) instead of one-hot encoded labels\n",
    "loss = tf.keras.losses.SparseCategoricalCrossentropy(from_logits=False) \n",
    "# learning rate\n",
    "lr = 1e-3\n",
    "optimizer = tf.keras.optimizers.Adam(learning_rate=lr)\n",
    "# -------------------\n",
    "\n",
    "# Validation metrics\n",
    "# ------------------\n",
    "def my_IoU(y_true, y_pred):\n",
    "    # from pobability to predicted class {0, 1}\n",
    "    y_pred = tf.cast(y_pred > 0.5, tf.float32) # when using sigmoid. Use argmax for softmax\n",
    "\n",
    "    # A and B\n",
    "    intersection = tf.reduce_sum(y_true * y_pred)\n",
    "    # A or B\n",
    "    union = tf.reduce_sum(y_true) + tf.reduce_sum(y_pred) - intersection\n",
    "    # IoU\n",
    "    return intersection / union\n",
    "\n",
    "# ------------------\n",
    "\n",
    "# Compile Model\n",
    "model.compile(optimizer=optimizer, loss=loss, metrics=[my_IoU])"
   ]
  },
  {
   "cell_type": "markdown",
   "metadata": {},
   "source": [
    "Training with callbacks\n",
    "---"
   ]
  },
  {
   "cell_type": "code",
   "execution_count": null,
   "metadata": {},
   "outputs": [],
   "source": [
    "import os\n",
    "from datetime import datetime\n",
    "\n",
    "# from tensorflow.compat.v1 import ConfigProto\n",
    "# from tensorflow.compat.v1 import InteractiveSession\n",
    "\n",
    "# config = ConfigProto()\n",
    "# config.gpu_options.allow_growth = True\n",
    "# session = InteractiveSession(config=config)\n",
    "\n",
    "cwd = os.getcwd()\n",
    "\n",
    "exps_dir = os.path.join(cwd, 'segmentation_experiments')\n",
    "if not os.path.exists(exps_dir):\n",
    "    os.makedirs(exps_dir)\n",
    "\n",
    "now = datetime.now().strftime('%b%d_%H-%M-%S')\n",
    "\n",
    "model_name = 'CNN'\n",
    "\n",
    "exp_dir = os.path.join(exps_dir, model_name + '_' + str(now))\n",
    "if not os.path.exists(exp_dir):\n",
    "    os.makedirs(exp_dir)\n",
    "    \n",
    "callbacks = []\n",
    "\n",
    "# Model checkpoint\n",
    "# ----------------\n",
    "ckpt_dir = os.path.join(exp_dir, 'ckpts')\n",
    "if not os.path.exists(ckpt_dir):\n",
    "    os.makedirs(ckpt_dir)\n",
    "\n",
    "ckpt_callback = tf.keras.callbacks.ModelCheckpoint(filepath=os.path.join(ckpt_dir, 'cp_{epoch:02d}.ckpt'), \n",
    "                                                   save_weights_only=True)  # False to save the model directly\n",
    "callbacks.append(ckpt_callback)\n",
    "\n",
    "# Visualize Learning on Tensorboard\n",
    "# ---------------------------------\n",
    "tb_dir = os.path.join(exp_dir, 'tb_logs')\n",
    "if not os.path.exists(tb_dir):\n",
    "    os.makedirs(tb_dir)\n",
    "    \n",
    "# By default shows losses and metrics for both training and validation\n",
    "tb_callback = tf.keras.callbacks.TensorBoard(log_dir=tb_dir,\n",
    "                                             profile_batch=0,\n",
    "                                             histogram_freq=0)  # if 1 shows weights histograms\n",
    "callbacks.append(tb_callback)"
   ]
  },
  {
   "cell_type": "code",
   "execution_count": null,
   "metadata": {},
   "outputs": [],
   "source": [
    "# Early Stopping\n",
    "# --------------\n",
    "early_stop = True\n",
    "if early_stop:\n",
    "    es_callback = tf.keras.callbacks.EarlyStopping(monitor='val_loss', patience=10)\n",
    "    callbacks.append(es_callback)\n",
    "\n",
    "\n",
    "model.fit(x=train_dataset,\n",
    "          epochs=10,  #### set repeat in training dataset\n",
    "          steps_per_epoch=len(train_img_gen),\n",
    "          validation_data=valid_dataset,\n",
    "          validation_steps=len(valid_img_gen), \n",
    "          callbacks=callbacks)\n",
    "\n",
    "\n",
    "# How to visualize Tensorboard\n",
    "\n",
    "# 1. tensorboard --logdir EXPERIMENTS_DIR --port PORT     <- from terminal\n",
    "# 2. localhost:PORT   <- in your browser"
   ]
  },
  {
   "cell_type": "markdown",
   "metadata": {},
   "source": [
    "Dataset Split Json creation\n",
    "---"
   ]
  },
  {
   "cell_type": "code",
   "execution_count": null,
   "metadata": {},
   "outputs": [],
   "source": [
    "import json\n",
    "\n",
    "directories = os.listdir(training_dir)\n",
    "\n",
    "dataset_split = {}\n",
    "\n",
    "dataset_split[\"training\"] =  os.listdir(images_dir)\n",
    "                                                    \n",
    "dataset_split[\"validation\"] =  os.listdir(os.path.join(validation_dir, 'images', 'img'))\n",
    "    \n",
    "with open('dataset_split.json', 'w') as fp:\n",
    "     json.dump(dataset_split, fp)"
   ]
  },
  {
   "cell_type": "code",
   "execution_count": 6,
   "metadata": {},
   "outputs": [
    {
     "data": {
      "text/plain": [
       "'C:\\\\Users\\\\fralu\\\\Documents\\\\GitHub\\\\anndl\\\\image-segmentation\\\\Segmentation_Dataset\\\\training\\\\images\\\\img\\\\1001.tif'"
      ]
     },
     "execution_count": 6,
     "metadata": {},
     "output_type": "execute_result"
    },
    {
     "data": {
      "text/plain": [
       "'C:\\\\Users\\\\fralu\\\\Documents\\\\GitHub\\\\anndl\\\\image-segmentation\\\\Segmentation_Dataset\\\\training\\\\masks\\\\img\\\\1001.tif'"
      ]
     },
     "execution_count": 6,
     "metadata": {},
     "output_type": "execute_result"
    },
    {
     "data": {
      "text/plain": [
       "'C:\\\\Users\\\\fralu\\\\Documents\\\\GitHub\\\\anndl\\\\image-segmentation\\\\Segmentation_Dataset\\\\training\\\\images\\\\img\\\\1006.tif'"
      ]
     },
     "execution_count": 6,
     "metadata": {},
     "output_type": "execute_result"
    },
    {
     "data": {
      "text/plain": [
       "'C:\\\\Users\\\\fralu\\\\Documents\\\\GitHub\\\\anndl\\\\image-segmentation\\\\Segmentation_Dataset\\\\training\\\\masks\\\\img\\\\1006.tif'"
      ]
     },
     "execution_count": 6,
     "metadata": {},
     "output_type": "execute_result"
    },
    {
     "data": {
      "text/plain": [
       "'C:\\\\Users\\\\fralu\\\\Documents\\\\GitHub\\\\anndl\\\\image-segmentation\\\\Segmentation_Dataset\\\\training\\\\images\\\\img\\\\1014.tif'"
      ]
     },
     "execution_count": 6,
     "metadata": {},
     "output_type": "execute_result"
    },
    {
     "data": {
      "text/plain": [
       "'C:\\\\Users\\\\fralu\\\\Documents\\\\GitHub\\\\anndl\\\\image-segmentation\\\\Segmentation_Dataset\\\\training\\\\masks\\\\img\\\\1014.tif'"
      ]
     },
     "execution_count": 6,
     "metadata": {},
     "output_type": "execute_result"
    },
    {
     "data": {
      "text/plain": [
       "'C:\\\\Users\\\\fralu\\\\Documents\\\\GitHub\\\\anndl\\\\image-segmentation\\\\Segmentation_Dataset\\\\training\\\\images\\\\img\\\\1017.tif'"
      ]
     },
     "execution_count": 6,
     "metadata": {},
     "output_type": "execute_result"
    },
    {
     "data": {
      "text/plain": [
       "'C:\\\\Users\\\\fralu\\\\Documents\\\\GitHub\\\\anndl\\\\image-segmentation\\\\Segmentation_Dataset\\\\training\\\\masks\\\\img\\\\1017.tif'"
      ]
     },
     "execution_count": 6,
     "metadata": {},
     "output_type": "execute_result"
    },
    {
     "data": {
      "text/plain": [
       "'C:\\\\Users\\\\fralu\\\\Documents\\\\GitHub\\\\anndl\\\\image-segmentation\\\\Segmentation_Dataset\\\\training\\\\images\\\\img\\\\1018.tif'"
      ]
     },
     "execution_count": 6,
     "metadata": {},
     "output_type": "execute_result"
    },
    {
     "data": {
      "text/plain": [
       "'C:\\\\Users\\\\fralu\\\\Documents\\\\GitHub\\\\anndl\\\\image-segmentation\\\\Segmentation_Dataset\\\\training\\\\masks\\\\img\\\\1018.tif'"
      ]
     },
     "execution_count": 6,
     "metadata": {},
     "output_type": "execute_result"
    },
    {
     "data": {
      "text/plain": [
       "'C:\\\\Users\\\\fralu\\\\Documents\\\\GitHub\\\\anndl\\\\image-segmentation\\\\Segmentation_Dataset\\\\training\\\\images\\\\img\\\\1022.tif'"
      ]
     },
     "execution_count": 6,
     "metadata": {},
     "output_type": "execute_result"
    },
    {
     "data": {
      "text/plain": [
       "'C:\\\\Users\\\\fralu\\\\Documents\\\\GitHub\\\\anndl\\\\image-segmentation\\\\Segmentation_Dataset\\\\training\\\\masks\\\\img\\\\1022.tif'"
      ]
     },
     "execution_count": 6,
     "metadata": {},
     "output_type": "execute_result"
    },
    {
     "data": {
      "text/plain": [
       "'C:\\\\Users\\\\fralu\\\\Documents\\\\GitHub\\\\anndl\\\\image-segmentation\\\\Segmentation_Dataset\\\\training\\\\images\\\\img\\\\1039.tif'"
      ]
     },
     "execution_count": 6,
     "metadata": {},
     "output_type": "execute_result"
    },
    {
     "data": {
      "text/plain": [
       "'C:\\\\Users\\\\fralu\\\\Documents\\\\GitHub\\\\anndl\\\\image-segmentation\\\\Segmentation_Dataset\\\\training\\\\masks\\\\img\\\\1039.tif'"
      ]
     },
     "execution_count": 6,
     "metadata": {},
     "output_type": "execute_result"
    },
    {
     "data": {
      "text/plain": [
       "'C:\\\\Users\\\\fralu\\\\Documents\\\\GitHub\\\\anndl\\\\image-segmentation\\\\Segmentation_Dataset\\\\training\\\\images\\\\img\\\\1041.tif'"
      ]
     },
     "execution_count": 6,
     "metadata": {},
     "output_type": "execute_result"
    },
    {
     "data": {
      "text/plain": [
       "'C:\\\\Users\\\\fralu\\\\Documents\\\\GitHub\\\\anndl\\\\image-segmentation\\\\Segmentation_Dataset\\\\training\\\\masks\\\\img\\\\1041.tif'"
      ]
     },
     "execution_count": 6,
     "metadata": {},
     "output_type": "execute_result"
    },
    {
     "data": {
      "text/plain": [
       "'C:\\\\Users\\\\fralu\\\\Documents\\\\GitHub\\\\anndl\\\\image-segmentation\\\\Segmentation_Dataset\\\\training\\\\images\\\\img\\\\1042.tif'"
      ]
     },
     "execution_count": 6,
     "metadata": {},
     "output_type": "execute_result"
    },
    {
     "data": {
      "text/plain": [
       "'C:\\\\Users\\\\fralu\\\\Documents\\\\GitHub\\\\anndl\\\\image-segmentation\\\\Segmentation_Dataset\\\\training\\\\masks\\\\img\\\\1042.tif'"
      ]
     },
     "execution_count": 6,
     "metadata": {},
     "output_type": "execute_result"
    },
    {
     "data": {
      "text/plain": [
       "'C:\\\\Users\\\\fralu\\\\Documents\\\\GitHub\\\\anndl\\\\image-segmentation\\\\Segmentation_Dataset\\\\training\\\\images\\\\img\\\\1046.tif'"
      ]
     },
     "execution_count": 6,
     "metadata": {},
     "output_type": "execute_result"
    },
    {
     "data": {
      "text/plain": [
       "'C:\\\\Users\\\\fralu\\\\Documents\\\\GitHub\\\\anndl\\\\image-segmentation\\\\Segmentation_Dataset\\\\training\\\\masks\\\\img\\\\1046.tif'"
      ]
     },
     "execution_count": 6,
     "metadata": {},
     "output_type": "execute_result"
    },
    {
     "data": {
      "text/plain": [
       "'C:\\\\Users\\\\fralu\\\\Documents\\\\GitHub\\\\anndl\\\\image-segmentation\\\\Segmentation_Dataset\\\\training\\\\images\\\\img\\\\1055.tif'"
      ]
     },
     "execution_count": 6,
     "metadata": {},
     "output_type": "execute_result"
    },
    {
     "data": {
      "text/plain": [
       "'C:\\\\Users\\\\fralu\\\\Documents\\\\GitHub\\\\anndl\\\\image-segmentation\\\\Segmentation_Dataset\\\\training\\\\masks\\\\img\\\\1055.tif'"
      ]
     },
     "execution_count": 6,
     "metadata": {},
     "output_type": "execute_result"
    },
    {
     "data": {
      "text/plain": [
       "'C:\\\\Users\\\\fralu\\\\Documents\\\\GitHub\\\\anndl\\\\image-segmentation\\\\Segmentation_Dataset\\\\training\\\\images\\\\img\\\\1056.tif'"
      ]
     },
     "execution_count": 6,
     "metadata": {},
     "output_type": "execute_result"
    },
    {
     "data": {
      "text/plain": [
       "'C:\\\\Users\\\\fralu\\\\Documents\\\\GitHub\\\\anndl\\\\image-segmentation\\\\Segmentation_Dataset\\\\training\\\\masks\\\\img\\\\1056.tif'"
      ]
     },
     "execution_count": 6,
     "metadata": {},
     "output_type": "execute_result"
    },
    {
     "data": {
      "text/plain": [
       "'C:\\\\Users\\\\fralu\\\\Documents\\\\GitHub\\\\anndl\\\\image-segmentation\\\\Segmentation_Dataset\\\\training\\\\images\\\\img\\\\1058.tif'"
      ]
     },
     "execution_count": 6,
     "metadata": {},
     "output_type": "execute_result"
    },
    {
     "data": {
      "text/plain": [
       "'C:\\\\Users\\\\fralu\\\\Documents\\\\GitHub\\\\anndl\\\\image-segmentation\\\\Segmentation_Dataset\\\\training\\\\masks\\\\img\\\\1058.tif'"
      ]
     },
     "execution_count": 6,
     "metadata": {},
     "output_type": "execute_result"
    },
    {
     "data": {
      "text/plain": [
       "'C:\\\\Users\\\\fralu\\\\Documents\\\\GitHub\\\\anndl\\\\image-segmentation\\\\Segmentation_Dataset\\\\training\\\\images\\\\img\\\\1061.tif'"
      ]
     },
     "execution_count": 6,
     "metadata": {},
     "output_type": "execute_result"
    },
    {
     "data": {
      "text/plain": [
       "'C:\\\\Users\\\\fralu\\\\Documents\\\\GitHub\\\\anndl\\\\image-segmentation\\\\Segmentation_Dataset\\\\training\\\\masks\\\\img\\\\1061.tif'"
      ]
     },
     "execution_count": 6,
     "metadata": {},
     "output_type": "execute_result"
    },
    {
     "data": {
      "text/plain": [
       "'C:\\\\Users\\\\fralu\\\\Documents\\\\GitHub\\\\anndl\\\\image-segmentation\\\\Segmentation_Dataset\\\\training\\\\images\\\\img\\\\1076.tif'"
      ]
     },
     "execution_count": 6,
     "metadata": {},
     "output_type": "execute_result"
    },
    {
     "data": {
      "text/plain": [
       "'C:\\\\Users\\\\fralu\\\\Documents\\\\GitHub\\\\anndl\\\\image-segmentation\\\\Segmentation_Dataset\\\\training\\\\masks\\\\img\\\\1076.tif'"
      ]
     },
     "execution_count": 6,
     "metadata": {},
     "output_type": "execute_result"
    },
    {
     "data": {
      "text/plain": [
       "'C:\\\\Users\\\\fralu\\\\Documents\\\\GitHub\\\\anndl\\\\image-segmentation\\\\Segmentation_Dataset\\\\training\\\\images\\\\img\\\\1087.tif'"
      ]
     },
     "execution_count": 6,
     "metadata": {},
     "output_type": "execute_result"
    },
    {
     "data": {
      "text/plain": [
       "'C:\\\\Users\\\\fralu\\\\Documents\\\\GitHub\\\\anndl\\\\image-segmentation\\\\Segmentation_Dataset\\\\training\\\\masks\\\\img\\\\1087.tif'"
      ]
     },
     "execution_count": 6,
     "metadata": {},
     "output_type": "execute_result"
    },
    {
     "data": {
      "text/plain": [
       "'C:\\\\Users\\\\fralu\\\\Documents\\\\GitHub\\\\anndl\\\\image-segmentation\\\\Segmentation_Dataset\\\\training\\\\images\\\\img\\\\1091.tif'"
      ]
     },
     "execution_count": 6,
     "metadata": {},
     "output_type": "execute_result"
    },
    {
     "data": {
      "text/plain": [
       "'C:\\\\Users\\\\fralu\\\\Documents\\\\GitHub\\\\anndl\\\\image-segmentation\\\\Segmentation_Dataset\\\\training\\\\masks\\\\img\\\\1091.tif'"
      ]
     },
     "execution_count": 6,
     "metadata": {},
     "output_type": "execute_result"
    },
    {
     "data": {
      "text/plain": [
       "'C:\\\\Users\\\\fralu\\\\Documents\\\\GitHub\\\\anndl\\\\image-segmentation\\\\Segmentation_Dataset\\\\training\\\\images\\\\img\\\\1097.tif'"
      ]
     },
     "execution_count": 6,
     "metadata": {},
     "output_type": "execute_result"
    },
    {
     "data": {
      "text/plain": [
       "'C:\\\\Users\\\\fralu\\\\Documents\\\\GitHub\\\\anndl\\\\image-segmentation\\\\Segmentation_Dataset\\\\training\\\\masks\\\\img\\\\1097.tif'"
      ]
     },
     "execution_count": 6,
     "metadata": {},
     "output_type": "execute_result"
    },
    {
     "data": {
      "text/plain": [
       "'C:\\\\Users\\\\fralu\\\\Documents\\\\GitHub\\\\anndl\\\\image-segmentation\\\\Segmentation_Dataset\\\\training\\\\images\\\\img\\\\1106.tif'"
      ]
     },
     "execution_count": 6,
     "metadata": {},
     "output_type": "execute_result"
    },
    {
     "data": {
      "text/plain": [
       "'C:\\\\Users\\\\fralu\\\\Documents\\\\GitHub\\\\anndl\\\\image-segmentation\\\\Segmentation_Dataset\\\\training\\\\masks\\\\img\\\\1106.tif'"
      ]
     },
     "execution_count": 6,
     "metadata": {},
     "output_type": "execute_result"
    },
    {
     "data": {
      "text/plain": [
       "'C:\\\\Users\\\\fralu\\\\Documents\\\\GitHub\\\\anndl\\\\image-segmentation\\\\Segmentation_Dataset\\\\training\\\\images\\\\img\\\\1109.tif'"
      ]
     },
     "execution_count": 6,
     "metadata": {},
     "output_type": "execute_result"
    },
    {
     "data": {
      "text/plain": [
       "'C:\\\\Users\\\\fralu\\\\Documents\\\\GitHub\\\\anndl\\\\image-segmentation\\\\Segmentation_Dataset\\\\training\\\\masks\\\\img\\\\1109.tif'"
      ]
     },
     "execution_count": 6,
     "metadata": {},
     "output_type": "execute_result"
    },
    {
     "data": {
      "text/plain": [
       "'C:\\\\Users\\\\fralu\\\\Documents\\\\GitHub\\\\anndl\\\\image-segmentation\\\\Segmentation_Dataset\\\\training\\\\images\\\\img\\\\1117.tif'"
      ]
     },
     "execution_count": 6,
     "metadata": {},
     "output_type": "execute_result"
    },
    {
     "data": {
      "text/plain": [
       "'C:\\\\Users\\\\fralu\\\\Documents\\\\GitHub\\\\anndl\\\\image-segmentation\\\\Segmentation_Dataset\\\\training\\\\masks\\\\img\\\\1117.tif'"
      ]
     },
     "execution_count": 6,
     "metadata": {},
     "output_type": "execute_result"
    },
    {
     "data": {
      "text/plain": [
       "'C:\\\\Users\\\\fralu\\\\Documents\\\\GitHub\\\\anndl\\\\image-segmentation\\\\Segmentation_Dataset\\\\training\\\\images\\\\img\\\\1126.tif'"
      ]
     },
     "execution_count": 6,
     "metadata": {},
     "output_type": "execute_result"
    },
    {
     "data": {
      "text/plain": [
       "'C:\\\\Users\\\\fralu\\\\Documents\\\\GitHub\\\\anndl\\\\image-segmentation\\\\Segmentation_Dataset\\\\training\\\\masks\\\\img\\\\1126.tif'"
      ]
     },
     "execution_count": 6,
     "metadata": {},
     "output_type": "execute_result"
    },
    {
     "data": {
      "text/plain": [
       "'C:\\\\Users\\\\fralu\\\\Documents\\\\GitHub\\\\anndl\\\\image-segmentation\\\\Segmentation_Dataset\\\\training\\\\images\\\\img\\\\1131.tif'"
      ]
     },
     "execution_count": 6,
     "metadata": {},
     "output_type": "execute_result"
    },
    {
     "data": {
      "text/plain": [
       "'C:\\\\Users\\\\fralu\\\\Documents\\\\GitHub\\\\anndl\\\\image-segmentation\\\\Segmentation_Dataset\\\\training\\\\masks\\\\img\\\\1131.tif'"
      ]
     },
     "execution_count": 6,
     "metadata": {},
     "output_type": "execute_result"
    },
    {
     "data": {
      "text/plain": [
       "'C:\\\\Users\\\\fralu\\\\Documents\\\\GitHub\\\\anndl\\\\image-segmentation\\\\Segmentation_Dataset\\\\training\\\\images\\\\img\\\\1139.tif'"
      ]
     },
     "execution_count": 6,
     "metadata": {},
     "output_type": "execute_result"
    },
    {
     "data": {
      "text/plain": [
       "'C:\\\\Users\\\\fralu\\\\Documents\\\\GitHub\\\\anndl\\\\image-segmentation\\\\Segmentation_Dataset\\\\training\\\\masks\\\\img\\\\1139.tif'"
      ]
     },
     "execution_count": 6,
     "metadata": {},
     "output_type": "execute_result"
    },
    {
     "data": {
      "text/plain": [
       "'C:\\\\Users\\\\fralu\\\\Documents\\\\GitHub\\\\anndl\\\\image-segmentation\\\\Segmentation_Dataset\\\\training\\\\images\\\\img\\\\1141.tif'"
      ]
     },
     "execution_count": 6,
     "metadata": {},
     "output_type": "execute_result"
    },
    {
     "data": {
      "text/plain": [
       "'C:\\\\Users\\\\fralu\\\\Documents\\\\GitHub\\\\anndl\\\\image-segmentation\\\\Segmentation_Dataset\\\\training\\\\masks\\\\img\\\\1141.tif'"
      ]
     },
     "execution_count": 6,
     "metadata": {},
     "output_type": "execute_result"
    },
    {
     "data": {
      "text/plain": [
       "'C:\\\\Users\\\\fralu\\\\Documents\\\\GitHub\\\\anndl\\\\image-segmentation\\\\Segmentation_Dataset\\\\training\\\\images\\\\img\\\\115.tif'"
      ]
     },
     "execution_count": 6,
     "metadata": {},
     "output_type": "execute_result"
    },
    {
     "data": {
      "text/plain": [
       "'C:\\\\Users\\\\fralu\\\\Documents\\\\GitHub\\\\anndl\\\\image-segmentation\\\\Segmentation_Dataset\\\\training\\\\masks\\\\img\\\\115.tif'"
      ]
     },
     "execution_count": 6,
     "metadata": {},
     "output_type": "execute_result"
    },
    {
     "data": {
      "text/plain": [
       "'C:\\\\Users\\\\fralu\\\\Documents\\\\GitHub\\\\anndl\\\\image-segmentation\\\\Segmentation_Dataset\\\\training\\\\images\\\\img\\\\117.tif'"
      ]
     },
     "execution_count": 6,
     "metadata": {},
     "output_type": "execute_result"
    },
    {
     "data": {
      "text/plain": [
       "'C:\\\\Users\\\\fralu\\\\Documents\\\\GitHub\\\\anndl\\\\image-segmentation\\\\Segmentation_Dataset\\\\training\\\\masks\\\\img\\\\117.tif'"
      ]
     },
     "execution_count": 6,
     "metadata": {},
     "output_type": "execute_result"
    },
    {
     "data": {
      "text/plain": [
       "'C:\\\\Users\\\\fralu\\\\Documents\\\\GitHub\\\\anndl\\\\image-segmentation\\\\Segmentation_Dataset\\\\training\\\\images\\\\img\\\\118.tif'"
      ]
     },
     "execution_count": 6,
     "metadata": {},
     "output_type": "execute_result"
    },
    {
     "data": {
      "text/plain": [
       "'C:\\\\Users\\\\fralu\\\\Documents\\\\GitHub\\\\anndl\\\\image-segmentation\\\\Segmentation_Dataset\\\\training\\\\masks\\\\img\\\\118.tif'"
      ]
     },
     "execution_count": 6,
     "metadata": {},
     "output_type": "execute_result"
    },
    {
     "data": {
      "text/plain": [
       "'C:\\\\Users\\\\fralu\\\\Documents\\\\GitHub\\\\anndl\\\\image-segmentation\\\\Segmentation_Dataset\\\\training\\\\images\\\\img\\\\12.tif'"
      ]
     },
     "execution_count": 6,
     "metadata": {},
     "output_type": "execute_result"
    },
    {
     "data": {
      "text/plain": [
       "'C:\\\\Users\\\\fralu\\\\Documents\\\\GitHub\\\\anndl\\\\image-segmentation\\\\Segmentation_Dataset\\\\training\\\\masks\\\\img\\\\12.tif'"
      ]
     },
     "execution_count": 6,
     "metadata": {},
     "output_type": "execute_result"
    },
    {
     "data": {
      "text/plain": [
       "'C:\\\\Users\\\\fralu\\\\Documents\\\\GitHub\\\\anndl\\\\image-segmentation\\\\Segmentation_Dataset\\\\training\\\\images\\\\img\\\\1233.tif'"
      ]
     },
     "execution_count": 6,
     "metadata": {},
     "output_type": "execute_result"
    },
    {
     "data": {
      "text/plain": [
       "'C:\\\\Users\\\\fralu\\\\Documents\\\\GitHub\\\\anndl\\\\image-segmentation\\\\Segmentation_Dataset\\\\training\\\\masks\\\\img\\\\1233.tif'"
      ]
     },
     "execution_count": 6,
     "metadata": {},
     "output_type": "execute_result"
    },
    {
     "data": {
      "text/plain": [
       "'C:\\\\Users\\\\fralu\\\\Documents\\\\GitHub\\\\anndl\\\\image-segmentation\\\\Segmentation_Dataset\\\\training\\\\images\\\\img\\\\1234.tif'"
      ]
     },
     "execution_count": 6,
     "metadata": {},
     "output_type": "execute_result"
    },
    {
     "data": {
      "text/plain": [
       "'C:\\\\Users\\\\fralu\\\\Documents\\\\GitHub\\\\anndl\\\\image-segmentation\\\\Segmentation_Dataset\\\\training\\\\masks\\\\img\\\\1234.tif'"
      ]
     },
     "execution_count": 6,
     "metadata": {},
     "output_type": "execute_result"
    },
    {
     "data": {
      "text/plain": [
       "'C:\\\\Users\\\\fralu\\\\Documents\\\\GitHub\\\\anndl\\\\image-segmentation\\\\Segmentation_Dataset\\\\training\\\\images\\\\img\\\\1239.tif'"
      ]
     },
     "execution_count": 6,
     "metadata": {},
     "output_type": "execute_result"
    },
    {
     "data": {
      "text/plain": [
       "'C:\\\\Users\\\\fralu\\\\Documents\\\\GitHub\\\\anndl\\\\image-segmentation\\\\Segmentation_Dataset\\\\training\\\\masks\\\\img\\\\1239.tif'"
      ]
     },
     "execution_count": 6,
     "metadata": {},
     "output_type": "execute_result"
    },
    {
     "data": {
      "text/plain": [
       "'C:\\\\Users\\\\fralu\\\\Documents\\\\GitHub\\\\anndl\\\\image-segmentation\\\\Segmentation_Dataset\\\\training\\\\images\\\\img\\\\1240.tif'"
      ]
     },
     "execution_count": 6,
     "metadata": {},
     "output_type": "execute_result"
    },
    {
     "data": {
      "text/plain": [
       "'C:\\\\Users\\\\fralu\\\\Documents\\\\GitHub\\\\anndl\\\\image-segmentation\\\\Segmentation_Dataset\\\\training\\\\masks\\\\img\\\\1240.tif'"
      ]
     },
     "execution_count": 6,
     "metadata": {},
     "output_type": "execute_result"
    },
    {
     "data": {
      "text/plain": [
       "'C:\\\\Users\\\\fralu\\\\Documents\\\\GitHub\\\\anndl\\\\image-segmentation\\\\Segmentation_Dataset\\\\training\\\\images\\\\img\\\\1242.tif'"
      ]
     },
     "execution_count": 6,
     "metadata": {},
     "output_type": "execute_result"
    },
    {
     "data": {
      "text/plain": [
       "'C:\\\\Users\\\\fralu\\\\Documents\\\\GitHub\\\\anndl\\\\image-segmentation\\\\Segmentation_Dataset\\\\training\\\\masks\\\\img\\\\1242.tif'"
      ]
     },
     "execution_count": 6,
     "metadata": {},
     "output_type": "execute_result"
    },
    {
     "data": {
      "text/plain": [
       "'C:\\\\Users\\\\fralu\\\\Documents\\\\GitHub\\\\anndl\\\\image-segmentation\\\\Segmentation_Dataset\\\\training\\\\images\\\\img\\\\1246.tif'"
      ]
     },
     "execution_count": 6,
     "metadata": {},
     "output_type": "execute_result"
    },
    {
     "data": {
      "text/plain": [
       "'C:\\\\Users\\\\fralu\\\\Documents\\\\GitHub\\\\anndl\\\\image-segmentation\\\\Segmentation_Dataset\\\\training\\\\masks\\\\img\\\\1246.tif'"
      ]
     },
     "execution_count": 6,
     "metadata": {},
     "output_type": "execute_result"
    },
    {
     "data": {
      "text/plain": [
       "'C:\\\\Users\\\\fralu\\\\Documents\\\\GitHub\\\\anndl\\\\image-segmentation\\\\Segmentation_Dataset\\\\training\\\\images\\\\img\\\\1252.tif'"
      ]
     },
     "execution_count": 6,
     "metadata": {},
     "output_type": "execute_result"
    },
    {
     "data": {
      "text/plain": [
       "'C:\\\\Users\\\\fralu\\\\Documents\\\\GitHub\\\\anndl\\\\image-segmentation\\\\Segmentation_Dataset\\\\training\\\\masks\\\\img\\\\1252.tif'"
      ]
     },
     "execution_count": 6,
     "metadata": {},
     "output_type": "execute_result"
    },
    {
     "data": {
      "text/plain": [
       "'C:\\\\Users\\\\fralu\\\\Documents\\\\GitHub\\\\anndl\\\\image-segmentation\\\\Segmentation_Dataset\\\\training\\\\images\\\\img\\\\126.tif'"
      ]
     },
     "execution_count": 6,
     "metadata": {},
     "output_type": "execute_result"
    },
    {
     "data": {
      "text/plain": [
       "'C:\\\\Users\\\\fralu\\\\Documents\\\\GitHub\\\\anndl\\\\image-segmentation\\\\Segmentation_Dataset\\\\training\\\\masks\\\\img\\\\126.tif'"
      ]
     },
     "execution_count": 6,
     "metadata": {},
     "output_type": "execute_result"
    },
    {
     "data": {
      "text/plain": [
       "'C:\\\\Users\\\\fralu\\\\Documents\\\\GitHub\\\\anndl\\\\image-segmentation\\\\Segmentation_Dataset\\\\training\\\\images\\\\img\\\\1260.tif'"
      ]
     },
     "execution_count": 6,
     "metadata": {},
     "output_type": "execute_result"
    },
    {
     "data": {
      "text/plain": [
       "'C:\\\\Users\\\\fralu\\\\Documents\\\\GitHub\\\\anndl\\\\image-segmentation\\\\Segmentation_Dataset\\\\training\\\\masks\\\\img\\\\1260.tif'"
      ]
     },
     "execution_count": 6,
     "metadata": {},
     "output_type": "execute_result"
    },
    {
     "data": {
      "text/plain": [
       "'C:\\\\Users\\\\fralu\\\\Documents\\\\GitHub\\\\anndl\\\\image-segmentation\\\\Segmentation_Dataset\\\\training\\\\images\\\\img\\\\1289.tif'"
      ]
     },
     "execution_count": 6,
     "metadata": {},
     "output_type": "execute_result"
    },
    {
     "data": {
      "text/plain": [
       "'C:\\\\Users\\\\fralu\\\\Documents\\\\GitHub\\\\anndl\\\\image-segmentation\\\\Segmentation_Dataset\\\\training\\\\masks\\\\img\\\\1289.tif'"
      ]
     },
     "execution_count": 6,
     "metadata": {},
     "output_type": "execute_result"
    },
    {
     "data": {
      "text/plain": [
       "'C:\\\\Users\\\\fralu\\\\Documents\\\\GitHub\\\\anndl\\\\image-segmentation\\\\Segmentation_Dataset\\\\training\\\\images\\\\img\\\\1299.tif'"
      ]
     },
     "execution_count": 6,
     "metadata": {},
     "output_type": "execute_result"
    },
    {
     "data": {
      "text/plain": [
       "'C:\\\\Users\\\\fralu\\\\Documents\\\\GitHub\\\\anndl\\\\image-segmentation\\\\Segmentation_Dataset\\\\training\\\\masks\\\\img\\\\1299.tif'"
      ]
     },
     "execution_count": 6,
     "metadata": {},
     "output_type": "execute_result"
    },
    {
     "data": {
      "text/plain": [
       "'C:\\\\Users\\\\fralu\\\\Documents\\\\GitHub\\\\anndl\\\\image-segmentation\\\\Segmentation_Dataset\\\\training\\\\images\\\\img\\\\130.tif'"
      ]
     },
     "execution_count": 6,
     "metadata": {},
     "output_type": "execute_result"
    },
    {
     "data": {
      "text/plain": [
       "'C:\\\\Users\\\\fralu\\\\Documents\\\\GitHub\\\\anndl\\\\image-segmentation\\\\Segmentation_Dataset\\\\training\\\\masks\\\\img\\\\130.tif'"
      ]
     },
     "execution_count": 6,
     "metadata": {},
     "output_type": "execute_result"
    },
    {
     "data": {
      "text/plain": [
       "'C:\\\\Users\\\\fralu\\\\Documents\\\\GitHub\\\\anndl\\\\image-segmentation\\\\Segmentation_Dataset\\\\training\\\\images\\\\img\\\\1304.tif'"
      ]
     },
     "execution_count": 6,
     "metadata": {},
     "output_type": "execute_result"
    },
    {
     "data": {
      "text/plain": [
       "'C:\\\\Users\\\\fralu\\\\Documents\\\\GitHub\\\\anndl\\\\image-segmentation\\\\Segmentation_Dataset\\\\training\\\\masks\\\\img\\\\1304.tif'"
      ]
     },
     "execution_count": 6,
     "metadata": {},
     "output_type": "execute_result"
    },
    {
     "data": {
      "text/plain": [
       "'C:\\\\Users\\\\fralu\\\\Documents\\\\GitHub\\\\anndl\\\\image-segmentation\\\\Segmentation_Dataset\\\\training\\\\images\\\\img\\\\1323.tif'"
      ]
     },
     "execution_count": 6,
     "metadata": {},
     "output_type": "execute_result"
    },
    {
     "data": {
      "text/plain": [
       "'C:\\\\Users\\\\fralu\\\\Documents\\\\GitHub\\\\anndl\\\\image-segmentation\\\\Segmentation_Dataset\\\\training\\\\masks\\\\img\\\\1323.tif'"
      ]
     },
     "execution_count": 6,
     "metadata": {},
     "output_type": "execute_result"
    },
    {
     "data": {
      "text/plain": [
       "'C:\\\\Users\\\\fralu\\\\Documents\\\\GitHub\\\\anndl\\\\image-segmentation\\\\Segmentation_Dataset\\\\training\\\\images\\\\img\\\\1326.tif'"
      ]
     },
     "execution_count": 6,
     "metadata": {},
     "output_type": "execute_result"
    },
    {
     "data": {
      "text/plain": [
       "'C:\\\\Users\\\\fralu\\\\Documents\\\\GitHub\\\\anndl\\\\image-segmentation\\\\Segmentation_Dataset\\\\training\\\\masks\\\\img\\\\1326.tif'"
      ]
     },
     "execution_count": 6,
     "metadata": {},
     "output_type": "execute_result"
    },
    {
     "data": {
      "text/plain": [
       "'C:\\\\Users\\\\fralu\\\\Documents\\\\GitHub\\\\anndl\\\\image-segmentation\\\\Segmentation_Dataset\\\\training\\\\images\\\\img\\\\1328.tif'"
      ]
     },
     "execution_count": 6,
     "metadata": {},
     "output_type": "execute_result"
    },
    {
     "data": {
      "text/plain": [
       "'C:\\\\Users\\\\fralu\\\\Documents\\\\GitHub\\\\anndl\\\\image-segmentation\\\\Segmentation_Dataset\\\\training\\\\masks\\\\img\\\\1328.tif'"
      ]
     },
     "execution_count": 6,
     "metadata": {},
     "output_type": "execute_result"
    },
    {
     "data": {
      "text/plain": [
       "'C:\\\\Users\\\\fralu\\\\Documents\\\\GitHub\\\\anndl\\\\image-segmentation\\\\Segmentation_Dataset\\\\training\\\\images\\\\img\\\\1329.tif'"
      ]
     },
     "execution_count": 6,
     "metadata": {},
     "output_type": "execute_result"
    },
    {
     "data": {
      "text/plain": [
       "'C:\\\\Users\\\\fralu\\\\Documents\\\\GitHub\\\\anndl\\\\image-segmentation\\\\Segmentation_Dataset\\\\training\\\\masks\\\\img\\\\1329.tif'"
      ]
     },
     "execution_count": 6,
     "metadata": {},
     "output_type": "execute_result"
    },
    {
     "data": {
      "text/plain": [
       "'C:\\\\Users\\\\fralu\\\\Documents\\\\GitHub\\\\anndl\\\\image-segmentation\\\\Segmentation_Dataset\\\\training\\\\images\\\\img\\\\133.tif'"
      ]
     },
     "execution_count": 6,
     "metadata": {},
     "output_type": "execute_result"
    },
    {
     "data": {
      "text/plain": [
       "'C:\\\\Users\\\\fralu\\\\Documents\\\\GitHub\\\\anndl\\\\image-segmentation\\\\Segmentation_Dataset\\\\training\\\\masks\\\\img\\\\133.tif'"
      ]
     },
     "execution_count": 6,
     "metadata": {},
     "output_type": "execute_result"
    },
    {
     "data": {
      "text/plain": [
       "'C:\\\\Users\\\\fralu\\\\Documents\\\\GitHub\\\\anndl\\\\image-segmentation\\\\Segmentation_Dataset\\\\training\\\\images\\\\img\\\\1331.tif'"
      ]
     },
     "execution_count": 6,
     "metadata": {},
     "output_type": "execute_result"
    },
    {
     "data": {
      "text/plain": [
       "'C:\\\\Users\\\\fralu\\\\Documents\\\\GitHub\\\\anndl\\\\image-segmentation\\\\Segmentation_Dataset\\\\training\\\\masks\\\\img\\\\1331.tif'"
      ]
     },
     "execution_count": 6,
     "metadata": {},
     "output_type": "execute_result"
    },
    {
     "data": {
      "text/plain": [
       "'C:\\\\Users\\\\fralu\\\\Documents\\\\GitHub\\\\anndl\\\\image-segmentation\\\\Segmentation_Dataset\\\\training\\\\images\\\\img\\\\1335.tif'"
      ]
     },
     "execution_count": 6,
     "metadata": {},
     "output_type": "execute_result"
    },
    {
     "data": {
      "text/plain": [
       "'C:\\\\Users\\\\fralu\\\\Documents\\\\GitHub\\\\anndl\\\\image-segmentation\\\\Segmentation_Dataset\\\\training\\\\masks\\\\img\\\\1335.tif'"
      ]
     },
     "execution_count": 6,
     "metadata": {},
     "output_type": "execute_result"
    },
    {
     "data": {
      "text/plain": [
       "'C:\\\\Users\\\\fralu\\\\Documents\\\\GitHub\\\\anndl\\\\image-segmentation\\\\Segmentation_Dataset\\\\training\\\\images\\\\img\\\\135.tif'"
      ]
     },
     "execution_count": 6,
     "metadata": {},
     "output_type": "execute_result"
    },
    {
     "data": {
      "text/plain": [
       "'C:\\\\Users\\\\fralu\\\\Documents\\\\GitHub\\\\anndl\\\\image-segmentation\\\\Segmentation_Dataset\\\\training\\\\masks\\\\img\\\\135.tif'"
      ]
     },
     "execution_count": 6,
     "metadata": {},
     "output_type": "execute_result"
    },
    {
     "data": {
      "text/plain": [
       "'C:\\\\Users\\\\fralu\\\\Documents\\\\GitHub\\\\anndl\\\\image-segmentation\\\\Segmentation_Dataset\\\\training\\\\images\\\\img\\\\1357.tif'"
      ]
     },
     "execution_count": 6,
     "metadata": {},
     "output_type": "execute_result"
    },
    {
     "data": {
      "text/plain": [
       "'C:\\\\Users\\\\fralu\\\\Documents\\\\GitHub\\\\anndl\\\\image-segmentation\\\\Segmentation_Dataset\\\\training\\\\masks\\\\img\\\\1357.tif'"
      ]
     },
     "execution_count": 6,
     "metadata": {},
     "output_type": "execute_result"
    },
    {
     "data": {
      "text/plain": [
       "'C:\\\\Users\\\\fralu\\\\Documents\\\\GitHub\\\\anndl\\\\image-segmentation\\\\Segmentation_Dataset\\\\training\\\\images\\\\img\\\\137.tif'"
      ]
     },
     "execution_count": 6,
     "metadata": {},
     "output_type": "execute_result"
    },
    {
     "data": {
      "text/plain": [
       "'C:\\\\Users\\\\fralu\\\\Documents\\\\GitHub\\\\anndl\\\\image-segmentation\\\\Segmentation_Dataset\\\\training\\\\masks\\\\img\\\\137.tif'"
      ]
     },
     "execution_count": 6,
     "metadata": {},
     "output_type": "execute_result"
    },
    {
     "data": {
      "text/plain": [
       "'C:\\\\Users\\\\fralu\\\\Documents\\\\GitHub\\\\anndl\\\\image-segmentation\\\\Segmentation_Dataset\\\\training\\\\images\\\\img\\\\138.tif'"
      ]
     },
     "execution_count": 6,
     "metadata": {},
     "output_type": "execute_result"
    },
    {
     "data": {
      "text/plain": [
       "'C:\\\\Users\\\\fralu\\\\Documents\\\\GitHub\\\\anndl\\\\image-segmentation\\\\Segmentation_Dataset\\\\training\\\\masks\\\\img\\\\138.tif'"
      ]
     },
     "execution_count": 6,
     "metadata": {},
     "output_type": "execute_result"
    },
    {
     "data": {
      "text/plain": [
       "'C:\\\\Users\\\\fralu\\\\Documents\\\\GitHub\\\\anndl\\\\image-segmentation\\\\Segmentation_Dataset\\\\training\\\\images\\\\img\\\\1395.tif'"
      ]
     },
     "execution_count": 6,
     "metadata": {},
     "output_type": "execute_result"
    },
    {
     "data": {
      "text/plain": [
       "'C:\\\\Users\\\\fralu\\\\Documents\\\\GitHub\\\\anndl\\\\image-segmentation\\\\Segmentation_Dataset\\\\training\\\\masks\\\\img\\\\1395.tif'"
      ]
     },
     "execution_count": 6,
     "metadata": {},
     "output_type": "execute_result"
    },
    {
     "data": {
      "text/plain": [
       "'C:\\\\Users\\\\fralu\\\\Documents\\\\GitHub\\\\anndl\\\\image-segmentation\\\\Segmentation_Dataset\\\\training\\\\images\\\\img\\\\1405.tif'"
      ]
     },
     "execution_count": 6,
     "metadata": {},
     "output_type": "execute_result"
    },
    {
     "data": {
      "text/plain": [
       "'C:\\\\Users\\\\fralu\\\\Documents\\\\GitHub\\\\anndl\\\\image-segmentation\\\\Segmentation_Dataset\\\\training\\\\masks\\\\img\\\\1405.tif'"
      ]
     },
     "execution_count": 6,
     "metadata": {},
     "output_type": "execute_result"
    },
    {
     "data": {
      "text/plain": [
       "'C:\\\\Users\\\\fralu\\\\Documents\\\\GitHub\\\\anndl\\\\image-segmentation\\\\Segmentation_Dataset\\\\training\\\\images\\\\img\\\\1408.tif'"
      ]
     },
     "execution_count": 6,
     "metadata": {},
     "output_type": "execute_result"
    },
    {
     "data": {
      "text/plain": [
       "'C:\\\\Users\\\\fralu\\\\Documents\\\\GitHub\\\\anndl\\\\image-segmentation\\\\Segmentation_Dataset\\\\training\\\\masks\\\\img\\\\1408.tif'"
      ]
     },
     "execution_count": 6,
     "metadata": {},
     "output_type": "execute_result"
    },
    {
     "data": {
      "text/plain": [
       "'C:\\\\Users\\\\fralu\\\\Documents\\\\GitHub\\\\anndl\\\\image-segmentation\\\\Segmentation_Dataset\\\\training\\\\images\\\\img\\\\1420.tif'"
      ]
     },
     "execution_count": 6,
     "metadata": {},
     "output_type": "execute_result"
    },
    {
     "data": {
      "text/plain": [
       "'C:\\\\Users\\\\fralu\\\\Documents\\\\GitHub\\\\anndl\\\\image-segmentation\\\\Segmentation_Dataset\\\\training\\\\masks\\\\img\\\\1420.tif'"
      ]
     },
     "execution_count": 6,
     "metadata": {},
     "output_type": "execute_result"
    },
    {
     "data": {
      "text/plain": [
       "'C:\\\\Users\\\\fralu\\\\Documents\\\\GitHub\\\\anndl\\\\image-segmentation\\\\Segmentation_Dataset\\\\training\\\\images\\\\img\\\\1423.tif'"
      ]
     },
     "execution_count": 6,
     "metadata": {},
     "output_type": "execute_result"
    },
    {
     "data": {
      "text/plain": [
       "'C:\\\\Users\\\\fralu\\\\Documents\\\\GitHub\\\\anndl\\\\image-segmentation\\\\Segmentation_Dataset\\\\training\\\\masks\\\\img\\\\1423.tif'"
      ]
     },
     "execution_count": 6,
     "metadata": {},
     "output_type": "execute_result"
    },
    {
     "data": {
      "text/plain": [
       "'C:\\\\Users\\\\fralu\\\\Documents\\\\GitHub\\\\anndl\\\\image-segmentation\\\\Segmentation_Dataset\\\\training\\\\images\\\\img\\\\1432.tif'"
      ]
     },
     "execution_count": 6,
     "metadata": {},
     "output_type": "execute_result"
    },
    {
     "data": {
      "text/plain": [
       "'C:\\\\Users\\\\fralu\\\\Documents\\\\GitHub\\\\anndl\\\\image-segmentation\\\\Segmentation_Dataset\\\\training\\\\masks\\\\img\\\\1432.tif'"
      ]
     },
     "execution_count": 6,
     "metadata": {},
     "output_type": "execute_result"
    },
    {
     "data": {
      "text/plain": [
       "'C:\\\\Users\\\\fralu\\\\Documents\\\\GitHub\\\\anndl\\\\image-segmentation\\\\Segmentation_Dataset\\\\training\\\\images\\\\img\\\\1433.tif'"
      ]
     },
     "execution_count": 6,
     "metadata": {},
     "output_type": "execute_result"
    },
    {
     "data": {
      "text/plain": [
       "'C:\\\\Users\\\\fralu\\\\Documents\\\\GitHub\\\\anndl\\\\image-segmentation\\\\Segmentation_Dataset\\\\training\\\\masks\\\\img\\\\1433.tif'"
      ]
     },
     "execution_count": 6,
     "metadata": {},
     "output_type": "execute_result"
    },
    {
     "data": {
      "text/plain": [
       "'C:\\\\Users\\\\fralu\\\\Documents\\\\GitHub\\\\anndl\\\\image-segmentation\\\\Segmentation_Dataset\\\\training\\\\images\\\\img\\\\1439.tif'"
      ]
     },
     "execution_count": 6,
     "metadata": {},
     "output_type": "execute_result"
    },
    {
     "data": {
      "text/plain": [
       "'C:\\\\Users\\\\fralu\\\\Documents\\\\GitHub\\\\anndl\\\\image-segmentation\\\\Segmentation_Dataset\\\\training\\\\masks\\\\img\\\\1439.tif'"
      ]
     },
     "execution_count": 6,
     "metadata": {},
     "output_type": "execute_result"
    },
    {
     "data": {
      "text/plain": [
       "'C:\\\\Users\\\\fralu\\\\Documents\\\\GitHub\\\\anndl\\\\image-segmentation\\\\Segmentation_Dataset\\\\training\\\\images\\\\img\\\\1443.tif'"
      ]
     },
     "execution_count": 6,
     "metadata": {},
     "output_type": "execute_result"
    },
    {
     "data": {
      "text/plain": [
       "'C:\\\\Users\\\\fralu\\\\Documents\\\\GitHub\\\\anndl\\\\image-segmentation\\\\Segmentation_Dataset\\\\training\\\\masks\\\\img\\\\1443.tif'"
      ]
     },
     "execution_count": 6,
     "metadata": {},
     "output_type": "execute_result"
    },
    {
     "data": {
      "text/plain": [
       "'C:\\\\Users\\\\fralu\\\\Documents\\\\GitHub\\\\anndl\\\\image-segmentation\\\\Segmentation_Dataset\\\\training\\\\images\\\\img\\\\145.tif'"
      ]
     },
     "execution_count": 6,
     "metadata": {},
     "output_type": "execute_result"
    },
    {
     "data": {
      "text/plain": [
       "'C:\\\\Users\\\\fralu\\\\Documents\\\\GitHub\\\\anndl\\\\image-segmentation\\\\Segmentation_Dataset\\\\training\\\\masks\\\\img\\\\145.tif'"
      ]
     },
     "execution_count": 6,
     "metadata": {},
     "output_type": "execute_result"
    },
    {
     "data": {
      "text/plain": [
       "'C:\\\\Users\\\\fralu\\\\Documents\\\\GitHub\\\\anndl\\\\image-segmentation\\\\Segmentation_Dataset\\\\training\\\\images\\\\img\\\\1457.tif'"
      ]
     },
     "execution_count": 6,
     "metadata": {},
     "output_type": "execute_result"
    },
    {
     "data": {
      "text/plain": [
       "'C:\\\\Users\\\\fralu\\\\Documents\\\\GitHub\\\\anndl\\\\image-segmentation\\\\Segmentation_Dataset\\\\training\\\\masks\\\\img\\\\1457.tif'"
      ]
     },
     "execution_count": 6,
     "metadata": {},
     "output_type": "execute_result"
    },
    {
     "data": {
      "text/plain": [
       "'C:\\\\Users\\\\fralu\\\\Documents\\\\GitHub\\\\anndl\\\\image-segmentation\\\\Segmentation_Dataset\\\\training\\\\images\\\\img\\\\147.tif'"
      ]
     },
     "execution_count": 6,
     "metadata": {},
     "output_type": "execute_result"
    },
    {
     "data": {
      "text/plain": [
       "'C:\\\\Users\\\\fralu\\\\Documents\\\\GitHub\\\\anndl\\\\image-segmentation\\\\Segmentation_Dataset\\\\training\\\\masks\\\\img\\\\147.tif'"
      ]
     },
     "execution_count": 6,
     "metadata": {},
     "output_type": "execute_result"
    },
    {
     "data": {
      "text/plain": [
       "'C:\\\\Users\\\\fralu\\\\Documents\\\\GitHub\\\\anndl\\\\image-segmentation\\\\Segmentation_Dataset\\\\training\\\\images\\\\img\\\\1470.tif'"
      ]
     },
     "execution_count": 6,
     "metadata": {},
     "output_type": "execute_result"
    },
    {
     "data": {
      "text/plain": [
       "'C:\\\\Users\\\\fralu\\\\Documents\\\\GitHub\\\\anndl\\\\image-segmentation\\\\Segmentation_Dataset\\\\training\\\\masks\\\\img\\\\1470.tif'"
      ]
     },
     "execution_count": 6,
     "metadata": {},
     "output_type": "execute_result"
    },
    {
     "data": {
      "text/plain": [
       "'C:\\\\Users\\\\fralu\\\\Documents\\\\GitHub\\\\anndl\\\\image-segmentation\\\\Segmentation_Dataset\\\\training\\\\images\\\\img\\\\1475.tif'"
      ]
     },
     "execution_count": 6,
     "metadata": {},
     "output_type": "execute_result"
    },
    {
     "data": {
      "text/plain": [
       "'C:\\\\Users\\\\fralu\\\\Documents\\\\GitHub\\\\anndl\\\\image-segmentation\\\\Segmentation_Dataset\\\\training\\\\masks\\\\img\\\\1475.tif'"
      ]
     },
     "execution_count": 6,
     "metadata": {},
     "output_type": "execute_result"
    },
    {
     "data": {
      "text/plain": [
       "'C:\\\\Users\\\\fralu\\\\Documents\\\\GitHub\\\\anndl\\\\image-segmentation\\\\Segmentation_Dataset\\\\training\\\\images\\\\img\\\\1482.tif'"
      ]
     },
     "execution_count": 6,
     "metadata": {},
     "output_type": "execute_result"
    },
    {
     "data": {
      "text/plain": [
       "'C:\\\\Users\\\\fralu\\\\Documents\\\\GitHub\\\\anndl\\\\image-segmentation\\\\Segmentation_Dataset\\\\training\\\\masks\\\\img\\\\1482.tif'"
      ]
     },
     "execution_count": 6,
     "metadata": {},
     "output_type": "execute_result"
    },
    {
     "data": {
      "text/plain": [
       "'C:\\\\Users\\\\fralu\\\\Documents\\\\GitHub\\\\anndl\\\\image-segmentation\\\\Segmentation_Dataset\\\\training\\\\images\\\\img\\\\1483.tif'"
      ]
     },
     "execution_count": 6,
     "metadata": {},
     "output_type": "execute_result"
    },
    {
     "data": {
      "text/plain": [
       "'C:\\\\Users\\\\fralu\\\\Documents\\\\GitHub\\\\anndl\\\\image-segmentation\\\\Segmentation_Dataset\\\\training\\\\masks\\\\img\\\\1483.tif'"
      ]
     },
     "execution_count": 6,
     "metadata": {},
     "output_type": "execute_result"
    },
    {
     "data": {
      "text/plain": [
       "'C:\\\\Users\\\\fralu\\\\Documents\\\\GitHub\\\\anndl\\\\image-segmentation\\\\Segmentation_Dataset\\\\training\\\\images\\\\img\\\\1485.tif'"
      ]
     },
     "execution_count": 6,
     "metadata": {},
     "output_type": "execute_result"
    },
    {
     "data": {
      "text/plain": [
       "'C:\\\\Users\\\\fralu\\\\Documents\\\\GitHub\\\\anndl\\\\image-segmentation\\\\Segmentation_Dataset\\\\training\\\\masks\\\\img\\\\1485.tif'"
      ]
     },
     "execution_count": 6,
     "metadata": {},
     "output_type": "execute_result"
    },
    {
     "data": {
      "text/plain": [
       "'C:\\\\Users\\\\fralu\\\\Documents\\\\GitHub\\\\anndl\\\\image-segmentation\\\\Segmentation_Dataset\\\\training\\\\images\\\\img\\\\15.tif'"
      ]
     },
     "execution_count": 6,
     "metadata": {},
     "output_type": "execute_result"
    },
    {
     "data": {
      "text/plain": [
       "'C:\\\\Users\\\\fralu\\\\Documents\\\\GitHub\\\\anndl\\\\image-segmentation\\\\Segmentation_Dataset\\\\training\\\\masks\\\\img\\\\15.tif'"
      ]
     },
     "execution_count": 6,
     "metadata": {},
     "output_type": "execute_result"
    },
    {
     "data": {
      "text/plain": [
       "'C:\\\\Users\\\\fralu\\\\Documents\\\\GitHub\\\\anndl\\\\image-segmentation\\\\Segmentation_Dataset\\\\training\\\\images\\\\img\\\\1501.tif'"
      ]
     },
     "execution_count": 6,
     "metadata": {},
     "output_type": "execute_result"
    },
    {
     "data": {
      "text/plain": [
       "'C:\\\\Users\\\\fralu\\\\Documents\\\\GitHub\\\\anndl\\\\image-segmentation\\\\Segmentation_Dataset\\\\training\\\\masks\\\\img\\\\1501.tif'"
      ]
     },
     "execution_count": 6,
     "metadata": {},
     "output_type": "execute_result"
    },
    {
     "data": {
      "text/plain": [
       "'C:\\\\Users\\\\fralu\\\\Documents\\\\GitHub\\\\anndl\\\\image-segmentation\\\\Segmentation_Dataset\\\\training\\\\images\\\\img\\\\1518.tif'"
      ]
     },
     "execution_count": 6,
     "metadata": {},
     "output_type": "execute_result"
    },
    {
     "data": {
      "text/plain": [
       "'C:\\\\Users\\\\fralu\\\\Documents\\\\GitHub\\\\anndl\\\\image-segmentation\\\\Segmentation_Dataset\\\\training\\\\masks\\\\img\\\\1518.tif'"
      ]
     },
     "execution_count": 6,
     "metadata": {},
     "output_type": "execute_result"
    },
    {
     "data": {
      "text/plain": [
       "'C:\\\\Users\\\\fralu\\\\Documents\\\\GitHub\\\\anndl\\\\image-segmentation\\\\Segmentation_Dataset\\\\training\\\\images\\\\img\\\\1521.tif'"
      ]
     },
     "execution_count": 6,
     "metadata": {},
     "output_type": "execute_result"
    },
    {
     "data": {
      "text/plain": [
       "'C:\\\\Users\\\\fralu\\\\Documents\\\\GitHub\\\\anndl\\\\image-segmentation\\\\Segmentation_Dataset\\\\training\\\\masks\\\\img\\\\1521.tif'"
      ]
     },
     "execution_count": 6,
     "metadata": {},
     "output_type": "execute_result"
    },
    {
     "data": {
      "text/plain": [
       "'C:\\\\Users\\\\fralu\\\\Documents\\\\GitHub\\\\anndl\\\\image-segmentation\\\\Segmentation_Dataset\\\\training\\\\images\\\\img\\\\1527.tif'"
      ]
     },
     "execution_count": 6,
     "metadata": {},
     "output_type": "execute_result"
    },
    {
     "data": {
      "text/plain": [
       "'C:\\\\Users\\\\fralu\\\\Documents\\\\GitHub\\\\anndl\\\\image-segmentation\\\\Segmentation_Dataset\\\\training\\\\masks\\\\img\\\\1527.tif'"
      ]
     },
     "execution_count": 6,
     "metadata": {},
     "output_type": "execute_result"
    },
    {
     "data": {
      "text/plain": [
       "'C:\\\\Users\\\\fralu\\\\Documents\\\\GitHub\\\\anndl\\\\image-segmentation\\\\Segmentation_Dataset\\\\training\\\\images\\\\img\\\\1531.tif'"
      ]
     },
     "execution_count": 6,
     "metadata": {},
     "output_type": "execute_result"
    },
    {
     "data": {
      "text/plain": [
       "'C:\\\\Users\\\\fralu\\\\Documents\\\\GitHub\\\\anndl\\\\image-segmentation\\\\Segmentation_Dataset\\\\training\\\\masks\\\\img\\\\1531.tif'"
      ]
     },
     "execution_count": 6,
     "metadata": {},
     "output_type": "execute_result"
    },
    {
     "data": {
      "text/plain": [
       "'C:\\\\Users\\\\fralu\\\\Documents\\\\GitHub\\\\anndl\\\\image-segmentation\\\\Segmentation_Dataset\\\\training\\\\images\\\\img\\\\1540.tif'"
      ]
     },
     "execution_count": 6,
     "metadata": {},
     "output_type": "execute_result"
    },
    {
     "data": {
      "text/plain": [
       "'C:\\\\Users\\\\fralu\\\\Documents\\\\GitHub\\\\anndl\\\\image-segmentation\\\\Segmentation_Dataset\\\\training\\\\masks\\\\img\\\\1540.tif'"
      ]
     },
     "execution_count": 6,
     "metadata": {},
     "output_type": "execute_result"
    },
    {
     "data": {
      "text/plain": [
       "'C:\\\\Users\\\\fralu\\\\Documents\\\\GitHub\\\\anndl\\\\image-segmentation\\\\Segmentation_Dataset\\\\training\\\\images\\\\img\\\\1546.tif'"
      ]
     },
     "execution_count": 6,
     "metadata": {},
     "output_type": "execute_result"
    },
    {
     "data": {
      "text/plain": [
       "'C:\\\\Users\\\\fralu\\\\Documents\\\\GitHub\\\\anndl\\\\image-segmentation\\\\Segmentation_Dataset\\\\training\\\\masks\\\\img\\\\1546.tif'"
      ]
     },
     "execution_count": 6,
     "metadata": {},
     "output_type": "execute_result"
    },
    {
     "data": {
      "text/plain": [
       "'C:\\\\Users\\\\fralu\\\\Documents\\\\GitHub\\\\anndl\\\\image-segmentation\\\\Segmentation_Dataset\\\\training\\\\images\\\\img\\\\1549.tif'"
      ]
     },
     "execution_count": 6,
     "metadata": {},
     "output_type": "execute_result"
    },
    {
     "data": {
      "text/plain": [
       "'C:\\\\Users\\\\fralu\\\\Documents\\\\GitHub\\\\anndl\\\\image-segmentation\\\\Segmentation_Dataset\\\\training\\\\masks\\\\img\\\\1549.tif'"
      ]
     },
     "execution_count": 6,
     "metadata": {},
     "output_type": "execute_result"
    },
    {
     "data": {
      "text/plain": [
       "'C:\\\\Users\\\\fralu\\\\Documents\\\\GitHub\\\\anndl\\\\image-segmentation\\\\Segmentation_Dataset\\\\training\\\\images\\\\img\\\\1558.tif'"
      ]
     },
     "execution_count": 6,
     "metadata": {},
     "output_type": "execute_result"
    },
    {
     "data": {
      "text/plain": [
       "'C:\\\\Users\\\\fralu\\\\Documents\\\\GitHub\\\\anndl\\\\image-segmentation\\\\Segmentation_Dataset\\\\training\\\\masks\\\\img\\\\1558.tif'"
      ]
     },
     "execution_count": 6,
     "metadata": {},
     "output_type": "execute_result"
    },
    {
     "data": {
      "text/plain": [
       "'C:\\\\Users\\\\fralu\\\\Documents\\\\GitHub\\\\anndl\\\\image-segmentation\\\\Segmentation_Dataset\\\\training\\\\images\\\\img\\\\1559.tif'"
      ]
     },
     "execution_count": 6,
     "metadata": {},
     "output_type": "execute_result"
    },
    {
     "data": {
      "text/plain": [
       "'C:\\\\Users\\\\fralu\\\\Documents\\\\GitHub\\\\anndl\\\\image-segmentation\\\\Segmentation_Dataset\\\\training\\\\masks\\\\img\\\\1559.tif'"
      ]
     },
     "execution_count": 6,
     "metadata": {},
     "output_type": "execute_result"
    },
    {
     "data": {
      "text/plain": [
       "'C:\\\\Users\\\\fralu\\\\Documents\\\\GitHub\\\\anndl\\\\image-segmentation\\\\Segmentation_Dataset\\\\training\\\\images\\\\img\\\\156.tif'"
      ]
     },
     "execution_count": 6,
     "metadata": {},
     "output_type": "execute_result"
    },
    {
     "data": {
      "text/plain": [
       "'C:\\\\Users\\\\fralu\\\\Documents\\\\GitHub\\\\anndl\\\\image-segmentation\\\\Segmentation_Dataset\\\\training\\\\masks\\\\img\\\\156.tif'"
      ]
     },
     "execution_count": 6,
     "metadata": {},
     "output_type": "execute_result"
    },
    {
     "data": {
      "text/plain": [
       "'C:\\\\Users\\\\fralu\\\\Documents\\\\GitHub\\\\anndl\\\\image-segmentation\\\\Segmentation_Dataset\\\\training\\\\images\\\\img\\\\1561.tif'"
      ]
     },
     "execution_count": 6,
     "metadata": {},
     "output_type": "execute_result"
    },
    {
     "data": {
      "text/plain": [
       "'C:\\\\Users\\\\fralu\\\\Documents\\\\GitHub\\\\anndl\\\\image-segmentation\\\\Segmentation_Dataset\\\\training\\\\masks\\\\img\\\\1561.tif'"
      ]
     },
     "execution_count": 6,
     "metadata": {},
     "output_type": "execute_result"
    },
    {
     "data": {
      "text/plain": [
       "'C:\\\\Users\\\\fralu\\\\Documents\\\\GitHub\\\\anndl\\\\image-segmentation\\\\Segmentation_Dataset\\\\training\\\\images\\\\img\\\\1564.tif'"
      ]
     },
     "execution_count": 6,
     "metadata": {},
     "output_type": "execute_result"
    },
    {
     "data": {
      "text/plain": [
       "'C:\\\\Users\\\\fralu\\\\Documents\\\\GitHub\\\\anndl\\\\image-segmentation\\\\Segmentation_Dataset\\\\training\\\\masks\\\\img\\\\1564.tif'"
      ]
     },
     "execution_count": 6,
     "metadata": {},
     "output_type": "execute_result"
    },
    {
     "data": {
      "text/plain": [
       "'C:\\\\Users\\\\fralu\\\\Documents\\\\GitHub\\\\anndl\\\\image-segmentation\\\\Segmentation_Dataset\\\\training\\\\images\\\\img\\\\1572.tif'"
      ]
     },
     "execution_count": 6,
     "metadata": {},
     "output_type": "execute_result"
    },
    {
     "data": {
      "text/plain": [
       "'C:\\\\Users\\\\fralu\\\\Documents\\\\GitHub\\\\anndl\\\\image-segmentation\\\\Segmentation_Dataset\\\\training\\\\masks\\\\img\\\\1572.tif'"
      ]
     },
     "execution_count": 6,
     "metadata": {},
     "output_type": "execute_result"
    },
    {
     "data": {
      "text/plain": [
       "'C:\\\\Users\\\\fralu\\\\Documents\\\\GitHub\\\\anndl\\\\image-segmentation\\\\Segmentation_Dataset\\\\training\\\\images\\\\img\\\\1573.tif'"
      ]
     },
     "execution_count": 6,
     "metadata": {},
     "output_type": "execute_result"
    },
    {
     "data": {
      "text/plain": [
       "'C:\\\\Users\\\\fralu\\\\Documents\\\\GitHub\\\\anndl\\\\image-segmentation\\\\Segmentation_Dataset\\\\training\\\\masks\\\\img\\\\1573.tif'"
      ]
     },
     "execution_count": 6,
     "metadata": {},
     "output_type": "execute_result"
    },
    {
     "data": {
      "text/plain": [
       "'C:\\\\Users\\\\fralu\\\\Documents\\\\GitHub\\\\anndl\\\\image-segmentation\\\\Segmentation_Dataset\\\\training\\\\images\\\\img\\\\1579.tif'"
      ]
     },
     "execution_count": 6,
     "metadata": {},
     "output_type": "execute_result"
    },
    {
     "data": {
      "text/plain": [
       "'C:\\\\Users\\\\fralu\\\\Documents\\\\GitHub\\\\anndl\\\\image-segmentation\\\\Segmentation_Dataset\\\\training\\\\masks\\\\img\\\\1579.tif'"
      ]
     },
     "execution_count": 6,
     "metadata": {},
     "output_type": "execute_result"
    },
    {
     "data": {
      "text/plain": [
       "'C:\\\\Users\\\\fralu\\\\Documents\\\\GitHub\\\\anndl\\\\image-segmentation\\\\Segmentation_Dataset\\\\training\\\\images\\\\img\\\\158.tif'"
      ]
     },
     "execution_count": 6,
     "metadata": {},
     "output_type": "execute_result"
    },
    {
     "data": {
      "text/plain": [
       "'C:\\\\Users\\\\fralu\\\\Documents\\\\GitHub\\\\anndl\\\\image-segmentation\\\\Segmentation_Dataset\\\\training\\\\masks\\\\img\\\\158.tif'"
      ]
     },
     "execution_count": 6,
     "metadata": {},
     "output_type": "execute_result"
    },
    {
     "data": {
      "text/plain": [
       "'C:\\\\Users\\\\fralu\\\\Documents\\\\GitHub\\\\anndl\\\\image-segmentation\\\\Segmentation_Dataset\\\\training\\\\images\\\\img\\\\1580.tif'"
      ]
     },
     "execution_count": 6,
     "metadata": {},
     "output_type": "execute_result"
    },
    {
     "data": {
      "text/plain": [
       "'C:\\\\Users\\\\fralu\\\\Documents\\\\GitHub\\\\anndl\\\\image-segmentation\\\\Segmentation_Dataset\\\\training\\\\masks\\\\img\\\\1580.tif'"
      ]
     },
     "execution_count": 6,
     "metadata": {},
     "output_type": "execute_result"
    },
    {
     "data": {
      "text/plain": [
       "'C:\\\\Users\\\\fralu\\\\Documents\\\\GitHub\\\\anndl\\\\image-segmentation\\\\Segmentation_Dataset\\\\training\\\\images\\\\img\\\\1590.tif'"
      ]
     },
     "execution_count": 6,
     "metadata": {},
     "output_type": "execute_result"
    },
    {
     "data": {
      "text/plain": [
       "'C:\\\\Users\\\\fralu\\\\Documents\\\\GitHub\\\\anndl\\\\image-segmentation\\\\Segmentation_Dataset\\\\training\\\\masks\\\\img\\\\1590.tif'"
      ]
     },
     "execution_count": 6,
     "metadata": {},
     "output_type": "execute_result"
    },
    {
     "data": {
      "text/plain": [
       "'C:\\\\Users\\\\fralu\\\\Documents\\\\GitHub\\\\anndl\\\\image-segmentation\\\\Segmentation_Dataset\\\\training\\\\images\\\\img\\\\1592.tif'"
      ]
     },
     "execution_count": 6,
     "metadata": {},
     "output_type": "execute_result"
    },
    {
     "data": {
      "text/plain": [
       "'C:\\\\Users\\\\fralu\\\\Documents\\\\GitHub\\\\anndl\\\\image-segmentation\\\\Segmentation_Dataset\\\\training\\\\masks\\\\img\\\\1592.tif'"
      ]
     },
     "execution_count": 6,
     "metadata": {},
     "output_type": "execute_result"
    },
    {
     "data": {
      "text/plain": [
       "'C:\\\\Users\\\\fralu\\\\Documents\\\\GitHub\\\\anndl\\\\image-segmentation\\\\Segmentation_Dataset\\\\training\\\\images\\\\img\\\\16.tif'"
      ]
     },
     "execution_count": 6,
     "metadata": {},
     "output_type": "execute_result"
    },
    {
     "data": {
      "text/plain": [
       "'C:\\\\Users\\\\fralu\\\\Documents\\\\GitHub\\\\anndl\\\\image-segmentation\\\\Segmentation_Dataset\\\\training\\\\masks\\\\img\\\\16.tif'"
      ]
     },
     "execution_count": 6,
     "metadata": {},
     "output_type": "execute_result"
    },
    {
     "data": {
      "text/plain": [
       "'C:\\\\Users\\\\fralu\\\\Documents\\\\GitHub\\\\anndl\\\\image-segmentation\\\\Segmentation_Dataset\\\\training\\\\images\\\\img\\\\1600.tif'"
      ]
     },
     "execution_count": 6,
     "metadata": {},
     "output_type": "execute_result"
    },
    {
     "data": {
      "text/plain": [
       "'C:\\\\Users\\\\fralu\\\\Documents\\\\GitHub\\\\anndl\\\\image-segmentation\\\\Segmentation_Dataset\\\\training\\\\masks\\\\img\\\\1600.tif'"
      ]
     },
     "execution_count": 6,
     "metadata": {},
     "output_type": "execute_result"
    },
    {
     "data": {
      "text/plain": [
       "'C:\\\\Users\\\\fralu\\\\Documents\\\\GitHub\\\\anndl\\\\image-segmentation\\\\Segmentation_Dataset\\\\training\\\\images\\\\img\\\\1601.tif'"
      ]
     },
     "execution_count": 6,
     "metadata": {},
     "output_type": "execute_result"
    },
    {
     "data": {
      "text/plain": [
       "'C:\\\\Users\\\\fralu\\\\Documents\\\\GitHub\\\\anndl\\\\image-segmentation\\\\Segmentation_Dataset\\\\training\\\\masks\\\\img\\\\1601.tif'"
      ]
     },
     "execution_count": 6,
     "metadata": {},
     "output_type": "execute_result"
    },
    {
     "data": {
      "text/plain": [
       "'C:\\\\Users\\\\fralu\\\\Documents\\\\GitHub\\\\anndl\\\\image-segmentation\\\\Segmentation_Dataset\\\\training\\\\images\\\\img\\\\1617.tif'"
      ]
     },
     "execution_count": 6,
     "metadata": {},
     "output_type": "execute_result"
    },
    {
     "data": {
      "text/plain": [
       "'C:\\\\Users\\\\fralu\\\\Documents\\\\GitHub\\\\anndl\\\\image-segmentation\\\\Segmentation_Dataset\\\\training\\\\masks\\\\img\\\\1617.tif'"
      ]
     },
     "execution_count": 6,
     "metadata": {},
     "output_type": "execute_result"
    },
    {
     "data": {
      "text/plain": [
       "'C:\\\\Users\\\\fralu\\\\Documents\\\\GitHub\\\\anndl\\\\image-segmentation\\\\Segmentation_Dataset\\\\training\\\\images\\\\img\\\\1618.tif'"
      ]
     },
     "execution_count": 6,
     "metadata": {},
     "output_type": "execute_result"
    },
    {
     "data": {
      "text/plain": [
       "'C:\\\\Users\\\\fralu\\\\Documents\\\\GitHub\\\\anndl\\\\image-segmentation\\\\Segmentation_Dataset\\\\training\\\\masks\\\\img\\\\1618.tif'"
      ]
     },
     "execution_count": 6,
     "metadata": {},
     "output_type": "execute_result"
    },
    {
     "data": {
      "text/plain": [
       "'C:\\\\Users\\\\fralu\\\\Documents\\\\GitHub\\\\anndl\\\\image-segmentation\\\\Segmentation_Dataset\\\\training\\\\images\\\\img\\\\1619.tif'"
      ]
     },
     "execution_count": 6,
     "metadata": {},
     "output_type": "execute_result"
    },
    {
     "data": {
      "text/plain": [
       "'C:\\\\Users\\\\fralu\\\\Documents\\\\GitHub\\\\anndl\\\\image-segmentation\\\\Segmentation_Dataset\\\\training\\\\masks\\\\img\\\\1619.tif'"
      ]
     },
     "execution_count": 6,
     "metadata": {},
     "output_type": "execute_result"
    },
    {
     "data": {
      "text/plain": [
       "'C:\\\\Users\\\\fralu\\\\Documents\\\\GitHub\\\\anndl\\\\image-segmentation\\\\Segmentation_Dataset\\\\training\\\\images\\\\img\\\\1624.tif'"
      ]
     },
     "execution_count": 6,
     "metadata": {},
     "output_type": "execute_result"
    },
    {
     "data": {
      "text/plain": [
       "'C:\\\\Users\\\\fralu\\\\Documents\\\\GitHub\\\\anndl\\\\image-segmentation\\\\Segmentation_Dataset\\\\training\\\\masks\\\\img\\\\1624.tif'"
      ]
     },
     "execution_count": 6,
     "metadata": {},
     "output_type": "execute_result"
    },
    {
     "data": {
      "text/plain": [
       "'C:\\\\Users\\\\fralu\\\\Documents\\\\GitHub\\\\anndl\\\\image-segmentation\\\\Segmentation_Dataset\\\\training\\\\images\\\\img\\\\1626.tif'"
      ]
     },
     "execution_count": 6,
     "metadata": {},
     "output_type": "execute_result"
    },
    {
     "data": {
      "text/plain": [
       "'C:\\\\Users\\\\fralu\\\\Documents\\\\GitHub\\\\anndl\\\\image-segmentation\\\\Segmentation_Dataset\\\\training\\\\masks\\\\img\\\\1626.tif'"
      ]
     },
     "execution_count": 6,
     "metadata": {},
     "output_type": "execute_result"
    },
    {
     "data": {
      "text/plain": [
       "'C:\\\\Users\\\\fralu\\\\Documents\\\\GitHub\\\\anndl\\\\image-segmentation\\\\Segmentation_Dataset\\\\training\\\\images\\\\img\\\\1641.tif'"
      ]
     },
     "execution_count": 6,
     "metadata": {},
     "output_type": "execute_result"
    },
    {
     "data": {
      "text/plain": [
       "'C:\\\\Users\\\\fralu\\\\Documents\\\\GitHub\\\\anndl\\\\image-segmentation\\\\Segmentation_Dataset\\\\training\\\\masks\\\\img\\\\1641.tif'"
      ]
     },
     "execution_count": 6,
     "metadata": {},
     "output_type": "execute_result"
    },
    {
     "data": {
      "text/plain": [
       "'C:\\\\Users\\\\fralu\\\\Documents\\\\GitHub\\\\anndl\\\\image-segmentation\\\\Segmentation_Dataset\\\\training\\\\images\\\\img\\\\1643.tif'"
      ]
     },
     "execution_count": 6,
     "metadata": {},
     "output_type": "execute_result"
    },
    {
     "data": {
      "text/plain": [
       "'C:\\\\Users\\\\fralu\\\\Documents\\\\GitHub\\\\anndl\\\\image-segmentation\\\\Segmentation_Dataset\\\\training\\\\masks\\\\img\\\\1643.tif'"
      ]
     },
     "execution_count": 6,
     "metadata": {},
     "output_type": "execute_result"
    },
    {
     "data": {
      "text/plain": [
       "'C:\\\\Users\\\\fralu\\\\Documents\\\\GitHub\\\\anndl\\\\image-segmentation\\\\Segmentation_Dataset\\\\training\\\\images\\\\img\\\\1655.tif'"
      ]
     },
     "execution_count": 6,
     "metadata": {},
     "output_type": "execute_result"
    },
    {
     "data": {
      "text/plain": [
       "'C:\\\\Users\\\\fralu\\\\Documents\\\\GitHub\\\\anndl\\\\image-segmentation\\\\Segmentation_Dataset\\\\training\\\\masks\\\\img\\\\1655.tif'"
      ]
     },
     "execution_count": 6,
     "metadata": {},
     "output_type": "execute_result"
    },
    {
     "data": {
      "text/plain": [
       "'C:\\\\Users\\\\fralu\\\\Documents\\\\GitHub\\\\anndl\\\\image-segmentation\\\\Segmentation_Dataset\\\\training\\\\images\\\\img\\\\1657.tif'"
      ]
     },
     "execution_count": 6,
     "metadata": {},
     "output_type": "execute_result"
    },
    {
     "data": {
      "text/plain": [
       "'C:\\\\Users\\\\fralu\\\\Documents\\\\GitHub\\\\anndl\\\\image-segmentation\\\\Segmentation_Dataset\\\\training\\\\masks\\\\img\\\\1657.tif'"
      ]
     },
     "execution_count": 6,
     "metadata": {},
     "output_type": "execute_result"
    },
    {
     "data": {
      "text/plain": [
       "'C:\\\\Users\\\\fralu\\\\Documents\\\\GitHub\\\\anndl\\\\image-segmentation\\\\Segmentation_Dataset\\\\training\\\\images\\\\img\\\\1658.tif'"
      ]
     },
     "execution_count": 6,
     "metadata": {},
     "output_type": "execute_result"
    },
    {
     "data": {
      "text/plain": [
       "'C:\\\\Users\\\\fralu\\\\Documents\\\\GitHub\\\\anndl\\\\image-segmentation\\\\Segmentation_Dataset\\\\training\\\\masks\\\\img\\\\1658.tif'"
      ]
     },
     "execution_count": 6,
     "metadata": {},
     "output_type": "execute_result"
    },
    {
     "data": {
      "text/plain": [
       "'C:\\\\Users\\\\fralu\\\\Documents\\\\GitHub\\\\anndl\\\\image-segmentation\\\\Segmentation_Dataset\\\\training\\\\images\\\\img\\\\1660.tif'"
      ]
     },
     "execution_count": 6,
     "metadata": {},
     "output_type": "execute_result"
    },
    {
     "data": {
      "text/plain": [
       "'C:\\\\Users\\\\fralu\\\\Documents\\\\GitHub\\\\anndl\\\\image-segmentation\\\\Segmentation_Dataset\\\\training\\\\masks\\\\img\\\\1660.tif'"
      ]
     },
     "execution_count": 6,
     "metadata": {},
     "output_type": "execute_result"
    },
    {
     "data": {
      "text/plain": [
       "'C:\\\\Users\\\\fralu\\\\Documents\\\\GitHub\\\\anndl\\\\image-segmentation\\\\Segmentation_Dataset\\\\training\\\\images\\\\img\\\\1662.tif'"
      ]
     },
     "execution_count": 6,
     "metadata": {},
     "output_type": "execute_result"
    },
    {
     "data": {
      "text/plain": [
       "'C:\\\\Users\\\\fralu\\\\Documents\\\\GitHub\\\\anndl\\\\image-segmentation\\\\Segmentation_Dataset\\\\training\\\\masks\\\\img\\\\1662.tif'"
      ]
     },
     "execution_count": 6,
     "metadata": {},
     "output_type": "execute_result"
    },
    {
     "data": {
      "text/plain": [
       "'C:\\\\Users\\\\fralu\\\\Documents\\\\GitHub\\\\anndl\\\\image-segmentation\\\\Segmentation_Dataset\\\\training\\\\images\\\\img\\\\1668.tif'"
      ]
     },
     "execution_count": 6,
     "metadata": {},
     "output_type": "execute_result"
    },
    {
     "data": {
      "text/plain": [
       "'C:\\\\Users\\\\fralu\\\\Documents\\\\GitHub\\\\anndl\\\\image-segmentation\\\\Segmentation_Dataset\\\\training\\\\masks\\\\img\\\\1668.tif'"
      ]
     },
     "execution_count": 6,
     "metadata": {},
     "output_type": "execute_result"
    },
    {
     "data": {
      "text/plain": [
       "'C:\\\\Users\\\\fralu\\\\Documents\\\\GitHub\\\\anndl\\\\image-segmentation\\\\Segmentation_Dataset\\\\training\\\\images\\\\img\\\\1669.tif'"
      ]
     },
     "execution_count": 6,
     "metadata": {},
     "output_type": "execute_result"
    },
    {
     "data": {
      "text/plain": [
       "'C:\\\\Users\\\\fralu\\\\Documents\\\\GitHub\\\\anndl\\\\image-segmentation\\\\Segmentation_Dataset\\\\training\\\\masks\\\\img\\\\1669.tif'"
      ]
     },
     "execution_count": 6,
     "metadata": {},
     "output_type": "execute_result"
    },
    {
     "data": {
      "text/plain": [
       "'C:\\\\Users\\\\fralu\\\\Documents\\\\GitHub\\\\anndl\\\\image-segmentation\\\\Segmentation_Dataset\\\\training\\\\images\\\\img\\\\1671.tif'"
      ]
     },
     "execution_count": 6,
     "metadata": {},
     "output_type": "execute_result"
    },
    {
     "data": {
      "text/plain": [
       "'C:\\\\Users\\\\fralu\\\\Documents\\\\GitHub\\\\anndl\\\\image-segmentation\\\\Segmentation_Dataset\\\\training\\\\masks\\\\img\\\\1671.tif'"
      ]
     },
     "execution_count": 6,
     "metadata": {},
     "output_type": "execute_result"
    },
    {
     "data": {
      "text/plain": [
       "'C:\\\\Users\\\\fralu\\\\Documents\\\\GitHub\\\\anndl\\\\image-segmentation\\\\Segmentation_Dataset\\\\training\\\\images\\\\img\\\\1672.tif'"
      ]
     },
     "execution_count": 6,
     "metadata": {},
     "output_type": "execute_result"
    },
    {
     "data": {
      "text/plain": [
       "'C:\\\\Users\\\\fralu\\\\Documents\\\\GitHub\\\\anndl\\\\image-segmentation\\\\Segmentation_Dataset\\\\training\\\\masks\\\\img\\\\1672.tif'"
      ]
     },
     "execution_count": 6,
     "metadata": {},
     "output_type": "execute_result"
    },
    {
     "data": {
      "text/plain": [
       "'C:\\\\Users\\\\fralu\\\\Documents\\\\GitHub\\\\anndl\\\\image-segmentation\\\\Segmentation_Dataset\\\\training\\\\images\\\\img\\\\1674.tif'"
      ]
     },
     "execution_count": 6,
     "metadata": {},
     "output_type": "execute_result"
    },
    {
     "data": {
      "text/plain": [
       "'C:\\\\Users\\\\fralu\\\\Documents\\\\GitHub\\\\anndl\\\\image-segmentation\\\\Segmentation_Dataset\\\\training\\\\masks\\\\img\\\\1674.tif'"
      ]
     },
     "execution_count": 6,
     "metadata": {},
     "output_type": "execute_result"
    },
    {
     "data": {
      "text/plain": [
       "'C:\\\\Users\\\\fralu\\\\Documents\\\\GitHub\\\\anndl\\\\image-segmentation\\\\Segmentation_Dataset\\\\training\\\\images\\\\img\\\\1676.tif'"
      ]
     },
     "execution_count": 6,
     "metadata": {},
     "output_type": "execute_result"
    },
    {
     "data": {
      "text/plain": [
       "'C:\\\\Users\\\\fralu\\\\Documents\\\\GitHub\\\\anndl\\\\image-segmentation\\\\Segmentation_Dataset\\\\training\\\\masks\\\\img\\\\1676.tif'"
      ]
     },
     "execution_count": 6,
     "metadata": {},
     "output_type": "execute_result"
    },
    {
     "data": {
      "text/plain": [
       "'C:\\\\Users\\\\fralu\\\\Documents\\\\GitHub\\\\anndl\\\\image-segmentation\\\\Segmentation_Dataset\\\\training\\\\images\\\\img\\\\1677.tif'"
      ]
     },
     "execution_count": 6,
     "metadata": {},
     "output_type": "execute_result"
    },
    {
     "data": {
      "text/plain": [
       "'C:\\\\Users\\\\fralu\\\\Documents\\\\GitHub\\\\anndl\\\\image-segmentation\\\\Segmentation_Dataset\\\\training\\\\masks\\\\img\\\\1677.tif'"
      ]
     },
     "execution_count": 6,
     "metadata": {},
     "output_type": "execute_result"
    },
    {
     "data": {
      "text/plain": [
       "'C:\\\\Users\\\\fralu\\\\Documents\\\\GitHub\\\\anndl\\\\image-segmentation\\\\Segmentation_Dataset\\\\training\\\\images\\\\img\\\\168.tif'"
      ]
     },
     "execution_count": 6,
     "metadata": {},
     "output_type": "execute_result"
    },
    {
     "data": {
      "text/plain": [
       "'C:\\\\Users\\\\fralu\\\\Documents\\\\GitHub\\\\anndl\\\\image-segmentation\\\\Segmentation_Dataset\\\\training\\\\masks\\\\img\\\\168.tif'"
      ]
     },
     "execution_count": 6,
     "metadata": {},
     "output_type": "execute_result"
    },
    {
     "data": {
      "text/plain": [
       "'C:\\\\Users\\\\fralu\\\\Documents\\\\GitHub\\\\anndl\\\\image-segmentation\\\\Segmentation_Dataset\\\\training\\\\images\\\\img\\\\1683.tif'"
      ]
     },
     "execution_count": 6,
     "metadata": {},
     "output_type": "execute_result"
    },
    {
     "data": {
      "text/plain": [
       "'C:\\\\Users\\\\fralu\\\\Documents\\\\GitHub\\\\anndl\\\\image-segmentation\\\\Segmentation_Dataset\\\\training\\\\masks\\\\img\\\\1683.tif'"
      ]
     },
     "execution_count": 6,
     "metadata": {},
     "output_type": "execute_result"
    },
    {
     "data": {
      "text/plain": [
       "'C:\\\\Users\\\\fralu\\\\Documents\\\\GitHub\\\\anndl\\\\image-segmentation\\\\Segmentation_Dataset\\\\training\\\\images\\\\img\\\\1687.tif'"
      ]
     },
     "execution_count": 6,
     "metadata": {},
     "output_type": "execute_result"
    },
    {
     "data": {
      "text/plain": [
       "'C:\\\\Users\\\\fralu\\\\Documents\\\\GitHub\\\\anndl\\\\image-segmentation\\\\Segmentation_Dataset\\\\training\\\\masks\\\\img\\\\1687.tif'"
      ]
     },
     "execution_count": 6,
     "metadata": {},
     "output_type": "execute_result"
    },
    {
     "data": {
      "text/plain": [
       "'C:\\\\Users\\\\fralu\\\\Documents\\\\GitHub\\\\anndl\\\\image-segmentation\\\\Segmentation_Dataset\\\\training\\\\images\\\\img\\\\1689.tif'"
      ]
     },
     "execution_count": 6,
     "metadata": {},
     "output_type": "execute_result"
    },
    {
     "data": {
      "text/plain": [
       "'C:\\\\Users\\\\fralu\\\\Documents\\\\GitHub\\\\anndl\\\\image-segmentation\\\\Segmentation_Dataset\\\\training\\\\masks\\\\img\\\\1689.tif'"
      ]
     },
     "execution_count": 6,
     "metadata": {},
     "output_type": "execute_result"
    },
    {
     "data": {
      "text/plain": [
       "'C:\\\\Users\\\\fralu\\\\Documents\\\\GitHub\\\\anndl\\\\image-segmentation\\\\Segmentation_Dataset\\\\training\\\\images\\\\img\\\\1694.tif'"
      ]
     },
     "execution_count": 6,
     "metadata": {},
     "output_type": "execute_result"
    },
    {
     "data": {
      "text/plain": [
       "'C:\\\\Users\\\\fralu\\\\Documents\\\\GitHub\\\\anndl\\\\image-segmentation\\\\Segmentation_Dataset\\\\training\\\\masks\\\\img\\\\1694.tif'"
      ]
     },
     "execution_count": 6,
     "metadata": {},
     "output_type": "execute_result"
    },
    {
     "data": {
      "text/plain": [
       "'C:\\\\Users\\\\fralu\\\\Documents\\\\GitHub\\\\anndl\\\\image-segmentation\\\\Segmentation_Dataset\\\\training\\\\images\\\\img\\\\1696.tif'"
      ]
     },
     "execution_count": 6,
     "metadata": {},
     "output_type": "execute_result"
    },
    {
     "data": {
      "text/plain": [
       "'C:\\\\Users\\\\fralu\\\\Documents\\\\GitHub\\\\anndl\\\\image-segmentation\\\\Segmentation_Dataset\\\\training\\\\masks\\\\img\\\\1696.tif'"
      ]
     },
     "execution_count": 6,
     "metadata": {},
     "output_type": "execute_result"
    },
    {
     "data": {
      "text/plain": [
       "'C:\\\\Users\\\\fralu\\\\Documents\\\\GitHub\\\\anndl\\\\image-segmentation\\\\Segmentation_Dataset\\\\training\\\\images\\\\img\\\\1702.tif'"
      ]
     },
     "execution_count": 6,
     "metadata": {},
     "output_type": "execute_result"
    },
    {
     "data": {
      "text/plain": [
       "'C:\\\\Users\\\\fralu\\\\Documents\\\\GitHub\\\\anndl\\\\image-segmentation\\\\Segmentation_Dataset\\\\training\\\\masks\\\\img\\\\1702.tif'"
      ]
     },
     "execution_count": 6,
     "metadata": {},
     "output_type": "execute_result"
    },
    {
     "data": {
      "text/plain": [
       "'C:\\\\Users\\\\fralu\\\\Documents\\\\GitHub\\\\anndl\\\\image-segmentation\\\\Segmentation_Dataset\\\\training\\\\images\\\\img\\\\1708.tif'"
      ]
     },
     "execution_count": 6,
     "metadata": {},
     "output_type": "execute_result"
    },
    {
     "data": {
      "text/plain": [
       "'C:\\\\Users\\\\fralu\\\\Documents\\\\GitHub\\\\anndl\\\\image-segmentation\\\\Segmentation_Dataset\\\\training\\\\masks\\\\img\\\\1708.tif'"
      ]
     },
     "execution_count": 6,
     "metadata": {},
     "output_type": "execute_result"
    },
    {
     "data": {
      "text/plain": [
       "'C:\\\\Users\\\\fralu\\\\Documents\\\\GitHub\\\\anndl\\\\image-segmentation\\\\Segmentation_Dataset\\\\training\\\\images\\\\img\\\\1711.tif'"
      ]
     },
     "execution_count": 6,
     "metadata": {},
     "output_type": "execute_result"
    },
    {
     "data": {
      "text/plain": [
       "'C:\\\\Users\\\\fralu\\\\Documents\\\\GitHub\\\\anndl\\\\image-segmentation\\\\Segmentation_Dataset\\\\training\\\\masks\\\\img\\\\1711.tif'"
      ]
     },
     "execution_count": 6,
     "metadata": {},
     "output_type": "execute_result"
    },
    {
     "data": {
      "text/plain": [
       "'C:\\\\Users\\\\fralu\\\\Documents\\\\GitHub\\\\anndl\\\\image-segmentation\\\\Segmentation_Dataset\\\\training\\\\images\\\\img\\\\1712.tif'"
      ]
     },
     "execution_count": 6,
     "metadata": {},
     "output_type": "execute_result"
    },
    {
     "data": {
      "text/plain": [
       "'C:\\\\Users\\\\fralu\\\\Documents\\\\GitHub\\\\anndl\\\\image-segmentation\\\\Segmentation_Dataset\\\\training\\\\masks\\\\img\\\\1712.tif'"
      ]
     },
     "execution_count": 6,
     "metadata": {},
     "output_type": "execute_result"
    },
    {
     "data": {
      "text/plain": [
       "'C:\\\\Users\\\\fralu\\\\Documents\\\\GitHub\\\\anndl\\\\image-segmentation\\\\Segmentation_Dataset\\\\training\\\\images\\\\img\\\\172.tif'"
      ]
     },
     "execution_count": 6,
     "metadata": {},
     "output_type": "execute_result"
    },
    {
     "data": {
      "text/plain": [
       "'C:\\\\Users\\\\fralu\\\\Documents\\\\GitHub\\\\anndl\\\\image-segmentation\\\\Segmentation_Dataset\\\\training\\\\masks\\\\img\\\\172.tif'"
      ]
     },
     "execution_count": 6,
     "metadata": {},
     "output_type": "execute_result"
    },
    {
     "data": {
      "text/plain": [
       "'C:\\\\Users\\\\fralu\\\\Documents\\\\GitHub\\\\anndl\\\\image-segmentation\\\\Segmentation_Dataset\\\\training\\\\images\\\\img\\\\174.tif'"
      ]
     },
     "execution_count": 6,
     "metadata": {},
     "output_type": "execute_result"
    },
    {
     "data": {
      "text/plain": [
       "'C:\\\\Users\\\\fralu\\\\Documents\\\\GitHub\\\\anndl\\\\image-segmentation\\\\Segmentation_Dataset\\\\training\\\\masks\\\\img\\\\174.tif'"
      ]
     },
     "execution_count": 6,
     "metadata": {},
     "output_type": "execute_result"
    },
    {
     "data": {
      "text/plain": [
       "'C:\\\\Users\\\\fralu\\\\Documents\\\\GitHub\\\\anndl\\\\image-segmentation\\\\Segmentation_Dataset\\\\training\\\\images\\\\img\\\\176.tif'"
      ]
     },
     "execution_count": 6,
     "metadata": {},
     "output_type": "execute_result"
    },
    {
     "data": {
      "text/plain": [
       "'C:\\\\Users\\\\fralu\\\\Documents\\\\GitHub\\\\anndl\\\\image-segmentation\\\\Segmentation_Dataset\\\\training\\\\masks\\\\img\\\\176.tif'"
      ]
     },
     "execution_count": 6,
     "metadata": {},
     "output_type": "execute_result"
    },
    {
     "data": {
      "text/plain": [
       "'C:\\\\Users\\\\fralu\\\\Documents\\\\GitHub\\\\anndl\\\\image-segmentation\\\\Segmentation_Dataset\\\\training\\\\images\\\\img\\\\177.tif'"
      ]
     },
     "execution_count": 6,
     "metadata": {},
     "output_type": "execute_result"
    },
    {
     "data": {
      "text/plain": [
       "'C:\\\\Users\\\\fralu\\\\Documents\\\\GitHub\\\\anndl\\\\image-segmentation\\\\Segmentation_Dataset\\\\training\\\\masks\\\\img\\\\177.tif'"
      ]
     },
     "execution_count": 6,
     "metadata": {},
     "output_type": "execute_result"
    },
    {
     "data": {
      "text/plain": [
       "'C:\\\\Users\\\\fralu\\\\Documents\\\\GitHub\\\\anndl\\\\image-segmentation\\\\Segmentation_Dataset\\\\training\\\\images\\\\img\\\\178.tif'"
      ]
     },
     "execution_count": 6,
     "metadata": {},
     "output_type": "execute_result"
    },
    {
     "data": {
      "text/plain": [
       "'C:\\\\Users\\\\fralu\\\\Documents\\\\GitHub\\\\anndl\\\\image-segmentation\\\\Segmentation_Dataset\\\\training\\\\masks\\\\img\\\\178.tif'"
      ]
     },
     "execution_count": 6,
     "metadata": {},
     "output_type": "execute_result"
    },
    {
     "data": {
      "text/plain": [
       "'C:\\\\Users\\\\fralu\\\\Documents\\\\GitHub\\\\anndl\\\\image-segmentation\\\\Segmentation_Dataset\\\\training\\\\images\\\\img\\\\1786.tif'"
      ]
     },
     "execution_count": 6,
     "metadata": {},
     "output_type": "execute_result"
    },
    {
     "data": {
      "text/plain": [
       "'C:\\\\Users\\\\fralu\\\\Documents\\\\GitHub\\\\anndl\\\\image-segmentation\\\\Segmentation_Dataset\\\\training\\\\masks\\\\img\\\\1786.tif'"
      ]
     },
     "execution_count": 6,
     "metadata": {},
     "output_type": "execute_result"
    },
    {
     "data": {
      "text/plain": [
       "'C:\\\\Users\\\\fralu\\\\Documents\\\\GitHub\\\\anndl\\\\image-segmentation\\\\Segmentation_Dataset\\\\training\\\\images\\\\img\\\\1787.tif'"
      ]
     },
     "execution_count": 6,
     "metadata": {},
     "output_type": "execute_result"
    },
    {
     "data": {
      "text/plain": [
       "'C:\\\\Users\\\\fralu\\\\Documents\\\\GitHub\\\\anndl\\\\image-segmentation\\\\Segmentation_Dataset\\\\training\\\\masks\\\\img\\\\1787.tif'"
      ]
     },
     "execution_count": 6,
     "metadata": {},
     "output_type": "execute_result"
    },
    {
     "data": {
      "text/plain": [
       "'C:\\\\Users\\\\fralu\\\\Documents\\\\GitHub\\\\anndl\\\\image-segmentation\\\\Segmentation_Dataset\\\\training\\\\images\\\\img\\\\1789.tif'"
      ]
     },
     "execution_count": 6,
     "metadata": {},
     "output_type": "execute_result"
    },
    {
     "data": {
      "text/plain": [
       "'C:\\\\Users\\\\fralu\\\\Documents\\\\GitHub\\\\anndl\\\\image-segmentation\\\\Segmentation_Dataset\\\\training\\\\masks\\\\img\\\\1789.tif'"
      ]
     },
     "execution_count": 6,
     "metadata": {},
     "output_type": "execute_result"
    },
    {
     "data": {
      "text/plain": [
       "'C:\\\\Users\\\\fralu\\\\Documents\\\\GitHub\\\\anndl\\\\image-segmentation\\\\Segmentation_Dataset\\\\training\\\\images\\\\img\\\\179.tif'"
      ]
     },
     "execution_count": 6,
     "metadata": {},
     "output_type": "execute_result"
    },
    {
     "data": {
      "text/plain": [
       "'C:\\\\Users\\\\fralu\\\\Documents\\\\GitHub\\\\anndl\\\\image-segmentation\\\\Segmentation_Dataset\\\\training\\\\masks\\\\img\\\\179.tif'"
      ]
     },
     "execution_count": 6,
     "metadata": {},
     "output_type": "execute_result"
    },
    {
     "data": {
      "text/plain": [
       "'C:\\\\Users\\\\fralu\\\\Documents\\\\GitHub\\\\anndl\\\\image-segmentation\\\\Segmentation_Dataset\\\\training\\\\images\\\\img\\\\1798.tif'"
      ]
     },
     "execution_count": 6,
     "metadata": {},
     "output_type": "execute_result"
    },
    {
     "data": {
      "text/plain": [
       "'C:\\\\Users\\\\fralu\\\\Documents\\\\GitHub\\\\anndl\\\\image-segmentation\\\\Segmentation_Dataset\\\\training\\\\masks\\\\img\\\\1798.tif'"
      ]
     },
     "execution_count": 6,
     "metadata": {},
     "output_type": "execute_result"
    },
    {
     "data": {
      "text/plain": [
       "'C:\\\\Users\\\\fralu\\\\Documents\\\\GitHub\\\\anndl\\\\image-segmentation\\\\Segmentation_Dataset\\\\training\\\\images\\\\img\\\\180.tif'"
      ]
     },
     "execution_count": 6,
     "metadata": {},
     "output_type": "execute_result"
    },
    {
     "data": {
      "text/plain": [
       "'C:\\\\Users\\\\fralu\\\\Documents\\\\GitHub\\\\anndl\\\\image-segmentation\\\\Segmentation_Dataset\\\\training\\\\masks\\\\img\\\\180.tif'"
      ]
     },
     "execution_count": 6,
     "metadata": {},
     "output_type": "execute_result"
    },
    {
     "data": {
      "text/plain": [
       "'C:\\\\Users\\\\fralu\\\\Documents\\\\GitHub\\\\anndl\\\\image-segmentation\\\\Segmentation_Dataset\\\\training\\\\images\\\\img\\\\1804.tif'"
      ]
     },
     "execution_count": 6,
     "metadata": {},
     "output_type": "execute_result"
    },
    {
     "data": {
      "text/plain": [
       "'C:\\\\Users\\\\fralu\\\\Documents\\\\GitHub\\\\anndl\\\\image-segmentation\\\\Segmentation_Dataset\\\\training\\\\masks\\\\img\\\\1804.tif'"
      ]
     },
     "execution_count": 6,
     "metadata": {},
     "output_type": "execute_result"
    },
    {
     "data": {
      "text/plain": [
       "'C:\\\\Users\\\\fralu\\\\Documents\\\\GitHub\\\\anndl\\\\image-segmentation\\\\Segmentation_Dataset\\\\training\\\\images\\\\img\\\\1805.tif'"
      ]
     },
     "execution_count": 6,
     "metadata": {},
     "output_type": "execute_result"
    },
    {
     "data": {
      "text/plain": [
       "'C:\\\\Users\\\\fralu\\\\Documents\\\\GitHub\\\\anndl\\\\image-segmentation\\\\Segmentation_Dataset\\\\training\\\\masks\\\\img\\\\1805.tif'"
      ]
     },
     "execution_count": 6,
     "metadata": {},
     "output_type": "execute_result"
    },
    {
     "data": {
      "text/plain": [
       "'C:\\\\Users\\\\fralu\\\\Documents\\\\GitHub\\\\anndl\\\\image-segmentation\\\\Segmentation_Dataset\\\\training\\\\images\\\\img\\\\1806.tif'"
      ]
     },
     "execution_count": 6,
     "metadata": {},
     "output_type": "execute_result"
    },
    {
     "data": {
      "text/plain": [
       "'C:\\\\Users\\\\fralu\\\\Documents\\\\GitHub\\\\anndl\\\\image-segmentation\\\\Segmentation_Dataset\\\\training\\\\masks\\\\img\\\\1806.tif'"
      ]
     },
     "execution_count": 6,
     "metadata": {},
     "output_type": "execute_result"
    },
    {
     "data": {
      "text/plain": [
       "'C:\\\\Users\\\\fralu\\\\Documents\\\\GitHub\\\\anndl\\\\image-segmentation\\\\Segmentation_Dataset\\\\training\\\\images\\\\img\\\\1815.tif'"
      ]
     },
     "execution_count": 6,
     "metadata": {},
     "output_type": "execute_result"
    },
    {
     "data": {
      "text/plain": [
       "'C:\\\\Users\\\\fralu\\\\Documents\\\\GitHub\\\\anndl\\\\image-segmentation\\\\Segmentation_Dataset\\\\training\\\\masks\\\\img\\\\1815.tif'"
      ]
     },
     "execution_count": 6,
     "metadata": {},
     "output_type": "execute_result"
    },
    {
     "data": {
      "text/plain": [
       "'C:\\\\Users\\\\fralu\\\\Documents\\\\GitHub\\\\anndl\\\\image-segmentation\\\\Segmentation_Dataset\\\\training\\\\images\\\\img\\\\1826.tif'"
      ]
     },
     "execution_count": 6,
     "metadata": {},
     "output_type": "execute_result"
    },
    {
     "data": {
      "text/plain": [
       "'C:\\\\Users\\\\fralu\\\\Documents\\\\GitHub\\\\anndl\\\\image-segmentation\\\\Segmentation_Dataset\\\\training\\\\masks\\\\img\\\\1826.tif'"
      ]
     },
     "execution_count": 6,
     "metadata": {},
     "output_type": "execute_result"
    },
    {
     "data": {
      "text/plain": [
       "'C:\\\\Users\\\\fralu\\\\Documents\\\\GitHub\\\\anndl\\\\image-segmentation\\\\Segmentation_Dataset\\\\training\\\\images\\\\img\\\\1830.tif'"
      ]
     },
     "execution_count": 6,
     "metadata": {},
     "output_type": "execute_result"
    },
    {
     "data": {
      "text/plain": [
       "'C:\\\\Users\\\\fralu\\\\Documents\\\\GitHub\\\\anndl\\\\image-segmentation\\\\Segmentation_Dataset\\\\training\\\\masks\\\\img\\\\1830.tif'"
      ]
     },
     "execution_count": 6,
     "metadata": {},
     "output_type": "execute_result"
    },
    {
     "data": {
      "text/plain": [
       "'C:\\\\Users\\\\fralu\\\\Documents\\\\GitHub\\\\anndl\\\\image-segmentation\\\\Segmentation_Dataset\\\\training\\\\images\\\\img\\\\1832.tif'"
      ]
     },
     "execution_count": 6,
     "metadata": {},
     "output_type": "execute_result"
    },
    {
     "data": {
      "text/plain": [
       "'C:\\\\Users\\\\fralu\\\\Documents\\\\GitHub\\\\anndl\\\\image-segmentation\\\\Segmentation_Dataset\\\\training\\\\masks\\\\img\\\\1832.tif'"
      ]
     },
     "execution_count": 6,
     "metadata": {},
     "output_type": "execute_result"
    },
    {
     "data": {
      "text/plain": [
       "'C:\\\\Users\\\\fralu\\\\Documents\\\\GitHub\\\\anndl\\\\image-segmentation\\\\Segmentation_Dataset\\\\training\\\\images\\\\img\\\\1834.tif'"
      ]
     },
     "execution_count": 6,
     "metadata": {},
     "output_type": "execute_result"
    },
    {
     "data": {
      "text/plain": [
       "'C:\\\\Users\\\\fralu\\\\Documents\\\\GitHub\\\\anndl\\\\image-segmentation\\\\Segmentation_Dataset\\\\training\\\\masks\\\\img\\\\1834.tif'"
      ]
     },
     "execution_count": 6,
     "metadata": {},
     "output_type": "execute_result"
    },
    {
     "data": {
      "text/plain": [
       "'C:\\\\Users\\\\fralu\\\\Documents\\\\GitHub\\\\anndl\\\\image-segmentation\\\\Segmentation_Dataset\\\\training\\\\images\\\\img\\\\1843.tif'"
      ]
     },
     "execution_count": 6,
     "metadata": {},
     "output_type": "execute_result"
    },
    {
     "data": {
      "text/plain": [
       "'C:\\\\Users\\\\fralu\\\\Documents\\\\GitHub\\\\anndl\\\\image-segmentation\\\\Segmentation_Dataset\\\\training\\\\masks\\\\img\\\\1843.tif'"
      ]
     },
     "execution_count": 6,
     "metadata": {},
     "output_type": "execute_result"
    },
    {
     "data": {
      "text/plain": [
       "'C:\\\\Users\\\\fralu\\\\Documents\\\\GitHub\\\\anndl\\\\image-segmentation\\\\Segmentation_Dataset\\\\training\\\\images\\\\img\\\\1844.tif'"
      ]
     },
     "execution_count": 6,
     "metadata": {},
     "output_type": "execute_result"
    },
    {
     "data": {
      "text/plain": [
       "'C:\\\\Users\\\\fralu\\\\Documents\\\\GitHub\\\\anndl\\\\image-segmentation\\\\Segmentation_Dataset\\\\training\\\\masks\\\\img\\\\1844.tif'"
      ]
     },
     "execution_count": 6,
     "metadata": {},
     "output_type": "execute_result"
    },
    {
     "data": {
      "text/plain": [
       "'C:\\\\Users\\\\fralu\\\\Documents\\\\GitHub\\\\anndl\\\\image-segmentation\\\\Segmentation_Dataset\\\\training\\\\images\\\\img\\\\1846.tif'"
      ]
     },
     "execution_count": 6,
     "metadata": {},
     "output_type": "execute_result"
    },
    {
     "data": {
      "text/plain": [
       "'C:\\\\Users\\\\fralu\\\\Documents\\\\GitHub\\\\anndl\\\\image-segmentation\\\\Segmentation_Dataset\\\\training\\\\masks\\\\img\\\\1846.tif'"
      ]
     },
     "execution_count": 6,
     "metadata": {},
     "output_type": "execute_result"
    },
    {
     "data": {
      "text/plain": [
       "'C:\\\\Users\\\\fralu\\\\Documents\\\\GitHub\\\\anndl\\\\image-segmentation\\\\Segmentation_Dataset\\\\training\\\\images\\\\img\\\\1847.tif'"
      ]
     },
     "execution_count": 6,
     "metadata": {},
     "output_type": "execute_result"
    },
    {
     "data": {
      "text/plain": [
       "'C:\\\\Users\\\\fralu\\\\Documents\\\\GitHub\\\\anndl\\\\image-segmentation\\\\Segmentation_Dataset\\\\training\\\\masks\\\\img\\\\1847.tif'"
      ]
     },
     "execution_count": 6,
     "metadata": {},
     "output_type": "execute_result"
    },
    {
     "data": {
      "text/plain": [
       "'C:\\\\Users\\\\fralu\\\\Documents\\\\GitHub\\\\anndl\\\\image-segmentation\\\\Segmentation_Dataset\\\\training\\\\images\\\\img\\\\1851.tif'"
      ]
     },
     "execution_count": 6,
     "metadata": {},
     "output_type": "execute_result"
    },
    {
     "data": {
      "text/plain": [
       "'C:\\\\Users\\\\fralu\\\\Documents\\\\GitHub\\\\anndl\\\\image-segmentation\\\\Segmentation_Dataset\\\\training\\\\masks\\\\img\\\\1851.tif'"
      ]
     },
     "execution_count": 6,
     "metadata": {},
     "output_type": "execute_result"
    },
    {
     "data": {
      "text/plain": [
       "'C:\\\\Users\\\\fralu\\\\Documents\\\\GitHub\\\\anndl\\\\image-segmentation\\\\Segmentation_Dataset\\\\training\\\\images\\\\img\\\\1855.tif'"
      ]
     },
     "execution_count": 6,
     "metadata": {},
     "output_type": "execute_result"
    },
    {
     "data": {
      "text/plain": [
       "'C:\\\\Users\\\\fralu\\\\Documents\\\\GitHub\\\\anndl\\\\image-segmentation\\\\Segmentation_Dataset\\\\training\\\\masks\\\\img\\\\1855.tif'"
      ]
     },
     "execution_count": 6,
     "metadata": {},
     "output_type": "execute_result"
    },
    {
     "data": {
      "text/plain": [
       "'C:\\\\Users\\\\fralu\\\\Documents\\\\GitHub\\\\anndl\\\\image-segmentation\\\\Segmentation_Dataset\\\\training\\\\images\\\\img\\\\1857.tif'"
      ]
     },
     "execution_count": 6,
     "metadata": {},
     "output_type": "execute_result"
    },
    {
     "data": {
      "text/plain": [
       "'C:\\\\Users\\\\fralu\\\\Documents\\\\GitHub\\\\anndl\\\\image-segmentation\\\\Segmentation_Dataset\\\\training\\\\masks\\\\img\\\\1857.tif'"
      ]
     },
     "execution_count": 6,
     "metadata": {},
     "output_type": "execute_result"
    },
    {
     "data": {
      "text/plain": [
       "'C:\\\\Users\\\\fralu\\\\Documents\\\\GitHub\\\\anndl\\\\image-segmentation\\\\Segmentation_Dataset\\\\training\\\\images\\\\img\\\\1864.tif'"
      ]
     },
     "execution_count": 6,
     "metadata": {},
     "output_type": "execute_result"
    },
    {
     "data": {
      "text/plain": [
       "'C:\\\\Users\\\\fralu\\\\Documents\\\\GitHub\\\\anndl\\\\image-segmentation\\\\Segmentation_Dataset\\\\training\\\\masks\\\\img\\\\1864.tif'"
      ]
     },
     "execution_count": 6,
     "metadata": {},
     "output_type": "execute_result"
    },
    {
     "data": {
      "text/plain": [
       "'C:\\\\Users\\\\fralu\\\\Documents\\\\GitHub\\\\anndl\\\\image-segmentation\\\\Segmentation_Dataset\\\\training\\\\images\\\\img\\\\1866.tif'"
      ]
     },
     "execution_count": 6,
     "metadata": {},
     "output_type": "execute_result"
    },
    {
     "data": {
      "text/plain": [
       "'C:\\\\Users\\\\fralu\\\\Documents\\\\GitHub\\\\anndl\\\\image-segmentation\\\\Segmentation_Dataset\\\\training\\\\masks\\\\img\\\\1866.tif'"
      ]
     },
     "execution_count": 6,
     "metadata": {},
     "output_type": "execute_result"
    },
    {
     "data": {
      "text/plain": [
       "'C:\\\\Users\\\\fralu\\\\Documents\\\\GitHub\\\\anndl\\\\image-segmentation\\\\Segmentation_Dataset\\\\training\\\\images\\\\img\\\\1880.tif'"
      ]
     },
     "execution_count": 6,
     "metadata": {},
     "output_type": "execute_result"
    },
    {
     "data": {
      "text/plain": [
       "'C:\\\\Users\\\\fralu\\\\Documents\\\\GitHub\\\\anndl\\\\image-segmentation\\\\Segmentation_Dataset\\\\training\\\\masks\\\\img\\\\1880.tif'"
      ]
     },
     "execution_count": 6,
     "metadata": {},
     "output_type": "execute_result"
    },
    {
     "data": {
      "text/plain": [
       "'C:\\\\Users\\\\fralu\\\\Documents\\\\GitHub\\\\anndl\\\\image-segmentation\\\\Segmentation_Dataset\\\\training\\\\images\\\\img\\\\1898.tif'"
      ]
     },
     "execution_count": 6,
     "metadata": {},
     "output_type": "execute_result"
    },
    {
     "data": {
      "text/plain": [
       "'C:\\\\Users\\\\fralu\\\\Documents\\\\GitHub\\\\anndl\\\\image-segmentation\\\\Segmentation_Dataset\\\\training\\\\masks\\\\img\\\\1898.tif'"
      ]
     },
     "execution_count": 6,
     "metadata": {},
     "output_type": "execute_result"
    },
    {
     "data": {
      "text/plain": [
       "'C:\\\\Users\\\\fralu\\\\Documents\\\\GitHub\\\\anndl\\\\image-segmentation\\\\Segmentation_Dataset\\\\training\\\\images\\\\img\\\\1899.tif'"
      ]
     },
     "execution_count": 6,
     "metadata": {},
     "output_type": "execute_result"
    },
    {
     "data": {
      "text/plain": [
       "'C:\\\\Users\\\\fralu\\\\Documents\\\\GitHub\\\\anndl\\\\image-segmentation\\\\Segmentation_Dataset\\\\training\\\\masks\\\\img\\\\1899.tif'"
      ]
     },
     "execution_count": 6,
     "metadata": {},
     "output_type": "execute_result"
    },
    {
     "data": {
      "text/plain": [
       "'C:\\\\Users\\\\fralu\\\\Documents\\\\GitHub\\\\anndl\\\\image-segmentation\\\\Segmentation_Dataset\\\\training\\\\images\\\\img\\\\1906.tif'"
      ]
     },
     "execution_count": 6,
     "metadata": {},
     "output_type": "execute_result"
    },
    {
     "data": {
      "text/plain": [
       "'C:\\\\Users\\\\fralu\\\\Documents\\\\GitHub\\\\anndl\\\\image-segmentation\\\\Segmentation_Dataset\\\\training\\\\masks\\\\img\\\\1906.tif'"
      ]
     },
     "execution_count": 6,
     "metadata": {},
     "output_type": "execute_result"
    },
    {
     "data": {
      "text/plain": [
       "'C:\\\\Users\\\\fralu\\\\Documents\\\\GitHub\\\\anndl\\\\image-segmentation\\\\Segmentation_Dataset\\\\training\\\\images\\\\img\\\\1909.tif'"
      ]
     },
     "execution_count": 6,
     "metadata": {},
     "output_type": "execute_result"
    },
    {
     "data": {
      "text/plain": [
       "'C:\\\\Users\\\\fralu\\\\Documents\\\\GitHub\\\\anndl\\\\image-segmentation\\\\Segmentation_Dataset\\\\training\\\\masks\\\\img\\\\1909.tif'"
      ]
     },
     "execution_count": 6,
     "metadata": {},
     "output_type": "execute_result"
    },
    {
     "data": {
      "text/plain": [
       "'C:\\\\Users\\\\fralu\\\\Documents\\\\GitHub\\\\anndl\\\\image-segmentation\\\\Segmentation_Dataset\\\\training\\\\images\\\\img\\\\1914.tif'"
      ]
     },
     "execution_count": 6,
     "metadata": {},
     "output_type": "execute_result"
    },
    {
     "data": {
      "text/plain": [
       "'C:\\\\Users\\\\fralu\\\\Documents\\\\GitHub\\\\anndl\\\\image-segmentation\\\\Segmentation_Dataset\\\\training\\\\masks\\\\img\\\\1914.tif'"
      ]
     },
     "execution_count": 6,
     "metadata": {},
     "output_type": "execute_result"
    },
    {
     "data": {
      "text/plain": [
       "'C:\\\\Users\\\\fralu\\\\Documents\\\\GitHub\\\\anndl\\\\image-segmentation\\\\Segmentation_Dataset\\\\training\\\\images\\\\img\\\\1916.tif'"
      ]
     },
     "execution_count": 6,
     "metadata": {},
     "output_type": "execute_result"
    },
    {
     "data": {
      "text/plain": [
       "'C:\\\\Users\\\\fralu\\\\Documents\\\\GitHub\\\\anndl\\\\image-segmentation\\\\Segmentation_Dataset\\\\training\\\\masks\\\\img\\\\1916.tif'"
      ]
     },
     "execution_count": 6,
     "metadata": {},
     "output_type": "execute_result"
    },
    {
     "data": {
      "text/plain": [
       "'C:\\\\Users\\\\fralu\\\\Documents\\\\GitHub\\\\anndl\\\\image-segmentation\\\\Segmentation_Dataset\\\\training\\\\images\\\\img\\\\1918.tif'"
      ]
     },
     "execution_count": 6,
     "metadata": {},
     "output_type": "execute_result"
    },
    {
     "data": {
      "text/plain": [
       "'C:\\\\Users\\\\fralu\\\\Documents\\\\GitHub\\\\anndl\\\\image-segmentation\\\\Segmentation_Dataset\\\\training\\\\masks\\\\img\\\\1918.tif'"
      ]
     },
     "execution_count": 6,
     "metadata": {},
     "output_type": "execute_result"
    },
    {
     "data": {
      "text/plain": [
       "'C:\\\\Users\\\\fralu\\\\Documents\\\\GitHub\\\\anndl\\\\image-segmentation\\\\Segmentation_Dataset\\\\training\\\\images\\\\img\\\\1926.tif'"
      ]
     },
     "execution_count": 6,
     "metadata": {},
     "output_type": "execute_result"
    },
    {
     "data": {
      "text/plain": [
       "'C:\\\\Users\\\\fralu\\\\Documents\\\\GitHub\\\\anndl\\\\image-segmentation\\\\Segmentation_Dataset\\\\training\\\\masks\\\\img\\\\1926.tif'"
      ]
     },
     "execution_count": 6,
     "metadata": {},
     "output_type": "execute_result"
    },
    {
     "data": {
      "text/plain": [
       "'C:\\\\Users\\\\fralu\\\\Documents\\\\GitHub\\\\anndl\\\\image-segmentation\\\\Segmentation_Dataset\\\\training\\\\images\\\\img\\\\1931.tif'"
      ]
     },
     "execution_count": 6,
     "metadata": {},
     "output_type": "execute_result"
    },
    {
     "data": {
      "text/plain": [
       "'C:\\\\Users\\\\fralu\\\\Documents\\\\GitHub\\\\anndl\\\\image-segmentation\\\\Segmentation_Dataset\\\\training\\\\masks\\\\img\\\\1931.tif'"
      ]
     },
     "execution_count": 6,
     "metadata": {},
     "output_type": "execute_result"
    },
    {
     "data": {
      "text/plain": [
       "'C:\\\\Users\\\\fralu\\\\Documents\\\\GitHub\\\\anndl\\\\image-segmentation\\\\Segmentation_Dataset\\\\training\\\\images\\\\img\\\\1932.tif'"
      ]
     },
     "execution_count": 6,
     "metadata": {},
     "output_type": "execute_result"
    },
    {
     "data": {
      "text/plain": [
       "'C:\\\\Users\\\\fralu\\\\Documents\\\\GitHub\\\\anndl\\\\image-segmentation\\\\Segmentation_Dataset\\\\training\\\\masks\\\\img\\\\1932.tif'"
      ]
     },
     "execution_count": 6,
     "metadata": {},
     "output_type": "execute_result"
    },
    {
     "data": {
      "text/plain": [
       "'C:\\\\Users\\\\fralu\\\\Documents\\\\GitHub\\\\anndl\\\\image-segmentation\\\\Segmentation_Dataset\\\\training\\\\images\\\\img\\\\1936.tif'"
      ]
     },
     "execution_count": 6,
     "metadata": {},
     "output_type": "execute_result"
    },
    {
     "data": {
      "text/plain": [
       "'C:\\\\Users\\\\fralu\\\\Documents\\\\GitHub\\\\anndl\\\\image-segmentation\\\\Segmentation_Dataset\\\\training\\\\masks\\\\img\\\\1936.tif'"
      ]
     },
     "execution_count": 6,
     "metadata": {},
     "output_type": "execute_result"
    },
    {
     "data": {
      "text/plain": [
       "'C:\\\\Users\\\\fralu\\\\Documents\\\\GitHub\\\\anndl\\\\image-segmentation\\\\Segmentation_Dataset\\\\training\\\\images\\\\img\\\\1940.tif'"
      ]
     },
     "execution_count": 6,
     "metadata": {},
     "output_type": "execute_result"
    },
    {
     "data": {
      "text/plain": [
       "'C:\\\\Users\\\\fralu\\\\Documents\\\\GitHub\\\\anndl\\\\image-segmentation\\\\Segmentation_Dataset\\\\training\\\\masks\\\\img\\\\1940.tif'"
      ]
     },
     "execution_count": 6,
     "metadata": {},
     "output_type": "execute_result"
    },
    {
     "data": {
      "text/plain": [
       "'C:\\\\Users\\\\fralu\\\\Documents\\\\GitHub\\\\anndl\\\\image-segmentation\\\\Segmentation_Dataset\\\\training\\\\images\\\\img\\\\1944.tif'"
      ]
     },
     "execution_count": 6,
     "metadata": {},
     "output_type": "execute_result"
    },
    {
     "data": {
      "text/plain": [
       "'C:\\\\Users\\\\fralu\\\\Documents\\\\GitHub\\\\anndl\\\\image-segmentation\\\\Segmentation_Dataset\\\\training\\\\masks\\\\img\\\\1944.tif'"
      ]
     },
     "execution_count": 6,
     "metadata": {},
     "output_type": "execute_result"
    },
    {
     "data": {
      "text/plain": [
       "'C:\\\\Users\\\\fralu\\\\Documents\\\\GitHub\\\\anndl\\\\image-segmentation\\\\Segmentation_Dataset\\\\training\\\\images\\\\img\\\\1960.tif'"
      ]
     },
     "execution_count": 6,
     "metadata": {},
     "output_type": "execute_result"
    },
    {
     "data": {
      "text/plain": [
       "'C:\\\\Users\\\\fralu\\\\Documents\\\\GitHub\\\\anndl\\\\image-segmentation\\\\Segmentation_Dataset\\\\training\\\\masks\\\\img\\\\1960.tif'"
      ]
     },
     "execution_count": 6,
     "metadata": {},
     "output_type": "execute_result"
    },
    {
     "data": {
      "text/plain": [
       "'C:\\\\Users\\\\fralu\\\\Documents\\\\GitHub\\\\anndl\\\\image-segmentation\\\\Segmentation_Dataset\\\\training\\\\images\\\\img\\\\197.tif'"
      ]
     },
     "execution_count": 6,
     "metadata": {},
     "output_type": "execute_result"
    },
    {
     "data": {
      "text/plain": [
       "'C:\\\\Users\\\\fralu\\\\Documents\\\\GitHub\\\\anndl\\\\image-segmentation\\\\Segmentation_Dataset\\\\training\\\\masks\\\\img\\\\197.tif'"
      ]
     },
     "execution_count": 6,
     "metadata": {},
     "output_type": "execute_result"
    },
    {
     "data": {
      "text/plain": [
       "'C:\\\\Users\\\\fralu\\\\Documents\\\\GitHub\\\\anndl\\\\image-segmentation\\\\Segmentation_Dataset\\\\training\\\\images\\\\img\\\\1976.tif'"
      ]
     },
     "execution_count": 6,
     "metadata": {},
     "output_type": "execute_result"
    },
    {
     "data": {
      "text/plain": [
       "'C:\\\\Users\\\\fralu\\\\Documents\\\\GitHub\\\\anndl\\\\image-segmentation\\\\Segmentation_Dataset\\\\training\\\\masks\\\\img\\\\1976.tif'"
      ]
     },
     "execution_count": 6,
     "metadata": {},
     "output_type": "execute_result"
    },
    {
     "data": {
      "text/plain": [
       "'C:\\\\Users\\\\fralu\\\\Documents\\\\GitHub\\\\anndl\\\\image-segmentation\\\\Segmentation_Dataset\\\\training\\\\images\\\\img\\\\1980.tif'"
      ]
     },
     "execution_count": 6,
     "metadata": {},
     "output_type": "execute_result"
    },
    {
     "data": {
      "text/plain": [
       "'C:\\\\Users\\\\fralu\\\\Documents\\\\GitHub\\\\anndl\\\\image-segmentation\\\\Segmentation_Dataset\\\\training\\\\masks\\\\img\\\\1980.tif'"
      ]
     },
     "execution_count": 6,
     "metadata": {},
     "output_type": "execute_result"
    },
    {
     "data": {
      "text/plain": [
       "'C:\\\\Users\\\\fralu\\\\Documents\\\\GitHub\\\\anndl\\\\image-segmentation\\\\Segmentation_Dataset\\\\training\\\\images\\\\img\\\\1981.tif'"
      ]
     },
     "execution_count": 6,
     "metadata": {},
     "output_type": "execute_result"
    },
    {
     "data": {
      "text/plain": [
       "'C:\\\\Users\\\\fralu\\\\Documents\\\\GitHub\\\\anndl\\\\image-segmentation\\\\Segmentation_Dataset\\\\training\\\\masks\\\\img\\\\1981.tif'"
      ]
     },
     "execution_count": 6,
     "metadata": {},
     "output_type": "execute_result"
    },
    {
     "data": {
      "text/plain": [
       "'C:\\\\Users\\\\fralu\\\\Documents\\\\GitHub\\\\anndl\\\\image-segmentation\\\\Segmentation_Dataset\\\\training\\\\images\\\\img\\\\1983.tif'"
      ]
     },
     "execution_count": 6,
     "metadata": {},
     "output_type": "execute_result"
    },
    {
     "data": {
      "text/plain": [
       "'C:\\\\Users\\\\fralu\\\\Documents\\\\GitHub\\\\anndl\\\\image-segmentation\\\\Segmentation_Dataset\\\\training\\\\masks\\\\img\\\\1983.tif'"
      ]
     },
     "execution_count": 6,
     "metadata": {},
     "output_type": "execute_result"
    },
    {
     "data": {
      "text/plain": [
       "'C:\\\\Users\\\\fralu\\\\Documents\\\\GitHub\\\\anndl\\\\image-segmentation\\\\Segmentation_Dataset\\\\training\\\\images\\\\img\\\\1987.tif'"
      ]
     },
     "execution_count": 6,
     "metadata": {},
     "output_type": "execute_result"
    },
    {
     "data": {
      "text/plain": [
       "'C:\\\\Users\\\\fralu\\\\Documents\\\\GitHub\\\\anndl\\\\image-segmentation\\\\Segmentation_Dataset\\\\training\\\\masks\\\\img\\\\1987.tif'"
      ]
     },
     "execution_count": 6,
     "metadata": {},
     "output_type": "execute_result"
    },
    {
     "data": {
      "text/plain": [
       "'C:\\\\Users\\\\fralu\\\\Documents\\\\GitHub\\\\anndl\\\\image-segmentation\\\\Segmentation_Dataset\\\\training\\\\images\\\\img\\\\1988.tif'"
      ]
     },
     "execution_count": 6,
     "metadata": {},
     "output_type": "execute_result"
    },
    {
     "data": {
      "text/plain": [
       "'C:\\\\Users\\\\fralu\\\\Documents\\\\GitHub\\\\anndl\\\\image-segmentation\\\\Segmentation_Dataset\\\\training\\\\masks\\\\img\\\\1988.tif'"
      ]
     },
     "execution_count": 6,
     "metadata": {},
     "output_type": "execute_result"
    },
    {
     "data": {
      "text/plain": [
       "'C:\\\\Users\\\\fralu\\\\Documents\\\\GitHub\\\\anndl\\\\image-segmentation\\\\Segmentation_Dataset\\\\training\\\\images\\\\img\\\\199.tif'"
      ]
     },
     "execution_count": 6,
     "metadata": {},
     "output_type": "execute_result"
    },
    {
     "data": {
      "text/plain": [
       "'C:\\\\Users\\\\fralu\\\\Documents\\\\GitHub\\\\anndl\\\\image-segmentation\\\\Segmentation_Dataset\\\\training\\\\masks\\\\img\\\\199.tif'"
      ]
     },
     "execution_count": 6,
     "metadata": {},
     "output_type": "execute_result"
    },
    {
     "data": {
      "text/plain": [
       "'C:\\\\Users\\\\fralu\\\\Documents\\\\GitHub\\\\anndl\\\\image-segmentation\\\\Segmentation_Dataset\\\\training\\\\images\\\\img\\\\1993.tif'"
      ]
     },
     "execution_count": 6,
     "metadata": {},
     "output_type": "execute_result"
    },
    {
     "data": {
      "text/plain": [
       "'C:\\\\Users\\\\fralu\\\\Documents\\\\GitHub\\\\anndl\\\\image-segmentation\\\\Segmentation_Dataset\\\\training\\\\masks\\\\img\\\\1993.tif'"
      ]
     },
     "execution_count": 6,
     "metadata": {},
     "output_type": "execute_result"
    },
    {
     "data": {
      "text/plain": [
       "'C:\\\\Users\\\\fralu\\\\Documents\\\\GitHub\\\\anndl\\\\image-segmentation\\\\Segmentation_Dataset\\\\training\\\\images\\\\img\\\\1997.tif'"
      ]
     },
     "execution_count": 6,
     "metadata": {},
     "output_type": "execute_result"
    },
    {
     "data": {
      "text/plain": [
       "'C:\\\\Users\\\\fralu\\\\Documents\\\\GitHub\\\\anndl\\\\image-segmentation\\\\Segmentation_Dataset\\\\training\\\\masks\\\\img\\\\1997.tif'"
      ]
     },
     "execution_count": 6,
     "metadata": {},
     "output_type": "execute_result"
    },
    {
     "data": {
      "text/plain": [
       "'C:\\\\Users\\\\fralu\\\\Documents\\\\GitHub\\\\anndl\\\\image-segmentation\\\\Segmentation_Dataset\\\\training\\\\images\\\\img\\\\2000.tif'"
      ]
     },
     "execution_count": 6,
     "metadata": {},
     "output_type": "execute_result"
    },
    {
     "data": {
      "text/plain": [
       "'C:\\\\Users\\\\fralu\\\\Documents\\\\GitHub\\\\anndl\\\\image-segmentation\\\\Segmentation_Dataset\\\\training\\\\masks\\\\img\\\\2000.tif'"
      ]
     },
     "execution_count": 6,
     "metadata": {},
     "output_type": "execute_result"
    },
    {
     "data": {
      "text/plain": [
       "'C:\\\\Users\\\\fralu\\\\Documents\\\\GitHub\\\\anndl\\\\image-segmentation\\\\Segmentation_Dataset\\\\training\\\\images\\\\img\\\\2001.tif'"
      ]
     },
     "execution_count": 6,
     "metadata": {},
     "output_type": "execute_result"
    },
    {
     "data": {
      "text/plain": [
       "'C:\\\\Users\\\\fralu\\\\Documents\\\\GitHub\\\\anndl\\\\image-segmentation\\\\Segmentation_Dataset\\\\training\\\\masks\\\\img\\\\2001.tif'"
      ]
     },
     "execution_count": 6,
     "metadata": {},
     "output_type": "execute_result"
    },
    {
     "data": {
      "text/plain": [
       "'C:\\\\Users\\\\fralu\\\\Documents\\\\GitHub\\\\anndl\\\\image-segmentation\\\\Segmentation_Dataset\\\\training\\\\images\\\\img\\\\2002.tif'"
      ]
     },
     "execution_count": 6,
     "metadata": {},
     "output_type": "execute_result"
    },
    {
     "data": {
      "text/plain": [
       "'C:\\\\Users\\\\fralu\\\\Documents\\\\GitHub\\\\anndl\\\\image-segmentation\\\\Segmentation_Dataset\\\\training\\\\masks\\\\img\\\\2002.tif'"
      ]
     },
     "execution_count": 6,
     "metadata": {},
     "output_type": "execute_result"
    },
    {
     "data": {
      "text/plain": [
       "'C:\\\\Users\\\\fralu\\\\Documents\\\\GitHub\\\\anndl\\\\image-segmentation\\\\Segmentation_Dataset\\\\training\\\\images\\\\img\\\\2004.tif'"
      ]
     },
     "execution_count": 6,
     "metadata": {},
     "output_type": "execute_result"
    },
    {
     "data": {
      "text/plain": [
       "'C:\\\\Users\\\\fralu\\\\Documents\\\\GitHub\\\\anndl\\\\image-segmentation\\\\Segmentation_Dataset\\\\training\\\\masks\\\\img\\\\2004.tif'"
      ]
     },
     "execution_count": 6,
     "metadata": {},
     "output_type": "execute_result"
    },
    {
     "data": {
      "text/plain": [
       "'C:\\\\Users\\\\fralu\\\\Documents\\\\GitHub\\\\anndl\\\\image-segmentation\\\\Segmentation_Dataset\\\\training\\\\images\\\\img\\\\2005.tif'"
      ]
     },
     "execution_count": 6,
     "metadata": {},
     "output_type": "execute_result"
    },
    {
     "data": {
      "text/plain": [
       "'C:\\\\Users\\\\fralu\\\\Documents\\\\GitHub\\\\anndl\\\\image-segmentation\\\\Segmentation_Dataset\\\\training\\\\masks\\\\img\\\\2005.tif'"
      ]
     },
     "execution_count": 6,
     "metadata": {},
     "output_type": "execute_result"
    },
    {
     "data": {
      "text/plain": [
       "'C:\\\\Users\\\\fralu\\\\Documents\\\\GitHub\\\\anndl\\\\image-segmentation\\\\Segmentation_Dataset\\\\training\\\\images\\\\img\\\\2015.tif'"
      ]
     },
     "execution_count": 6,
     "metadata": {},
     "output_type": "execute_result"
    },
    {
     "data": {
      "text/plain": [
       "'C:\\\\Users\\\\fralu\\\\Documents\\\\GitHub\\\\anndl\\\\image-segmentation\\\\Segmentation_Dataset\\\\training\\\\masks\\\\img\\\\2015.tif'"
      ]
     },
     "execution_count": 6,
     "metadata": {},
     "output_type": "execute_result"
    },
    {
     "data": {
      "text/plain": [
       "'C:\\\\Users\\\\fralu\\\\Documents\\\\GitHub\\\\anndl\\\\image-segmentation\\\\Segmentation_Dataset\\\\training\\\\images\\\\img\\\\2040.tif'"
      ]
     },
     "execution_count": 6,
     "metadata": {},
     "output_type": "execute_result"
    },
    {
     "data": {
      "text/plain": [
       "'C:\\\\Users\\\\fralu\\\\Documents\\\\GitHub\\\\anndl\\\\image-segmentation\\\\Segmentation_Dataset\\\\training\\\\masks\\\\img\\\\2040.tif'"
      ]
     },
     "execution_count": 6,
     "metadata": {},
     "output_type": "execute_result"
    },
    {
     "data": {
      "text/plain": [
       "'C:\\\\Users\\\\fralu\\\\Documents\\\\GitHub\\\\anndl\\\\image-segmentation\\\\Segmentation_Dataset\\\\training\\\\images\\\\img\\\\2044.tif'"
      ]
     },
     "execution_count": 6,
     "metadata": {},
     "output_type": "execute_result"
    },
    {
     "data": {
      "text/plain": [
       "'C:\\\\Users\\\\fralu\\\\Documents\\\\GitHub\\\\anndl\\\\image-segmentation\\\\Segmentation_Dataset\\\\training\\\\masks\\\\img\\\\2044.tif'"
      ]
     },
     "execution_count": 6,
     "metadata": {},
     "output_type": "execute_result"
    },
    {
     "data": {
      "text/plain": [
       "'C:\\\\Users\\\\fralu\\\\Documents\\\\GitHub\\\\anndl\\\\image-segmentation\\\\Segmentation_Dataset\\\\training\\\\images\\\\img\\\\2046.tif'"
      ]
     },
     "execution_count": 6,
     "metadata": {},
     "output_type": "execute_result"
    },
    {
     "data": {
      "text/plain": [
       "'C:\\\\Users\\\\fralu\\\\Documents\\\\GitHub\\\\anndl\\\\image-segmentation\\\\Segmentation_Dataset\\\\training\\\\masks\\\\img\\\\2046.tif'"
      ]
     },
     "execution_count": 6,
     "metadata": {},
     "output_type": "execute_result"
    },
    {
     "data": {
      "text/plain": [
       "'C:\\\\Users\\\\fralu\\\\Documents\\\\GitHub\\\\anndl\\\\image-segmentation\\\\Segmentation_Dataset\\\\training\\\\images\\\\img\\\\2060.tif'"
      ]
     },
     "execution_count": 6,
     "metadata": {},
     "output_type": "execute_result"
    },
    {
     "data": {
      "text/plain": [
       "'C:\\\\Users\\\\fralu\\\\Documents\\\\GitHub\\\\anndl\\\\image-segmentation\\\\Segmentation_Dataset\\\\training\\\\masks\\\\img\\\\2060.tif'"
      ]
     },
     "execution_count": 6,
     "metadata": {},
     "output_type": "execute_result"
    },
    {
     "data": {
      "text/plain": [
       "'C:\\\\Users\\\\fralu\\\\Documents\\\\GitHub\\\\anndl\\\\image-segmentation\\\\Segmentation_Dataset\\\\training\\\\images\\\\img\\\\2069.tif'"
      ]
     },
     "execution_count": 6,
     "metadata": {},
     "output_type": "execute_result"
    },
    {
     "data": {
      "text/plain": [
       "'C:\\\\Users\\\\fralu\\\\Documents\\\\GitHub\\\\anndl\\\\image-segmentation\\\\Segmentation_Dataset\\\\training\\\\masks\\\\img\\\\2069.tif'"
      ]
     },
     "execution_count": 6,
     "metadata": {},
     "output_type": "execute_result"
    },
    {
     "data": {
      "text/plain": [
       "'C:\\\\Users\\\\fralu\\\\Documents\\\\GitHub\\\\anndl\\\\image-segmentation\\\\Segmentation_Dataset\\\\training\\\\images\\\\img\\\\2072.tif'"
      ]
     },
     "execution_count": 6,
     "metadata": {},
     "output_type": "execute_result"
    },
    {
     "data": {
      "text/plain": [
       "'C:\\\\Users\\\\fralu\\\\Documents\\\\GitHub\\\\anndl\\\\image-segmentation\\\\Segmentation_Dataset\\\\training\\\\masks\\\\img\\\\2072.tif'"
      ]
     },
     "execution_count": 6,
     "metadata": {},
     "output_type": "execute_result"
    },
    {
     "data": {
      "text/plain": [
       "'C:\\\\Users\\\\fralu\\\\Documents\\\\GitHub\\\\anndl\\\\image-segmentation\\\\Segmentation_Dataset\\\\training\\\\images\\\\img\\\\2079.tif'"
      ]
     },
     "execution_count": 6,
     "metadata": {},
     "output_type": "execute_result"
    },
    {
     "data": {
      "text/plain": [
       "'C:\\\\Users\\\\fralu\\\\Documents\\\\GitHub\\\\anndl\\\\image-segmentation\\\\Segmentation_Dataset\\\\training\\\\masks\\\\img\\\\2079.tif'"
      ]
     },
     "execution_count": 6,
     "metadata": {},
     "output_type": "execute_result"
    },
    {
     "data": {
      "text/plain": [
       "'C:\\\\Users\\\\fralu\\\\Documents\\\\GitHub\\\\anndl\\\\image-segmentation\\\\Segmentation_Dataset\\\\training\\\\images\\\\img\\\\2080.tif'"
      ]
     },
     "execution_count": 6,
     "metadata": {},
     "output_type": "execute_result"
    },
    {
     "data": {
      "text/plain": [
       "'C:\\\\Users\\\\fralu\\\\Documents\\\\GitHub\\\\anndl\\\\image-segmentation\\\\Segmentation_Dataset\\\\training\\\\masks\\\\img\\\\2080.tif'"
      ]
     },
     "execution_count": 6,
     "metadata": {},
     "output_type": "execute_result"
    },
    {
     "data": {
      "text/plain": [
       "'C:\\\\Users\\\\fralu\\\\Documents\\\\GitHub\\\\anndl\\\\image-segmentation\\\\Segmentation_Dataset\\\\training\\\\images\\\\img\\\\2085.tif'"
      ]
     },
     "execution_count": 6,
     "metadata": {},
     "output_type": "execute_result"
    },
    {
     "data": {
      "text/plain": [
       "'C:\\\\Users\\\\fralu\\\\Documents\\\\GitHub\\\\anndl\\\\image-segmentation\\\\Segmentation_Dataset\\\\training\\\\masks\\\\img\\\\2085.tif'"
      ]
     },
     "execution_count": 6,
     "metadata": {},
     "output_type": "execute_result"
    },
    {
     "data": {
      "text/plain": [
       "'C:\\\\Users\\\\fralu\\\\Documents\\\\GitHub\\\\anndl\\\\image-segmentation\\\\Segmentation_Dataset\\\\training\\\\images\\\\img\\\\2090.tif'"
      ]
     },
     "execution_count": 6,
     "metadata": {},
     "output_type": "execute_result"
    },
    {
     "data": {
      "text/plain": [
       "'C:\\\\Users\\\\fralu\\\\Documents\\\\GitHub\\\\anndl\\\\image-segmentation\\\\Segmentation_Dataset\\\\training\\\\masks\\\\img\\\\2090.tif'"
      ]
     },
     "execution_count": 6,
     "metadata": {},
     "output_type": "execute_result"
    },
    {
     "data": {
      "text/plain": [
       "'C:\\\\Users\\\\fralu\\\\Documents\\\\GitHub\\\\anndl\\\\image-segmentation\\\\Segmentation_Dataset\\\\training\\\\images\\\\img\\\\2096.tif'"
      ]
     },
     "execution_count": 6,
     "metadata": {},
     "output_type": "execute_result"
    },
    {
     "data": {
      "text/plain": [
       "'C:\\\\Users\\\\fralu\\\\Documents\\\\GitHub\\\\anndl\\\\image-segmentation\\\\Segmentation_Dataset\\\\training\\\\masks\\\\img\\\\2096.tif'"
      ]
     },
     "execution_count": 6,
     "metadata": {},
     "output_type": "execute_result"
    },
    {
     "data": {
      "text/plain": [
       "'C:\\\\Users\\\\fralu\\\\Documents\\\\GitHub\\\\anndl\\\\image-segmentation\\\\Segmentation_Dataset\\\\training\\\\images\\\\img\\\\210.tif'"
      ]
     },
     "execution_count": 6,
     "metadata": {},
     "output_type": "execute_result"
    },
    {
     "data": {
      "text/plain": [
       "'C:\\\\Users\\\\fralu\\\\Documents\\\\GitHub\\\\anndl\\\\image-segmentation\\\\Segmentation_Dataset\\\\training\\\\masks\\\\img\\\\210.tif'"
      ]
     },
     "execution_count": 6,
     "metadata": {},
     "output_type": "execute_result"
    },
    {
     "data": {
      "text/plain": [
       "'C:\\\\Users\\\\fralu\\\\Documents\\\\GitHub\\\\anndl\\\\image-segmentation\\\\Segmentation_Dataset\\\\training\\\\images\\\\img\\\\2103.tif'"
      ]
     },
     "execution_count": 6,
     "metadata": {},
     "output_type": "execute_result"
    },
    {
     "data": {
      "text/plain": [
       "'C:\\\\Users\\\\fralu\\\\Documents\\\\GitHub\\\\anndl\\\\image-segmentation\\\\Segmentation_Dataset\\\\training\\\\masks\\\\img\\\\2103.tif'"
      ]
     },
     "execution_count": 6,
     "metadata": {},
     "output_type": "execute_result"
    },
    {
     "data": {
      "text/plain": [
       "'C:\\\\Users\\\\fralu\\\\Documents\\\\GitHub\\\\anndl\\\\image-segmentation\\\\Segmentation_Dataset\\\\training\\\\images\\\\img\\\\2108.tif'"
      ]
     },
     "execution_count": 6,
     "metadata": {},
     "output_type": "execute_result"
    },
    {
     "data": {
      "text/plain": [
       "'C:\\\\Users\\\\fralu\\\\Documents\\\\GitHub\\\\anndl\\\\image-segmentation\\\\Segmentation_Dataset\\\\training\\\\masks\\\\img\\\\2108.tif'"
      ]
     },
     "execution_count": 6,
     "metadata": {},
     "output_type": "execute_result"
    },
    {
     "data": {
      "text/plain": [
       "'C:\\\\Users\\\\fralu\\\\Documents\\\\GitHub\\\\anndl\\\\image-segmentation\\\\Segmentation_Dataset\\\\training\\\\images\\\\img\\\\2109.tif'"
      ]
     },
     "execution_count": 6,
     "metadata": {},
     "output_type": "execute_result"
    },
    {
     "data": {
      "text/plain": [
       "'C:\\\\Users\\\\fralu\\\\Documents\\\\GitHub\\\\anndl\\\\image-segmentation\\\\Segmentation_Dataset\\\\training\\\\masks\\\\img\\\\2109.tif'"
      ]
     },
     "execution_count": 6,
     "metadata": {},
     "output_type": "execute_result"
    },
    {
     "data": {
      "text/plain": [
       "'C:\\\\Users\\\\fralu\\\\Documents\\\\GitHub\\\\anndl\\\\image-segmentation\\\\Segmentation_Dataset\\\\training\\\\images\\\\img\\\\2115.tif'"
      ]
     },
     "execution_count": 6,
     "metadata": {},
     "output_type": "execute_result"
    },
    {
     "data": {
      "text/plain": [
       "'C:\\\\Users\\\\fralu\\\\Documents\\\\GitHub\\\\anndl\\\\image-segmentation\\\\Segmentation_Dataset\\\\training\\\\masks\\\\img\\\\2115.tif'"
      ]
     },
     "execution_count": 6,
     "metadata": {},
     "output_type": "execute_result"
    },
    {
     "data": {
      "text/plain": [
       "'C:\\\\Users\\\\fralu\\\\Documents\\\\GitHub\\\\anndl\\\\image-segmentation\\\\Segmentation_Dataset\\\\training\\\\images\\\\img\\\\2117.tif'"
      ]
     },
     "execution_count": 6,
     "metadata": {},
     "output_type": "execute_result"
    },
    {
     "data": {
      "text/plain": [
       "'C:\\\\Users\\\\fralu\\\\Documents\\\\GitHub\\\\anndl\\\\image-segmentation\\\\Segmentation_Dataset\\\\training\\\\masks\\\\img\\\\2117.tif'"
      ]
     },
     "execution_count": 6,
     "metadata": {},
     "output_type": "execute_result"
    },
    {
     "data": {
      "text/plain": [
       "'C:\\\\Users\\\\fralu\\\\Documents\\\\GitHub\\\\anndl\\\\image-segmentation\\\\Segmentation_Dataset\\\\training\\\\images\\\\img\\\\2120.tif'"
      ]
     },
     "execution_count": 6,
     "metadata": {},
     "output_type": "execute_result"
    },
    {
     "data": {
      "text/plain": [
       "'C:\\\\Users\\\\fralu\\\\Documents\\\\GitHub\\\\anndl\\\\image-segmentation\\\\Segmentation_Dataset\\\\training\\\\masks\\\\img\\\\2120.tif'"
      ]
     },
     "execution_count": 6,
     "metadata": {},
     "output_type": "execute_result"
    },
    {
     "data": {
      "text/plain": [
       "'C:\\\\Users\\\\fralu\\\\Documents\\\\GitHub\\\\anndl\\\\image-segmentation\\\\Segmentation_Dataset\\\\training\\\\images\\\\img\\\\213.tif'"
      ]
     },
     "execution_count": 6,
     "metadata": {},
     "output_type": "execute_result"
    },
    {
     "data": {
      "text/plain": [
       "'C:\\\\Users\\\\fralu\\\\Documents\\\\GitHub\\\\anndl\\\\image-segmentation\\\\Segmentation_Dataset\\\\training\\\\masks\\\\img\\\\213.tif'"
      ]
     },
     "execution_count": 6,
     "metadata": {},
     "output_type": "execute_result"
    },
    {
     "data": {
      "text/plain": [
       "'C:\\\\Users\\\\fralu\\\\Documents\\\\GitHub\\\\anndl\\\\image-segmentation\\\\Segmentation_Dataset\\\\training\\\\images\\\\img\\\\2131.tif'"
      ]
     },
     "execution_count": 6,
     "metadata": {},
     "output_type": "execute_result"
    },
    {
     "data": {
      "text/plain": [
       "'C:\\\\Users\\\\fralu\\\\Documents\\\\GitHub\\\\anndl\\\\image-segmentation\\\\Segmentation_Dataset\\\\training\\\\masks\\\\img\\\\2131.tif'"
      ]
     },
     "execution_count": 6,
     "metadata": {},
     "output_type": "execute_result"
    },
    {
     "data": {
      "text/plain": [
       "'C:\\\\Users\\\\fralu\\\\Documents\\\\GitHub\\\\anndl\\\\image-segmentation\\\\Segmentation_Dataset\\\\training\\\\images\\\\img\\\\216.tif'"
      ]
     },
     "execution_count": 6,
     "metadata": {},
     "output_type": "execute_result"
    },
    {
     "data": {
      "text/plain": [
       "'C:\\\\Users\\\\fralu\\\\Documents\\\\GitHub\\\\anndl\\\\image-segmentation\\\\Segmentation_Dataset\\\\training\\\\masks\\\\img\\\\216.tif'"
      ]
     },
     "execution_count": 6,
     "metadata": {},
     "output_type": "execute_result"
    },
    {
     "data": {
      "text/plain": [
       "'C:\\\\Users\\\\fralu\\\\Documents\\\\GitHub\\\\anndl\\\\image-segmentation\\\\Segmentation_Dataset\\\\training\\\\images\\\\img\\\\2176.tif'"
      ]
     },
     "execution_count": 6,
     "metadata": {},
     "output_type": "execute_result"
    },
    {
     "data": {
      "text/plain": [
       "'C:\\\\Users\\\\fralu\\\\Documents\\\\GitHub\\\\anndl\\\\image-segmentation\\\\Segmentation_Dataset\\\\training\\\\masks\\\\img\\\\2176.tif'"
      ]
     },
     "execution_count": 6,
     "metadata": {},
     "output_type": "execute_result"
    },
    {
     "data": {
      "text/plain": [
       "'C:\\\\Users\\\\fralu\\\\Documents\\\\GitHub\\\\anndl\\\\image-segmentation\\\\Segmentation_Dataset\\\\training\\\\images\\\\img\\\\2181.tif'"
      ]
     },
     "execution_count": 6,
     "metadata": {},
     "output_type": "execute_result"
    },
    {
     "data": {
      "text/plain": [
       "'C:\\\\Users\\\\fralu\\\\Documents\\\\GitHub\\\\anndl\\\\image-segmentation\\\\Segmentation_Dataset\\\\training\\\\masks\\\\img\\\\2181.tif'"
      ]
     },
     "execution_count": 6,
     "metadata": {},
     "output_type": "execute_result"
    },
    {
     "data": {
      "text/plain": [
       "'C:\\\\Users\\\\fralu\\\\Documents\\\\GitHub\\\\anndl\\\\image-segmentation\\\\Segmentation_Dataset\\\\training\\\\images\\\\img\\\\2182.tif'"
      ]
     },
     "execution_count": 6,
     "metadata": {},
     "output_type": "execute_result"
    },
    {
     "data": {
      "text/plain": [
       "'C:\\\\Users\\\\fralu\\\\Documents\\\\GitHub\\\\anndl\\\\image-segmentation\\\\Segmentation_Dataset\\\\training\\\\masks\\\\img\\\\2182.tif'"
      ]
     },
     "execution_count": 6,
     "metadata": {},
     "output_type": "execute_result"
    },
    {
     "data": {
      "text/plain": [
       "'C:\\\\Users\\\\fralu\\\\Documents\\\\GitHub\\\\anndl\\\\image-segmentation\\\\Segmentation_Dataset\\\\training\\\\images\\\\img\\\\2190.tif'"
      ]
     },
     "execution_count": 6,
     "metadata": {},
     "output_type": "execute_result"
    },
    {
     "data": {
      "text/plain": [
       "'C:\\\\Users\\\\fralu\\\\Documents\\\\GitHub\\\\anndl\\\\image-segmentation\\\\Segmentation_Dataset\\\\training\\\\masks\\\\img\\\\2190.tif'"
      ]
     },
     "execution_count": 6,
     "metadata": {},
     "output_type": "execute_result"
    },
    {
     "data": {
      "text/plain": [
       "'C:\\\\Users\\\\fralu\\\\Documents\\\\GitHub\\\\anndl\\\\image-segmentation\\\\Segmentation_Dataset\\\\training\\\\images\\\\img\\\\2199.tif'"
      ]
     },
     "execution_count": 6,
     "metadata": {},
     "output_type": "execute_result"
    },
    {
     "data": {
      "text/plain": [
       "'C:\\\\Users\\\\fralu\\\\Documents\\\\GitHub\\\\anndl\\\\image-segmentation\\\\Segmentation_Dataset\\\\training\\\\masks\\\\img\\\\2199.tif'"
      ]
     },
     "execution_count": 6,
     "metadata": {},
     "output_type": "execute_result"
    },
    {
     "data": {
      "text/plain": [
       "'C:\\\\Users\\\\fralu\\\\Documents\\\\GitHub\\\\anndl\\\\image-segmentation\\\\Segmentation_Dataset\\\\training\\\\images\\\\img\\\\2204.tif'"
      ]
     },
     "execution_count": 6,
     "metadata": {},
     "output_type": "execute_result"
    },
    {
     "data": {
      "text/plain": [
       "'C:\\\\Users\\\\fralu\\\\Documents\\\\GitHub\\\\anndl\\\\image-segmentation\\\\Segmentation_Dataset\\\\training\\\\masks\\\\img\\\\2204.tif'"
      ]
     },
     "execution_count": 6,
     "metadata": {},
     "output_type": "execute_result"
    },
    {
     "data": {
      "text/plain": [
       "'C:\\\\Users\\\\fralu\\\\Documents\\\\GitHub\\\\anndl\\\\image-segmentation\\\\Segmentation_Dataset\\\\training\\\\images\\\\img\\\\2208.tif'"
      ]
     },
     "execution_count": 6,
     "metadata": {},
     "output_type": "execute_result"
    },
    {
     "data": {
      "text/plain": [
       "'C:\\\\Users\\\\fralu\\\\Documents\\\\GitHub\\\\anndl\\\\image-segmentation\\\\Segmentation_Dataset\\\\training\\\\masks\\\\img\\\\2208.tif'"
      ]
     },
     "execution_count": 6,
     "metadata": {},
     "output_type": "execute_result"
    },
    {
     "data": {
      "text/plain": [
       "'C:\\\\Users\\\\fralu\\\\Documents\\\\GitHub\\\\anndl\\\\image-segmentation\\\\Segmentation_Dataset\\\\training\\\\images\\\\img\\\\221.tif'"
      ]
     },
     "execution_count": 6,
     "metadata": {},
     "output_type": "execute_result"
    },
    {
     "data": {
      "text/plain": [
       "'C:\\\\Users\\\\fralu\\\\Documents\\\\GitHub\\\\anndl\\\\image-segmentation\\\\Segmentation_Dataset\\\\training\\\\masks\\\\img\\\\221.tif'"
      ]
     },
     "execution_count": 6,
     "metadata": {},
     "output_type": "execute_result"
    },
    {
     "data": {
      "text/plain": [
       "'C:\\\\Users\\\\fralu\\\\Documents\\\\GitHub\\\\anndl\\\\image-segmentation\\\\Segmentation_Dataset\\\\training\\\\images\\\\img\\\\2212.tif'"
      ]
     },
     "execution_count": 6,
     "metadata": {},
     "output_type": "execute_result"
    },
    {
     "data": {
      "text/plain": [
       "'C:\\\\Users\\\\fralu\\\\Documents\\\\GitHub\\\\anndl\\\\image-segmentation\\\\Segmentation_Dataset\\\\training\\\\masks\\\\img\\\\2212.tif'"
      ]
     },
     "execution_count": 6,
     "metadata": {},
     "output_type": "execute_result"
    },
    {
     "data": {
      "text/plain": [
       "'C:\\\\Users\\\\fralu\\\\Documents\\\\GitHub\\\\anndl\\\\image-segmentation\\\\Segmentation_Dataset\\\\training\\\\images\\\\img\\\\2215.tif'"
      ]
     },
     "execution_count": 6,
     "metadata": {},
     "output_type": "execute_result"
    },
    {
     "data": {
      "text/plain": [
       "'C:\\\\Users\\\\fralu\\\\Documents\\\\GitHub\\\\anndl\\\\image-segmentation\\\\Segmentation_Dataset\\\\training\\\\masks\\\\img\\\\2215.tif'"
      ]
     },
     "execution_count": 6,
     "metadata": {},
     "output_type": "execute_result"
    },
    {
     "data": {
      "text/plain": [
       "'C:\\\\Users\\\\fralu\\\\Documents\\\\GitHub\\\\anndl\\\\image-segmentation\\\\Segmentation_Dataset\\\\training\\\\images\\\\img\\\\2233.tif'"
      ]
     },
     "execution_count": 6,
     "metadata": {},
     "output_type": "execute_result"
    },
    {
     "data": {
      "text/plain": [
       "'C:\\\\Users\\\\fralu\\\\Documents\\\\GitHub\\\\anndl\\\\image-segmentation\\\\Segmentation_Dataset\\\\training\\\\masks\\\\img\\\\2233.tif'"
      ]
     },
     "execution_count": 6,
     "metadata": {},
     "output_type": "execute_result"
    },
    {
     "data": {
      "text/plain": [
       "'C:\\\\Users\\\\fralu\\\\Documents\\\\GitHub\\\\anndl\\\\image-segmentation\\\\Segmentation_Dataset\\\\training\\\\images\\\\img\\\\2236.tif'"
      ]
     },
     "execution_count": 6,
     "metadata": {},
     "output_type": "execute_result"
    },
    {
     "data": {
      "text/plain": [
       "'C:\\\\Users\\\\fralu\\\\Documents\\\\GitHub\\\\anndl\\\\image-segmentation\\\\Segmentation_Dataset\\\\training\\\\masks\\\\img\\\\2236.tif'"
      ]
     },
     "execution_count": 6,
     "metadata": {},
     "output_type": "execute_result"
    },
    {
     "data": {
      "text/plain": [
       "'C:\\\\Users\\\\fralu\\\\Documents\\\\GitHub\\\\anndl\\\\image-segmentation\\\\Segmentation_Dataset\\\\training\\\\images\\\\img\\\\2244.tif'"
      ]
     },
     "execution_count": 6,
     "metadata": {},
     "output_type": "execute_result"
    },
    {
     "data": {
      "text/plain": [
       "'C:\\\\Users\\\\fralu\\\\Documents\\\\GitHub\\\\anndl\\\\image-segmentation\\\\Segmentation_Dataset\\\\training\\\\masks\\\\img\\\\2244.tif'"
      ]
     },
     "execution_count": 6,
     "metadata": {},
     "output_type": "execute_result"
    },
    {
     "data": {
      "text/plain": [
       "'C:\\\\Users\\\\fralu\\\\Documents\\\\GitHub\\\\anndl\\\\image-segmentation\\\\Segmentation_Dataset\\\\training\\\\images\\\\img\\\\2246.tif'"
      ]
     },
     "execution_count": 6,
     "metadata": {},
     "output_type": "execute_result"
    },
    {
     "data": {
      "text/plain": [
       "'C:\\\\Users\\\\fralu\\\\Documents\\\\GitHub\\\\anndl\\\\image-segmentation\\\\Segmentation_Dataset\\\\training\\\\masks\\\\img\\\\2246.tif'"
      ]
     },
     "execution_count": 6,
     "metadata": {},
     "output_type": "execute_result"
    },
    {
     "data": {
      "text/plain": [
       "'C:\\\\Users\\\\fralu\\\\Documents\\\\GitHub\\\\anndl\\\\image-segmentation\\\\Segmentation_Dataset\\\\training\\\\images\\\\img\\\\225.tif'"
      ]
     },
     "execution_count": 6,
     "metadata": {},
     "output_type": "execute_result"
    },
    {
     "data": {
      "text/plain": [
       "'C:\\\\Users\\\\fralu\\\\Documents\\\\GitHub\\\\anndl\\\\image-segmentation\\\\Segmentation_Dataset\\\\training\\\\masks\\\\img\\\\225.tif'"
      ]
     },
     "execution_count": 6,
     "metadata": {},
     "output_type": "execute_result"
    },
    {
     "data": {
      "text/plain": [
       "'C:\\\\Users\\\\fralu\\\\Documents\\\\GitHub\\\\anndl\\\\image-segmentation\\\\Segmentation_Dataset\\\\training\\\\images\\\\img\\\\2257.tif'"
      ]
     },
     "execution_count": 6,
     "metadata": {},
     "output_type": "execute_result"
    },
    {
     "data": {
      "text/plain": [
       "'C:\\\\Users\\\\fralu\\\\Documents\\\\GitHub\\\\anndl\\\\image-segmentation\\\\Segmentation_Dataset\\\\training\\\\masks\\\\img\\\\2257.tif'"
      ]
     },
     "execution_count": 6,
     "metadata": {},
     "output_type": "execute_result"
    },
    {
     "data": {
      "text/plain": [
       "'C:\\\\Users\\\\fralu\\\\Documents\\\\GitHub\\\\anndl\\\\image-segmentation\\\\Segmentation_Dataset\\\\training\\\\images\\\\img\\\\2258.tif'"
      ]
     },
     "execution_count": 6,
     "metadata": {},
     "output_type": "execute_result"
    },
    {
     "data": {
      "text/plain": [
       "'C:\\\\Users\\\\fralu\\\\Documents\\\\GitHub\\\\anndl\\\\image-segmentation\\\\Segmentation_Dataset\\\\training\\\\masks\\\\img\\\\2258.tif'"
      ]
     },
     "execution_count": 6,
     "metadata": {},
     "output_type": "execute_result"
    },
    {
     "data": {
      "text/plain": [
       "'C:\\\\Users\\\\fralu\\\\Documents\\\\GitHub\\\\anndl\\\\image-segmentation\\\\Segmentation_Dataset\\\\training\\\\images\\\\img\\\\2260.tif'"
      ]
     },
     "execution_count": 6,
     "metadata": {},
     "output_type": "execute_result"
    },
    {
     "data": {
      "text/plain": [
       "'C:\\\\Users\\\\fralu\\\\Documents\\\\GitHub\\\\anndl\\\\image-segmentation\\\\Segmentation_Dataset\\\\training\\\\masks\\\\img\\\\2260.tif'"
      ]
     },
     "execution_count": 6,
     "metadata": {},
     "output_type": "execute_result"
    },
    {
     "data": {
      "text/plain": [
       "'C:\\\\Users\\\\fralu\\\\Documents\\\\GitHub\\\\anndl\\\\image-segmentation\\\\Segmentation_Dataset\\\\training\\\\images\\\\img\\\\2261.tif'"
      ]
     },
     "execution_count": 6,
     "metadata": {},
     "output_type": "execute_result"
    },
    {
     "data": {
      "text/plain": [
       "'C:\\\\Users\\\\fralu\\\\Documents\\\\GitHub\\\\anndl\\\\image-segmentation\\\\Segmentation_Dataset\\\\training\\\\masks\\\\img\\\\2261.tif'"
      ]
     },
     "execution_count": 6,
     "metadata": {},
     "output_type": "execute_result"
    },
    {
     "data": {
      "text/plain": [
       "'C:\\\\Users\\\\fralu\\\\Documents\\\\GitHub\\\\anndl\\\\image-segmentation\\\\Segmentation_Dataset\\\\training\\\\images\\\\img\\\\2264.tif'"
      ]
     },
     "execution_count": 6,
     "metadata": {},
     "output_type": "execute_result"
    },
    {
     "data": {
      "text/plain": [
       "'C:\\\\Users\\\\fralu\\\\Documents\\\\GitHub\\\\anndl\\\\image-segmentation\\\\Segmentation_Dataset\\\\training\\\\masks\\\\img\\\\2264.tif'"
      ]
     },
     "execution_count": 6,
     "metadata": {},
     "output_type": "execute_result"
    },
    {
     "data": {
      "text/plain": [
       "'C:\\\\Users\\\\fralu\\\\Documents\\\\GitHub\\\\anndl\\\\image-segmentation\\\\Segmentation_Dataset\\\\training\\\\images\\\\img\\\\2269.tif'"
      ]
     },
     "execution_count": 6,
     "metadata": {},
     "output_type": "execute_result"
    },
    {
     "data": {
      "text/plain": [
       "'C:\\\\Users\\\\fralu\\\\Documents\\\\GitHub\\\\anndl\\\\image-segmentation\\\\Segmentation_Dataset\\\\training\\\\masks\\\\img\\\\2269.tif'"
      ]
     },
     "execution_count": 6,
     "metadata": {},
     "output_type": "execute_result"
    },
    {
     "data": {
      "text/plain": [
       "'C:\\\\Users\\\\fralu\\\\Documents\\\\GitHub\\\\anndl\\\\image-segmentation\\\\Segmentation_Dataset\\\\training\\\\images\\\\img\\\\2277.tif'"
      ]
     },
     "execution_count": 6,
     "metadata": {},
     "output_type": "execute_result"
    },
    {
     "data": {
      "text/plain": [
       "'C:\\\\Users\\\\fralu\\\\Documents\\\\GitHub\\\\anndl\\\\image-segmentation\\\\Segmentation_Dataset\\\\training\\\\masks\\\\img\\\\2277.tif'"
      ]
     },
     "execution_count": 6,
     "metadata": {},
     "output_type": "execute_result"
    },
    {
     "data": {
      "text/plain": [
       "'C:\\\\Users\\\\fralu\\\\Documents\\\\GitHub\\\\anndl\\\\image-segmentation\\\\Segmentation_Dataset\\\\training\\\\images\\\\img\\\\2279.tif'"
      ]
     },
     "execution_count": 6,
     "metadata": {},
     "output_type": "execute_result"
    },
    {
     "data": {
      "text/plain": [
       "'C:\\\\Users\\\\fralu\\\\Documents\\\\GitHub\\\\anndl\\\\image-segmentation\\\\Segmentation_Dataset\\\\training\\\\masks\\\\img\\\\2279.tif'"
      ]
     },
     "execution_count": 6,
     "metadata": {},
     "output_type": "execute_result"
    },
    {
     "data": {
      "text/plain": [
       "'C:\\\\Users\\\\fralu\\\\Documents\\\\GitHub\\\\anndl\\\\image-segmentation\\\\Segmentation_Dataset\\\\training\\\\images\\\\img\\\\229.tif'"
      ]
     },
     "execution_count": 6,
     "metadata": {},
     "output_type": "execute_result"
    },
    {
     "data": {
      "text/plain": [
       "'C:\\\\Users\\\\fralu\\\\Documents\\\\GitHub\\\\anndl\\\\image-segmentation\\\\Segmentation_Dataset\\\\training\\\\masks\\\\img\\\\229.tif'"
      ]
     },
     "execution_count": 6,
     "metadata": {},
     "output_type": "execute_result"
    },
    {
     "data": {
      "text/plain": [
       "'C:\\\\Users\\\\fralu\\\\Documents\\\\GitHub\\\\anndl\\\\image-segmentation\\\\Segmentation_Dataset\\\\training\\\\images\\\\img\\\\2295.tif'"
      ]
     },
     "execution_count": 6,
     "metadata": {},
     "output_type": "execute_result"
    },
    {
     "data": {
      "text/plain": [
       "'C:\\\\Users\\\\fralu\\\\Documents\\\\GitHub\\\\anndl\\\\image-segmentation\\\\Segmentation_Dataset\\\\training\\\\masks\\\\img\\\\2295.tif'"
      ]
     },
     "execution_count": 6,
     "metadata": {},
     "output_type": "execute_result"
    },
    {
     "data": {
      "text/plain": [
       "'C:\\\\Users\\\\fralu\\\\Documents\\\\GitHub\\\\anndl\\\\image-segmentation\\\\Segmentation_Dataset\\\\training\\\\images\\\\img\\\\2296.tif'"
      ]
     },
     "execution_count": 6,
     "metadata": {},
     "output_type": "execute_result"
    },
    {
     "data": {
      "text/plain": [
       "'C:\\\\Users\\\\fralu\\\\Documents\\\\GitHub\\\\anndl\\\\image-segmentation\\\\Segmentation_Dataset\\\\training\\\\masks\\\\img\\\\2296.tif'"
      ]
     },
     "execution_count": 6,
     "metadata": {},
     "output_type": "execute_result"
    },
    {
     "data": {
      "text/plain": [
       "'C:\\\\Users\\\\fralu\\\\Documents\\\\GitHub\\\\anndl\\\\image-segmentation\\\\Segmentation_Dataset\\\\training\\\\images\\\\img\\\\2303.tif'"
      ]
     },
     "execution_count": 6,
     "metadata": {},
     "output_type": "execute_result"
    },
    {
     "data": {
      "text/plain": [
       "'C:\\\\Users\\\\fralu\\\\Documents\\\\GitHub\\\\anndl\\\\image-segmentation\\\\Segmentation_Dataset\\\\training\\\\masks\\\\img\\\\2303.tif'"
      ]
     },
     "execution_count": 6,
     "metadata": {},
     "output_type": "execute_result"
    },
    {
     "data": {
      "text/plain": [
       "'C:\\\\Users\\\\fralu\\\\Documents\\\\GitHub\\\\anndl\\\\image-segmentation\\\\Segmentation_Dataset\\\\training\\\\images\\\\img\\\\2305.tif'"
      ]
     },
     "execution_count": 6,
     "metadata": {},
     "output_type": "execute_result"
    },
    {
     "data": {
      "text/plain": [
       "'C:\\\\Users\\\\fralu\\\\Documents\\\\GitHub\\\\anndl\\\\image-segmentation\\\\Segmentation_Dataset\\\\training\\\\masks\\\\img\\\\2305.tif'"
      ]
     },
     "execution_count": 6,
     "metadata": {},
     "output_type": "execute_result"
    },
    {
     "data": {
      "text/plain": [
       "'C:\\\\Users\\\\fralu\\\\Documents\\\\GitHub\\\\anndl\\\\image-segmentation\\\\Segmentation_Dataset\\\\training\\\\images\\\\img\\\\2308.tif'"
      ]
     },
     "execution_count": 6,
     "metadata": {},
     "output_type": "execute_result"
    },
    {
     "data": {
      "text/plain": [
       "'C:\\\\Users\\\\fralu\\\\Documents\\\\GitHub\\\\anndl\\\\image-segmentation\\\\Segmentation_Dataset\\\\training\\\\masks\\\\img\\\\2308.tif'"
      ]
     },
     "execution_count": 6,
     "metadata": {},
     "output_type": "execute_result"
    },
    {
     "data": {
      "text/plain": [
       "'C:\\\\Users\\\\fralu\\\\Documents\\\\GitHub\\\\anndl\\\\image-segmentation\\\\Segmentation_Dataset\\\\training\\\\images\\\\img\\\\2314.tif'"
      ]
     },
     "execution_count": 6,
     "metadata": {},
     "output_type": "execute_result"
    },
    {
     "data": {
      "text/plain": [
       "'C:\\\\Users\\\\fralu\\\\Documents\\\\GitHub\\\\anndl\\\\image-segmentation\\\\Segmentation_Dataset\\\\training\\\\masks\\\\img\\\\2314.tif'"
      ]
     },
     "execution_count": 6,
     "metadata": {},
     "output_type": "execute_result"
    },
    {
     "data": {
      "text/plain": [
       "'C:\\\\Users\\\\fralu\\\\Documents\\\\GitHub\\\\anndl\\\\image-segmentation\\\\Segmentation_Dataset\\\\training\\\\images\\\\img\\\\2319.tif'"
      ]
     },
     "execution_count": 6,
     "metadata": {},
     "output_type": "execute_result"
    },
    {
     "data": {
      "text/plain": [
       "'C:\\\\Users\\\\fralu\\\\Documents\\\\GitHub\\\\anndl\\\\image-segmentation\\\\Segmentation_Dataset\\\\training\\\\masks\\\\img\\\\2319.tif'"
      ]
     },
     "execution_count": 6,
     "metadata": {},
     "output_type": "execute_result"
    },
    {
     "data": {
      "text/plain": [
       "'C:\\\\Users\\\\fralu\\\\Documents\\\\GitHub\\\\anndl\\\\image-segmentation\\\\Segmentation_Dataset\\\\training\\\\images\\\\img\\\\2321.tif'"
      ]
     },
     "execution_count": 6,
     "metadata": {},
     "output_type": "execute_result"
    },
    {
     "data": {
      "text/plain": [
       "'C:\\\\Users\\\\fralu\\\\Documents\\\\GitHub\\\\anndl\\\\image-segmentation\\\\Segmentation_Dataset\\\\training\\\\masks\\\\img\\\\2321.tif'"
      ]
     },
     "execution_count": 6,
     "metadata": {},
     "output_type": "execute_result"
    },
    {
     "data": {
      "text/plain": [
       "'C:\\\\Users\\\\fralu\\\\Documents\\\\GitHub\\\\anndl\\\\image-segmentation\\\\Segmentation_Dataset\\\\training\\\\images\\\\img\\\\2328.tif'"
      ]
     },
     "execution_count": 6,
     "metadata": {},
     "output_type": "execute_result"
    },
    {
     "data": {
      "text/plain": [
       "'C:\\\\Users\\\\fralu\\\\Documents\\\\GitHub\\\\anndl\\\\image-segmentation\\\\Segmentation_Dataset\\\\training\\\\masks\\\\img\\\\2328.tif'"
      ]
     },
     "execution_count": 6,
     "metadata": {},
     "output_type": "execute_result"
    },
    {
     "data": {
      "text/plain": [
       "'C:\\\\Users\\\\fralu\\\\Documents\\\\GitHub\\\\anndl\\\\image-segmentation\\\\Segmentation_Dataset\\\\training\\\\images\\\\img\\\\2342.tif'"
      ]
     },
     "execution_count": 6,
     "metadata": {},
     "output_type": "execute_result"
    },
    {
     "data": {
      "text/plain": [
       "'C:\\\\Users\\\\fralu\\\\Documents\\\\GitHub\\\\anndl\\\\image-segmentation\\\\Segmentation_Dataset\\\\training\\\\masks\\\\img\\\\2342.tif'"
      ]
     },
     "execution_count": 6,
     "metadata": {},
     "output_type": "execute_result"
    },
    {
     "data": {
      "text/plain": [
       "'C:\\\\Users\\\\fralu\\\\Documents\\\\GitHub\\\\anndl\\\\image-segmentation\\\\Segmentation_Dataset\\\\training\\\\images\\\\img\\\\2343.tif'"
      ]
     },
     "execution_count": 6,
     "metadata": {},
     "output_type": "execute_result"
    },
    {
     "data": {
      "text/plain": [
       "'C:\\\\Users\\\\fralu\\\\Documents\\\\GitHub\\\\anndl\\\\image-segmentation\\\\Segmentation_Dataset\\\\training\\\\masks\\\\img\\\\2343.tif'"
      ]
     },
     "execution_count": 6,
     "metadata": {},
     "output_type": "execute_result"
    },
    {
     "data": {
      "text/plain": [
       "'C:\\\\Users\\\\fralu\\\\Documents\\\\GitHub\\\\anndl\\\\image-segmentation\\\\Segmentation_Dataset\\\\training\\\\images\\\\img\\\\2350.tif'"
      ]
     },
     "execution_count": 6,
     "metadata": {},
     "output_type": "execute_result"
    },
    {
     "data": {
      "text/plain": [
       "'C:\\\\Users\\\\fralu\\\\Documents\\\\GitHub\\\\anndl\\\\image-segmentation\\\\Segmentation_Dataset\\\\training\\\\masks\\\\img\\\\2350.tif'"
      ]
     },
     "execution_count": 6,
     "metadata": {},
     "output_type": "execute_result"
    },
    {
     "data": {
      "text/plain": [
       "'C:\\\\Users\\\\fralu\\\\Documents\\\\GitHub\\\\anndl\\\\image-segmentation\\\\Segmentation_Dataset\\\\training\\\\images\\\\img\\\\2353.tif'"
      ]
     },
     "execution_count": 6,
     "metadata": {},
     "output_type": "execute_result"
    },
    {
     "data": {
      "text/plain": [
       "'C:\\\\Users\\\\fralu\\\\Documents\\\\GitHub\\\\anndl\\\\image-segmentation\\\\Segmentation_Dataset\\\\training\\\\masks\\\\img\\\\2353.tif'"
      ]
     },
     "execution_count": 6,
     "metadata": {},
     "output_type": "execute_result"
    },
    {
     "data": {
      "text/plain": [
       "'C:\\\\Users\\\\fralu\\\\Documents\\\\GitHub\\\\anndl\\\\image-segmentation\\\\Segmentation_Dataset\\\\training\\\\images\\\\img\\\\2355.tif'"
      ]
     },
     "execution_count": 6,
     "metadata": {},
     "output_type": "execute_result"
    },
    {
     "data": {
      "text/plain": [
       "'C:\\\\Users\\\\fralu\\\\Documents\\\\GitHub\\\\anndl\\\\image-segmentation\\\\Segmentation_Dataset\\\\training\\\\masks\\\\img\\\\2355.tif'"
      ]
     },
     "execution_count": 6,
     "metadata": {},
     "output_type": "execute_result"
    },
    {
     "data": {
      "text/plain": [
       "'C:\\\\Users\\\\fralu\\\\Documents\\\\GitHub\\\\anndl\\\\image-segmentation\\\\Segmentation_Dataset\\\\training\\\\images\\\\img\\\\237.tif'"
      ]
     },
     "execution_count": 6,
     "metadata": {},
     "output_type": "execute_result"
    },
    {
     "data": {
      "text/plain": [
       "'C:\\\\Users\\\\fralu\\\\Documents\\\\GitHub\\\\anndl\\\\image-segmentation\\\\Segmentation_Dataset\\\\training\\\\masks\\\\img\\\\237.tif'"
      ]
     },
     "execution_count": 6,
     "metadata": {},
     "output_type": "execute_result"
    },
    {
     "data": {
      "text/plain": [
       "'C:\\\\Users\\\\fralu\\\\Documents\\\\GitHub\\\\anndl\\\\image-segmentation\\\\Segmentation_Dataset\\\\training\\\\images\\\\img\\\\2371.tif'"
      ]
     },
     "execution_count": 6,
     "metadata": {},
     "output_type": "execute_result"
    },
    {
     "data": {
      "text/plain": [
       "'C:\\\\Users\\\\fralu\\\\Documents\\\\GitHub\\\\anndl\\\\image-segmentation\\\\Segmentation_Dataset\\\\training\\\\masks\\\\img\\\\2371.tif'"
      ]
     },
     "execution_count": 6,
     "metadata": {},
     "output_type": "execute_result"
    },
    {
     "data": {
      "text/plain": [
       "'C:\\\\Users\\\\fralu\\\\Documents\\\\GitHub\\\\anndl\\\\image-segmentation\\\\Segmentation_Dataset\\\\training\\\\images\\\\img\\\\2374.tif'"
      ]
     },
     "execution_count": 6,
     "metadata": {},
     "output_type": "execute_result"
    },
    {
     "data": {
      "text/plain": [
       "'C:\\\\Users\\\\fralu\\\\Documents\\\\GitHub\\\\anndl\\\\image-segmentation\\\\Segmentation_Dataset\\\\training\\\\masks\\\\img\\\\2374.tif'"
      ]
     },
     "execution_count": 6,
     "metadata": {},
     "output_type": "execute_result"
    },
    {
     "data": {
      "text/plain": [
       "'C:\\\\Users\\\\fralu\\\\Documents\\\\GitHub\\\\anndl\\\\image-segmentation\\\\Segmentation_Dataset\\\\training\\\\images\\\\img\\\\2376.tif'"
      ]
     },
     "execution_count": 6,
     "metadata": {},
     "output_type": "execute_result"
    },
    {
     "data": {
      "text/plain": [
       "'C:\\\\Users\\\\fralu\\\\Documents\\\\GitHub\\\\anndl\\\\image-segmentation\\\\Segmentation_Dataset\\\\training\\\\masks\\\\img\\\\2376.tif'"
      ]
     },
     "execution_count": 6,
     "metadata": {},
     "output_type": "execute_result"
    },
    {
     "data": {
      "text/plain": [
       "'C:\\\\Users\\\\fralu\\\\Documents\\\\GitHub\\\\anndl\\\\image-segmentation\\\\Segmentation_Dataset\\\\training\\\\images\\\\img\\\\238.tif'"
      ]
     },
     "execution_count": 6,
     "metadata": {},
     "output_type": "execute_result"
    },
    {
     "data": {
      "text/plain": [
       "'C:\\\\Users\\\\fralu\\\\Documents\\\\GitHub\\\\anndl\\\\image-segmentation\\\\Segmentation_Dataset\\\\training\\\\masks\\\\img\\\\238.tif'"
      ]
     },
     "execution_count": 6,
     "metadata": {},
     "output_type": "execute_result"
    },
    {
     "data": {
      "text/plain": [
       "'C:\\\\Users\\\\fralu\\\\Documents\\\\GitHub\\\\anndl\\\\image-segmentation\\\\Segmentation_Dataset\\\\training\\\\images\\\\img\\\\2383.tif'"
      ]
     },
     "execution_count": 6,
     "metadata": {},
     "output_type": "execute_result"
    },
    {
     "data": {
      "text/plain": [
       "'C:\\\\Users\\\\fralu\\\\Documents\\\\GitHub\\\\anndl\\\\image-segmentation\\\\Segmentation_Dataset\\\\training\\\\masks\\\\img\\\\2383.tif'"
      ]
     },
     "execution_count": 6,
     "metadata": {},
     "output_type": "execute_result"
    },
    {
     "data": {
      "text/plain": [
       "'C:\\\\Users\\\\fralu\\\\Documents\\\\GitHub\\\\anndl\\\\image-segmentation\\\\Segmentation_Dataset\\\\training\\\\images\\\\img\\\\2391.tif'"
      ]
     },
     "execution_count": 6,
     "metadata": {},
     "output_type": "execute_result"
    },
    {
     "data": {
      "text/plain": [
       "'C:\\\\Users\\\\fralu\\\\Documents\\\\GitHub\\\\anndl\\\\image-segmentation\\\\Segmentation_Dataset\\\\training\\\\masks\\\\img\\\\2391.tif'"
      ]
     },
     "execution_count": 6,
     "metadata": {},
     "output_type": "execute_result"
    },
    {
     "data": {
      "text/plain": [
       "'C:\\\\Users\\\\fralu\\\\Documents\\\\GitHub\\\\anndl\\\\image-segmentation\\\\Segmentation_Dataset\\\\training\\\\images\\\\img\\\\2392.tif'"
      ]
     },
     "execution_count": 6,
     "metadata": {},
     "output_type": "execute_result"
    },
    {
     "data": {
      "text/plain": [
       "'C:\\\\Users\\\\fralu\\\\Documents\\\\GitHub\\\\anndl\\\\image-segmentation\\\\Segmentation_Dataset\\\\training\\\\masks\\\\img\\\\2392.tif'"
      ]
     },
     "execution_count": 6,
     "metadata": {},
     "output_type": "execute_result"
    },
    {
     "data": {
      "text/plain": [
       "'C:\\\\Users\\\\fralu\\\\Documents\\\\GitHub\\\\anndl\\\\image-segmentation\\\\Segmentation_Dataset\\\\training\\\\images\\\\img\\\\2393.tif'"
      ]
     },
     "execution_count": 6,
     "metadata": {},
     "output_type": "execute_result"
    },
    {
     "data": {
      "text/plain": [
       "'C:\\\\Users\\\\fralu\\\\Documents\\\\GitHub\\\\anndl\\\\image-segmentation\\\\Segmentation_Dataset\\\\training\\\\masks\\\\img\\\\2393.tif'"
      ]
     },
     "execution_count": 6,
     "metadata": {},
     "output_type": "execute_result"
    },
    {
     "data": {
      "text/plain": [
       "'C:\\\\Users\\\\fralu\\\\Documents\\\\GitHub\\\\anndl\\\\image-segmentation\\\\Segmentation_Dataset\\\\training\\\\images\\\\img\\\\2396.tif'"
      ]
     },
     "execution_count": 6,
     "metadata": {},
     "output_type": "execute_result"
    },
    {
     "data": {
      "text/plain": [
       "'C:\\\\Users\\\\fralu\\\\Documents\\\\GitHub\\\\anndl\\\\image-segmentation\\\\Segmentation_Dataset\\\\training\\\\masks\\\\img\\\\2396.tif'"
      ]
     },
     "execution_count": 6,
     "metadata": {},
     "output_type": "execute_result"
    },
    {
     "data": {
      "text/plain": [
       "'C:\\\\Users\\\\fralu\\\\Documents\\\\GitHub\\\\anndl\\\\image-segmentation\\\\Segmentation_Dataset\\\\training\\\\images\\\\img\\\\2398.tif'"
      ]
     },
     "execution_count": 6,
     "metadata": {},
     "output_type": "execute_result"
    },
    {
     "data": {
      "text/plain": [
       "'C:\\\\Users\\\\fralu\\\\Documents\\\\GitHub\\\\anndl\\\\image-segmentation\\\\Segmentation_Dataset\\\\training\\\\masks\\\\img\\\\2398.tif'"
      ]
     },
     "execution_count": 6,
     "metadata": {},
     "output_type": "execute_result"
    },
    {
     "data": {
      "text/plain": [
       "'C:\\\\Users\\\\fralu\\\\Documents\\\\GitHub\\\\anndl\\\\image-segmentation\\\\Segmentation_Dataset\\\\training\\\\images\\\\img\\\\240.tif'"
      ]
     },
     "execution_count": 6,
     "metadata": {},
     "output_type": "execute_result"
    },
    {
     "data": {
      "text/plain": [
       "'C:\\\\Users\\\\fralu\\\\Documents\\\\GitHub\\\\anndl\\\\image-segmentation\\\\Segmentation_Dataset\\\\training\\\\masks\\\\img\\\\240.tif'"
      ]
     },
     "execution_count": 6,
     "metadata": {},
     "output_type": "execute_result"
    },
    {
     "data": {
      "text/plain": [
       "'C:\\\\Users\\\\fralu\\\\Documents\\\\GitHub\\\\anndl\\\\image-segmentation\\\\Segmentation_Dataset\\\\training\\\\images\\\\img\\\\2402.tif'"
      ]
     },
     "execution_count": 6,
     "metadata": {},
     "output_type": "execute_result"
    },
    {
     "data": {
      "text/plain": [
       "'C:\\\\Users\\\\fralu\\\\Documents\\\\GitHub\\\\anndl\\\\image-segmentation\\\\Segmentation_Dataset\\\\training\\\\masks\\\\img\\\\2402.tif'"
      ]
     },
     "execution_count": 6,
     "metadata": {},
     "output_type": "execute_result"
    },
    {
     "data": {
      "text/plain": [
       "'C:\\\\Users\\\\fralu\\\\Documents\\\\GitHub\\\\anndl\\\\image-segmentation\\\\Segmentation_Dataset\\\\training\\\\images\\\\img\\\\2423.tif'"
      ]
     },
     "execution_count": 6,
     "metadata": {},
     "output_type": "execute_result"
    },
    {
     "data": {
      "text/plain": [
       "'C:\\\\Users\\\\fralu\\\\Documents\\\\GitHub\\\\anndl\\\\image-segmentation\\\\Segmentation_Dataset\\\\training\\\\masks\\\\img\\\\2423.tif'"
      ]
     },
     "execution_count": 6,
     "metadata": {},
     "output_type": "execute_result"
    },
    {
     "data": {
      "text/plain": [
       "'C:\\\\Users\\\\fralu\\\\Documents\\\\GitHub\\\\anndl\\\\image-segmentation\\\\Segmentation_Dataset\\\\training\\\\images\\\\img\\\\2424.tif'"
      ]
     },
     "execution_count": 6,
     "metadata": {},
     "output_type": "execute_result"
    },
    {
     "data": {
      "text/plain": [
       "'C:\\\\Users\\\\fralu\\\\Documents\\\\GitHub\\\\anndl\\\\image-segmentation\\\\Segmentation_Dataset\\\\training\\\\masks\\\\img\\\\2424.tif'"
      ]
     },
     "execution_count": 6,
     "metadata": {},
     "output_type": "execute_result"
    },
    {
     "data": {
      "text/plain": [
       "'C:\\\\Users\\\\fralu\\\\Documents\\\\GitHub\\\\anndl\\\\image-segmentation\\\\Segmentation_Dataset\\\\training\\\\images\\\\img\\\\2427.tif'"
      ]
     },
     "execution_count": 6,
     "metadata": {},
     "output_type": "execute_result"
    },
    {
     "data": {
      "text/plain": [
       "'C:\\\\Users\\\\fralu\\\\Documents\\\\GitHub\\\\anndl\\\\image-segmentation\\\\Segmentation_Dataset\\\\training\\\\masks\\\\img\\\\2427.tif'"
      ]
     },
     "execution_count": 6,
     "metadata": {},
     "output_type": "execute_result"
    },
    {
     "data": {
      "text/plain": [
       "'C:\\\\Users\\\\fralu\\\\Documents\\\\GitHub\\\\anndl\\\\image-segmentation\\\\Segmentation_Dataset\\\\training\\\\images\\\\img\\\\2429.tif'"
      ]
     },
     "execution_count": 6,
     "metadata": {},
     "output_type": "execute_result"
    },
    {
     "data": {
      "text/plain": [
       "'C:\\\\Users\\\\fralu\\\\Documents\\\\GitHub\\\\anndl\\\\image-segmentation\\\\Segmentation_Dataset\\\\training\\\\masks\\\\img\\\\2429.tif'"
      ]
     },
     "execution_count": 6,
     "metadata": {},
     "output_type": "execute_result"
    },
    {
     "data": {
      "text/plain": [
       "'C:\\\\Users\\\\fralu\\\\Documents\\\\GitHub\\\\anndl\\\\image-segmentation\\\\Segmentation_Dataset\\\\training\\\\images\\\\img\\\\2431.tif'"
      ]
     },
     "execution_count": 6,
     "metadata": {},
     "output_type": "execute_result"
    },
    {
     "data": {
      "text/plain": [
       "'C:\\\\Users\\\\fralu\\\\Documents\\\\GitHub\\\\anndl\\\\image-segmentation\\\\Segmentation_Dataset\\\\training\\\\masks\\\\img\\\\2431.tif'"
      ]
     },
     "execution_count": 6,
     "metadata": {},
     "output_type": "execute_result"
    },
    {
     "data": {
      "text/plain": [
       "'C:\\\\Users\\\\fralu\\\\Documents\\\\GitHub\\\\anndl\\\\image-segmentation\\\\Segmentation_Dataset\\\\training\\\\images\\\\img\\\\2434.tif'"
      ]
     },
     "execution_count": 6,
     "metadata": {},
     "output_type": "execute_result"
    },
    {
     "data": {
      "text/plain": [
       "'C:\\\\Users\\\\fralu\\\\Documents\\\\GitHub\\\\anndl\\\\image-segmentation\\\\Segmentation_Dataset\\\\training\\\\masks\\\\img\\\\2434.tif'"
      ]
     },
     "execution_count": 6,
     "metadata": {},
     "output_type": "execute_result"
    },
    {
     "data": {
      "text/plain": [
       "'C:\\\\Users\\\\fralu\\\\Documents\\\\GitHub\\\\anndl\\\\image-segmentation\\\\Segmentation_Dataset\\\\training\\\\images\\\\img\\\\2442.tif'"
      ]
     },
     "execution_count": 6,
     "metadata": {},
     "output_type": "execute_result"
    },
    {
     "data": {
      "text/plain": [
       "'C:\\\\Users\\\\fralu\\\\Documents\\\\GitHub\\\\anndl\\\\image-segmentation\\\\Segmentation_Dataset\\\\training\\\\masks\\\\img\\\\2442.tif'"
      ]
     },
     "execution_count": 6,
     "metadata": {},
     "output_type": "execute_result"
    },
    {
     "data": {
      "text/plain": [
       "'C:\\\\Users\\\\fralu\\\\Documents\\\\GitHub\\\\anndl\\\\image-segmentation\\\\Segmentation_Dataset\\\\training\\\\images\\\\img\\\\2445.tif'"
      ]
     },
     "execution_count": 6,
     "metadata": {},
     "output_type": "execute_result"
    },
    {
     "data": {
      "text/plain": [
       "'C:\\\\Users\\\\fralu\\\\Documents\\\\GitHub\\\\anndl\\\\image-segmentation\\\\Segmentation_Dataset\\\\training\\\\masks\\\\img\\\\2445.tif'"
      ]
     },
     "execution_count": 6,
     "metadata": {},
     "output_type": "execute_result"
    },
    {
     "data": {
      "text/plain": [
       "'C:\\\\Users\\\\fralu\\\\Documents\\\\GitHub\\\\anndl\\\\image-segmentation\\\\Segmentation_Dataset\\\\training\\\\images\\\\img\\\\2465.tif'"
      ]
     },
     "execution_count": 6,
     "metadata": {},
     "output_type": "execute_result"
    },
    {
     "data": {
      "text/plain": [
       "'C:\\\\Users\\\\fralu\\\\Documents\\\\GitHub\\\\anndl\\\\image-segmentation\\\\Segmentation_Dataset\\\\training\\\\masks\\\\img\\\\2465.tif'"
      ]
     },
     "execution_count": 6,
     "metadata": {},
     "output_type": "execute_result"
    },
    {
     "data": {
      "text/plain": [
       "'C:\\\\Users\\\\fralu\\\\Documents\\\\GitHub\\\\anndl\\\\image-segmentation\\\\Segmentation_Dataset\\\\training\\\\images\\\\img\\\\2474.tif'"
      ]
     },
     "execution_count": 6,
     "metadata": {},
     "output_type": "execute_result"
    },
    {
     "data": {
      "text/plain": [
       "'C:\\\\Users\\\\fralu\\\\Documents\\\\GitHub\\\\anndl\\\\image-segmentation\\\\Segmentation_Dataset\\\\training\\\\masks\\\\img\\\\2474.tif'"
      ]
     },
     "execution_count": 6,
     "metadata": {},
     "output_type": "execute_result"
    },
    {
     "data": {
      "text/plain": [
       "'C:\\\\Users\\\\fralu\\\\Documents\\\\GitHub\\\\anndl\\\\image-segmentation\\\\Segmentation_Dataset\\\\training\\\\images\\\\img\\\\2476.tif'"
      ]
     },
     "execution_count": 6,
     "metadata": {},
     "output_type": "execute_result"
    },
    {
     "data": {
      "text/plain": [
       "'C:\\\\Users\\\\fralu\\\\Documents\\\\GitHub\\\\anndl\\\\image-segmentation\\\\Segmentation_Dataset\\\\training\\\\masks\\\\img\\\\2476.tif'"
      ]
     },
     "execution_count": 6,
     "metadata": {},
     "output_type": "execute_result"
    },
    {
     "data": {
      "text/plain": [
       "'C:\\\\Users\\\\fralu\\\\Documents\\\\GitHub\\\\anndl\\\\image-segmentation\\\\Segmentation_Dataset\\\\training\\\\images\\\\img\\\\2479.tif'"
      ]
     },
     "execution_count": 6,
     "metadata": {},
     "output_type": "execute_result"
    },
    {
     "data": {
      "text/plain": [
       "'C:\\\\Users\\\\fralu\\\\Documents\\\\GitHub\\\\anndl\\\\image-segmentation\\\\Segmentation_Dataset\\\\training\\\\masks\\\\img\\\\2479.tif'"
      ]
     },
     "execution_count": 6,
     "metadata": {},
     "output_type": "execute_result"
    },
    {
     "data": {
      "text/plain": [
       "'C:\\\\Users\\\\fralu\\\\Documents\\\\GitHub\\\\anndl\\\\image-segmentation\\\\Segmentation_Dataset\\\\training\\\\images\\\\img\\\\248.tif'"
      ]
     },
     "execution_count": 6,
     "metadata": {},
     "output_type": "execute_result"
    },
    {
     "data": {
      "text/plain": [
       "'C:\\\\Users\\\\fralu\\\\Documents\\\\GitHub\\\\anndl\\\\image-segmentation\\\\Segmentation_Dataset\\\\training\\\\masks\\\\img\\\\248.tif'"
      ]
     },
     "execution_count": 6,
     "metadata": {},
     "output_type": "execute_result"
    },
    {
     "data": {
      "text/plain": [
       "'C:\\\\Users\\\\fralu\\\\Documents\\\\GitHub\\\\anndl\\\\image-segmentation\\\\Segmentation_Dataset\\\\training\\\\images\\\\img\\\\2486.tif'"
      ]
     },
     "execution_count": 6,
     "metadata": {},
     "output_type": "execute_result"
    },
    {
     "data": {
      "text/plain": [
       "'C:\\\\Users\\\\fralu\\\\Documents\\\\GitHub\\\\anndl\\\\image-segmentation\\\\Segmentation_Dataset\\\\training\\\\masks\\\\img\\\\2486.tif'"
      ]
     },
     "execution_count": 6,
     "metadata": {},
     "output_type": "execute_result"
    },
    {
     "data": {
      "text/plain": [
       "'C:\\\\Users\\\\fralu\\\\Documents\\\\GitHub\\\\anndl\\\\image-segmentation\\\\Segmentation_Dataset\\\\training\\\\images\\\\img\\\\2494.tif'"
      ]
     },
     "execution_count": 6,
     "metadata": {},
     "output_type": "execute_result"
    },
    {
     "data": {
      "text/plain": [
       "'C:\\\\Users\\\\fralu\\\\Documents\\\\GitHub\\\\anndl\\\\image-segmentation\\\\Segmentation_Dataset\\\\training\\\\masks\\\\img\\\\2494.tif'"
      ]
     },
     "execution_count": 6,
     "metadata": {},
     "output_type": "execute_result"
    },
    {
     "data": {
      "text/plain": [
       "'C:\\\\Users\\\\fralu\\\\Documents\\\\GitHub\\\\anndl\\\\image-segmentation\\\\Segmentation_Dataset\\\\training\\\\images\\\\img\\\\2500.tif'"
      ]
     },
     "execution_count": 6,
     "metadata": {},
     "output_type": "execute_result"
    },
    {
     "data": {
      "text/plain": [
       "'C:\\\\Users\\\\fralu\\\\Documents\\\\GitHub\\\\anndl\\\\image-segmentation\\\\Segmentation_Dataset\\\\training\\\\masks\\\\img\\\\2500.tif'"
      ]
     },
     "execution_count": 6,
     "metadata": {},
     "output_type": "execute_result"
    },
    {
     "data": {
      "text/plain": [
       "'C:\\\\Users\\\\fralu\\\\Documents\\\\GitHub\\\\anndl\\\\image-segmentation\\\\Segmentation_Dataset\\\\training\\\\images\\\\img\\\\2502.tif'"
      ]
     },
     "execution_count": 6,
     "metadata": {},
     "output_type": "execute_result"
    },
    {
     "data": {
      "text/plain": [
       "'C:\\\\Users\\\\fralu\\\\Documents\\\\GitHub\\\\anndl\\\\image-segmentation\\\\Segmentation_Dataset\\\\training\\\\masks\\\\img\\\\2502.tif'"
      ]
     },
     "execution_count": 6,
     "metadata": {},
     "output_type": "execute_result"
    },
    {
     "data": {
      "text/plain": [
       "'C:\\\\Users\\\\fralu\\\\Documents\\\\GitHub\\\\anndl\\\\image-segmentation\\\\Segmentation_Dataset\\\\training\\\\images\\\\img\\\\2503.tif'"
      ]
     },
     "execution_count": 6,
     "metadata": {},
     "output_type": "execute_result"
    },
    {
     "data": {
      "text/plain": [
       "'C:\\\\Users\\\\fralu\\\\Documents\\\\GitHub\\\\anndl\\\\image-segmentation\\\\Segmentation_Dataset\\\\training\\\\masks\\\\img\\\\2503.tif'"
      ]
     },
     "execution_count": 6,
     "metadata": {},
     "output_type": "execute_result"
    },
    {
     "data": {
      "text/plain": [
       "'C:\\\\Users\\\\fralu\\\\Documents\\\\GitHub\\\\anndl\\\\image-segmentation\\\\Segmentation_Dataset\\\\training\\\\images\\\\img\\\\2510.tif'"
      ]
     },
     "execution_count": 6,
     "metadata": {},
     "output_type": "execute_result"
    },
    {
     "data": {
      "text/plain": [
       "'C:\\\\Users\\\\fralu\\\\Documents\\\\GitHub\\\\anndl\\\\image-segmentation\\\\Segmentation_Dataset\\\\training\\\\masks\\\\img\\\\2510.tif'"
      ]
     },
     "execution_count": 6,
     "metadata": {},
     "output_type": "execute_result"
    },
    {
     "data": {
      "text/plain": [
       "'C:\\\\Users\\\\fralu\\\\Documents\\\\GitHub\\\\anndl\\\\image-segmentation\\\\Segmentation_Dataset\\\\training\\\\images\\\\img\\\\2518.tif'"
      ]
     },
     "execution_count": 6,
     "metadata": {},
     "output_type": "execute_result"
    },
    {
     "data": {
      "text/plain": [
       "'C:\\\\Users\\\\fralu\\\\Documents\\\\GitHub\\\\anndl\\\\image-segmentation\\\\Segmentation_Dataset\\\\training\\\\masks\\\\img\\\\2518.tif'"
      ]
     },
     "execution_count": 6,
     "metadata": {},
     "output_type": "execute_result"
    },
    {
     "data": {
      "text/plain": [
       "'C:\\\\Users\\\\fralu\\\\Documents\\\\GitHub\\\\anndl\\\\image-segmentation\\\\Segmentation_Dataset\\\\training\\\\images\\\\img\\\\2527.tif'"
      ]
     },
     "execution_count": 6,
     "metadata": {},
     "output_type": "execute_result"
    },
    {
     "data": {
      "text/plain": [
       "'C:\\\\Users\\\\fralu\\\\Documents\\\\GitHub\\\\anndl\\\\image-segmentation\\\\Segmentation_Dataset\\\\training\\\\masks\\\\img\\\\2527.tif'"
      ]
     },
     "execution_count": 6,
     "metadata": {},
     "output_type": "execute_result"
    },
    {
     "data": {
      "text/plain": [
       "'C:\\\\Users\\\\fralu\\\\Documents\\\\GitHub\\\\anndl\\\\image-segmentation\\\\Segmentation_Dataset\\\\training\\\\images\\\\img\\\\2535.tif'"
      ]
     },
     "execution_count": 6,
     "metadata": {},
     "output_type": "execute_result"
    },
    {
     "data": {
      "text/plain": [
       "'C:\\\\Users\\\\fralu\\\\Documents\\\\GitHub\\\\anndl\\\\image-segmentation\\\\Segmentation_Dataset\\\\training\\\\masks\\\\img\\\\2535.tif'"
      ]
     },
     "execution_count": 6,
     "metadata": {},
     "output_type": "execute_result"
    },
    {
     "data": {
      "text/plain": [
       "'C:\\\\Users\\\\fralu\\\\Documents\\\\GitHub\\\\anndl\\\\image-segmentation\\\\Segmentation_Dataset\\\\training\\\\images\\\\img\\\\2538.tif'"
      ]
     },
     "execution_count": 6,
     "metadata": {},
     "output_type": "execute_result"
    },
    {
     "data": {
      "text/plain": [
       "'C:\\\\Users\\\\fralu\\\\Documents\\\\GitHub\\\\anndl\\\\image-segmentation\\\\Segmentation_Dataset\\\\training\\\\masks\\\\img\\\\2538.tif'"
      ]
     },
     "execution_count": 6,
     "metadata": {},
     "output_type": "execute_result"
    },
    {
     "data": {
      "text/plain": [
       "'C:\\\\Users\\\\fralu\\\\Documents\\\\GitHub\\\\anndl\\\\image-segmentation\\\\Segmentation_Dataset\\\\training\\\\images\\\\img\\\\2545.tif'"
      ]
     },
     "execution_count": 6,
     "metadata": {},
     "output_type": "execute_result"
    },
    {
     "data": {
      "text/plain": [
       "'C:\\\\Users\\\\fralu\\\\Documents\\\\GitHub\\\\anndl\\\\image-segmentation\\\\Segmentation_Dataset\\\\training\\\\masks\\\\img\\\\2545.tif'"
      ]
     },
     "execution_count": 6,
     "metadata": {},
     "output_type": "execute_result"
    },
    {
     "data": {
      "text/plain": [
       "'C:\\\\Users\\\\fralu\\\\Documents\\\\GitHub\\\\anndl\\\\image-segmentation\\\\Segmentation_Dataset\\\\training\\\\images\\\\img\\\\2549.tif'"
      ]
     },
     "execution_count": 6,
     "metadata": {},
     "output_type": "execute_result"
    },
    {
     "data": {
      "text/plain": [
       "'C:\\\\Users\\\\fralu\\\\Documents\\\\GitHub\\\\anndl\\\\image-segmentation\\\\Segmentation_Dataset\\\\training\\\\masks\\\\img\\\\2549.tif'"
      ]
     },
     "execution_count": 6,
     "metadata": {},
     "output_type": "execute_result"
    },
    {
     "data": {
      "text/plain": [
       "'C:\\\\Users\\\\fralu\\\\Documents\\\\GitHub\\\\anndl\\\\image-segmentation\\\\Segmentation_Dataset\\\\training\\\\images\\\\img\\\\2556.tif'"
      ]
     },
     "execution_count": 6,
     "metadata": {},
     "output_type": "execute_result"
    },
    {
     "data": {
      "text/plain": [
       "'C:\\\\Users\\\\fralu\\\\Documents\\\\GitHub\\\\anndl\\\\image-segmentation\\\\Segmentation_Dataset\\\\training\\\\masks\\\\img\\\\2556.tif'"
      ]
     },
     "execution_count": 6,
     "metadata": {},
     "output_type": "execute_result"
    },
    {
     "data": {
      "text/plain": [
       "'C:\\\\Users\\\\fralu\\\\Documents\\\\GitHub\\\\anndl\\\\image-segmentation\\\\Segmentation_Dataset\\\\training\\\\images\\\\img\\\\2572.tif'"
      ]
     },
     "execution_count": 6,
     "metadata": {},
     "output_type": "execute_result"
    },
    {
     "data": {
      "text/plain": [
       "'C:\\\\Users\\\\fralu\\\\Documents\\\\GitHub\\\\anndl\\\\image-segmentation\\\\Segmentation_Dataset\\\\training\\\\masks\\\\img\\\\2572.tif'"
      ]
     },
     "execution_count": 6,
     "metadata": {},
     "output_type": "execute_result"
    },
    {
     "data": {
      "text/plain": [
       "'C:\\\\Users\\\\fralu\\\\Documents\\\\GitHub\\\\anndl\\\\image-segmentation\\\\Segmentation_Dataset\\\\training\\\\images\\\\img\\\\2574.tif'"
      ]
     },
     "execution_count": 6,
     "metadata": {},
     "output_type": "execute_result"
    },
    {
     "data": {
      "text/plain": [
       "'C:\\\\Users\\\\fralu\\\\Documents\\\\GitHub\\\\anndl\\\\image-segmentation\\\\Segmentation_Dataset\\\\training\\\\masks\\\\img\\\\2574.tif'"
      ]
     },
     "execution_count": 6,
     "metadata": {},
     "output_type": "execute_result"
    },
    {
     "data": {
      "text/plain": [
       "'C:\\\\Users\\\\fralu\\\\Documents\\\\GitHub\\\\anndl\\\\image-segmentation\\\\Segmentation_Dataset\\\\training\\\\images\\\\img\\\\2578.tif'"
      ]
     },
     "execution_count": 6,
     "metadata": {},
     "output_type": "execute_result"
    },
    {
     "data": {
      "text/plain": [
       "'C:\\\\Users\\\\fralu\\\\Documents\\\\GitHub\\\\anndl\\\\image-segmentation\\\\Segmentation_Dataset\\\\training\\\\masks\\\\img\\\\2578.tif'"
      ]
     },
     "execution_count": 6,
     "metadata": {},
     "output_type": "execute_result"
    },
    {
     "data": {
      "text/plain": [
       "'C:\\\\Users\\\\fralu\\\\Documents\\\\GitHub\\\\anndl\\\\image-segmentation\\\\Segmentation_Dataset\\\\training\\\\images\\\\img\\\\2582.tif'"
      ]
     },
     "execution_count": 6,
     "metadata": {},
     "output_type": "execute_result"
    },
    {
     "data": {
      "text/plain": [
       "'C:\\\\Users\\\\fralu\\\\Documents\\\\GitHub\\\\anndl\\\\image-segmentation\\\\Segmentation_Dataset\\\\training\\\\masks\\\\img\\\\2582.tif'"
      ]
     },
     "execution_count": 6,
     "metadata": {},
     "output_type": "execute_result"
    },
    {
     "data": {
      "text/plain": [
       "'C:\\\\Users\\\\fralu\\\\Documents\\\\GitHub\\\\anndl\\\\image-segmentation\\\\Segmentation_Dataset\\\\training\\\\images\\\\img\\\\259.tif'"
      ]
     },
     "execution_count": 6,
     "metadata": {},
     "output_type": "execute_result"
    },
    {
     "data": {
      "text/plain": [
       "'C:\\\\Users\\\\fralu\\\\Documents\\\\GitHub\\\\anndl\\\\image-segmentation\\\\Segmentation_Dataset\\\\training\\\\masks\\\\img\\\\259.tif'"
      ]
     },
     "execution_count": 6,
     "metadata": {},
     "output_type": "execute_result"
    },
    {
     "data": {
      "text/plain": [
       "'C:\\\\Users\\\\fralu\\\\Documents\\\\GitHub\\\\anndl\\\\image-segmentation\\\\Segmentation_Dataset\\\\training\\\\images\\\\img\\\\26.tif'"
      ]
     },
     "execution_count": 6,
     "metadata": {},
     "output_type": "execute_result"
    },
    {
     "data": {
      "text/plain": [
       "'C:\\\\Users\\\\fralu\\\\Documents\\\\GitHub\\\\anndl\\\\image-segmentation\\\\Segmentation_Dataset\\\\training\\\\masks\\\\img\\\\26.tif'"
      ]
     },
     "execution_count": 6,
     "metadata": {},
     "output_type": "execute_result"
    },
    {
     "data": {
      "text/plain": [
       "'C:\\\\Users\\\\fralu\\\\Documents\\\\GitHub\\\\anndl\\\\image-segmentation\\\\Segmentation_Dataset\\\\training\\\\images\\\\img\\\\2602.tif'"
      ]
     },
     "execution_count": 6,
     "metadata": {},
     "output_type": "execute_result"
    },
    {
     "data": {
      "text/plain": [
       "'C:\\\\Users\\\\fralu\\\\Documents\\\\GitHub\\\\anndl\\\\image-segmentation\\\\Segmentation_Dataset\\\\training\\\\masks\\\\img\\\\2602.tif'"
      ]
     },
     "execution_count": 6,
     "metadata": {},
     "output_type": "execute_result"
    },
    {
     "data": {
      "text/plain": [
       "'C:\\\\Users\\\\fralu\\\\Documents\\\\GitHub\\\\anndl\\\\image-segmentation\\\\Segmentation_Dataset\\\\training\\\\images\\\\img\\\\2608.tif'"
      ]
     },
     "execution_count": 6,
     "metadata": {},
     "output_type": "execute_result"
    },
    {
     "data": {
      "text/plain": [
       "'C:\\\\Users\\\\fralu\\\\Documents\\\\GitHub\\\\anndl\\\\image-segmentation\\\\Segmentation_Dataset\\\\training\\\\masks\\\\img\\\\2608.tif'"
      ]
     },
     "execution_count": 6,
     "metadata": {},
     "output_type": "execute_result"
    },
    {
     "data": {
      "text/plain": [
       "'C:\\\\Users\\\\fralu\\\\Documents\\\\GitHub\\\\anndl\\\\image-segmentation\\\\Segmentation_Dataset\\\\training\\\\images\\\\img\\\\261.tif'"
      ]
     },
     "execution_count": 6,
     "metadata": {},
     "output_type": "execute_result"
    },
    {
     "data": {
      "text/plain": [
       "'C:\\\\Users\\\\fralu\\\\Documents\\\\GitHub\\\\anndl\\\\image-segmentation\\\\Segmentation_Dataset\\\\training\\\\masks\\\\img\\\\261.tif'"
      ]
     },
     "execution_count": 6,
     "metadata": {},
     "output_type": "execute_result"
    },
    {
     "data": {
      "text/plain": [
       "'C:\\\\Users\\\\fralu\\\\Documents\\\\GitHub\\\\anndl\\\\image-segmentation\\\\Segmentation_Dataset\\\\training\\\\images\\\\img\\\\2614.tif'"
      ]
     },
     "execution_count": 6,
     "metadata": {},
     "output_type": "execute_result"
    },
    {
     "data": {
      "text/plain": [
       "'C:\\\\Users\\\\fralu\\\\Documents\\\\GitHub\\\\anndl\\\\image-segmentation\\\\Segmentation_Dataset\\\\training\\\\masks\\\\img\\\\2614.tif'"
      ]
     },
     "execution_count": 6,
     "metadata": {},
     "output_type": "execute_result"
    },
    {
     "data": {
      "text/plain": [
       "'C:\\\\Users\\\\fralu\\\\Documents\\\\GitHub\\\\anndl\\\\image-segmentation\\\\Segmentation_Dataset\\\\training\\\\images\\\\img\\\\262.tif'"
      ]
     },
     "execution_count": 6,
     "metadata": {},
     "output_type": "execute_result"
    },
    {
     "data": {
      "text/plain": [
       "'C:\\\\Users\\\\fralu\\\\Documents\\\\GitHub\\\\anndl\\\\image-segmentation\\\\Segmentation_Dataset\\\\training\\\\masks\\\\img\\\\262.tif'"
      ]
     },
     "execution_count": 6,
     "metadata": {},
     "output_type": "execute_result"
    },
    {
     "data": {
      "text/plain": [
       "'C:\\\\Users\\\\fralu\\\\Documents\\\\GitHub\\\\anndl\\\\image-segmentation\\\\Segmentation_Dataset\\\\training\\\\images\\\\img\\\\2621.tif'"
      ]
     },
     "execution_count": 6,
     "metadata": {},
     "output_type": "execute_result"
    },
    {
     "data": {
      "text/plain": [
       "'C:\\\\Users\\\\fralu\\\\Documents\\\\GitHub\\\\anndl\\\\image-segmentation\\\\Segmentation_Dataset\\\\training\\\\masks\\\\img\\\\2621.tif'"
      ]
     },
     "execution_count": 6,
     "metadata": {},
     "output_type": "execute_result"
    },
    {
     "data": {
      "text/plain": [
       "'C:\\\\Users\\\\fralu\\\\Documents\\\\GitHub\\\\anndl\\\\image-segmentation\\\\Segmentation_Dataset\\\\training\\\\images\\\\img\\\\2625.tif'"
      ]
     },
     "execution_count": 6,
     "metadata": {},
     "output_type": "execute_result"
    },
    {
     "data": {
      "text/plain": [
       "'C:\\\\Users\\\\fralu\\\\Documents\\\\GitHub\\\\anndl\\\\image-segmentation\\\\Segmentation_Dataset\\\\training\\\\masks\\\\img\\\\2625.tif'"
      ]
     },
     "execution_count": 6,
     "metadata": {},
     "output_type": "execute_result"
    },
    {
     "data": {
      "text/plain": [
       "'C:\\\\Users\\\\fralu\\\\Documents\\\\GitHub\\\\anndl\\\\image-segmentation\\\\Segmentation_Dataset\\\\training\\\\images\\\\img\\\\2629.tif'"
      ]
     },
     "execution_count": 6,
     "metadata": {},
     "output_type": "execute_result"
    },
    {
     "data": {
      "text/plain": [
       "'C:\\\\Users\\\\fralu\\\\Documents\\\\GitHub\\\\anndl\\\\image-segmentation\\\\Segmentation_Dataset\\\\training\\\\masks\\\\img\\\\2629.tif'"
      ]
     },
     "execution_count": 6,
     "metadata": {},
     "output_type": "execute_result"
    },
    {
     "data": {
      "text/plain": [
       "'C:\\\\Users\\\\fralu\\\\Documents\\\\GitHub\\\\anndl\\\\image-segmentation\\\\Segmentation_Dataset\\\\training\\\\images\\\\img\\\\2630.tif'"
      ]
     },
     "execution_count": 6,
     "metadata": {},
     "output_type": "execute_result"
    },
    {
     "data": {
      "text/plain": [
       "'C:\\\\Users\\\\fralu\\\\Documents\\\\GitHub\\\\anndl\\\\image-segmentation\\\\Segmentation_Dataset\\\\training\\\\masks\\\\img\\\\2630.tif'"
      ]
     },
     "execution_count": 6,
     "metadata": {},
     "output_type": "execute_result"
    },
    {
     "data": {
      "text/plain": [
       "'C:\\\\Users\\\\fralu\\\\Documents\\\\GitHub\\\\anndl\\\\image-segmentation\\\\Segmentation_Dataset\\\\training\\\\images\\\\img\\\\2631.tif'"
      ]
     },
     "execution_count": 6,
     "metadata": {},
     "output_type": "execute_result"
    },
    {
     "data": {
      "text/plain": [
       "'C:\\\\Users\\\\fralu\\\\Documents\\\\GitHub\\\\anndl\\\\image-segmentation\\\\Segmentation_Dataset\\\\training\\\\masks\\\\img\\\\2631.tif'"
      ]
     },
     "execution_count": 6,
     "metadata": {},
     "output_type": "execute_result"
    },
    {
     "data": {
      "text/plain": [
       "'C:\\\\Users\\\\fralu\\\\Documents\\\\GitHub\\\\anndl\\\\image-segmentation\\\\Segmentation_Dataset\\\\training\\\\images\\\\img\\\\2634.tif'"
      ]
     },
     "execution_count": 6,
     "metadata": {},
     "output_type": "execute_result"
    },
    {
     "data": {
      "text/plain": [
       "'C:\\\\Users\\\\fralu\\\\Documents\\\\GitHub\\\\anndl\\\\image-segmentation\\\\Segmentation_Dataset\\\\training\\\\masks\\\\img\\\\2634.tif'"
      ]
     },
     "execution_count": 6,
     "metadata": {},
     "output_type": "execute_result"
    },
    {
     "data": {
      "text/plain": [
       "'C:\\\\Users\\\\fralu\\\\Documents\\\\GitHub\\\\anndl\\\\image-segmentation\\\\Segmentation_Dataset\\\\training\\\\images\\\\img\\\\2637.tif'"
      ]
     },
     "execution_count": 6,
     "metadata": {},
     "output_type": "execute_result"
    },
    {
     "data": {
      "text/plain": [
       "'C:\\\\Users\\\\fralu\\\\Documents\\\\GitHub\\\\anndl\\\\image-segmentation\\\\Segmentation_Dataset\\\\training\\\\masks\\\\img\\\\2637.tif'"
      ]
     },
     "execution_count": 6,
     "metadata": {},
     "output_type": "execute_result"
    },
    {
     "data": {
      "text/plain": [
       "'C:\\\\Users\\\\fralu\\\\Documents\\\\GitHub\\\\anndl\\\\image-segmentation\\\\Segmentation_Dataset\\\\training\\\\images\\\\img\\\\2638.tif'"
      ]
     },
     "execution_count": 6,
     "metadata": {},
     "output_type": "execute_result"
    },
    {
     "data": {
      "text/plain": [
       "'C:\\\\Users\\\\fralu\\\\Documents\\\\GitHub\\\\anndl\\\\image-segmentation\\\\Segmentation_Dataset\\\\training\\\\masks\\\\img\\\\2638.tif'"
      ]
     },
     "execution_count": 6,
     "metadata": {},
     "output_type": "execute_result"
    },
    {
     "data": {
      "text/plain": [
       "'C:\\\\Users\\\\fralu\\\\Documents\\\\GitHub\\\\anndl\\\\image-segmentation\\\\Segmentation_Dataset\\\\training\\\\images\\\\img\\\\2648.tif'"
      ]
     },
     "execution_count": 6,
     "metadata": {},
     "output_type": "execute_result"
    },
    {
     "data": {
      "text/plain": [
       "'C:\\\\Users\\\\fralu\\\\Documents\\\\GitHub\\\\anndl\\\\image-segmentation\\\\Segmentation_Dataset\\\\training\\\\masks\\\\img\\\\2648.tif'"
      ]
     },
     "execution_count": 6,
     "metadata": {},
     "output_type": "execute_result"
    },
    {
     "data": {
      "text/plain": [
       "'C:\\\\Users\\\\fralu\\\\Documents\\\\GitHub\\\\anndl\\\\image-segmentation\\\\Segmentation_Dataset\\\\training\\\\images\\\\img\\\\2654.tif'"
      ]
     },
     "execution_count": 6,
     "metadata": {},
     "output_type": "execute_result"
    },
    {
     "data": {
      "text/plain": [
       "'C:\\\\Users\\\\fralu\\\\Documents\\\\GitHub\\\\anndl\\\\image-segmentation\\\\Segmentation_Dataset\\\\training\\\\masks\\\\img\\\\2654.tif'"
      ]
     },
     "execution_count": 6,
     "metadata": {},
     "output_type": "execute_result"
    },
    {
     "data": {
      "text/plain": [
       "'C:\\\\Users\\\\fralu\\\\Documents\\\\GitHub\\\\anndl\\\\image-segmentation\\\\Segmentation_Dataset\\\\training\\\\images\\\\img\\\\2655.tif'"
      ]
     },
     "execution_count": 6,
     "metadata": {},
     "output_type": "execute_result"
    },
    {
     "data": {
      "text/plain": [
       "'C:\\\\Users\\\\fralu\\\\Documents\\\\GitHub\\\\anndl\\\\image-segmentation\\\\Segmentation_Dataset\\\\training\\\\masks\\\\img\\\\2655.tif'"
      ]
     },
     "execution_count": 6,
     "metadata": {},
     "output_type": "execute_result"
    },
    {
     "data": {
      "text/plain": [
       "'C:\\\\Users\\\\fralu\\\\Documents\\\\GitHub\\\\anndl\\\\image-segmentation\\\\Segmentation_Dataset\\\\training\\\\images\\\\img\\\\2658.tif'"
      ]
     },
     "execution_count": 6,
     "metadata": {},
     "output_type": "execute_result"
    },
    {
     "data": {
      "text/plain": [
       "'C:\\\\Users\\\\fralu\\\\Documents\\\\GitHub\\\\anndl\\\\image-segmentation\\\\Segmentation_Dataset\\\\training\\\\masks\\\\img\\\\2658.tif'"
      ]
     },
     "execution_count": 6,
     "metadata": {},
     "output_type": "execute_result"
    },
    {
     "data": {
      "text/plain": [
       "'C:\\\\Users\\\\fralu\\\\Documents\\\\GitHub\\\\anndl\\\\image-segmentation\\\\Segmentation_Dataset\\\\training\\\\images\\\\img\\\\266.tif'"
      ]
     },
     "execution_count": 6,
     "metadata": {},
     "output_type": "execute_result"
    },
    {
     "data": {
      "text/plain": [
       "'C:\\\\Users\\\\fralu\\\\Documents\\\\GitHub\\\\anndl\\\\image-segmentation\\\\Segmentation_Dataset\\\\training\\\\masks\\\\img\\\\266.tif'"
      ]
     },
     "execution_count": 6,
     "metadata": {},
     "output_type": "execute_result"
    },
    {
     "data": {
      "text/plain": [
       "'C:\\\\Users\\\\fralu\\\\Documents\\\\GitHub\\\\anndl\\\\image-segmentation\\\\Segmentation_Dataset\\\\training\\\\images\\\\img\\\\2666.tif'"
      ]
     },
     "execution_count": 6,
     "metadata": {},
     "output_type": "execute_result"
    },
    {
     "data": {
      "text/plain": [
       "'C:\\\\Users\\\\fralu\\\\Documents\\\\GitHub\\\\anndl\\\\image-segmentation\\\\Segmentation_Dataset\\\\training\\\\masks\\\\img\\\\2666.tif'"
      ]
     },
     "execution_count": 6,
     "metadata": {},
     "output_type": "execute_result"
    },
    {
     "data": {
      "text/plain": [
       "'C:\\\\Users\\\\fralu\\\\Documents\\\\GitHub\\\\anndl\\\\image-segmentation\\\\Segmentation_Dataset\\\\training\\\\images\\\\img\\\\2678.tif'"
      ]
     },
     "execution_count": 6,
     "metadata": {},
     "output_type": "execute_result"
    },
    {
     "data": {
      "text/plain": [
       "'C:\\\\Users\\\\fralu\\\\Documents\\\\GitHub\\\\anndl\\\\image-segmentation\\\\Segmentation_Dataset\\\\training\\\\masks\\\\img\\\\2678.tif'"
      ]
     },
     "execution_count": 6,
     "metadata": {},
     "output_type": "execute_result"
    },
    {
     "data": {
      "text/plain": [
       "'C:\\\\Users\\\\fralu\\\\Documents\\\\GitHub\\\\anndl\\\\image-segmentation\\\\Segmentation_Dataset\\\\training\\\\images\\\\img\\\\2682.tif'"
      ]
     },
     "execution_count": 6,
     "metadata": {},
     "output_type": "execute_result"
    },
    {
     "data": {
      "text/plain": [
       "'C:\\\\Users\\\\fralu\\\\Documents\\\\GitHub\\\\anndl\\\\image-segmentation\\\\Segmentation_Dataset\\\\training\\\\masks\\\\img\\\\2682.tif'"
      ]
     },
     "execution_count": 6,
     "metadata": {},
     "output_type": "execute_result"
    },
    {
     "data": {
      "text/plain": [
       "'C:\\\\Users\\\\fralu\\\\Documents\\\\GitHub\\\\anndl\\\\image-segmentation\\\\Segmentation_Dataset\\\\training\\\\images\\\\img\\\\2684.tif'"
      ]
     },
     "execution_count": 6,
     "metadata": {},
     "output_type": "execute_result"
    },
    {
     "data": {
      "text/plain": [
       "'C:\\\\Users\\\\fralu\\\\Documents\\\\GitHub\\\\anndl\\\\image-segmentation\\\\Segmentation_Dataset\\\\training\\\\masks\\\\img\\\\2684.tif'"
      ]
     },
     "execution_count": 6,
     "metadata": {},
     "output_type": "execute_result"
    },
    {
     "data": {
      "text/plain": [
       "'C:\\\\Users\\\\fralu\\\\Documents\\\\GitHub\\\\anndl\\\\image-segmentation\\\\Segmentation_Dataset\\\\training\\\\images\\\\img\\\\2689.tif'"
      ]
     },
     "execution_count": 6,
     "metadata": {},
     "output_type": "execute_result"
    },
    {
     "data": {
      "text/plain": [
       "'C:\\\\Users\\\\fralu\\\\Documents\\\\GitHub\\\\anndl\\\\image-segmentation\\\\Segmentation_Dataset\\\\training\\\\masks\\\\img\\\\2689.tif'"
      ]
     },
     "execution_count": 6,
     "metadata": {},
     "output_type": "execute_result"
    },
    {
     "data": {
      "text/plain": [
       "'C:\\\\Users\\\\fralu\\\\Documents\\\\GitHub\\\\anndl\\\\image-segmentation\\\\Segmentation_Dataset\\\\training\\\\images\\\\img\\\\269.tif'"
      ]
     },
     "execution_count": 6,
     "metadata": {},
     "output_type": "execute_result"
    },
    {
     "data": {
      "text/plain": [
       "'C:\\\\Users\\\\fralu\\\\Documents\\\\GitHub\\\\anndl\\\\image-segmentation\\\\Segmentation_Dataset\\\\training\\\\masks\\\\img\\\\269.tif'"
      ]
     },
     "execution_count": 6,
     "metadata": {},
     "output_type": "execute_result"
    },
    {
     "data": {
      "text/plain": [
       "'C:\\\\Users\\\\fralu\\\\Documents\\\\GitHub\\\\anndl\\\\image-segmentation\\\\Segmentation_Dataset\\\\training\\\\images\\\\img\\\\2692.tif'"
      ]
     },
     "execution_count": 6,
     "metadata": {},
     "output_type": "execute_result"
    },
    {
     "data": {
      "text/plain": [
       "'C:\\\\Users\\\\fralu\\\\Documents\\\\GitHub\\\\anndl\\\\image-segmentation\\\\Segmentation_Dataset\\\\training\\\\masks\\\\img\\\\2692.tif'"
      ]
     },
     "execution_count": 6,
     "metadata": {},
     "output_type": "execute_result"
    },
    {
     "data": {
      "text/plain": [
       "'C:\\\\Users\\\\fralu\\\\Documents\\\\GitHub\\\\anndl\\\\image-segmentation\\\\Segmentation_Dataset\\\\training\\\\images\\\\img\\\\2695.tif'"
      ]
     },
     "execution_count": 6,
     "metadata": {},
     "output_type": "execute_result"
    },
    {
     "data": {
      "text/plain": [
       "'C:\\\\Users\\\\fralu\\\\Documents\\\\GitHub\\\\anndl\\\\image-segmentation\\\\Segmentation_Dataset\\\\training\\\\masks\\\\img\\\\2695.tif'"
      ]
     },
     "execution_count": 6,
     "metadata": {},
     "output_type": "execute_result"
    },
    {
     "data": {
      "text/plain": [
       "'C:\\\\Users\\\\fralu\\\\Documents\\\\GitHub\\\\anndl\\\\image-segmentation\\\\Segmentation_Dataset\\\\training\\\\images\\\\img\\\\2706.tif'"
      ]
     },
     "execution_count": 6,
     "metadata": {},
     "output_type": "execute_result"
    },
    {
     "data": {
      "text/plain": [
       "'C:\\\\Users\\\\fralu\\\\Documents\\\\GitHub\\\\anndl\\\\image-segmentation\\\\Segmentation_Dataset\\\\training\\\\masks\\\\img\\\\2706.tif'"
      ]
     },
     "execution_count": 6,
     "metadata": {},
     "output_type": "execute_result"
    },
    {
     "data": {
      "text/plain": [
       "'C:\\\\Users\\\\fralu\\\\Documents\\\\GitHub\\\\anndl\\\\image-segmentation\\\\Segmentation_Dataset\\\\training\\\\images\\\\img\\\\271.tif'"
      ]
     },
     "execution_count": 6,
     "metadata": {},
     "output_type": "execute_result"
    },
    {
     "data": {
      "text/plain": [
       "'C:\\\\Users\\\\fralu\\\\Documents\\\\GitHub\\\\anndl\\\\image-segmentation\\\\Segmentation_Dataset\\\\training\\\\masks\\\\img\\\\271.tif'"
      ]
     },
     "execution_count": 6,
     "metadata": {},
     "output_type": "execute_result"
    },
    {
     "data": {
      "text/plain": [
       "'C:\\\\Users\\\\fralu\\\\Documents\\\\GitHub\\\\anndl\\\\image-segmentation\\\\Segmentation_Dataset\\\\training\\\\images\\\\img\\\\2714.tif'"
      ]
     },
     "execution_count": 6,
     "metadata": {},
     "output_type": "execute_result"
    },
    {
     "data": {
      "text/plain": [
       "'C:\\\\Users\\\\fralu\\\\Documents\\\\GitHub\\\\anndl\\\\image-segmentation\\\\Segmentation_Dataset\\\\training\\\\masks\\\\img\\\\2714.tif'"
      ]
     },
     "execution_count": 6,
     "metadata": {},
     "output_type": "execute_result"
    },
    {
     "data": {
      "text/plain": [
       "'C:\\\\Users\\\\fralu\\\\Documents\\\\GitHub\\\\anndl\\\\image-segmentation\\\\Segmentation_Dataset\\\\training\\\\images\\\\img\\\\2715.tif'"
      ]
     },
     "execution_count": 6,
     "metadata": {},
     "output_type": "execute_result"
    },
    {
     "data": {
      "text/plain": [
       "'C:\\\\Users\\\\fralu\\\\Documents\\\\GitHub\\\\anndl\\\\image-segmentation\\\\Segmentation_Dataset\\\\training\\\\masks\\\\img\\\\2715.tif'"
      ]
     },
     "execution_count": 6,
     "metadata": {},
     "output_type": "execute_result"
    },
    {
     "data": {
      "text/plain": [
       "'C:\\\\Users\\\\fralu\\\\Documents\\\\GitHub\\\\anndl\\\\image-segmentation\\\\Segmentation_Dataset\\\\training\\\\images\\\\img\\\\2724.tif'"
      ]
     },
     "execution_count": 6,
     "metadata": {},
     "output_type": "execute_result"
    },
    {
     "data": {
      "text/plain": [
       "'C:\\\\Users\\\\fralu\\\\Documents\\\\GitHub\\\\anndl\\\\image-segmentation\\\\Segmentation_Dataset\\\\training\\\\masks\\\\img\\\\2724.tif'"
      ]
     },
     "execution_count": 6,
     "metadata": {},
     "output_type": "execute_result"
    },
    {
     "data": {
      "text/plain": [
       "'C:\\\\Users\\\\fralu\\\\Documents\\\\GitHub\\\\anndl\\\\image-segmentation\\\\Segmentation_Dataset\\\\training\\\\images\\\\img\\\\2730.tif'"
      ]
     },
     "execution_count": 6,
     "metadata": {},
     "output_type": "execute_result"
    },
    {
     "data": {
      "text/plain": [
       "'C:\\\\Users\\\\fralu\\\\Documents\\\\GitHub\\\\anndl\\\\image-segmentation\\\\Segmentation_Dataset\\\\training\\\\masks\\\\img\\\\2730.tif'"
      ]
     },
     "execution_count": 6,
     "metadata": {},
     "output_type": "execute_result"
    },
    {
     "data": {
      "text/plain": [
       "'C:\\\\Users\\\\fralu\\\\Documents\\\\GitHub\\\\anndl\\\\image-segmentation\\\\Segmentation_Dataset\\\\training\\\\images\\\\img\\\\2732.tif'"
      ]
     },
     "execution_count": 6,
     "metadata": {},
     "output_type": "execute_result"
    },
    {
     "data": {
      "text/plain": [
       "'C:\\\\Users\\\\fralu\\\\Documents\\\\GitHub\\\\anndl\\\\image-segmentation\\\\Segmentation_Dataset\\\\training\\\\masks\\\\img\\\\2732.tif'"
      ]
     },
     "execution_count": 6,
     "metadata": {},
     "output_type": "execute_result"
    },
    {
     "data": {
      "text/plain": [
       "'C:\\\\Users\\\\fralu\\\\Documents\\\\GitHub\\\\anndl\\\\image-segmentation\\\\Segmentation_Dataset\\\\training\\\\images\\\\img\\\\274.tif'"
      ]
     },
     "execution_count": 6,
     "metadata": {},
     "output_type": "execute_result"
    },
    {
     "data": {
      "text/plain": [
       "'C:\\\\Users\\\\fralu\\\\Documents\\\\GitHub\\\\anndl\\\\image-segmentation\\\\Segmentation_Dataset\\\\training\\\\masks\\\\img\\\\274.tif'"
      ]
     },
     "execution_count": 6,
     "metadata": {},
     "output_type": "execute_result"
    },
    {
     "data": {
      "text/plain": [
       "'C:\\\\Users\\\\fralu\\\\Documents\\\\GitHub\\\\anndl\\\\image-segmentation\\\\Segmentation_Dataset\\\\training\\\\images\\\\img\\\\2745.tif'"
      ]
     },
     "execution_count": 6,
     "metadata": {},
     "output_type": "execute_result"
    },
    {
     "data": {
      "text/plain": [
       "'C:\\\\Users\\\\fralu\\\\Documents\\\\GitHub\\\\anndl\\\\image-segmentation\\\\Segmentation_Dataset\\\\training\\\\masks\\\\img\\\\2745.tif'"
      ]
     },
     "execution_count": 6,
     "metadata": {},
     "output_type": "execute_result"
    },
    {
     "data": {
      "text/plain": [
       "'C:\\\\Users\\\\fralu\\\\Documents\\\\GitHub\\\\anndl\\\\image-segmentation\\\\Segmentation_Dataset\\\\training\\\\images\\\\img\\\\2750.tif'"
      ]
     },
     "execution_count": 6,
     "metadata": {},
     "output_type": "execute_result"
    },
    {
     "data": {
      "text/plain": [
       "'C:\\\\Users\\\\fralu\\\\Documents\\\\GitHub\\\\anndl\\\\image-segmentation\\\\Segmentation_Dataset\\\\training\\\\masks\\\\img\\\\2750.tif'"
      ]
     },
     "execution_count": 6,
     "metadata": {},
     "output_type": "execute_result"
    },
    {
     "data": {
      "text/plain": [
       "'C:\\\\Users\\\\fralu\\\\Documents\\\\GitHub\\\\anndl\\\\image-segmentation\\\\Segmentation_Dataset\\\\training\\\\images\\\\img\\\\2753.tif'"
      ]
     },
     "execution_count": 6,
     "metadata": {},
     "output_type": "execute_result"
    },
    {
     "data": {
      "text/plain": [
       "'C:\\\\Users\\\\fralu\\\\Documents\\\\GitHub\\\\anndl\\\\image-segmentation\\\\Segmentation_Dataset\\\\training\\\\masks\\\\img\\\\2753.tif'"
      ]
     },
     "execution_count": 6,
     "metadata": {},
     "output_type": "execute_result"
    },
    {
     "data": {
      "text/plain": [
       "'C:\\\\Users\\\\fralu\\\\Documents\\\\GitHub\\\\anndl\\\\image-segmentation\\\\Segmentation_Dataset\\\\training\\\\images\\\\img\\\\2763.tif'"
      ]
     },
     "execution_count": 6,
     "metadata": {},
     "output_type": "execute_result"
    },
    {
     "data": {
      "text/plain": [
       "'C:\\\\Users\\\\fralu\\\\Documents\\\\GitHub\\\\anndl\\\\image-segmentation\\\\Segmentation_Dataset\\\\training\\\\masks\\\\img\\\\2763.tif'"
      ]
     },
     "execution_count": 6,
     "metadata": {},
     "output_type": "execute_result"
    },
    {
     "data": {
      "text/plain": [
       "'C:\\\\Users\\\\fralu\\\\Documents\\\\GitHub\\\\anndl\\\\image-segmentation\\\\Segmentation_Dataset\\\\training\\\\images\\\\img\\\\2764.tif'"
      ]
     },
     "execution_count": 6,
     "metadata": {},
     "output_type": "execute_result"
    },
    {
     "data": {
      "text/plain": [
       "'C:\\\\Users\\\\fralu\\\\Documents\\\\GitHub\\\\anndl\\\\image-segmentation\\\\Segmentation_Dataset\\\\training\\\\masks\\\\img\\\\2764.tif'"
      ]
     },
     "execution_count": 6,
     "metadata": {},
     "output_type": "execute_result"
    },
    {
     "data": {
      "text/plain": [
       "'C:\\\\Users\\\\fralu\\\\Documents\\\\GitHub\\\\anndl\\\\image-segmentation\\\\Segmentation_Dataset\\\\training\\\\images\\\\img\\\\2765.tif'"
      ]
     },
     "execution_count": 6,
     "metadata": {},
     "output_type": "execute_result"
    },
    {
     "data": {
      "text/plain": [
       "'C:\\\\Users\\\\fralu\\\\Documents\\\\GitHub\\\\anndl\\\\image-segmentation\\\\Segmentation_Dataset\\\\training\\\\masks\\\\img\\\\2765.tif'"
      ]
     },
     "execution_count": 6,
     "metadata": {},
     "output_type": "execute_result"
    },
    {
     "data": {
      "text/plain": [
       "'C:\\\\Users\\\\fralu\\\\Documents\\\\GitHub\\\\anndl\\\\image-segmentation\\\\Segmentation_Dataset\\\\training\\\\images\\\\img\\\\2769.tif'"
      ]
     },
     "execution_count": 6,
     "metadata": {},
     "output_type": "execute_result"
    },
    {
     "data": {
      "text/plain": [
       "'C:\\\\Users\\\\fralu\\\\Documents\\\\GitHub\\\\anndl\\\\image-segmentation\\\\Segmentation_Dataset\\\\training\\\\masks\\\\img\\\\2769.tif'"
      ]
     },
     "execution_count": 6,
     "metadata": {},
     "output_type": "execute_result"
    },
    {
     "data": {
      "text/plain": [
       "'C:\\\\Users\\\\fralu\\\\Documents\\\\GitHub\\\\anndl\\\\image-segmentation\\\\Segmentation_Dataset\\\\training\\\\images\\\\img\\\\2775.tif'"
      ]
     },
     "execution_count": 6,
     "metadata": {},
     "output_type": "execute_result"
    },
    {
     "data": {
      "text/plain": [
       "'C:\\\\Users\\\\fralu\\\\Documents\\\\GitHub\\\\anndl\\\\image-segmentation\\\\Segmentation_Dataset\\\\training\\\\masks\\\\img\\\\2775.tif'"
      ]
     },
     "execution_count": 6,
     "metadata": {},
     "output_type": "execute_result"
    },
    {
     "data": {
      "text/plain": [
       "'C:\\\\Users\\\\fralu\\\\Documents\\\\GitHub\\\\anndl\\\\image-segmentation\\\\Segmentation_Dataset\\\\training\\\\images\\\\img\\\\2776.tif'"
      ]
     },
     "execution_count": 6,
     "metadata": {},
     "output_type": "execute_result"
    },
    {
     "data": {
      "text/plain": [
       "'C:\\\\Users\\\\fralu\\\\Documents\\\\GitHub\\\\anndl\\\\image-segmentation\\\\Segmentation_Dataset\\\\training\\\\masks\\\\img\\\\2776.tif'"
      ]
     },
     "execution_count": 6,
     "metadata": {},
     "output_type": "execute_result"
    },
    {
     "data": {
      "text/plain": [
       "'C:\\\\Users\\\\fralu\\\\Documents\\\\GitHub\\\\anndl\\\\image-segmentation\\\\Segmentation_Dataset\\\\training\\\\images\\\\img\\\\2779.tif'"
      ]
     },
     "execution_count": 6,
     "metadata": {},
     "output_type": "execute_result"
    },
    {
     "data": {
      "text/plain": [
       "'C:\\\\Users\\\\fralu\\\\Documents\\\\GitHub\\\\anndl\\\\image-segmentation\\\\Segmentation_Dataset\\\\training\\\\masks\\\\img\\\\2779.tif'"
      ]
     },
     "execution_count": 6,
     "metadata": {},
     "output_type": "execute_result"
    },
    {
     "data": {
      "text/plain": [
       "'C:\\\\Users\\\\fralu\\\\Documents\\\\GitHub\\\\anndl\\\\image-segmentation\\\\Segmentation_Dataset\\\\training\\\\images\\\\img\\\\2781.tif'"
      ]
     },
     "execution_count": 6,
     "metadata": {},
     "output_type": "execute_result"
    },
    {
     "data": {
      "text/plain": [
       "'C:\\\\Users\\\\fralu\\\\Documents\\\\GitHub\\\\anndl\\\\image-segmentation\\\\Segmentation_Dataset\\\\training\\\\masks\\\\img\\\\2781.tif'"
      ]
     },
     "execution_count": 6,
     "metadata": {},
     "output_type": "execute_result"
    },
    {
     "data": {
      "text/plain": [
       "'C:\\\\Users\\\\fralu\\\\Documents\\\\GitHub\\\\anndl\\\\image-segmentation\\\\Segmentation_Dataset\\\\training\\\\images\\\\img\\\\2783.tif'"
      ]
     },
     "execution_count": 6,
     "metadata": {},
     "output_type": "execute_result"
    },
    {
     "data": {
      "text/plain": [
       "'C:\\\\Users\\\\fralu\\\\Documents\\\\GitHub\\\\anndl\\\\image-segmentation\\\\Segmentation_Dataset\\\\training\\\\masks\\\\img\\\\2783.tif'"
      ]
     },
     "execution_count": 6,
     "metadata": {},
     "output_type": "execute_result"
    },
    {
     "data": {
      "text/plain": [
       "'C:\\\\Users\\\\fralu\\\\Documents\\\\GitHub\\\\anndl\\\\image-segmentation\\\\Segmentation_Dataset\\\\training\\\\images\\\\img\\\\2784.tif'"
      ]
     },
     "execution_count": 6,
     "metadata": {},
     "output_type": "execute_result"
    },
    {
     "data": {
      "text/plain": [
       "'C:\\\\Users\\\\fralu\\\\Documents\\\\GitHub\\\\anndl\\\\image-segmentation\\\\Segmentation_Dataset\\\\training\\\\masks\\\\img\\\\2784.tif'"
      ]
     },
     "execution_count": 6,
     "metadata": {},
     "output_type": "execute_result"
    },
    {
     "data": {
      "text/plain": [
       "'C:\\\\Users\\\\fralu\\\\Documents\\\\GitHub\\\\anndl\\\\image-segmentation\\\\Segmentation_Dataset\\\\training\\\\images\\\\img\\\\2794.tif'"
      ]
     },
     "execution_count": 6,
     "metadata": {},
     "output_type": "execute_result"
    },
    {
     "data": {
      "text/plain": [
       "'C:\\\\Users\\\\fralu\\\\Documents\\\\GitHub\\\\anndl\\\\image-segmentation\\\\Segmentation_Dataset\\\\training\\\\masks\\\\img\\\\2794.tif'"
      ]
     },
     "execution_count": 6,
     "metadata": {},
     "output_type": "execute_result"
    },
    {
     "data": {
      "text/plain": [
       "'C:\\\\Users\\\\fralu\\\\Documents\\\\GitHub\\\\anndl\\\\image-segmentation\\\\Segmentation_Dataset\\\\training\\\\images\\\\img\\\\28.tif'"
      ]
     },
     "execution_count": 6,
     "metadata": {},
     "output_type": "execute_result"
    },
    {
     "data": {
      "text/plain": [
       "'C:\\\\Users\\\\fralu\\\\Documents\\\\GitHub\\\\anndl\\\\image-segmentation\\\\Segmentation_Dataset\\\\training\\\\masks\\\\img\\\\28.tif'"
      ]
     },
     "execution_count": 6,
     "metadata": {},
     "output_type": "execute_result"
    },
    {
     "data": {
      "text/plain": [
       "'C:\\\\Users\\\\fralu\\\\Documents\\\\GitHub\\\\anndl\\\\image-segmentation\\\\Segmentation_Dataset\\\\training\\\\images\\\\img\\\\2806.tif'"
      ]
     },
     "execution_count": 6,
     "metadata": {},
     "output_type": "execute_result"
    },
    {
     "data": {
      "text/plain": [
       "'C:\\\\Users\\\\fralu\\\\Documents\\\\GitHub\\\\anndl\\\\image-segmentation\\\\Segmentation_Dataset\\\\training\\\\masks\\\\img\\\\2806.tif'"
      ]
     },
     "execution_count": 6,
     "metadata": {},
     "output_type": "execute_result"
    },
    {
     "data": {
      "text/plain": [
       "'C:\\\\Users\\\\fralu\\\\Documents\\\\GitHub\\\\anndl\\\\image-segmentation\\\\Segmentation_Dataset\\\\training\\\\images\\\\img\\\\2809.tif'"
      ]
     },
     "execution_count": 6,
     "metadata": {},
     "output_type": "execute_result"
    },
    {
     "data": {
      "text/plain": [
       "'C:\\\\Users\\\\fralu\\\\Documents\\\\GitHub\\\\anndl\\\\image-segmentation\\\\Segmentation_Dataset\\\\training\\\\masks\\\\img\\\\2809.tif'"
      ]
     },
     "execution_count": 6,
     "metadata": {},
     "output_type": "execute_result"
    },
    {
     "data": {
      "text/plain": [
       "'C:\\\\Users\\\\fralu\\\\Documents\\\\GitHub\\\\anndl\\\\image-segmentation\\\\Segmentation_Dataset\\\\training\\\\images\\\\img\\\\2814.tif'"
      ]
     },
     "execution_count": 6,
     "metadata": {},
     "output_type": "execute_result"
    },
    {
     "data": {
      "text/plain": [
       "'C:\\\\Users\\\\fralu\\\\Documents\\\\GitHub\\\\anndl\\\\image-segmentation\\\\Segmentation_Dataset\\\\training\\\\masks\\\\img\\\\2814.tif'"
      ]
     },
     "execution_count": 6,
     "metadata": {},
     "output_type": "execute_result"
    },
    {
     "data": {
      "text/plain": [
       "'C:\\\\Users\\\\fralu\\\\Documents\\\\GitHub\\\\anndl\\\\image-segmentation\\\\Segmentation_Dataset\\\\training\\\\images\\\\img\\\\287.tif'"
      ]
     },
     "execution_count": 6,
     "metadata": {},
     "output_type": "execute_result"
    },
    {
     "data": {
      "text/plain": [
       "'C:\\\\Users\\\\fralu\\\\Documents\\\\GitHub\\\\anndl\\\\image-segmentation\\\\Segmentation_Dataset\\\\training\\\\masks\\\\img\\\\287.tif'"
      ]
     },
     "execution_count": 6,
     "metadata": {},
     "output_type": "execute_result"
    },
    {
     "data": {
      "text/plain": [
       "'C:\\\\Users\\\\fralu\\\\Documents\\\\GitHub\\\\anndl\\\\image-segmentation\\\\Segmentation_Dataset\\\\training\\\\images\\\\img\\\\2890.tif'"
      ]
     },
     "execution_count": 6,
     "metadata": {},
     "output_type": "execute_result"
    },
    {
     "data": {
      "text/plain": [
       "'C:\\\\Users\\\\fralu\\\\Documents\\\\GitHub\\\\anndl\\\\image-segmentation\\\\Segmentation_Dataset\\\\training\\\\masks\\\\img\\\\2890.tif'"
      ]
     },
     "execution_count": 6,
     "metadata": {},
     "output_type": "execute_result"
    },
    {
     "data": {
      "text/plain": [
       "'C:\\\\Users\\\\fralu\\\\Documents\\\\GitHub\\\\anndl\\\\image-segmentation\\\\Segmentation_Dataset\\\\training\\\\images\\\\img\\\\2891.tif'"
      ]
     },
     "execution_count": 6,
     "metadata": {},
     "output_type": "execute_result"
    },
    {
     "data": {
      "text/plain": [
       "'C:\\\\Users\\\\fralu\\\\Documents\\\\GitHub\\\\anndl\\\\image-segmentation\\\\Segmentation_Dataset\\\\training\\\\masks\\\\img\\\\2891.tif'"
      ]
     },
     "execution_count": 6,
     "metadata": {},
     "output_type": "execute_result"
    },
    {
     "data": {
      "text/plain": [
       "'C:\\\\Users\\\\fralu\\\\Documents\\\\GitHub\\\\anndl\\\\image-segmentation\\\\Segmentation_Dataset\\\\training\\\\images\\\\img\\\\2895.tif'"
      ]
     },
     "execution_count": 6,
     "metadata": {},
     "output_type": "execute_result"
    },
    {
     "data": {
      "text/plain": [
       "'C:\\\\Users\\\\fralu\\\\Documents\\\\GitHub\\\\anndl\\\\image-segmentation\\\\Segmentation_Dataset\\\\training\\\\masks\\\\img\\\\2895.tif'"
      ]
     },
     "execution_count": 6,
     "metadata": {},
     "output_type": "execute_result"
    },
    {
     "data": {
      "text/plain": [
       "'C:\\\\Users\\\\fralu\\\\Documents\\\\GitHub\\\\anndl\\\\image-segmentation\\\\Segmentation_Dataset\\\\training\\\\images\\\\img\\\\2896.tif'"
      ]
     },
     "execution_count": 6,
     "metadata": {},
     "output_type": "execute_result"
    },
    {
     "data": {
      "text/plain": [
       "'C:\\\\Users\\\\fralu\\\\Documents\\\\GitHub\\\\anndl\\\\image-segmentation\\\\Segmentation_Dataset\\\\training\\\\masks\\\\img\\\\2896.tif'"
      ]
     },
     "execution_count": 6,
     "metadata": {},
     "output_type": "execute_result"
    },
    {
     "data": {
      "text/plain": [
       "'C:\\\\Users\\\\fralu\\\\Documents\\\\GitHub\\\\anndl\\\\image-segmentation\\\\Segmentation_Dataset\\\\training\\\\images\\\\img\\\\2901.tif'"
      ]
     },
     "execution_count": 6,
     "metadata": {},
     "output_type": "execute_result"
    },
    {
     "data": {
      "text/plain": [
       "'C:\\\\Users\\\\fralu\\\\Documents\\\\GitHub\\\\anndl\\\\image-segmentation\\\\Segmentation_Dataset\\\\training\\\\masks\\\\img\\\\2901.tif'"
      ]
     },
     "execution_count": 6,
     "metadata": {},
     "output_type": "execute_result"
    },
    {
     "data": {
      "text/plain": [
       "'C:\\\\Users\\\\fralu\\\\Documents\\\\GitHub\\\\anndl\\\\image-segmentation\\\\Segmentation_Dataset\\\\training\\\\images\\\\img\\\\2905.tif'"
      ]
     },
     "execution_count": 6,
     "metadata": {},
     "output_type": "execute_result"
    },
    {
     "data": {
      "text/plain": [
       "'C:\\\\Users\\\\fralu\\\\Documents\\\\GitHub\\\\anndl\\\\image-segmentation\\\\Segmentation_Dataset\\\\training\\\\masks\\\\img\\\\2905.tif'"
      ]
     },
     "execution_count": 6,
     "metadata": {},
     "output_type": "execute_result"
    },
    {
     "data": {
      "text/plain": [
       "'C:\\\\Users\\\\fralu\\\\Documents\\\\GitHub\\\\anndl\\\\image-segmentation\\\\Segmentation_Dataset\\\\training\\\\images\\\\img\\\\2906.tif'"
      ]
     },
     "execution_count": 6,
     "metadata": {},
     "output_type": "execute_result"
    },
    {
     "data": {
      "text/plain": [
       "'C:\\\\Users\\\\fralu\\\\Documents\\\\GitHub\\\\anndl\\\\image-segmentation\\\\Segmentation_Dataset\\\\training\\\\masks\\\\img\\\\2906.tif'"
      ]
     },
     "execution_count": 6,
     "metadata": {},
     "output_type": "execute_result"
    },
    {
     "data": {
      "text/plain": [
       "'C:\\\\Users\\\\fralu\\\\Documents\\\\GitHub\\\\anndl\\\\image-segmentation\\\\Segmentation_Dataset\\\\training\\\\images\\\\img\\\\2911.tif'"
      ]
     },
     "execution_count": 6,
     "metadata": {},
     "output_type": "execute_result"
    },
    {
     "data": {
      "text/plain": [
       "'C:\\\\Users\\\\fralu\\\\Documents\\\\GitHub\\\\anndl\\\\image-segmentation\\\\Segmentation_Dataset\\\\training\\\\masks\\\\img\\\\2911.tif'"
      ]
     },
     "execution_count": 6,
     "metadata": {},
     "output_type": "execute_result"
    },
    {
     "data": {
      "text/plain": [
       "'C:\\\\Users\\\\fralu\\\\Documents\\\\GitHub\\\\anndl\\\\image-segmentation\\\\Segmentation_Dataset\\\\training\\\\images\\\\img\\\\2916.tif'"
      ]
     },
     "execution_count": 6,
     "metadata": {},
     "output_type": "execute_result"
    },
    {
     "data": {
      "text/plain": [
       "'C:\\\\Users\\\\fralu\\\\Documents\\\\GitHub\\\\anndl\\\\image-segmentation\\\\Segmentation_Dataset\\\\training\\\\masks\\\\img\\\\2916.tif'"
      ]
     },
     "execution_count": 6,
     "metadata": {},
     "output_type": "execute_result"
    },
    {
     "data": {
      "text/plain": [
       "'C:\\\\Users\\\\fralu\\\\Documents\\\\GitHub\\\\anndl\\\\image-segmentation\\\\Segmentation_Dataset\\\\training\\\\images\\\\img\\\\2918.tif'"
      ]
     },
     "execution_count": 6,
     "metadata": {},
     "output_type": "execute_result"
    },
    {
     "data": {
      "text/plain": [
       "'C:\\\\Users\\\\fralu\\\\Documents\\\\GitHub\\\\anndl\\\\image-segmentation\\\\Segmentation_Dataset\\\\training\\\\masks\\\\img\\\\2918.tif'"
      ]
     },
     "execution_count": 6,
     "metadata": {},
     "output_type": "execute_result"
    },
    {
     "data": {
      "text/plain": [
       "'C:\\\\Users\\\\fralu\\\\Documents\\\\GitHub\\\\anndl\\\\image-segmentation\\\\Segmentation_Dataset\\\\training\\\\images\\\\img\\\\2922.tif'"
      ]
     },
     "execution_count": 6,
     "metadata": {},
     "output_type": "execute_result"
    },
    {
     "data": {
      "text/plain": [
       "'C:\\\\Users\\\\fralu\\\\Documents\\\\GitHub\\\\anndl\\\\image-segmentation\\\\Segmentation_Dataset\\\\training\\\\masks\\\\img\\\\2922.tif'"
      ]
     },
     "execution_count": 6,
     "metadata": {},
     "output_type": "execute_result"
    },
    {
     "data": {
      "text/plain": [
       "'C:\\\\Users\\\\fralu\\\\Documents\\\\GitHub\\\\anndl\\\\image-segmentation\\\\Segmentation_Dataset\\\\training\\\\images\\\\img\\\\2951.tif'"
      ]
     },
     "execution_count": 6,
     "metadata": {},
     "output_type": "execute_result"
    },
    {
     "data": {
      "text/plain": [
       "'C:\\\\Users\\\\fralu\\\\Documents\\\\GitHub\\\\anndl\\\\image-segmentation\\\\Segmentation_Dataset\\\\training\\\\masks\\\\img\\\\2951.tif'"
      ]
     },
     "execution_count": 6,
     "metadata": {},
     "output_type": "execute_result"
    },
    {
     "data": {
      "text/plain": [
       "'C:\\\\Users\\\\fralu\\\\Documents\\\\GitHub\\\\anndl\\\\image-segmentation\\\\Segmentation_Dataset\\\\training\\\\images\\\\img\\\\2954.tif'"
      ]
     },
     "execution_count": 6,
     "metadata": {},
     "output_type": "execute_result"
    },
    {
     "data": {
      "text/plain": [
       "'C:\\\\Users\\\\fralu\\\\Documents\\\\GitHub\\\\anndl\\\\image-segmentation\\\\Segmentation_Dataset\\\\training\\\\masks\\\\img\\\\2954.tif'"
      ]
     },
     "execution_count": 6,
     "metadata": {},
     "output_type": "execute_result"
    },
    {
     "data": {
      "text/plain": [
       "'C:\\\\Users\\\\fralu\\\\Documents\\\\GitHub\\\\anndl\\\\image-segmentation\\\\Segmentation_Dataset\\\\training\\\\images\\\\img\\\\2961.tif'"
      ]
     },
     "execution_count": 6,
     "metadata": {},
     "output_type": "execute_result"
    },
    {
     "data": {
      "text/plain": [
       "'C:\\\\Users\\\\fralu\\\\Documents\\\\GitHub\\\\anndl\\\\image-segmentation\\\\Segmentation_Dataset\\\\training\\\\masks\\\\img\\\\2961.tif'"
      ]
     },
     "execution_count": 6,
     "metadata": {},
     "output_type": "execute_result"
    },
    {
     "data": {
      "text/plain": [
       "'C:\\\\Users\\\\fralu\\\\Documents\\\\GitHub\\\\anndl\\\\image-segmentation\\\\Segmentation_Dataset\\\\training\\\\images\\\\img\\\\2972.tif'"
      ]
     },
     "execution_count": 6,
     "metadata": {},
     "output_type": "execute_result"
    },
    {
     "data": {
      "text/plain": [
       "'C:\\\\Users\\\\fralu\\\\Documents\\\\GitHub\\\\anndl\\\\image-segmentation\\\\Segmentation_Dataset\\\\training\\\\masks\\\\img\\\\2972.tif'"
      ]
     },
     "execution_count": 6,
     "metadata": {},
     "output_type": "execute_result"
    },
    {
     "data": {
      "text/plain": [
       "'C:\\\\Users\\\\fralu\\\\Documents\\\\GitHub\\\\anndl\\\\image-segmentation\\\\Segmentation_Dataset\\\\training\\\\images\\\\img\\\\2978.tif'"
      ]
     },
     "execution_count": 6,
     "metadata": {},
     "output_type": "execute_result"
    },
    {
     "data": {
      "text/plain": [
       "'C:\\\\Users\\\\fralu\\\\Documents\\\\GitHub\\\\anndl\\\\image-segmentation\\\\Segmentation_Dataset\\\\training\\\\masks\\\\img\\\\2978.tif'"
      ]
     },
     "execution_count": 6,
     "metadata": {},
     "output_type": "execute_result"
    },
    {
     "data": {
      "text/plain": [
       "'C:\\\\Users\\\\fralu\\\\Documents\\\\GitHub\\\\anndl\\\\image-segmentation\\\\Segmentation_Dataset\\\\training\\\\images\\\\img\\\\2985.tif'"
      ]
     },
     "execution_count": 6,
     "metadata": {},
     "output_type": "execute_result"
    },
    {
     "data": {
      "text/plain": [
       "'C:\\\\Users\\\\fralu\\\\Documents\\\\GitHub\\\\anndl\\\\image-segmentation\\\\Segmentation_Dataset\\\\training\\\\masks\\\\img\\\\2985.tif'"
      ]
     },
     "execution_count": 6,
     "metadata": {},
     "output_type": "execute_result"
    },
    {
     "data": {
      "text/plain": [
       "'C:\\\\Users\\\\fralu\\\\Documents\\\\GitHub\\\\anndl\\\\image-segmentation\\\\Segmentation_Dataset\\\\training\\\\images\\\\img\\\\2988.tif'"
      ]
     },
     "execution_count": 6,
     "metadata": {},
     "output_type": "execute_result"
    },
    {
     "data": {
      "text/plain": [
       "'C:\\\\Users\\\\fralu\\\\Documents\\\\GitHub\\\\anndl\\\\image-segmentation\\\\Segmentation_Dataset\\\\training\\\\masks\\\\img\\\\2988.tif'"
      ]
     },
     "execution_count": 6,
     "metadata": {},
     "output_type": "execute_result"
    },
    {
     "data": {
      "text/plain": [
       "'C:\\\\Users\\\\fralu\\\\Documents\\\\GitHub\\\\anndl\\\\image-segmentation\\\\Segmentation_Dataset\\\\training\\\\images\\\\img\\\\300.tif'"
      ]
     },
     "execution_count": 6,
     "metadata": {},
     "output_type": "execute_result"
    },
    {
     "data": {
      "text/plain": [
       "'C:\\\\Users\\\\fralu\\\\Documents\\\\GitHub\\\\anndl\\\\image-segmentation\\\\Segmentation_Dataset\\\\training\\\\masks\\\\img\\\\300.tif'"
      ]
     },
     "execution_count": 6,
     "metadata": {},
     "output_type": "execute_result"
    },
    {
     "data": {
      "text/plain": [
       "'C:\\\\Users\\\\fralu\\\\Documents\\\\GitHub\\\\anndl\\\\image-segmentation\\\\Segmentation_Dataset\\\\training\\\\images\\\\img\\\\3002.tif'"
      ]
     },
     "execution_count": 6,
     "metadata": {},
     "output_type": "execute_result"
    },
    {
     "data": {
      "text/plain": [
       "'C:\\\\Users\\\\fralu\\\\Documents\\\\GitHub\\\\anndl\\\\image-segmentation\\\\Segmentation_Dataset\\\\training\\\\masks\\\\img\\\\3002.tif'"
      ]
     },
     "execution_count": 6,
     "metadata": {},
     "output_type": "execute_result"
    },
    {
     "data": {
      "text/plain": [
       "'C:\\\\Users\\\\fralu\\\\Documents\\\\GitHub\\\\anndl\\\\image-segmentation\\\\Segmentation_Dataset\\\\training\\\\images\\\\img\\\\3004.tif'"
      ]
     },
     "execution_count": 6,
     "metadata": {},
     "output_type": "execute_result"
    },
    {
     "data": {
      "text/plain": [
       "'C:\\\\Users\\\\fralu\\\\Documents\\\\GitHub\\\\anndl\\\\image-segmentation\\\\Segmentation_Dataset\\\\training\\\\masks\\\\img\\\\3004.tif'"
      ]
     },
     "execution_count": 6,
     "metadata": {},
     "output_type": "execute_result"
    },
    {
     "data": {
      "text/plain": [
       "'C:\\\\Users\\\\fralu\\\\Documents\\\\GitHub\\\\anndl\\\\image-segmentation\\\\Segmentation_Dataset\\\\training\\\\images\\\\img\\\\3011.tif'"
      ]
     },
     "execution_count": 6,
     "metadata": {},
     "output_type": "execute_result"
    },
    {
     "data": {
      "text/plain": [
       "'C:\\\\Users\\\\fralu\\\\Documents\\\\GitHub\\\\anndl\\\\image-segmentation\\\\Segmentation_Dataset\\\\training\\\\masks\\\\img\\\\3011.tif'"
      ]
     },
     "execution_count": 6,
     "metadata": {},
     "output_type": "execute_result"
    },
    {
     "data": {
      "text/plain": [
       "'C:\\\\Users\\\\fralu\\\\Documents\\\\GitHub\\\\anndl\\\\image-segmentation\\\\Segmentation_Dataset\\\\training\\\\images\\\\img\\\\3012.tif'"
      ]
     },
     "execution_count": 6,
     "metadata": {},
     "output_type": "execute_result"
    },
    {
     "data": {
      "text/plain": [
       "'C:\\\\Users\\\\fralu\\\\Documents\\\\GitHub\\\\anndl\\\\image-segmentation\\\\Segmentation_Dataset\\\\training\\\\masks\\\\img\\\\3012.tif'"
      ]
     },
     "execution_count": 6,
     "metadata": {},
     "output_type": "execute_result"
    },
    {
     "data": {
      "text/plain": [
       "'C:\\\\Users\\\\fralu\\\\Documents\\\\GitHub\\\\anndl\\\\image-segmentation\\\\Segmentation_Dataset\\\\training\\\\images\\\\img\\\\3016.tif'"
      ]
     },
     "execution_count": 6,
     "metadata": {},
     "output_type": "execute_result"
    },
    {
     "data": {
      "text/plain": [
       "'C:\\\\Users\\\\fralu\\\\Documents\\\\GitHub\\\\anndl\\\\image-segmentation\\\\Segmentation_Dataset\\\\training\\\\masks\\\\img\\\\3016.tif'"
      ]
     },
     "execution_count": 6,
     "metadata": {},
     "output_type": "execute_result"
    },
    {
     "data": {
      "text/plain": [
       "'C:\\\\Users\\\\fralu\\\\Documents\\\\GitHub\\\\anndl\\\\image-segmentation\\\\Segmentation_Dataset\\\\training\\\\images\\\\img\\\\3018.tif'"
      ]
     },
     "execution_count": 6,
     "metadata": {},
     "output_type": "execute_result"
    },
    {
     "data": {
      "text/plain": [
       "'C:\\\\Users\\\\fralu\\\\Documents\\\\GitHub\\\\anndl\\\\image-segmentation\\\\Segmentation_Dataset\\\\training\\\\masks\\\\img\\\\3018.tif'"
      ]
     },
     "execution_count": 6,
     "metadata": {},
     "output_type": "execute_result"
    },
    {
     "data": {
      "text/plain": [
       "'C:\\\\Users\\\\fralu\\\\Documents\\\\GitHub\\\\anndl\\\\image-segmentation\\\\Segmentation_Dataset\\\\training\\\\images\\\\img\\\\3024.tif'"
      ]
     },
     "execution_count": 6,
     "metadata": {},
     "output_type": "execute_result"
    },
    {
     "data": {
      "text/plain": [
       "'C:\\\\Users\\\\fralu\\\\Documents\\\\GitHub\\\\anndl\\\\image-segmentation\\\\Segmentation_Dataset\\\\training\\\\masks\\\\img\\\\3024.tif'"
      ]
     },
     "execution_count": 6,
     "metadata": {},
     "output_type": "execute_result"
    },
    {
     "data": {
      "text/plain": [
       "'C:\\\\Users\\\\fralu\\\\Documents\\\\GitHub\\\\anndl\\\\image-segmentation\\\\Segmentation_Dataset\\\\training\\\\images\\\\img\\\\3025.tif'"
      ]
     },
     "execution_count": 6,
     "metadata": {},
     "output_type": "execute_result"
    },
    {
     "data": {
      "text/plain": [
       "'C:\\\\Users\\\\fralu\\\\Documents\\\\GitHub\\\\anndl\\\\image-segmentation\\\\Segmentation_Dataset\\\\training\\\\masks\\\\img\\\\3025.tif'"
      ]
     },
     "execution_count": 6,
     "metadata": {},
     "output_type": "execute_result"
    },
    {
     "data": {
      "text/plain": [
       "'C:\\\\Users\\\\fralu\\\\Documents\\\\GitHub\\\\anndl\\\\image-segmentation\\\\Segmentation_Dataset\\\\training\\\\images\\\\img\\\\3026.tif'"
      ]
     },
     "execution_count": 6,
     "metadata": {},
     "output_type": "execute_result"
    },
    {
     "data": {
      "text/plain": [
       "'C:\\\\Users\\\\fralu\\\\Documents\\\\GitHub\\\\anndl\\\\image-segmentation\\\\Segmentation_Dataset\\\\training\\\\masks\\\\img\\\\3026.tif'"
      ]
     },
     "execution_count": 6,
     "metadata": {},
     "output_type": "execute_result"
    },
    {
     "data": {
      "text/plain": [
       "'C:\\\\Users\\\\fralu\\\\Documents\\\\GitHub\\\\anndl\\\\image-segmentation\\\\Segmentation_Dataset\\\\training\\\\images\\\\img\\\\3027.tif'"
      ]
     },
     "execution_count": 6,
     "metadata": {},
     "output_type": "execute_result"
    },
    {
     "data": {
      "text/plain": [
       "'C:\\\\Users\\\\fralu\\\\Documents\\\\GitHub\\\\anndl\\\\image-segmentation\\\\Segmentation_Dataset\\\\training\\\\masks\\\\img\\\\3027.tif'"
      ]
     },
     "execution_count": 6,
     "metadata": {},
     "output_type": "execute_result"
    },
    {
     "data": {
      "text/plain": [
       "'C:\\\\Users\\\\fralu\\\\Documents\\\\GitHub\\\\anndl\\\\image-segmentation\\\\Segmentation_Dataset\\\\training\\\\images\\\\img\\\\3032.tif'"
      ]
     },
     "execution_count": 6,
     "metadata": {},
     "output_type": "execute_result"
    },
    {
     "data": {
      "text/plain": [
       "'C:\\\\Users\\\\fralu\\\\Documents\\\\GitHub\\\\anndl\\\\image-segmentation\\\\Segmentation_Dataset\\\\training\\\\masks\\\\img\\\\3032.tif'"
      ]
     },
     "execution_count": 6,
     "metadata": {},
     "output_type": "execute_result"
    },
    {
     "data": {
      "text/plain": [
       "'C:\\\\Users\\\\fralu\\\\Documents\\\\GitHub\\\\anndl\\\\image-segmentation\\\\Segmentation_Dataset\\\\training\\\\images\\\\img\\\\3033.tif'"
      ]
     },
     "execution_count": 6,
     "metadata": {},
     "output_type": "execute_result"
    },
    {
     "data": {
      "text/plain": [
       "'C:\\\\Users\\\\fralu\\\\Documents\\\\GitHub\\\\anndl\\\\image-segmentation\\\\Segmentation_Dataset\\\\training\\\\masks\\\\img\\\\3033.tif'"
      ]
     },
     "execution_count": 6,
     "metadata": {},
     "output_type": "execute_result"
    },
    {
     "data": {
      "text/plain": [
       "'C:\\\\Users\\\\fralu\\\\Documents\\\\GitHub\\\\anndl\\\\image-segmentation\\\\Segmentation_Dataset\\\\training\\\\images\\\\img\\\\3034.tif'"
      ]
     },
     "execution_count": 6,
     "metadata": {},
     "output_type": "execute_result"
    },
    {
     "data": {
      "text/plain": [
       "'C:\\\\Users\\\\fralu\\\\Documents\\\\GitHub\\\\anndl\\\\image-segmentation\\\\Segmentation_Dataset\\\\training\\\\masks\\\\img\\\\3034.tif'"
      ]
     },
     "execution_count": 6,
     "metadata": {},
     "output_type": "execute_result"
    },
    {
     "data": {
      "text/plain": [
       "'C:\\\\Users\\\\fralu\\\\Documents\\\\GitHub\\\\anndl\\\\image-segmentation\\\\Segmentation_Dataset\\\\training\\\\images\\\\img\\\\3037.tif'"
      ]
     },
     "execution_count": 6,
     "metadata": {},
     "output_type": "execute_result"
    },
    {
     "data": {
      "text/plain": [
       "'C:\\\\Users\\\\fralu\\\\Documents\\\\GitHub\\\\anndl\\\\image-segmentation\\\\Segmentation_Dataset\\\\training\\\\masks\\\\img\\\\3037.tif'"
      ]
     },
     "execution_count": 6,
     "metadata": {},
     "output_type": "execute_result"
    },
    {
     "data": {
      "text/plain": [
       "'C:\\\\Users\\\\fralu\\\\Documents\\\\GitHub\\\\anndl\\\\image-segmentation\\\\Segmentation_Dataset\\\\training\\\\images\\\\img\\\\3038.tif'"
      ]
     },
     "execution_count": 6,
     "metadata": {},
     "output_type": "execute_result"
    },
    {
     "data": {
      "text/plain": [
       "'C:\\\\Users\\\\fralu\\\\Documents\\\\GitHub\\\\anndl\\\\image-segmentation\\\\Segmentation_Dataset\\\\training\\\\masks\\\\img\\\\3038.tif'"
      ]
     },
     "execution_count": 6,
     "metadata": {},
     "output_type": "execute_result"
    },
    {
     "data": {
      "text/plain": [
       "'C:\\\\Users\\\\fralu\\\\Documents\\\\GitHub\\\\anndl\\\\image-segmentation\\\\Segmentation_Dataset\\\\training\\\\images\\\\img\\\\304.tif'"
      ]
     },
     "execution_count": 6,
     "metadata": {},
     "output_type": "execute_result"
    },
    {
     "data": {
      "text/plain": [
       "'C:\\\\Users\\\\fralu\\\\Documents\\\\GitHub\\\\anndl\\\\image-segmentation\\\\Segmentation_Dataset\\\\training\\\\masks\\\\img\\\\304.tif'"
      ]
     },
     "execution_count": 6,
     "metadata": {},
     "output_type": "execute_result"
    },
    {
     "data": {
      "text/plain": [
       "'C:\\\\Users\\\\fralu\\\\Documents\\\\GitHub\\\\anndl\\\\image-segmentation\\\\Segmentation_Dataset\\\\training\\\\images\\\\img\\\\3044.tif'"
      ]
     },
     "execution_count": 6,
     "metadata": {},
     "output_type": "execute_result"
    },
    {
     "data": {
      "text/plain": [
       "'C:\\\\Users\\\\fralu\\\\Documents\\\\GitHub\\\\anndl\\\\image-segmentation\\\\Segmentation_Dataset\\\\training\\\\masks\\\\img\\\\3044.tif'"
      ]
     },
     "execution_count": 6,
     "metadata": {},
     "output_type": "execute_result"
    },
    {
     "data": {
      "text/plain": [
       "'C:\\\\Users\\\\fralu\\\\Documents\\\\GitHub\\\\anndl\\\\image-segmentation\\\\Segmentation_Dataset\\\\training\\\\images\\\\img\\\\3046.tif'"
      ]
     },
     "execution_count": 6,
     "metadata": {},
     "output_type": "execute_result"
    },
    {
     "data": {
      "text/plain": [
       "'C:\\\\Users\\\\fralu\\\\Documents\\\\GitHub\\\\anndl\\\\image-segmentation\\\\Segmentation_Dataset\\\\training\\\\masks\\\\img\\\\3046.tif'"
      ]
     },
     "execution_count": 6,
     "metadata": {},
     "output_type": "execute_result"
    },
    {
     "data": {
      "text/plain": [
       "'C:\\\\Users\\\\fralu\\\\Documents\\\\GitHub\\\\anndl\\\\image-segmentation\\\\Segmentation_Dataset\\\\training\\\\images\\\\img\\\\3048.tif'"
      ]
     },
     "execution_count": 6,
     "metadata": {},
     "output_type": "execute_result"
    },
    {
     "data": {
      "text/plain": [
       "'C:\\\\Users\\\\fralu\\\\Documents\\\\GitHub\\\\anndl\\\\image-segmentation\\\\Segmentation_Dataset\\\\training\\\\masks\\\\img\\\\3048.tif'"
      ]
     },
     "execution_count": 6,
     "metadata": {},
     "output_type": "execute_result"
    },
    {
     "data": {
      "text/plain": [
       "'C:\\\\Users\\\\fralu\\\\Documents\\\\GitHub\\\\anndl\\\\image-segmentation\\\\Segmentation_Dataset\\\\training\\\\images\\\\img\\\\3054.tif'"
      ]
     },
     "execution_count": 6,
     "metadata": {},
     "output_type": "execute_result"
    },
    {
     "data": {
      "text/plain": [
       "'C:\\\\Users\\\\fralu\\\\Documents\\\\GitHub\\\\anndl\\\\image-segmentation\\\\Segmentation_Dataset\\\\training\\\\masks\\\\img\\\\3054.tif'"
      ]
     },
     "execution_count": 6,
     "metadata": {},
     "output_type": "execute_result"
    },
    {
     "data": {
      "text/plain": [
       "'C:\\\\Users\\\\fralu\\\\Documents\\\\GitHub\\\\anndl\\\\image-segmentation\\\\Segmentation_Dataset\\\\training\\\\images\\\\img\\\\3058.tif'"
      ]
     },
     "execution_count": 6,
     "metadata": {},
     "output_type": "execute_result"
    },
    {
     "data": {
      "text/plain": [
       "'C:\\\\Users\\\\fralu\\\\Documents\\\\GitHub\\\\anndl\\\\image-segmentation\\\\Segmentation_Dataset\\\\training\\\\masks\\\\img\\\\3058.tif'"
      ]
     },
     "execution_count": 6,
     "metadata": {},
     "output_type": "execute_result"
    },
    {
     "data": {
      "text/plain": [
       "'C:\\\\Users\\\\fralu\\\\Documents\\\\GitHub\\\\anndl\\\\image-segmentation\\\\Segmentation_Dataset\\\\training\\\\images\\\\img\\\\3066.tif'"
      ]
     },
     "execution_count": 6,
     "metadata": {},
     "output_type": "execute_result"
    },
    {
     "data": {
      "text/plain": [
       "'C:\\\\Users\\\\fralu\\\\Documents\\\\GitHub\\\\anndl\\\\image-segmentation\\\\Segmentation_Dataset\\\\training\\\\masks\\\\img\\\\3066.tif'"
      ]
     },
     "execution_count": 6,
     "metadata": {},
     "output_type": "execute_result"
    },
    {
     "data": {
      "text/plain": [
       "'C:\\\\Users\\\\fralu\\\\Documents\\\\GitHub\\\\anndl\\\\image-segmentation\\\\Segmentation_Dataset\\\\training\\\\images\\\\img\\\\3069.tif'"
      ]
     },
     "execution_count": 6,
     "metadata": {},
     "output_type": "execute_result"
    },
    {
     "data": {
      "text/plain": [
       "'C:\\\\Users\\\\fralu\\\\Documents\\\\GitHub\\\\anndl\\\\image-segmentation\\\\Segmentation_Dataset\\\\training\\\\masks\\\\img\\\\3069.tif'"
      ]
     },
     "execution_count": 6,
     "metadata": {},
     "output_type": "execute_result"
    },
    {
     "data": {
      "text/plain": [
       "'C:\\\\Users\\\\fralu\\\\Documents\\\\GitHub\\\\anndl\\\\image-segmentation\\\\Segmentation_Dataset\\\\training\\\\images\\\\img\\\\3070.tif'"
      ]
     },
     "execution_count": 6,
     "metadata": {},
     "output_type": "execute_result"
    },
    {
     "data": {
      "text/plain": [
       "'C:\\\\Users\\\\fralu\\\\Documents\\\\GitHub\\\\anndl\\\\image-segmentation\\\\Segmentation_Dataset\\\\training\\\\masks\\\\img\\\\3070.tif'"
      ]
     },
     "execution_count": 6,
     "metadata": {},
     "output_type": "execute_result"
    },
    {
     "data": {
      "text/plain": [
       "'C:\\\\Users\\\\fralu\\\\Documents\\\\GitHub\\\\anndl\\\\image-segmentation\\\\Segmentation_Dataset\\\\training\\\\images\\\\img\\\\3078.tif'"
      ]
     },
     "execution_count": 6,
     "metadata": {},
     "output_type": "execute_result"
    },
    {
     "data": {
      "text/plain": [
       "'C:\\\\Users\\\\fralu\\\\Documents\\\\GitHub\\\\anndl\\\\image-segmentation\\\\Segmentation_Dataset\\\\training\\\\masks\\\\img\\\\3078.tif'"
      ]
     },
     "execution_count": 6,
     "metadata": {},
     "output_type": "execute_result"
    },
    {
     "data": {
      "text/plain": [
       "'C:\\\\Users\\\\fralu\\\\Documents\\\\GitHub\\\\anndl\\\\image-segmentation\\\\Segmentation_Dataset\\\\training\\\\images\\\\img\\\\3090.tif'"
      ]
     },
     "execution_count": 6,
     "metadata": {},
     "output_type": "execute_result"
    },
    {
     "data": {
      "text/plain": [
       "'C:\\\\Users\\\\fralu\\\\Documents\\\\GitHub\\\\anndl\\\\image-segmentation\\\\Segmentation_Dataset\\\\training\\\\masks\\\\img\\\\3090.tif'"
      ]
     },
     "execution_count": 6,
     "metadata": {},
     "output_type": "execute_result"
    },
    {
     "data": {
      "text/plain": [
       "'C:\\\\Users\\\\fralu\\\\Documents\\\\GitHub\\\\anndl\\\\image-segmentation\\\\Segmentation_Dataset\\\\training\\\\images\\\\img\\\\3092.tif'"
      ]
     },
     "execution_count": 6,
     "metadata": {},
     "output_type": "execute_result"
    },
    {
     "data": {
      "text/plain": [
       "'C:\\\\Users\\\\fralu\\\\Documents\\\\GitHub\\\\anndl\\\\image-segmentation\\\\Segmentation_Dataset\\\\training\\\\masks\\\\img\\\\3092.tif'"
      ]
     },
     "execution_count": 6,
     "metadata": {},
     "output_type": "execute_result"
    },
    {
     "data": {
      "text/plain": [
       "'C:\\\\Users\\\\fralu\\\\Documents\\\\GitHub\\\\anndl\\\\image-segmentation\\\\Segmentation_Dataset\\\\training\\\\images\\\\img\\\\3096.tif'"
      ]
     },
     "execution_count": 6,
     "metadata": {},
     "output_type": "execute_result"
    },
    {
     "data": {
      "text/plain": [
       "'C:\\\\Users\\\\fralu\\\\Documents\\\\GitHub\\\\anndl\\\\image-segmentation\\\\Segmentation_Dataset\\\\training\\\\masks\\\\img\\\\3096.tif'"
      ]
     },
     "execution_count": 6,
     "metadata": {},
     "output_type": "execute_result"
    },
    {
     "data": {
      "text/plain": [
       "'C:\\\\Users\\\\fralu\\\\Documents\\\\GitHub\\\\anndl\\\\image-segmentation\\\\Segmentation_Dataset\\\\training\\\\images\\\\img\\\\31.tif'"
      ]
     },
     "execution_count": 6,
     "metadata": {},
     "output_type": "execute_result"
    },
    {
     "data": {
      "text/plain": [
       "'C:\\\\Users\\\\fralu\\\\Documents\\\\GitHub\\\\anndl\\\\image-segmentation\\\\Segmentation_Dataset\\\\training\\\\masks\\\\img\\\\31.tif'"
      ]
     },
     "execution_count": 6,
     "metadata": {},
     "output_type": "execute_result"
    },
    {
     "data": {
      "text/plain": [
       "'C:\\\\Users\\\\fralu\\\\Documents\\\\GitHub\\\\anndl\\\\image-segmentation\\\\Segmentation_Dataset\\\\training\\\\images\\\\img\\\\3100.tif'"
      ]
     },
     "execution_count": 6,
     "metadata": {},
     "output_type": "execute_result"
    },
    {
     "data": {
      "text/plain": [
       "'C:\\\\Users\\\\fralu\\\\Documents\\\\GitHub\\\\anndl\\\\image-segmentation\\\\Segmentation_Dataset\\\\training\\\\masks\\\\img\\\\3100.tif'"
      ]
     },
     "execution_count": 6,
     "metadata": {},
     "output_type": "execute_result"
    },
    {
     "data": {
      "text/plain": [
       "'C:\\\\Users\\\\fralu\\\\Documents\\\\GitHub\\\\anndl\\\\image-segmentation\\\\Segmentation_Dataset\\\\training\\\\images\\\\img\\\\3104.tif'"
      ]
     },
     "execution_count": 6,
     "metadata": {},
     "output_type": "execute_result"
    },
    {
     "data": {
      "text/plain": [
       "'C:\\\\Users\\\\fralu\\\\Documents\\\\GitHub\\\\anndl\\\\image-segmentation\\\\Segmentation_Dataset\\\\training\\\\masks\\\\img\\\\3104.tif'"
      ]
     },
     "execution_count": 6,
     "metadata": {},
     "output_type": "execute_result"
    },
    {
     "data": {
      "text/plain": [
       "'C:\\\\Users\\\\fralu\\\\Documents\\\\GitHub\\\\anndl\\\\image-segmentation\\\\Segmentation_Dataset\\\\training\\\\images\\\\img\\\\3107.tif'"
      ]
     },
     "execution_count": 6,
     "metadata": {},
     "output_type": "execute_result"
    },
    {
     "data": {
      "text/plain": [
       "'C:\\\\Users\\\\fralu\\\\Documents\\\\GitHub\\\\anndl\\\\image-segmentation\\\\Segmentation_Dataset\\\\training\\\\masks\\\\img\\\\3107.tif'"
      ]
     },
     "execution_count": 6,
     "metadata": {},
     "output_type": "execute_result"
    },
    {
     "data": {
      "text/plain": [
       "'C:\\\\Users\\\\fralu\\\\Documents\\\\GitHub\\\\anndl\\\\image-segmentation\\\\Segmentation_Dataset\\\\training\\\\images\\\\img\\\\3114.tif'"
      ]
     },
     "execution_count": 6,
     "metadata": {},
     "output_type": "execute_result"
    },
    {
     "data": {
      "text/plain": [
       "'C:\\\\Users\\\\fralu\\\\Documents\\\\GitHub\\\\anndl\\\\image-segmentation\\\\Segmentation_Dataset\\\\training\\\\masks\\\\img\\\\3114.tif'"
      ]
     },
     "execution_count": 6,
     "metadata": {},
     "output_type": "execute_result"
    },
    {
     "data": {
      "text/plain": [
       "'C:\\\\Users\\\\fralu\\\\Documents\\\\GitHub\\\\anndl\\\\image-segmentation\\\\Segmentation_Dataset\\\\training\\\\images\\\\img\\\\3119.tif'"
      ]
     },
     "execution_count": 6,
     "metadata": {},
     "output_type": "execute_result"
    },
    {
     "data": {
      "text/plain": [
       "'C:\\\\Users\\\\fralu\\\\Documents\\\\GitHub\\\\anndl\\\\image-segmentation\\\\Segmentation_Dataset\\\\training\\\\masks\\\\img\\\\3119.tif'"
      ]
     },
     "execution_count": 6,
     "metadata": {},
     "output_type": "execute_result"
    },
    {
     "data": {
      "text/plain": [
       "'C:\\\\Users\\\\fralu\\\\Documents\\\\GitHub\\\\anndl\\\\image-segmentation\\\\Segmentation_Dataset\\\\training\\\\images\\\\img\\\\3123.tif'"
      ]
     },
     "execution_count": 6,
     "metadata": {},
     "output_type": "execute_result"
    },
    {
     "data": {
      "text/plain": [
       "'C:\\\\Users\\\\fralu\\\\Documents\\\\GitHub\\\\anndl\\\\image-segmentation\\\\Segmentation_Dataset\\\\training\\\\masks\\\\img\\\\3123.tif'"
      ]
     },
     "execution_count": 6,
     "metadata": {},
     "output_type": "execute_result"
    },
    {
     "data": {
      "text/plain": [
       "'C:\\\\Users\\\\fralu\\\\Documents\\\\GitHub\\\\anndl\\\\image-segmentation\\\\Segmentation_Dataset\\\\training\\\\images\\\\img\\\\3124.tif'"
      ]
     },
     "execution_count": 6,
     "metadata": {},
     "output_type": "execute_result"
    },
    {
     "data": {
      "text/plain": [
       "'C:\\\\Users\\\\fralu\\\\Documents\\\\GitHub\\\\anndl\\\\image-segmentation\\\\Segmentation_Dataset\\\\training\\\\masks\\\\img\\\\3124.tif'"
      ]
     },
     "execution_count": 6,
     "metadata": {},
     "output_type": "execute_result"
    },
    {
     "data": {
      "text/plain": [
       "'C:\\\\Users\\\\fralu\\\\Documents\\\\GitHub\\\\anndl\\\\image-segmentation\\\\Segmentation_Dataset\\\\training\\\\images\\\\img\\\\3129.tif'"
      ]
     },
     "execution_count": 6,
     "metadata": {},
     "output_type": "execute_result"
    },
    {
     "data": {
      "text/plain": [
       "'C:\\\\Users\\\\fralu\\\\Documents\\\\GitHub\\\\anndl\\\\image-segmentation\\\\Segmentation_Dataset\\\\training\\\\masks\\\\img\\\\3129.tif'"
      ]
     },
     "execution_count": 6,
     "metadata": {},
     "output_type": "execute_result"
    },
    {
     "data": {
      "text/plain": [
       "'C:\\\\Users\\\\fralu\\\\Documents\\\\GitHub\\\\anndl\\\\image-segmentation\\\\Segmentation_Dataset\\\\training\\\\images\\\\img\\\\3148.tif'"
      ]
     },
     "execution_count": 6,
     "metadata": {},
     "output_type": "execute_result"
    },
    {
     "data": {
      "text/plain": [
       "'C:\\\\Users\\\\fralu\\\\Documents\\\\GitHub\\\\anndl\\\\image-segmentation\\\\Segmentation_Dataset\\\\training\\\\masks\\\\img\\\\3148.tif'"
      ]
     },
     "execution_count": 6,
     "metadata": {},
     "output_type": "execute_result"
    },
    {
     "data": {
      "text/plain": [
       "'C:\\\\Users\\\\fralu\\\\Documents\\\\GitHub\\\\anndl\\\\image-segmentation\\\\Segmentation_Dataset\\\\training\\\\images\\\\img\\\\315.tif'"
      ]
     },
     "execution_count": 6,
     "metadata": {},
     "output_type": "execute_result"
    },
    {
     "data": {
      "text/plain": [
       "'C:\\\\Users\\\\fralu\\\\Documents\\\\GitHub\\\\anndl\\\\image-segmentation\\\\Segmentation_Dataset\\\\training\\\\masks\\\\img\\\\315.tif'"
      ]
     },
     "execution_count": 6,
     "metadata": {},
     "output_type": "execute_result"
    },
    {
     "data": {
      "text/plain": [
       "'C:\\\\Users\\\\fralu\\\\Documents\\\\GitHub\\\\anndl\\\\image-segmentation\\\\Segmentation_Dataset\\\\training\\\\images\\\\img\\\\3150.tif'"
      ]
     },
     "execution_count": 6,
     "metadata": {},
     "output_type": "execute_result"
    },
    {
     "data": {
      "text/plain": [
       "'C:\\\\Users\\\\fralu\\\\Documents\\\\GitHub\\\\anndl\\\\image-segmentation\\\\Segmentation_Dataset\\\\training\\\\masks\\\\img\\\\3150.tif'"
      ]
     },
     "execution_count": 6,
     "metadata": {},
     "output_type": "execute_result"
    },
    {
     "data": {
      "text/plain": [
       "'C:\\\\Users\\\\fralu\\\\Documents\\\\GitHub\\\\anndl\\\\image-segmentation\\\\Segmentation_Dataset\\\\training\\\\images\\\\img\\\\3166.tif'"
      ]
     },
     "execution_count": 6,
     "metadata": {},
     "output_type": "execute_result"
    },
    {
     "data": {
      "text/plain": [
       "'C:\\\\Users\\\\fralu\\\\Documents\\\\GitHub\\\\anndl\\\\image-segmentation\\\\Segmentation_Dataset\\\\training\\\\masks\\\\img\\\\3166.tif'"
      ]
     },
     "execution_count": 6,
     "metadata": {},
     "output_type": "execute_result"
    },
    {
     "data": {
      "text/plain": [
       "'C:\\\\Users\\\\fralu\\\\Documents\\\\GitHub\\\\anndl\\\\image-segmentation\\\\Segmentation_Dataset\\\\training\\\\images\\\\img\\\\3177.tif'"
      ]
     },
     "execution_count": 6,
     "metadata": {},
     "output_type": "execute_result"
    },
    {
     "data": {
      "text/plain": [
       "'C:\\\\Users\\\\fralu\\\\Documents\\\\GitHub\\\\anndl\\\\image-segmentation\\\\Segmentation_Dataset\\\\training\\\\masks\\\\img\\\\3177.tif'"
      ]
     },
     "execution_count": 6,
     "metadata": {},
     "output_type": "execute_result"
    },
    {
     "data": {
      "text/plain": [
       "'C:\\\\Users\\\\fralu\\\\Documents\\\\GitHub\\\\anndl\\\\image-segmentation\\\\Segmentation_Dataset\\\\training\\\\images\\\\img\\\\3190.tif'"
      ]
     },
     "execution_count": 6,
     "metadata": {},
     "output_type": "execute_result"
    },
    {
     "data": {
      "text/plain": [
       "'C:\\\\Users\\\\fralu\\\\Documents\\\\GitHub\\\\anndl\\\\image-segmentation\\\\Segmentation_Dataset\\\\training\\\\masks\\\\img\\\\3190.tif'"
      ]
     },
     "execution_count": 6,
     "metadata": {},
     "output_type": "execute_result"
    },
    {
     "data": {
      "text/plain": [
       "'C:\\\\Users\\\\fralu\\\\Documents\\\\GitHub\\\\anndl\\\\image-segmentation\\\\Segmentation_Dataset\\\\training\\\\images\\\\img\\\\3194.tif'"
      ]
     },
     "execution_count": 6,
     "metadata": {},
     "output_type": "execute_result"
    },
    {
     "data": {
      "text/plain": [
       "'C:\\\\Users\\\\fralu\\\\Documents\\\\GitHub\\\\anndl\\\\image-segmentation\\\\Segmentation_Dataset\\\\training\\\\masks\\\\img\\\\3194.tif'"
      ]
     },
     "execution_count": 6,
     "metadata": {},
     "output_type": "execute_result"
    },
    {
     "data": {
      "text/plain": [
       "'C:\\\\Users\\\\fralu\\\\Documents\\\\GitHub\\\\anndl\\\\image-segmentation\\\\Segmentation_Dataset\\\\training\\\\images\\\\img\\\\3198.tif'"
      ]
     },
     "execution_count": 6,
     "metadata": {},
     "output_type": "execute_result"
    },
    {
     "data": {
      "text/plain": [
       "'C:\\\\Users\\\\fralu\\\\Documents\\\\GitHub\\\\anndl\\\\image-segmentation\\\\Segmentation_Dataset\\\\training\\\\masks\\\\img\\\\3198.tif'"
      ]
     },
     "execution_count": 6,
     "metadata": {},
     "output_type": "execute_result"
    },
    {
     "data": {
      "text/plain": [
       "'C:\\\\Users\\\\fralu\\\\Documents\\\\GitHub\\\\anndl\\\\image-segmentation\\\\Segmentation_Dataset\\\\training\\\\images\\\\img\\\\3200.tif'"
      ]
     },
     "execution_count": 6,
     "metadata": {},
     "output_type": "execute_result"
    },
    {
     "data": {
      "text/plain": [
       "'C:\\\\Users\\\\fralu\\\\Documents\\\\GitHub\\\\anndl\\\\image-segmentation\\\\Segmentation_Dataset\\\\training\\\\masks\\\\img\\\\3200.tif'"
      ]
     },
     "execution_count": 6,
     "metadata": {},
     "output_type": "execute_result"
    },
    {
     "data": {
      "text/plain": [
       "'C:\\\\Users\\\\fralu\\\\Documents\\\\GitHub\\\\anndl\\\\image-segmentation\\\\Segmentation_Dataset\\\\training\\\\images\\\\img\\\\3202.tif'"
      ]
     },
     "execution_count": 6,
     "metadata": {},
     "output_type": "execute_result"
    },
    {
     "data": {
      "text/plain": [
       "'C:\\\\Users\\\\fralu\\\\Documents\\\\GitHub\\\\anndl\\\\image-segmentation\\\\Segmentation_Dataset\\\\training\\\\masks\\\\img\\\\3202.tif'"
      ]
     },
     "execution_count": 6,
     "metadata": {},
     "output_type": "execute_result"
    },
    {
     "data": {
      "text/plain": [
       "'C:\\\\Users\\\\fralu\\\\Documents\\\\GitHub\\\\anndl\\\\image-segmentation\\\\Segmentation_Dataset\\\\training\\\\images\\\\img\\\\3208.tif'"
      ]
     },
     "execution_count": 6,
     "metadata": {},
     "output_type": "execute_result"
    },
    {
     "data": {
      "text/plain": [
       "'C:\\\\Users\\\\fralu\\\\Documents\\\\GitHub\\\\anndl\\\\image-segmentation\\\\Segmentation_Dataset\\\\training\\\\masks\\\\img\\\\3208.tif'"
      ]
     },
     "execution_count": 6,
     "metadata": {},
     "output_type": "execute_result"
    },
    {
     "data": {
      "text/plain": [
       "'C:\\\\Users\\\\fralu\\\\Documents\\\\GitHub\\\\anndl\\\\image-segmentation\\\\Segmentation_Dataset\\\\training\\\\images\\\\img\\\\3209.tif'"
      ]
     },
     "execution_count": 6,
     "metadata": {},
     "output_type": "execute_result"
    },
    {
     "data": {
      "text/plain": [
       "'C:\\\\Users\\\\fralu\\\\Documents\\\\GitHub\\\\anndl\\\\image-segmentation\\\\Segmentation_Dataset\\\\training\\\\masks\\\\img\\\\3209.tif'"
      ]
     },
     "execution_count": 6,
     "metadata": {},
     "output_type": "execute_result"
    },
    {
     "data": {
      "text/plain": [
       "'C:\\\\Users\\\\fralu\\\\Documents\\\\GitHub\\\\anndl\\\\image-segmentation\\\\Segmentation_Dataset\\\\training\\\\images\\\\img\\\\3211.tif'"
      ]
     },
     "execution_count": 6,
     "metadata": {},
     "output_type": "execute_result"
    },
    {
     "data": {
      "text/plain": [
       "'C:\\\\Users\\\\fralu\\\\Documents\\\\GitHub\\\\anndl\\\\image-segmentation\\\\Segmentation_Dataset\\\\training\\\\masks\\\\img\\\\3211.tif'"
      ]
     },
     "execution_count": 6,
     "metadata": {},
     "output_type": "execute_result"
    },
    {
     "data": {
      "text/plain": [
       "'C:\\\\Users\\\\fralu\\\\Documents\\\\GitHub\\\\anndl\\\\image-segmentation\\\\Segmentation_Dataset\\\\training\\\\images\\\\img\\\\3212.tif'"
      ]
     },
     "execution_count": 6,
     "metadata": {},
     "output_type": "execute_result"
    },
    {
     "data": {
      "text/plain": [
       "'C:\\\\Users\\\\fralu\\\\Documents\\\\GitHub\\\\anndl\\\\image-segmentation\\\\Segmentation_Dataset\\\\training\\\\masks\\\\img\\\\3212.tif'"
      ]
     },
     "execution_count": 6,
     "metadata": {},
     "output_type": "execute_result"
    },
    {
     "data": {
      "text/plain": [
       "'C:\\\\Users\\\\fralu\\\\Documents\\\\GitHub\\\\anndl\\\\image-segmentation\\\\Segmentation_Dataset\\\\training\\\\images\\\\img\\\\3213.tif'"
      ]
     },
     "execution_count": 6,
     "metadata": {},
     "output_type": "execute_result"
    },
    {
     "data": {
      "text/plain": [
       "'C:\\\\Users\\\\fralu\\\\Documents\\\\GitHub\\\\anndl\\\\image-segmentation\\\\Segmentation_Dataset\\\\training\\\\masks\\\\img\\\\3213.tif'"
      ]
     },
     "execution_count": 6,
     "metadata": {},
     "output_type": "execute_result"
    },
    {
     "data": {
      "text/plain": [
       "'C:\\\\Users\\\\fralu\\\\Documents\\\\GitHub\\\\anndl\\\\image-segmentation\\\\Segmentation_Dataset\\\\training\\\\images\\\\img\\\\3218.tif'"
      ]
     },
     "execution_count": 6,
     "metadata": {},
     "output_type": "execute_result"
    },
    {
     "data": {
      "text/plain": [
       "'C:\\\\Users\\\\fralu\\\\Documents\\\\GitHub\\\\anndl\\\\image-segmentation\\\\Segmentation_Dataset\\\\training\\\\masks\\\\img\\\\3218.tif'"
      ]
     },
     "execution_count": 6,
     "metadata": {},
     "output_type": "execute_result"
    },
    {
     "data": {
      "text/plain": [
       "'C:\\\\Users\\\\fralu\\\\Documents\\\\GitHub\\\\anndl\\\\image-segmentation\\\\Segmentation_Dataset\\\\training\\\\images\\\\img\\\\3219.tif'"
      ]
     },
     "execution_count": 6,
     "metadata": {},
     "output_type": "execute_result"
    },
    {
     "data": {
      "text/plain": [
       "'C:\\\\Users\\\\fralu\\\\Documents\\\\GitHub\\\\anndl\\\\image-segmentation\\\\Segmentation_Dataset\\\\training\\\\masks\\\\img\\\\3219.tif'"
      ]
     },
     "execution_count": 6,
     "metadata": {},
     "output_type": "execute_result"
    },
    {
     "data": {
      "text/plain": [
       "'C:\\\\Users\\\\fralu\\\\Documents\\\\GitHub\\\\anndl\\\\image-segmentation\\\\Segmentation_Dataset\\\\training\\\\images\\\\img\\\\3220.tif'"
      ]
     },
     "execution_count": 6,
     "metadata": {},
     "output_type": "execute_result"
    },
    {
     "data": {
      "text/plain": [
       "'C:\\\\Users\\\\fralu\\\\Documents\\\\GitHub\\\\anndl\\\\image-segmentation\\\\Segmentation_Dataset\\\\training\\\\masks\\\\img\\\\3220.tif'"
      ]
     },
     "execution_count": 6,
     "metadata": {},
     "output_type": "execute_result"
    },
    {
     "data": {
      "text/plain": [
       "'C:\\\\Users\\\\fralu\\\\Documents\\\\GitHub\\\\anndl\\\\image-segmentation\\\\Segmentation_Dataset\\\\training\\\\images\\\\img\\\\3222.tif'"
      ]
     },
     "execution_count": 6,
     "metadata": {},
     "output_type": "execute_result"
    },
    {
     "data": {
      "text/plain": [
       "'C:\\\\Users\\\\fralu\\\\Documents\\\\GitHub\\\\anndl\\\\image-segmentation\\\\Segmentation_Dataset\\\\training\\\\masks\\\\img\\\\3222.tif'"
      ]
     },
     "execution_count": 6,
     "metadata": {},
     "output_type": "execute_result"
    },
    {
     "data": {
      "text/plain": [
       "'C:\\\\Users\\\\fralu\\\\Documents\\\\GitHub\\\\anndl\\\\image-segmentation\\\\Segmentation_Dataset\\\\training\\\\images\\\\img\\\\3223.tif'"
      ]
     },
     "execution_count": 6,
     "metadata": {},
     "output_type": "execute_result"
    },
    {
     "data": {
      "text/plain": [
       "'C:\\\\Users\\\\fralu\\\\Documents\\\\GitHub\\\\anndl\\\\image-segmentation\\\\Segmentation_Dataset\\\\training\\\\masks\\\\img\\\\3223.tif'"
      ]
     },
     "execution_count": 6,
     "metadata": {},
     "output_type": "execute_result"
    },
    {
     "data": {
      "text/plain": [
       "'C:\\\\Users\\\\fralu\\\\Documents\\\\GitHub\\\\anndl\\\\image-segmentation\\\\Segmentation_Dataset\\\\training\\\\images\\\\img\\\\3227.tif'"
      ]
     },
     "execution_count": 6,
     "metadata": {},
     "output_type": "execute_result"
    },
    {
     "data": {
      "text/plain": [
       "'C:\\\\Users\\\\fralu\\\\Documents\\\\GitHub\\\\anndl\\\\image-segmentation\\\\Segmentation_Dataset\\\\training\\\\masks\\\\img\\\\3227.tif'"
      ]
     },
     "execution_count": 6,
     "metadata": {},
     "output_type": "execute_result"
    },
    {
     "data": {
      "text/plain": [
       "'C:\\\\Users\\\\fralu\\\\Documents\\\\GitHub\\\\anndl\\\\image-segmentation\\\\Segmentation_Dataset\\\\training\\\\images\\\\img\\\\3228.tif'"
      ]
     },
     "execution_count": 6,
     "metadata": {},
     "output_type": "execute_result"
    },
    {
     "data": {
      "text/plain": [
       "'C:\\\\Users\\\\fralu\\\\Documents\\\\GitHub\\\\anndl\\\\image-segmentation\\\\Segmentation_Dataset\\\\training\\\\masks\\\\img\\\\3228.tif'"
      ]
     },
     "execution_count": 6,
     "metadata": {},
     "output_type": "execute_result"
    },
    {
     "data": {
      "text/plain": [
       "'C:\\\\Users\\\\fralu\\\\Documents\\\\GitHub\\\\anndl\\\\image-segmentation\\\\Segmentation_Dataset\\\\training\\\\images\\\\img\\\\3234.tif'"
      ]
     },
     "execution_count": 6,
     "metadata": {},
     "output_type": "execute_result"
    },
    {
     "data": {
      "text/plain": [
       "'C:\\\\Users\\\\fralu\\\\Documents\\\\GitHub\\\\anndl\\\\image-segmentation\\\\Segmentation_Dataset\\\\training\\\\masks\\\\img\\\\3234.tif'"
      ]
     },
     "execution_count": 6,
     "metadata": {},
     "output_type": "execute_result"
    },
    {
     "data": {
      "text/plain": [
       "'C:\\\\Users\\\\fralu\\\\Documents\\\\GitHub\\\\anndl\\\\image-segmentation\\\\Segmentation_Dataset\\\\training\\\\images\\\\img\\\\3235.tif'"
      ]
     },
     "execution_count": 6,
     "metadata": {},
     "output_type": "execute_result"
    },
    {
     "data": {
      "text/plain": [
       "'C:\\\\Users\\\\fralu\\\\Documents\\\\GitHub\\\\anndl\\\\image-segmentation\\\\Segmentation_Dataset\\\\training\\\\masks\\\\img\\\\3235.tif'"
      ]
     },
     "execution_count": 6,
     "metadata": {},
     "output_type": "execute_result"
    },
    {
     "data": {
      "text/plain": [
       "'C:\\\\Users\\\\fralu\\\\Documents\\\\GitHub\\\\anndl\\\\image-segmentation\\\\Segmentation_Dataset\\\\training\\\\images\\\\img\\\\324.tif'"
      ]
     },
     "execution_count": 6,
     "metadata": {},
     "output_type": "execute_result"
    },
    {
     "data": {
      "text/plain": [
       "'C:\\\\Users\\\\fralu\\\\Documents\\\\GitHub\\\\anndl\\\\image-segmentation\\\\Segmentation_Dataset\\\\training\\\\masks\\\\img\\\\324.tif'"
      ]
     },
     "execution_count": 6,
     "metadata": {},
     "output_type": "execute_result"
    },
    {
     "data": {
      "text/plain": [
       "'C:\\\\Users\\\\fralu\\\\Documents\\\\GitHub\\\\anndl\\\\image-segmentation\\\\Segmentation_Dataset\\\\training\\\\images\\\\img\\\\3243.tif'"
      ]
     },
     "execution_count": 6,
     "metadata": {},
     "output_type": "execute_result"
    },
    {
     "data": {
      "text/plain": [
       "'C:\\\\Users\\\\fralu\\\\Documents\\\\GitHub\\\\anndl\\\\image-segmentation\\\\Segmentation_Dataset\\\\training\\\\masks\\\\img\\\\3243.tif'"
      ]
     },
     "execution_count": 6,
     "metadata": {},
     "output_type": "execute_result"
    },
    {
     "data": {
      "text/plain": [
       "'C:\\\\Users\\\\fralu\\\\Documents\\\\GitHub\\\\anndl\\\\image-segmentation\\\\Segmentation_Dataset\\\\training\\\\images\\\\img\\\\3245.tif'"
      ]
     },
     "execution_count": 6,
     "metadata": {},
     "output_type": "execute_result"
    },
    {
     "data": {
      "text/plain": [
       "'C:\\\\Users\\\\fralu\\\\Documents\\\\GitHub\\\\anndl\\\\image-segmentation\\\\Segmentation_Dataset\\\\training\\\\masks\\\\img\\\\3245.tif'"
      ]
     },
     "execution_count": 6,
     "metadata": {},
     "output_type": "execute_result"
    },
    {
     "data": {
      "text/plain": [
       "'C:\\\\Users\\\\fralu\\\\Documents\\\\GitHub\\\\anndl\\\\image-segmentation\\\\Segmentation_Dataset\\\\training\\\\images\\\\img\\\\3248.tif'"
      ]
     },
     "execution_count": 6,
     "metadata": {},
     "output_type": "execute_result"
    },
    {
     "data": {
      "text/plain": [
       "'C:\\\\Users\\\\fralu\\\\Documents\\\\GitHub\\\\anndl\\\\image-segmentation\\\\Segmentation_Dataset\\\\training\\\\masks\\\\img\\\\3248.tif'"
      ]
     },
     "execution_count": 6,
     "metadata": {},
     "output_type": "execute_result"
    },
    {
     "data": {
      "text/plain": [
       "'C:\\\\Users\\\\fralu\\\\Documents\\\\GitHub\\\\anndl\\\\image-segmentation\\\\Segmentation_Dataset\\\\training\\\\images\\\\img\\\\3256.tif'"
      ]
     },
     "execution_count": 6,
     "metadata": {},
     "output_type": "execute_result"
    },
    {
     "data": {
      "text/plain": [
       "'C:\\\\Users\\\\fralu\\\\Documents\\\\GitHub\\\\anndl\\\\image-segmentation\\\\Segmentation_Dataset\\\\training\\\\masks\\\\img\\\\3256.tif'"
      ]
     },
     "execution_count": 6,
     "metadata": {},
     "output_type": "execute_result"
    },
    {
     "data": {
      "text/plain": [
       "'C:\\\\Users\\\\fralu\\\\Documents\\\\GitHub\\\\anndl\\\\image-segmentation\\\\Segmentation_Dataset\\\\training\\\\images\\\\img\\\\3259.tif'"
      ]
     },
     "execution_count": 6,
     "metadata": {},
     "output_type": "execute_result"
    },
    {
     "data": {
      "text/plain": [
       "'C:\\\\Users\\\\fralu\\\\Documents\\\\GitHub\\\\anndl\\\\image-segmentation\\\\Segmentation_Dataset\\\\training\\\\masks\\\\img\\\\3259.tif'"
      ]
     },
     "execution_count": 6,
     "metadata": {},
     "output_type": "execute_result"
    },
    {
     "data": {
      "text/plain": [
       "'C:\\\\Users\\\\fralu\\\\Documents\\\\GitHub\\\\anndl\\\\image-segmentation\\\\Segmentation_Dataset\\\\training\\\\images\\\\img\\\\327.tif'"
      ]
     },
     "execution_count": 6,
     "metadata": {},
     "output_type": "execute_result"
    },
    {
     "data": {
      "text/plain": [
       "'C:\\\\Users\\\\fralu\\\\Documents\\\\GitHub\\\\anndl\\\\image-segmentation\\\\Segmentation_Dataset\\\\training\\\\masks\\\\img\\\\327.tif'"
      ]
     },
     "execution_count": 6,
     "metadata": {},
     "output_type": "execute_result"
    },
    {
     "data": {
      "text/plain": [
       "'C:\\\\Users\\\\fralu\\\\Documents\\\\GitHub\\\\anndl\\\\image-segmentation\\\\Segmentation_Dataset\\\\training\\\\images\\\\img\\\\3272.tif'"
      ]
     },
     "execution_count": 6,
     "metadata": {},
     "output_type": "execute_result"
    },
    {
     "data": {
      "text/plain": [
       "'C:\\\\Users\\\\fralu\\\\Documents\\\\GitHub\\\\anndl\\\\image-segmentation\\\\Segmentation_Dataset\\\\training\\\\masks\\\\img\\\\3272.tif'"
      ]
     },
     "execution_count": 6,
     "metadata": {},
     "output_type": "execute_result"
    },
    {
     "data": {
      "text/plain": [
       "'C:\\\\Users\\\\fralu\\\\Documents\\\\GitHub\\\\anndl\\\\image-segmentation\\\\Segmentation_Dataset\\\\training\\\\images\\\\img\\\\3273.tif'"
      ]
     },
     "execution_count": 6,
     "metadata": {},
     "output_type": "execute_result"
    },
    {
     "data": {
      "text/plain": [
       "'C:\\\\Users\\\\fralu\\\\Documents\\\\GitHub\\\\anndl\\\\image-segmentation\\\\Segmentation_Dataset\\\\training\\\\masks\\\\img\\\\3273.tif'"
      ]
     },
     "execution_count": 6,
     "metadata": {},
     "output_type": "execute_result"
    },
    {
     "data": {
      "text/plain": [
       "'C:\\\\Users\\\\fralu\\\\Documents\\\\GitHub\\\\anndl\\\\image-segmentation\\\\Segmentation_Dataset\\\\training\\\\images\\\\img\\\\3275.tif'"
      ]
     },
     "execution_count": 6,
     "metadata": {},
     "output_type": "execute_result"
    },
    {
     "data": {
      "text/plain": [
       "'C:\\\\Users\\\\fralu\\\\Documents\\\\GitHub\\\\anndl\\\\image-segmentation\\\\Segmentation_Dataset\\\\training\\\\masks\\\\img\\\\3275.tif'"
      ]
     },
     "execution_count": 6,
     "metadata": {},
     "output_type": "execute_result"
    },
    {
     "data": {
      "text/plain": [
       "'C:\\\\Users\\\\fralu\\\\Documents\\\\GitHub\\\\anndl\\\\image-segmentation\\\\Segmentation_Dataset\\\\training\\\\images\\\\img\\\\3277.tif'"
      ]
     },
     "execution_count": 6,
     "metadata": {},
     "output_type": "execute_result"
    },
    {
     "data": {
      "text/plain": [
       "'C:\\\\Users\\\\fralu\\\\Documents\\\\GitHub\\\\anndl\\\\image-segmentation\\\\Segmentation_Dataset\\\\training\\\\masks\\\\img\\\\3277.tif'"
      ]
     },
     "execution_count": 6,
     "metadata": {},
     "output_type": "execute_result"
    },
    {
     "data": {
      "text/plain": [
       "'C:\\\\Users\\\\fralu\\\\Documents\\\\GitHub\\\\anndl\\\\image-segmentation\\\\Segmentation_Dataset\\\\training\\\\images\\\\img\\\\3278.tif'"
      ]
     },
     "execution_count": 6,
     "metadata": {},
     "output_type": "execute_result"
    },
    {
     "data": {
      "text/plain": [
       "'C:\\\\Users\\\\fralu\\\\Documents\\\\GitHub\\\\anndl\\\\image-segmentation\\\\Segmentation_Dataset\\\\training\\\\masks\\\\img\\\\3278.tif'"
      ]
     },
     "execution_count": 6,
     "metadata": {},
     "output_type": "execute_result"
    },
    {
     "data": {
      "text/plain": [
       "'C:\\\\Users\\\\fralu\\\\Documents\\\\GitHub\\\\anndl\\\\image-segmentation\\\\Segmentation_Dataset\\\\training\\\\images\\\\img\\\\3279.tif'"
      ]
     },
     "execution_count": 6,
     "metadata": {},
     "output_type": "execute_result"
    },
    {
     "data": {
      "text/plain": [
       "'C:\\\\Users\\\\fralu\\\\Documents\\\\GitHub\\\\anndl\\\\image-segmentation\\\\Segmentation_Dataset\\\\training\\\\masks\\\\img\\\\3279.tif'"
      ]
     },
     "execution_count": 6,
     "metadata": {},
     "output_type": "execute_result"
    },
    {
     "data": {
      "text/plain": [
       "'C:\\\\Users\\\\fralu\\\\Documents\\\\GitHub\\\\anndl\\\\image-segmentation\\\\Segmentation_Dataset\\\\training\\\\images\\\\img\\\\3281.tif'"
      ]
     },
     "execution_count": 6,
     "metadata": {},
     "output_type": "execute_result"
    },
    {
     "data": {
      "text/plain": [
       "'C:\\\\Users\\\\fralu\\\\Documents\\\\GitHub\\\\anndl\\\\image-segmentation\\\\Segmentation_Dataset\\\\training\\\\masks\\\\img\\\\3281.tif'"
      ]
     },
     "execution_count": 6,
     "metadata": {},
     "output_type": "execute_result"
    },
    {
     "data": {
      "text/plain": [
       "'C:\\\\Users\\\\fralu\\\\Documents\\\\GitHub\\\\anndl\\\\image-segmentation\\\\Segmentation_Dataset\\\\training\\\\images\\\\img\\\\3288.tif'"
      ]
     },
     "execution_count": 6,
     "metadata": {},
     "output_type": "execute_result"
    },
    {
     "data": {
      "text/plain": [
       "'C:\\\\Users\\\\fralu\\\\Documents\\\\GitHub\\\\anndl\\\\image-segmentation\\\\Segmentation_Dataset\\\\training\\\\masks\\\\img\\\\3288.tif'"
      ]
     },
     "execution_count": 6,
     "metadata": {},
     "output_type": "execute_result"
    },
    {
     "data": {
      "text/plain": [
       "'C:\\\\Users\\\\fralu\\\\Documents\\\\GitHub\\\\anndl\\\\image-segmentation\\\\Segmentation_Dataset\\\\training\\\\images\\\\img\\\\329.tif'"
      ]
     },
     "execution_count": 6,
     "metadata": {},
     "output_type": "execute_result"
    },
    {
     "data": {
      "text/plain": [
       "'C:\\\\Users\\\\fralu\\\\Documents\\\\GitHub\\\\anndl\\\\image-segmentation\\\\Segmentation_Dataset\\\\training\\\\masks\\\\img\\\\329.tif'"
      ]
     },
     "execution_count": 6,
     "metadata": {},
     "output_type": "execute_result"
    },
    {
     "data": {
      "text/plain": [
       "'C:\\\\Users\\\\fralu\\\\Documents\\\\GitHub\\\\anndl\\\\image-segmentation\\\\Segmentation_Dataset\\\\training\\\\images\\\\img\\\\3292.tif'"
      ]
     },
     "execution_count": 6,
     "metadata": {},
     "output_type": "execute_result"
    },
    {
     "data": {
      "text/plain": [
       "'C:\\\\Users\\\\fralu\\\\Documents\\\\GitHub\\\\anndl\\\\image-segmentation\\\\Segmentation_Dataset\\\\training\\\\masks\\\\img\\\\3292.tif'"
      ]
     },
     "execution_count": 6,
     "metadata": {},
     "output_type": "execute_result"
    },
    {
     "data": {
      "text/plain": [
       "'C:\\\\Users\\\\fralu\\\\Documents\\\\GitHub\\\\anndl\\\\image-segmentation\\\\Segmentation_Dataset\\\\training\\\\images\\\\img\\\\3305.tif'"
      ]
     },
     "execution_count": 6,
     "metadata": {},
     "output_type": "execute_result"
    },
    {
     "data": {
      "text/plain": [
       "'C:\\\\Users\\\\fralu\\\\Documents\\\\GitHub\\\\anndl\\\\image-segmentation\\\\Segmentation_Dataset\\\\training\\\\masks\\\\img\\\\3305.tif'"
      ]
     },
     "execution_count": 6,
     "metadata": {},
     "output_type": "execute_result"
    },
    {
     "data": {
      "text/plain": [
       "'C:\\\\Users\\\\fralu\\\\Documents\\\\GitHub\\\\anndl\\\\image-segmentation\\\\Segmentation_Dataset\\\\training\\\\images\\\\img\\\\331.tif'"
      ]
     },
     "execution_count": 6,
     "metadata": {},
     "output_type": "execute_result"
    },
    {
     "data": {
      "text/plain": [
       "'C:\\\\Users\\\\fralu\\\\Documents\\\\GitHub\\\\anndl\\\\image-segmentation\\\\Segmentation_Dataset\\\\training\\\\masks\\\\img\\\\331.tif'"
      ]
     },
     "execution_count": 6,
     "metadata": {},
     "output_type": "execute_result"
    },
    {
     "data": {
      "text/plain": [
       "'C:\\\\Users\\\\fralu\\\\Documents\\\\GitHub\\\\anndl\\\\image-segmentation\\\\Segmentation_Dataset\\\\training\\\\images\\\\img\\\\3310.tif'"
      ]
     },
     "execution_count": 6,
     "metadata": {},
     "output_type": "execute_result"
    },
    {
     "data": {
      "text/plain": [
       "'C:\\\\Users\\\\fralu\\\\Documents\\\\GitHub\\\\anndl\\\\image-segmentation\\\\Segmentation_Dataset\\\\training\\\\masks\\\\img\\\\3310.tif'"
      ]
     },
     "execution_count": 6,
     "metadata": {},
     "output_type": "execute_result"
    },
    {
     "data": {
      "text/plain": [
       "'C:\\\\Users\\\\fralu\\\\Documents\\\\GitHub\\\\anndl\\\\image-segmentation\\\\Segmentation_Dataset\\\\training\\\\images\\\\img\\\\3317.tif'"
      ]
     },
     "execution_count": 6,
     "metadata": {},
     "output_type": "execute_result"
    },
    {
     "data": {
      "text/plain": [
       "'C:\\\\Users\\\\fralu\\\\Documents\\\\GitHub\\\\anndl\\\\image-segmentation\\\\Segmentation_Dataset\\\\training\\\\masks\\\\img\\\\3317.tif'"
      ]
     },
     "execution_count": 6,
     "metadata": {},
     "output_type": "execute_result"
    },
    {
     "data": {
      "text/plain": [
       "'C:\\\\Users\\\\fralu\\\\Documents\\\\GitHub\\\\anndl\\\\image-segmentation\\\\Segmentation_Dataset\\\\training\\\\images\\\\img\\\\332.tif'"
      ]
     },
     "execution_count": 6,
     "metadata": {},
     "output_type": "execute_result"
    },
    {
     "data": {
      "text/plain": [
       "'C:\\\\Users\\\\fralu\\\\Documents\\\\GitHub\\\\anndl\\\\image-segmentation\\\\Segmentation_Dataset\\\\training\\\\masks\\\\img\\\\332.tif'"
      ]
     },
     "execution_count": 6,
     "metadata": {},
     "output_type": "execute_result"
    },
    {
     "data": {
      "text/plain": [
       "'C:\\\\Users\\\\fralu\\\\Documents\\\\GitHub\\\\anndl\\\\image-segmentation\\\\Segmentation_Dataset\\\\training\\\\images\\\\img\\\\3325.tif'"
      ]
     },
     "execution_count": 6,
     "metadata": {},
     "output_type": "execute_result"
    },
    {
     "data": {
      "text/plain": [
       "'C:\\\\Users\\\\fralu\\\\Documents\\\\GitHub\\\\anndl\\\\image-segmentation\\\\Segmentation_Dataset\\\\training\\\\masks\\\\img\\\\3325.tif'"
      ]
     },
     "execution_count": 6,
     "metadata": {},
     "output_type": "execute_result"
    },
    {
     "data": {
      "text/plain": [
       "'C:\\\\Users\\\\fralu\\\\Documents\\\\GitHub\\\\anndl\\\\image-segmentation\\\\Segmentation_Dataset\\\\training\\\\images\\\\img\\\\3330.tif'"
      ]
     },
     "execution_count": 6,
     "metadata": {},
     "output_type": "execute_result"
    },
    {
     "data": {
      "text/plain": [
       "'C:\\\\Users\\\\fralu\\\\Documents\\\\GitHub\\\\anndl\\\\image-segmentation\\\\Segmentation_Dataset\\\\training\\\\masks\\\\img\\\\3330.tif'"
      ]
     },
     "execution_count": 6,
     "metadata": {},
     "output_type": "execute_result"
    },
    {
     "data": {
      "text/plain": [
       "'C:\\\\Users\\\\fralu\\\\Documents\\\\GitHub\\\\anndl\\\\image-segmentation\\\\Segmentation_Dataset\\\\training\\\\images\\\\img\\\\3332.tif'"
      ]
     },
     "execution_count": 6,
     "metadata": {},
     "output_type": "execute_result"
    },
    {
     "data": {
      "text/plain": [
       "'C:\\\\Users\\\\fralu\\\\Documents\\\\GitHub\\\\anndl\\\\image-segmentation\\\\Segmentation_Dataset\\\\training\\\\masks\\\\img\\\\3332.tif'"
      ]
     },
     "execution_count": 6,
     "metadata": {},
     "output_type": "execute_result"
    },
    {
     "data": {
      "text/plain": [
       "'C:\\\\Users\\\\fralu\\\\Documents\\\\GitHub\\\\anndl\\\\image-segmentation\\\\Segmentation_Dataset\\\\training\\\\images\\\\img\\\\3333.tif'"
      ]
     },
     "execution_count": 6,
     "metadata": {},
     "output_type": "execute_result"
    },
    {
     "data": {
      "text/plain": [
       "'C:\\\\Users\\\\fralu\\\\Documents\\\\GitHub\\\\anndl\\\\image-segmentation\\\\Segmentation_Dataset\\\\training\\\\masks\\\\img\\\\3333.tif'"
      ]
     },
     "execution_count": 6,
     "metadata": {},
     "output_type": "execute_result"
    },
    {
     "data": {
      "text/plain": [
       "'C:\\\\Users\\\\fralu\\\\Documents\\\\GitHub\\\\anndl\\\\image-segmentation\\\\Segmentation_Dataset\\\\training\\\\images\\\\img\\\\3337.tif'"
      ]
     },
     "execution_count": 6,
     "metadata": {},
     "output_type": "execute_result"
    },
    {
     "data": {
      "text/plain": [
       "'C:\\\\Users\\\\fralu\\\\Documents\\\\GitHub\\\\anndl\\\\image-segmentation\\\\Segmentation_Dataset\\\\training\\\\masks\\\\img\\\\3337.tif'"
      ]
     },
     "execution_count": 6,
     "metadata": {},
     "output_type": "execute_result"
    },
    {
     "data": {
      "text/plain": [
       "'C:\\\\Users\\\\fralu\\\\Documents\\\\GitHub\\\\anndl\\\\image-segmentation\\\\Segmentation_Dataset\\\\training\\\\images\\\\img\\\\3339.tif'"
      ]
     },
     "execution_count": 6,
     "metadata": {},
     "output_type": "execute_result"
    },
    {
     "data": {
      "text/plain": [
       "'C:\\\\Users\\\\fralu\\\\Documents\\\\GitHub\\\\anndl\\\\image-segmentation\\\\Segmentation_Dataset\\\\training\\\\masks\\\\img\\\\3339.tif'"
      ]
     },
     "execution_count": 6,
     "metadata": {},
     "output_type": "execute_result"
    },
    {
     "data": {
      "text/plain": [
       "'C:\\\\Users\\\\fralu\\\\Documents\\\\GitHub\\\\anndl\\\\image-segmentation\\\\Segmentation_Dataset\\\\training\\\\images\\\\img\\\\3342.tif'"
      ]
     },
     "execution_count": 6,
     "metadata": {},
     "output_type": "execute_result"
    },
    {
     "data": {
      "text/plain": [
       "'C:\\\\Users\\\\fralu\\\\Documents\\\\GitHub\\\\anndl\\\\image-segmentation\\\\Segmentation_Dataset\\\\training\\\\masks\\\\img\\\\3342.tif'"
      ]
     },
     "execution_count": 6,
     "metadata": {},
     "output_type": "execute_result"
    },
    {
     "data": {
      "text/plain": [
       "'C:\\\\Users\\\\fralu\\\\Documents\\\\GitHub\\\\anndl\\\\image-segmentation\\\\Segmentation_Dataset\\\\training\\\\images\\\\img\\\\3346.tif'"
      ]
     },
     "execution_count": 6,
     "metadata": {},
     "output_type": "execute_result"
    },
    {
     "data": {
      "text/plain": [
       "'C:\\\\Users\\\\fralu\\\\Documents\\\\GitHub\\\\anndl\\\\image-segmentation\\\\Segmentation_Dataset\\\\training\\\\masks\\\\img\\\\3346.tif'"
      ]
     },
     "execution_count": 6,
     "metadata": {},
     "output_type": "execute_result"
    },
    {
     "data": {
      "text/plain": [
       "'C:\\\\Users\\\\fralu\\\\Documents\\\\GitHub\\\\anndl\\\\image-segmentation\\\\Segmentation_Dataset\\\\training\\\\images\\\\img\\\\3347.tif'"
      ]
     },
     "execution_count": 6,
     "metadata": {},
     "output_type": "execute_result"
    },
    {
     "data": {
      "text/plain": [
       "'C:\\\\Users\\\\fralu\\\\Documents\\\\GitHub\\\\anndl\\\\image-segmentation\\\\Segmentation_Dataset\\\\training\\\\masks\\\\img\\\\3347.tif'"
      ]
     },
     "execution_count": 6,
     "metadata": {},
     "output_type": "execute_result"
    },
    {
     "data": {
      "text/plain": [
       "'C:\\\\Users\\\\fralu\\\\Documents\\\\GitHub\\\\anndl\\\\image-segmentation\\\\Segmentation_Dataset\\\\training\\\\images\\\\img\\\\335.tif'"
      ]
     },
     "execution_count": 6,
     "metadata": {},
     "output_type": "execute_result"
    },
    {
     "data": {
      "text/plain": [
       "'C:\\\\Users\\\\fralu\\\\Documents\\\\GitHub\\\\anndl\\\\image-segmentation\\\\Segmentation_Dataset\\\\training\\\\masks\\\\img\\\\335.tif'"
      ]
     },
     "execution_count": 6,
     "metadata": {},
     "output_type": "execute_result"
    },
    {
     "data": {
      "text/plain": [
       "'C:\\\\Users\\\\fralu\\\\Documents\\\\GitHub\\\\anndl\\\\image-segmentation\\\\Segmentation_Dataset\\\\training\\\\images\\\\img\\\\3350.tif'"
      ]
     },
     "execution_count": 6,
     "metadata": {},
     "output_type": "execute_result"
    },
    {
     "data": {
      "text/plain": [
       "'C:\\\\Users\\\\fralu\\\\Documents\\\\GitHub\\\\anndl\\\\image-segmentation\\\\Segmentation_Dataset\\\\training\\\\masks\\\\img\\\\3350.tif'"
      ]
     },
     "execution_count": 6,
     "metadata": {},
     "output_type": "execute_result"
    },
    {
     "data": {
      "text/plain": [
       "'C:\\\\Users\\\\fralu\\\\Documents\\\\GitHub\\\\anndl\\\\image-segmentation\\\\Segmentation_Dataset\\\\training\\\\images\\\\img\\\\3358.tif'"
      ]
     },
     "execution_count": 6,
     "metadata": {},
     "output_type": "execute_result"
    },
    {
     "data": {
      "text/plain": [
       "'C:\\\\Users\\\\fralu\\\\Documents\\\\GitHub\\\\anndl\\\\image-segmentation\\\\Segmentation_Dataset\\\\training\\\\masks\\\\img\\\\3358.tif'"
      ]
     },
     "execution_count": 6,
     "metadata": {},
     "output_type": "execute_result"
    },
    {
     "data": {
      "text/plain": [
       "'C:\\\\Users\\\\fralu\\\\Documents\\\\GitHub\\\\anndl\\\\image-segmentation\\\\Segmentation_Dataset\\\\training\\\\images\\\\img\\\\3359.tif'"
      ]
     },
     "execution_count": 6,
     "metadata": {},
     "output_type": "execute_result"
    },
    {
     "data": {
      "text/plain": [
       "'C:\\\\Users\\\\fralu\\\\Documents\\\\GitHub\\\\anndl\\\\image-segmentation\\\\Segmentation_Dataset\\\\training\\\\masks\\\\img\\\\3359.tif'"
      ]
     },
     "execution_count": 6,
     "metadata": {},
     "output_type": "execute_result"
    },
    {
     "data": {
      "text/plain": [
       "'C:\\\\Users\\\\fralu\\\\Documents\\\\GitHub\\\\anndl\\\\image-segmentation\\\\Segmentation_Dataset\\\\training\\\\images\\\\img\\\\3364.tif'"
      ]
     },
     "execution_count": 6,
     "metadata": {},
     "output_type": "execute_result"
    },
    {
     "data": {
      "text/plain": [
       "'C:\\\\Users\\\\fralu\\\\Documents\\\\GitHub\\\\anndl\\\\image-segmentation\\\\Segmentation_Dataset\\\\training\\\\masks\\\\img\\\\3364.tif'"
      ]
     },
     "execution_count": 6,
     "metadata": {},
     "output_type": "execute_result"
    },
    {
     "data": {
      "text/plain": [
       "'C:\\\\Users\\\\fralu\\\\Documents\\\\GitHub\\\\anndl\\\\image-segmentation\\\\Segmentation_Dataset\\\\training\\\\images\\\\img\\\\337.tif'"
      ]
     },
     "execution_count": 6,
     "metadata": {},
     "output_type": "execute_result"
    },
    {
     "data": {
      "text/plain": [
       "'C:\\\\Users\\\\fralu\\\\Documents\\\\GitHub\\\\anndl\\\\image-segmentation\\\\Segmentation_Dataset\\\\training\\\\masks\\\\img\\\\337.tif'"
      ]
     },
     "execution_count": 6,
     "metadata": {},
     "output_type": "execute_result"
    },
    {
     "data": {
      "text/plain": [
       "'C:\\\\Users\\\\fralu\\\\Documents\\\\GitHub\\\\anndl\\\\image-segmentation\\\\Segmentation_Dataset\\\\training\\\\images\\\\img\\\\3379.tif'"
      ]
     },
     "execution_count": 6,
     "metadata": {},
     "output_type": "execute_result"
    },
    {
     "data": {
      "text/plain": [
       "'C:\\\\Users\\\\fralu\\\\Documents\\\\GitHub\\\\anndl\\\\image-segmentation\\\\Segmentation_Dataset\\\\training\\\\masks\\\\img\\\\3379.tif'"
      ]
     },
     "execution_count": 6,
     "metadata": {},
     "output_type": "execute_result"
    },
    {
     "data": {
      "text/plain": [
       "'C:\\\\Users\\\\fralu\\\\Documents\\\\GitHub\\\\anndl\\\\image-segmentation\\\\Segmentation_Dataset\\\\training\\\\images\\\\img\\\\3383.tif'"
      ]
     },
     "execution_count": 6,
     "metadata": {},
     "output_type": "execute_result"
    },
    {
     "data": {
      "text/plain": [
       "'C:\\\\Users\\\\fralu\\\\Documents\\\\GitHub\\\\anndl\\\\image-segmentation\\\\Segmentation_Dataset\\\\training\\\\masks\\\\img\\\\3383.tif'"
      ]
     },
     "execution_count": 6,
     "metadata": {},
     "output_type": "execute_result"
    },
    {
     "data": {
      "text/plain": [
       "'C:\\\\Users\\\\fralu\\\\Documents\\\\GitHub\\\\anndl\\\\image-segmentation\\\\Segmentation_Dataset\\\\training\\\\images\\\\img\\\\3397.tif'"
      ]
     },
     "execution_count": 6,
     "metadata": {},
     "output_type": "execute_result"
    },
    {
     "data": {
      "text/plain": [
       "'C:\\\\Users\\\\fralu\\\\Documents\\\\GitHub\\\\anndl\\\\image-segmentation\\\\Segmentation_Dataset\\\\training\\\\masks\\\\img\\\\3397.tif'"
      ]
     },
     "execution_count": 6,
     "metadata": {},
     "output_type": "execute_result"
    },
    {
     "data": {
      "text/plain": [
       "'C:\\\\Users\\\\fralu\\\\Documents\\\\GitHub\\\\anndl\\\\image-segmentation\\\\Segmentation_Dataset\\\\training\\\\images\\\\img\\\\3404.tif'"
      ]
     },
     "execution_count": 6,
     "metadata": {},
     "output_type": "execute_result"
    },
    {
     "data": {
      "text/plain": [
       "'C:\\\\Users\\\\fralu\\\\Documents\\\\GitHub\\\\anndl\\\\image-segmentation\\\\Segmentation_Dataset\\\\training\\\\masks\\\\img\\\\3404.tif'"
      ]
     },
     "execution_count": 6,
     "metadata": {},
     "output_type": "execute_result"
    },
    {
     "data": {
      "text/plain": [
       "'C:\\\\Users\\\\fralu\\\\Documents\\\\GitHub\\\\anndl\\\\image-segmentation\\\\Segmentation_Dataset\\\\training\\\\images\\\\img\\\\3407.tif'"
      ]
     },
     "execution_count": 6,
     "metadata": {},
     "output_type": "execute_result"
    },
    {
     "data": {
      "text/plain": [
       "'C:\\\\Users\\\\fralu\\\\Documents\\\\GitHub\\\\anndl\\\\image-segmentation\\\\Segmentation_Dataset\\\\training\\\\masks\\\\img\\\\3407.tif'"
      ]
     },
     "execution_count": 6,
     "metadata": {},
     "output_type": "execute_result"
    },
    {
     "data": {
      "text/plain": [
       "'C:\\\\Users\\\\fralu\\\\Documents\\\\GitHub\\\\anndl\\\\image-segmentation\\\\Segmentation_Dataset\\\\training\\\\images\\\\img\\\\3411.tif'"
      ]
     },
     "execution_count": 6,
     "metadata": {},
     "output_type": "execute_result"
    },
    {
     "data": {
      "text/plain": [
       "'C:\\\\Users\\\\fralu\\\\Documents\\\\GitHub\\\\anndl\\\\image-segmentation\\\\Segmentation_Dataset\\\\training\\\\masks\\\\img\\\\3411.tif'"
      ]
     },
     "execution_count": 6,
     "metadata": {},
     "output_type": "execute_result"
    },
    {
     "data": {
      "text/plain": [
       "'C:\\\\Users\\\\fralu\\\\Documents\\\\GitHub\\\\anndl\\\\image-segmentation\\\\Segmentation_Dataset\\\\training\\\\images\\\\img\\\\3412.tif'"
      ]
     },
     "execution_count": 6,
     "metadata": {},
     "output_type": "execute_result"
    },
    {
     "data": {
      "text/plain": [
       "'C:\\\\Users\\\\fralu\\\\Documents\\\\GitHub\\\\anndl\\\\image-segmentation\\\\Segmentation_Dataset\\\\training\\\\masks\\\\img\\\\3412.tif'"
      ]
     },
     "execution_count": 6,
     "metadata": {},
     "output_type": "execute_result"
    },
    {
     "data": {
      "text/plain": [
       "'C:\\\\Users\\\\fralu\\\\Documents\\\\GitHub\\\\anndl\\\\image-segmentation\\\\Segmentation_Dataset\\\\training\\\\images\\\\img\\\\3417.tif'"
      ]
     },
     "execution_count": 6,
     "metadata": {},
     "output_type": "execute_result"
    },
    {
     "data": {
      "text/plain": [
       "'C:\\\\Users\\\\fralu\\\\Documents\\\\GitHub\\\\anndl\\\\image-segmentation\\\\Segmentation_Dataset\\\\training\\\\masks\\\\img\\\\3417.tif'"
      ]
     },
     "execution_count": 6,
     "metadata": {},
     "output_type": "execute_result"
    },
    {
     "data": {
      "text/plain": [
       "'C:\\\\Users\\\\fralu\\\\Documents\\\\GitHub\\\\anndl\\\\image-segmentation\\\\Segmentation_Dataset\\\\training\\\\images\\\\img\\\\3418.tif'"
      ]
     },
     "execution_count": 6,
     "metadata": {},
     "output_type": "execute_result"
    },
    {
     "data": {
      "text/plain": [
       "'C:\\\\Users\\\\fralu\\\\Documents\\\\GitHub\\\\anndl\\\\image-segmentation\\\\Segmentation_Dataset\\\\training\\\\masks\\\\img\\\\3418.tif'"
      ]
     },
     "execution_count": 6,
     "metadata": {},
     "output_type": "execute_result"
    },
    {
     "data": {
      "text/plain": [
       "'C:\\\\Users\\\\fralu\\\\Documents\\\\GitHub\\\\anndl\\\\image-segmentation\\\\Segmentation_Dataset\\\\training\\\\images\\\\img\\\\342.tif'"
      ]
     },
     "execution_count": 6,
     "metadata": {},
     "output_type": "execute_result"
    },
    {
     "data": {
      "text/plain": [
       "'C:\\\\Users\\\\fralu\\\\Documents\\\\GitHub\\\\anndl\\\\image-segmentation\\\\Segmentation_Dataset\\\\training\\\\masks\\\\img\\\\342.tif'"
      ]
     },
     "execution_count": 6,
     "metadata": {},
     "output_type": "execute_result"
    },
    {
     "data": {
      "text/plain": [
       "'C:\\\\Users\\\\fralu\\\\Documents\\\\GitHub\\\\anndl\\\\image-segmentation\\\\Segmentation_Dataset\\\\training\\\\images\\\\img\\\\3423.tif'"
      ]
     },
     "execution_count": 6,
     "metadata": {},
     "output_type": "execute_result"
    },
    {
     "data": {
      "text/plain": [
       "'C:\\\\Users\\\\fralu\\\\Documents\\\\GitHub\\\\anndl\\\\image-segmentation\\\\Segmentation_Dataset\\\\training\\\\masks\\\\img\\\\3423.tif'"
      ]
     },
     "execution_count": 6,
     "metadata": {},
     "output_type": "execute_result"
    },
    {
     "data": {
      "text/plain": [
       "'C:\\\\Users\\\\fralu\\\\Documents\\\\GitHub\\\\anndl\\\\image-segmentation\\\\Segmentation_Dataset\\\\training\\\\images\\\\img\\\\3426.tif'"
      ]
     },
     "execution_count": 6,
     "metadata": {},
     "output_type": "execute_result"
    },
    {
     "data": {
      "text/plain": [
       "'C:\\\\Users\\\\fralu\\\\Documents\\\\GitHub\\\\anndl\\\\image-segmentation\\\\Segmentation_Dataset\\\\training\\\\masks\\\\img\\\\3426.tif'"
      ]
     },
     "execution_count": 6,
     "metadata": {},
     "output_type": "execute_result"
    },
    {
     "data": {
      "text/plain": [
       "'C:\\\\Users\\\\fralu\\\\Documents\\\\GitHub\\\\anndl\\\\image-segmentation\\\\Segmentation_Dataset\\\\training\\\\images\\\\img\\\\3431.tif'"
      ]
     },
     "execution_count": 6,
     "metadata": {},
     "output_type": "execute_result"
    },
    {
     "data": {
      "text/plain": [
       "'C:\\\\Users\\\\fralu\\\\Documents\\\\GitHub\\\\anndl\\\\image-segmentation\\\\Segmentation_Dataset\\\\training\\\\masks\\\\img\\\\3431.tif'"
      ]
     },
     "execution_count": 6,
     "metadata": {},
     "output_type": "execute_result"
    },
    {
     "data": {
      "text/plain": [
       "'C:\\\\Users\\\\fralu\\\\Documents\\\\GitHub\\\\anndl\\\\image-segmentation\\\\Segmentation_Dataset\\\\training\\\\images\\\\img\\\\3433.tif'"
      ]
     },
     "execution_count": 6,
     "metadata": {},
     "output_type": "execute_result"
    },
    {
     "data": {
      "text/plain": [
       "'C:\\\\Users\\\\fralu\\\\Documents\\\\GitHub\\\\anndl\\\\image-segmentation\\\\Segmentation_Dataset\\\\training\\\\masks\\\\img\\\\3433.tif'"
      ]
     },
     "execution_count": 6,
     "metadata": {},
     "output_type": "execute_result"
    },
    {
     "data": {
      "text/plain": [
       "'C:\\\\Users\\\\fralu\\\\Documents\\\\GitHub\\\\anndl\\\\image-segmentation\\\\Segmentation_Dataset\\\\training\\\\images\\\\img\\\\3448.tif'"
      ]
     },
     "execution_count": 6,
     "metadata": {},
     "output_type": "execute_result"
    },
    {
     "data": {
      "text/plain": [
       "'C:\\\\Users\\\\fralu\\\\Documents\\\\GitHub\\\\anndl\\\\image-segmentation\\\\Segmentation_Dataset\\\\training\\\\masks\\\\img\\\\3448.tif'"
      ]
     },
     "execution_count": 6,
     "metadata": {},
     "output_type": "execute_result"
    },
    {
     "data": {
      "text/plain": [
       "'C:\\\\Users\\\\fralu\\\\Documents\\\\GitHub\\\\anndl\\\\image-segmentation\\\\Segmentation_Dataset\\\\training\\\\images\\\\img\\\\3465.tif'"
      ]
     },
     "execution_count": 6,
     "metadata": {},
     "output_type": "execute_result"
    },
    {
     "data": {
      "text/plain": [
       "'C:\\\\Users\\\\fralu\\\\Documents\\\\GitHub\\\\anndl\\\\image-segmentation\\\\Segmentation_Dataset\\\\training\\\\masks\\\\img\\\\3465.tif'"
      ]
     },
     "execution_count": 6,
     "metadata": {},
     "output_type": "execute_result"
    },
    {
     "data": {
      "text/plain": [
       "'C:\\\\Users\\\\fralu\\\\Documents\\\\GitHub\\\\anndl\\\\image-segmentation\\\\Segmentation_Dataset\\\\training\\\\images\\\\img\\\\3471.tif'"
      ]
     },
     "execution_count": 6,
     "metadata": {},
     "output_type": "execute_result"
    },
    {
     "data": {
      "text/plain": [
       "'C:\\\\Users\\\\fralu\\\\Documents\\\\GitHub\\\\anndl\\\\image-segmentation\\\\Segmentation_Dataset\\\\training\\\\masks\\\\img\\\\3471.tif'"
      ]
     },
     "execution_count": 6,
     "metadata": {},
     "output_type": "execute_result"
    },
    {
     "data": {
      "text/plain": [
       "'C:\\\\Users\\\\fralu\\\\Documents\\\\GitHub\\\\anndl\\\\image-segmentation\\\\Segmentation_Dataset\\\\training\\\\images\\\\img\\\\3472.tif'"
      ]
     },
     "execution_count": 6,
     "metadata": {},
     "output_type": "execute_result"
    },
    {
     "data": {
      "text/plain": [
       "'C:\\\\Users\\\\fralu\\\\Documents\\\\GitHub\\\\anndl\\\\image-segmentation\\\\Segmentation_Dataset\\\\training\\\\masks\\\\img\\\\3472.tif'"
      ]
     },
     "execution_count": 6,
     "metadata": {},
     "output_type": "execute_result"
    },
    {
     "data": {
      "text/plain": [
       "'C:\\\\Users\\\\fralu\\\\Documents\\\\GitHub\\\\anndl\\\\image-segmentation\\\\Segmentation_Dataset\\\\training\\\\images\\\\img\\\\3475.tif'"
      ]
     },
     "execution_count": 6,
     "metadata": {},
     "output_type": "execute_result"
    },
    {
     "data": {
      "text/plain": [
       "'C:\\\\Users\\\\fralu\\\\Documents\\\\GitHub\\\\anndl\\\\image-segmentation\\\\Segmentation_Dataset\\\\training\\\\masks\\\\img\\\\3475.tif'"
      ]
     },
     "execution_count": 6,
     "metadata": {},
     "output_type": "execute_result"
    },
    {
     "data": {
      "text/plain": [
       "'C:\\\\Users\\\\fralu\\\\Documents\\\\GitHub\\\\anndl\\\\image-segmentation\\\\Segmentation_Dataset\\\\training\\\\images\\\\img\\\\348.tif'"
      ]
     },
     "execution_count": 6,
     "metadata": {},
     "output_type": "execute_result"
    },
    {
     "data": {
      "text/plain": [
       "'C:\\\\Users\\\\fralu\\\\Documents\\\\GitHub\\\\anndl\\\\image-segmentation\\\\Segmentation_Dataset\\\\training\\\\masks\\\\img\\\\348.tif'"
      ]
     },
     "execution_count": 6,
     "metadata": {},
     "output_type": "execute_result"
    },
    {
     "data": {
      "text/plain": [
       "'C:\\\\Users\\\\fralu\\\\Documents\\\\GitHub\\\\anndl\\\\image-segmentation\\\\Segmentation_Dataset\\\\training\\\\images\\\\img\\\\3481.tif'"
      ]
     },
     "execution_count": 6,
     "metadata": {},
     "output_type": "execute_result"
    },
    {
     "data": {
      "text/plain": [
       "'C:\\\\Users\\\\fralu\\\\Documents\\\\GitHub\\\\anndl\\\\image-segmentation\\\\Segmentation_Dataset\\\\training\\\\masks\\\\img\\\\3481.tif'"
      ]
     },
     "execution_count": 6,
     "metadata": {},
     "output_type": "execute_result"
    },
    {
     "data": {
      "text/plain": [
       "'C:\\\\Users\\\\fralu\\\\Documents\\\\GitHub\\\\anndl\\\\image-segmentation\\\\Segmentation_Dataset\\\\training\\\\images\\\\img\\\\3482.tif'"
      ]
     },
     "execution_count": 6,
     "metadata": {},
     "output_type": "execute_result"
    },
    {
     "data": {
      "text/plain": [
       "'C:\\\\Users\\\\fralu\\\\Documents\\\\GitHub\\\\anndl\\\\image-segmentation\\\\Segmentation_Dataset\\\\training\\\\masks\\\\img\\\\3482.tif'"
      ]
     },
     "execution_count": 6,
     "metadata": {},
     "output_type": "execute_result"
    },
    {
     "data": {
      "text/plain": [
       "'C:\\\\Users\\\\fralu\\\\Documents\\\\GitHub\\\\anndl\\\\image-segmentation\\\\Segmentation_Dataset\\\\training\\\\images\\\\img\\\\3486.tif'"
      ]
     },
     "execution_count": 6,
     "metadata": {},
     "output_type": "execute_result"
    },
    {
     "data": {
      "text/plain": [
       "'C:\\\\Users\\\\fralu\\\\Documents\\\\GitHub\\\\anndl\\\\image-segmentation\\\\Segmentation_Dataset\\\\training\\\\masks\\\\img\\\\3486.tif'"
      ]
     },
     "execution_count": 6,
     "metadata": {},
     "output_type": "execute_result"
    },
    {
     "data": {
      "text/plain": [
       "'C:\\\\Users\\\\fralu\\\\Documents\\\\GitHub\\\\anndl\\\\image-segmentation\\\\Segmentation_Dataset\\\\training\\\\images\\\\img\\\\3487.tif'"
      ]
     },
     "execution_count": 6,
     "metadata": {},
     "output_type": "execute_result"
    },
    {
     "data": {
      "text/plain": [
       "'C:\\\\Users\\\\fralu\\\\Documents\\\\GitHub\\\\anndl\\\\image-segmentation\\\\Segmentation_Dataset\\\\training\\\\masks\\\\img\\\\3487.tif'"
      ]
     },
     "execution_count": 6,
     "metadata": {},
     "output_type": "execute_result"
    },
    {
     "data": {
      "text/plain": [
       "'C:\\\\Users\\\\fralu\\\\Documents\\\\GitHub\\\\anndl\\\\image-segmentation\\\\Segmentation_Dataset\\\\training\\\\images\\\\img\\\\3506.tif'"
      ]
     },
     "execution_count": 6,
     "metadata": {},
     "output_type": "execute_result"
    },
    {
     "data": {
      "text/plain": [
       "'C:\\\\Users\\\\fralu\\\\Documents\\\\GitHub\\\\anndl\\\\image-segmentation\\\\Segmentation_Dataset\\\\training\\\\masks\\\\img\\\\3506.tif'"
      ]
     },
     "execution_count": 6,
     "metadata": {},
     "output_type": "execute_result"
    },
    {
     "data": {
      "text/plain": [
       "'C:\\\\Users\\\\fralu\\\\Documents\\\\GitHub\\\\anndl\\\\image-segmentation\\\\Segmentation_Dataset\\\\training\\\\images\\\\img\\\\3509.tif'"
      ]
     },
     "execution_count": 6,
     "metadata": {},
     "output_type": "execute_result"
    },
    {
     "data": {
      "text/plain": [
       "'C:\\\\Users\\\\fralu\\\\Documents\\\\GitHub\\\\anndl\\\\image-segmentation\\\\Segmentation_Dataset\\\\training\\\\masks\\\\img\\\\3509.tif'"
      ]
     },
     "execution_count": 6,
     "metadata": {},
     "output_type": "execute_result"
    },
    {
     "data": {
      "text/plain": [
       "'C:\\\\Users\\\\fralu\\\\Documents\\\\GitHub\\\\anndl\\\\image-segmentation\\\\Segmentation_Dataset\\\\training\\\\images\\\\img\\\\3512.tif'"
      ]
     },
     "execution_count": 6,
     "metadata": {},
     "output_type": "execute_result"
    },
    {
     "data": {
      "text/plain": [
       "'C:\\\\Users\\\\fralu\\\\Documents\\\\GitHub\\\\anndl\\\\image-segmentation\\\\Segmentation_Dataset\\\\training\\\\masks\\\\img\\\\3512.tif'"
      ]
     },
     "execution_count": 6,
     "metadata": {},
     "output_type": "execute_result"
    },
    {
     "data": {
      "text/plain": [
       "'C:\\\\Users\\\\fralu\\\\Documents\\\\GitHub\\\\anndl\\\\image-segmentation\\\\Segmentation_Dataset\\\\training\\\\images\\\\img\\\\3515.tif'"
      ]
     },
     "execution_count": 6,
     "metadata": {},
     "output_type": "execute_result"
    },
    {
     "data": {
      "text/plain": [
       "'C:\\\\Users\\\\fralu\\\\Documents\\\\GitHub\\\\anndl\\\\image-segmentation\\\\Segmentation_Dataset\\\\training\\\\masks\\\\img\\\\3515.tif'"
      ]
     },
     "execution_count": 6,
     "metadata": {},
     "output_type": "execute_result"
    },
    {
     "data": {
      "text/plain": [
       "'C:\\\\Users\\\\fralu\\\\Documents\\\\GitHub\\\\anndl\\\\image-segmentation\\\\Segmentation_Dataset\\\\training\\\\images\\\\img\\\\3521.tif'"
      ]
     },
     "execution_count": 6,
     "metadata": {},
     "output_type": "execute_result"
    },
    {
     "data": {
      "text/plain": [
       "'C:\\\\Users\\\\fralu\\\\Documents\\\\GitHub\\\\anndl\\\\image-segmentation\\\\Segmentation_Dataset\\\\training\\\\masks\\\\img\\\\3521.tif'"
      ]
     },
     "execution_count": 6,
     "metadata": {},
     "output_type": "execute_result"
    },
    {
     "data": {
      "text/plain": [
       "'C:\\\\Users\\\\fralu\\\\Documents\\\\GitHub\\\\anndl\\\\image-segmentation\\\\Segmentation_Dataset\\\\training\\\\images\\\\img\\\\3523.tif'"
      ]
     },
     "execution_count": 6,
     "metadata": {},
     "output_type": "execute_result"
    },
    {
     "data": {
      "text/plain": [
       "'C:\\\\Users\\\\fralu\\\\Documents\\\\GitHub\\\\anndl\\\\image-segmentation\\\\Segmentation_Dataset\\\\training\\\\masks\\\\img\\\\3523.tif'"
      ]
     },
     "execution_count": 6,
     "metadata": {},
     "output_type": "execute_result"
    },
    {
     "data": {
      "text/plain": [
       "'C:\\\\Users\\\\fralu\\\\Documents\\\\GitHub\\\\anndl\\\\image-segmentation\\\\Segmentation_Dataset\\\\training\\\\images\\\\img\\\\3526.tif'"
      ]
     },
     "execution_count": 6,
     "metadata": {},
     "output_type": "execute_result"
    },
    {
     "data": {
      "text/plain": [
       "'C:\\\\Users\\\\fralu\\\\Documents\\\\GitHub\\\\anndl\\\\image-segmentation\\\\Segmentation_Dataset\\\\training\\\\masks\\\\img\\\\3526.tif'"
      ]
     },
     "execution_count": 6,
     "metadata": {},
     "output_type": "execute_result"
    },
    {
     "data": {
      "text/plain": [
       "'C:\\\\Users\\\\fralu\\\\Documents\\\\GitHub\\\\anndl\\\\image-segmentation\\\\Segmentation_Dataset\\\\training\\\\images\\\\img\\\\3529.tif'"
      ]
     },
     "execution_count": 6,
     "metadata": {},
     "output_type": "execute_result"
    },
    {
     "data": {
      "text/plain": [
       "'C:\\\\Users\\\\fralu\\\\Documents\\\\GitHub\\\\anndl\\\\image-segmentation\\\\Segmentation_Dataset\\\\training\\\\masks\\\\img\\\\3529.tif'"
      ]
     },
     "execution_count": 6,
     "metadata": {},
     "output_type": "execute_result"
    },
    {
     "data": {
      "text/plain": [
       "'C:\\\\Users\\\\fralu\\\\Documents\\\\GitHub\\\\anndl\\\\image-segmentation\\\\Segmentation_Dataset\\\\training\\\\images\\\\img\\\\3530.tif'"
      ]
     },
     "execution_count": 6,
     "metadata": {},
     "output_type": "execute_result"
    },
    {
     "data": {
      "text/plain": [
       "'C:\\\\Users\\\\fralu\\\\Documents\\\\GitHub\\\\anndl\\\\image-segmentation\\\\Segmentation_Dataset\\\\training\\\\masks\\\\img\\\\3530.tif'"
      ]
     },
     "execution_count": 6,
     "metadata": {},
     "output_type": "execute_result"
    },
    {
     "data": {
      "text/plain": [
       "'C:\\\\Users\\\\fralu\\\\Documents\\\\GitHub\\\\anndl\\\\image-segmentation\\\\Segmentation_Dataset\\\\training\\\\images\\\\img\\\\3535.tif'"
      ]
     },
     "execution_count": 6,
     "metadata": {},
     "output_type": "execute_result"
    },
    {
     "data": {
      "text/plain": [
       "'C:\\\\Users\\\\fralu\\\\Documents\\\\GitHub\\\\anndl\\\\image-segmentation\\\\Segmentation_Dataset\\\\training\\\\masks\\\\img\\\\3535.tif'"
      ]
     },
     "execution_count": 6,
     "metadata": {},
     "output_type": "execute_result"
    },
    {
     "data": {
      "text/plain": [
       "'C:\\\\Users\\\\fralu\\\\Documents\\\\GitHub\\\\anndl\\\\image-segmentation\\\\Segmentation_Dataset\\\\training\\\\images\\\\img\\\\3536.tif'"
      ]
     },
     "execution_count": 6,
     "metadata": {},
     "output_type": "execute_result"
    },
    {
     "data": {
      "text/plain": [
       "'C:\\\\Users\\\\fralu\\\\Documents\\\\GitHub\\\\anndl\\\\image-segmentation\\\\Segmentation_Dataset\\\\training\\\\masks\\\\img\\\\3536.tif'"
      ]
     },
     "execution_count": 6,
     "metadata": {},
     "output_type": "execute_result"
    },
    {
     "data": {
      "text/plain": [
       "'C:\\\\Users\\\\fralu\\\\Documents\\\\GitHub\\\\anndl\\\\image-segmentation\\\\Segmentation_Dataset\\\\training\\\\images\\\\img\\\\3537.tif'"
      ]
     },
     "execution_count": 6,
     "metadata": {},
     "output_type": "execute_result"
    },
    {
     "data": {
      "text/plain": [
       "'C:\\\\Users\\\\fralu\\\\Documents\\\\GitHub\\\\anndl\\\\image-segmentation\\\\Segmentation_Dataset\\\\training\\\\masks\\\\img\\\\3537.tif'"
      ]
     },
     "execution_count": 6,
     "metadata": {},
     "output_type": "execute_result"
    },
    {
     "data": {
      "text/plain": [
       "'C:\\\\Users\\\\fralu\\\\Documents\\\\GitHub\\\\anndl\\\\image-segmentation\\\\Segmentation_Dataset\\\\training\\\\images\\\\img\\\\3538.tif'"
      ]
     },
     "execution_count": 6,
     "metadata": {},
     "output_type": "execute_result"
    },
    {
     "data": {
      "text/plain": [
       "'C:\\\\Users\\\\fralu\\\\Documents\\\\GitHub\\\\anndl\\\\image-segmentation\\\\Segmentation_Dataset\\\\training\\\\masks\\\\img\\\\3538.tif'"
      ]
     },
     "execution_count": 6,
     "metadata": {},
     "output_type": "execute_result"
    },
    {
     "data": {
      "text/plain": [
       "'C:\\\\Users\\\\fralu\\\\Documents\\\\GitHub\\\\anndl\\\\image-segmentation\\\\Segmentation_Dataset\\\\training\\\\images\\\\img\\\\3540.tif'"
      ]
     },
     "execution_count": 6,
     "metadata": {},
     "output_type": "execute_result"
    },
    {
     "data": {
      "text/plain": [
       "'C:\\\\Users\\\\fralu\\\\Documents\\\\GitHub\\\\anndl\\\\image-segmentation\\\\Segmentation_Dataset\\\\training\\\\masks\\\\img\\\\3540.tif'"
      ]
     },
     "execution_count": 6,
     "metadata": {},
     "output_type": "execute_result"
    },
    {
     "data": {
      "text/plain": [
       "'C:\\\\Users\\\\fralu\\\\Documents\\\\GitHub\\\\anndl\\\\image-segmentation\\\\Segmentation_Dataset\\\\training\\\\images\\\\img\\\\3547.tif'"
      ]
     },
     "execution_count": 6,
     "metadata": {},
     "output_type": "execute_result"
    },
    {
     "data": {
      "text/plain": [
       "'C:\\\\Users\\\\fralu\\\\Documents\\\\GitHub\\\\anndl\\\\image-segmentation\\\\Segmentation_Dataset\\\\training\\\\masks\\\\img\\\\3547.tif'"
      ]
     },
     "execution_count": 6,
     "metadata": {},
     "output_type": "execute_result"
    },
    {
     "data": {
      "text/plain": [
       "'C:\\\\Users\\\\fralu\\\\Documents\\\\GitHub\\\\anndl\\\\image-segmentation\\\\Segmentation_Dataset\\\\training\\\\images\\\\img\\\\355.tif'"
      ]
     },
     "execution_count": 6,
     "metadata": {},
     "output_type": "execute_result"
    },
    {
     "data": {
      "text/plain": [
       "'C:\\\\Users\\\\fralu\\\\Documents\\\\GitHub\\\\anndl\\\\image-segmentation\\\\Segmentation_Dataset\\\\training\\\\masks\\\\img\\\\355.tif'"
      ]
     },
     "execution_count": 6,
     "metadata": {},
     "output_type": "execute_result"
    },
    {
     "data": {
      "text/plain": [
       "'C:\\\\Users\\\\fralu\\\\Documents\\\\GitHub\\\\anndl\\\\image-segmentation\\\\Segmentation_Dataset\\\\training\\\\images\\\\img\\\\3551.tif'"
      ]
     },
     "execution_count": 6,
     "metadata": {},
     "output_type": "execute_result"
    },
    {
     "data": {
      "text/plain": [
       "'C:\\\\Users\\\\fralu\\\\Documents\\\\GitHub\\\\anndl\\\\image-segmentation\\\\Segmentation_Dataset\\\\training\\\\masks\\\\img\\\\3551.tif'"
      ]
     },
     "execution_count": 6,
     "metadata": {},
     "output_type": "execute_result"
    },
    {
     "data": {
      "text/plain": [
       "'C:\\\\Users\\\\fralu\\\\Documents\\\\GitHub\\\\anndl\\\\image-segmentation\\\\Segmentation_Dataset\\\\training\\\\images\\\\img\\\\3562.tif'"
      ]
     },
     "execution_count": 6,
     "metadata": {},
     "output_type": "execute_result"
    },
    {
     "data": {
      "text/plain": [
       "'C:\\\\Users\\\\fralu\\\\Documents\\\\GitHub\\\\anndl\\\\image-segmentation\\\\Segmentation_Dataset\\\\training\\\\masks\\\\img\\\\3562.tif'"
      ]
     },
     "execution_count": 6,
     "metadata": {},
     "output_type": "execute_result"
    },
    {
     "data": {
      "text/plain": [
       "'C:\\\\Users\\\\fralu\\\\Documents\\\\GitHub\\\\anndl\\\\image-segmentation\\\\Segmentation_Dataset\\\\training\\\\images\\\\img\\\\3566.tif'"
      ]
     },
     "execution_count": 6,
     "metadata": {},
     "output_type": "execute_result"
    },
    {
     "data": {
      "text/plain": [
       "'C:\\\\Users\\\\fralu\\\\Documents\\\\GitHub\\\\anndl\\\\image-segmentation\\\\Segmentation_Dataset\\\\training\\\\masks\\\\img\\\\3566.tif'"
      ]
     },
     "execution_count": 6,
     "metadata": {},
     "output_type": "execute_result"
    },
    {
     "data": {
      "text/plain": [
       "'C:\\\\Users\\\\fralu\\\\Documents\\\\GitHub\\\\anndl\\\\image-segmentation\\\\Segmentation_Dataset\\\\training\\\\images\\\\img\\\\3569.tif'"
      ]
     },
     "execution_count": 6,
     "metadata": {},
     "output_type": "execute_result"
    },
    {
     "data": {
      "text/plain": [
       "'C:\\\\Users\\\\fralu\\\\Documents\\\\GitHub\\\\anndl\\\\image-segmentation\\\\Segmentation_Dataset\\\\training\\\\masks\\\\img\\\\3569.tif'"
      ]
     },
     "execution_count": 6,
     "metadata": {},
     "output_type": "execute_result"
    },
    {
     "data": {
      "text/plain": [
       "'C:\\\\Users\\\\fralu\\\\Documents\\\\GitHub\\\\anndl\\\\image-segmentation\\\\Segmentation_Dataset\\\\training\\\\images\\\\img\\\\3575.tif'"
      ]
     },
     "execution_count": 6,
     "metadata": {},
     "output_type": "execute_result"
    },
    {
     "data": {
      "text/plain": [
       "'C:\\\\Users\\\\fralu\\\\Documents\\\\GitHub\\\\anndl\\\\image-segmentation\\\\Segmentation_Dataset\\\\training\\\\masks\\\\img\\\\3575.tif'"
      ]
     },
     "execution_count": 6,
     "metadata": {},
     "output_type": "execute_result"
    },
    {
     "data": {
      "text/plain": [
       "'C:\\\\Users\\\\fralu\\\\Documents\\\\GitHub\\\\anndl\\\\image-segmentation\\\\Segmentation_Dataset\\\\training\\\\images\\\\img\\\\3583.tif'"
      ]
     },
     "execution_count": 6,
     "metadata": {},
     "output_type": "execute_result"
    },
    {
     "data": {
      "text/plain": [
       "'C:\\\\Users\\\\fralu\\\\Documents\\\\GitHub\\\\anndl\\\\image-segmentation\\\\Segmentation_Dataset\\\\training\\\\masks\\\\img\\\\3583.tif'"
      ]
     },
     "execution_count": 6,
     "metadata": {},
     "output_type": "execute_result"
    },
    {
     "data": {
      "text/plain": [
       "'C:\\\\Users\\\\fralu\\\\Documents\\\\GitHub\\\\anndl\\\\image-segmentation\\\\Segmentation_Dataset\\\\training\\\\images\\\\img\\\\3584.tif'"
      ]
     },
     "execution_count": 6,
     "metadata": {},
     "output_type": "execute_result"
    },
    {
     "data": {
      "text/plain": [
       "'C:\\\\Users\\\\fralu\\\\Documents\\\\GitHub\\\\anndl\\\\image-segmentation\\\\Segmentation_Dataset\\\\training\\\\masks\\\\img\\\\3584.tif'"
      ]
     },
     "execution_count": 6,
     "metadata": {},
     "output_type": "execute_result"
    },
    {
     "data": {
      "text/plain": [
       "'C:\\\\Users\\\\fralu\\\\Documents\\\\GitHub\\\\anndl\\\\image-segmentation\\\\Segmentation_Dataset\\\\training\\\\images\\\\img\\\\3601.tif'"
      ]
     },
     "execution_count": 6,
     "metadata": {},
     "output_type": "execute_result"
    },
    {
     "data": {
      "text/plain": [
       "'C:\\\\Users\\\\fralu\\\\Documents\\\\GitHub\\\\anndl\\\\image-segmentation\\\\Segmentation_Dataset\\\\training\\\\masks\\\\img\\\\3601.tif'"
      ]
     },
     "execution_count": 6,
     "metadata": {},
     "output_type": "execute_result"
    },
    {
     "data": {
      "text/plain": [
       "'C:\\\\Users\\\\fralu\\\\Documents\\\\GitHub\\\\anndl\\\\image-segmentation\\\\Segmentation_Dataset\\\\training\\\\images\\\\img\\\\361.tif'"
      ]
     },
     "execution_count": 6,
     "metadata": {},
     "output_type": "execute_result"
    },
    {
     "data": {
      "text/plain": [
       "'C:\\\\Users\\\\fralu\\\\Documents\\\\GitHub\\\\anndl\\\\image-segmentation\\\\Segmentation_Dataset\\\\training\\\\masks\\\\img\\\\361.tif'"
      ]
     },
     "execution_count": 6,
     "metadata": {},
     "output_type": "execute_result"
    },
    {
     "data": {
      "text/plain": [
       "'C:\\\\Users\\\\fralu\\\\Documents\\\\GitHub\\\\anndl\\\\image-segmentation\\\\Segmentation_Dataset\\\\training\\\\images\\\\img\\\\3613.tif'"
      ]
     },
     "execution_count": 6,
     "metadata": {},
     "output_type": "execute_result"
    },
    {
     "data": {
      "text/plain": [
       "'C:\\\\Users\\\\fralu\\\\Documents\\\\GitHub\\\\anndl\\\\image-segmentation\\\\Segmentation_Dataset\\\\training\\\\masks\\\\img\\\\3613.tif'"
      ]
     },
     "execution_count": 6,
     "metadata": {},
     "output_type": "execute_result"
    },
    {
     "data": {
      "text/plain": [
       "'C:\\\\Users\\\\fralu\\\\Documents\\\\GitHub\\\\anndl\\\\image-segmentation\\\\Segmentation_Dataset\\\\training\\\\images\\\\img\\\\3615.tif'"
      ]
     },
     "execution_count": 6,
     "metadata": {},
     "output_type": "execute_result"
    },
    {
     "data": {
      "text/plain": [
       "'C:\\\\Users\\\\fralu\\\\Documents\\\\GitHub\\\\anndl\\\\image-segmentation\\\\Segmentation_Dataset\\\\training\\\\masks\\\\img\\\\3615.tif'"
      ]
     },
     "execution_count": 6,
     "metadata": {},
     "output_type": "execute_result"
    },
    {
     "data": {
      "text/plain": [
       "'C:\\\\Users\\\\fralu\\\\Documents\\\\GitHub\\\\anndl\\\\image-segmentation\\\\Segmentation_Dataset\\\\training\\\\images\\\\img\\\\3617.tif'"
      ]
     },
     "execution_count": 6,
     "metadata": {},
     "output_type": "execute_result"
    },
    {
     "data": {
      "text/plain": [
       "'C:\\\\Users\\\\fralu\\\\Documents\\\\GitHub\\\\anndl\\\\image-segmentation\\\\Segmentation_Dataset\\\\training\\\\masks\\\\img\\\\3617.tif'"
      ]
     },
     "execution_count": 6,
     "metadata": {},
     "output_type": "execute_result"
    },
    {
     "data": {
      "text/plain": [
       "'C:\\\\Users\\\\fralu\\\\Documents\\\\GitHub\\\\anndl\\\\image-segmentation\\\\Segmentation_Dataset\\\\training\\\\images\\\\img\\\\3618.tif'"
      ]
     },
     "execution_count": 6,
     "metadata": {},
     "output_type": "execute_result"
    },
    {
     "data": {
      "text/plain": [
       "'C:\\\\Users\\\\fralu\\\\Documents\\\\GitHub\\\\anndl\\\\image-segmentation\\\\Segmentation_Dataset\\\\training\\\\masks\\\\img\\\\3618.tif'"
      ]
     },
     "execution_count": 6,
     "metadata": {},
     "output_type": "execute_result"
    },
    {
     "data": {
      "text/plain": [
       "'C:\\\\Users\\\\fralu\\\\Documents\\\\GitHub\\\\anndl\\\\image-segmentation\\\\Segmentation_Dataset\\\\training\\\\images\\\\img\\\\3621.tif'"
      ]
     },
     "execution_count": 6,
     "metadata": {},
     "output_type": "execute_result"
    },
    {
     "data": {
      "text/plain": [
       "'C:\\\\Users\\\\fralu\\\\Documents\\\\GitHub\\\\anndl\\\\image-segmentation\\\\Segmentation_Dataset\\\\training\\\\masks\\\\img\\\\3621.tif'"
      ]
     },
     "execution_count": 6,
     "metadata": {},
     "output_type": "execute_result"
    },
    {
     "data": {
      "text/plain": [
       "'C:\\\\Users\\\\fralu\\\\Documents\\\\GitHub\\\\anndl\\\\image-segmentation\\\\Segmentation_Dataset\\\\training\\\\images\\\\img\\\\3633.tif'"
      ]
     },
     "execution_count": 6,
     "metadata": {},
     "output_type": "execute_result"
    },
    {
     "data": {
      "text/plain": [
       "'C:\\\\Users\\\\fralu\\\\Documents\\\\GitHub\\\\anndl\\\\image-segmentation\\\\Segmentation_Dataset\\\\training\\\\masks\\\\img\\\\3633.tif'"
      ]
     },
     "execution_count": 6,
     "metadata": {},
     "output_type": "execute_result"
    },
    {
     "data": {
      "text/plain": [
       "'C:\\\\Users\\\\fralu\\\\Documents\\\\GitHub\\\\anndl\\\\image-segmentation\\\\Segmentation_Dataset\\\\training\\\\images\\\\img\\\\3636.tif'"
      ]
     },
     "execution_count": 6,
     "metadata": {},
     "output_type": "execute_result"
    },
    {
     "data": {
      "text/plain": [
       "'C:\\\\Users\\\\fralu\\\\Documents\\\\GitHub\\\\anndl\\\\image-segmentation\\\\Segmentation_Dataset\\\\training\\\\masks\\\\img\\\\3636.tif'"
      ]
     },
     "execution_count": 6,
     "metadata": {},
     "output_type": "execute_result"
    },
    {
     "data": {
      "text/plain": [
       "'C:\\\\Users\\\\fralu\\\\Documents\\\\GitHub\\\\anndl\\\\image-segmentation\\\\Segmentation_Dataset\\\\training\\\\images\\\\img\\\\3639.tif'"
      ]
     },
     "execution_count": 6,
     "metadata": {},
     "output_type": "execute_result"
    },
    {
     "data": {
      "text/plain": [
       "'C:\\\\Users\\\\fralu\\\\Documents\\\\GitHub\\\\anndl\\\\image-segmentation\\\\Segmentation_Dataset\\\\training\\\\masks\\\\img\\\\3639.tif'"
      ]
     },
     "execution_count": 6,
     "metadata": {},
     "output_type": "execute_result"
    },
    {
     "data": {
      "text/plain": [
       "'C:\\\\Users\\\\fralu\\\\Documents\\\\GitHub\\\\anndl\\\\image-segmentation\\\\Segmentation_Dataset\\\\training\\\\images\\\\img\\\\3649.tif'"
      ]
     },
     "execution_count": 6,
     "metadata": {},
     "output_type": "execute_result"
    },
    {
     "data": {
      "text/plain": [
       "'C:\\\\Users\\\\fralu\\\\Documents\\\\GitHub\\\\anndl\\\\image-segmentation\\\\Segmentation_Dataset\\\\training\\\\masks\\\\img\\\\3649.tif'"
      ]
     },
     "execution_count": 6,
     "metadata": {},
     "output_type": "execute_result"
    },
    {
     "data": {
      "text/plain": [
       "'C:\\\\Users\\\\fralu\\\\Documents\\\\GitHub\\\\anndl\\\\image-segmentation\\\\Segmentation_Dataset\\\\training\\\\images\\\\img\\\\3653.tif'"
      ]
     },
     "execution_count": 6,
     "metadata": {},
     "output_type": "execute_result"
    },
    {
     "data": {
      "text/plain": [
       "'C:\\\\Users\\\\fralu\\\\Documents\\\\GitHub\\\\anndl\\\\image-segmentation\\\\Segmentation_Dataset\\\\training\\\\masks\\\\img\\\\3653.tif'"
      ]
     },
     "execution_count": 6,
     "metadata": {},
     "output_type": "execute_result"
    },
    {
     "data": {
      "text/plain": [
       "'C:\\\\Users\\\\fralu\\\\Documents\\\\GitHub\\\\anndl\\\\image-segmentation\\\\Segmentation_Dataset\\\\training\\\\images\\\\img\\\\3656.tif'"
      ]
     },
     "execution_count": 6,
     "metadata": {},
     "output_type": "execute_result"
    },
    {
     "data": {
      "text/plain": [
       "'C:\\\\Users\\\\fralu\\\\Documents\\\\GitHub\\\\anndl\\\\image-segmentation\\\\Segmentation_Dataset\\\\training\\\\masks\\\\img\\\\3656.tif'"
      ]
     },
     "execution_count": 6,
     "metadata": {},
     "output_type": "execute_result"
    },
    {
     "data": {
      "text/plain": [
       "'C:\\\\Users\\\\fralu\\\\Documents\\\\GitHub\\\\anndl\\\\image-segmentation\\\\Segmentation_Dataset\\\\training\\\\images\\\\img\\\\3659.tif'"
      ]
     },
     "execution_count": 6,
     "metadata": {},
     "output_type": "execute_result"
    },
    {
     "data": {
      "text/plain": [
       "'C:\\\\Users\\\\fralu\\\\Documents\\\\GitHub\\\\anndl\\\\image-segmentation\\\\Segmentation_Dataset\\\\training\\\\masks\\\\img\\\\3659.tif'"
      ]
     },
     "execution_count": 6,
     "metadata": {},
     "output_type": "execute_result"
    },
    {
     "data": {
      "text/plain": [
       "'C:\\\\Users\\\\fralu\\\\Documents\\\\GitHub\\\\anndl\\\\image-segmentation\\\\Segmentation_Dataset\\\\training\\\\images\\\\img\\\\3661.tif'"
      ]
     },
     "execution_count": 6,
     "metadata": {},
     "output_type": "execute_result"
    },
    {
     "data": {
      "text/plain": [
       "'C:\\\\Users\\\\fralu\\\\Documents\\\\GitHub\\\\anndl\\\\image-segmentation\\\\Segmentation_Dataset\\\\training\\\\masks\\\\img\\\\3661.tif'"
      ]
     },
     "execution_count": 6,
     "metadata": {},
     "output_type": "execute_result"
    },
    {
     "data": {
      "text/plain": [
       "'C:\\\\Users\\\\fralu\\\\Documents\\\\GitHub\\\\anndl\\\\image-segmentation\\\\Segmentation_Dataset\\\\training\\\\images\\\\img\\\\3669.tif'"
      ]
     },
     "execution_count": 6,
     "metadata": {},
     "output_type": "execute_result"
    },
    {
     "data": {
      "text/plain": [
       "'C:\\\\Users\\\\fralu\\\\Documents\\\\GitHub\\\\anndl\\\\image-segmentation\\\\Segmentation_Dataset\\\\training\\\\masks\\\\img\\\\3669.tif'"
      ]
     },
     "execution_count": 6,
     "metadata": {},
     "output_type": "execute_result"
    },
    {
     "data": {
      "text/plain": [
       "'C:\\\\Users\\\\fralu\\\\Documents\\\\GitHub\\\\anndl\\\\image-segmentation\\\\Segmentation_Dataset\\\\training\\\\images\\\\img\\\\3682.tif'"
      ]
     },
     "execution_count": 6,
     "metadata": {},
     "output_type": "execute_result"
    },
    {
     "data": {
      "text/plain": [
       "'C:\\\\Users\\\\fralu\\\\Documents\\\\GitHub\\\\anndl\\\\image-segmentation\\\\Segmentation_Dataset\\\\training\\\\masks\\\\img\\\\3682.tif'"
      ]
     },
     "execution_count": 6,
     "metadata": {},
     "output_type": "execute_result"
    },
    {
     "data": {
      "text/plain": [
       "'C:\\\\Users\\\\fralu\\\\Documents\\\\GitHub\\\\anndl\\\\image-segmentation\\\\Segmentation_Dataset\\\\training\\\\images\\\\img\\\\3684.tif'"
      ]
     },
     "execution_count": 6,
     "metadata": {},
     "output_type": "execute_result"
    },
    {
     "data": {
      "text/plain": [
       "'C:\\\\Users\\\\fralu\\\\Documents\\\\GitHub\\\\anndl\\\\image-segmentation\\\\Segmentation_Dataset\\\\training\\\\masks\\\\img\\\\3684.tif'"
      ]
     },
     "execution_count": 6,
     "metadata": {},
     "output_type": "execute_result"
    },
    {
     "data": {
      "text/plain": [
       "'C:\\\\Users\\\\fralu\\\\Documents\\\\GitHub\\\\anndl\\\\image-segmentation\\\\Segmentation_Dataset\\\\training\\\\images\\\\img\\\\3689.tif'"
      ]
     },
     "execution_count": 6,
     "metadata": {},
     "output_type": "execute_result"
    },
    {
     "data": {
      "text/plain": [
       "'C:\\\\Users\\\\fralu\\\\Documents\\\\GitHub\\\\anndl\\\\image-segmentation\\\\Segmentation_Dataset\\\\training\\\\masks\\\\img\\\\3689.tif'"
      ]
     },
     "execution_count": 6,
     "metadata": {},
     "output_type": "execute_result"
    },
    {
     "data": {
      "text/plain": [
       "'C:\\\\Users\\\\fralu\\\\Documents\\\\GitHub\\\\anndl\\\\image-segmentation\\\\Segmentation_Dataset\\\\training\\\\images\\\\img\\\\3696.tif'"
      ]
     },
     "execution_count": 6,
     "metadata": {},
     "output_type": "execute_result"
    },
    {
     "data": {
      "text/plain": [
       "'C:\\\\Users\\\\fralu\\\\Documents\\\\GitHub\\\\anndl\\\\image-segmentation\\\\Segmentation_Dataset\\\\training\\\\masks\\\\img\\\\3696.tif'"
      ]
     },
     "execution_count": 6,
     "metadata": {},
     "output_type": "execute_result"
    },
    {
     "data": {
      "text/plain": [
       "'C:\\\\Users\\\\fralu\\\\Documents\\\\GitHub\\\\anndl\\\\image-segmentation\\\\Segmentation_Dataset\\\\training\\\\images\\\\img\\\\3699.tif'"
      ]
     },
     "execution_count": 6,
     "metadata": {},
     "output_type": "execute_result"
    },
    {
     "data": {
      "text/plain": [
       "'C:\\\\Users\\\\fralu\\\\Documents\\\\GitHub\\\\anndl\\\\image-segmentation\\\\Segmentation_Dataset\\\\training\\\\masks\\\\img\\\\3699.tif'"
      ]
     },
     "execution_count": 6,
     "metadata": {},
     "output_type": "execute_result"
    },
    {
     "data": {
      "text/plain": [
       "'C:\\\\Users\\\\fralu\\\\Documents\\\\GitHub\\\\anndl\\\\image-segmentation\\\\Segmentation_Dataset\\\\training\\\\images\\\\img\\\\3700.tif'"
      ]
     },
     "execution_count": 6,
     "metadata": {},
     "output_type": "execute_result"
    },
    {
     "data": {
      "text/plain": [
       "'C:\\\\Users\\\\fralu\\\\Documents\\\\GitHub\\\\anndl\\\\image-segmentation\\\\Segmentation_Dataset\\\\training\\\\masks\\\\img\\\\3700.tif'"
      ]
     },
     "execution_count": 6,
     "metadata": {},
     "output_type": "execute_result"
    },
    {
     "data": {
      "text/plain": [
       "'C:\\\\Users\\\\fralu\\\\Documents\\\\GitHub\\\\anndl\\\\image-segmentation\\\\Segmentation_Dataset\\\\training\\\\images\\\\img\\\\3703.tif'"
      ]
     },
     "execution_count": 6,
     "metadata": {},
     "output_type": "execute_result"
    },
    {
     "data": {
      "text/plain": [
       "'C:\\\\Users\\\\fralu\\\\Documents\\\\GitHub\\\\anndl\\\\image-segmentation\\\\Segmentation_Dataset\\\\training\\\\masks\\\\img\\\\3703.tif'"
      ]
     },
     "execution_count": 6,
     "metadata": {},
     "output_type": "execute_result"
    },
    {
     "data": {
      "text/plain": [
       "'C:\\\\Users\\\\fralu\\\\Documents\\\\GitHub\\\\anndl\\\\image-segmentation\\\\Segmentation_Dataset\\\\training\\\\images\\\\img\\\\3704.tif'"
      ]
     },
     "execution_count": 6,
     "metadata": {},
     "output_type": "execute_result"
    },
    {
     "data": {
      "text/plain": [
       "'C:\\\\Users\\\\fralu\\\\Documents\\\\GitHub\\\\anndl\\\\image-segmentation\\\\Segmentation_Dataset\\\\training\\\\masks\\\\img\\\\3704.tif'"
      ]
     },
     "execution_count": 6,
     "metadata": {},
     "output_type": "execute_result"
    },
    {
     "data": {
      "text/plain": [
       "'C:\\\\Users\\\\fralu\\\\Documents\\\\GitHub\\\\anndl\\\\image-segmentation\\\\Segmentation_Dataset\\\\training\\\\images\\\\img\\\\3706.tif'"
      ]
     },
     "execution_count": 6,
     "metadata": {},
     "output_type": "execute_result"
    },
    {
     "data": {
      "text/plain": [
       "'C:\\\\Users\\\\fralu\\\\Documents\\\\GitHub\\\\anndl\\\\image-segmentation\\\\Segmentation_Dataset\\\\training\\\\masks\\\\img\\\\3706.tif'"
      ]
     },
     "execution_count": 6,
     "metadata": {},
     "output_type": "execute_result"
    },
    {
     "data": {
      "text/plain": [
       "'C:\\\\Users\\\\fralu\\\\Documents\\\\GitHub\\\\anndl\\\\image-segmentation\\\\Segmentation_Dataset\\\\training\\\\images\\\\img\\\\3707.tif'"
      ]
     },
     "execution_count": 6,
     "metadata": {},
     "output_type": "execute_result"
    },
    {
     "data": {
      "text/plain": [
       "'C:\\\\Users\\\\fralu\\\\Documents\\\\GitHub\\\\anndl\\\\image-segmentation\\\\Segmentation_Dataset\\\\training\\\\masks\\\\img\\\\3707.tif'"
      ]
     },
     "execution_count": 6,
     "metadata": {},
     "output_type": "execute_result"
    },
    {
     "data": {
      "text/plain": [
       "'C:\\\\Users\\\\fralu\\\\Documents\\\\GitHub\\\\anndl\\\\image-segmentation\\\\Segmentation_Dataset\\\\training\\\\images\\\\img\\\\3711.tif'"
      ]
     },
     "execution_count": 6,
     "metadata": {},
     "output_type": "execute_result"
    },
    {
     "data": {
      "text/plain": [
       "'C:\\\\Users\\\\fralu\\\\Documents\\\\GitHub\\\\anndl\\\\image-segmentation\\\\Segmentation_Dataset\\\\training\\\\masks\\\\img\\\\3711.tif'"
      ]
     },
     "execution_count": 6,
     "metadata": {},
     "output_type": "execute_result"
    },
    {
     "data": {
      "text/plain": [
       "'C:\\\\Users\\\\fralu\\\\Documents\\\\GitHub\\\\anndl\\\\image-segmentation\\\\Segmentation_Dataset\\\\training\\\\images\\\\img\\\\3716.tif'"
      ]
     },
     "execution_count": 6,
     "metadata": {},
     "output_type": "execute_result"
    },
    {
     "data": {
      "text/plain": [
       "'C:\\\\Users\\\\fralu\\\\Documents\\\\GitHub\\\\anndl\\\\image-segmentation\\\\Segmentation_Dataset\\\\training\\\\masks\\\\img\\\\3716.tif'"
      ]
     },
     "execution_count": 6,
     "metadata": {},
     "output_type": "execute_result"
    },
    {
     "data": {
      "text/plain": [
       "'C:\\\\Users\\\\fralu\\\\Documents\\\\GitHub\\\\anndl\\\\image-segmentation\\\\Segmentation_Dataset\\\\training\\\\images\\\\img\\\\3718.tif'"
      ]
     },
     "execution_count": 6,
     "metadata": {},
     "output_type": "execute_result"
    },
    {
     "data": {
      "text/plain": [
       "'C:\\\\Users\\\\fralu\\\\Documents\\\\GitHub\\\\anndl\\\\image-segmentation\\\\Segmentation_Dataset\\\\training\\\\masks\\\\img\\\\3718.tif'"
      ]
     },
     "execution_count": 6,
     "metadata": {},
     "output_type": "execute_result"
    },
    {
     "data": {
      "text/plain": [
       "'C:\\\\Users\\\\fralu\\\\Documents\\\\GitHub\\\\anndl\\\\image-segmentation\\\\Segmentation_Dataset\\\\training\\\\images\\\\img\\\\3721.tif'"
      ]
     },
     "execution_count": 6,
     "metadata": {},
     "output_type": "execute_result"
    },
    {
     "data": {
      "text/plain": [
       "'C:\\\\Users\\\\fralu\\\\Documents\\\\GitHub\\\\anndl\\\\image-segmentation\\\\Segmentation_Dataset\\\\training\\\\masks\\\\img\\\\3721.tif'"
      ]
     },
     "execution_count": 6,
     "metadata": {},
     "output_type": "execute_result"
    },
    {
     "data": {
      "text/plain": [
       "'C:\\\\Users\\\\fralu\\\\Documents\\\\GitHub\\\\anndl\\\\image-segmentation\\\\Segmentation_Dataset\\\\training\\\\images\\\\img\\\\3722.tif'"
      ]
     },
     "execution_count": 6,
     "metadata": {},
     "output_type": "execute_result"
    },
    {
     "data": {
      "text/plain": [
       "'C:\\\\Users\\\\fralu\\\\Documents\\\\GitHub\\\\anndl\\\\image-segmentation\\\\Segmentation_Dataset\\\\training\\\\masks\\\\img\\\\3722.tif'"
      ]
     },
     "execution_count": 6,
     "metadata": {},
     "output_type": "execute_result"
    },
    {
     "data": {
      "text/plain": [
       "'C:\\\\Users\\\\fralu\\\\Documents\\\\GitHub\\\\anndl\\\\image-segmentation\\\\Segmentation_Dataset\\\\training\\\\images\\\\img\\\\3724.tif'"
      ]
     },
     "execution_count": 6,
     "metadata": {},
     "output_type": "execute_result"
    },
    {
     "data": {
      "text/plain": [
       "'C:\\\\Users\\\\fralu\\\\Documents\\\\GitHub\\\\anndl\\\\image-segmentation\\\\Segmentation_Dataset\\\\training\\\\masks\\\\img\\\\3724.tif'"
      ]
     },
     "execution_count": 6,
     "metadata": {},
     "output_type": "execute_result"
    },
    {
     "data": {
      "text/plain": [
       "'C:\\\\Users\\\\fralu\\\\Documents\\\\GitHub\\\\anndl\\\\image-segmentation\\\\Segmentation_Dataset\\\\training\\\\images\\\\img\\\\3728.tif'"
      ]
     },
     "execution_count": 6,
     "metadata": {},
     "output_type": "execute_result"
    },
    {
     "data": {
      "text/plain": [
       "'C:\\\\Users\\\\fralu\\\\Documents\\\\GitHub\\\\anndl\\\\image-segmentation\\\\Segmentation_Dataset\\\\training\\\\masks\\\\img\\\\3728.tif'"
      ]
     },
     "execution_count": 6,
     "metadata": {},
     "output_type": "execute_result"
    },
    {
     "data": {
      "text/plain": [
       "'C:\\\\Users\\\\fralu\\\\Documents\\\\GitHub\\\\anndl\\\\image-segmentation\\\\Segmentation_Dataset\\\\training\\\\images\\\\img\\\\3736.tif'"
      ]
     },
     "execution_count": 6,
     "metadata": {},
     "output_type": "execute_result"
    },
    {
     "data": {
      "text/plain": [
       "'C:\\\\Users\\\\fralu\\\\Documents\\\\GitHub\\\\anndl\\\\image-segmentation\\\\Segmentation_Dataset\\\\training\\\\masks\\\\img\\\\3736.tif'"
      ]
     },
     "execution_count": 6,
     "metadata": {},
     "output_type": "execute_result"
    },
    {
     "data": {
      "text/plain": [
       "'C:\\\\Users\\\\fralu\\\\Documents\\\\GitHub\\\\anndl\\\\image-segmentation\\\\Segmentation_Dataset\\\\training\\\\images\\\\img\\\\3739.tif'"
      ]
     },
     "execution_count": 6,
     "metadata": {},
     "output_type": "execute_result"
    },
    {
     "data": {
      "text/plain": [
       "'C:\\\\Users\\\\fralu\\\\Documents\\\\GitHub\\\\anndl\\\\image-segmentation\\\\Segmentation_Dataset\\\\training\\\\masks\\\\img\\\\3739.tif'"
      ]
     },
     "execution_count": 6,
     "metadata": {},
     "output_type": "execute_result"
    },
    {
     "data": {
      "text/plain": [
       "'C:\\\\Users\\\\fralu\\\\Documents\\\\GitHub\\\\anndl\\\\image-segmentation\\\\Segmentation_Dataset\\\\training\\\\images\\\\img\\\\3744.tif'"
      ]
     },
     "execution_count": 6,
     "metadata": {},
     "output_type": "execute_result"
    },
    {
     "data": {
      "text/plain": [
       "'C:\\\\Users\\\\fralu\\\\Documents\\\\GitHub\\\\anndl\\\\image-segmentation\\\\Segmentation_Dataset\\\\training\\\\masks\\\\img\\\\3744.tif'"
      ]
     },
     "execution_count": 6,
     "metadata": {},
     "output_type": "execute_result"
    },
    {
     "data": {
      "text/plain": [
       "'C:\\\\Users\\\\fralu\\\\Documents\\\\GitHub\\\\anndl\\\\image-segmentation\\\\Segmentation_Dataset\\\\training\\\\images\\\\img\\\\3754.tif'"
      ]
     },
     "execution_count": 6,
     "metadata": {},
     "output_type": "execute_result"
    },
    {
     "data": {
      "text/plain": [
       "'C:\\\\Users\\\\fralu\\\\Documents\\\\GitHub\\\\anndl\\\\image-segmentation\\\\Segmentation_Dataset\\\\training\\\\masks\\\\img\\\\3754.tif'"
      ]
     },
     "execution_count": 6,
     "metadata": {},
     "output_type": "execute_result"
    },
    {
     "data": {
      "text/plain": [
       "'C:\\\\Users\\\\fralu\\\\Documents\\\\GitHub\\\\anndl\\\\image-segmentation\\\\Segmentation_Dataset\\\\training\\\\images\\\\img\\\\3762.tif'"
      ]
     },
     "execution_count": 6,
     "metadata": {},
     "output_type": "execute_result"
    },
    {
     "data": {
      "text/plain": [
       "'C:\\\\Users\\\\fralu\\\\Documents\\\\GitHub\\\\anndl\\\\image-segmentation\\\\Segmentation_Dataset\\\\training\\\\masks\\\\img\\\\3762.tif'"
      ]
     },
     "execution_count": 6,
     "metadata": {},
     "output_type": "execute_result"
    },
    {
     "data": {
      "text/plain": [
       "'C:\\\\Users\\\\fralu\\\\Documents\\\\GitHub\\\\anndl\\\\image-segmentation\\\\Segmentation_Dataset\\\\training\\\\images\\\\img\\\\377.tif'"
      ]
     },
     "execution_count": 6,
     "metadata": {},
     "output_type": "execute_result"
    },
    {
     "data": {
      "text/plain": [
       "'C:\\\\Users\\\\fralu\\\\Documents\\\\GitHub\\\\anndl\\\\image-segmentation\\\\Segmentation_Dataset\\\\training\\\\masks\\\\img\\\\377.tif'"
      ]
     },
     "execution_count": 6,
     "metadata": {},
     "output_type": "execute_result"
    },
    {
     "data": {
      "text/plain": [
       "'C:\\\\Users\\\\fralu\\\\Documents\\\\GitHub\\\\anndl\\\\image-segmentation\\\\Segmentation_Dataset\\\\training\\\\images\\\\img\\\\3770.tif'"
      ]
     },
     "execution_count": 6,
     "metadata": {},
     "output_type": "execute_result"
    },
    {
     "data": {
      "text/plain": [
       "'C:\\\\Users\\\\fralu\\\\Documents\\\\GitHub\\\\anndl\\\\image-segmentation\\\\Segmentation_Dataset\\\\training\\\\masks\\\\img\\\\3770.tif'"
      ]
     },
     "execution_count": 6,
     "metadata": {},
     "output_type": "execute_result"
    },
    {
     "data": {
      "text/plain": [
       "'C:\\\\Users\\\\fralu\\\\Documents\\\\GitHub\\\\anndl\\\\image-segmentation\\\\Segmentation_Dataset\\\\training\\\\images\\\\img\\\\3771.tif'"
      ]
     },
     "execution_count": 6,
     "metadata": {},
     "output_type": "execute_result"
    },
    {
     "data": {
      "text/plain": [
       "'C:\\\\Users\\\\fralu\\\\Documents\\\\GitHub\\\\anndl\\\\image-segmentation\\\\Segmentation_Dataset\\\\training\\\\masks\\\\img\\\\3771.tif'"
      ]
     },
     "execution_count": 6,
     "metadata": {},
     "output_type": "execute_result"
    },
    {
     "data": {
      "text/plain": [
       "'C:\\\\Users\\\\fralu\\\\Documents\\\\GitHub\\\\anndl\\\\image-segmentation\\\\Segmentation_Dataset\\\\training\\\\images\\\\img\\\\378.tif'"
      ]
     },
     "execution_count": 6,
     "metadata": {},
     "output_type": "execute_result"
    },
    {
     "data": {
      "text/plain": [
       "'C:\\\\Users\\\\fralu\\\\Documents\\\\GitHub\\\\anndl\\\\image-segmentation\\\\Segmentation_Dataset\\\\training\\\\masks\\\\img\\\\378.tif'"
      ]
     },
     "execution_count": 6,
     "metadata": {},
     "output_type": "execute_result"
    },
    {
     "data": {
      "text/plain": [
       "'C:\\\\Users\\\\fralu\\\\Documents\\\\GitHub\\\\anndl\\\\image-segmentation\\\\Segmentation_Dataset\\\\training\\\\images\\\\img\\\\3782.tif'"
      ]
     },
     "execution_count": 6,
     "metadata": {},
     "output_type": "execute_result"
    },
    {
     "data": {
      "text/plain": [
       "'C:\\\\Users\\\\fralu\\\\Documents\\\\GitHub\\\\anndl\\\\image-segmentation\\\\Segmentation_Dataset\\\\training\\\\masks\\\\img\\\\3782.tif'"
      ]
     },
     "execution_count": 6,
     "metadata": {},
     "output_type": "execute_result"
    },
    {
     "data": {
      "text/plain": [
       "'C:\\\\Users\\\\fralu\\\\Documents\\\\GitHub\\\\anndl\\\\image-segmentation\\\\Segmentation_Dataset\\\\training\\\\images\\\\img\\\\3787.tif'"
      ]
     },
     "execution_count": 6,
     "metadata": {},
     "output_type": "execute_result"
    },
    {
     "data": {
      "text/plain": [
       "'C:\\\\Users\\\\fralu\\\\Documents\\\\GitHub\\\\anndl\\\\image-segmentation\\\\Segmentation_Dataset\\\\training\\\\masks\\\\img\\\\3787.tif'"
      ]
     },
     "execution_count": 6,
     "metadata": {},
     "output_type": "execute_result"
    },
    {
     "data": {
      "text/plain": [
       "'C:\\\\Users\\\\fralu\\\\Documents\\\\GitHub\\\\anndl\\\\image-segmentation\\\\Segmentation_Dataset\\\\training\\\\images\\\\img\\\\3788.tif'"
      ]
     },
     "execution_count": 6,
     "metadata": {},
     "output_type": "execute_result"
    },
    {
     "data": {
      "text/plain": [
       "'C:\\\\Users\\\\fralu\\\\Documents\\\\GitHub\\\\anndl\\\\image-segmentation\\\\Segmentation_Dataset\\\\training\\\\masks\\\\img\\\\3788.tif'"
      ]
     },
     "execution_count": 6,
     "metadata": {},
     "output_type": "execute_result"
    },
    {
     "data": {
      "text/plain": [
       "'C:\\\\Users\\\\fralu\\\\Documents\\\\GitHub\\\\anndl\\\\image-segmentation\\\\Segmentation_Dataset\\\\training\\\\images\\\\img\\\\380.tif'"
      ]
     },
     "execution_count": 6,
     "metadata": {},
     "output_type": "execute_result"
    },
    {
     "data": {
      "text/plain": [
       "'C:\\\\Users\\\\fralu\\\\Documents\\\\GitHub\\\\anndl\\\\image-segmentation\\\\Segmentation_Dataset\\\\training\\\\masks\\\\img\\\\380.tif'"
      ]
     },
     "execution_count": 6,
     "metadata": {},
     "output_type": "execute_result"
    },
    {
     "data": {
      "text/plain": [
       "'C:\\\\Users\\\\fralu\\\\Documents\\\\GitHub\\\\anndl\\\\image-segmentation\\\\Segmentation_Dataset\\\\training\\\\images\\\\img\\\\3801.tif'"
      ]
     },
     "execution_count": 6,
     "metadata": {},
     "output_type": "execute_result"
    },
    {
     "data": {
      "text/plain": [
       "'C:\\\\Users\\\\fralu\\\\Documents\\\\GitHub\\\\anndl\\\\image-segmentation\\\\Segmentation_Dataset\\\\training\\\\masks\\\\img\\\\3801.tif'"
      ]
     },
     "execution_count": 6,
     "metadata": {},
     "output_type": "execute_result"
    },
    {
     "data": {
      "text/plain": [
       "'C:\\\\Users\\\\fralu\\\\Documents\\\\GitHub\\\\anndl\\\\image-segmentation\\\\Segmentation_Dataset\\\\training\\\\images\\\\img\\\\3803.tif'"
      ]
     },
     "execution_count": 6,
     "metadata": {},
     "output_type": "execute_result"
    },
    {
     "data": {
      "text/plain": [
       "'C:\\\\Users\\\\fralu\\\\Documents\\\\GitHub\\\\anndl\\\\image-segmentation\\\\Segmentation_Dataset\\\\training\\\\masks\\\\img\\\\3803.tif'"
      ]
     },
     "execution_count": 6,
     "metadata": {},
     "output_type": "execute_result"
    },
    {
     "data": {
      "text/plain": [
       "'C:\\\\Users\\\\fralu\\\\Documents\\\\GitHub\\\\anndl\\\\image-segmentation\\\\Segmentation_Dataset\\\\training\\\\images\\\\img\\\\3810.tif'"
      ]
     },
     "execution_count": 6,
     "metadata": {},
     "output_type": "execute_result"
    },
    {
     "data": {
      "text/plain": [
       "'C:\\\\Users\\\\fralu\\\\Documents\\\\GitHub\\\\anndl\\\\image-segmentation\\\\Segmentation_Dataset\\\\training\\\\masks\\\\img\\\\3810.tif'"
      ]
     },
     "execution_count": 6,
     "metadata": {},
     "output_type": "execute_result"
    },
    {
     "data": {
      "text/plain": [
       "'C:\\\\Users\\\\fralu\\\\Documents\\\\GitHub\\\\anndl\\\\image-segmentation\\\\Segmentation_Dataset\\\\training\\\\images\\\\img\\\\3812.tif'"
      ]
     },
     "execution_count": 6,
     "metadata": {},
     "output_type": "execute_result"
    },
    {
     "data": {
      "text/plain": [
       "'C:\\\\Users\\\\fralu\\\\Documents\\\\GitHub\\\\anndl\\\\image-segmentation\\\\Segmentation_Dataset\\\\training\\\\masks\\\\img\\\\3812.tif'"
      ]
     },
     "execution_count": 6,
     "metadata": {},
     "output_type": "execute_result"
    },
    {
     "data": {
      "text/plain": [
       "'C:\\\\Users\\\\fralu\\\\Documents\\\\GitHub\\\\anndl\\\\image-segmentation\\\\Segmentation_Dataset\\\\training\\\\images\\\\img\\\\3814.tif'"
      ]
     },
     "execution_count": 6,
     "metadata": {},
     "output_type": "execute_result"
    },
    {
     "data": {
      "text/plain": [
       "'C:\\\\Users\\\\fralu\\\\Documents\\\\GitHub\\\\anndl\\\\image-segmentation\\\\Segmentation_Dataset\\\\training\\\\masks\\\\img\\\\3814.tif'"
      ]
     },
     "execution_count": 6,
     "metadata": {},
     "output_type": "execute_result"
    },
    {
     "data": {
      "text/plain": [
       "'C:\\\\Users\\\\fralu\\\\Documents\\\\GitHub\\\\anndl\\\\image-segmentation\\\\Segmentation_Dataset\\\\training\\\\images\\\\img\\\\3818.tif'"
      ]
     },
     "execution_count": 6,
     "metadata": {},
     "output_type": "execute_result"
    },
    {
     "data": {
      "text/plain": [
       "'C:\\\\Users\\\\fralu\\\\Documents\\\\GitHub\\\\anndl\\\\image-segmentation\\\\Segmentation_Dataset\\\\training\\\\masks\\\\img\\\\3818.tif'"
      ]
     },
     "execution_count": 6,
     "metadata": {},
     "output_type": "execute_result"
    },
    {
     "data": {
      "text/plain": [
       "'C:\\\\Users\\\\fralu\\\\Documents\\\\GitHub\\\\anndl\\\\image-segmentation\\\\Segmentation_Dataset\\\\training\\\\images\\\\img\\\\3827.tif'"
      ]
     },
     "execution_count": 6,
     "metadata": {},
     "output_type": "execute_result"
    },
    {
     "data": {
      "text/plain": [
       "'C:\\\\Users\\\\fralu\\\\Documents\\\\GitHub\\\\anndl\\\\image-segmentation\\\\Segmentation_Dataset\\\\training\\\\masks\\\\img\\\\3827.tif'"
      ]
     },
     "execution_count": 6,
     "metadata": {},
     "output_type": "execute_result"
    },
    {
     "data": {
      "text/plain": [
       "'C:\\\\Users\\\\fralu\\\\Documents\\\\GitHub\\\\anndl\\\\image-segmentation\\\\Segmentation_Dataset\\\\training\\\\images\\\\img\\\\3832.tif'"
      ]
     },
     "execution_count": 6,
     "metadata": {},
     "output_type": "execute_result"
    },
    {
     "data": {
      "text/plain": [
       "'C:\\\\Users\\\\fralu\\\\Documents\\\\GitHub\\\\anndl\\\\image-segmentation\\\\Segmentation_Dataset\\\\training\\\\masks\\\\img\\\\3832.tif'"
      ]
     },
     "execution_count": 6,
     "metadata": {},
     "output_type": "execute_result"
    },
    {
     "data": {
      "text/plain": [
       "'C:\\\\Users\\\\fralu\\\\Documents\\\\GitHub\\\\anndl\\\\image-segmentation\\\\Segmentation_Dataset\\\\training\\\\images\\\\img\\\\3834.tif'"
      ]
     },
     "execution_count": 6,
     "metadata": {},
     "output_type": "execute_result"
    },
    {
     "data": {
      "text/plain": [
       "'C:\\\\Users\\\\fralu\\\\Documents\\\\GitHub\\\\anndl\\\\image-segmentation\\\\Segmentation_Dataset\\\\training\\\\masks\\\\img\\\\3834.tif'"
      ]
     },
     "execution_count": 6,
     "metadata": {},
     "output_type": "execute_result"
    },
    {
     "data": {
      "text/plain": [
       "'C:\\\\Users\\\\fralu\\\\Documents\\\\GitHub\\\\anndl\\\\image-segmentation\\\\Segmentation_Dataset\\\\training\\\\images\\\\img\\\\3839.tif'"
      ]
     },
     "execution_count": 6,
     "metadata": {},
     "output_type": "execute_result"
    },
    {
     "data": {
      "text/plain": [
       "'C:\\\\Users\\\\fralu\\\\Documents\\\\GitHub\\\\anndl\\\\image-segmentation\\\\Segmentation_Dataset\\\\training\\\\masks\\\\img\\\\3839.tif'"
      ]
     },
     "execution_count": 6,
     "metadata": {},
     "output_type": "execute_result"
    },
    {
     "data": {
      "text/plain": [
       "'C:\\\\Users\\\\fralu\\\\Documents\\\\GitHub\\\\anndl\\\\image-segmentation\\\\Segmentation_Dataset\\\\training\\\\images\\\\img\\\\3844.tif'"
      ]
     },
     "execution_count": 6,
     "metadata": {},
     "output_type": "execute_result"
    },
    {
     "data": {
      "text/plain": [
       "'C:\\\\Users\\\\fralu\\\\Documents\\\\GitHub\\\\anndl\\\\image-segmentation\\\\Segmentation_Dataset\\\\training\\\\masks\\\\img\\\\3844.tif'"
      ]
     },
     "execution_count": 6,
     "metadata": {},
     "output_type": "execute_result"
    },
    {
     "data": {
      "text/plain": [
       "'C:\\\\Users\\\\fralu\\\\Documents\\\\GitHub\\\\anndl\\\\image-segmentation\\\\Segmentation_Dataset\\\\training\\\\images\\\\img\\\\3853.tif'"
      ]
     },
     "execution_count": 6,
     "metadata": {},
     "output_type": "execute_result"
    },
    {
     "data": {
      "text/plain": [
       "'C:\\\\Users\\\\fralu\\\\Documents\\\\GitHub\\\\anndl\\\\image-segmentation\\\\Segmentation_Dataset\\\\training\\\\masks\\\\img\\\\3853.tif'"
      ]
     },
     "execution_count": 6,
     "metadata": {},
     "output_type": "execute_result"
    },
    {
     "data": {
      "text/plain": [
       "'C:\\\\Users\\\\fralu\\\\Documents\\\\GitHub\\\\anndl\\\\image-segmentation\\\\Segmentation_Dataset\\\\training\\\\images\\\\img\\\\3858.tif'"
      ]
     },
     "execution_count": 6,
     "metadata": {},
     "output_type": "execute_result"
    },
    {
     "data": {
      "text/plain": [
       "'C:\\\\Users\\\\fralu\\\\Documents\\\\GitHub\\\\anndl\\\\image-segmentation\\\\Segmentation_Dataset\\\\training\\\\masks\\\\img\\\\3858.tif'"
      ]
     },
     "execution_count": 6,
     "metadata": {},
     "output_type": "execute_result"
    },
    {
     "data": {
      "text/plain": [
       "'C:\\\\Users\\\\fralu\\\\Documents\\\\GitHub\\\\anndl\\\\image-segmentation\\\\Segmentation_Dataset\\\\training\\\\images\\\\img\\\\3862.tif'"
      ]
     },
     "execution_count": 6,
     "metadata": {},
     "output_type": "execute_result"
    },
    {
     "data": {
      "text/plain": [
       "'C:\\\\Users\\\\fralu\\\\Documents\\\\GitHub\\\\anndl\\\\image-segmentation\\\\Segmentation_Dataset\\\\training\\\\masks\\\\img\\\\3862.tif'"
      ]
     },
     "execution_count": 6,
     "metadata": {},
     "output_type": "execute_result"
    },
    {
     "data": {
      "text/plain": [
       "'C:\\\\Users\\\\fralu\\\\Documents\\\\GitHub\\\\anndl\\\\image-segmentation\\\\Segmentation_Dataset\\\\training\\\\images\\\\img\\\\3869.tif'"
      ]
     },
     "execution_count": 6,
     "metadata": {},
     "output_type": "execute_result"
    },
    {
     "data": {
      "text/plain": [
       "'C:\\\\Users\\\\fralu\\\\Documents\\\\GitHub\\\\anndl\\\\image-segmentation\\\\Segmentation_Dataset\\\\training\\\\masks\\\\img\\\\3869.tif'"
      ]
     },
     "execution_count": 6,
     "metadata": {},
     "output_type": "execute_result"
    },
    {
     "data": {
      "text/plain": [
       "'C:\\\\Users\\\\fralu\\\\Documents\\\\GitHub\\\\anndl\\\\image-segmentation\\\\Segmentation_Dataset\\\\training\\\\images\\\\img\\\\387.tif'"
      ]
     },
     "execution_count": 6,
     "metadata": {},
     "output_type": "execute_result"
    },
    {
     "data": {
      "text/plain": [
       "'C:\\\\Users\\\\fralu\\\\Documents\\\\GitHub\\\\anndl\\\\image-segmentation\\\\Segmentation_Dataset\\\\training\\\\masks\\\\img\\\\387.tif'"
      ]
     },
     "execution_count": 6,
     "metadata": {},
     "output_type": "execute_result"
    },
    {
     "data": {
      "text/plain": [
       "'C:\\\\Users\\\\fralu\\\\Documents\\\\GitHub\\\\anndl\\\\image-segmentation\\\\Segmentation_Dataset\\\\training\\\\images\\\\img\\\\3870.tif'"
      ]
     },
     "execution_count": 6,
     "metadata": {},
     "output_type": "execute_result"
    },
    {
     "data": {
      "text/plain": [
       "'C:\\\\Users\\\\fralu\\\\Documents\\\\GitHub\\\\anndl\\\\image-segmentation\\\\Segmentation_Dataset\\\\training\\\\masks\\\\img\\\\3870.tif'"
      ]
     },
     "execution_count": 6,
     "metadata": {},
     "output_type": "execute_result"
    },
    {
     "data": {
      "text/plain": [
       "'C:\\\\Users\\\\fralu\\\\Documents\\\\GitHub\\\\anndl\\\\image-segmentation\\\\Segmentation_Dataset\\\\training\\\\images\\\\img\\\\3876.tif'"
      ]
     },
     "execution_count": 6,
     "metadata": {},
     "output_type": "execute_result"
    },
    {
     "data": {
      "text/plain": [
       "'C:\\\\Users\\\\fralu\\\\Documents\\\\GitHub\\\\anndl\\\\image-segmentation\\\\Segmentation_Dataset\\\\training\\\\masks\\\\img\\\\3876.tif'"
      ]
     },
     "execution_count": 6,
     "metadata": {},
     "output_type": "execute_result"
    },
    {
     "data": {
      "text/plain": [
       "'C:\\\\Users\\\\fralu\\\\Documents\\\\GitHub\\\\anndl\\\\image-segmentation\\\\Segmentation_Dataset\\\\training\\\\images\\\\img\\\\3879.tif'"
      ]
     },
     "execution_count": 6,
     "metadata": {},
     "output_type": "execute_result"
    },
    {
     "data": {
      "text/plain": [
       "'C:\\\\Users\\\\fralu\\\\Documents\\\\GitHub\\\\anndl\\\\image-segmentation\\\\Segmentation_Dataset\\\\training\\\\masks\\\\img\\\\3879.tif'"
      ]
     },
     "execution_count": 6,
     "metadata": {},
     "output_type": "execute_result"
    },
    {
     "data": {
      "text/plain": [
       "'C:\\\\Users\\\\fralu\\\\Documents\\\\GitHub\\\\anndl\\\\image-segmentation\\\\Segmentation_Dataset\\\\training\\\\images\\\\img\\\\3889.tif'"
      ]
     },
     "execution_count": 6,
     "metadata": {},
     "output_type": "execute_result"
    },
    {
     "data": {
      "text/plain": [
       "'C:\\\\Users\\\\fralu\\\\Documents\\\\GitHub\\\\anndl\\\\image-segmentation\\\\Segmentation_Dataset\\\\training\\\\masks\\\\img\\\\3889.tif'"
      ]
     },
     "execution_count": 6,
     "metadata": {},
     "output_type": "execute_result"
    },
    {
     "data": {
      "text/plain": [
       "'C:\\\\Users\\\\fralu\\\\Documents\\\\GitHub\\\\anndl\\\\image-segmentation\\\\Segmentation_Dataset\\\\training\\\\images\\\\img\\\\3894.tif'"
      ]
     },
     "execution_count": 6,
     "metadata": {},
     "output_type": "execute_result"
    },
    {
     "data": {
      "text/plain": [
       "'C:\\\\Users\\\\fralu\\\\Documents\\\\GitHub\\\\anndl\\\\image-segmentation\\\\Segmentation_Dataset\\\\training\\\\masks\\\\img\\\\3894.tif'"
      ]
     },
     "execution_count": 6,
     "metadata": {},
     "output_type": "execute_result"
    },
    {
     "data": {
      "text/plain": [
       "'C:\\\\Users\\\\fralu\\\\Documents\\\\GitHub\\\\anndl\\\\image-segmentation\\\\Segmentation_Dataset\\\\training\\\\images\\\\img\\\\3897.tif'"
      ]
     },
     "execution_count": 6,
     "metadata": {},
     "output_type": "execute_result"
    },
    {
     "data": {
      "text/plain": [
       "'C:\\\\Users\\\\fralu\\\\Documents\\\\GitHub\\\\anndl\\\\image-segmentation\\\\Segmentation_Dataset\\\\training\\\\masks\\\\img\\\\3897.tif'"
      ]
     },
     "execution_count": 6,
     "metadata": {},
     "output_type": "execute_result"
    },
    {
     "data": {
      "text/plain": [
       "'C:\\\\Users\\\\fralu\\\\Documents\\\\GitHub\\\\anndl\\\\image-segmentation\\\\Segmentation_Dataset\\\\training\\\\images\\\\img\\\\3900.tif'"
      ]
     },
     "execution_count": 6,
     "metadata": {},
     "output_type": "execute_result"
    },
    {
     "data": {
      "text/plain": [
       "'C:\\\\Users\\\\fralu\\\\Documents\\\\GitHub\\\\anndl\\\\image-segmentation\\\\Segmentation_Dataset\\\\training\\\\masks\\\\img\\\\3900.tif'"
      ]
     },
     "execution_count": 6,
     "metadata": {},
     "output_type": "execute_result"
    },
    {
     "data": {
      "text/plain": [
       "'C:\\\\Users\\\\fralu\\\\Documents\\\\GitHub\\\\anndl\\\\image-segmentation\\\\Segmentation_Dataset\\\\training\\\\images\\\\img\\\\3908.tif'"
      ]
     },
     "execution_count": 6,
     "metadata": {},
     "output_type": "execute_result"
    },
    {
     "data": {
      "text/plain": [
       "'C:\\\\Users\\\\fralu\\\\Documents\\\\GitHub\\\\anndl\\\\image-segmentation\\\\Segmentation_Dataset\\\\training\\\\masks\\\\img\\\\3908.tif'"
      ]
     },
     "execution_count": 6,
     "metadata": {},
     "output_type": "execute_result"
    },
    {
     "data": {
      "text/plain": [
       "'C:\\\\Users\\\\fralu\\\\Documents\\\\GitHub\\\\anndl\\\\image-segmentation\\\\Segmentation_Dataset\\\\training\\\\images\\\\img\\\\3909.tif'"
      ]
     },
     "execution_count": 6,
     "metadata": {},
     "output_type": "execute_result"
    },
    {
     "data": {
      "text/plain": [
       "'C:\\\\Users\\\\fralu\\\\Documents\\\\GitHub\\\\anndl\\\\image-segmentation\\\\Segmentation_Dataset\\\\training\\\\masks\\\\img\\\\3909.tif'"
      ]
     },
     "execution_count": 6,
     "metadata": {},
     "output_type": "execute_result"
    },
    {
     "data": {
      "text/plain": [
       "'C:\\\\Users\\\\fralu\\\\Documents\\\\GitHub\\\\anndl\\\\image-segmentation\\\\Segmentation_Dataset\\\\training\\\\images\\\\img\\\\3915.tif'"
      ]
     },
     "execution_count": 6,
     "metadata": {},
     "output_type": "execute_result"
    },
    {
     "data": {
      "text/plain": [
       "'C:\\\\Users\\\\fralu\\\\Documents\\\\GitHub\\\\anndl\\\\image-segmentation\\\\Segmentation_Dataset\\\\training\\\\masks\\\\img\\\\3915.tif'"
      ]
     },
     "execution_count": 6,
     "metadata": {},
     "output_type": "execute_result"
    },
    {
     "data": {
      "text/plain": [
       "'C:\\\\Users\\\\fralu\\\\Documents\\\\GitHub\\\\anndl\\\\image-segmentation\\\\Segmentation_Dataset\\\\training\\\\images\\\\img\\\\3929.tif'"
      ]
     },
     "execution_count": 6,
     "metadata": {},
     "output_type": "execute_result"
    },
    {
     "data": {
      "text/plain": [
       "'C:\\\\Users\\\\fralu\\\\Documents\\\\GitHub\\\\anndl\\\\image-segmentation\\\\Segmentation_Dataset\\\\training\\\\masks\\\\img\\\\3929.tif'"
      ]
     },
     "execution_count": 6,
     "metadata": {},
     "output_type": "execute_result"
    },
    {
     "data": {
      "text/plain": [
       "'C:\\\\Users\\\\fralu\\\\Documents\\\\GitHub\\\\anndl\\\\image-segmentation\\\\Segmentation_Dataset\\\\training\\\\images\\\\img\\\\3932.tif'"
      ]
     },
     "execution_count": 6,
     "metadata": {},
     "output_type": "execute_result"
    },
    {
     "data": {
      "text/plain": [
       "'C:\\\\Users\\\\fralu\\\\Documents\\\\GitHub\\\\anndl\\\\image-segmentation\\\\Segmentation_Dataset\\\\training\\\\masks\\\\img\\\\3932.tif'"
      ]
     },
     "execution_count": 6,
     "metadata": {},
     "output_type": "execute_result"
    },
    {
     "data": {
      "text/plain": [
       "'C:\\\\Users\\\\fralu\\\\Documents\\\\GitHub\\\\anndl\\\\image-segmentation\\\\Segmentation_Dataset\\\\training\\\\images\\\\img\\\\3938.tif'"
      ]
     },
     "execution_count": 6,
     "metadata": {},
     "output_type": "execute_result"
    },
    {
     "data": {
      "text/plain": [
       "'C:\\\\Users\\\\fralu\\\\Documents\\\\GitHub\\\\anndl\\\\image-segmentation\\\\Segmentation_Dataset\\\\training\\\\masks\\\\img\\\\3938.tif'"
      ]
     },
     "execution_count": 6,
     "metadata": {},
     "output_type": "execute_result"
    },
    {
     "data": {
      "text/plain": [
       "'C:\\\\Users\\\\fralu\\\\Documents\\\\GitHub\\\\anndl\\\\image-segmentation\\\\Segmentation_Dataset\\\\training\\\\images\\\\img\\\\3939.tif'"
      ]
     },
     "execution_count": 6,
     "metadata": {},
     "output_type": "execute_result"
    },
    {
     "data": {
      "text/plain": [
       "'C:\\\\Users\\\\fralu\\\\Documents\\\\GitHub\\\\anndl\\\\image-segmentation\\\\Segmentation_Dataset\\\\training\\\\masks\\\\img\\\\3939.tif'"
      ]
     },
     "execution_count": 6,
     "metadata": {},
     "output_type": "execute_result"
    },
    {
     "data": {
      "text/plain": [
       "'C:\\\\Users\\\\fralu\\\\Documents\\\\GitHub\\\\anndl\\\\image-segmentation\\\\Segmentation_Dataset\\\\training\\\\images\\\\img\\\\3943.tif'"
      ]
     },
     "execution_count": 6,
     "metadata": {},
     "output_type": "execute_result"
    },
    {
     "data": {
      "text/plain": [
       "'C:\\\\Users\\\\fralu\\\\Documents\\\\GitHub\\\\anndl\\\\image-segmentation\\\\Segmentation_Dataset\\\\training\\\\masks\\\\img\\\\3943.tif'"
      ]
     },
     "execution_count": 6,
     "metadata": {},
     "output_type": "execute_result"
    },
    {
     "data": {
      "text/plain": [
       "'C:\\\\Users\\\\fralu\\\\Documents\\\\GitHub\\\\anndl\\\\image-segmentation\\\\Segmentation_Dataset\\\\training\\\\images\\\\img\\\\3945.tif'"
      ]
     },
     "execution_count": 6,
     "metadata": {},
     "output_type": "execute_result"
    },
    {
     "data": {
      "text/plain": [
       "'C:\\\\Users\\\\fralu\\\\Documents\\\\GitHub\\\\anndl\\\\image-segmentation\\\\Segmentation_Dataset\\\\training\\\\masks\\\\img\\\\3945.tif'"
      ]
     },
     "execution_count": 6,
     "metadata": {},
     "output_type": "execute_result"
    },
    {
     "data": {
      "text/plain": [
       "'C:\\\\Users\\\\fralu\\\\Documents\\\\GitHub\\\\anndl\\\\image-segmentation\\\\Segmentation_Dataset\\\\training\\\\images\\\\img\\\\398.tif'"
      ]
     },
     "execution_count": 6,
     "metadata": {},
     "output_type": "execute_result"
    },
    {
     "data": {
      "text/plain": [
       "'C:\\\\Users\\\\fralu\\\\Documents\\\\GitHub\\\\anndl\\\\image-segmentation\\\\Segmentation_Dataset\\\\training\\\\masks\\\\img\\\\398.tif'"
      ]
     },
     "execution_count": 6,
     "metadata": {},
     "output_type": "execute_result"
    },
    {
     "data": {
      "text/plain": [
       "'C:\\\\Users\\\\fralu\\\\Documents\\\\GitHub\\\\anndl\\\\image-segmentation\\\\Segmentation_Dataset\\\\training\\\\images\\\\img\\\\400.tif'"
      ]
     },
     "execution_count": 6,
     "metadata": {},
     "output_type": "execute_result"
    },
    {
     "data": {
      "text/plain": [
       "'C:\\\\Users\\\\fralu\\\\Documents\\\\GitHub\\\\anndl\\\\image-segmentation\\\\Segmentation_Dataset\\\\training\\\\masks\\\\img\\\\400.tif'"
      ]
     },
     "execution_count": 6,
     "metadata": {},
     "output_type": "execute_result"
    },
    {
     "data": {
      "text/plain": [
       "'C:\\\\Users\\\\fralu\\\\Documents\\\\GitHub\\\\anndl\\\\image-segmentation\\\\Segmentation_Dataset\\\\training\\\\images\\\\img\\\\406.tif'"
      ]
     },
     "execution_count": 6,
     "metadata": {},
     "output_type": "execute_result"
    },
    {
     "data": {
      "text/plain": [
       "'C:\\\\Users\\\\fralu\\\\Documents\\\\GitHub\\\\anndl\\\\image-segmentation\\\\Segmentation_Dataset\\\\training\\\\masks\\\\img\\\\406.tif'"
      ]
     },
     "execution_count": 6,
     "metadata": {},
     "output_type": "execute_result"
    },
    {
     "data": {
      "text/plain": [
       "'C:\\\\Users\\\\fralu\\\\Documents\\\\GitHub\\\\anndl\\\\image-segmentation\\\\Segmentation_Dataset\\\\training\\\\images\\\\img\\\\409.tif'"
      ]
     },
     "execution_count": 6,
     "metadata": {},
     "output_type": "execute_result"
    },
    {
     "data": {
      "text/plain": [
       "'C:\\\\Users\\\\fralu\\\\Documents\\\\GitHub\\\\anndl\\\\image-segmentation\\\\Segmentation_Dataset\\\\training\\\\masks\\\\img\\\\409.tif'"
      ]
     },
     "execution_count": 6,
     "metadata": {},
     "output_type": "execute_result"
    },
    {
     "data": {
      "text/plain": [
       "'C:\\\\Users\\\\fralu\\\\Documents\\\\GitHub\\\\anndl\\\\image-segmentation\\\\Segmentation_Dataset\\\\training\\\\images\\\\img\\\\411.tif'"
      ]
     },
     "execution_count": 6,
     "metadata": {},
     "output_type": "execute_result"
    },
    {
     "data": {
      "text/plain": [
       "'C:\\\\Users\\\\fralu\\\\Documents\\\\GitHub\\\\anndl\\\\image-segmentation\\\\Segmentation_Dataset\\\\training\\\\masks\\\\img\\\\411.tif'"
      ]
     },
     "execution_count": 6,
     "metadata": {},
     "output_type": "execute_result"
    },
    {
     "data": {
      "text/plain": [
       "'C:\\\\Users\\\\fralu\\\\Documents\\\\GitHub\\\\anndl\\\\image-segmentation\\\\Segmentation_Dataset\\\\training\\\\images\\\\img\\\\412.tif'"
      ]
     },
     "execution_count": 6,
     "metadata": {},
     "output_type": "execute_result"
    },
    {
     "data": {
      "text/plain": [
       "'C:\\\\Users\\\\fralu\\\\Documents\\\\GitHub\\\\anndl\\\\image-segmentation\\\\Segmentation_Dataset\\\\training\\\\masks\\\\img\\\\412.tif'"
      ]
     },
     "execution_count": 6,
     "metadata": {},
     "output_type": "execute_result"
    },
    {
     "data": {
      "text/plain": [
       "'C:\\\\Users\\\\fralu\\\\Documents\\\\GitHub\\\\anndl\\\\image-segmentation\\\\Segmentation_Dataset\\\\training\\\\images\\\\img\\\\4134.tif'"
      ]
     },
     "execution_count": 6,
     "metadata": {},
     "output_type": "execute_result"
    },
    {
     "data": {
      "text/plain": [
       "'C:\\\\Users\\\\fralu\\\\Documents\\\\GitHub\\\\anndl\\\\image-segmentation\\\\Segmentation_Dataset\\\\training\\\\masks\\\\img\\\\4134.tif'"
      ]
     },
     "execution_count": 6,
     "metadata": {},
     "output_type": "execute_result"
    },
    {
     "data": {
      "text/plain": [
       "'C:\\\\Users\\\\fralu\\\\Documents\\\\GitHub\\\\anndl\\\\image-segmentation\\\\Segmentation_Dataset\\\\training\\\\images\\\\img\\\\415.tif'"
      ]
     },
     "execution_count": 6,
     "metadata": {},
     "output_type": "execute_result"
    },
    {
     "data": {
      "text/plain": [
       "'C:\\\\Users\\\\fralu\\\\Documents\\\\GitHub\\\\anndl\\\\image-segmentation\\\\Segmentation_Dataset\\\\training\\\\masks\\\\img\\\\415.tif'"
      ]
     },
     "execution_count": 6,
     "metadata": {},
     "output_type": "execute_result"
    },
    {
     "data": {
      "text/plain": [
       "'C:\\\\Users\\\\fralu\\\\Documents\\\\GitHub\\\\anndl\\\\image-segmentation\\\\Segmentation_Dataset\\\\training\\\\images\\\\img\\\\4150.tif'"
      ]
     },
     "execution_count": 6,
     "metadata": {},
     "output_type": "execute_result"
    },
    {
     "data": {
      "text/plain": [
       "'C:\\\\Users\\\\fralu\\\\Documents\\\\GitHub\\\\anndl\\\\image-segmentation\\\\Segmentation_Dataset\\\\training\\\\masks\\\\img\\\\4150.tif'"
      ]
     },
     "execution_count": 6,
     "metadata": {},
     "output_type": "execute_result"
    },
    {
     "data": {
      "text/plain": [
       "'C:\\\\Users\\\\fralu\\\\Documents\\\\GitHub\\\\anndl\\\\image-segmentation\\\\Segmentation_Dataset\\\\training\\\\images\\\\img\\\\4152.tif'"
      ]
     },
     "execution_count": 6,
     "metadata": {},
     "output_type": "execute_result"
    },
    {
     "data": {
      "text/plain": [
       "'C:\\\\Users\\\\fralu\\\\Documents\\\\GitHub\\\\anndl\\\\image-segmentation\\\\Segmentation_Dataset\\\\training\\\\masks\\\\img\\\\4152.tif'"
      ]
     },
     "execution_count": 6,
     "metadata": {},
     "output_type": "execute_result"
    },
    {
     "data": {
      "text/plain": [
       "'C:\\\\Users\\\\fralu\\\\Documents\\\\GitHub\\\\anndl\\\\image-segmentation\\\\Segmentation_Dataset\\\\training\\\\images\\\\img\\\\4153.tif'"
      ]
     },
     "execution_count": 6,
     "metadata": {},
     "output_type": "execute_result"
    },
    {
     "data": {
      "text/plain": [
       "'C:\\\\Users\\\\fralu\\\\Documents\\\\GitHub\\\\anndl\\\\image-segmentation\\\\Segmentation_Dataset\\\\training\\\\masks\\\\img\\\\4153.tif'"
      ]
     },
     "execution_count": 6,
     "metadata": {},
     "output_type": "execute_result"
    },
    {
     "data": {
      "text/plain": [
       "'C:\\\\Users\\\\fralu\\\\Documents\\\\GitHub\\\\anndl\\\\image-segmentation\\\\Segmentation_Dataset\\\\training\\\\images\\\\img\\\\4156.tif'"
      ]
     },
     "execution_count": 6,
     "metadata": {},
     "output_type": "execute_result"
    },
    {
     "data": {
      "text/plain": [
       "'C:\\\\Users\\\\fralu\\\\Documents\\\\GitHub\\\\anndl\\\\image-segmentation\\\\Segmentation_Dataset\\\\training\\\\masks\\\\img\\\\4156.tif'"
      ]
     },
     "execution_count": 6,
     "metadata": {},
     "output_type": "execute_result"
    },
    {
     "data": {
      "text/plain": [
       "'C:\\\\Users\\\\fralu\\\\Documents\\\\GitHub\\\\anndl\\\\image-segmentation\\\\Segmentation_Dataset\\\\training\\\\images\\\\img\\\\4169.tif'"
      ]
     },
     "execution_count": 6,
     "metadata": {},
     "output_type": "execute_result"
    },
    {
     "data": {
      "text/plain": [
       "'C:\\\\Users\\\\fralu\\\\Documents\\\\GitHub\\\\anndl\\\\image-segmentation\\\\Segmentation_Dataset\\\\training\\\\masks\\\\img\\\\4169.tif'"
      ]
     },
     "execution_count": 6,
     "metadata": {},
     "output_type": "execute_result"
    },
    {
     "data": {
      "text/plain": [
       "'C:\\\\Users\\\\fralu\\\\Documents\\\\GitHub\\\\anndl\\\\image-segmentation\\\\Segmentation_Dataset\\\\training\\\\images\\\\img\\\\417.tif'"
      ]
     },
     "execution_count": 6,
     "metadata": {},
     "output_type": "execute_result"
    },
    {
     "data": {
      "text/plain": [
       "'C:\\\\Users\\\\fralu\\\\Documents\\\\GitHub\\\\anndl\\\\image-segmentation\\\\Segmentation_Dataset\\\\training\\\\masks\\\\img\\\\417.tif'"
      ]
     },
     "execution_count": 6,
     "metadata": {},
     "output_type": "execute_result"
    },
    {
     "data": {
      "text/plain": [
       "'C:\\\\Users\\\\fralu\\\\Documents\\\\GitHub\\\\anndl\\\\image-segmentation\\\\Segmentation_Dataset\\\\training\\\\images\\\\img\\\\4174.tif'"
      ]
     },
     "execution_count": 6,
     "metadata": {},
     "output_type": "execute_result"
    },
    {
     "data": {
      "text/plain": [
       "'C:\\\\Users\\\\fralu\\\\Documents\\\\GitHub\\\\anndl\\\\image-segmentation\\\\Segmentation_Dataset\\\\training\\\\masks\\\\img\\\\4174.tif'"
      ]
     },
     "execution_count": 6,
     "metadata": {},
     "output_type": "execute_result"
    },
    {
     "data": {
      "text/plain": [
       "'C:\\\\Users\\\\fralu\\\\Documents\\\\GitHub\\\\anndl\\\\image-segmentation\\\\Segmentation_Dataset\\\\training\\\\images\\\\img\\\\4179.tif'"
      ]
     },
     "execution_count": 6,
     "metadata": {},
     "output_type": "execute_result"
    },
    {
     "data": {
      "text/plain": [
       "'C:\\\\Users\\\\fralu\\\\Documents\\\\GitHub\\\\anndl\\\\image-segmentation\\\\Segmentation_Dataset\\\\training\\\\masks\\\\img\\\\4179.tif'"
      ]
     },
     "execution_count": 6,
     "metadata": {},
     "output_type": "execute_result"
    },
    {
     "data": {
      "text/plain": [
       "'C:\\\\Users\\\\fralu\\\\Documents\\\\GitHub\\\\anndl\\\\image-segmentation\\\\Segmentation_Dataset\\\\training\\\\images\\\\img\\\\4189.tif'"
      ]
     },
     "execution_count": 6,
     "metadata": {},
     "output_type": "execute_result"
    },
    {
     "data": {
      "text/plain": [
       "'C:\\\\Users\\\\fralu\\\\Documents\\\\GitHub\\\\anndl\\\\image-segmentation\\\\Segmentation_Dataset\\\\training\\\\masks\\\\img\\\\4189.tif'"
      ]
     },
     "execution_count": 6,
     "metadata": {},
     "output_type": "execute_result"
    },
    {
     "data": {
      "text/plain": [
       "'C:\\\\Users\\\\fralu\\\\Documents\\\\GitHub\\\\anndl\\\\image-segmentation\\\\Segmentation_Dataset\\\\training\\\\images\\\\img\\\\4193.tif'"
      ]
     },
     "execution_count": 6,
     "metadata": {},
     "output_type": "execute_result"
    },
    {
     "data": {
      "text/plain": [
       "'C:\\\\Users\\\\fralu\\\\Documents\\\\GitHub\\\\anndl\\\\image-segmentation\\\\Segmentation_Dataset\\\\training\\\\masks\\\\img\\\\4193.tif'"
      ]
     },
     "execution_count": 6,
     "metadata": {},
     "output_type": "execute_result"
    },
    {
     "data": {
      "text/plain": [
       "'C:\\\\Users\\\\fralu\\\\Documents\\\\GitHub\\\\anndl\\\\image-segmentation\\\\Segmentation_Dataset\\\\training\\\\images\\\\img\\\\4197.tif'"
      ]
     },
     "execution_count": 6,
     "metadata": {},
     "output_type": "execute_result"
    },
    {
     "data": {
      "text/plain": [
       "'C:\\\\Users\\\\fralu\\\\Documents\\\\GitHub\\\\anndl\\\\image-segmentation\\\\Segmentation_Dataset\\\\training\\\\masks\\\\img\\\\4197.tif'"
      ]
     },
     "execution_count": 6,
     "metadata": {},
     "output_type": "execute_result"
    },
    {
     "data": {
      "text/plain": [
       "'C:\\\\Users\\\\fralu\\\\Documents\\\\GitHub\\\\anndl\\\\image-segmentation\\\\Segmentation_Dataset\\\\training\\\\images\\\\img\\\\4203.tif'"
      ]
     },
     "execution_count": 6,
     "metadata": {},
     "output_type": "execute_result"
    },
    {
     "data": {
      "text/plain": [
       "'C:\\\\Users\\\\fralu\\\\Documents\\\\GitHub\\\\anndl\\\\image-segmentation\\\\Segmentation_Dataset\\\\training\\\\masks\\\\img\\\\4203.tif'"
      ]
     },
     "execution_count": 6,
     "metadata": {},
     "output_type": "execute_result"
    },
    {
     "data": {
      "text/plain": [
       "'C:\\\\Users\\\\fralu\\\\Documents\\\\GitHub\\\\anndl\\\\image-segmentation\\\\Segmentation_Dataset\\\\training\\\\images\\\\img\\\\4205.tif'"
      ]
     },
     "execution_count": 6,
     "metadata": {},
     "output_type": "execute_result"
    },
    {
     "data": {
      "text/plain": [
       "'C:\\\\Users\\\\fralu\\\\Documents\\\\GitHub\\\\anndl\\\\image-segmentation\\\\Segmentation_Dataset\\\\training\\\\masks\\\\img\\\\4205.tif'"
      ]
     },
     "execution_count": 6,
     "metadata": {},
     "output_type": "execute_result"
    },
    {
     "data": {
      "text/plain": [
       "'C:\\\\Users\\\\fralu\\\\Documents\\\\GitHub\\\\anndl\\\\image-segmentation\\\\Segmentation_Dataset\\\\training\\\\images\\\\img\\\\4214.tif'"
      ]
     },
     "execution_count": 6,
     "metadata": {},
     "output_type": "execute_result"
    },
    {
     "data": {
      "text/plain": [
       "'C:\\\\Users\\\\fralu\\\\Documents\\\\GitHub\\\\anndl\\\\image-segmentation\\\\Segmentation_Dataset\\\\training\\\\masks\\\\img\\\\4214.tif'"
      ]
     },
     "execution_count": 6,
     "metadata": {},
     "output_type": "execute_result"
    },
    {
     "data": {
      "text/plain": [
       "'C:\\\\Users\\\\fralu\\\\Documents\\\\GitHub\\\\anndl\\\\image-segmentation\\\\Segmentation_Dataset\\\\training\\\\images\\\\img\\\\4215.tif'"
      ]
     },
     "execution_count": 6,
     "metadata": {},
     "output_type": "execute_result"
    },
    {
     "data": {
      "text/plain": [
       "'C:\\\\Users\\\\fralu\\\\Documents\\\\GitHub\\\\anndl\\\\image-segmentation\\\\Segmentation_Dataset\\\\training\\\\masks\\\\img\\\\4215.tif'"
      ]
     },
     "execution_count": 6,
     "metadata": {},
     "output_type": "execute_result"
    },
    {
     "data": {
      "text/plain": [
       "'C:\\\\Users\\\\fralu\\\\Documents\\\\GitHub\\\\anndl\\\\image-segmentation\\\\Segmentation_Dataset\\\\training\\\\images\\\\img\\\\422.tif'"
      ]
     },
     "execution_count": 6,
     "metadata": {},
     "output_type": "execute_result"
    },
    {
     "data": {
      "text/plain": [
       "'C:\\\\Users\\\\fralu\\\\Documents\\\\GitHub\\\\anndl\\\\image-segmentation\\\\Segmentation_Dataset\\\\training\\\\masks\\\\img\\\\422.tif'"
      ]
     },
     "execution_count": 6,
     "metadata": {},
     "output_type": "execute_result"
    },
    {
     "data": {
      "text/plain": [
       "'C:\\\\Users\\\\fralu\\\\Documents\\\\GitHub\\\\anndl\\\\image-segmentation\\\\Segmentation_Dataset\\\\training\\\\images\\\\img\\\\4229.tif'"
      ]
     },
     "execution_count": 6,
     "metadata": {},
     "output_type": "execute_result"
    },
    {
     "data": {
      "text/plain": [
       "'C:\\\\Users\\\\fralu\\\\Documents\\\\GitHub\\\\anndl\\\\image-segmentation\\\\Segmentation_Dataset\\\\training\\\\masks\\\\img\\\\4229.tif'"
      ]
     },
     "execution_count": 6,
     "metadata": {},
     "output_type": "execute_result"
    },
    {
     "data": {
      "text/plain": [
       "'C:\\\\Users\\\\fralu\\\\Documents\\\\GitHub\\\\anndl\\\\image-segmentation\\\\Segmentation_Dataset\\\\training\\\\images\\\\img\\\\424.tif'"
      ]
     },
     "execution_count": 6,
     "metadata": {},
     "output_type": "execute_result"
    },
    {
     "data": {
      "text/plain": [
       "'C:\\\\Users\\\\fralu\\\\Documents\\\\GitHub\\\\anndl\\\\image-segmentation\\\\Segmentation_Dataset\\\\training\\\\masks\\\\img\\\\424.tif'"
      ]
     },
     "execution_count": 6,
     "metadata": {},
     "output_type": "execute_result"
    },
    {
     "data": {
      "text/plain": [
       "'C:\\\\Users\\\\fralu\\\\Documents\\\\GitHub\\\\anndl\\\\image-segmentation\\\\Segmentation_Dataset\\\\training\\\\images\\\\img\\\\4243.tif'"
      ]
     },
     "execution_count": 6,
     "metadata": {},
     "output_type": "execute_result"
    },
    {
     "data": {
      "text/plain": [
       "'C:\\\\Users\\\\fralu\\\\Documents\\\\GitHub\\\\anndl\\\\image-segmentation\\\\Segmentation_Dataset\\\\training\\\\masks\\\\img\\\\4243.tif'"
      ]
     },
     "execution_count": 6,
     "metadata": {},
     "output_type": "execute_result"
    },
    {
     "data": {
      "text/plain": [
       "'C:\\\\Users\\\\fralu\\\\Documents\\\\GitHub\\\\anndl\\\\image-segmentation\\\\Segmentation_Dataset\\\\training\\\\images\\\\img\\\\425.tif'"
      ]
     },
     "execution_count": 6,
     "metadata": {},
     "output_type": "execute_result"
    },
    {
     "data": {
      "text/plain": [
       "'C:\\\\Users\\\\fralu\\\\Documents\\\\GitHub\\\\anndl\\\\image-segmentation\\\\Segmentation_Dataset\\\\training\\\\masks\\\\img\\\\425.tif'"
      ]
     },
     "execution_count": 6,
     "metadata": {},
     "output_type": "execute_result"
    },
    {
     "data": {
      "text/plain": [
       "'C:\\\\Users\\\\fralu\\\\Documents\\\\GitHub\\\\anndl\\\\image-segmentation\\\\Segmentation_Dataset\\\\training\\\\images\\\\img\\\\4262.tif'"
      ]
     },
     "execution_count": 6,
     "metadata": {},
     "output_type": "execute_result"
    },
    {
     "data": {
      "text/plain": [
       "'C:\\\\Users\\\\fralu\\\\Documents\\\\GitHub\\\\anndl\\\\image-segmentation\\\\Segmentation_Dataset\\\\training\\\\masks\\\\img\\\\4262.tif'"
      ]
     },
     "execution_count": 6,
     "metadata": {},
     "output_type": "execute_result"
    },
    {
     "data": {
      "text/plain": [
       "'C:\\\\Users\\\\fralu\\\\Documents\\\\GitHub\\\\anndl\\\\image-segmentation\\\\Segmentation_Dataset\\\\training\\\\images\\\\img\\\\4263.tif'"
      ]
     },
     "execution_count": 6,
     "metadata": {},
     "output_type": "execute_result"
    },
    {
     "data": {
      "text/plain": [
       "'C:\\\\Users\\\\fralu\\\\Documents\\\\GitHub\\\\anndl\\\\image-segmentation\\\\Segmentation_Dataset\\\\training\\\\masks\\\\img\\\\4263.tif'"
      ]
     },
     "execution_count": 6,
     "metadata": {},
     "output_type": "execute_result"
    },
    {
     "data": {
      "text/plain": [
       "'C:\\\\Users\\\\fralu\\\\Documents\\\\GitHub\\\\anndl\\\\image-segmentation\\\\Segmentation_Dataset\\\\training\\\\images\\\\img\\\\4266.tif'"
      ]
     },
     "execution_count": 6,
     "metadata": {},
     "output_type": "execute_result"
    },
    {
     "data": {
      "text/plain": [
       "'C:\\\\Users\\\\fralu\\\\Documents\\\\GitHub\\\\anndl\\\\image-segmentation\\\\Segmentation_Dataset\\\\training\\\\masks\\\\img\\\\4266.tif'"
      ]
     },
     "execution_count": 6,
     "metadata": {},
     "output_type": "execute_result"
    },
    {
     "data": {
      "text/plain": [
       "'C:\\\\Users\\\\fralu\\\\Documents\\\\GitHub\\\\anndl\\\\image-segmentation\\\\Segmentation_Dataset\\\\training\\\\images\\\\img\\\\4267.tif'"
      ]
     },
     "execution_count": 6,
     "metadata": {},
     "output_type": "execute_result"
    },
    {
     "data": {
      "text/plain": [
       "'C:\\\\Users\\\\fralu\\\\Documents\\\\GitHub\\\\anndl\\\\image-segmentation\\\\Segmentation_Dataset\\\\training\\\\masks\\\\img\\\\4267.tif'"
      ]
     },
     "execution_count": 6,
     "metadata": {},
     "output_type": "execute_result"
    },
    {
     "data": {
      "text/plain": [
       "'C:\\\\Users\\\\fralu\\\\Documents\\\\GitHub\\\\anndl\\\\image-segmentation\\\\Segmentation_Dataset\\\\training\\\\images\\\\img\\\\4269.tif'"
      ]
     },
     "execution_count": 6,
     "metadata": {},
     "output_type": "execute_result"
    },
    {
     "data": {
      "text/plain": [
       "'C:\\\\Users\\\\fralu\\\\Documents\\\\GitHub\\\\anndl\\\\image-segmentation\\\\Segmentation_Dataset\\\\training\\\\masks\\\\img\\\\4269.tif'"
      ]
     },
     "execution_count": 6,
     "metadata": {},
     "output_type": "execute_result"
    },
    {
     "data": {
      "text/plain": [
       "'C:\\\\Users\\\\fralu\\\\Documents\\\\GitHub\\\\anndl\\\\image-segmentation\\\\Segmentation_Dataset\\\\training\\\\images\\\\img\\\\427.tif'"
      ]
     },
     "execution_count": 6,
     "metadata": {},
     "output_type": "execute_result"
    },
    {
     "data": {
      "text/plain": [
       "'C:\\\\Users\\\\fralu\\\\Documents\\\\GitHub\\\\anndl\\\\image-segmentation\\\\Segmentation_Dataset\\\\training\\\\masks\\\\img\\\\427.tif'"
      ]
     },
     "execution_count": 6,
     "metadata": {},
     "output_type": "execute_result"
    },
    {
     "data": {
      "text/plain": [
       "'C:\\\\Users\\\\fralu\\\\Documents\\\\GitHub\\\\anndl\\\\image-segmentation\\\\Segmentation_Dataset\\\\training\\\\images\\\\img\\\\4271.tif'"
      ]
     },
     "execution_count": 6,
     "metadata": {},
     "output_type": "execute_result"
    },
    {
     "data": {
      "text/plain": [
       "'C:\\\\Users\\\\fralu\\\\Documents\\\\GitHub\\\\anndl\\\\image-segmentation\\\\Segmentation_Dataset\\\\training\\\\masks\\\\img\\\\4271.tif'"
      ]
     },
     "execution_count": 6,
     "metadata": {},
     "output_type": "execute_result"
    },
    {
     "data": {
      "text/plain": [
       "'C:\\\\Users\\\\fralu\\\\Documents\\\\GitHub\\\\anndl\\\\image-segmentation\\\\Segmentation_Dataset\\\\training\\\\images\\\\img\\\\4281.tif'"
      ]
     },
     "execution_count": 6,
     "metadata": {},
     "output_type": "execute_result"
    },
    {
     "data": {
      "text/plain": [
       "'C:\\\\Users\\\\fralu\\\\Documents\\\\GitHub\\\\anndl\\\\image-segmentation\\\\Segmentation_Dataset\\\\training\\\\masks\\\\img\\\\4281.tif'"
      ]
     },
     "execution_count": 6,
     "metadata": {},
     "output_type": "execute_result"
    },
    {
     "data": {
      "text/plain": [
       "'C:\\\\Users\\\\fralu\\\\Documents\\\\GitHub\\\\anndl\\\\image-segmentation\\\\Segmentation_Dataset\\\\training\\\\images\\\\img\\\\4287.tif'"
      ]
     },
     "execution_count": 6,
     "metadata": {},
     "output_type": "execute_result"
    },
    {
     "data": {
      "text/plain": [
       "'C:\\\\Users\\\\fralu\\\\Documents\\\\GitHub\\\\anndl\\\\image-segmentation\\\\Segmentation_Dataset\\\\training\\\\masks\\\\img\\\\4287.tif'"
      ]
     },
     "execution_count": 6,
     "metadata": {},
     "output_type": "execute_result"
    },
    {
     "data": {
      "text/plain": [
       "'C:\\\\Users\\\\fralu\\\\Documents\\\\GitHub\\\\anndl\\\\image-segmentation\\\\Segmentation_Dataset\\\\training\\\\images\\\\img\\\\4288.tif'"
      ]
     },
     "execution_count": 6,
     "metadata": {},
     "output_type": "execute_result"
    },
    {
     "data": {
      "text/plain": [
       "'C:\\\\Users\\\\fralu\\\\Documents\\\\GitHub\\\\anndl\\\\image-segmentation\\\\Segmentation_Dataset\\\\training\\\\masks\\\\img\\\\4288.tif'"
      ]
     },
     "execution_count": 6,
     "metadata": {},
     "output_type": "execute_result"
    },
    {
     "data": {
      "text/plain": [
       "'C:\\\\Users\\\\fralu\\\\Documents\\\\GitHub\\\\anndl\\\\image-segmentation\\\\Segmentation_Dataset\\\\training\\\\images\\\\img\\\\4294.tif'"
      ]
     },
     "execution_count": 6,
     "metadata": {},
     "output_type": "execute_result"
    },
    {
     "data": {
      "text/plain": [
       "'C:\\\\Users\\\\fralu\\\\Documents\\\\GitHub\\\\anndl\\\\image-segmentation\\\\Segmentation_Dataset\\\\training\\\\masks\\\\img\\\\4294.tif'"
      ]
     },
     "execution_count": 6,
     "metadata": {},
     "output_type": "execute_result"
    },
    {
     "data": {
      "text/plain": [
       "'C:\\\\Users\\\\fralu\\\\Documents\\\\GitHub\\\\anndl\\\\image-segmentation\\\\Segmentation_Dataset\\\\training\\\\images\\\\img\\\\4297.tif'"
      ]
     },
     "execution_count": 6,
     "metadata": {},
     "output_type": "execute_result"
    },
    {
     "data": {
      "text/plain": [
       "'C:\\\\Users\\\\fralu\\\\Documents\\\\GitHub\\\\anndl\\\\image-segmentation\\\\Segmentation_Dataset\\\\training\\\\masks\\\\img\\\\4297.tif'"
      ]
     },
     "execution_count": 6,
     "metadata": {},
     "output_type": "execute_result"
    },
    {
     "data": {
      "text/plain": [
       "'C:\\\\Users\\\\fralu\\\\Documents\\\\GitHub\\\\anndl\\\\image-segmentation\\\\Segmentation_Dataset\\\\training\\\\images\\\\img\\\\4299.tif'"
      ]
     },
     "execution_count": 6,
     "metadata": {},
     "output_type": "execute_result"
    },
    {
     "data": {
      "text/plain": [
       "'C:\\\\Users\\\\fralu\\\\Documents\\\\GitHub\\\\anndl\\\\image-segmentation\\\\Segmentation_Dataset\\\\training\\\\masks\\\\img\\\\4299.tif'"
      ]
     },
     "execution_count": 6,
     "metadata": {},
     "output_type": "execute_result"
    },
    {
     "data": {
      "text/plain": [
       "'C:\\\\Users\\\\fralu\\\\Documents\\\\GitHub\\\\anndl\\\\image-segmentation\\\\Segmentation_Dataset\\\\training\\\\images\\\\img\\\\43.tif'"
      ]
     },
     "execution_count": 6,
     "metadata": {},
     "output_type": "execute_result"
    },
    {
     "data": {
      "text/plain": [
       "'C:\\\\Users\\\\fralu\\\\Documents\\\\GitHub\\\\anndl\\\\image-segmentation\\\\Segmentation_Dataset\\\\training\\\\masks\\\\img\\\\43.tif'"
      ]
     },
     "execution_count": 6,
     "metadata": {},
     "output_type": "execute_result"
    },
    {
     "data": {
      "text/plain": [
       "'C:\\\\Users\\\\fralu\\\\Documents\\\\GitHub\\\\anndl\\\\image-segmentation\\\\Segmentation_Dataset\\\\training\\\\images\\\\img\\\\430.tif'"
      ]
     },
     "execution_count": 6,
     "metadata": {},
     "output_type": "execute_result"
    },
    {
     "data": {
      "text/plain": [
       "'C:\\\\Users\\\\fralu\\\\Documents\\\\GitHub\\\\anndl\\\\image-segmentation\\\\Segmentation_Dataset\\\\training\\\\masks\\\\img\\\\430.tif'"
      ]
     },
     "execution_count": 6,
     "metadata": {},
     "output_type": "execute_result"
    },
    {
     "data": {
      "text/plain": [
       "'C:\\\\Users\\\\fralu\\\\Documents\\\\GitHub\\\\anndl\\\\image-segmentation\\\\Segmentation_Dataset\\\\training\\\\images\\\\img\\\\4301.tif'"
      ]
     },
     "execution_count": 6,
     "metadata": {},
     "output_type": "execute_result"
    },
    {
     "data": {
      "text/plain": [
       "'C:\\\\Users\\\\fralu\\\\Documents\\\\GitHub\\\\anndl\\\\image-segmentation\\\\Segmentation_Dataset\\\\training\\\\masks\\\\img\\\\4301.tif'"
      ]
     },
     "execution_count": 6,
     "metadata": {},
     "output_type": "execute_result"
    },
    {
     "data": {
      "text/plain": [
       "'C:\\\\Users\\\\fralu\\\\Documents\\\\GitHub\\\\anndl\\\\image-segmentation\\\\Segmentation_Dataset\\\\training\\\\images\\\\img\\\\4303.tif'"
      ]
     },
     "execution_count": 6,
     "metadata": {},
     "output_type": "execute_result"
    },
    {
     "data": {
      "text/plain": [
       "'C:\\\\Users\\\\fralu\\\\Documents\\\\GitHub\\\\anndl\\\\image-segmentation\\\\Segmentation_Dataset\\\\training\\\\masks\\\\img\\\\4303.tif'"
      ]
     },
     "execution_count": 6,
     "metadata": {},
     "output_type": "execute_result"
    },
    {
     "data": {
      "text/plain": [
       "'C:\\\\Users\\\\fralu\\\\Documents\\\\GitHub\\\\anndl\\\\image-segmentation\\\\Segmentation_Dataset\\\\training\\\\images\\\\img\\\\4306.tif'"
      ]
     },
     "execution_count": 6,
     "metadata": {},
     "output_type": "execute_result"
    },
    {
     "data": {
      "text/plain": [
       "'C:\\\\Users\\\\fralu\\\\Documents\\\\GitHub\\\\anndl\\\\image-segmentation\\\\Segmentation_Dataset\\\\training\\\\masks\\\\img\\\\4306.tif'"
      ]
     },
     "execution_count": 6,
     "metadata": {},
     "output_type": "execute_result"
    },
    {
     "data": {
      "text/plain": [
       "'C:\\\\Users\\\\fralu\\\\Documents\\\\GitHub\\\\anndl\\\\image-segmentation\\\\Segmentation_Dataset\\\\training\\\\images\\\\img\\\\4309.tif'"
      ]
     },
     "execution_count": 6,
     "metadata": {},
     "output_type": "execute_result"
    },
    {
     "data": {
      "text/plain": [
       "'C:\\\\Users\\\\fralu\\\\Documents\\\\GitHub\\\\anndl\\\\image-segmentation\\\\Segmentation_Dataset\\\\training\\\\masks\\\\img\\\\4309.tif'"
      ]
     },
     "execution_count": 6,
     "metadata": {},
     "output_type": "execute_result"
    },
    {
     "data": {
      "text/plain": [
       "'C:\\\\Users\\\\fralu\\\\Documents\\\\GitHub\\\\anndl\\\\image-segmentation\\\\Segmentation_Dataset\\\\training\\\\images\\\\img\\\\4310.tif'"
      ]
     },
     "execution_count": 6,
     "metadata": {},
     "output_type": "execute_result"
    },
    {
     "data": {
      "text/plain": [
       "'C:\\\\Users\\\\fralu\\\\Documents\\\\GitHub\\\\anndl\\\\image-segmentation\\\\Segmentation_Dataset\\\\training\\\\masks\\\\img\\\\4310.tif'"
      ]
     },
     "execution_count": 6,
     "metadata": {},
     "output_type": "execute_result"
    },
    {
     "data": {
      "text/plain": [
       "'C:\\\\Users\\\\fralu\\\\Documents\\\\GitHub\\\\anndl\\\\image-segmentation\\\\Segmentation_Dataset\\\\training\\\\images\\\\img\\\\4317.tif'"
      ]
     },
     "execution_count": 6,
     "metadata": {},
     "output_type": "execute_result"
    },
    {
     "data": {
      "text/plain": [
       "'C:\\\\Users\\\\fralu\\\\Documents\\\\GitHub\\\\anndl\\\\image-segmentation\\\\Segmentation_Dataset\\\\training\\\\masks\\\\img\\\\4317.tif'"
      ]
     },
     "execution_count": 6,
     "metadata": {},
     "output_type": "execute_result"
    },
    {
     "data": {
      "text/plain": [
       "'C:\\\\Users\\\\fralu\\\\Documents\\\\GitHub\\\\anndl\\\\image-segmentation\\\\Segmentation_Dataset\\\\training\\\\images\\\\img\\\\4318.tif'"
      ]
     },
     "execution_count": 6,
     "metadata": {},
     "output_type": "execute_result"
    },
    {
     "data": {
      "text/plain": [
       "'C:\\\\Users\\\\fralu\\\\Documents\\\\GitHub\\\\anndl\\\\image-segmentation\\\\Segmentation_Dataset\\\\training\\\\masks\\\\img\\\\4318.tif'"
      ]
     },
     "execution_count": 6,
     "metadata": {},
     "output_type": "execute_result"
    },
    {
     "data": {
      "text/plain": [
       "'C:\\\\Users\\\\fralu\\\\Documents\\\\GitHub\\\\anndl\\\\image-segmentation\\\\Segmentation_Dataset\\\\training\\\\images\\\\img\\\\432.tif'"
      ]
     },
     "execution_count": 6,
     "metadata": {},
     "output_type": "execute_result"
    },
    {
     "data": {
      "text/plain": [
       "'C:\\\\Users\\\\fralu\\\\Documents\\\\GitHub\\\\anndl\\\\image-segmentation\\\\Segmentation_Dataset\\\\training\\\\masks\\\\img\\\\432.tif'"
      ]
     },
     "execution_count": 6,
     "metadata": {},
     "output_type": "execute_result"
    },
    {
     "data": {
      "text/plain": [
       "'C:\\\\Users\\\\fralu\\\\Documents\\\\GitHub\\\\anndl\\\\image-segmentation\\\\Segmentation_Dataset\\\\training\\\\images\\\\img\\\\4323.tif'"
      ]
     },
     "execution_count": 6,
     "metadata": {},
     "output_type": "execute_result"
    },
    {
     "data": {
      "text/plain": [
       "'C:\\\\Users\\\\fralu\\\\Documents\\\\GitHub\\\\anndl\\\\image-segmentation\\\\Segmentation_Dataset\\\\training\\\\masks\\\\img\\\\4323.tif'"
      ]
     },
     "execution_count": 6,
     "metadata": {},
     "output_type": "execute_result"
    },
    {
     "data": {
      "text/plain": [
       "'C:\\\\Users\\\\fralu\\\\Documents\\\\GitHub\\\\anndl\\\\image-segmentation\\\\Segmentation_Dataset\\\\training\\\\images\\\\img\\\\4329.tif'"
      ]
     },
     "execution_count": 6,
     "metadata": {},
     "output_type": "execute_result"
    },
    {
     "data": {
      "text/plain": [
       "'C:\\\\Users\\\\fralu\\\\Documents\\\\GitHub\\\\anndl\\\\image-segmentation\\\\Segmentation_Dataset\\\\training\\\\masks\\\\img\\\\4329.tif'"
      ]
     },
     "execution_count": 6,
     "metadata": {},
     "output_type": "execute_result"
    },
    {
     "data": {
      "text/plain": [
       "'C:\\\\Users\\\\fralu\\\\Documents\\\\GitHub\\\\anndl\\\\image-segmentation\\\\Segmentation_Dataset\\\\training\\\\images\\\\img\\\\4333.tif'"
      ]
     },
     "execution_count": 6,
     "metadata": {},
     "output_type": "execute_result"
    },
    {
     "data": {
      "text/plain": [
       "'C:\\\\Users\\\\fralu\\\\Documents\\\\GitHub\\\\anndl\\\\image-segmentation\\\\Segmentation_Dataset\\\\training\\\\masks\\\\img\\\\4333.tif'"
      ]
     },
     "execution_count": 6,
     "metadata": {},
     "output_type": "execute_result"
    },
    {
     "data": {
      "text/plain": [
       "'C:\\\\Users\\\\fralu\\\\Documents\\\\GitHub\\\\anndl\\\\image-segmentation\\\\Segmentation_Dataset\\\\training\\\\images\\\\img\\\\4336.tif'"
      ]
     },
     "execution_count": 6,
     "metadata": {},
     "output_type": "execute_result"
    },
    {
     "data": {
      "text/plain": [
       "'C:\\\\Users\\\\fralu\\\\Documents\\\\GitHub\\\\anndl\\\\image-segmentation\\\\Segmentation_Dataset\\\\training\\\\masks\\\\img\\\\4336.tif'"
      ]
     },
     "execution_count": 6,
     "metadata": {},
     "output_type": "execute_result"
    },
    {
     "data": {
      "text/plain": [
       "'C:\\\\Users\\\\fralu\\\\Documents\\\\GitHub\\\\anndl\\\\image-segmentation\\\\Segmentation_Dataset\\\\training\\\\images\\\\img\\\\4342.tif'"
      ]
     },
     "execution_count": 6,
     "metadata": {},
     "output_type": "execute_result"
    },
    {
     "data": {
      "text/plain": [
       "'C:\\\\Users\\\\fralu\\\\Documents\\\\GitHub\\\\anndl\\\\image-segmentation\\\\Segmentation_Dataset\\\\training\\\\masks\\\\img\\\\4342.tif'"
      ]
     },
     "execution_count": 6,
     "metadata": {},
     "output_type": "execute_result"
    },
    {
     "data": {
      "text/plain": [
       "'C:\\\\Users\\\\fralu\\\\Documents\\\\GitHub\\\\anndl\\\\image-segmentation\\\\Segmentation_Dataset\\\\training\\\\images\\\\img\\\\4344.tif'"
      ]
     },
     "execution_count": 6,
     "metadata": {},
     "output_type": "execute_result"
    },
    {
     "data": {
      "text/plain": [
       "'C:\\\\Users\\\\fralu\\\\Documents\\\\GitHub\\\\anndl\\\\image-segmentation\\\\Segmentation_Dataset\\\\training\\\\masks\\\\img\\\\4344.tif'"
      ]
     },
     "execution_count": 6,
     "metadata": {},
     "output_type": "execute_result"
    },
    {
     "data": {
      "text/plain": [
       "'C:\\\\Users\\\\fralu\\\\Documents\\\\GitHub\\\\anndl\\\\image-segmentation\\\\Segmentation_Dataset\\\\training\\\\images\\\\img\\\\4347.tif'"
      ]
     },
     "execution_count": 6,
     "metadata": {},
     "output_type": "execute_result"
    },
    {
     "data": {
      "text/plain": [
       "'C:\\\\Users\\\\fralu\\\\Documents\\\\GitHub\\\\anndl\\\\image-segmentation\\\\Segmentation_Dataset\\\\training\\\\masks\\\\img\\\\4347.tif'"
      ]
     },
     "execution_count": 6,
     "metadata": {},
     "output_type": "execute_result"
    },
    {
     "data": {
      "text/plain": [
       "'C:\\\\Users\\\\fralu\\\\Documents\\\\GitHub\\\\anndl\\\\image-segmentation\\\\Segmentation_Dataset\\\\training\\\\images\\\\img\\\\435.tif'"
      ]
     },
     "execution_count": 6,
     "metadata": {},
     "output_type": "execute_result"
    },
    {
     "data": {
      "text/plain": [
       "'C:\\\\Users\\\\fralu\\\\Documents\\\\GitHub\\\\anndl\\\\image-segmentation\\\\Segmentation_Dataset\\\\training\\\\masks\\\\img\\\\435.tif'"
      ]
     },
     "execution_count": 6,
     "metadata": {},
     "output_type": "execute_result"
    },
    {
     "data": {
      "text/plain": [
       "'C:\\\\Users\\\\fralu\\\\Documents\\\\GitHub\\\\anndl\\\\image-segmentation\\\\Segmentation_Dataset\\\\training\\\\images\\\\img\\\\4352.tif'"
      ]
     },
     "execution_count": 6,
     "metadata": {},
     "output_type": "execute_result"
    },
    {
     "data": {
      "text/plain": [
       "'C:\\\\Users\\\\fralu\\\\Documents\\\\GitHub\\\\anndl\\\\image-segmentation\\\\Segmentation_Dataset\\\\training\\\\masks\\\\img\\\\4352.tif'"
      ]
     },
     "execution_count": 6,
     "metadata": {},
     "output_type": "execute_result"
    },
    {
     "data": {
      "text/plain": [
       "'C:\\\\Users\\\\fralu\\\\Documents\\\\GitHub\\\\anndl\\\\image-segmentation\\\\Segmentation_Dataset\\\\training\\\\images\\\\img\\\\4359.tif'"
      ]
     },
     "execution_count": 6,
     "metadata": {},
     "output_type": "execute_result"
    },
    {
     "data": {
      "text/plain": [
       "'C:\\\\Users\\\\fralu\\\\Documents\\\\GitHub\\\\anndl\\\\image-segmentation\\\\Segmentation_Dataset\\\\training\\\\masks\\\\img\\\\4359.tif'"
      ]
     },
     "execution_count": 6,
     "metadata": {},
     "output_type": "execute_result"
    },
    {
     "data": {
      "text/plain": [
       "'C:\\\\Users\\\\fralu\\\\Documents\\\\GitHub\\\\anndl\\\\image-segmentation\\\\Segmentation_Dataset\\\\training\\\\images\\\\img\\\\4361.tif'"
      ]
     },
     "execution_count": 6,
     "metadata": {},
     "output_type": "execute_result"
    },
    {
     "data": {
      "text/plain": [
       "'C:\\\\Users\\\\fralu\\\\Documents\\\\GitHub\\\\anndl\\\\image-segmentation\\\\Segmentation_Dataset\\\\training\\\\masks\\\\img\\\\4361.tif'"
      ]
     },
     "execution_count": 6,
     "metadata": {},
     "output_type": "execute_result"
    },
    {
     "data": {
      "text/plain": [
       "'C:\\\\Users\\\\fralu\\\\Documents\\\\GitHub\\\\anndl\\\\image-segmentation\\\\Segmentation_Dataset\\\\training\\\\images\\\\img\\\\4363.tif'"
      ]
     },
     "execution_count": 6,
     "metadata": {},
     "output_type": "execute_result"
    },
    {
     "data": {
      "text/plain": [
       "'C:\\\\Users\\\\fralu\\\\Documents\\\\GitHub\\\\anndl\\\\image-segmentation\\\\Segmentation_Dataset\\\\training\\\\masks\\\\img\\\\4363.tif'"
      ]
     },
     "execution_count": 6,
     "metadata": {},
     "output_type": "execute_result"
    },
    {
     "data": {
      "text/plain": [
       "'C:\\\\Users\\\\fralu\\\\Documents\\\\GitHub\\\\anndl\\\\image-segmentation\\\\Segmentation_Dataset\\\\training\\\\images\\\\img\\\\4368.tif'"
      ]
     },
     "execution_count": 6,
     "metadata": {},
     "output_type": "execute_result"
    },
    {
     "data": {
      "text/plain": [
       "'C:\\\\Users\\\\fralu\\\\Documents\\\\GitHub\\\\anndl\\\\image-segmentation\\\\Segmentation_Dataset\\\\training\\\\masks\\\\img\\\\4368.tif'"
      ]
     },
     "execution_count": 6,
     "metadata": {},
     "output_type": "execute_result"
    },
    {
     "data": {
      "text/plain": [
       "'C:\\\\Users\\\\fralu\\\\Documents\\\\GitHub\\\\anndl\\\\image-segmentation\\\\Segmentation_Dataset\\\\training\\\\images\\\\img\\\\4369.tif'"
      ]
     },
     "execution_count": 6,
     "metadata": {},
     "output_type": "execute_result"
    },
    {
     "data": {
      "text/plain": [
       "'C:\\\\Users\\\\fralu\\\\Documents\\\\GitHub\\\\anndl\\\\image-segmentation\\\\Segmentation_Dataset\\\\training\\\\masks\\\\img\\\\4369.tif'"
      ]
     },
     "execution_count": 6,
     "metadata": {},
     "output_type": "execute_result"
    },
    {
     "data": {
      "text/plain": [
       "'C:\\\\Users\\\\fralu\\\\Documents\\\\GitHub\\\\anndl\\\\image-segmentation\\\\Segmentation_Dataset\\\\training\\\\images\\\\img\\\\4370.tif'"
      ]
     },
     "execution_count": 6,
     "metadata": {},
     "output_type": "execute_result"
    },
    {
     "data": {
      "text/plain": [
       "'C:\\\\Users\\\\fralu\\\\Documents\\\\GitHub\\\\anndl\\\\image-segmentation\\\\Segmentation_Dataset\\\\training\\\\masks\\\\img\\\\4370.tif'"
      ]
     },
     "execution_count": 6,
     "metadata": {},
     "output_type": "execute_result"
    },
    {
     "data": {
      "text/plain": [
       "'C:\\\\Users\\\\fralu\\\\Documents\\\\GitHub\\\\anndl\\\\image-segmentation\\\\Segmentation_Dataset\\\\training\\\\images\\\\img\\\\4376.tif'"
      ]
     },
     "execution_count": 6,
     "metadata": {},
     "output_type": "execute_result"
    },
    {
     "data": {
      "text/plain": [
       "'C:\\\\Users\\\\fralu\\\\Documents\\\\GitHub\\\\anndl\\\\image-segmentation\\\\Segmentation_Dataset\\\\training\\\\masks\\\\img\\\\4376.tif'"
      ]
     },
     "execution_count": 6,
     "metadata": {},
     "output_type": "execute_result"
    },
    {
     "data": {
      "text/plain": [
       "'C:\\\\Users\\\\fralu\\\\Documents\\\\GitHub\\\\anndl\\\\image-segmentation\\\\Segmentation_Dataset\\\\training\\\\images\\\\img\\\\4379.tif'"
      ]
     },
     "execution_count": 6,
     "metadata": {},
     "output_type": "execute_result"
    },
    {
     "data": {
      "text/plain": [
       "'C:\\\\Users\\\\fralu\\\\Documents\\\\GitHub\\\\anndl\\\\image-segmentation\\\\Segmentation_Dataset\\\\training\\\\masks\\\\img\\\\4379.tif'"
      ]
     },
     "execution_count": 6,
     "metadata": {},
     "output_type": "execute_result"
    },
    {
     "data": {
      "text/plain": [
       "'C:\\\\Users\\\\fralu\\\\Documents\\\\GitHub\\\\anndl\\\\image-segmentation\\\\Segmentation_Dataset\\\\training\\\\images\\\\img\\\\4385.tif'"
      ]
     },
     "execution_count": 6,
     "metadata": {},
     "output_type": "execute_result"
    },
    {
     "data": {
      "text/plain": [
       "'C:\\\\Users\\\\fralu\\\\Documents\\\\GitHub\\\\anndl\\\\image-segmentation\\\\Segmentation_Dataset\\\\training\\\\masks\\\\img\\\\4385.tif'"
      ]
     },
     "execution_count": 6,
     "metadata": {},
     "output_type": "execute_result"
    },
    {
     "data": {
      "text/plain": [
       "'C:\\\\Users\\\\fralu\\\\Documents\\\\GitHub\\\\anndl\\\\image-segmentation\\\\Segmentation_Dataset\\\\training\\\\images\\\\img\\\\4391.tif'"
      ]
     },
     "execution_count": 6,
     "metadata": {},
     "output_type": "execute_result"
    },
    {
     "data": {
      "text/plain": [
       "'C:\\\\Users\\\\fralu\\\\Documents\\\\GitHub\\\\anndl\\\\image-segmentation\\\\Segmentation_Dataset\\\\training\\\\masks\\\\img\\\\4391.tif'"
      ]
     },
     "execution_count": 6,
     "metadata": {},
     "output_type": "execute_result"
    },
    {
     "data": {
      "text/plain": [
       "'C:\\\\Users\\\\fralu\\\\Documents\\\\GitHub\\\\anndl\\\\image-segmentation\\\\Segmentation_Dataset\\\\training\\\\images\\\\img\\\\4402.tif'"
      ]
     },
     "execution_count": 6,
     "metadata": {},
     "output_type": "execute_result"
    },
    {
     "data": {
      "text/plain": [
       "'C:\\\\Users\\\\fralu\\\\Documents\\\\GitHub\\\\anndl\\\\image-segmentation\\\\Segmentation_Dataset\\\\training\\\\masks\\\\img\\\\4402.tif'"
      ]
     },
     "execution_count": 6,
     "metadata": {},
     "output_type": "execute_result"
    },
    {
     "data": {
      "text/plain": [
       "'C:\\\\Users\\\\fralu\\\\Documents\\\\GitHub\\\\anndl\\\\image-segmentation\\\\Segmentation_Dataset\\\\training\\\\images\\\\img\\\\4409.tif'"
      ]
     },
     "execution_count": 6,
     "metadata": {},
     "output_type": "execute_result"
    },
    {
     "data": {
      "text/plain": [
       "'C:\\\\Users\\\\fralu\\\\Documents\\\\GitHub\\\\anndl\\\\image-segmentation\\\\Segmentation_Dataset\\\\training\\\\masks\\\\img\\\\4409.tif'"
      ]
     },
     "execution_count": 6,
     "metadata": {},
     "output_type": "execute_result"
    },
    {
     "data": {
      "text/plain": [
       "'C:\\\\Users\\\\fralu\\\\Documents\\\\GitHub\\\\anndl\\\\image-segmentation\\\\Segmentation_Dataset\\\\training\\\\images\\\\img\\\\4410.tif'"
      ]
     },
     "execution_count": 6,
     "metadata": {},
     "output_type": "execute_result"
    },
    {
     "data": {
      "text/plain": [
       "'C:\\\\Users\\\\fralu\\\\Documents\\\\GitHub\\\\anndl\\\\image-segmentation\\\\Segmentation_Dataset\\\\training\\\\masks\\\\img\\\\4410.tif'"
      ]
     },
     "execution_count": 6,
     "metadata": {},
     "output_type": "execute_result"
    },
    {
     "data": {
      "text/plain": [
       "'C:\\\\Users\\\\fralu\\\\Documents\\\\GitHub\\\\anndl\\\\image-segmentation\\\\Segmentation_Dataset\\\\training\\\\images\\\\img\\\\4417.tif'"
      ]
     },
     "execution_count": 6,
     "metadata": {},
     "output_type": "execute_result"
    },
    {
     "data": {
      "text/plain": [
       "'C:\\\\Users\\\\fralu\\\\Documents\\\\GitHub\\\\anndl\\\\image-segmentation\\\\Segmentation_Dataset\\\\training\\\\masks\\\\img\\\\4417.tif'"
      ]
     },
     "execution_count": 6,
     "metadata": {},
     "output_type": "execute_result"
    },
    {
     "data": {
      "text/plain": [
       "'C:\\\\Users\\\\fralu\\\\Documents\\\\GitHub\\\\anndl\\\\image-segmentation\\\\Segmentation_Dataset\\\\training\\\\images\\\\img\\\\4419.tif'"
      ]
     },
     "execution_count": 6,
     "metadata": {},
     "output_type": "execute_result"
    },
    {
     "data": {
      "text/plain": [
       "'C:\\\\Users\\\\fralu\\\\Documents\\\\GitHub\\\\anndl\\\\image-segmentation\\\\Segmentation_Dataset\\\\training\\\\masks\\\\img\\\\4419.tif'"
      ]
     },
     "execution_count": 6,
     "metadata": {},
     "output_type": "execute_result"
    },
    {
     "data": {
      "text/plain": [
       "'C:\\\\Users\\\\fralu\\\\Documents\\\\GitHub\\\\anndl\\\\image-segmentation\\\\Segmentation_Dataset\\\\training\\\\images\\\\img\\\\4423.tif'"
      ]
     },
     "execution_count": 6,
     "metadata": {},
     "output_type": "execute_result"
    },
    {
     "data": {
      "text/plain": [
       "'C:\\\\Users\\\\fralu\\\\Documents\\\\GitHub\\\\anndl\\\\image-segmentation\\\\Segmentation_Dataset\\\\training\\\\masks\\\\img\\\\4423.tif'"
      ]
     },
     "execution_count": 6,
     "metadata": {},
     "output_type": "execute_result"
    },
    {
     "data": {
      "text/plain": [
       "'C:\\\\Users\\\\fralu\\\\Documents\\\\GitHub\\\\anndl\\\\image-segmentation\\\\Segmentation_Dataset\\\\training\\\\images\\\\img\\\\4437.tif'"
      ]
     },
     "execution_count": 6,
     "metadata": {},
     "output_type": "execute_result"
    },
    {
     "data": {
      "text/plain": [
       "'C:\\\\Users\\\\fralu\\\\Documents\\\\GitHub\\\\anndl\\\\image-segmentation\\\\Segmentation_Dataset\\\\training\\\\masks\\\\img\\\\4437.tif'"
      ]
     },
     "execution_count": 6,
     "metadata": {},
     "output_type": "execute_result"
    },
    {
     "data": {
      "text/plain": [
       "'C:\\\\Users\\\\fralu\\\\Documents\\\\GitHub\\\\anndl\\\\image-segmentation\\\\Segmentation_Dataset\\\\training\\\\images\\\\img\\\\4441.tif'"
      ]
     },
     "execution_count": 6,
     "metadata": {},
     "output_type": "execute_result"
    },
    {
     "data": {
      "text/plain": [
       "'C:\\\\Users\\\\fralu\\\\Documents\\\\GitHub\\\\anndl\\\\image-segmentation\\\\Segmentation_Dataset\\\\training\\\\masks\\\\img\\\\4441.tif'"
      ]
     },
     "execution_count": 6,
     "metadata": {},
     "output_type": "execute_result"
    },
    {
     "data": {
      "text/plain": [
       "'C:\\\\Users\\\\fralu\\\\Documents\\\\GitHub\\\\anndl\\\\image-segmentation\\\\Segmentation_Dataset\\\\training\\\\images\\\\img\\\\4451.tif'"
      ]
     },
     "execution_count": 6,
     "metadata": {},
     "output_type": "execute_result"
    },
    {
     "data": {
      "text/plain": [
       "'C:\\\\Users\\\\fralu\\\\Documents\\\\GitHub\\\\anndl\\\\image-segmentation\\\\Segmentation_Dataset\\\\training\\\\masks\\\\img\\\\4451.tif'"
      ]
     },
     "execution_count": 6,
     "metadata": {},
     "output_type": "execute_result"
    },
    {
     "data": {
      "text/plain": [
       "'C:\\\\Users\\\\fralu\\\\Documents\\\\GitHub\\\\anndl\\\\image-segmentation\\\\Segmentation_Dataset\\\\training\\\\images\\\\img\\\\4454.tif'"
      ]
     },
     "execution_count": 6,
     "metadata": {},
     "output_type": "execute_result"
    },
    {
     "data": {
      "text/plain": [
       "'C:\\\\Users\\\\fralu\\\\Documents\\\\GitHub\\\\anndl\\\\image-segmentation\\\\Segmentation_Dataset\\\\training\\\\masks\\\\img\\\\4454.tif'"
      ]
     },
     "execution_count": 6,
     "metadata": {},
     "output_type": "execute_result"
    },
    {
     "data": {
      "text/plain": [
       "'C:\\\\Users\\\\fralu\\\\Documents\\\\GitHub\\\\anndl\\\\image-segmentation\\\\Segmentation_Dataset\\\\training\\\\images\\\\img\\\\4457.tif'"
      ]
     },
     "execution_count": 6,
     "metadata": {},
     "output_type": "execute_result"
    },
    {
     "data": {
      "text/plain": [
       "'C:\\\\Users\\\\fralu\\\\Documents\\\\GitHub\\\\anndl\\\\image-segmentation\\\\Segmentation_Dataset\\\\training\\\\masks\\\\img\\\\4457.tif'"
      ]
     },
     "execution_count": 6,
     "metadata": {},
     "output_type": "execute_result"
    },
    {
     "data": {
      "text/plain": [
       "'C:\\\\Users\\\\fralu\\\\Documents\\\\GitHub\\\\anndl\\\\image-segmentation\\\\Segmentation_Dataset\\\\training\\\\images\\\\img\\\\4459.tif'"
      ]
     },
     "execution_count": 6,
     "metadata": {},
     "output_type": "execute_result"
    },
    {
     "data": {
      "text/plain": [
       "'C:\\\\Users\\\\fralu\\\\Documents\\\\GitHub\\\\anndl\\\\image-segmentation\\\\Segmentation_Dataset\\\\training\\\\masks\\\\img\\\\4459.tif'"
      ]
     },
     "execution_count": 6,
     "metadata": {},
     "output_type": "execute_result"
    },
    {
     "data": {
      "text/plain": [
       "'C:\\\\Users\\\\fralu\\\\Documents\\\\GitHub\\\\anndl\\\\image-segmentation\\\\Segmentation_Dataset\\\\training\\\\images\\\\img\\\\4460.tif'"
      ]
     },
     "execution_count": 6,
     "metadata": {},
     "output_type": "execute_result"
    },
    {
     "data": {
      "text/plain": [
       "'C:\\\\Users\\\\fralu\\\\Documents\\\\GitHub\\\\anndl\\\\image-segmentation\\\\Segmentation_Dataset\\\\training\\\\masks\\\\img\\\\4460.tif'"
      ]
     },
     "execution_count": 6,
     "metadata": {},
     "output_type": "execute_result"
    },
    {
     "data": {
      "text/plain": [
       "'C:\\\\Users\\\\fralu\\\\Documents\\\\GitHub\\\\anndl\\\\image-segmentation\\\\Segmentation_Dataset\\\\training\\\\images\\\\img\\\\4463.tif'"
      ]
     },
     "execution_count": 6,
     "metadata": {},
     "output_type": "execute_result"
    },
    {
     "data": {
      "text/plain": [
       "'C:\\\\Users\\\\fralu\\\\Documents\\\\GitHub\\\\anndl\\\\image-segmentation\\\\Segmentation_Dataset\\\\training\\\\masks\\\\img\\\\4463.tif'"
      ]
     },
     "execution_count": 6,
     "metadata": {},
     "output_type": "execute_result"
    },
    {
     "data": {
      "text/plain": [
       "'C:\\\\Users\\\\fralu\\\\Documents\\\\GitHub\\\\anndl\\\\image-segmentation\\\\Segmentation_Dataset\\\\training\\\\images\\\\img\\\\4467.tif'"
      ]
     },
     "execution_count": 6,
     "metadata": {},
     "output_type": "execute_result"
    },
    {
     "data": {
      "text/plain": [
       "'C:\\\\Users\\\\fralu\\\\Documents\\\\GitHub\\\\anndl\\\\image-segmentation\\\\Segmentation_Dataset\\\\training\\\\masks\\\\img\\\\4467.tif'"
      ]
     },
     "execution_count": 6,
     "metadata": {},
     "output_type": "execute_result"
    },
    {
     "data": {
      "text/plain": [
       "'C:\\\\Users\\\\fralu\\\\Documents\\\\GitHub\\\\anndl\\\\image-segmentation\\\\Segmentation_Dataset\\\\training\\\\images\\\\img\\\\4475.tif'"
      ]
     },
     "execution_count": 6,
     "metadata": {},
     "output_type": "execute_result"
    },
    {
     "data": {
      "text/plain": [
       "'C:\\\\Users\\\\fralu\\\\Documents\\\\GitHub\\\\anndl\\\\image-segmentation\\\\Segmentation_Dataset\\\\training\\\\masks\\\\img\\\\4475.tif'"
      ]
     },
     "execution_count": 6,
     "metadata": {},
     "output_type": "execute_result"
    },
    {
     "data": {
      "text/plain": [
       "'C:\\\\Users\\\\fralu\\\\Documents\\\\GitHub\\\\anndl\\\\image-segmentation\\\\Segmentation_Dataset\\\\training\\\\images\\\\img\\\\4481.tif'"
      ]
     },
     "execution_count": 6,
     "metadata": {},
     "output_type": "execute_result"
    },
    {
     "data": {
      "text/plain": [
       "'C:\\\\Users\\\\fralu\\\\Documents\\\\GitHub\\\\anndl\\\\image-segmentation\\\\Segmentation_Dataset\\\\training\\\\masks\\\\img\\\\4481.tif'"
      ]
     },
     "execution_count": 6,
     "metadata": {},
     "output_type": "execute_result"
    },
    {
     "data": {
      "text/plain": [
       "'C:\\\\Users\\\\fralu\\\\Documents\\\\GitHub\\\\anndl\\\\image-segmentation\\\\Segmentation_Dataset\\\\training\\\\images\\\\img\\\\4488.tif'"
      ]
     },
     "execution_count": 6,
     "metadata": {},
     "output_type": "execute_result"
    },
    {
     "data": {
      "text/plain": [
       "'C:\\\\Users\\\\fralu\\\\Documents\\\\GitHub\\\\anndl\\\\image-segmentation\\\\Segmentation_Dataset\\\\training\\\\masks\\\\img\\\\4488.tif'"
      ]
     },
     "execution_count": 6,
     "metadata": {},
     "output_type": "execute_result"
    },
    {
     "data": {
      "text/plain": [
       "'C:\\\\Users\\\\fralu\\\\Documents\\\\GitHub\\\\anndl\\\\image-segmentation\\\\Segmentation_Dataset\\\\training\\\\images\\\\img\\\\4491.tif'"
      ]
     },
     "execution_count": 6,
     "metadata": {},
     "output_type": "execute_result"
    },
    {
     "data": {
      "text/plain": [
       "'C:\\\\Users\\\\fralu\\\\Documents\\\\GitHub\\\\anndl\\\\image-segmentation\\\\Segmentation_Dataset\\\\training\\\\masks\\\\img\\\\4491.tif'"
      ]
     },
     "execution_count": 6,
     "metadata": {},
     "output_type": "execute_result"
    },
    {
     "data": {
      "text/plain": [
       "'C:\\\\Users\\\\fralu\\\\Documents\\\\GitHub\\\\anndl\\\\image-segmentation\\\\Segmentation_Dataset\\\\training\\\\images\\\\img\\\\4492.tif'"
      ]
     },
     "execution_count": 6,
     "metadata": {},
     "output_type": "execute_result"
    },
    {
     "data": {
      "text/plain": [
       "'C:\\\\Users\\\\fralu\\\\Documents\\\\GitHub\\\\anndl\\\\image-segmentation\\\\Segmentation_Dataset\\\\training\\\\masks\\\\img\\\\4492.tif'"
      ]
     },
     "execution_count": 6,
     "metadata": {},
     "output_type": "execute_result"
    },
    {
     "data": {
      "text/plain": [
       "'C:\\\\Users\\\\fralu\\\\Documents\\\\GitHub\\\\anndl\\\\image-segmentation\\\\Segmentation_Dataset\\\\training\\\\images\\\\img\\\\4496.tif'"
      ]
     },
     "execution_count": 6,
     "metadata": {},
     "output_type": "execute_result"
    },
    {
     "data": {
      "text/plain": [
       "'C:\\\\Users\\\\fralu\\\\Documents\\\\GitHub\\\\anndl\\\\image-segmentation\\\\Segmentation_Dataset\\\\training\\\\masks\\\\img\\\\4496.tif'"
      ]
     },
     "execution_count": 6,
     "metadata": {},
     "output_type": "execute_result"
    },
    {
     "data": {
      "text/plain": [
       "'C:\\\\Users\\\\fralu\\\\Documents\\\\GitHub\\\\anndl\\\\image-segmentation\\\\Segmentation_Dataset\\\\training\\\\images\\\\img\\\\4497.tif'"
      ]
     },
     "execution_count": 6,
     "metadata": {},
     "output_type": "execute_result"
    },
    {
     "data": {
      "text/plain": [
       "'C:\\\\Users\\\\fralu\\\\Documents\\\\GitHub\\\\anndl\\\\image-segmentation\\\\Segmentation_Dataset\\\\training\\\\masks\\\\img\\\\4497.tif'"
      ]
     },
     "execution_count": 6,
     "metadata": {},
     "output_type": "execute_result"
    },
    {
     "data": {
      "text/plain": [
       "'C:\\\\Users\\\\fralu\\\\Documents\\\\GitHub\\\\anndl\\\\image-segmentation\\\\Segmentation_Dataset\\\\training\\\\images\\\\img\\\\4500.tif'"
      ]
     },
     "execution_count": 6,
     "metadata": {},
     "output_type": "execute_result"
    },
    {
     "data": {
      "text/plain": [
       "'C:\\\\Users\\\\fralu\\\\Documents\\\\GitHub\\\\anndl\\\\image-segmentation\\\\Segmentation_Dataset\\\\training\\\\masks\\\\img\\\\4500.tif'"
      ]
     },
     "execution_count": 6,
     "metadata": {},
     "output_type": "execute_result"
    },
    {
     "data": {
      "text/plain": [
       "'C:\\\\Users\\\\fralu\\\\Documents\\\\GitHub\\\\anndl\\\\image-segmentation\\\\Segmentation_Dataset\\\\training\\\\images\\\\img\\\\4501.tif'"
      ]
     },
     "execution_count": 6,
     "metadata": {},
     "output_type": "execute_result"
    },
    {
     "data": {
      "text/plain": [
       "'C:\\\\Users\\\\fralu\\\\Documents\\\\GitHub\\\\anndl\\\\image-segmentation\\\\Segmentation_Dataset\\\\training\\\\masks\\\\img\\\\4501.tif'"
      ]
     },
     "execution_count": 6,
     "metadata": {},
     "output_type": "execute_result"
    },
    {
     "data": {
      "text/plain": [
       "'C:\\\\Users\\\\fralu\\\\Documents\\\\GitHub\\\\anndl\\\\image-segmentation\\\\Segmentation_Dataset\\\\training\\\\images\\\\img\\\\4507.tif'"
      ]
     },
     "execution_count": 6,
     "metadata": {},
     "output_type": "execute_result"
    },
    {
     "data": {
      "text/plain": [
       "'C:\\\\Users\\\\fralu\\\\Documents\\\\GitHub\\\\anndl\\\\image-segmentation\\\\Segmentation_Dataset\\\\training\\\\masks\\\\img\\\\4507.tif'"
      ]
     },
     "execution_count": 6,
     "metadata": {},
     "output_type": "execute_result"
    },
    {
     "data": {
      "text/plain": [
       "'C:\\\\Users\\\\fralu\\\\Documents\\\\GitHub\\\\anndl\\\\image-segmentation\\\\Segmentation_Dataset\\\\training\\\\images\\\\img\\\\4508.tif'"
      ]
     },
     "execution_count": 6,
     "metadata": {},
     "output_type": "execute_result"
    },
    {
     "data": {
      "text/plain": [
       "'C:\\\\Users\\\\fralu\\\\Documents\\\\GitHub\\\\anndl\\\\image-segmentation\\\\Segmentation_Dataset\\\\training\\\\masks\\\\img\\\\4508.tif'"
      ]
     },
     "execution_count": 6,
     "metadata": {},
     "output_type": "execute_result"
    },
    {
     "data": {
      "text/plain": [
       "'C:\\\\Users\\\\fralu\\\\Documents\\\\GitHub\\\\anndl\\\\image-segmentation\\\\Segmentation_Dataset\\\\training\\\\images\\\\img\\\\451.tif'"
      ]
     },
     "execution_count": 6,
     "metadata": {},
     "output_type": "execute_result"
    },
    {
     "data": {
      "text/plain": [
       "'C:\\\\Users\\\\fralu\\\\Documents\\\\GitHub\\\\anndl\\\\image-segmentation\\\\Segmentation_Dataset\\\\training\\\\masks\\\\img\\\\451.tif'"
      ]
     },
     "execution_count": 6,
     "metadata": {},
     "output_type": "execute_result"
    },
    {
     "data": {
      "text/plain": [
       "'C:\\\\Users\\\\fralu\\\\Documents\\\\GitHub\\\\anndl\\\\image-segmentation\\\\Segmentation_Dataset\\\\training\\\\images\\\\img\\\\4514.tif'"
      ]
     },
     "execution_count": 6,
     "metadata": {},
     "output_type": "execute_result"
    },
    {
     "data": {
      "text/plain": [
       "'C:\\\\Users\\\\fralu\\\\Documents\\\\GitHub\\\\anndl\\\\image-segmentation\\\\Segmentation_Dataset\\\\training\\\\masks\\\\img\\\\4514.tif'"
      ]
     },
     "execution_count": 6,
     "metadata": {},
     "output_type": "execute_result"
    },
    {
     "data": {
      "text/plain": [
       "'C:\\\\Users\\\\fralu\\\\Documents\\\\GitHub\\\\anndl\\\\image-segmentation\\\\Segmentation_Dataset\\\\training\\\\images\\\\img\\\\4526.tif'"
      ]
     },
     "execution_count": 6,
     "metadata": {},
     "output_type": "execute_result"
    },
    {
     "data": {
      "text/plain": [
       "'C:\\\\Users\\\\fralu\\\\Documents\\\\GitHub\\\\anndl\\\\image-segmentation\\\\Segmentation_Dataset\\\\training\\\\masks\\\\img\\\\4526.tif'"
      ]
     },
     "execution_count": 6,
     "metadata": {},
     "output_type": "execute_result"
    },
    {
     "data": {
      "text/plain": [
       "'C:\\\\Users\\\\fralu\\\\Documents\\\\GitHub\\\\anndl\\\\image-segmentation\\\\Segmentation_Dataset\\\\training\\\\images\\\\img\\\\4529.tif'"
      ]
     },
     "execution_count": 6,
     "metadata": {},
     "output_type": "execute_result"
    },
    {
     "data": {
      "text/plain": [
       "'C:\\\\Users\\\\fralu\\\\Documents\\\\GitHub\\\\anndl\\\\image-segmentation\\\\Segmentation_Dataset\\\\training\\\\masks\\\\img\\\\4529.tif'"
      ]
     },
     "execution_count": 6,
     "metadata": {},
     "output_type": "execute_result"
    },
    {
     "data": {
      "text/plain": [
       "'C:\\\\Users\\\\fralu\\\\Documents\\\\GitHub\\\\anndl\\\\image-segmentation\\\\Segmentation_Dataset\\\\training\\\\images\\\\img\\\\4543.tif'"
      ]
     },
     "execution_count": 6,
     "metadata": {},
     "output_type": "execute_result"
    },
    {
     "data": {
      "text/plain": [
       "'C:\\\\Users\\\\fralu\\\\Documents\\\\GitHub\\\\anndl\\\\image-segmentation\\\\Segmentation_Dataset\\\\training\\\\masks\\\\img\\\\4543.tif'"
      ]
     },
     "execution_count": 6,
     "metadata": {},
     "output_type": "execute_result"
    },
    {
     "data": {
      "text/plain": [
       "'C:\\\\Users\\\\fralu\\\\Documents\\\\GitHub\\\\anndl\\\\image-segmentation\\\\Segmentation_Dataset\\\\training\\\\images\\\\img\\\\4544.tif'"
      ]
     },
     "execution_count": 6,
     "metadata": {},
     "output_type": "execute_result"
    },
    {
     "data": {
      "text/plain": [
       "'C:\\\\Users\\\\fralu\\\\Documents\\\\GitHub\\\\anndl\\\\image-segmentation\\\\Segmentation_Dataset\\\\training\\\\masks\\\\img\\\\4544.tif'"
      ]
     },
     "execution_count": 6,
     "metadata": {},
     "output_type": "execute_result"
    },
    {
     "data": {
      "text/plain": [
       "'C:\\\\Users\\\\fralu\\\\Documents\\\\GitHub\\\\anndl\\\\image-segmentation\\\\Segmentation_Dataset\\\\training\\\\images\\\\img\\\\4547.tif'"
      ]
     },
     "execution_count": 6,
     "metadata": {},
     "output_type": "execute_result"
    },
    {
     "data": {
      "text/plain": [
       "'C:\\\\Users\\\\fralu\\\\Documents\\\\GitHub\\\\anndl\\\\image-segmentation\\\\Segmentation_Dataset\\\\training\\\\masks\\\\img\\\\4547.tif'"
      ]
     },
     "execution_count": 6,
     "metadata": {},
     "output_type": "execute_result"
    },
    {
     "data": {
      "text/plain": [
       "'C:\\\\Users\\\\fralu\\\\Documents\\\\GitHub\\\\anndl\\\\image-segmentation\\\\Segmentation_Dataset\\\\training\\\\images\\\\img\\\\4550.tif'"
      ]
     },
     "execution_count": 6,
     "metadata": {},
     "output_type": "execute_result"
    },
    {
     "data": {
      "text/plain": [
       "'C:\\\\Users\\\\fralu\\\\Documents\\\\GitHub\\\\anndl\\\\image-segmentation\\\\Segmentation_Dataset\\\\training\\\\masks\\\\img\\\\4550.tif'"
      ]
     },
     "execution_count": 6,
     "metadata": {},
     "output_type": "execute_result"
    },
    {
     "data": {
      "text/plain": [
       "'C:\\\\Users\\\\fralu\\\\Documents\\\\GitHub\\\\anndl\\\\image-segmentation\\\\Segmentation_Dataset\\\\training\\\\images\\\\img\\\\4551.tif'"
      ]
     },
     "execution_count": 6,
     "metadata": {},
     "output_type": "execute_result"
    },
    {
     "data": {
      "text/plain": [
       "'C:\\\\Users\\\\fralu\\\\Documents\\\\GitHub\\\\anndl\\\\image-segmentation\\\\Segmentation_Dataset\\\\training\\\\masks\\\\img\\\\4551.tif'"
      ]
     },
     "execution_count": 6,
     "metadata": {},
     "output_type": "execute_result"
    },
    {
     "data": {
      "text/plain": [
       "'C:\\\\Users\\\\fralu\\\\Documents\\\\GitHub\\\\anndl\\\\image-segmentation\\\\Segmentation_Dataset\\\\training\\\\images\\\\img\\\\4552.tif'"
      ]
     },
     "execution_count": 6,
     "metadata": {},
     "output_type": "execute_result"
    },
    {
     "data": {
      "text/plain": [
       "'C:\\\\Users\\\\fralu\\\\Documents\\\\GitHub\\\\anndl\\\\image-segmentation\\\\Segmentation_Dataset\\\\training\\\\masks\\\\img\\\\4552.tif'"
      ]
     },
     "execution_count": 6,
     "metadata": {},
     "output_type": "execute_result"
    },
    {
     "data": {
      "text/plain": [
       "'C:\\\\Users\\\\fralu\\\\Documents\\\\GitHub\\\\anndl\\\\image-segmentation\\\\Segmentation_Dataset\\\\training\\\\images\\\\img\\\\4557.tif'"
      ]
     },
     "execution_count": 6,
     "metadata": {},
     "output_type": "execute_result"
    },
    {
     "data": {
      "text/plain": [
       "'C:\\\\Users\\\\fralu\\\\Documents\\\\GitHub\\\\anndl\\\\image-segmentation\\\\Segmentation_Dataset\\\\training\\\\masks\\\\img\\\\4557.tif'"
      ]
     },
     "execution_count": 6,
     "metadata": {},
     "output_type": "execute_result"
    },
    {
     "data": {
      "text/plain": [
       "'C:\\\\Users\\\\fralu\\\\Documents\\\\GitHub\\\\anndl\\\\image-segmentation\\\\Segmentation_Dataset\\\\training\\\\images\\\\img\\\\4567.tif'"
      ]
     },
     "execution_count": 6,
     "metadata": {},
     "output_type": "execute_result"
    },
    {
     "data": {
      "text/plain": [
       "'C:\\\\Users\\\\fralu\\\\Documents\\\\GitHub\\\\anndl\\\\image-segmentation\\\\Segmentation_Dataset\\\\training\\\\masks\\\\img\\\\4567.tif'"
      ]
     },
     "execution_count": 6,
     "metadata": {},
     "output_type": "execute_result"
    },
    {
     "data": {
      "text/plain": [
       "'C:\\\\Users\\\\fralu\\\\Documents\\\\GitHub\\\\anndl\\\\image-segmentation\\\\Segmentation_Dataset\\\\training\\\\images\\\\img\\\\4571.tif'"
      ]
     },
     "execution_count": 6,
     "metadata": {},
     "output_type": "execute_result"
    },
    {
     "data": {
      "text/plain": [
       "'C:\\\\Users\\\\fralu\\\\Documents\\\\GitHub\\\\anndl\\\\image-segmentation\\\\Segmentation_Dataset\\\\training\\\\masks\\\\img\\\\4571.tif'"
      ]
     },
     "execution_count": 6,
     "metadata": {},
     "output_type": "execute_result"
    },
    {
     "data": {
      "text/plain": [
       "'C:\\\\Users\\\\fralu\\\\Documents\\\\GitHub\\\\anndl\\\\image-segmentation\\\\Segmentation_Dataset\\\\training\\\\images\\\\img\\\\4574.tif'"
      ]
     },
     "execution_count": 6,
     "metadata": {},
     "output_type": "execute_result"
    },
    {
     "data": {
      "text/plain": [
       "'C:\\\\Users\\\\fralu\\\\Documents\\\\GitHub\\\\anndl\\\\image-segmentation\\\\Segmentation_Dataset\\\\training\\\\masks\\\\img\\\\4574.tif'"
      ]
     },
     "execution_count": 6,
     "metadata": {},
     "output_type": "execute_result"
    },
    {
     "data": {
      "text/plain": [
       "'C:\\\\Users\\\\fralu\\\\Documents\\\\GitHub\\\\anndl\\\\image-segmentation\\\\Segmentation_Dataset\\\\training\\\\images\\\\img\\\\4579.tif'"
      ]
     },
     "execution_count": 6,
     "metadata": {},
     "output_type": "execute_result"
    },
    {
     "data": {
      "text/plain": [
       "'C:\\\\Users\\\\fralu\\\\Documents\\\\GitHub\\\\anndl\\\\image-segmentation\\\\Segmentation_Dataset\\\\training\\\\masks\\\\img\\\\4579.tif'"
      ]
     },
     "execution_count": 6,
     "metadata": {},
     "output_type": "execute_result"
    },
    {
     "data": {
      "text/plain": [
       "'C:\\\\Users\\\\fralu\\\\Documents\\\\GitHub\\\\anndl\\\\image-segmentation\\\\Segmentation_Dataset\\\\training\\\\images\\\\img\\\\4584.tif'"
      ]
     },
     "execution_count": 6,
     "metadata": {},
     "output_type": "execute_result"
    },
    {
     "data": {
      "text/plain": [
       "'C:\\\\Users\\\\fralu\\\\Documents\\\\GitHub\\\\anndl\\\\image-segmentation\\\\Segmentation_Dataset\\\\training\\\\masks\\\\img\\\\4584.tif'"
      ]
     },
     "execution_count": 6,
     "metadata": {},
     "output_type": "execute_result"
    },
    {
     "data": {
      "text/plain": [
       "'C:\\\\Users\\\\fralu\\\\Documents\\\\GitHub\\\\anndl\\\\image-segmentation\\\\Segmentation_Dataset\\\\training\\\\images\\\\img\\\\4587.tif'"
      ]
     },
     "execution_count": 6,
     "metadata": {},
     "output_type": "execute_result"
    },
    {
     "data": {
      "text/plain": [
       "'C:\\\\Users\\\\fralu\\\\Documents\\\\GitHub\\\\anndl\\\\image-segmentation\\\\Segmentation_Dataset\\\\training\\\\masks\\\\img\\\\4587.tif'"
      ]
     },
     "execution_count": 6,
     "metadata": {},
     "output_type": "execute_result"
    },
    {
     "data": {
      "text/plain": [
       "'C:\\\\Users\\\\fralu\\\\Documents\\\\GitHub\\\\anndl\\\\image-segmentation\\\\Segmentation_Dataset\\\\training\\\\images\\\\img\\\\4590.tif'"
      ]
     },
     "execution_count": 6,
     "metadata": {},
     "output_type": "execute_result"
    },
    {
     "data": {
      "text/plain": [
       "'C:\\\\Users\\\\fralu\\\\Documents\\\\GitHub\\\\anndl\\\\image-segmentation\\\\Segmentation_Dataset\\\\training\\\\masks\\\\img\\\\4590.tif'"
      ]
     },
     "execution_count": 6,
     "metadata": {},
     "output_type": "execute_result"
    },
    {
     "data": {
      "text/plain": [
       "'C:\\\\Users\\\\fralu\\\\Documents\\\\GitHub\\\\anndl\\\\image-segmentation\\\\Segmentation_Dataset\\\\training\\\\images\\\\img\\\\4596.tif'"
      ]
     },
     "execution_count": 6,
     "metadata": {},
     "output_type": "execute_result"
    },
    {
     "data": {
      "text/plain": [
       "'C:\\\\Users\\\\fralu\\\\Documents\\\\GitHub\\\\anndl\\\\image-segmentation\\\\Segmentation_Dataset\\\\training\\\\masks\\\\img\\\\4596.tif'"
      ]
     },
     "execution_count": 6,
     "metadata": {},
     "output_type": "execute_result"
    },
    {
     "data": {
      "text/plain": [
       "'C:\\\\Users\\\\fralu\\\\Documents\\\\GitHub\\\\anndl\\\\image-segmentation\\\\Segmentation_Dataset\\\\training\\\\images\\\\img\\\\4598.tif'"
      ]
     },
     "execution_count": 6,
     "metadata": {},
     "output_type": "execute_result"
    },
    {
     "data": {
      "text/plain": [
       "'C:\\\\Users\\\\fralu\\\\Documents\\\\GitHub\\\\anndl\\\\image-segmentation\\\\Segmentation_Dataset\\\\training\\\\masks\\\\img\\\\4598.tif'"
      ]
     },
     "execution_count": 6,
     "metadata": {},
     "output_type": "execute_result"
    },
    {
     "data": {
      "text/plain": [
       "'C:\\\\Users\\\\fralu\\\\Documents\\\\GitHub\\\\anndl\\\\image-segmentation\\\\Segmentation_Dataset\\\\training\\\\images\\\\img\\\\46.tif'"
      ]
     },
     "execution_count": 6,
     "metadata": {},
     "output_type": "execute_result"
    },
    {
     "data": {
      "text/plain": [
       "'C:\\\\Users\\\\fralu\\\\Documents\\\\GitHub\\\\anndl\\\\image-segmentation\\\\Segmentation_Dataset\\\\training\\\\masks\\\\img\\\\46.tif'"
      ]
     },
     "execution_count": 6,
     "metadata": {},
     "output_type": "execute_result"
    },
    {
     "data": {
      "text/plain": [
       "'C:\\\\Users\\\\fralu\\\\Documents\\\\GitHub\\\\anndl\\\\image-segmentation\\\\Segmentation_Dataset\\\\training\\\\images\\\\img\\\\4602.tif'"
      ]
     },
     "execution_count": 6,
     "metadata": {},
     "output_type": "execute_result"
    },
    {
     "data": {
      "text/plain": [
       "'C:\\\\Users\\\\fralu\\\\Documents\\\\GitHub\\\\anndl\\\\image-segmentation\\\\Segmentation_Dataset\\\\training\\\\masks\\\\img\\\\4602.tif'"
      ]
     },
     "execution_count": 6,
     "metadata": {},
     "output_type": "execute_result"
    },
    {
     "data": {
      "text/plain": [
       "'C:\\\\Users\\\\fralu\\\\Documents\\\\GitHub\\\\anndl\\\\image-segmentation\\\\Segmentation_Dataset\\\\training\\\\images\\\\img\\\\4606.tif'"
      ]
     },
     "execution_count": 6,
     "metadata": {},
     "output_type": "execute_result"
    },
    {
     "data": {
      "text/plain": [
       "'C:\\\\Users\\\\fralu\\\\Documents\\\\GitHub\\\\anndl\\\\image-segmentation\\\\Segmentation_Dataset\\\\training\\\\masks\\\\img\\\\4606.tif'"
      ]
     },
     "execution_count": 6,
     "metadata": {},
     "output_type": "execute_result"
    },
    {
     "data": {
      "text/plain": [
       "'C:\\\\Users\\\\fralu\\\\Documents\\\\GitHub\\\\anndl\\\\image-segmentation\\\\Segmentation_Dataset\\\\training\\\\images\\\\img\\\\4608.tif'"
      ]
     },
     "execution_count": 6,
     "metadata": {},
     "output_type": "execute_result"
    },
    {
     "data": {
      "text/plain": [
       "'C:\\\\Users\\\\fralu\\\\Documents\\\\GitHub\\\\anndl\\\\image-segmentation\\\\Segmentation_Dataset\\\\training\\\\masks\\\\img\\\\4608.tif'"
      ]
     },
     "execution_count": 6,
     "metadata": {},
     "output_type": "execute_result"
    },
    {
     "data": {
      "text/plain": [
       "'C:\\\\Users\\\\fralu\\\\Documents\\\\GitHub\\\\anndl\\\\image-segmentation\\\\Segmentation_Dataset\\\\training\\\\images\\\\img\\\\4609.tif'"
      ]
     },
     "execution_count": 6,
     "metadata": {},
     "output_type": "execute_result"
    },
    {
     "data": {
      "text/plain": [
       "'C:\\\\Users\\\\fralu\\\\Documents\\\\GitHub\\\\anndl\\\\image-segmentation\\\\Segmentation_Dataset\\\\training\\\\masks\\\\img\\\\4609.tif'"
      ]
     },
     "execution_count": 6,
     "metadata": {},
     "output_type": "execute_result"
    },
    {
     "data": {
      "text/plain": [
       "'C:\\\\Users\\\\fralu\\\\Documents\\\\GitHub\\\\anndl\\\\image-segmentation\\\\Segmentation_Dataset\\\\training\\\\images\\\\img\\\\4617.tif'"
      ]
     },
     "execution_count": 6,
     "metadata": {},
     "output_type": "execute_result"
    },
    {
     "data": {
      "text/plain": [
       "'C:\\\\Users\\\\fralu\\\\Documents\\\\GitHub\\\\anndl\\\\image-segmentation\\\\Segmentation_Dataset\\\\training\\\\masks\\\\img\\\\4617.tif'"
      ]
     },
     "execution_count": 6,
     "metadata": {},
     "output_type": "execute_result"
    },
    {
     "data": {
      "text/plain": [
       "'C:\\\\Users\\\\fralu\\\\Documents\\\\GitHub\\\\anndl\\\\image-segmentation\\\\Segmentation_Dataset\\\\training\\\\images\\\\img\\\\4627.tif'"
      ]
     },
     "execution_count": 6,
     "metadata": {},
     "output_type": "execute_result"
    },
    {
     "data": {
      "text/plain": [
       "'C:\\\\Users\\\\fralu\\\\Documents\\\\GitHub\\\\anndl\\\\image-segmentation\\\\Segmentation_Dataset\\\\training\\\\masks\\\\img\\\\4627.tif'"
      ]
     },
     "execution_count": 6,
     "metadata": {},
     "output_type": "execute_result"
    },
    {
     "data": {
      "text/plain": [
       "'C:\\\\Users\\\\fralu\\\\Documents\\\\GitHub\\\\anndl\\\\image-segmentation\\\\Segmentation_Dataset\\\\training\\\\images\\\\img\\\\4632.tif'"
      ]
     },
     "execution_count": 6,
     "metadata": {},
     "output_type": "execute_result"
    },
    {
     "data": {
      "text/plain": [
       "'C:\\\\Users\\\\fralu\\\\Documents\\\\GitHub\\\\anndl\\\\image-segmentation\\\\Segmentation_Dataset\\\\training\\\\masks\\\\img\\\\4632.tif'"
      ]
     },
     "execution_count": 6,
     "metadata": {},
     "output_type": "execute_result"
    },
    {
     "data": {
      "text/plain": [
       "'C:\\\\Users\\\\fralu\\\\Documents\\\\GitHub\\\\anndl\\\\image-segmentation\\\\Segmentation_Dataset\\\\training\\\\images\\\\img\\\\4636.tif'"
      ]
     },
     "execution_count": 6,
     "metadata": {},
     "output_type": "execute_result"
    },
    {
     "data": {
      "text/plain": [
       "'C:\\\\Users\\\\fralu\\\\Documents\\\\GitHub\\\\anndl\\\\image-segmentation\\\\Segmentation_Dataset\\\\training\\\\masks\\\\img\\\\4636.tif'"
      ]
     },
     "execution_count": 6,
     "metadata": {},
     "output_type": "execute_result"
    },
    {
     "data": {
      "text/plain": [
       "'C:\\\\Users\\\\fralu\\\\Documents\\\\GitHub\\\\anndl\\\\image-segmentation\\\\Segmentation_Dataset\\\\training\\\\images\\\\img\\\\4644.tif'"
      ]
     },
     "execution_count": 6,
     "metadata": {},
     "output_type": "execute_result"
    },
    {
     "data": {
      "text/plain": [
       "'C:\\\\Users\\\\fralu\\\\Documents\\\\GitHub\\\\anndl\\\\image-segmentation\\\\Segmentation_Dataset\\\\training\\\\masks\\\\img\\\\4644.tif'"
      ]
     },
     "execution_count": 6,
     "metadata": {},
     "output_type": "execute_result"
    },
    {
     "data": {
      "text/plain": [
       "'C:\\\\Users\\\\fralu\\\\Documents\\\\GitHub\\\\anndl\\\\image-segmentation\\\\Segmentation_Dataset\\\\training\\\\images\\\\img\\\\4665.tif'"
      ]
     },
     "execution_count": 6,
     "metadata": {},
     "output_type": "execute_result"
    },
    {
     "data": {
      "text/plain": [
       "'C:\\\\Users\\\\fralu\\\\Documents\\\\GitHub\\\\anndl\\\\image-segmentation\\\\Segmentation_Dataset\\\\training\\\\masks\\\\img\\\\4665.tif'"
      ]
     },
     "execution_count": 6,
     "metadata": {},
     "output_type": "execute_result"
    },
    {
     "data": {
      "text/plain": [
       "'C:\\\\Users\\\\fralu\\\\Documents\\\\GitHub\\\\anndl\\\\image-segmentation\\\\Segmentation_Dataset\\\\training\\\\images\\\\img\\\\4759.tif'"
      ]
     },
     "execution_count": 6,
     "metadata": {},
     "output_type": "execute_result"
    },
    {
     "data": {
      "text/plain": [
       "'C:\\\\Users\\\\fralu\\\\Documents\\\\GitHub\\\\anndl\\\\image-segmentation\\\\Segmentation_Dataset\\\\training\\\\masks\\\\img\\\\4759.tif'"
      ]
     },
     "execution_count": 6,
     "metadata": {},
     "output_type": "execute_result"
    },
    {
     "data": {
      "text/plain": [
       "'C:\\\\Users\\\\fralu\\\\Documents\\\\GitHub\\\\anndl\\\\image-segmentation\\\\Segmentation_Dataset\\\\training\\\\images\\\\img\\\\4761.tif'"
      ]
     },
     "execution_count": 6,
     "metadata": {},
     "output_type": "execute_result"
    },
    {
     "data": {
      "text/plain": [
       "'C:\\\\Users\\\\fralu\\\\Documents\\\\GitHub\\\\anndl\\\\image-segmentation\\\\Segmentation_Dataset\\\\training\\\\masks\\\\img\\\\4761.tif'"
      ]
     },
     "execution_count": 6,
     "metadata": {},
     "output_type": "execute_result"
    },
    {
     "data": {
      "text/plain": [
       "'C:\\\\Users\\\\fralu\\\\Documents\\\\GitHub\\\\anndl\\\\image-segmentation\\\\Segmentation_Dataset\\\\training\\\\images\\\\img\\\\4765.tif'"
      ]
     },
     "execution_count": 6,
     "metadata": {},
     "output_type": "execute_result"
    },
    {
     "data": {
      "text/plain": [
       "'C:\\\\Users\\\\fralu\\\\Documents\\\\GitHub\\\\anndl\\\\image-segmentation\\\\Segmentation_Dataset\\\\training\\\\masks\\\\img\\\\4765.tif'"
      ]
     },
     "execution_count": 6,
     "metadata": {},
     "output_type": "execute_result"
    },
    {
     "data": {
      "text/plain": [
       "'C:\\\\Users\\\\fralu\\\\Documents\\\\GitHub\\\\anndl\\\\image-segmentation\\\\Segmentation_Dataset\\\\training\\\\images\\\\img\\\\4770.tif'"
      ]
     },
     "execution_count": 6,
     "metadata": {},
     "output_type": "execute_result"
    },
    {
     "data": {
      "text/plain": [
       "'C:\\\\Users\\\\fralu\\\\Documents\\\\GitHub\\\\anndl\\\\image-segmentation\\\\Segmentation_Dataset\\\\training\\\\masks\\\\img\\\\4770.tif'"
      ]
     },
     "execution_count": 6,
     "metadata": {},
     "output_type": "execute_result"
    },
    {
     "data": {
      "text/plain": [
       "'C:\\\\Users\\\\fralu\\\\Documents\\\\GitHub\\\\anndl\\\\image-segmentation\\\\Segmentation_Dataset\\\\training\\\\images\\\\img\\\\4771.tif'"
      ]
     },
     "execution_count": 6,
     "metadata": {},
     "output_type": "execute_result"
    },
    {
     "data": {
      "text/plain": [
       "'C:\\\\Users\\\\fralu\\\\Documents\\\\GitHub\\\\anndl\\\\image-segmentation\\\\Segmentation_Dataset\\\\training\\\\masks\\\\img\\\\4771.tif'"
      ]
     },
     "execution_count": 6,
     "metadata": {},
     "output_type": "execute_result"
    },
    {
     "data": {
      "text/plain": [
       "'C:\\\\Users\\\\fralu\\\\Documents\\\\GitHub\\\\anndl\\\\image-segmentation\\\\Segmentation_Dataset\\\\training\\\\images\\\\img\\\\4772.tif'"
      ]
     },
     "execution_count": 6,
     "metadata": {},
     "output_type": "execute_result"
    },
    {
     "data": {
      "text/plain": [
       "'C:\\\\Users\\\\fralu\\\\Documents\\\\GitHub\\\\anndl\\\\image-segmentation\\\\Segmentation_Dataset\\\\training\\\\masks\\\\img\\\\4772.tif'"
      ]
     },
     "execution_count": 6,
     "metadata": {},
     "output_type": "execute_result"
    },
    {
     "data": {
      "text/plain": [
       "'C:\\\\Users\\\\fralu\\\\Documents\\\\GitHub\\\\anndl\\\\image-segmentation\\\\Segmentation_Dataset\\\\training\\\\images\\\\img\\\\4773.tif'"
      ]
     },
     "execution_count": 6,
     "metadata": {},
     "output_type": "execute_result"
    },
    {
     "data": {
      "text/plain": [
       "'C:\\\\Users\\\\fralu\\\\Documents\\\\GitHub\\\\anndl\\\\image-segmentation\\\\Segmentation_Dataset\\\\training\\\\masks\\\\img\\\\4773.tif'"
      ]
     },
     "execution_count": 6,
     "metadata": {},
     "output_type": "execute_result"
    },
    {
     "data": {
      "text/plain": [
       "'C:\\\\Users\\\\fralu\\\\Documents\\\\GitHub\\\\anndl\\\\image-segmentation\\\\Segmentation_Dataset\\\\training\\\\images\\\\img\\\\4782.tif'"
      ]
     },
     "execution_count": 6,
     "metadata": {},
     "output_type": "execute_result"
    },
    {
     "data": {
      "text/plain": [
       "'C:\\\\Users\\\\fralu\\\\Documents\\\\GitHub\\\\anndl\\\\image-segmentation\\\\Segmentation_Dataset\\\\training\\\\masks\\\\img\\\\4782.tif'"
      ]
     },
     "execution_count": 6,
     "metadata": {},
     "output_type": "execute_result"
    },
    {
     "data": {
      "text/plain": [
       "'C:\\\\Users\\\\fralu\\\\Documents\\\\GitHub\\\\anndl\\\\image-segmentation\\\\Segmentation_Dataset\\\\training\\\\images\\\\img\\\\4783.tif'"
      ]
     },
     "execution_count": 6,
     "metadata": {},
     "output_type": "execute_result"
    },
    {
     "data": {
      "text/plain": [
       "'C:\\\\Users\\\\fralu\\\\Documents\\\\GitHub\\\\anndl\\\\image-segmentation\\\\Segmentation_Dataset\\\\training\\\\masks\\\\img\\\\4783.tif'"
      ]
     },
     "execution_count": 6,
     "metadata": {},
     "output_type": "execute_result"
    },
    {
     "data": {
      "text/plain": [
       "'C:\\\\Users\\\\fralu\\\\Documents\\\\GitHub\\\\anndl\\\\image-segmentation\\\\Segmentation_Dataset\\\\training\\\\images\\\\img\\\\4785.tif'"
      ]
     },
     "execution_count": 6,
     "metadata": {},
     "output_type": "execute_result"
    },
    {
     "data": {
      "text/plain": [
       "'C:\\\\Users\\\\fralu\\\\Documents\\\\GitHub\\\\anndl\\\\image-segmentation\\\\Segmentation_Dataset\\\\training\\\\masks\\\\img\\\\4785.tif'"
      ]
     },
     "execution_count": 6,
     "metadata": {},
     "output_type": "execute_result"
    },
    {
     "data": {
      "text/plain": [
       "'C:\\\\Users\\\\fralu\\\\Documents\\\\GitHub\\\\anndl\\\\image-segmentation\\\\Segmentation_Dataset\\\\training\\\\images\\\\img\\\\4788.tif'"
      ]
     },
     "execution_count": 6,
     "metadata": {},
     "output_type": "execute_result"
    },
    {
     "data": {
      "text/plain": [
       "'C:\\\\Users\\\\fralu\\\\Documents\\\\GitHub\\\\anndl\\\\image-segmentation\\\\Segmentation_Dataset\\\\training\\\\masks\\\\img\\\\4788.tif'"
      ]
     },
     "execution_count": 6,
     "metadata": {},
     "output_type": "execute_result"
    },
    {
     "data": {
      "text/plain": [
       "'C:\\\\Users\\\\fralu\\\\Documents\\\\GitHub\\\\anndl\\\\image-segmentation\\\\Segmentation_Dataset\\\\training\\\\images\\\\img\\\\4794.tif'"
      ]
     },
     "execution_count": 6,
     "metadata": {},
     "output_type": "execute_result"
    },
    {
     "data": {
      "text/plain": [
       "'C:\\\\Users\\\\fralu\\\\Documents\\\\GitHub\\\\anndl\\\\image-segmentation\\\\Segmentation_Dataset\\\\training\\\\masks\\\\img\\\\4794.tif'"
      ]
     },
     "execution_count": 6,
     "metadata": {},
     "output_type": "execute_result"
    },
    {
     "data": {
      "text/plain": [
       "'C:\\\\Users\\\\fralu\\\\Documents\\\\GitHub\\\\anndl\\\\image-segmentation\\\\Segmentation_Dataset\\\\training\\\\images\\\\img\\\\4798.tif'"
      ]
     },
     "execution_count": 6,
     "metadata": {},
     "output_type": "execute_result"
    },
    {
     "data": {
      "text/plain": [
       "'C:\\\\Users\\\\fralu\\\\Documents\\\\GitHub\\\\anndl\\\\image-segmentation\\\\Segmentation_Dataset\\\\training\\\\masks\\\\img\\\\4798.tif'"
      ]
     },
     "execution_count": 6,
     "metadata": {},
     "output_type": "execute_result"
    },
    {
     "data": {
      "text/plain": [
       "'C:\\\\Users\\\\fralu\\\\Documents\\\\GitHub\\\\anndl\\\\image-segmentation\\\\Segmentation_Dataset\\\\training\\\\images\\\\img\\\\48.tif'"
      ]
     },
     "execution_count": 6,
     "metadata": {},
     "output_type": "execute_result"
    },
    {
     "data": {
      "text/plain": [
       "'C:\\\\Users\\\\fralu\\\\Documents\\\\GitHub\\\\anndl\\\\image-segmentation\\\\Segmentation_Dataset\\\\training\\\\masks\\\\img\\\\48.tif'"
      ]
     },
     "execution_count": 6,
     "metadata": {},
     "output_type": "execute_result"
    },
    {
     "data": {
      "text/plain": [
       "'C:\\\\Users\\\\fralu\\\\Documents\\\\GitHub\\\\anndl\\\\image-segmentation\\\\Segmentation_Dataset\\\\training\\\\images\\\\img\\\\4800.tif'"
      ]
     },
     "execution_count": 6,
     "metadata": {},
     "output_type": "execute_result"
    },
    {
     "data": {
      "text/plain": [
       "'C:\\\\Users\\\\fralu\\\\Documents\\\\GitHub\\\\anndl\\\\image-segmentation\\\\Segmentation_Dataset\\\\training\\\\masks\\\\img\\\\4800.tif'"
      ]
     },
     "execution_count": 6,
     "metadata": {},
     "output_type": "execute_result"
    },
    {
     "data": {
      "text/plain": [
       "'C:\\\\Users\\\\fralu\\\\Documents\\\\GitHub\\\\anndl\\\\image-segmentation\\\\Segmentation_Dataset\\\\training\\\\images\\\\img\\\\4804.tif'"
      ]
     },
     "execution_count": 6,
     "metadata": {},
     "output_type": "execute_result"
    },
    {
     "data": {
      "text/plain": [
       "'C:\\\\Users\\\\fralu\\\\Documents\\\\GitHub\\\\anndl\\\\image-segmentation\\\\Segmentation_Dataset\\\\training\\\\masks\\\\img\\\\4804.tif'"
      ]
     },
     "execution_count": 6,
     "metadata": {},
     "output_type": "execute_result"
    },
    {
     "data": {
      "text/plain": [
       "'C:\\\\Users\\\\fralu\\\\Documents\\\\GitHub\\\\anndl\\\\image-segmentation\\\\Segmentation_Dataset\\\\training\\\\images\\\\img\\\\4811.tif'"
      ]
     },
     "execution_count": 6,
     "metadata": {},
     "output_type": "execute_result"
    },
    {
     "data": {
      "text/plain": [
       "'C:\\\\Users\\\\fralu\\\\Documents\\\\GitHub\\\\anndl\\\\image-segmentation\\\\Segmentation_Dataset\\\\training\\\\masks\\\\img\\\\4811.tif'"
      ]
     },
     "execution_count": 6,
     "metadata": {},
     "output_type": "execute_result"
    },
    {
     "data": {
      "text/plain": [
       "'C:\\\\Users\\\\fralu\\\\Documents\\\\GitHub\\\\anndl\\\\image-segmentation\\\\Segmentation_Dataset\\\\training\\\\images\\\\img\\\\4817.tif'"
      ]
     },
     "execution_count": 6,
     "metadata": {},
     "output_type": "execute_result"
    },
    {
     "data": {
      "text/plain": [
       "'C:\\\\Users\\\\fralu\\\\Documents\\\\GitHub\\\\anndl\\\\image-segmentation\\\\Segmentation_Dataset\\\\training\\\\masks\\\\img\\\\4817.tif'"
      ]
     },
     "execution_count": 6,
     "metadata": {},
     "output_type": "execute_result"
    },
    {
     "data": {
      "text/plain": [
       "'C:\\\\Users\\\\fralu\\\\Documents\\\\GitHub\\\\anndl\\\\image-segmentation\\\\Segmentation_Dataset\\\\training\\\\images\\\\img\\\\4818.tif'"
      ]
     },
     "execution_count": 6,
     "metadata": {},
     "output_type": "execute_result"
    },
    {
     "data": {
      "text/plain": [
       "'C:\\\\Users\\\\fralu\\\\Documents\\\\GitHub\\\\anndl\\\\image-segmentation\\\\Segmentation_Dataset\\\\training\\\\masks\\\\img\\\\4818.tif'"
      ]
     },
     "execution_count": 6,
     "metadata": {},
     "output_type": "execute_result"
    },
    {
     "data": {
      "text/plain": [
       "'C:\\\\Users\\\\fralu\\\\Documents\\\\GitHub\\\\anndl\\\\image-segmentation\\\\Segmentation_Dataset\\\\training\\\\images\\\\img\\\\4823.tif'"
      ]
     },
     "execution_count": 6,
     "metadata": {},
     "output_type": "execute_result"
    },
    {
     "data": {
      "text/plain": [
       "'C:\\\\Users\\\\fralu\\\\Documents\\\\GitHub\\\\anndl\\\\image-segmentation\\\\Segmentation_Dataset\\\\training\\\\masks\\\\img\\\\4823.tif'"
      ]
     },
     "execution_count": 6,
     "metadata": {},
     "output_type": "execute_result"
    },
    {
     "data": {
      "text/plain": [
       "'C:\\\\Users\\\\fralu\\\\Documents\\\\GitHub\\\\anndl\\\\image-segmentation\\\\Segmentation_Dataset\\\\training\\\\images\\\\img\\\\4852.tif'"
      ]
     },
     "execution_count": 6,
     "metadata": {},
     "output_type": "execute_result"
    },
    {
     "data": {
      "text/plain": [
       "'C:\\\\Users\\\\fralu\\\\Documents\\\\GitHub\\\\anndl\\\\image-segmentation\\\\Segmentation_Dataset\\\\training\\\\masks\\\\img\\\\4852.tif'"
      ]
     },
     "execution_count": 6,
     "metadata": {},
     "output_type": "execute_result"
    },
    {
     "data": {
      "text/plain": [
       "'C:\\\\Users\\\\fralu\\\\Documents\\\\GitHub\\\\anndl\\\\image-segmentation\\\\Segmentation_Dataset\\\\training\\\\images\\\\img\\\\4862.tif'"
      ]
     },
     "execution_count": 6,
     "metadata": {},
     "output_type": "execute_result"
    },
    {
     "data": {
      "text/plain": [
       "'C:\\\\Users\\\\fralu\\\\Documents\\\\GitHub\\\\anndl\\\\image-segmentation\\\\Segmentation_Dataset\\\\training\\\\masks\\\\img\\\\4862.tif'"
      ]
     },
     "execution_count": 6,
     "metadata": {},
     "output_type": "execute_result"
    },
    {
     "data": {
      "text/plain": [
       "'C:\\\\Users\\\\fralu\\\\Documents\\\\GitHub\\\\anndl\\\\image-segmentation\\\\Segmentation_Dataset\\\\training\\\\images\\\\img\\\\4863.tif'"
      ]
     },
     "execution_count": 6,
     "metadata": {},
     "output_type": "execute_result"
    },
    {
     "data": {
      "text/plain": [
       "'C:\\\\Users\\\\fralu\\\\Documents\\\\GitHub\\\\anndl\\\\image-segmentation\\\\Segmentation_Dataset\\\\training\\\\masks\\\\img\\\\4863.tif'"
      ]
     },
     "execution_count": 6,
     "metadata": {},
     "output_type": "execute_result"
    },
    {
     "data": {
      "text/plain": [
       "'C:\\\\Users\\\\fralu\\\\Documents\\\\GitHub\\\\anndl\\\\image-segmentation\\\\Segmentation_Dataset\\\\training\\\\images\\\\img\\\\4864.tif'"
      ]
     },
     "execution_count": 6,
     "metadata": {},
     "output_type": "execute_result"
    },
    {
     "data": {
      "text/plain": [
       "'C:\\\\Users\\\\fralu\\\\Documents\\\\GitHub\\\\anndl\\\\image-segmentation\\\\Segmentation_Dataset\\\\training\\\\masks\\\\img\\\\4864.tif'"
      ]
     },
     "execution_count": 6,
     "metadata": {},
     "output_type": "execute_result"
    },
    {
     "data": {
      "text/plain": [
       "'C:\\\\Users\\\\fralu\\\\Documents\\\\GitHub\\\\anndl\\\\image-segmentation\\\\Segmentation_Dataset\\\\training\\\\images\\\\img\\\\4880.tif'"
      ]
     },
     "execution_count": 6,
     "metadata": {},
     "output_type": "execute_result"
    },
    {
     "data": {
      "text/plain": [
       "'C:\\\\Users\\\\fralu\\\\Documents\\\\GitHub\\\\anndl\\\\image-segmentation\\\\Segmentation_Dataset\\\\training\\\\masks\\\\img\\\\4880.tif'"
      ]
     },
     "execution_count": 6,
     "metadata": {},
     "output_type": "execute_result"
    },
    {
     "data": {
      "text/plain": [
       "'C:\\\\Users\\\\fralu\\\\Documents\\\\GitHub\\\\anndl\\\\image-segmentation\\\\Segmentation_Dataset\\\\training\\\\images\\\\img\\\\4890.tif'"
      ]
     },
     "execution_count": 6,
     "metadata": {},
     "output_type": "execute_result"
    },
    {
     "data": {
      "text/plain": [
       "'C:\\\\Users\\\\fralu\\\\Documents\\\\GitHub\\\\anndl\\\\image-segmentation\\\\Segmentation_Dataset\\\\training\\\\masks\\\\img\\\\4890.tif'"
      ]
     },
     "execution_count": 6,
     "metadata": {},
     "output_type": "execute_result"
    },
    {
     "data": {
      "text/plain": [
       "'C:\\\\Users\\\\fralu\\\\Documents\\\\GitHub\\\\anndl\\\\image-segmentation\\\\Segmentation_Dataset\\\\training\\\\images\\\\img\\\\4892.tif'"
      ]
     },
     "execution_count": 6,
     "metadata": {},
     "output_type": "execute_result"
    },
    {
     "data": {
      "text/plain": [
       "'C:\\\\Users\\\\fralu\\\\Documents\\\\GitHub\\\\anndl\\\\image-segmentation\\\\Segmentation_Dataset\\\\training\\\\masks\\\\img\\\\4892.tif'"
      ]
     },
     "execution_count": 6,
     "metadata": {},
     "output_type": "execute_result"
    },
    {
     "data": {
      "text/plain": [
       "'C:\\\\Users\\\\fralu\\\\Documents\\\\GitHub\\\\anndl\\\\image-segmentation\\\\Segmentation_Dataset\\\\training\\\\images\\\\img\\\\4895.tif'"
      ]
     },
     "execution_count": 6,
     "metadata": {},
     "output_type": "execute_result"
    },
    {
     "data": {
      "text/plain": [
       "'C:\\\\Users\\\\fralu\\\\Documents\\\\GitHub\\\\anndl\\\\image-segmentation\\\\Segmentation_Dataset\\\\training\\\\masks\\\\img\\\\4895.tif'"
      ]
     },
     "execution_count": 6,
     "metadata": {},
     "output_type": "execute_result"
    },
    {
     "data": {
      "text/plain": [
       "'C:\\\\Users\\\\fralu\\\\Documents\\\\GitHub\\\\anndl\\\\image-segmentation\\\\Segmentation_Dataset\\\\training\\\\images\\\\img\\\\4908.tif'"
      ]
     },
     "execution_count": 6,
     "metadata": {},
     "output_type": "execute_result"
    },
    {
     "data": {
      "text/plain": [
       "'C:\\\\Users\\\\fralu\\\\Documents\\\\GitHub\\\\anndl\\\\image-segmentation\\\\Segmentation_Dataset\\\\training\\\\masks\\\\img\\\\4908.tif'"
      ]
     },
     "execution_count": 6,
     "metadata": {},
     "output_type": "execute_result"
    },
    {
     "data": {
      "text/plain": [
       "'C:\\\\Users\\\\fralu\\\\Documents\\\\GitHub\\\\anndl\\\\image-segmentation\\\\Segmentation_Dataset\\\\training\\\\images\\\\img\\\\4910.tif'"
      ]
     },
     "execution_count": 6,
     "metadata": {},
     "output_type": "execute_result"
    },
    {
     "data": {
      "text/plain": [
       "'C:\\\\Users\\\\fralu\\\\Documents\\\\GitHub\\\\anndl\\\\image-segmentation\\\\Segmentation_Dataset\\\\training\\\\masks\\\\img\\\\4910.tif'"
      ]
     },
     "execution_count": 6,
     "metadata": {},
     "output_type": "execute_result"
    },
    {
     "data": {
      "text/plain": [
       "'C:\\\\Users\\\\fralu\\\\Documents\\\\GitHub\\\\anndl\\\\image-segmentation\\\\Segmentation_Dataset\\\\training\\\\images\\\\img\\\\4912.tif'"
      ]
     },
     "execution_count": 6,
     "metadata": {},
     "output_type": "execute_result"
    },
    {
     "data": {
      "text/plain": [
       "'C:\\\\Users\\\\fralu\\\\Documents\\\\GitHub\\\\anndl\\\\image-segmentation\\\\Segmentation_Dataset\\\\training\\\\masks\\\\img\\\\4912.tif'"
      ]
     },
     "execution_count": 6,
     "metadata": {},
     "output_type": "execute_result"
    },
    {
     "data": {
      "text/plain": [
       "'C:\\\\Users\\\\fralu\\\\Documents\\\\GitHub\\\\anndl\\\\image-segmentation\\\\Segmentation_Dataset\\\\training\\\\images\\\\img\\\\4913.tif'"
      ]
     },
     "execution_count": 6,
     "metadata": {},
     "output_type": "execute_result"
    },
    {
     "data": {
      "text/plain": [
       "'C:\\\\Users\\\\fralu\\\\Documents\\\\GitHub\\\\anndl\\\\image-segmentation\\\\Segmentation_Dataset\\\\training\\\\masks\\\\img\\\\4913.tif'"
      ]
     },
     "execution_count": 6,
     "metadata": {},
     "output_type": "execute_result"
    },
    {
     "data": {
      "text/plain": [
       "'C:\\\\Users\\\\fralu\\\\Documents\\\\GitHub\\\\anndl\\\\image-segmentation\\\\Segmentation_Dataset\\\\training\\\\images\\\\img\\\\4926.tif'"
      ]
     },
     "execution_count": 6,
     "metadata": {},
     "output_type": "execute_result"
    },
    {
     "data": {
      "text/plain": [
       "'C:\\\\Users\\\\fralu\\\\Documents\\\\GitHub\\\\anndl\\\\image-segmentation\\\\Segmentation_Dataset\\\\training\\\\masks\\\\img\\\\4926.tif'"
      ]
     },
     "execution_count": 6,
     "metadata": {},
     "output_type": "execute_result"
    },
    {
     "data": {
      "text/plain": [
       "'C:\\\\Users\\\\fralu\\\\Documents\\\\GitHub\\\\anndl\\\\image-segmentation\\\\Segmentation_Dataset\\\\training\\\\images\\\\img\\\\4932.tif'"
      ]
     },
     "execution_count": 6,
     "metadata": {},
     "output_type": "execute_result"
    },
    {
     "data": {
      "text/plain": [
       "'C:\\\\Users\\\\fralu\\\\Documents\\\\GitHub\\\\anndl\\\\image-segmentation\\\\Segmentation_Dataset\\\\training\\\\masks\\\\img\\\\4932.tif'"
      ]
     },
     "execution_count": 6,
     "metadata": {},
     "output_type": "execute_result"
    },
    {
     "data": {
      "text/plain": [
       "'C:\\\\Users\\\\fralu\\\\Documents\\\\GitHub\\\\anndl\\\\image-segmentation\\\\Segmentation_Dataset\\\\training\\\\images\\\\img\\\\4940.tif'"
      ]
     },
     "execution_count": 6,
     "metadata": {},
     "output_type": "execute_result"
    },
    {
     "data": {
      "text/plain": [
       "'C:\\\\Users\\\\fralu\\\\Documents\\\\GitHub\\\\anndl\\\\image-segmentation\\\\Segmentation_Dataset\\\\training\\\\masks\\\\img\\\\4940.tif'"
      ]
     },
     "execution_count": 6,
     "metadata": {},
     "output_type": "execute_result"
    },
    {
     "data": {
      "text/plain": [
       "'C:\\\\Users\\\\fralu\\\\Documents\\\\GitHub\\\\anndl\\\\image-segmentation\\\\Segmentation_Dataset\\\\training\\\\images\\\\img\\\\4944.tif'"
      ]
     },
     "execution_count": 6,
     "metadata": {},
     "output_type": "execute_result"
    },
    {
     "data": {
      "text/plain": [
       "'C:\\\\Users\\\\fralu\\\\Documents\\\\GitHub\\\\anndl\\\\image-segmentation\\\\Segmentation_Dataset\\\\training\\\\masks\\\\img\\\\4944.tif'"
      ]
     },
     "execution_count": 6,
     "metadata": {},
     "output_type": "execute_result"
    },
    {
     "data": {
      "text/plain": [
       "'C:\\\\Users\\\\fralu\\\\Documents\\\\GitHub\\\\anndl\\\\image-segmentation\\\\Segmentation_Dataset\\\\training\\\\images\\\\img\\\\4945.tif'"
      ]
     },
     "execution_count": 6,
     "metadata": {},
     "output_type": "execute_result"
    },
    {
     "data": {
      "text/plain": [
       "'C:\\\\Users\\\\fralu\\\\Documents\\\\GitHub\\\\anndl\\\\image-segmentation\\\\Segmentation_Dataset\\\\training\\\\masks\\\\img\\\\4945.tif'"
      ]
     },
     "execution_count": 6,
     "metadata": {},
     "output_type": "execute_result"
    },
    {
     "data": {
      "text/plain": [
       "'C:\\\\Users\\\\fralu\\\\Documents\\\\GitHub\\\\anndl\\\\image-segmentation\\\\Segmentation_Dataset\\\\training\\\\images\\\\img\\\\4948.tif'"
      ]
     },
     "execution_count": 6,
     "metadata": {},
     "output_type": "execute_result"
    },
    {
     "data": {
      "text/plain": [
       "'C:\\\\Users\\\\fralu\\\\Documents\\\\GitHub\\\\anndl\\\\image-segmentation\\\\Segmentation_Dataset\\\\training\\\\masks\\\\img\\\\4948.tif'"
      ]
     },
     "execution_count": 6,
     "metadata": {},
     "output_type": "execute_result"
    },
    {
     "data": {
      "text/plain": [
       "'C:\\\\Users\\\\fralu\\\\Documents\\\\GitHub\\\\anndl\\\\image-segmentation\\\\Segmentation_Dataset\\\\training\\\\images\\\\img\\\\4955.tif'"
      ]
     },
     "execution_count": 6,
     "metadata": {},
     "output_type": "execute_result"
    },
    {
     "data": {
      "text/plain": [
       "'C:\\\\Users\\\\fralu\\\\Documents\\\\GitHub\\\\anndl\\\\image-segmentation\\\\Segmentation_Dataset\\\\training\\\\masks\\\\img\\\\4955.tif'"
      ]
     },
     "execution_count": 6,
     "metadata": {},
     "output_type": "execute_result"
    },
    {
     "data": {
      "text/plain": [
       "'C:\\\\Users\\\\fralu\\\\Documents\\\\GitHub\\\\anndl\\\\image-segmentation\\\\Segmentation_Dataset\\\\training\\\\images\\\\img\\\\4957.tif'"
      ]
     },
     "execution_count": 6,
     "metadata": {},
     "output_type": "execute_result"
    },
    {
     "data": {
      "text/plain": [
       "'C:\\\\Users\\\\fralu\\\\Documents\\\\GitHub\\\\anndl\\\\image-segmentation\\\\Segmentation_Dataset\\\\training\\\\masks\\\\img\\\\4957.tif'"
      ]
     },
     "execution_count": 6,
     "metadata": {},
     "output_type": "execute_result"
    },
    {
     "data": {
      "text/plain": [
       "'C:\\\\Users\\\\fralu\\\\Documents\\\\GitHub\\\\anndl\\\\image-segmentation\\\\Segmentation_Dataset\\\\training\\\\images\\\\img\\\\4958.tif'"
      ]
     },
     "execution_count": 6,
     "metadata": {},
     "output_type": "execute_result"
    },
    {
     "data": {
      "text/plain": [
       "'C:\\\\Users\\\\fralu\\\\Documents\\\\GitHub\\\\anndl\\\\image-segmentation\\\\Segmentation_Dataset\\\\training\\\\masks\\\\img\\\\4958.tif'"
      ]
     },
     "execution_count": 6,
     "metadata": {},
     "output_type": "execute_result"
    },
    {
     "data": {
      "text/plain": [
       "'C:\\\\Users\\\\fralu\\\\Documents\\\\GitHub\\\\anndl\\\\image-segmentation\\\\Segmentation_Dataset\\\\training\\\\images\\\\img\\\\4962.tif'"
      ]
     },
     "execution_count": 6,
     "metadata": {},
     "output_type": "execute_result"
    },
    {
     "data": {
      "text/plain": [
       "'C:\\\\Users\\\\fralu\\\\Documents\\\\GitHub\\\\anndl\\\\image-segmentation\\\\Segmentation_Dataset\\\\training\\\\masks\\\\img\\\\4962.tif'"
      ]
     },
     "execution_count": 6,
     "metadata": {},
     "output_type": "execute_result"
    },
    {
     "data": {
      "text/plain": [
       "'C:\\\\Users\\\\fralu\\\\Documents\\\\GitHub\\\\anndl\\\\image-segmentation\\\\Segmentation_Dataset\\\\training\\\\images\\\\img\\\\4964.tif'"
      ]
     },
     "execution_count": 6,
     "metadata": {},
     "output_type": "execute_result"
    },
    {
     "data": {
      "text/plain": [
       "'C:\\\\Users\\\\fralu\\\\Documents\\\\GitHub\\\\anndl\\\\image-segmentation\\\\Segmentation_Dataset\\\\training\\\\masks\\\\img\\\\4964.tif'"
      ]
     },
     "execution_count": 6,
     "metadata": {},
     "output_type": "execute_result"
    },
    {
     "data": {
      "text/plain": [
       "'C:\\\\Users\\\\fralu\\\\Documents\\\\GitHub\\\\anndl\\\\image-segmentation\\\\Segmentation_Dataset\\\\training\\\\images\\\\img\\\\4967.tif'"
      ]
     },
     "execution_count": 6,
     "metadata": {},
     "output_type": "execute_result"
    },
    {
     "data": {
      "text/plain": [
       "'C:\\\\Users\\\\fralu\\\\Documents\\\\GitHub\\\\anndl\\\\image-segmentation\\\\Segmentation_Dataset\\\\training\\\\masks\\\\img\\\\4967.tif'"
      ]
     },
     "execution_count": 6,
     "metadata": {},
     "output_type": "execute_result"
    },
    {
     "data": {
      "text/plain": [
       "'C:\\\\Users\\\\fralu\\\\Documents\\\\GitHub\\\\anndl\\\\image-segmentation\\\\Segmentation_Dataset\\\\training\\\\images\\\\img\\\\4971.tif'"
      ]
     },
     "execution_count": 6,
     "metadata": {},
     "output_type": "execute_result"
    },
    {
     "data": {
      "text/plain": [
       "'C:\\\\Users\\\\fralu\\\\Documents\\\\GitHub\\\\anndl\\\\image-segmentation\\\\Segmentation_Dataset\\\\training\\\\masks\\\\img\\\\4971.tif'"
      ]
     },
     "execution_count": 6,
     "metadata": {},
     "output_type": "execute_result"
    },
    {
     "data": {
      "text/plain": [
       "'C:\\\\Users\\\\fralu\\\\Documents\\\\GitHub\\\\anndl\\\\image-segmentation\\\\Segmentation_Dataset\\\\training\\\\images\\\\img\\\\4977.tif'"
      ]
     },
     "execution_count": 6,
     "metadata": {},
     "output_type": "execute_result"
    },
    {
     "data": {
      "text/plain": [
       "'C:\\\\Users\\\\fralu\\\\Documents\\\\GitHub\\\\anndl\\\\image-segmentation\\\\Segmentation_Dataset\\\\training\\\\masks\\\\img\\\\4977.tif'"
      ]
     },
     "execution_count": 6,
     "metadata": {},
     "output_type": "execute_result"
    },
    {
     "data": {
      "text/plain": [
       "'C:\\\\Users\\\\fralu\\\\Documents\\\\GitHub\\\\anndl\\\\image-segmentation\\\\Segmentation_Dataset\\\\training\\\\images\\\\img\\\\4985.tif'"
      ]
     },
     "execution_count": 6,
     "metadata": {},
     "output_type": "execute_result"
    },
    {
     "data": {
      "text/plain": [
       "'C:\\\\Users\\\\fralu\\\\Documents\\\\GitHub\\\\anndl\\\\image-segmentation\\\\Segmentation_Dataset\\\\training\\\\masks\\\\img\\\\4985.tif'"
      ]
     },
     "execution_count": 6,
     "metadata": {},
     "output_type": "execute_result"
    },
    {
     "data": {
      "text/plain": [
       "'C:\\\\Users\\\\fralu\\\\Documents\\\\GitHub\\\\anndl\\\\image-segmentation\\\\Segmentation_Dataset\\\\training\\\\images\\\\img\\\\4989.tif'"
      ]
     },
     "execution_count": 6,
     "metadata": {},
     "output_type": "execute_result"
    },
    {
     "data": {
      "text/plain": [
       "'C:\\\\Users\\\\fralu\\\\Documents\\\\GitHub\\\\anndl\\\\image-segmentation\\\\Segmentation_Dataset\\\\training\\\\masks\\\\img\\\\4989.tif'"
      ]
     },
     "execution_count": 6,
     "metadata": {},
     "output_type": "execute_result"
    },
    {
     "data": {
      "text/plain": [
       "'C:\\\\Users\\\\fralu\\\\Documents\\\\GitHub\\\\anndl\\\\image-segmentation\\\\Segmentation_Dataset\\\\training\\\\images\\\\img\\\\4998.tif'"
      ]
     },
     "execution_count": 6,
     "metadata": {},
     "output_type": "execute_result"
    },
    {
     "data": {
      "text/plain": [
       "'C:\\\\Users\\\\fralu\\\\Documents\\\\GitHub\\\\anndl\\\\image-segmentation\\\\Segmentation_Dataset\\\\training\\\\masks\\\\img\\\\4998.tif'"
      ]
     },
     "execution_count": 6,
     "metadata": {},
     "output_type": "execute_result"
    },
    {
     "data": {
      "text/plain": [
       "'C:\\\\Users\\\\fralu\\\\Documents\\\\GitHub\\\\anndl\\\\image-segmentation\\\\Segmentation_Dataset\\\\training\\\\images\\\\img\\\\5001.tif'"
      ]
     },
     "execution_count": 6,
     "metadata": {},
     "output_type": "execute_result"
    },
    {
     "data": {
      "text/plain": [
       "'C:\\\\Users\\\\fralu\\\\Documents\\\\GitHub\\\\anndl\\\\image-segmentation\\\\Segmentation_Dataset\\\\training\\\\masks\\\\img\\\\5001.tif'"
      ]
     },
     "execution_count": 6,
     "metadata": {},
     "output_type": "execute_result"
    },
    {
     "data": {
      "text/plain": [
       "'C:\\\\Users\\\\fralu\\\\Documents\\\\GitHub\\\\anndl\\\\image-segmentation\\\\Segmentation_Dataset\\\\training\\\\images\\\\img\\\\5002.tif'"
      ]
     },
     "execution_count": 6,
     "metadata": {},
     "output_type": "execute_result"
    },
    {
     "data": {
      "text/plain": [
       "'C:\\\\Users\\\\fralu\\\\Documents\\\\GitHub\\\\anndl\\\\image-segmentation\\\\Segmentation_Dataset\\\\training\\\\masks\\\\img\\\\5002.tif'"
      ]
     },
     "execution_count": 6,
     "metadata": {},
     "output_type": "execute_result"
    },
    {
     "data": {
      "text/plain": [
       "'C:\\\\Users\\\\fralu\\\\Documents\\\\GitHub\\\\anndl\\\\image-segmentation\\\\Segmentation_Dataset\\\\training\\\\images\\\\img\\\\5019.tif'"
      ]
     },
     "execution_count": 6,
     "metadata": {},
     "output_type": "execute_result"
    },
    {
     "data": {
      "text/plain": [
       "'C:\\\\Users\\\\fralu\\\\Documents\\\\GitHub\\\\anndl\\\\image-segmentation\\\\Segmentation_Dataset\\\\training\\\\masks\\\\img\\\\5019.tif'"
      ]
     },
     "execution_count": 6,
     "metadata": {},
     "output_type": "execute_result"
    },
    {
     "data": {
      "text/plain": [
       "'C:\\\\Users\\\\fralu\\\\Documents\\\\GitHub\\\\anndl\\\\image-segmentation\\\\Segmentation_Dataset\\\\training\\\\images\\\\img\\\\5031.tif'"
      ]
     },
     "execution_count": 6,
     "metadata": {},
     "output_type": "execute_result"
    },
    {
     "data": {
      "text/plain": [
       "'C:\\\\Users\\\\fralu\\\\Documents\\\\GitHub\\\\anndl\\\\image-segmentation\\\\Segmentation_Dataset\\\\training\\\\masks\\\\img\\\\5031.tif'"
      ]
     },
     "execution_count": 6,
     "metadata": {},
     "output_type": "execute_result"
    },
    {
     "data": {
      "text/plain": [
       "'C:\\\\Users\\\\fralu\\\\Documents\\\\GitHub\\\\anndl\\\\image-segmentation\\\\Segmentation_Dataset\\\\training\\\\images\\\\img\\\\5033.tif'"
      ]
     },
     "execution_count": 6,
     "metadata": {},
     "output_type": "execute_result"
    },
    {
     "data": {
      "text/plain": [
       "'C:\\\\Users\\\\fralu\\\\Documents\\\\GitHub\\\\anndl\\\\image-segmentation\\\\Segmentation_Dataset\\\\training\\\\masks\\\\img\\\\5033.tif'"
      ]
     },
     "execution_count": 6,
     "metadata": {},
     "output_type": "execute_result"
    },
    {
     "data": {
      "text/plain": [
       "'C:\\\\Users\\\\fralu\\\\Documents\\\\GitHub\\\\anndl\\\\image-segmentation\\\\Segmentation_Dataset\\\\training\\\\images\\\\img\\\\5045.tif'"
      ]
     },
     "execution_count": 6,
     "metadata": {},
     "output_type": "execute_result"
    },
    {
     "data": {
      "text/plain": [
       "'C:\\\\Users\\\\fralu\\\\Documents\\\\GitHub\\\\anndl\\\\image-segmentation\\\\Segmentation_Dataset\\\\training\\\\masks\\\\img\\\\5045.tif'"
      ]
     },
     "execution_count": 6,
     "metadata": {},
     "output_type": "execute_result"
    },
    {
     "data": {
      "text/plain": [
       "'C:\\\\Users\\\\fralu\\\\Documents\\\\GitHub\\\\anndl\\\\image-segmentation\\\\Segmentation_Dataset\\\\training\\\\images\\\\img\\\\5048.tif'"
      ]
     },
     "execution_count": 6,
     "metadata": {},
     "output_type": "execute_result"
    },
    {
     "data": {
      "text/plain": [
       "'C:\\\\Users\\\\fralu\\\\Documents\\\\GitHub\\\\anndl\\\\image-segmentation\\\\Segmentation_Dataset\\\\training\\\\masks\\\\img\\\\5048.tif'"
      ]
     },
     "execution_count": 6,
     "metadata": {},
     "output_type": "execute_result"
    },
    {
     "data": {
      "text/plain": [
       "'C:\\\\Users\\\\fralu\\\\Documents\\\\GitHub\\\\anndl\\\\image-segmentation\\\\Segmentation_Dataset\\\\training\\\\images\\\\img\\\\5049.tif'"
      ]
     },
     "execution_count": 6,
     "metadata": {},
     "output_type": "execute_result"
    },
    {
     "data": {
      "text/plain": [
       "'C:\\\\Users\\\\fralu\\\\Documents\\\\GitHub\\\\anndl\\\\image-segmentation\\\\Segmentation_Dataset\\\\training\\\\masks\\\\img\\\\5049.tif'"
      ]
     },
     "execution_count": 6,
     "metadata": {},
     "output_type": "execute_result"
    },
    {
     "data": {
      "text/plain": [
       "'C:\\\\Users\\\\fralu\\\\Documents\\\\GitHub\\\\anndl\\\\image-segmentation\\\\Segmentation_Dataset\\\\training\\\\images\\\\img\\\\5052.tif'"
      ]
     },
     "execution_count": 6,
     "metadata": {},
     "output_type": "execute_result"
    },
    {
     "data": {
      "text/plain": [
       "'C:\\\\Users\\\\fralu\\\\Documents\\\\GitHub\\\\anndl\\\\image-segmentation\\\\Segmentation_Dataset\\\\training\\\\masks\\\\img\\\\5052.tif'"
      ]
     },
     "execution_count": 6,
     "metadata": {},
     "output_type": "execute_result"
    },
    {
     "data": {
      "text/plain": [
       "'C:\\\\Users\\\\fralu\\\\Documents\\\\GitHub\\\\anndl\\\\image-segmentation\\\\Segmentation_Dataset\\\\training\\\\images\\\\img\\\\5053.tif'"
      ]
     },
     "execution_count": 6,
     "metadata": {},
     "output_type": "execute_result"
    },
    {
     "data": {
      "text/plain": [
       "'C:\\\\Users\\\\fralu\\\\Documents\\\\GitHub\\\\anndl\\\\image-segmentation\\\\Segmentation_Dataset\\\\training\\\\masks\\\\img\\\\5053.tif'"
      ]
     },
     "execution_count": 6,
     "metadata": {},
     "output_type": "execute_result"
    },
    {
     "data": {
      "text/plain": [
       "'C:\\\\Users\\\\fralu\\\\Documents\\\\GitHub\\\\anndl\\\\image-segmentation\\\\Segmentation_Dataset\\\\training\\\\images\\\\img\\\\5055.tif'"
      ]
     },
     "execution_count": 6,
     "metadata": {},
     "output_type": "execute_result"
    },
    {
     "data": {
      "text/plain": [
       "'C:\\\\Users\\\\fralu\\\\Documents\\\\GitHub\\\\anndl\\\\image-segmentation\\\\Segmentation_Dataset\\\\training\\\\masks\\\\img\\\\5055.tif'"
      ]
     },
     "execution_count": 6,
     "metadata": {},
     "output_type": "execute_result"
    },
    {
     "data": {
      "text/plain": [
       "'C:\\\\Users\\\\fralu\\\\Documents\\\\GitHub\\\\anndl\\\\image-segmentation\\\\Segmentation_Dataset\\\\training\\\\images\\\\img\\\\5068.tif'"
      ]
     },
     "execution_count": 6,
     "metadata": {},
     "output_type": "execute_result"
    },
    {
     "data": {
      "text/plain": [
       "'C:\\\\Users\\\\fralu\\\\Documents\\\\GitHub\\\\anndl\\\\image-segmentation\\\\Segmentation_Dataset\\\\training\\\\masks\\\\img\\\\5068.tif'"
      ]
     },
     "execution_count": 6,
     "metadata": {},
     "output_type": "execute_result"
    },
    {
     "data": {
      "text/plain": [
       "'C:\\\\Users\\\\fralu\\\\Documents\\\\GitHub\\\\anndl\\\\image-segmentation\\\\Segmentation_Dataset\\\\training\\\\images\\\\img\\\\5071.tif'"
      ]
     },
     "execution_count": 6,
     "metadata": {},
     "output_type": "execute_result"
    },
    {
     "data": {
      "text/plain": [
       "'C:\\\\Users\\\\fralu\\\\Documents\\\\GitHub\\\\anndl\\\\image-segmentation\\\\Segmentation_Dataset\\\\training\\\\masks\\\\img\\\\5071.tif'"
      ]
     },
     "execution_count": 6,
     "metadata": {},
     "output_type": "execute_result"
    },
    {
     "data": {
      "text/plain": [
       "'C:\\\\Users\\\\fralu\\\\Documents\\\\GitHub\\\\anndl\\\\image-segmentation\\\\Segmentation_Dataset\\\\training\\\\images\\\\img\\\\5080.tif'"
      ]
     },
     "execution_count": 6,
     "metadata": {},
     "output_type": "execute_result"
    },
    {
     "data": {
      "text/plain": [
       "'C:\\\\Users\\\\fralu\\\\Documents\\\\GitHub\\\\anndl\\\\image-segmentation\\\\Segmentation_Dataset\\\\training\\\\masks\\\\img\\\\5080.tif'"
      ]
     },
     "execution_count": 6,
     "metadata": {},
     "output_type": "execute_result"
    },
    {
     "data": {
      "text/plain": [
       "'C:\\\\Users\\\\fralu\\\\Documents\\\\GitHub\\\\anndl\\\\image-segmentation\\\\Segmentation_Dataset\\\\training\\\\images\\\\img\\\\5089.tif'"
      ]
     },
     "execution_count": 6,
     "metadata": {},
     "output_type": "execute_result"
    },
    {
     "data": {
      "text/plain": [
       "'C:\\\\Users\\\\fralu\\\\Documents\\\\GitHub\\\\anndl\\\\image-segmentation\\\\Segmentation_Dataset\\\\training\\\\masks\\\\img\\\\5089.tif'"
      ]
     },
     "execution_count": 6,
     "metadata": {},
     "output_type": "execute_result"
    },
    {
     "data": {
      "text/plain": [
       "'C:\\\\Users\\\\fralu\\\\Documents\\\\GitHub\\\\anndl\\\\image-segmentation\\\\Segmentation_Dataset\\\\training\\\\images\\\\img\\\\5090.tif'"
      ]
     },
     "execution_count": 6,
     "metadata": {},
     "output_type": "execute_result"
    },
    {
     "data": {
      "text/plain": [
       "'C:\\\\Users\\\\fralu\\\\Documents\\\\GitHub\\\\anndl\\\\image-segmentation\\\\Segmentation_Dataset\\\\training\\\\masks\\\\img\\\\5090.tif'"
      ]
     },
     "execution_count": 6,
     "metadata": {},
     "output_type": "execute_result"
    },
    {
     "data": {
      "text/plain": [
       "'C:\\\\Users\\\\fralu\\\\Documents\\\\GitHub\\\\anndl\\\\image-segmentation\\\\Segmentation_Dataset\\\\training\\\\images\\\\img\\\\5093.tif'"
      ]
     },
     "execution_count": 6,
     "metadata": {},
     "output_type": "execute_result"
    },
    {
     "data": {
      "text/plain": [
       "'C:\\\\Users\\\\fralu\\\\Documents\\\\GitHub\\\\anndl\\\\image-segmentation\\\\Segmentation_Dataset\\\\training\\\\masks\\\\img\\\\5093.tif'"
      ]
     },
     "execution_count": 6,
     "metadata": {},
     "output_type": "execute_result"
    },
    {
     "data": {
      "text/plain": [
       "'C:\\\\Users\\\\fralu\\\\Documents\\\\GitHub\\\\anndl\\\\image-segmentation\\\\Segmentation_Dataset\\\\training\\\\images\\\\img\\\\5095.tif'"
      ]
     },
     "execution_count": 6,
     "metadata": {},
     "output_type": "execute_result"
    },
    {
     "data": {
      "text/plain": [
       "'C:\\\\Users\\\\fralu\\\\Documents\\\\GitHub\\\\anndl\\\\image-segmentation\\\\Segmentation_Dataset\\\\training\\\\masks\\\\img\\\\5095.tif'"
      ]
     },
     "execution_count": 6,
     "metadata": {},
     "output_type": "execute_result"
    },
    {
     "data": {
      "text/plain": [
       "'C:\\\\Users\\\\fralu\\\\Documents\\\\GitHub\\\\anndl\\\\image-segmentation\\\\Segmentation_Dataset\\\\training\\\\images\\\\img\\\\5097.tif'"
      ]
     },
     "execution_count": 6,
     "metadata": {},
     "output_type": "execute_result"
    },
    {
     "data": {
      "text/plain": [
       "'C:\\\\Users\\\\fralu\\\\Documents\\\\GitHub\\\\anndl\\\\image-segmentation\\\\Segmentation_Dataset\\\\training\\\\masks\\\\img\\\\5097.tif'"
      ]
     },
     "execution_count": 6,
     "metadata": {},
     "output_type": "execute_result"
    },
    {
     "data": {
      "text/plain": [
       "'C:\\\\Users\\\\fralu\\\\Documents\\\\GitHub\\\\anndl\\\\image-segmentation\\\\Segmentation_Dataset\\\\training\\\\images\\\\img\\\\5106.tif'"
      ]
     },
     "execution_count": 6,
     "metadata": {},
     "output_type": "execute_result"
    },
    {
     "data": {
      "text/plain": [
       "'C:\\\\Users\\\\fralu\\\\Documents\\\\GitHub\\\\anndl\\\\image-segmentation\\\\Segmentation_Dataset\\\\training\\\\masks\\\\img\\\\5106.tif'"
      ]
     },
     "execution_count": 6,
     "metadata": {},
     "output_type": "execute_result"
    },
    {
     "data": {
      "text/plain": [
       "'C:\\\\Users\\\\fralu\\\\Documents\\\\GitHub\\\\anndl\\\\image-segmentation\\\\Segmentation_Dataset\\\\training\\\\images\\\\img\\\\5120.tif'"
      ]
     },
     "execution_count": 6,
     "metadata": {},
     "output_type": "execute_result"
    },
    {
     "data": {
      "text/plain": [
       "'C:\\\\Users\\\\fralu\\\\Documents\\\\GitHub\\\\anndl\\\\image-segmentation\\\\Segmentation_Dataset\\\\training\\\\masks\\\\img\\\\5120.tif'"
      ]
     },
     "execution_count": 6,
     "metadata": {},
     "output_type": "execute_result"
    },
    {
     "data": {
      "text/plain": [
       "'C:\\\\Users\\\\fralu\\\\Documents\\\\GitHub\\\\anndl\\\\image-segmentation\\\\Segmentation_Dataset\\\\training\\\\images\\\\img\\\\5121.tif'"
      ]
     },
     "execution_count": 6,
     "metadata": {},
     "output_type": "execute_result"
    },
    {
     "data": {
      "text/plain": [
       "'C:\\\\Users\\\\fralu\\\\Documents\\\\GitHub\\\\anndl\\\\image-segmentation\\\\Segmentation_Dataset\\\\training\\\\masks\\\\img\\\\5121.tif'"
      ]
     },
     "execution_count": 6,
     "metadata": {},
     "output_type": "execute_result"
    },
    {
     "data": {
      "text/plain": [
       "'C:\\\\Users\\\\fralu\\\\Documents\\\\GitHub\\\\anndl\\\\image-segmentation\\\\Segmentation_Dataset\\\\training\\\\images\\\\img\\\\5129.tif'"
      ]
     },
     "execution_count": 6,
     "metadata": {},
     "output_type": "execute_result"
    },
    {
     "data": {
      "text/plain": [
       "'C:\\\\Users\\\\fralu\\\\Documents\\\\GitHub\\\\anndl\\\\image-segmentation\\\\Segmentation_Dataset\\\\training\\\\masks\\\\img\\\\5129.tif'"
      ]
     },
     "execution_count": 6,
     "metadata": {},
     "output_type": "execute_result"
    },
    {
     "data": {
      "text/plain": [
       "'C:\\\\Users\\\\fralu\\\\Documents\\\\GitHub\\\\anndl\\\\image-segmentation\\\\Segmentation_Dataset\\\\training\\\\images\\\\img\\\\5136.tif'"
      ]
     },
     "execution_count": 6,
     "metadata": {},
     "output_type": "execute_result"
    },
    {
     "data": {
      "text/plain": [
       "'C:\\\\Users\\\\fralu\\\\Documents\\\\GitHub\\\\anndl\\\\image-segmentation\\\\Segmentation_Dataset\\\\training\\\\masks\\\\img\\\\5136.tif'"
      ]
     },
     "execution_count": 6,
     "metadata": {},
     "output_type": "execute_result"
    },
    {
     "data": {
      "text/plain": [
       "'C:\\\\Users\\\\fralu\\\\Documents\\\\GitHub\\\\anndl\\\\image-segmentation\\\\Segmentation_Dataset\\\\training\\\\images\\\\img\\\\5138.tif'"
      ]
     },
     "execution_count": 6,
     "metadata": {},
     "output_type": "execute_result"
    },
    {
     "data": {
      "text/plain": [
       "'C:\\\\Users\\\\fralu\\\\Documents\\\\GitHub\\\\anndl\\\\image-segmentation\\\\Segmentation_Dataset\\\\training\\\\masks\\\\img\\\\5138.tif'"
      ]
     },
     "execution_count": 6,
     "metadata": {},
     "output_type": "execute_result"
    },
    {
     "data": {
      "text/plain": [
       "'C:\\\\Users\\\\fralu\\\\Documents\\\\GitHub\\\\anndl\\\\image-segmentation\\\\Segmentation_Dataset\\\\training\\\\images\\\\img\\\\5139.tif'"
      ]
     },
     "execution_count": 6,
     "metadata": {},
     "output_type": "execute_result"
    },
    {
     "data": {
      "text/plain": [
       "'C:\\\\Users\\\\fralu\\\\Documents\\\\GitHub\\\\anndl\\\\image-segmentation\\\\Segmentation_Dataset\\\\training\\\\masks\\\\img\\\\5139.tif'"
      ]
     },
     "execution_count": 6,
     "metadata": {},
     "output_type": "execute_result"
    },
    {
     "data": {
      "text/plain": [
       "'C:\\\\Users\\\\fralu\\\\Documents\\\\GitHub\\\\anndl\\\\image-segmentation\\\\Segmentation_Dataset\\\\training\\\\images\\\\img\\\\5141.tif'"
      ]
     },
     "execution_count": 6,
     "metadata": {},
     "output_type": "execute_result"
    },
    {
     "data": {
      "text/plain": [
       "'C:\\\\Users\\\\fralu\\\\Documents\\\\GitHub\\\\anndl\\\\image-segmentation\\\\Segmentation_Dataset\\\\training\\\\masks\\\\img\\\\5141.tif'"
      ]
     },
     "execution_count": 6,
     "metadata": {},
     "output_type": "execute_result"
    },
    {
     "data": {
      "text/plain": [
       "'C:\\\\Users\\\\fralu\\\\Documents\\\\GitHub\\\\anndl\\\\image-segmentation\\\\Segmentation_Dataset\\\\training\\\\images\\\\img\\\\5145.tif'"
      ]
     },
     "execution_count": 6,
     "metadata": {},
     "output_type": "execute_result"
    },
    {
     "data": {
      "text/plain": [
       "'C:\\\\Users\\\\fralu\\\\Documents\\\\GitHub\\\\anndl\\\\image-segmentation\\\\Segmentation_Dataset\\\\training\\\\masks\\\\img\\\\5145.tif'"
      ]
     },
     "execution_count": 6,
     "metadata": {},
     "output_type": "execute_result"
    },
    {
     "data": {
      "text/plain": [
       "'C:\\\\Users\\\\fralu\\\\Documents\\\\GitHub\\\\anndl\\\\image-segmentation\\\\Segmentation_Dataset\\\\training\\\\images\\\\img\\\\5150.tif'"
      ]
     },
     "execution_count": 6,
     "metadata": {},
     "output_type": "execute_result"
    },
    {
     "data": {
      "text/plain": [
       "'C:\\\\Users\\\\fralu\\\\Documents\\\\GitHub\\\\anndl\\\\image-segmentation\\\\Segmentation_Dataset\\\\training\\\\masks\\\\img\\\\5150.tif'"
      ]
     },
     "execution_count": 6,
     "metadata": {},
     "output_type": "execute_result"
    },
    {
     "data": {
      "text/plain": [
       "'C:\\\\Users\\\\fralu\\\\Documents\\\\GitHub\\\\anndl\\\\image-segmentation\\\\Segmentation_Dataset\\\\training\\\\images\\\\img\\\\5153.tif'"
      ]
     },
     "execution_count": 6,
     "metadata": {},
     "output_type": "execute_result"
    },
    {
     "data": {
      "text/plain": [
       "'C:\\\\Users\\\\fralu\\\\Documents\\\\GitHub\\\\anndl\\\\image-segmentation\\\\Segmentation_Dataset\\\\training\\\\masks\\\\img\\\\5153.tif'"
      ]
     },
     "execution_count": 6,
     "metadata": {},
     "output_type": "execute_result"
    },
    {
     "data": {
      "text/plain": [
       "'C:\\\\Users\\\\fralu\\\\Documents\\\\GitHub\\\\anndl\\\\image-segmentation\\\\Segmentation_Dataset\\\\training\\\\images\\\\img\\\\5157.tif'"
      ]
     },
     "execution_count": 6,
     "metadata": {},
     "output_type": "execute_result"
    },
    {
     "data": {
      "text/plain": [
       "'C:\\\\Users\\\\fralu\\\\Documents\\\\GitHub\\\\anndl\\\\image-segmentation\\\\Segmentation_Dataset\\\\training\\\\masks\\\\img\\\\5157.tif'"
      ]
     },
     "execution_count": 6,
     "metadata": {},
     "output_type": "execute_result"
    },
    {
     "data": {
      "text/plain": [
       "'C:\\\\Users\\\\fralu\\\\Documents\\\\GitHub\\\\anndl\\\\image-segmentation\\\\Segmentation_Dataset\\\\training\\\\images\\\\img\\\\5165.tif'"
      ]
     },
     "execution_count": 6,
     "metadata": {},
     "output_type": "execute_result"
    },
    {
     "data": {
      "text/plain": [
       "'C:\\\\Users\\\\fralu\\\\Documents\\\\GitHub\\\\anndl\\\\image-segmentation\\\\Segmentation_Dataset\\\\training\\\\masks\\\\img\\\\5165.tif'"
      ]
     },
     "execution_count": 6,
     "metadata": {},
     "output_type": "execute_result"
    },
    {
     "data": {
      "text/plain": [
       "'C:\\\\Users\\\\fralu\\\\Documents\\\\GitHub\\\\anndl\\\\image-segmentation\\\\Segmentation_Dataset\\\\training\\\\images\\\\img\\\\5169.tif'"
      ]
     },
     "execution_count": 6,
     "metadata": {},
     "output_type": "execute_result"
    },
    {
     "data": {
      "text/plain": [
       "'C:\\\\Users\\\\fralu\\\\Documents\\\\GitHub\\\\anndl\\\\image-segmentation\\\\Segmentation_Dataset\\\\training\\\\masks\\\\img\\\\5169.tif'"
      ]
     },
     "execution_count": 6,
     "metadata": {},
     "output_type": "execute_result"
    },
    {
     "data": {
      "text/plain": [
       "'C:\\\\Users\\\\fralu\\\\Documents\\\\GitHub\\\\anndl\\\\image-segmentation\\\\Segmentation_Dataset\\\\training\\\\images\\\\img\\\\5170.tif'"
      ]
     },
     "execution_count": 6,
     "metadata": {},
     "output_type": "execute_result"
    },
    {
     "data": {
      "text/plain": [
       "'C:\\\\Users\\\\fralu\\\\Documents\\\\GitHub\\\\anndl\\\\image-segmentation\\\\Segmentation_Dataset\\\\training\\\\masks\\\\img\\\\5170.tif'"
      ]
     },
     "execution_count": 6,
     "metadata": {},
     "output_type": "execute_result"
    },
    {
     "data": {
      "text/plain": [
       "'C:\\\\Users\\\\fralu\\\\Documents\\\\GitHub\\\\anndl\\\\image-segmentation\\\\Segmentation_Dataset\\\\training\\\\images\\\\img\\\\5175.tif'"
      ]
     },
     "execution_count": 6,
     "metadata": {},
     "output_type": "execute_result"
    },
    {
     "data": {
      "text/plain": [
       "'C:\\\\Users\\\\fralu\\\\Documents\\\\GitHub\\\\anndl\\\\image-segmentation\\\\Segmentation_Dataset\\\\training\\\\masks\\\\img\\\\5175.tif'"
      ]
     },
     "execution_count": 6,
     "metadata": {},
     "output_type": "execute_result"
    },
    {
     "data": {
      "text/plain": [
       "'C:\\\\Users\\\\fralu\\\\Documents\\\\GitHub\\\\anndl\\\\image-segmentation\\\\Segmentation_Dataset\\\\training\\\\images\\\\img\\\\5198.tif'"
      ]
     },
     "execution_count": 6,
     "metadata": {},
     "output_type": "execute_result"
    },
    {
     "data": {
      "text/plain": [
       "'C:\\\\Users\\\\fralu\\\\Documents\\\\GitHub\\\\anndl\\\\image-segmentation\\\\Segmentation_Dataset\\\\training\\\\masks\\\\img\\\\5198.tif'"
      ]
     },
     "execution_count": 6,
     "metadata": {},
     "output_type": "execute_result"
    },
    {
     "data": {
      "text/plain": [
       "'C:\\\\Users\\\\fralu\\\\Documents\\\\GitHub\\\\anndl\\\\image-segmentation\\\\Segmentation_Dataset\\\\training\\\\images\\\\img\\\\5201.tif'"
      ]
     },
     "execution_count": 6,
     "metadata": {},
     "output_type": "execute_result"
    },
    {
     "data": {
      "text/plain": [
       "'C:\\\\Users\\\\fralu\\\\Documents\\\\GitHub\\\\anndl\\\\image-segmentation\\\\Segmentation_Dataset\\\\training\\\\masks\\\\img\\\\5201.tif'"
      ]
     },
     "execution_count": 6,
     "metadata": {},
     "output_type": "execute_result"
    },
    {
     "data": {
      "text/plain": [
       "'C:\\\\Users\\\\fralu\\\\Documents\\\\GitHub\\\\anndl\\\\image-segmentation\\\\Segmentation_Dataset\\\\training\\\\images\\\\img\\\\5205.tif'"
      ]
     },
     "execution_count": 6,
     "metadata": {},
     "output_type": "execute_result"
    },
    {
     "data": {
      "text/plain": [
       "'C:\\\\Users\\\\fralu\\\\Documents\\\\GitHub\\\\anndl\\\\image-segmentation\\\\Segmentation_Dataset\\\\training\\\\masks\\\\img\\\\5205.tif'"
      ]
     },
     "execution_count": 6,
     "metadata": {},
     "output_type": "execute_result"
    },
    {
     "data": {
      "text/plain": [
       "'C:\\\\Users\\\\fralu\\\\Documents\\\\GitHub\\\\anndl\\\\image-segmentation\\\\Segmentation_Dataset\\\\training\\\\images\\\\img\\\\5207.tif'"
      ]
     },
     "execution_count": 6,
     "metadata": {},
     "output_type": "execute_result"
    },
    {
     "data": {
      "text/plain": [
       "'C:\\\\Users\\\\fralu\\\\Documents\\\\GitHub\\\\anndl\\\\image-segmentation\\\\Segmentation_Dataset\\\\training\\\\masks\\\\img\\\\5207.tif'"
      ]
     },
     "execution_count": 6,
     "metadata": {},
     "output_type": "execute_result"
    },
    {
     "data": {
      "text/plain": [
       "'C:\\\\Users\\\\fralu\\\\Documents\\\\GitHub\\\\anndl\\\\image-segmentation\\\\Segmentation_Dataset\\\\training\\\\images\\\\img\\\\5213.tif'"
      ]
     },
     "execution_count": 6,
     "metadata": {},
     "output_type": "execute_result"
    },
    {
     "data": {
      "text/plain": [
       "'C:\\\\Users\\\\fralu\\\\Documents\\\\GitHub\\\\anndl\\\\image-segmentation\\\\Segmentation_Dataset\\\\training\\\\masks\\\\img\\\\5213.tif'"
      ]
     },
     "execution_count": 6,
     "metadata": {},
     "output_type": "execute_result"
    },
    {
     "data": {
      "text/plain": [
       "'C:\\\\Users\\\\fralu\\\\Documents\\\\GitHub\\\\anndl\\\\image-segmentation\\\\Segmentation_Dataset\\\\training\\\\images\\\\img\\\\5214.tif'"
      ]
     },
     "execution_count": 6,
     "metadata": {},
     "output_type": "execute_result"
    },
    {
     "data": {
      "text/plain": [
       "'C:\\\\Users\\\\fralu\\\\Documents\\\\GitHub\\\\anndl\\\\image-segmentation\\\\Segmentation_Dataset\\\\training\\\\masks\\\\img\\\\5214.tif'"
      ]
     },
     "execution_count": 6,
     "metadata": {},
     "output_type": "execute_result"
    },
    {
     "data": {
      "text/plain": [
       "'C:\\\\Users\\\\fralu\\\\Documents\\\\GitHub\\\\anndl\\\\image-segmentation\\\\Segmentation_Dataset\\\\training\\\\images\\\\img\\\\5223.tif'"
      ]
     },
     "execution_count": 6,
     "metadata": {},
     "output_type": "execute_result"
    },
    {
     "data": {
      "text/plain": [
       "'C:\\\\Users\\\\fralu\\\\Documents\\\\GitHub\\\\anndl\\\\image-segmentation\\\\Segmentation_Dataset\\\\training\\\\masks\\\\img\\\\5223.tif'"
      ]
     },
     "execution_count": 6,
     "metadata": {},
     "output_type": "execute_result"
    },
    {
     "data": {
      "text/plain": [
       "'C:\\\\Users\\\\fralu\\\\Documents\\\\GitHub\\\\anndl\\\\image-segmentation\\\\Segmentation_Dataset\\\\training\\\\images\\\\img\\\\5224.tif'"
      ]
     },
     "execution_count": 6,
     "metadata": {},
     "output_type": "execute_result"
    },
    {
     "data": {
      "text/plain": [
       "'C:\\\\Users\\\\fralu\\\\Documents\\\\GitHub\\\\anndl\\\\image-segmentation\\\\Segmentation_Dataset\\\\training\\\\masks\\\\img\\\\5224.tif'"
      ]
     },
     "execution_count": 6,
     "metadata": {},
     "output_type": "execute_result"
    },
    {
     "data": {
      "text/plain": [
       "'C:\\\\Users\\\\fralu\\\\Documents\\\\GitHub\\\\anndl\\\\image-segmentation\\\\Segmentation_Dataset\\\\training\\\\images\\\\img\\\\5225.tif'"
      ]
     },
     "execution_count": 6,
     "metadata": {},
     "output_type": "execute_result"
    },
    {
     "data": {
      "text/plain": [
       "'C:\\\\Users\\\\fralu\\\\Documents\\\\GitHub\\\\anndl\\\\image-segmentation\\\\Segmentation_Dataset\\\\training\\\\masks\\\\img\\\\5225.tif'"
      ]
     },
     "execution_count": 6,
     "metadata": {},
     "output_type": "execute_result"
    },
    {
     "data": {
      "text/plain": [
       "'C:\\\\Users\\\\fralu\\\\Documents\\\\GitHub\\\\anndl\\\\image-segmentation\\\\Segmentation_Dataset\\\\training\\\\images\\\\img\\\\5229.tif'"
      ]
     },
     "execution_count": 6,
     "metadata": {},
     "output_type": "execute_result"
    },
    {
     "data": {
      "text/plain": [
       "'C:\\\\Users\\\\fralu\\\\Documents\\\\GitHub\\\\anndl\\\\image-segmentation\\\\Segmentation_Dataset\\\\training\\\\masks\\\\img\\\\5229.tif'"
      ]
     },
     "execution_count": 6,
     "metadata": {},
     "output_type": "execute_result"
    },
    {
     "data": {
      "text/plain": [
       "'C:\\\\Users\\\\fralu\\\\Documents\\\\GitHub\\\\anndl\\\\image-segmentation\\\\Segmentation_Dataset\\\\training\\\\images\\\\img\\\\5237.tif'"
      ]
     },
     "execution_count": 6,
     "metadata": {},
     "output_type": "execute_result"
    },
    {
     "data": {
      "text/plain": [
       "'C:\\\\Users\\\\fralu\\\\Documents\\\\GitHub\\\\anndl\\\\image-segmentation\\\\Segmentation_Dataset\\\\training\\\\masks\\\\img\\\\5237.tif'"
      ]
     },
     "execution_count": 6,
     "metadata": {},
     "output_type": "execute_result"
    },
    {
     "data": {
      "text/plain": [
       "'C:\\\\Users\\\\fralu\\\\Documents\\\\GitHub\\\\anndl\\\\image-segmentation\\\\Segmentation_Dataset\\\\training\\\\images\\\\img\\\\5239.tif'"
      ]
     },
     "execution_count": 6,
     "metadata": {},
     "output_type": "execute_result"
    },
    {
     "data": {
      "text/plain": [
       "'C:\\\\Users\\\\fralu\\\\Documents\\\\GitHub\\\\anndl\\\\image-segmentation\\\\Segmentation_Dataset\\\\training\\\\masks\\\\img\\\\5239.tif'"
      ]
     },
     "execution_count": 6,
     "metadata": {},
     "output_type": "execute_result"
    },
    {
     "data": {
      "text/plain": [
       "'C:\\\\Users\\\\fralu\\\\Documents\\\\GitHub\\\\anndl\\\\image-segmentation\\\\Segmentation_Dataset\\\\training\\\\images\\\\img\\\\5242.tif'"
      ]
     },
     "execution_count": 6,
     "metadata": {},
     "output_type": "execute_result"
    },
    {
     "data": {
      "text/plain": [
       "'C:\\\\Users\\\\fralu\\\\Documents\\\\GitHub\\\\anndl\\\\image-segmentation\\\\Segmentation_Dataset\\\\training\\\\masks\\\\img\\\\5242.tif'"
      ]
     },
     "execution_count": 6,
     "metadata": {},
     "output_type": "execute_result"
    },
    {
     "data": {
      "text/plain": [
       "'C:\\\\Users\\\\fralu\\\\Documents\\\\GitHub\\\\anndl\\\\image-segmentation\\\\Segmentation_Dataset\\\\training\\\\images\\\\img\\\\5249.tif'"
      ]
     },
     "execution_count": 6,
     "metadata": {},
     "output_type": "execute_result"
    },
    {
     "data": {
      "text/plain": [
       "'C:\\\\Users\\\\fralu\\\\Documents\\\\GitHub\\\\anndl\\\\image-segmentation\\\\Segmentation_Dataset\\\\training\\\\masks\\\\img\\\\5249.tif'"
      ]
     },
     "execution_count": 6,
     "metadata": {},
     "output_type": "execute_result"
    },
    {
     "data": {
      "text/plain": [
       "'C:\\\\Users\\\\fralu\\\\Documents\\\\GitHub\\\\anndl\\\\image-segmentation\\\\Segmentation_Dataset\\\\training\\\\images\\\\img\\\\5255.tif'"
      ]
     },
     "execution_count": 6,
     "metadata": {},
     "output_type": "execute_result"
    },
    {
     "data": {
      "text/plain": [
       "'C:\\\\Users\\\\fralu\\\\Documents\\\\GitHub\\\\anndl\\\\image-segmentation\\\\Segmentation_Dataset\\\\training\\\\masks\\\\img\\\\5255.tif'"
      ]
     },
     "execution_count": 6,
     "metadata": {},
     "output_type": "execute_result"
    },
    {
     "data": {
      "text/plain": [
       "'C:\\\\Users\\\\fralu\\\\Documents\\\\GitHub\\\\anndl\\\\image-segmentation\\\\Segmentation_Dataset\\\\training\\\\images\\\\img\\\\5258.tif'"
      ]
     },
     "execution_count": 6,
     "metadata": {},
     "output_type": "execute_result"
    },
    {
     "data": {
      "text/plain": [
       "'C:\\\\Users\\\\fralu\\\\Documents\\\\GitHub\\\\anndl\\\\image-segmentation\\\\Segmentation_Dataset\\\\training\\\\masks\\\\img\\\\5258.tif'"
      ]
     },
     "execution_count": 6,
     "metadata": {},
     "output_type": "execute_result"
    },
    {
     "data": {
      "text/plain": [
       "'C:\\\\Users\\\\fralu\\\\Documents\\\\GitHub\\\\anndl\\\\image-segmentation\\\\Segmentation_Dataset\\\\training\\\\images\\\\img\\\\5260.tif'"
      ]
     },
     "execution_count": 6,
     "metadata": {},
     "output_type": "execute_result"
    },
    {
     "data": {
      "text/plain": [
       "'C:\\\\Users\\\\fralu\\\\Documents\\\\GitHub\\\\anndl\\\\image-segmentation\\\\Segmentation_Dataset\\\\training\\\\masks\\\\img\\\\5260.tif'"
      ]
     },
     "execution_count": 6,
     "metadata": {},
     "output_type": "execute_result"
    },
    {
     "data": {
      "text/plain": [
       "'C:\\\\Users\\\\fralu\\\\Documents\\\\GitHub\\\\anndl\\\\image-segmentation\\\\Segmentation_Dataset\\\\training\\\\images\\\\img\\\\53.tif'"
      ]
     },
     "execution_count": 6,
     "metadata": {},
     "output_type": "execute_result"
    },
    {
     "data": {
      "text/plain": [
       "'C:\\\\Users\\\\fralu\\\\Documents\\\\GitHub\\\\anndl\\\\image-segmentation\\\\Segmentation_Dataset\\\\training\\\\masks\\\\img\\\\53.tif'"
      ]
     },
     "execution_count": 6,
     "metadata": {},
     "output_type": "execute_result"
    },
    {
     "data": {
      "text/plain": [
       "'C:\\\\Users\\\\fralu\\\\Documents\\\\GitHub\\\\anndl\\\\image-segmentation\\\\Segmentation_Dataset\\\\training\\\\images\\\\img\\\\5302.tif'"
      ]
     },
     "execution_count": 6,
     "metadata": {},
     "output_type": "execute_result"
    },
    {
     "data": {
      "text/plain": [
       "'C:\\\\Users\\\\fralu\\\\Documents\\\\GitHub\\\\anndl\\\\image-segmentation\\\\Segmentation_Dataset\\\\training\\\\masks\\\\img\\\\5302.tif'"
      ]
     },
     "execution_count": 6,
     "metadata": {},
     "output_type": "execute_result"
    },
    {
     "data": {
      "text/plain": [
       "'C:\\\\Users\\\\fralu\\\\Documents\\\\GitHub\\\\anndl\\\\image-segmentation\\\\Segmentation_Dataset\\\\training\\\\images\\\\img\\\\5303.tif'"
      ]
     },
     "execution_count": 6,
     "metadata": {},
     "output_type": "execute_result"
    },
    {
     "data": {
      "text/plain": [
       "'C:\\\\Users\\\\fralu\\\\Documents\\\\GitHub\\\\anndl\\\\image-segmentation\\\\Segmentation_Dataset\\\\training\\\\masks\\\\img\\\\5303.tif'"
      ]
     },
     "execution_count": 6,
     "metadata": {},
     "output_type": "execute_result"
    },
    {
     "data": {
      "text/plain": [
       "'C:\\\\Users\\\\fralu\\\\Documents\\\\GitHub\\\\anndl\\\\image-segmentation\\\\Segmentation_Dataset\\\\training\\\\images\\\\img\\\\5315.tif'"
      ]
     },
     "execution_count": 6,
     "metadata": {},
     "output_type": "execute_result"
    },
    {
     "data": {
      "text/plain": [
       "'C:\\\\Users\\\\fralu\\\\Documents\\\\GitHub\\\\anndl\\\\image-segmentation\\\\Segmentation_Dataset\\\\training\\\\masks\\\\img\\\\5315.tif'"
      ]
     },
     "execution_count": 6,
     "metadata": {},
     "output_type": "execute_result"
    },
    {
     "data": {
      "text/plain": [
       "'C:\\\\Users\\\\fralu\\\\Documents\\\\GitHub\\\\anndl\\\\image-segmentation\\\\Segmentation_Dataset\\\\training\\\\images\\\\img\\\\5317.tif'"
      ]
     },
     "execution_count": 6,
     "metadata": {},
     "output_type": "execute_result"
    },
    {
     "data": {
      "text/plain": [
       "'C:\\\\Users\\\\fralu\\\\Documents\\\\GitHub\\\\anndl\\\\image-segmentation\\\\Segmentation_Dataset\\\\training\\\\masks\\\\img\\\\5317.tif'"
      ]
     },
     "execution_count": 6,
     "metadata": {},
     "output_type": "execute_result"
    },
    {
     "data": {
      "text/plain": [
       "'C:\\\\Users\\\\fralu\\\\Documents\\\\GitHub\\\\anndl\\\\image-segmentation\\\\Segmentation_Dataset\\\\training\\\\images\\\\img\\\\5321.tif'"
      ]
     },
     "execution_count": 6,
     "metadata": {},
     "output_type": "execute_result"
    },
    {
     "data": {
      "text/plain": [
       "'C:\\\\Users\\\\fralu\\\\Documents\\\\GitHub\\\\anndl\\\\image-segmentation\\\\Segmentation_Dataset\\\\training\\\\masks\\\\img\\\\5321.tif'"
      ]
     },
     "execution_count": 6,
     "metadata": {},
     "output_type": "execute_result"
    },
    {
     "data": {
      "text/plain": [
       "'C:\\\\Users\\\\fralu\\\\Documents\\\\GitHub\\\\anndl\\\\image-segmentation\\\\Segmentation_Dataset\\\\training\\\\images\\\\img\\\\5325.tif'"
      ]
     },
     "execution_count": 6,
     "metadata": {},
     "output_type": "execute_result"
    },
    {
     "data": {
      "text/plain": [
       "'C:\\\\Users\\\\fralu\\\\Documents\\\\GitHub\\\\anndl\\\\image-segmentation\\\\Segmentation_Dataset\\\\training\\\\masks\\\\img\\\\5325.tif'"
      ]
     },
     "execution_count": 6,
     "metadata": {},
     "output_type": "execute_result"
    },
    {
     "data": {
      "text/plain": [
       "'C:\\\\Users\\\\fralu\\\\Documents\\\\GitHub\\\\anndl\\\\image-segmentation\\\\Segmentation_Dataset\\\\training\\\\images\\\\img\\\\5332.tif'"
      ]
     },
     "execution_count": 6,
     "metadata": {},
     "output_type": "execute_result"
    },
    {
     "data": {
      "text/plain": [
       "'C:\\\\Users\\\\fralu\\\\Documents\\\\GitHub\\\\anndl\\\\image-segmentation\\\\Segmentation_Dataset\\\\training\\\\masks\\\\img\\\\5332.tif'"
      ]
     },
     "execution_count": 6,
     "metadata": {},
     "output_type": "execute_result"
    },
    {
     "data": {
      "text/plain": [
       "'C:\\\\Users\\\\fralu\\\\Documents\\\\GitHub\\\\anndl\\\\image-segmentation\\\\Segmentation_Dataset\\\\training\\\\images\\\\img\\\\5334.tif'"
      ]
     },
     "execution_count": 6,
     "metadata": {},
     "output_type": "execute_result"
    },
    {
     "data": {
      "text/plain": [
       "'C:\\\\Users\\\\fralu\\\\Documents\\\\GitHub\\\\anndl\\\\image-segmentation\\\\Segmentation_Dataset\\\\training\\\\masks\\\\img\\\\5334.tif'"
      ]
     },
     "execution_count": 6,
     "metadata": {},
     "output_type": "execute_result"
    },
    {
     "data": {
      "text/plain": [
       "'C:\\\\Users\\\\fralu\\\\Documents\\\\GitHub\\\\anndl\\\\image-segmentation\\\\Segmentation_Dataset\\\\training\\\\images\\\\img\\\\5335.tif'"
      ]
     },
     "execution_count": 6,
     "metadata": {},
     "output_type": "execute_result"
    },
    {
     "data": {
      "text/plain": [
       "'C:\\\\Users\\\\fralu\\\\Documents\\\\GitHub\\\\anndl\\\\image-segmentation\\\\Segmentation_Dataset\\\\training\\\\masks\\\\img\\\\5335.tif'"
      ]
     },
     "execution_count": 6,
     "metadata": {},
     "output_type": "execute_result"
    },
    {
     "data": {
      "text/plain": [
       "'C:\\\\Users\\\\fralu\\\\Documents\\\\GitHub\\\\anndl\\\\image-segmentation\\\\Segmentation_Dataset\\\\training\\\\images\\\\img\\\\5339.tif'"
      ]
     },
     "execution_count": 6,
     "metadata": {},
     "output_type": "execute_result"
    },
    {
     "data": {
      "text/plain": [
       "'C:\\\\Users\\\\fralu\\\\Documents\\\\GitHub\\\\anndl\\\\image-segmentation\\\\Segmentation_Dataset\\\\training\\\\masks\\\\img\\\\5339.tif'"
      ]
     },
     "execution_count": 6,
     "metadata": {},
     "output_type": "execute_result"
    },
    {
     "data": {
      "text/plain": [
       "'C:\\\\Users\\\\fralu\\\\Documents\\\\GitHub\\\\anndl\\\\image-segmentation\\\\Segmentation_Dataset\\\\training\\\\images\\\\img\\\\5346.tif'"
      ]
     },
     "execution_count": 6,
     "metadata": {},
     "output_type": "execute_result"
    },
    {
     "data": {
      "text/plain": [
       "'C:\\\\Users\\\\fralu\\\\Documents\\\\GitHub\\\\anndl\\\\image-segmentation\\\\Segmentation_Dataset\\\\training\\\\masks\\\\img\\\\5346.tif'"
      ]
     },
     "execution_count": 6,
     "metadata": {},
     "output_type": "execute_result"
    },
    {
     "data": {
      "text/plain": [
       "'C:\\\\Users\\\\fralu\\\\Documents\\\\GitHub\\\\anndl\\\\image-segmentation\\\\Segmentation_Dataset\\\\training\\\\images\\\\img\\\\5351.tif'"
      ]
     },
     "execution_count": 6,
     "metadata": {},
     "output_type": "execute_result"
    },
    {
     "data": {
      "text/plain": [
       "'C:\\\\Users\\\\fralu\\\\Documents\\\\GitHub\\\\anndl\\\\image-segmentation\\\\Segmentation_Dataset\\\\training\\\\masks\\\\img\\\\5351.tif'"
      ]
     },
     "execution_count": 6,
     "metadata": {},
     "output_type": "execute_result"
    },
    {
     "data": {
      "text/plain": [
       "'C:\\\\Users\\\\fralu\\\\Documents\\\\GitHub\\\\anndl\\\\image-segmentation\\\\Segmentation_Dataset\\\\training\\\\images\\\\img\\\\5355.tif'"
      ]
     },
     "execution_count": 6,
     "metadata": {},
     "output_type": "execute_result"
    },
    {
     "data": {
      "text/plain": [
       "'C:\\\\Users\\\\fralu\\\\Documents\\\\GitHub\\\\anndl\\\\image-segmentation\\\\Segmentation_Dataset\\\\training\\\\masks\\\\img\\\\5355.tif'"
      ]
     },
     "execution_count": 6,
     "metadata": {},
     "output_type": "execute_result"
    },
    {
     "data": {
      "text/plain": [
       "'C:\\\\Users\\\\fralu\\\\Documents\\\\GitHub\\\\anndl\\\\image-segmentation\\\\Segmentation_Dataset\\\\training\\\\images\\\\img\\\\5357.tif'"
      ]
     },
     "execution_count": 6,
     "metadata": {},
     "output_type": "execute_result"
    },
    {
     "data": {
      "text/plain": [
       "'C:\\\\Users\\\\fralu\\\\Documents\\\\GitHub\\\\anndl\\\\image-segmentation\\\\Segmentation_Dataset\\\\training\\\\masks\\\\img\\\\5357.tif'"
      ]
     },
     "execution_count": 6,
     "metadata": {},
     "output_type": "execute_result"
    },
    {
     "data": {
      "text/plain": [
       "'C:\\\\Users\\\\fralu\\\\Documents\\\\GitHub\\\\anndl\\\\image-segmentation\\\\Segmentation_Dataset\\\\training\\\\images\\\\img\\\\5358.tif'"
      ]
     },
     "execution_count": 6,
     "metadata": {},
     "output_type": "execute_result"
    },
    {
     "data": {
      "text/plain": [
       "'C:\\\\Users\\\\fralu\\\\Documents\\\\GitHub\\\\anndl\\\\image-segmentation\\\\Segmentation_Dataset\\\\training\\\\masks\\\\img\\\\5358.tif'"
      ]
     },
     "execution_count": 6,
     "metadata": {},
     "output_type": "execute_result"
    },
    {
     "data": {
      "text/plain": [
       "'C:\\\\Users\\\\fralu\\\\Documents\\\\GitHub\\\\anndl\\\\image-segmentation\\\\Segmentation_Dataset\\\\training\\\\images\\\\img\\\\5360.tif'"
      ]
     },
     "execution_count": 6,
     "metadata": {},
     "output_type": "execute_result"
    },
    {
     "data": {
      "text/plain": [
       "'C:\\\\Users\\\\fralu\\\\Documents\\\\GitHub\\\\anndl\\\\image-segmentation\\\\Segmentation_Dataset\\\\training\\\\masks\\\\img\\\\5360.tif'"
      ]
     },
     "execution_count": 6,
     "metadata": {},
     "output_type": "execute_result"
    },
    {
     "data": {
      "text/plain": [
       "'C:\\\\Users\\\\fralu\\\\Documents\\\\GitHub\\\\anndl\\\\image-segmentation\\\\Segmentation_Dataset\\\\training\\\\images\\\\img\\\\5367.tif'"
      ]
     },
     "execution_count": 6,
     "metadata": {},
     "output_type": "execute_result"
    },
    {
     "data": {
      "text/plain": [
       "'C:\\\\Users\\\\fralu\\\\Documents\\\\GitHub\\\\anndl\\\\image-segmentation\\\\Segmentation_Dataset\\\\training\\\\masks\\\\img\\\\5367.tif'"
      ]
     },
     "execution_count": 6,
     "metadata": {},
     "output_type": "execute_result"
    },
    {
     "data": {
      "text/plain": [
       "'C:\\\\Users\\\\fralu\\\\Documents\\\\GitHub\\\\anndl\\\\image-segmentation\\\\Segmentation_Dataset\\\\training\\\\images\\\\img\\\\5370.tif'"
      ]
     },
     "execution_count": 6,
     "metadata": {},
     "output_type": "execute_result"
    },
    {
     "data": {
      "text/plain": [
       "'C:\\\\Users\\\\fralu\\\\Documents\\\\GitHub\\\\anndl\\\\image-segmentation\\\\Segmentation_Dataset\\\\training\\\\masks\\\\img\\\\5370.tif'"
      ]
     },
     "execution_count": 6,
     "metadata": {},
     "output_type": "execute_result"
    },
    {
     "data": {
      "text/plain": [
       "'C:\\\\Users\\\\fralu\\\\Documents\\\\GitHub\\\\anndl\\\\image-segmentation\\\\Segmentation_Dataset\\\\training\\\\images\\\\img\\\\5374.tif'"
      ]
     },
     "execution_count": 6,
     "metadata": {},
     "output_type": "execute_result"
    },
    {
     "data": {
      "text/plain": [
       "'C:\\\\Users\\\\fralu\\\\Documents\\\\GitHub\\\\anndl\\\\image-segmentation\\\\Segmentation_Dataset\\\\training\\\\masks\\\\img\\\\5374.tif'"
      ]
     },
     "execution_count": 6,
     "metadata": {},
     "output_type": "execute_result"
    },
    {
     "data": {
      "text/plain": [
       "'C:\\\\Users\\\\fralu\\\\Documents\\\\GitHub\\\\anndl\\\\image-segmentation\\\\Segmentation_Dataset\\\\training\\\\images\\\\img\\\\5378.tif'"
      ]
     },
     "execution_count": 6,
     "metadata": {},
     "output_type": "execute_result"
    },
    {
     "data": {
      "text/plain": [
       "'C:\\\\Users\\\\fralu\\\\Documents\\\\GitHub\\\\anndl\\\\image-segmentation\\\\Segmentation_Dataset\\\\training\\\\masks\\\\img\\\\5378.tif'"
      ]
     },
     "execution_count": 6,
     "metadata": {},
     "output_type": "execute_result"
    },
    {
     "data": {
      "text/plain": [
       "'C:\\\\Users\\\\fralu\\\\Documents\\\\GitHub\\\\anndl\\\\image-segmentation\\\\Segmentation_Dataset\\\\training\\\\images\\\\img\\\\5388.tif'"
      ]
     },
     "execution_count": 6,
     "metadata": {},
     "output_type": "execute_result"
    },
    {
     "data": {
      "text/plain": [
       "'C:\\\\Users\\\\fralu\\\\Documents\\\\GitHub\\\\anndl\\\\image-segmentation\\\\Segmentation_Dataset\\\\training\\\\masks\\\\img\\\\5388.tif'"
      ]
     },
     "execution_count": 6,
     "metadata": {},
     "output_type": "execute_result"
    },
    {
     "data": {
      "text/plain": [
       "'C:\\\\Users\\\\fralu\\\\Documents\\\\GitHub\\\\anndl\\\\image-segmentation\\\\Segmentation_Dataset\\\\training\\\\images\\\\img\\\\5389.tif'"
      ]
     },
     "execution_count": 6,
     "metadata": {},
     "output_type": "execute_result"
    },
    {
     "data": {
      "text/plain": [
       "'C:\\\\Users\\\\fralu\\\\Documents\\\\GitHub\\\\anndl\\\\image-segmentation\\\\Segmentation_Dataset\\\\training\\\\masks\\\\img\\\\5389.tif'"
      ]
     },
     "execution_count": 6,
     "metadata": {},
     "output_type": "execute_result"
    },
    {
     "data": {
      "text/plain": [
       "'C:\\\\Users\\\\fralu\\\\Documents\\\\GitHub\\\\anndl\\\\image-segmentation\\\\Segmentation_Dataset\\\\training\\\\images\\\\img\\\\5390.tif'"
      ]
     },
     "execution_count": 6,
     "metadata": {},
     "output_type": "execute_result"
    },
    {
     "data": {
      "text/plain": [
       "'C:\\\\Users\\\\fralu\\\\Documents\\\\GitHub\\\\anndl\\\\image-segmentation\\\\Segmentation_Dataset\\\\training\\\\masks\\\\img\\\\5390.tif'"
      ]
     },
     "execution_count": 6,
     "metadata": {},
     "output_type": "execute_result"
    },
    {
     "data": {
      "text/plain": [
       "'C:\\\\Users\\\\fralu\\\\Documents\\\\GitHub\\\\anndl\\\\image-segmentation\\\\Segmentation_Dataset\\\\training\\\\images\\\\img\\\\5394.tif'"
      ]
     },
     "execution_count": 6,
     "metadata": {},
     "output_type": "execute_result"
    },
    {
     "data": {
      "text/plain": [
       "'C:\\\\Users\\\\fralu\\\\Documents\\\\GitHub\\\\anndl\\\\image-segmentation\\\\Segmentation_Dataset\\\\training\\\\masks\\\\img\\\\5394.tif'"
      ]
     },
     "execution_count": 6,
     "metadata": {},
     "output_type": "execute_result"
    },
    {
     "data": {
      "text/plain": [
       "'C:\\\\Users\\\\fralu\\\\Documents\\\\GitHub\\\\anndl\\\\image-segmentation\\\\Segmentation_Dataset\\\\training\\\\images\\\\img\\\\5401.tif'"
      ]
     },
     "execution_count": 6,
     "metadata": {},
     "output_type": "execute_result"
    },
    {
     "data": {
      "text/plain": [
       "'C:\\\\Users\\\\fralu\\\\Documents\\\\GitHub\\\\anndl\\\\image-segmentation\\\\Segmentation_Dataset\\\\training\\\\masks\\\\img\\\\5401.tif'"
      ]
     },
     "execution_count": 6,
     "metadata": {},
     "output_type": "execute_result"
    },
    {
     "data": {
      "text/plain": [
       "'C:\\\\Users\\\\fralu\\\\Documents\\\\GitHub\\\\anndl\\\\image-segmentation\\\\Segmentation_Dataset\\\\training\\\\images\\\\img\\\\5404.tif'"
      ]
     },
     "execution_count": 6,
     "metadata": {},
     "output_type": "execute_result"
    },
    {
     "data": {
      "text/plain": [
       "'C:\\\\Users\\\\fralu\\\\Documents\\\\GitHub\\\\anndl\\\\image-segmentation\\\\Segmentation_Dataset\\\\training\\\\masks\\\\img\\\\5404.tif'"
      ]
     },
     "execution_count": 6,
     "metadata": {},
     "output_type": "execute_result"
    },
    {
     "data": {
      "text/plain": [
       "'C:\\\\Users\\\\fralu\\\\Documents\\\\GitHub\\\\anndl\\\\image-segmentation\\\\Segmentation_Dataset\\\\training\\\\images\\\\img\\\\5411.tif'"
      ]
     },
     "execution_count": 6,
     "metadata": {},
     "output_type": "execute_result"
    },
    {
     "data": {
      "text/plain": [
       "'C:\\\\Users\\\\fralu\\\\Documents\\\\GitHub\\\\anndl\\\\image-segmentation\\\\Segmentation_Dataset\\\\training\\\\masks\\\\img\\\\5411.tif'"
      ]
     },
     "execution_count": 6,
     "metadata": {},
     "output_type": "execute_result"
    },
    {
     "data": {
      "text/plain": [
       "'C:\\\\Users\\\\fralu\\\\Documents\\\\GitHub\\\\anndl\\\\image-segmentation\\\\Segmentation_Dataset\\\\training\\\\images\\\\img\\\\5414.tif'"
      ]
     },
     "execution_count": 6,
     "metadata": {},
     "output_type": "execute_result"
    },
    {
     "data": {
      "text/plain": [
       "'C:\\\\Users\\\\fralu\\\\Documents\\\\GitHub\\\\anndl\\\\image-segmentation\\\\Segmentation_Dataset\\\\training\\\\masks\\\\img\\\\5414.tif'"
      ]
     },
     "execution_count": 6,
     "metadata": {},
     "output_type": "execute_result"
    },
    {
     "data": {
      "text/plain": [
       "'C:\\\\Users\\\\fralu\\\\Documents\\\\GitHub\\\\anndl\\\\image-segmentation\\\\Segmentation_Dataset\\\\training\\\\images\\\\img\\\\5421.tif'"
      ]
     },
     "execution_count": 6,
     "metadata": {},
     "output_type": "execute_result"
    },
    {
     "data": {
      "text/plain": [
       "'C:\\\\Users\\\\fralu\\\\Documents\\\\GitHub\\\\anndl\\\\image-segmentation\\\\Segmentation_Dataset\\\\training\\\\masks\\\\img\\\\5421.tif'"
      ]
     },
     "execution_count": 6,
     "metadata": {},
     "output_type": "execute_result"
    },
    {
     "data": {
      "text/plain": [
       "'C:\\\\Users\\\\fralu\\\\Documents\\\\GitHub\\\\anndl\\\\image-segmentation\\\\Segmentation_Dataset\\\\training\\\\images\\\\img\\\\5424.tif'"
      ]
     },
     "execution_count": 6,
     "metadata": {},
     "output_type": "execute_result"
    },
    {
     "data": {
      "text/plain": [
       "'C:\\\\Users\\\\fralu\\\\Documents\\\\GitHub\\\\anndl\\\\image-segmentation\\\\Segmentation_Dataset\\\\training\\\\masks\\\\img\\\\5424.tif'"
      ]
     },
     "execution_count": 6,
     "metadata": {},
     "output_type": "execute_result"
    },
    {
     "data": {
      "text/plain": [
       "'C:\\\\Users\\\\fralu\\\\Documents\\\\GitHub\\\\anndl\\\\image-segmentation\\\\Segmentation_Dataset\\\\training\\\\images\\\\img\\\\5428.tif'"
      ]
     },
     "execution_count": 6,
     "metadata": {},
     "output_type": "execute_result"
    },
    {
     "data": {
      "text/plain": [
       "'C:\\\\Users\\\\fralu\\\\Documents\\\\GitHub\\\\anndl\\\\image-segmentation\\\\Segmentation_Dataset\\\\training\\\\masks\\\\img\\\\5428.tif'"
      ]
     },
     "execution_count": 6,
     "metadata": {},
     "output_type": "execute_result"
    },
    {
     "data": {
      "text/plain": [
       "'C:\\\\Users\\\\fralu\\\\Documents\\\\GitHub\\\\anndl\\\\image-segmentation\\\\Segmentation_Dataset\\\\training\\\\images\\\\img\\\\5432.tif'"
      ]
     },
     "execution_count": 6,
     "metadata": {},
     "output_type": "execute_result"
    },
    {
     "data": {
      "text/plain": [
       "'C:\\\\Users\\\\fralu\\\\Documents\\\\GitHub\\\\anndl\\\\image-segmentation\\\\Segmentation_Dataset\\\\training\\\\masks\\\\img\\\\5432.tif'"
      ]
     },
     "execution_count": 6,
     "metadata": {},
     "output_type": "execute_result"
    },
    {
     "data": {
      "text/plain": [
       "'C:\\\\Users\\\\fralu\\\\Documents\\\\GitHub\\\\anndl\\\\image-segmentation\\\\Segmentation_Dataset\\\\training\\\\images\\\\img\\\\5433.tif'"
      ]
     },
     "execution_count": 6,
     "metadata": {},
     "output_type": "execute_result"
    },
    {
     "data": {
      "text/plain": [
       "'C:\\\\Users\\\\fralu\\\\Documents\\\\GitHub\\\\anndl\\\\image-segmentation\\\\Segmentation_Dataset\\\\training\\\\masks\\\\img\\\\5433.tif'"
      ]
     },
     "execution_count": 6,
     "metadata": {},
     "output_type": "execute_result"
    },
    {
     "data": {
      "text/plain": [
       "'C:\\\\Users\\\\fralu\\\\Documents\\\\GitHub\\\\anndl\\\\image-segmentation\\\\Segmentation_Dataset\\\\training\\\\images\\\\img\\\\5450.tif'"
      ]
     },
     "execution_count": 6,
     "metadata": {},
     "output_type": "execute_result"
    },
    {
     "data": {
      "text/plain": [
       "'C:\\\\Users\\\\fralu\\\\Documents\\\\GitHub\\\\anndl\\\\image-segmentation\\\\Segmentation_Dataset\\\\training\\\\masks\\\\img\\\\5450.tif'"
      ]
     },
     "execution_count": 6,
     "metadata": {},
     "output_type": "execute_result"
    },
    {
     "data": {
      "text/plain": [
       "'C:\\\\Users\\\\fralu\\\\Documents\\\\GitHub\\\\anndl\\\\image-segmentation\\\\Segmentation_Dataset\\\\training\\\\images\\\\img\\\\5458.tif'"
      ]
     },
     "execution_count": 6,
     "metadata": {},
     "output_type": "execute_result"
    },
    {
     "data": {
      "text/plain": [
       "'C:\\\\Users\\\\fralu\\\\Documents\\\\GitHub\\\\anndl\\\\image-segmentation\\\\Segmentation_Dataset\\\\training\\\\masks\\\\img\\\\5458.tif'"
      ]
     },
     "execution_count": 6,
     "metadata": {},
     "output_type": "execute_result"
    },
    {
     "data": {
      "text/plain": [
       "'C:\\\\Users\\\\fralu\\\\Documents\\\\GitHub\\\\anndl\\\\image-segmentation\\\\Segmentation_Dataset\\\\training\\\\images\\\\img\\\\5464.tif'"
      ]
     },
     "execution_count": 6,
     "metadata": {},
     "output_type": "execute_result"
    },
    {
     "data": {
      "text/plain": [
       "'C:\\\\Users\\\\fralu\\\\Documents\\\\GitHub\\\\anndl\\\\image-segmentation\\\\Segmentation_Dataset\\\\training\\\\masks\\\\img\\\\5464.tif'"
      ]
     },
     "execution_count": 6,
     "metadata": {},
     "output_type": "execute_result"
    },
    {
     "data": {
      "text/plain": [
       "'C:\\\\Users\\\\fralu\\\\Documents\\\\GitHub\\\\anndl\\\\image-segmentation\\\\Segmentation_Dataset\\\\training\\\\images\\\\img\\\\5468.tif'"
      ]
     },
     "execution_count": 6,
     "metadata": {},
     "output_type": "execute_result"
    },
    {
     "data": {
      "text/plain": [
       "'C:\\\\Users\\\\fralu\\\\Documents\\\\GitHub\\\\anndl\\\\image-segmentation\\\\Segmentation_Dataset\\\\training\\\\masks\\\\img\\\\5468.tif'"
      ]
     },
     "execution_count": 6,
     "metadata": {},
     "output_type": "execute_result"
    },
    {
     "data": {
      "text/plain": [
       "'C:\\\\Users\\\\fralu\\\\Documents\\\\GitHub\\\\anndl\\\\image-segmentation\\\\Segmentation_Dataset\\\\training\\\\images\\\\img\\\\5474.tif'"
      ]
     },
     "execution_count": 6,
     "metadata": {},
     "output_type": "execute_result"
    },
    {
     "data": {
      "text/plain": [
       "'C:\\\\Users\\\\fralu\\\\Documents\\\\GitHub\\\\anndl\\\\image-segmentation\\\\Segmentation_Dataset\\\\training\\\\masks\\\\img\\\\5474.tif'"
      ]
     },
     "execution_count": 6,
     "metadata": {},
     "output_type": "execute_result"
    },
    {
     "data": {
      "text/plain": [
       "'C:\\\\Users\\\\fralu\\\\Documents\\\\GitHub\\\\anndl\\\\image-segmentation\\\\Segmentation_Dataset\\\\training\\\\images\\\\img\\\\548.tif'"
      ]
     },
     "execution_count": 6,
     "metadata": {},
     "output_type": "execute_result"
    },
    {
     "data": {
      "text/plain": [
       "'C:\\\\Users\\\\fralu\\\\Documents\\\\GitHub\\\\anndl\\\\image-segmentation\\\\Segmentation_Dataset\\\\training\\\\masks\\\\img\\\\548.tif'"
      ]
     },
     "execution_count": 6,
     "metadata": {},
     "output_type": "execute_result"
    },
    {
     "data": {
      "text/plain": [
       "'C:\\\\Users\\\\fralu\\\\Documents\\\\GitHub\\\\anndl\\\\image-segmentation\\\\Segmentation_Dataset\\\\training\\\\images\\\\img\\\\5482.tif'"
      ]
     },
     "execution_count": 6,
     "metadata": {},
     "output_type": "execute_result"
    },
    {
     "data": {
      "text/plain": [
       "'C:\\\\Users\\\\fralu\\\\Documents\\\\GitHub\\\\anndl\\\\image-segmentation\\\\Segmentation_Dataset\\\\training\\\\masks\\\\img\\\\5482.tif'"
      ]
     },
     "execution_count": 6,
     "metadata": {},
     "output_type": "execute_result"
    },
    {
     "data": {
      "text/plain": [
       "'C:\\\\Users\\\\fralu\\\\Documents\\\\GitHub\\\\anndl\\\\image-segmentation\\\\Segmentation_Dataset\\\\training\\\\images\\\\img\\\\5489.tif'"
      ]
     },
     "execution_count": 6,
     "metadata": {},
     "output_type": "execute_result"
    },
    {
     "data": {
      "text/plain": [
       "'C:\\\\Users\\\\fralu\\\\Documents\\\\GitHub\\\\anndl\\\\image-segmentation\\\\Segmentation_Dataset\\\\training\\\\masks\\\\img\\\\5489.tif'"
      ]
     },
     "execution_count": 6,
     "metadata": {},
     "output_type": "execute_result"
    },
    {
     "data": {
      "text/plain": [
       "'C:\\\\Users\\\\fralu\\\\Documents\\\\GitHub\\\\anndl\\\\image-segmentation\\\\Segmentation_Dataset\\\\training\\\\images\\\\img\\\\551.tif'"
      ]
     },
     "execution_count": 6,
     "metadata": {},
     "output_type": "execute_result"
    },
    {
     "data": {
      "text/plain": [
       "'C:\\\\Users\\\\fralu\\\\Documents\\\\GitHub\\\\anndl\\\\image-segmentation\\\\Segmentation_Dataset\\\\training\\\\masks\\\\img\\\\551.tif'"
      ]
     },
     "execution_count": 6,
     "metadata": {},
     "output_type": "execute_result"
    },
    {
     "data": {
      "text/plain": [
       "'C:\\\\Users\\\\fralu\\\\Documents\\\\GitHub\\\\anndl\\\\image-segmentation\\\\Segmentation_Dataset\\\\training\\\\images\\\\img\\\\5514.tif'"
      ]
     },
     "execution_count": 6,
     "metadata": {},
     "output_type": "execute_result"
    },
    {
     "data": {
      "text/plain": [
       "'C:\\\\Users\\\\fralu\\\\Documents\\\\GitHub\\\\anndl\\\\image-segmentation\\\\Segmentation_Dataset\\\\training\\\\masks\\\\img\\\\5514.tif'"
      ]
     },
     "execution_count": 6,
     "metadata": {},
     "output_type": "execute_result"
    },
    {
     "data": {
      "text/plain": [
       "'C:\\\\Users\\\\fralu\\\\Documents\\\\GitHub\\\\anndl\\\\image-segmentation\\\\Segmentation_Dataset\\\\training\\\\images\\\\img\\\\5543.tif'"
      ]
     },
     "execution_count": 6,
     "metadata": {},
     "output_type": "execute_result"
    },
    {
     "data": {
      "text/plain": [
       "'C:\\\\Users\\\\fralu\\\\Documents\\\\GitHub\\\\anndl\\\\image-segmentation\\\\Segmentation_Dataset\\\\training\\\\masks\\\\img\\\\5543.tif'"
      ]
     },
     "execution_count": 6,
     "metadata": {},
     "output_type": "execute_result"
    },
    {
     "data": {
      "text/plain": [
       "'C:\\\\Users\\\\fralu\\\\Documents\\\\GitHub\\\\anndl\\\\image-segmentation\\\\Segmentation_Dataset\\\\training\\\\images\\\\img\\\\5546.tif'"
      ]
     },
     "execution_count": 6,
     "metadata": {},
     "output_type": "execute_result"
    },
    {
     "data": {
      "text/plain": [
       "'C:\\\\Users\\\\fralu\\\\Documents\\\\GitHub\\\\anndl\\\\image-segmentation\\\\Segmentation_Dataset\\\\training\\\\masks\\\\img\\\\5546.tif'"
      ]
     },
     "execution_count": 6,
     "metadata": {},
     "output_type": "execute_result"
    },
    {
     "data": {
      "text/plain": [
       "'C:\\\\Users\\\\fralu\\\\Documents\\\\GitHub\\\\anndl\\\\image-segmentation\\\\Segmentation_Dataset\\\\training\\\\images\\\\img\\\\5548.tif'"
      ]
     },
     "execution_count": 6,
     "metadata": {},
     "output_type": "execute_result"
    },
    {
     "data": {
      "text/plain": [
       "'C:\\\\Users\\\\fralu\\\\Documents\\\\GitHub\\\\anndl\\\\image-segmentation\\\\Segmentation_Dataset\\\\training\\\\masks\\\\img\\\\5548.tif'"
      ]
     },
     "execution_count": 6,
     "metadata": {},
     "output_type": "execute_result"
    },
    {
     "data": {
      "text/plain": [
       "'C:\\\\Users\\\\fralu\\\\Documents\\\\GitHub\\\\anndl\\\\image-segmentation\\\\Segmentation_Dataset\\\\training\\\\images\\\\img\\\\5551.tif'"
      ]
     },
     "execution_count": 6,
     "metadata": {},
     "output_type": "execute_result"
    },
    {
     "data": {
      "text/plain": [
       "'C:\\\\Users\\\\fralu\\\\Documents\\\\GitHub\\\\anndl\\\\image-segmentation\\\\Segmentation_Dataset\\\\training\\\\masks\\\\img\\\\5551.tif'"
      ]
     },
     "execution_count": 6,
     "metadata": {},
     "output_type": "execute_result"
    },
    {
     "data": {
      "text/plain": [
       "'C:\\\\Users\\\\fralu\\\\Documents\\\\GitHub\\\\anndl\\\\image-segmentation\\\\Segmentation_Dataset\\\\training\\\\images\\\\img\\\\5563.tif'"
      ]
     },
     "execution_count": 6,
     "metadata": {},
     "output_type": "execute_result"
    },
    {
     "data": {
      "text/plain": [
       "'C:\\\\Users\\\\fralu\\\\Documents\\\\GitHub\\\\anndl\\\\image-segmentation\\\\Segmentation_Dataset\\\\training\\\\masks\\\\img\\\\5563.tif'"
      ]
     },
     "execution_count": 6,
     "metadata": {},
     "output_type": "execute_result"
    },
    {
     "data": {
      "text/plain": [
       "'C:\\\\Users\\\\fralu\\\\Documents\\\\GitHub\\\\anndl\\\\image-segmentation\\\\Segmentation_Dataset\\\\training\\\\images\\\\img\\\\5564.tif'"
      ]
     },
     "execution_count": 6,
     "metadata": {},
     "output_type": "execute_result"
    },
    {
     "data": {
      "text/plain": [
       "'C:\\\\Users\\\\fralu\\\\Documents\\\\GitHub\\\\anndl\\\\image-segmentation\\\\Segmentation_Dataset\\\\training\\\\masks\\\\img\\\\5564.tif'"
      ]
     },
     "execution_count": 6,
     "metadata": {},
     "output_type": "execute_result"
    },
    {
     "data": {
      "text/plain": [
       "'C:\\\\Users\\\\fralu\\\\Documents\\\\GitHub\\\\anndl\\\\image-segmentation\\\\Segmentation_Dataset\\\\training\\\\images\\\\img\\\\5565.tif'"
      ]
     },
     "execution_count": 6,
     "metadata": {},
     "output_type": "execute_result"
    },
    {
     "data": {
      "text/plain": [
       "'C:\\\\Users\\\\fralu\\\\Documents\\\\GitHub\\\\anndl\\\\image-segmentation\\\\Segmentation_Dataset\\\\training\\\\masks\\\\img\\\\5565.tif'"
      ]
     },
     "execution_count": 6,
     "metadata": {},
     "output_type": "execute_result"
    },
    {
     "data": {
      "text/plain": [
       "'C:\\\\Users\\\\fralu\\\\Documents\\\\GitHub\\\\anndl\\\\image-segmentation\\\\Segmentation_Dataset\\\\training\\\\images\\\\img\\\\5568.tif'"
      ]
     },
     "execution_count": 6,
     "metadata": {},
     "output_type": "execute_result"
    },
    {
     "data": {
      "text/plain": [
       "'C:\\\\Users\\\\fralu\\\\Documents\\\\GitHub\\\\anndl\\\\image-segmentation\\\\Segmentation_Dataset\\\\training\\\\masks\\\\img\\\\5568.tif'"
      ]
     },
     "execution_count": 6,
     "metadata": {},
     "output_type": "execute_result"
    },
    {
     "data": {
      "text/plain": [
       "'C:\\\\Users\\\\fralu\\\\Documents\\\\GitHub\\\\anndl\\\\image-segmentation\\\\Segmentation_Dataset\\\\training\\\\images\\\\img\\\\5575.tif'"
      ]
     },
     "execution_count": 6,
     "metadata": {},
     "output_type": "execute_result"
    },
    {
     "data": {
      "text/plain": [
       "'C:\\\\Users\\\\fralu\\\\Documents\\\\GitHub\\\\anndl\\\\image-segmentation\\\\Segmentation_Dataset\\\\training\\\\masks\\\\img\\\\5575.tif'"
      ]
     },
     "execution_count": 6,
     "metadata": {},
     "output_type": "execute_result"
    },
    {
     "data": {
      "text/plain": [
       "'C:\\\\Users\\\\fralu\\\\Documents\\\\GitHub\\\\anndl\\\\image-segmentation\\\\Segmentation_Dataset\\\\training\\\\images\\\\img\\\\5576.tif'"
      ]
     },
     "execution_count": 6,
     "metadata": {},
     "output_type": "execute_result"
    },
    {
     "data": {
      "text/plain": [
       "'C:\\\\Users\\\\fralu\\\\Documents\\\\GitHub\\\\anndl\\\\image-segmentation\\\\Segmentation_Dataset\\\\training\\\\masks\\\\img\\\\5576.tif'"
      ]
     },
     "execution_count": 6,
     "metadata": {},
     "output_type": "execute_result"
    },
    {
     "data": {
      "text/plain": [
       "'C:\\\\Users\\\\fralu\\\\Documents\\\\GitHub\\\\anndl\\\\image-segmentation\\\\Segmentation_Dataset\\\\training\\\\images\\\\img\\\\5583.tif'"
      ]
     },
     "execution_count": 6,
     "metadata": {},
     "output_type": "execute_result"
    },
    {
     "data": {
      "text/plain": [
       "'C:\\\\Users\\\\fralu\\\\Documents\\\\GitHub\\\\anndl\\\\image-segmentation\\\\Segmentation_Dataset\\\\training\\\\masks\\\\img\\\\5583.tif'"
      ]
     },
     "execution_count": 6,
     "metadata": {},
     "output_type": "execute_result"
    },
    {
     "data": {
      "text/plain": [
       "'C:\\\\Users\\\\fralu\\\\Documents\\\\GitHub\\\\anndl\\\\image-segmentation\\\\Segmentation_Dataset\\\\training\\\\images\\\\img\\\\5584.tif'"
      ]
     },
     "execution_count": 6,
     "metadata": {},
     "output_type": "execute_result"
    },
    {
     "data": {
      "text/plain": [
       "'C:\\\\Users\\\\fralu\\\\Documents\\\\GitHub\\\\anndl\\\\image-segmentation\\\\Segmentation_Dataset\\\\training\\\\masks\\\\img\\\\5584.tif'"
      ]
     },
     "execution_count": 6,
     "metadata": {},
     "output_type": "execute_result"
    },
    {
     "data": {
      "text/plain": [
       "'C:\\\\Users\\\\fralu\\\\Documents\\\\GitHub\\\\anndl\\\\image-segmentation\\\\Segmentation_Dataset\\\\training\\\\images\\\\img\\\\5586.tif'"
      ]
     },
     "execution_count": 6,
     "metadata": {},
     "output_type": "execute_result"
    },
    {
     "data": {
      "text/plain": [
       "'C:\\\\Users\\\\fralu\\\\Documents\\\\GitHub\\\\anndl\\\\image-segmentation\\\\Segmentation_Dataset\\\\training\\\\masks\\\\img\\\\5586.tif'"
      ]
     },
     "execution_count": 6,
     "metadata": {},
     "output_type": "execute_result"
    },
    {
     "data": {
      "text/plain": [
       "'C:\\\\Users\\\\fralu\\\\Documents\\\\GitHub\\\\anndl\\\\image-segmentation\\\\Segmentation_Dataset\\\\training\\\\images\\\\img\\\\559.tif'"
      ]
     },
     "execution_count": 6,
     "metadata": {},
     "output_type": "execute_result"
    },
    {
     "data": {
      "text/plain": [
       "'C:\\\\Users\\\\fralu\\\\Documents\\\\GitHub\\\\anndl\\\\image-segmentation\\\\Segmentation_Dataset\\\\training\\\\masks\\\\img\\\\559.tif'"
      ]
     },
     "execution_count": 6,
     "metadata": {},
     "output_type": "execute_result"
    },
    {
     "data": {
      "text/plain": [
       "'C:\\\\Users\\\\fralu\\\\Documents\\\\GitHub\\\\anndl\\\\image-segmentation\\\\Segmentation_Dataset\\\\training\\\\images\\\\img\\\\5590.tif'"
      ]
     },
     "execution_count": 6,
     "metadata": {},
     "output_type": "execute_result"
    },
    {
     "data": {
      "text/plain": [
       "'C:\\\\Users\\\\fralu\\\\Documents\\\\GitHub\\\\anndl\\\\image-segmentation\\\\Segmentation_Dataset\\\\training\\\\masks\\\\img\\\\5590.tif'"
      ]
     },
     "execution_count": 6,
     "metadata": {},
     "output_type": "execute_result"
    },
    {
     "data": {
      "text/plain": [
       "'C:\\\\Users\\\\fralu\\\\Documents\\\\GitHub\\\\anndl\\\\image-segmentation\\\\Segmentation_Dataset\\\\training\\\\images\\\\img\\\\5593.tif'"
      ]
     },
     "execution_count": 6,
     "metadata": {},
     "output_type": "execute_result"
    },
    {
     "data": {
      "text/plain": [
       "'C:\\\\Users\\\\fralu\\\\Documents\\\\GitHub\\\\anndl\\\\image-segmentation\\\\Segmentation_Dataset\\\\training\\\\masks\\\\img\\\\5593.tif'"
      ]
     },
     "execution_count": 6,
     "metadata": {},
     "output_type": "execute_result"
    },
    {
     "data": {
      "text/plain": [
       "'C:\\\\Users\\\\fralu\\\\Documents\\\\GitHub\\\\anndl\\\\image-segmentation\\\\Segmentation_Dataset\\\\training\\\\images\\\\img\\\\5628.tif'"
      ]
     },
     "execution_count": 6,
     "metadata": {},
     "output_type": "execute_result"
    },
    {
     "data": {
      "text/plain": [
       "'C:\\\\Users\\\\fralu\\\\Documents\\\\GitHub\\\\anndl\\\\image-segmentation\\\\Segmentation_Dataset\\\\training\\\\masks\\\\img\\\\5628.tif'"
      ]
     },
     "execution_count": 6,
     "metadata": {},
     "output_type": "execute_result"
    },
    {
     "data": {
      "text/plain": [
       "'C:\\\\Users\\\\fralu\\\\Documents\\\\GitHub\\\\anndl\\\\image-segmentation\\\\Segmentation_Dataset\\\\training\\\\images\\\\img\\\\5629.tif'"
      ]
     },
     "execution_count": 6,
     "metadata": {},
     "output_type": "execute_result"
    },
    {
     "data": {
      "text/plain": [
       "'C:\\\\Users\\\\fralu\\\\Documents\\\\GitHub\\\\anndl\\\\image-segmentation\\\\Segmentation_Dataset\\\\training\\\\masks\\\\img\\\\5629.tif'"
      ]
     },
     "execution_count": 6,
     "metadata": {},
     "output_type": "execute_result"
    },
    {
     "data": {
      "text/plain": [
       "'C:\\\\Users\\\\fralu\\\\Documents\\\\GitHub\\\\anndl\\\\image-segmentation\\\\Segmentation_Dataset\\\\training\\\\images\\\\img\\\\5631.tif'"
      ]
     },
     "execution_count": 6,
     "metadata": {},
     "output_type": "execute_result"
    },
    {
     "data": {
      "text/plain": [
       "'C:\\\\Users\\\\fralu\\\\Documents\\\\GitHub\\\\anndl\\\\image-segmentation\\\\Segmentation_Dataset\\\\training\\\\masks\\\\img\\\\5631.tif'"
      ]
     },
     "execution_count": 6,
     "metadata": {},
     "output_type": "execute_result"
    },
    {
     "data": {
      "text/plain": [
       "'C:\\\\Users\\\\fralu\\\\Documents\\\\GitHub\\\\anndl\\\\image-segmentation\\\\Segmentation_Dataset\\\\training\\\\images\\\\img\\\\5634.tif'"
      ]
     },
     "execution_count": 6,
     "metadata": {},
     "output_type": "execute_result"
    },
    {
     "data": {
      "text/plain": [
       "'C:\\\\Users\\\\fralu\\\\Documents\\\\GitHub\\\\anndl\\\\image-segmentation\\\\Segmentation_Dataset\\\\training\\\\masks\\\\img\\\\5634.tif'"
      ]
     },
     "execution_count": 6,
     "metadata": {},
     "output_type": "execute_result"
    },
    {
     "data": {
      "text/plain": [
       "'C:\\\\Users\\\\fralu\\\\Documents\\\\GitHub\\\\anndl\\\\image-segmentation\\\\Segmentation_Dataset\\\\training\\\\images\\\\img\\\\5638.tif'"
      ]
     },
     "execution_count": 6,
     "metadata": {},
     "output_type": "execute_result"
    },
    {
     "data": {
      "text/plain": [
       "'C:\\\\Users\\\\fralu\\\\Documents\\\\GitHub\\\\anndl\\\\image-segmentation\\\\Segmentation_Dataset\\\\training\\\\masks\\\\img\\\\5638.tif'"
      ]
     },
     "execution_count": 6,
     "metadata": {},
     "output_type": "execute_result"
    },
    {
     "data": {
      "text/plain": [
       "'C:\\\\Users\\\\fralu\\\\Documents\\\\GitHub\\\\anndl\\\\image-segmentation\\\\Segmentation_Dataset\\\\training\\\\images\\\\img\\\\564.tif'"
      ]
     },
     "execution_count": 6,
     "metadata": {},
     "output_type": "execute_result"
    },
    {
     "data": {
      "text/plain": [
       "'C:\\\\Users\\\\fralu\\\\Documents\\\\GitHub\\\\anndl\\\\image-segmentation\\\\Segmentation_Dataset\\\\training\\\\masks\\\\img\\\\564.tif'"
      ]
     },
     "execution_count": 6,
     "metadata": {},
     "output_type": "execute_result"
    },
    {
     "data": {
      "text/plain": [
       "'C:\\\\Users\\\\fralu\\\\Documents\\\\GitHub\\\\anndl\\\\image-segmentation\\\\Segmentation_Dataset\\\\training\\\\images\\\\img\\\\5650.tif'"
      ]
     },
     "execution_count": 6,
     "metadata": {},
     "output_type": "execute_result"
    },
    {
     "data": {
      "text/plain": [
       "'C:\\\\Users\\\\fralu\\\\Documents\\\\GitHub\\\\anndl\\\\image-segmentation\\\\Segmentation_Dataset\\\\training\\\\masks\\\\img\\\\5650.tif'"
      ]
     },
     "execution_count": 6,
     "metadata": {},
     "output_type": "execute_result"
    },
    {
     "data": {
      "text/plain": [
       "'C:\\\\Users\\\\fralu\\\\Documents\\\\GitHub\\\\anndl\\\\image-segmentation\\\\Segmentation_Dataset\\\\training\\\\images\\\\img\\\\5656.tif'"
      ]
     },
     "execution_count": 6,
     "metadata": {},
     "output_type": "execute_result"
    },
    {
     "data": {
      "text/plain": [
       "'C:\\\\Users\\\\fralu\\\\Documents\\\\GitHub\\\\anndl\\\\image-segmentation\\\\Segmentation_Dataset\\\\training\\\\masks\\\\img\\\\5656.tif'"
      ]
     },
     "execution_count": 6,
     "metadata": {},
     "output_type": "execute_result"
    },
    {
     "data": {
      "text/plain": [
       "'C:\\\\Users\\\\fralu\\\\Documents\\\\GitHub\\\\anndl\\\\image-segmentation\\\\Segmentation_Dataset\\\\training\\\\images\\\\img\\\\5657.tif'"
      ]
     },
     "execution_count": 6,
     "metadata": {},
     "output_type": "execute_result"
    },
    {
     "data": {
      "text/plain": [
       "'C:\\\\Users\\\\fralu\\\\Documents\\\\GitHub\\\\anndl\\\\image-segmentation\\\\Segmentation_Dataset\\\\training\\\\masks\\\\img\\\\5657.tif'"
      ]
     },
     "execution_count": 6,
     "metadata": {},
     "output_type": "execute_result"
    },
    {
     "data": {
      "text/plain": [
       "'C:\\\\Users\\\\fralu\\\\Documents\\\\GitHub\\\\anndl\\\\image-segmentation\\\\Segmentation_Dataset\\\\training\\\\images\\\\img\\\\5658.tif'"
      ]
     },
     "execution_count": 6,
     "metadata": {},
     "output_type": "execute_result"
    },
    {
     "data": {
      "text/plain": [
       "'C:\\\\Users\\\\fralu\\\\Documents\\\\GitHub\\\\anndl\\\\image-segmentation\\\\Segmentation_Dataset\\\\training\\\\masks\\\\img\\\\5658.tif'"
      ]
     },
     "execution_count": 6,
     "metadata": {},
     "output_type": "execute_result"
    },
    {
     "data": {
      "text/plain": [
       "'C:\\\\Users\\\\fralu\\\\Documents\\\\GitHub\\\\anndl\\\\image-segmentation\\\\Segmentation_Dataset\\\\training\\\\images\\\\img\\\\566.tif'"
      ]
     },
     "execution_count": 6,
     "metadata": {},
     "output_type": "execute_result"
    },
    {
     "data": {
      "text/plain": [
       "'C:\\\\Users\\\\fralu\\\\Documents\\\\GitHub\\\\anndl\\\\image-segmentation\\\\Segmentation_Dataset\\\\training\\\\masks\\\\img\\\\566.tif'"
      ]
     },
     "execution_count": 6,
     "metadata": {},
     "output_type": "execute_result"
    },
    {
     "data": {
      "text/plain": [
       "'C:\\\\Users\\\\fralu\\\\Documents\\\\GitHub\\\\anndl\\\\image-segmentation\\\\Segmentation_Dataset\\\\training\\\\images\\\\img\\\\5672.tif'"
      ]
     },
     "execution_count": 6,
     "metadata": {},
     "output_type": "execute_result"
    },
    {
     "data": {
      "text/plain": [
       "'C:\\\\Users\\\\fralu\\\\Documents\\\\GitHub\\\\anndl\\\\image-segmentation\\\\Segmentation_Dataset\\\\training\\\\masks\\\\img\\\\5672.tif'"
      ]
     },
     "execution_count": 6,
     "metadata": {},
     "output_type": "execute_result"
    },
    {
     "data": {
      "text/plain": [
       "'C:\\\\Users\\\\fralu\\\\Documents\\\\GitHub\\\\anndl\\\\image-segmentation\\\\Segmentation_Dataset\\\\training\\\\images\\\\img\\\\5687.tif'"
      ]
     },
     "execution_count": 6,
     "metadata": {},
     "output_type": "execute_result"
    },
    {
     "data": {
      "text/plain": [
       "'C:\\\\Users\\\\fralu\\\\Documents\\\\GitHub\\\\anndl\\\\image-segmentation\\\\Segmentation_Dataset\\\\training\\\\masks\\\\img\\\\5687.tif'"
      ]
     },
     "execution_count": 6,
     "metadata": {},
     "output_type": "execute_result"
    },
    {
     "data": {
      "text/plain": [
       "'C:\\\\Users\\\\fralu\\\\Documents\\\\GitHub\\\\anndl\\\\image-segmentation\\\\Segmentation_Dataset\\\\training\\\\images\\\\img\\\\5688.tif'"
      ]
     },
     "execution_count": 6,
     "metadata": {},
     "output_type": "execute_result"
    },
    {
     "data": {
      "text/plain": [
       "'C:\\\\Users\\\\fralu\\\\Documents\\\\GitHub\\\\anndl\\\\image-segmentation\\\\Segmentation_Dataset\\\\training\\\\masks\\\\img\\\\5688.tif'"
      ]
     },
     "execution_count": 6,
     "metadata": {},
     "output_type": "execute_result"
    },
    {
     "data": {
      "text/plain": [
       "'C:\\\\Users\\\\fralu\\\\Documents\\\\GitHub\\\\anndl\\\\image-segmentation\\\\Segmentation_Dataset\\\\training\\\\images\\\\img\\\\569.tif'"
      ]
     },
     "execution_count": 6,
     "metadata": {},
     "output_type": "execute_result"
    },
    {
     "data": {
      "text/plain": [
       "'C:\\\\Users\\\\fralu\\\\Documents\\\\GitHub\\\\anndl\\\\image-segmentation\\\\Segmentation_Dataset\\\\training\\\\masks\\\\img\\\\569.tif'"
      ]
     },
     "execution_count": 6,
     "metadata": {},
     "output_type": "execute_result"
    },
    {
     "data": {
      "text/plain": [
       "'C:\\\\Users\\\\fralu\\\\Documents\\\\GitHub\\\\anndl\\\\image-segmentation\\\\Segmentation_Dataset\\\\training\\\\images\\\\img\\\\5704.tif'"
      ]
     },
     "execution_count": 6,
     "metadata": {},
     "output_type": "execute_result"
    },
    {
     "data": {
      "text/plain": [
       "'C:\\\\Users\\\\fralu\\\\Documents\\\\GitHub\\\\anndl\\\\image-segmentation\\\\Segmentation_Dataset\\\\training\\\\masks\\\\img\\\\5704.tif'"
      ]
     },
     "execution_count": 6,
     "metadata": {},
     "output_type": "execute_result"
    },
    {
     "data": {
      "text/plain": [
       "'C:\\\\Users\\\\fralu\\\\Documents\\\\GitHub\\\\anndl\\\\image-segmentation\\\\Segmentation_Dataset\\\\training\\\\images\\\\img\\\\5707.tif'"
      ]
     },
     "execution_count": 6,
     "metadata": {},
     "output_type": "execute_result"
    },
    {
     "data": {
      "text/plain": [
       "'C:\\\\Users\\\\fralu\\\\Documents\\\\GitHub\\\\anndl\\\\image-segmentation\\\\Segmentation_Dataset\\\\training\\\\masks\\\\img\\\\5707.tif'"
      ]
     },
     "execution_count": 6,
     "metadata": {},
     "output_type": "execute_result"
    },
    {
     "data": {
      "text/plain": [
       "'C:\\\\Users\\\\fralu\\\\Documents\\\\GitHub\\\\anndl\\\\image-segmentation\\\\Segmentation_Dataset\\\\training\\\\images\\\\img\\\\5709.tif'"
      ]
     },
     "execution_count": 6,
     "metadata": {},
     "output_type": "execute_result"
    },
    {
     "data": {
      "text/plain": [
       "'C:\\\\Users\\\\fralu\\\\Documents\\\\GitHub\\\\anndl\\\\image-segmentation\\\\Segmentation_Dataset\\\\training\\\\masks\\\\img\\\\5709.tif'"
      ]
     },
     "execution_count": 6,
     "metadata": {},
     "output_type": "execute_result"
    },
    {
     "data": {
      "text/plain": [
       "'C:\\\\Users\\\\fralu\\\\Documents\\\\GitHub\\\\anndl\\\\image-segmentation\\\\Segmentation_Dataset\\\\training\\\\images\\\\img\\\\5718.tif'"
      ]
     },
     "execution_count": 6,
     "metadata": {},
     "output_type": "execute_result"
    },
    {
     "data": {
      "text/plain": [
       "'C:\\\\Users\\\\fralu\\\\Documents\\\\GitHub\\\\anndl\\\\image-segmentation\\\\Segmentation_Dataset\\\\training\\\\masks\\\\img\\\\5718.tif'"
      ]
     },
     "execution_count": 6,
     "metadata": {},
     "output_type": "execute_result"
    },
    {
     "data": {
      "text/plain": [
       "'C:\\\\Users\\\\fralu\\\\Documents\\\\GitHub\\\\anndl\\\\image-segmentation\\\\Segmentation_Dataset\\\\training\\\\images\\\\img\\\\5722.tif'"
      ]
     },
     "execution_count": 6,
     "metadata": {},
     "output_type": "execute_result"
    },
    {
     "data": {
      "text/plain": [
       "'C:\\\\Users\\\\fralu\\\\Documents\\\\GitHub\\\\anndl\\\\image-segmentation\\\\Segmentation_Dataset\\\\training\\\\masks\\\\img\\\\5722.tif'"
      ]
     },
     "execution_count": 6,
     "metadata": {},
     "output_type": "execute_result"
    },
    {
     "data": {
      "text/plain": [
       "'C:\\\\Users\\\\fralu\\\\Documents\\\\GitHub\\\\anndl\\\\image-segmentation\\\\Segmentation_Dataset\\\\training\\\\images\\\\img\\\\5723.tif'"
      ]
     },
     "execution_count": 6,
     "metadata": {},
     "output_type": "execute_result"
    },
    {
     "data": {
      "text/plain": [
       "'C:\\\\Users\\\\fralu\\\\Documents\\\\GitHub\\\\anndl\\\\image-segmentation\\\\Segmentation_Dataset\\\\training\\\\masks\\\\img\\\\5723.tif'"
      ]
     },
     "execution_count": 6,
     "metadata": {},
     "output_type": "execute_result"
    },
    {
     "data": {
      "text/plain": [
       "'C:\\\\Users\\\\fralu\\\\Documents\\\\GitHub\\\\anndl\\\\image-segmentation\\\\Segmentation_Dataset\\\\training\\\\images\\\\img\\\\5727.tif'"
      ]
     },
     "execution_count": 6,
     "metadata": {},
     "output_type": "execute_result"
    },
    {
     "data": {
      "text/plain": [
       "'C:\\\\Users\\\\fralu\\\\Documents\\\\GitHub\\\\anndl\\\\image-segmentation\\\\Segmentation_Dataset\\\\training\\\\masks\\\\img\\\\5727.tif'"
      ]
     },
     "execution_count": 6,
     "metadata": {},
     "output_type": "execute_result"
    },
    {
     "data": {
      "text/plain": [
       "'C:\\\\Users\\\\fralu\\\\Documents\\\\GitHub\\\\anndl\\\\image-segmentation\\\\Segmentation_Dataset\\\\training\\\\images\\\\img\\\\5735.tif'"
      ]
     },
     "execution_count": 6,
     "metadata": {},
     "output_type": "execute_result"
    },
    {
     "data": {
      "text/plain": [
       "'C:\\\\Users\\\\fralu\\\\Documents\\\\GitHub\\\\anndl\\\\image-segmentation\\\\Segmentation_Dataset\\\\training\\\\masks\\\\img\\\\5735.tif'"
      ]
     },
     "execution_count": 6,
     "metadata": {},
     "output_type": "execute_result"
    },
    {
     "data": {
      "text/plain": [
       "'C:\\\\Users\\\\fralu\\\\Documents\\\\GitHub\\\\anndl\\\\image-segmentation\\\\Segmentation_Dataset\\\\training\\\\images\\\\img\\\\5737.tif'"
      ]
     },
     "execution_count": 6,
     "metadata": {},
     "output_type": "execute_result"
    },
    {
     "data": {
      "text/plain": [
       "'C:\\\\Users\\\\fralu\\\\Documents\\\\GitHub\\\\anndl\\\\image-segmentation\\\\Segmentation_Dataset\\\\training\\\\masks\\\\img\\\\5737.tif'"
      ]
     },
     "execution_count": 6,
     "metadata": {},
     "output_type": "execute_result"
    },
    {
     "data": {
      "text/plain": [
       "'C:\\\\Users\\\\fralu\\\\Documents\\\\GitHub\\\\anndl\\\\image-segmentation\\\\Segmentation_Dataset\\\\training\\\\images\\\\img\\\\5738.tif'"
      ]
     },
     "execution_count": 6,
     "metadata": {},
     "output_type": "execute_result"
    },
    {
     "data": {
      "text/plain": [
       "'C:\\\\Users\\\\fralu\\\\Documents\\\\GitHub\\\\anndl\\\\image-segmentation\\\\Segmentation_Dataset\\\\training\\\\masks\\\\img\\\\5738.tif'"
      ]
     },
     "execution_count": 6,
     "metadata": {},
     "output_type": "execute_result"
    },
    {
     "data": {
      "text/plain": [
       "'C:\\\\Users\\\\fralu\\\\Documents\\\\GitHub\\\\anndl\\\\image-segmentation\\\\Segmentation_Dataset\\\\training\\\\images\\\\img\\\\5741.tif'"
      ]
     },
     "execution_count": 6,
     "metadata": {},
     "output_type": "execute_result"
    },
    {
     "data": {
      "text/plain": [
       "'C:\\\\Users\\\\fralu\\\\Documents\\\\GitHub\\\\anndl\\\\image-segmentation\\\\Segmentation_Dataset\\\\training\\\\masks\\\\img\\\\5741.tif'"
      ]
     },
     "execution_count": 6,
     "metadata": {},
     "output_type": "execute_result"
    },
    {
     "data": {
      "text/plain": [
       "'C:\\\\Users\\\\fralu\\\\Documents\\\\GitHub\\\\anndl\\\\image-segmentation\\\\Segmentation_Dataset\\\\training\\\\images\\\\img\\\\5753.tif'"
      ]
     },
     "execution_count": 6,
     "metadata": {},
     "output_type": "execute_result"
    },
    {
     "data": {
      "text/plain": [
       "'C:\\\\Users\\\\fralu\\\\Documents\\\\GitHub\\\\anndl\\\\image-segmentation\\\\Segmentation_Dataset\\\\training\\\\masks\\\\img\\\\5753.tif'"
      ]
     },
     "execution_count": 6,
     "metadata": {},
     "output_type": "execute_result"
    },
    {
     "data": {
      "text/plain": [
       "'C:\\\\Users\\\\fralu\\\\Documents\\\\GitHub\\\\anndl\\\\image-segmentation\\\\Segmentation_Dataset\\\\training\\\\images\\\\img\\\\5758.tif'"
      ]
     },
     "execution_count": 6,
     "metadata": {},
     "output_type": "execute_result"
    },
    {
     "data": {
      "text/plain": [
       "'C:\\\\Users\\\\fralu\\\\Documents\\\\GitHub\\\\anndl\\\\image-segmentation\\\\Segmentation_Dataset\\\\training\\\\masks\\\\img\\\\5758.tif'"
      ]
     },
     "execution_count": 6,
     "metadata": {},
     "output_type": "execute_result"
    },
    {
     "data": {
      "text/plain": [
       "'C:\\\\Users\\\\fralu\\\\Documents\\\\GitHub\\\\anndl\\\\image-segmentation\\\\Segmentation_Dataset\\\\training\\\\images\\\\img\\\\5759.tif'"
      ]
     },
     "execution_count": 6,
     "metadata": {},
     "output_type": "execute_result"
    },
    {
     "data": {
      "text/plain": [
       "'C:\\\\Users\\\\fralu\\\\Documents\\\\GitHub\\\\anndl\\\\image-segmentation\\\\Segmentation_Dataset\\\\training\\\\masks\\\\img\\\\5759.tif'"
      ]
     },
     "execution_count": 6,
     "metadata": {},
     "output_type": "execute_result"
    },
    {
     "data": {
      "text/plain": [
       "'C:\\\\Users\\\\fralu\\\\Documents\\\\GitHub\\\\anndl\\\\image-segmentation\\\\Segmentation_Dataset\\\\training\\\\images\\\\img\\\\5760.tif'"
      ]
     },
     "execution_count": 6,
     "metadata": {},
     "output_type": "execute_result"
    },
    {
     "data": {
      "text/plain": [
       "'C:\\\\Users\\\\fralu\\\\Documents\\\\GitHub\\\\anndl\\\\image-segmentation\\\\Segmentation_Dataset\\\\training\\\\masks\\\\img\\\\5760.tif'"
      ]
     },
     "execution_count": 6,
     "metadata": {},
     "output_type": "execute_result"
    },
    {
     "data": {
      "text/plain": [
       "'C:\\\\Users\\\\fralu\\\\Documents\\\\GitHub\\\\anndl\\\\image-segmentation\\\\Segmentation_Dataset\\\\training\\\\images\\\\img\\\\5773.tif'"
      ]
     },
     "execution_count": 6,
     "metadata": {},
     "output_type": "execute_result"
    },
    {
     "data": {
      "text/plain": [
       "'C:\\\\Users\\\\fralu\\\\Documents\\\\GitHub\\\\anndl\\\\image-segmentation\\\\Segmentation_Dataset\\\\training\\\\masks\\\\img\\\\5773.tif'"
      ]
     },
     "execution_count": 6,
     "metadata": {},
     "output_type": "execute_result"
    },
    {
     "data": {
      "text/plain": [
       "'C:\\\\Users\\\\fralu\\\\Documents\\\\GitHub\\\\anndl\\\\image-segmentation\\\\Segmentation_Dataset\\\\training\\\\images\\\\img\\\\5774.tif'"
      ]
     },
     "execution_count": 6,
     "metadata": {},
     "output_type": "execute_result"
    },
    {
     "data": {
      "text/plain": [
       "'C:\\\\Users\\\\fralu\\\\Documents\\\\GitHub\\\\anndl\\\\image-segmentation\\\\Segmentation_Dataset\\\\training\\\\masks\\\\img\\\\5774.tif'"
      ]
     },
     "execution_count": 6,
     "metadata": {},
     "output_type": "execute_result"
    },
    {
     "data": {
      "text/plain": [
       "'C:\\\\Users\\\\fralu\\\\Documents\\\\GitHub\\\\anndl\\\\image-segmentation\\\\Segmentation_Dataset\\\\training\\\\images\\\\img\\\\5776.tif'"
      ]
     },
     "execution_count": 6,
     "metadata": {},
     "output_type": "execute_result"
    },
    {
     "data": {
      "text/plain": [
       "'C:\\\\Users\\\\fralu\\\\Documents\\\\GitHub\\\\anndl\\\\image-segmentation\\\\Segmentation_Dataset\\\\training\\\\masks\\\\img\\\\5776.tif'"
      ]
     },
     "execution_count": 6,
     "metadata": {},
     "output_type": "execute_result"
    },
    {
     "data": {
      "text/plain": [
       "'C:\\\\Users\\\\fralu\\\\Documents\\\\GitHub\\\\anndl\\\\image-segmentation\\\\Segmentation_Dataset\\\\training\\\\images\\\\img\\\\5778.tif'"
      ]
     },
     "execution_count": 6,
     "metadata": {},
     "output_type": "execute_result"
    },
    {
     "data": {
      "text/plain": [
       "'C:\\\\Users\\\\fralu\\\\Documents\\\\GitHub\\\\anndl\\\\image-segmentation\\\\Segmentation_Dataset\\\\training\\\\masks\\\\img\\\\5778.tif'"
      ]
     },
     "execution_count": 6,
     "metadata": {},
     "output_type": "execute_result"
    },
    {
     "data": {
      "text/plain": [
       "'C:\\\\Users\\\\fralu\\\\Documents\\\\GitHub\\\\anndl\\\\image-segmentation\\\\Segmentation_Dataset\\\\training\\\\images\\\\img\\\\5779.tif'"
      ]
     },
     "execution_count": 6,
     "metadata": {},
     "output_type": "execute_result"
    },
    {
     "data": {
      "text/plain": [
       "'C:\\\\Users\\\\fralu\\\\Documents\\\\GitHub\\\\anndl\\\\image-segmentation\\\\Segmentation_Dataset\\\\training\\\\masks\\\\img\\\\5779.tif'"
      ]
     },
     "execution_count": 6,
     "metadata": {},
     "output_type": "execute_result"
    },
    {
     "data": {
      "text/plain": [
       "'C:\\\\Users\\\\fralu\\\\Documents\\\\GitHub\\\\anndl\\\\image-segmentation\\\\Segmentation_Dataset\\\\training\\\\images\\\\img\\\\5784.tif'"
      ]
     },
     "execution_count": 6,
     "metadata": {},
     "output_type": "execute_result"
    },
    {
     "data": {
      "text/plain": [
       "'C:\\\\Users\\\\fralu\\\\Documents\\\\GitHub\\\\anndl\\\\image-segmentation\\\\Segmentation_Dataset\\\\training\\\\masks\\\\img\\\\5784.tif'"
      ]
     },
     "execution_count": 6,
     "metadata": {},
     "output_type": "execute_result"
    },
    {
     "data": {
      "text/plain": [
       "'C:\\\\Users\\\\fralu\\\\Documents\\\\GitHub\\\\anndl\\\\image-segmentation\\\\Segmentation_Dataset\\\\training\\\\images\\\\img\\\\5787.tif'"
      ]
     },
     "execution_count": 6,
     "metadata": {},
     "output_type": "execute_result"
    },
    {
     "data": {
      "text/plain": [
       "'C:\\\\Users\\\\fralu\\\\Documents\\\\GitHub\\\\anndl\\\\image-segmentation\\\\Segmentation_Dataset\\\\training\\\\masks\\\\img\\\\5787.tif'"
      ]
     },
     "execution_count": 6,
     "metadata": {},
     "output_type": "execute_result"
    },
    {
     "data": {
      "text/plain": [
       "'C:\\\\Users\\\\fralu\\\\Documents\\\\GitHub\\\\anndl\\\\image-segmentation\\\\Segmentation_Dataset\\\\training\\\\images\\\\img\\\\579.tif'"
      ]
     },
     "execution_count": 6,
     "metadata": {},
     "output_type": "execute_result"
    },
    {
     "data": {
      "text/plain": [
       "'C:\\\\Users\\\\fralu\\\\Documents\\\\GitHub\\\\anndl\\\\image-segmentation\\\\Segmentation_Dataset\\\\training\\\\masks\\\\img\\\\579.tif'"
      ]
     },
     "execution_count": 6,
     "metadata": {},
     "output_type": "execute_result"
    },
    {
     "data": {
      "text/plain": [
       "'C:\\\\Users\\\\fralu\\\\Documents\\\\GitHub\\\\anndl\\\\image-segmentation\\\\Segmentation_Dataset\\\\training\\\\images\\\\img\\\\5790.tif'"
      ]
     },
     "execution_count": 6,
     "metadata": {},
     "output_type": "execute_result"
    },
    {
     "data": {
      "text/plain": [
       "'C:\\\\Users\\\\fralu\\\\Documents\\\\GitHub\\\\anndl\\\\image-segmentation\\\\Segmentation_Dataset\\\\training\\\\masks\\\\img\\\\5790.tif'"
      ]
     },
     "execution_count": 6,
     "metadata": {},
     "output_type": "execute_result"
    },
    {
     "data": {
      "text/plain": [
       "'C:\\\\Users\\\\fralu\\\\Documents\\\\GitHub\\\\anndl\\\\image-segmentation\\\\Segmentation_Dataset\\\\training\\\\images\\\\img\\\\5794.tif'"
      ]
     },
     "execution_count": 6,
     "metadata": {},
     "output_type": "execute_result"
    },
    {
     "data": {
      "text/plain": [
       "'C:\\\\Users\\\\fralu\\\\Documents\\\\GitHub\\\\anndl\\\\image-segmentation\\\\Segmentation_Dataset\\\\training\\\\masks\\\\img\\\\5794.tif'"
      ]
     },
     "execution_count": 6,
     "metadata": {},
     "output_type": "execute_result"
    },
    {
     "data": {
      "text/plain": [
       "'C:\\\\Users\\\\fralu\\\\Documents\\\\GitHub\\\\anndl\\\\image-segmentation\\\\Segmentation_Dataset\\\\training\\\\images\\\\img\\\\5800.tif'"
      ]
     },
     "execution_count": 6,
     "metadata": {},
     "output_type": "execute_result"
    },
    {
     "data": {
      "text/plain": [
       "'C:\\\\Users\\\\fralu\\\\Documents\\\\GitHub\\\\anndl\\\\image-segmentation\\\\Segmentation_Dataset\\\\training\\\\masks\\\\img\\\\5800.tif'"
      ]
     },
     "execution_count": 6,
     "metadata": {},
     "output_type": "execute_result"
    },
    {
     "data": {
      "text/plain": [
       "'C:\\\\Users\\\\fralu\\\\Documents\\\\GitHub\\\\anndl\\\\image-segmentation\\\\Segmentation_Dataset\\\\training\\\\images\\\\img\\\\5801.tif'"
      ]
     },
     "execution_count": 6,
     "metadata": {},
     "output_type": "execute_result"
    },
    {
     "data": {
      "text/plain": [
       "'C:\\\\Users\\\\fralu\\\\Documents\\\\GitHub\\\\anndl\\\\image-segmentation\\\\Segmentation_Dataset\\\\training\\\\masks\\\\img\\\\5801.tif'"
      ]
     },
     "execution_count": 6,
     "metadata": {},
     "output_type": "execute_result"
    },
    {
     "data": {
      "text/plain": [
       "'C:\\\\Users\\\\fralu\\\\Documents\\\\GitHub\\\\anndl\\\\image-segmentation\\\\Segmentation_Dataset\\\\training\\\\images\\\\img\\\\5804.tif'"
      ]
     },
     "execution_count": 6,
     "metadata": {},
     "output_type": "execute_result"
    },
    {
     "data": {
      "text/plain": [
       "'C:\\\\Users\\\\fralu\\\\Documents\\\\GitHub\\\\anndl\\\\image-segmentation\\\\Segmentation_Dataset\\\\training\\\\masks\\\\img\\\\5804.tif'"
      ]
     },
     "execution_count": 6,
     "metadata": {},
     "output_type": "execute_result"
    },
    {
     "data": {
      "text/plain": [
       "'C:\\\\Users\\\\fralu\\\\Documents\\\\GitHub\\\\anndl\\\\image-segmentation\\\\Segmentation_Dataset\\\\training\\\\images\\\\img\\\\5810.tif'"
      ]
     },
     "execution_count": 6,
     "metadata": {},
     "output_type": "execute_result"
    },
    {
     "data": {
      "text/plain": [
       "'C:\\\\Users\\\\fralu\\\\Documents\\\\GitHub\\\\anndl\\\\image-segmentation\\\\Segmentation_Dataset\\\\training\\\\masks\\\\img\\\\5810.tif'"
      ]
     },
     "execution_count": 6,
     "metadata": {},
     "output_type": "execute_result"
    },
    {
     "data": {
      "text/plain": [
       "'C:\\\\Users\\\\fralu\\\\Documents\\\\GitHub\\\\anndl\\\\image-segmentation\\\\Segmentation_Dataset\\\\training\\\\images\\\\img\\\\5812.tif'"
      ]
     },
     "execution_count": 6,
     "metadata": {},
     "output_type": "execute_result"
    },
    {
     "data": {
      "text/plain": [
       "'C:\\\\Users\\\\fralu\\\\Documents\\\\GitHub\\\\anndl\\\\image-segmentation\\\\Segmentation_Dataset\\\\training\\\\masks\\\\img\\\\5812.tif'"
      ]
     },
     "execution_count": 6,
     "metadata": {},
     "output_type": "execute_result"
    },
    {
     "data": {
      "text/plain": [
       "'C:\\\\Users\\\\fralu\\\\Documents\\\\GitHub\\\\anndl\\\\image-segmentation\\\\Segmentation_Dataset\\\\training\\\\images\\\\img\\\\5817.tif'"
      ]
     },
     "execution_count": 6,
     "metadata": {},
     "output_type": "execute_result"
    },
    {
     "data": {
      "text/plain": [
       "'C:\\\\Users\\\\fralu\\\\Documents\\\\GitHub\\\\anndl\\\\image-segmentation\\\\Segmentation_Dataset\\\\training\\\\masks\\\\img\\\\5817.tif'"
      ]
     },
     "execution_count": 6,
     "metadata": {},
     "output_type": "execute_result"
    },
    {
     "data": {
      "text/plain": [
       "'C:\\\\Users\\\\fralu\\\\Documents\\\\GitHub\\\\anndl\\\\image-segmentation\\\\Segmentation_Dataset\\\\training\\\\images\\\\img\\\\582.tif'"
      ]
     },
     "execution_count": 6,
     "metadata": {},
     "output_type": "execute_result"
    },
    {
     "data": {
      "text/plain": [
       "'C:\\\\Users\\\\fralu\\\\Documents\\\\GitHub\\\\anndl\\\\image-segmentation\\\\Segmentation_Dataset\\\\training\\\\masks\\\\img\\\\582.tif'"
      ]
     },
     "execution_count": 6,
     "metadata": {},
     "output_type": "execute_result"
    },
    {
     "data": {
      "text/plain": [
       "'C:\\\\Users\\\\fralu\\\\Documents\\\\GitHub\\\\anndl\\\\image-segmentation\\\\Segmentation_Dataset\\\\training\\\\images\\\\img\\\\5825.tif'"
      ]
     },
     "execution_count": 6,
     "metadata": {},
     "output_type": "execute_result"
    },
    {
     "data": {
      "text/plain": [
       "'C:\\\\Users\\\\fralu\\\\Documents\\\\GitHub\\\\anndl\\\\image-segmentation\\\\Segmentation_Dataset\\\\training\\\\masks\\\\img\\\\5825.tif'"
      ]
     },
     "execution_count": 6,
     "metadata": {},
     "output_type": "execute_result"
    },
    {
     "data": {
      "text/plain": [
       "'C:\\\\Users\\\\fralu\\\\Documents\\\\GitHub\\\\anndl\\\\image-segmentation\\\\Segmentation_Dataset\\\\training\\\\images\\\\img\\\\5830.tif'"
      ]
     },
     "execution_count": 6,
     "metadata": {},
     "output_type": "execute_result"
    },
    {
     "data": {
      "text/plain": [
       "'C:\\\\Users\\\\fralu\\\\Documents\\\\GitHub\\\\anndl\\\\image-segmentation\\\\Segmentation_Dataset\\\\training\\\\masks\\\\img\\\\5830.tif'"
      ]
     },
     "execution_count": 6,
     "metadata": {},
     "output_type": "execute_result"
    },
    {
     "data": {
      "text/plain": [
       "'C:\\\\Users\\\\fralu\\\\Documents\\\\GitHub\\\\anndl\\\\image-segmentation\\\\Segmentation_Dataset\\\\training\\\\images\\\\img\\\\5840.tif'"
      ]
     },
     "execution_count": 6,
     "metadata": {},
     "output_type": "execute_result"
    },
    {
     "data": {
      "text/plain": [
       "'C:\\\\Users\\\\fralu\\\\Documents\\\\GitHub\\\\anndl\\\\image-segmentation\\\\Segmentation_Dataset\\\\training\\\\masks\\\\img\\\\5840.tif'"
      ]
     },
     "execution_count": 6,
     "metadata": {},
     "output_type": "execute_result"
    },
    {
     "data": {
      "text/plain": [
       "'C:\\\\Users\\\\fralu\\\\Documents\\\\GitHub\\\\anndl\\\\image-segmentation\\\\Segmentation_Dataset\\\\training\\\\images\\\\img\\\\5843.tif'"
      ]
     },
     "execution_count": 6,
     "metadata": {},
     "output_type": "execute_result"
    },
    {
     "data": {
      "text/plain": [
       "'C:\\\\Users\\\\fralu\\\\Documents\\\\GitHub\\\\anndl\\\\image-segmentation\\\\Segmentation_Dataset\\\\training\\\\masks\\\\img\\\\5843.tif'"
      ]
     },
     "execution_count": 6,
     "metadata": {},
     "output_type": "execute_result"
    },
    {
     "data": {
      "text/plain": [
       "'C:\\\\Users\\\\fralu\\\\Documents\\\\GitHub\\\\anndl\\\\image-segmentation\\\\Segmentation_Dataset\\\\training\\\\images\\\\img\\\\5844.tif'"
      ]
     },
     "execution_count": 6,
     "metadata": {},
     "output_type": "execute_result"
    },
    {
     "data": {
      "text/plain": [
       "'C:\\\\Users\\\\fralu\\\\Documents\\\\GitHub\\\\anndl\\\\image-segmentation\\\\Segmentation_Dataset\\\\training\\\\masks\\\\img\\\\5844.tif'"
      ]
     },
     "execution_count": 6,
     "metadata": {},
     "output_type": "execute_result"
    },
    {
     "data": {
      "text/plain": [
       "'C:\\\\Users\\\\fralu\\\\Documents\\\\GitHub\\\\anndl\\\\image-segmentation\\\\Segmentation_Dataset\\\\training\\\\images\\\\img\\\\5848.tif'"
      ]
     },
     "execution_count": 6,
     "metadata": {},
     "output_type": "execute_result"
    },
    {
     "data": {
      "text/plain": [
       "'C:\\\\Users\\\\fralu\\\\Documents\\\\GitHub\\\\anndl\\\\image-segmentation\\\\Segmentation_Dataset\\\\training\\\\masks\\\\img\\\\5848.tif'"
      ]
     },
     "execution_count": 6,
     "metadata": {},
     "output_type": "execute_result"
    },
    {
     "data": {
      "text/plain": [
       "'C:\\\\Users\\\\fralu\\\\Documents\\\\GitHub\\\\anndl\\\\image-segmentation\\\\Segmentation_Dataset\\\\training\\\\images\\\\img\\\\5849.tif'"
      ]
     },
     "execution_count": 6,
     "metadata": {},
     "output_type": "execute_result"
    },
    {
     "data": {
      "text/plain": [
       "'C:\\\\Users\\\\fralu\\\\Documents\\\\GitHub\\\\anndl\\\\image-segmentation\\\\Segmentation_Dataset\\\\training\\\\masks\\\\img\\\\5849.tif'"
      ]
     },
     "execution_count": 6,
     "metadata": {},
     "output_type": "execute_result"
    },
    {
     "data": {
      "text/plain": [
       "'C:\\\\Users\\\\fralu\\\\Documents\\\\GitHub\\\\anndl\\\\image-segmentation\\\\Segmentation_Dataset\\\\training\\\\images\\\\img\\\\585.tif'"
      ]
     },
     "execution_count": 6,
     "metadata": {},
     "output_type": "execute_result"
    },
    {
     "data": {
      "text/plain": [
       "'C:\\\\Users\\\\fralu\\\\Documents\\\\GitHub\\\\anndl\\\\image-segmentation\\\\Segmentation_Dataset\\\\training\\\\masks\\\\img\\\\585.tif'"
      ]
     },
     "execution_count": 6,
     "metadata": {},
     "output_type": "execute_result"
    },
    {
     "data": {
      "text/plain": [
       "'C:\\\\Users\\\\fralu\\\\Documents\\\\GitHub\\\\anndl\\\\image-segmentation\\\\Segmentation_Dataset\\\\training\\\\images\\\\img\\\\5851.tif'"
      ]
     },
     "execution_count": 6,
     "metadata": {},
     "output_type": "execute_result"
    },
    {
     "data": {
      "text/plain": [
       "'C:\\\\Users\\\\fralu\\\\Documents\\\\GitHub\\\\anndl\\\\image-segmentation\\\\Segmentation_Dataset\\\\training\\\\masks\\\\img\\\\5851.tif'"
      ]
     },
     "execution_count": 6,
     "metadata": {},
     "output_type": "execute_result"
    },
    {
     "data": {
      "text/plain": [
       "'C:\\\\Users\\\\fralu\\\\Documents\\\\GitHub\\\\anndl\\\\image-segmentation\\\\Segmentation_Dataset\\\\training\\\\images\\\\img\\\\5863.tif'"
      ]
     },
     "execution_count": 6,
     "metadata": {},
     "output_type": "execute_result"
    },
    {
     "data": {
      "text/plain": [
       "'C:\\\\Users\\\\fralu\\\\Documents\\\\GitHub\\\\anndl\\\\image-segmentation\\\\Segmentation_Dataset\\\\training\\\\masks\\\\img\\\\5863.tif'"
      ]
     },
     "execution_count": 6,
     "metadata": {},
     "output_type": "execute_result"
    },
    {
     "data": {
      "text/plain": [
       "'C:\\\\Users\\\\fralu\\\\Documents\\\\GitHub\\\\anndl\\\\image-segmentation\\\\Segmentation_Dataset\\\\training\\\\images\\\\img\\\\5867.tif'"
      ]
     },
     "execution_count": 6,
     "metadata": {},
     "output_type": "execute_result"
    },
    {
     "data": {
      "text/plain": [
       "'C:\\\\Users\\\\fralu\\\\Documents\\\\GitHub\\\\anndl\\\\image-segmentation\\\\Segmentation_Dataset\\\\training\\\\masks\\\\img\\\\5867.tif'"
      ]
     },
     "execution_count": 6,
     "metadata": {},
     "output_type": "execute_result"
    },
    {
     "data": {
      "text/plain": [
       "'C:\\\\Users\\\\fralu\\\\Documents\\\\GitHub\\\\anndl\\\\image-segmentation\\\\Segmentation_Dataset\\\\training\\\\images\\\\img\\\\5869.tif'"
      ]
     },
     "execution_count": 6,
     "metadata": {},
     "output_type": "execute_result"
    },
    {
     "data": {
      "text/plain": [
       "'C:\\\\Users\\\\fralu\\\\Documents\\\\GitHub\\\\anndl\\\\image-segmentation\\\\Segmentation_Dataset\\\\training\\\\masks\\\\img\\\\5869.tif'"
      ]
     },
     "execution_count": 6,
     "metadata": {},
     "output_type": "execute_result"
    },
    {
     "data": {
      "text/plain": [
       "'C:\\\\Users\\\\fralu\\\\Documents\\\\GitHub\\\\anndl\\\\image-segmentation\\\\Segmentation_Dataset\\\\training\\\\images\\\\img\\\\5876.tif'"
      ]
     },
     "execution_count": 6,
     "metadata": {},
     "output_type": "execute_result"
    },
    {
     "data": {
      "text/plain": [
       "'C:\\\\Users\\\\fralu\\\\Documents\\\\GitHub\\\\anndl\\\\image-segmentation\\\\Segmentation_Dataset\\\\training\\\\masks\\\\img\\\\5876.tif'"
      ]
     },
     "execution_count": 6,
     "metadata": {},
     "output_type": "execute_result"
    },
    {
     "data": {
      "text/plain": [
       "'C:\\\\Users\\\\fralu\\\\Documents\\\\GitHub\\\\anndl\\\\image-segmentation\\\\Segmentation_Dataset\\\\training\\\\images\\\\img\\\\588.tif'"
      ]
     },
     "execution_count": 6,
     "metadata": {},
     "output_type": "execute_result"
    },
    {
     "data": {
      "text/plain": [
       "'C:\\\\Users\\\\fralu\\\\Documents\\\\GitHub\\\\anndl\\\\image-segmentation\\\\Segmentation_Dataset\\\\training\\\\masks\\\\img\\\\588.tif'"
      ]
     },
     "execution_count": 6,
     "metadata": {},
     "output_type": "execute_result"
    },
    {
     "data": {
      "text/plain": [
       "'C:\\\\Users\\\\fralu\\\\Documents\\\\GitHub\\\\anndl\\\\image-segmentation\\\\Segmentation_Dataset\\\\training\\\\images\\\\img\\\\5887.tif'"
      ]
     },
     "execution_count": 6,
     "metadata": {},
     "output_type": "execute_result"
    },
    {
     "data": {
      "text/plain": [
       "'C:\\\\Users\\\\fralu\\\\Documents\\\\GitHub\\\\anndl\\\\image-segmentation\\\\Segmentation_Dataset\\\\training\\\\masks\\\\img\\\\5887.tif'"
      ]
     },
     "execution_count": 6,
     "metadata": {},
     "output_type": "execute_result"
    },
    {
     "data": {
      "text/plain": [
       "'C:\\\\Users\\\\fralu\\\\Documents\\\\GitHub\\\\anndl\\\\image-segmentation\\\\Segmentation_Dataset\\\\training\\\\images\\\\img\\\\5891.tif'"
      ]
     },
     "execution_count": 6,
     "metadata": {},
     "output_type": "execute_result"
    },
    {
     "data": {
      "text/plain": [
       "'C:\\\\Users\\\\fralu\\\\Documents\\\\GitHub\\\\anndl\\\\image-segmentation\\\\Segmentation_Dataset\\\\training\\\\masks\\\\img\\\\5891.tif'"
      ]
     },
     "execution_count": 6,
     "metadata": {},
     "output_type": "execute_result"
    },
    {
     "data": {
      "text/plain": [
       "'C:\\\\Users\\\\fralu\\\\Documents\\\\GitHub\\\\anndl\\\\image-segmentation\\\\Segmentation_Dataset\\\\training\\\\images\\\\img\\\\5899.tif'"
      ]
     },
     "execution_count": 6,
     "metadata": {},
     "output_type": "execute_result"
    },
    {
     "data": {
      "text/plain": [
       "'C:\\\\Users\\\\fralu\\\\Documents\\\\GitHub\\\\anndl\\\\image-segmentation\\\\Segmentation_Dataset\\\\training\\\\masks\\\\img\\\\5899.tif'"
      ]
     },
     "execution_count": 6,
     "metadata": {},
     "output_type": "execute_result"
    },
    {
     "data": {
      "text/plain": [
       "'C:\\\\Users\\\\fralu\\\\Documents\\\\GitHub\\\\anndl\\\\image-segmentation\\\\Segmentation_Dataset\\\\training\\\\images\\\\img\\\\590.tif'"
      ]
     },
     "execution_count": 6,
     "metadata": {},
     "output_type": "execute_result"
    },
    {
     "data": {
      "text/plain": [
       "'C:\\\\Users\\\\fralu\\\\Documents\\\\GitHub\\\\anndl\\\\image-segmentation\\\\Segmentation_Dataset\\\\training\\\\masks\\\\img\\\\590.tif'"
      ]
     },
     "execution_count": 6,
     "metadata": {},
     "output_type": "execute_result"
    },
    {
     "data": {
      "text/plain": [
       "'C:\\\\Users\\\\fralu\\\\Documents\\\\GitHub\\\\anndl\\\\image-segmentation\\\\Segmentation_Dataset\\\\training\\\\images\\\\img\\\\5905.tif'"
      ]
     },
     "execution_count": 6,
     "metadata": {},
     "output_type": "execute_result"
    },
    {
     "data": {
      "text/plain": [
       "'C:\\\\Users\\\\fralu\\\\Documents\\\\GitHub\\\\anndl\\\\image-segmentation\\\\Segmentation_Dataset\\\\training\\\\masks\\\\img\\\\5905.tif'"
      ]
     },
     "execution_count": 6,
     "metadata": {},
     "output_type": "execute_result"
    },
    {
     "data": {
      "text/plain": [
       "'C:\\\\Users\\\\fralu\\\\Documents\\\\GitHub\\\\anndl\\\\image-segmentation\\\\Segmentation_Dataset\\\\training\\\\images\\\\img\\\\5910.tif'"
      ]
     },
     "execution_count": 6,
     "metadata": {},
     "output_type": "execute_result"
    },
    {
     "data": {
      "text/plain": [
       "'C:\\\\Users\\\\fralu\\\\Documents\\\\GitHub\\\\anndl\\\\image-segmentation\\\\Segmentation_Dataset\\\\training\\\\masks\\\\img\\\\5910.tif'"
      ]
     },
     "execution_count": 6,
     "metadata": {},
     "output_type": "execute_result"
    },
    {
     "data": {
      "text/plain": [
       "'C:\\\\Users\\\\fralu\\\\Documents\\\\GitHub\\\\anndl\\\\image-segmentation\\\\Segmentation_Dataset\\\\training\\\\images\\\\img\\\\5911.tif'"
      ]
     },
     "execution_count": 6,
     "metadata": {},
     "output_type": "execute_result"
    },
    {
     "data": {
      "text/plain": [
       "'C:\\\\Users\\\\fralu\\\\Documents\\\\GitHub\\\\anndl\\\\image-segmentation\\\\Segmentation_Dataset\\\\training\\\\masks\\\\img\\\\5911.tif'"
      ]
     },
     "execution_count": 6,
     "metadata": {},
     "output_type": "execute_result"
    },
    {
     "data": {
      "text/plain": [
       "'C:\\\\Users\\\\fralu\\\\Documents\\\\GitHub\\\\anndl\\\\image-segmentation\\\\Segmentation_Dataset\\\\training\\\\images\\\\img\\\\5912.tif'"
      ]
     },
     "execution_count": 6,
     "metadata": {},
     "output_type": "execute_result"
    },
    {
     "data": {
      "text/plain": [
       "'C:\\\\Users\\\\fralu\\\\Documents\\\\GitHub\\\\anndl\\\\image-segmentation\\\\Segmentation_Dataset\\\\training\\\\masks\\\\img\\\\5912.tif'"
      ]
     },
     "execution_count": 6,
     "metadata": {},
     "output_type": "execute_result"
    },
    {
     "data": {
      "text/plain": [
       "'C:\\\\Users\\\\fralu\\\\Documents\\\\GitHub\\\\anndl\\\\image-segmentation\\\\Segmentation_Dataset\\\\training\\\\images\\\\img\\\\5914.tif'"
      ]
     },
     "execution_count": 6,
     "metadata": {},
     "output_type": "execute_result"
    },
    {
     "data": {
      "text/plain": [
       "'C:\\\\Users\\\\fralu\\\\Documents\\\\GitHub\\\\anndl\\\\image-segmentation\\\\Segmentation_Dataset\\\\training\\\\masks\\\\img\\\\5914.tif'"
      ]
     },
     "execution_count": 6,
     "metadata": {},
     "output_type": "execute_result"
    },
    {
     "data": {
      "text/plain": [
       "'C:\\\\Users\\\\fralu\\\\Documents\\\\GitHub\\\\anndl\\\\image-segmentation\\\\Segmentation_Dataset\\\\training\\\\images\\\\img\\\\5922.tif'"
      ]
     },
     "execution_count": 6,
     "metadata": {},
     "output_type": "execute_result"
    },
    {
     "data": {
      "text/plain": [
       "'C:\\\\Users\\\\fralu\\\\Documents\\\\GitHub\\\\anndl\\\\image-segmentation\\\\Segmentation_Dataset\\\\training\\\\masks\\\\img\\\\5922.tif'"
      ]
     },
     "execution_count": 6,
     "metadata": {},
     "output_type": "execute_result"
    },
    {
     "data": {
      "text/plain": [
       "'C:\\\\Users\\\\fralu\\\\Documents\\\\GitHub\\\\anndl\\\\image-segmentation\\\\Segmentation_Dataset\\\\training\\\\images\\\\img\\\\5926.tif'"
      ]
     },
     "execution_count": 6,
     "metadata": {},
     "output_type": "execute_result"
    },
    {
     "data": {
      "text/plain": [
       "'C:\\\\Users\\\\fralu\\\\Documents\\\\GitHub\\\\anndl\\\\image-segmentation\\\\Segmentation_Dataset\\\\training\\\\masks\\\\img\\\\5926.tif'"
      ]
     },
     "execution_count": 6,
     "metadata": {},
     "output_type": "execute_result"
    },
    {
     "data": {
      "text/plain": [
       "'C:\\\\Users\\\\fralu\\\\Documents\\\\GitHub\\\\anndl\\\\image-segmentation\\\\Segmentation_Dataset\\\\training\\\\images\\\\img\\\\5932.tif'"
      ]
     },
     "execution_count": 6,
     "metadata": {},
     "output_type": "execute_result"
    },
    {
     "data": {
      "text/plain": [
       "'C:\\\\Users\\\\fralu\\\\Documents\\\\GitHub\\\\anndl\\\\image-segmentation\\\\Segmentation_Dataset\\\\training\\\\masks\\\\img\\\\5932.tif'"
      ]
     },
     "execution_count": 6,
     "metadata": {},
     "output_type": "execute_result"
    },
    {
     "data": {
      "text/plain": [
       "'C:\\\\Users\\\\fralu\\\\Documents\\\\GitHub\\\\anndl\\\\image-segmentation\\\\Segmentation_Dataset\\\\training\\\\images\\\\img\\\\5933.tif'"
      ]
     },
     "execution_count": 6,
     "metadata": {},
     "output_type": "execute_result"
    },
    {
     "data": {
      "text/plain": [
       "'C:\\\\Users\\\\fralu\\\\Documents\\\\GitHub\\\\anndl\\\\image-segmentation\\\\Segmentation_Dataset\\\\training\\\\masks\\\\img\\\\5933.tif'"
      ]
     },
     "execution_count": 6,
     "metadata": {},
     "output_type": "execute_result"
    },
    {
     "data": {
      "text/plain": [
       "'C:\\\\Users\\\\fralu\\\\Documents\\\\GitHub\\\\anndl\\\\image-segmentation\\\\Segmentation_Dataset\\\\training\\\\images\\\\img\\\\5935.tif'"
      ]
     },
     "execution_count": 6,
     "metadata": {},
     "output_type": "execute_result"
    },
    {
     "data": {
      "text/plain": [
       "'C:\\\\Users\\\\fralu\\\\Documents\\\\GitHub\\\\anndl\\\\image-segmentation\\\\Segmentation_Dataset\\\\training\\\\masks\\\\img\\\\5935.tif'"
      ]
     },
     "execution_count": 6,
     "metadata": {},
     "output_type": "execute_result"
    },
    {
     "data": {
      "text/plain": [
       "'C:\\\\Users\\\\fralu\\\\Documents\\\\GitHub\\\\anndl\\\\image-segmentation\\\\Segmentation_Dataset\\\\training\\\\images\\\\img\\\\5941.tif'"
      ]
     },
     "execution_count": 6,
     "metadata": {},
     "output_type": "execute_result"
    },
    {
     "data": {
      "text/plain": [
       "'C:\\\\Users\\\\fralu\\\\Documents\\\\GitHub\\\\anndl\\\\image-segmentation\\\\Segmentation_Dataset\\\\training\\\\masks\\\\img\\\\5941.tif'"
      ]
     },
     "execution_count": 6,
     "metadata": {},
     "output_type": "execute_result"
    },
    {
     "data": {
      "text/plain": [
       "'C:\\\\Users\\\\fralu\\\\Documents\\\\GitHub\\\\anndl\\\\image-segmentation\\\\Segmentation_Dataset\\\\training\\\\images\\\\img\\\\5946.tif'"
      ]
     },
     "execution_count": 6,
     "metadata": {},
     "output_type": "execute_result"
    },
    {
     "data": {
      "text/plain": [
       "'C:\\\\Users\\\\fralu\\\\Documents\\\\GitHub\\\\anndl\\\\image-segmentation\\\\Segmentation_Dataset\\\\training\\\\masks\\\\img\\\\5946.tif'"
      ]
     },
     "execution_count": 6,
     "metadata": {},
     "output_type": "execute_result"
    },
    {
     "data": {
      "text/plain": [
       "'C:\\\\Users\\\\fralu\\\\Documents\\\\GitHub\\\\anndl\\\\image-segmentation\\\\Segmentation_Dataset\\\\training\\\\images\\\\img\\\\5950.tif'"
      ]
     },
     "execution_count": 6,
     "metadata": {},
     "output_type": "execute_result"
    },
    {
     "data": {
      "text/plain": [
       "'C:\\\\Users\\\\fralu\\\\Documents\\\\GitHub\\\\anndl\\\\image-segmentation\\\\Segmentation_Dataset\\\\training\\\\masks\\\\img\\\\5950.tif'"
      ]
     },
     "execution_count": 6,
     "metadata": {},
     "output_type": "execute_result"
    },
    {
     "data": {
      "text/plain": [
       "'C:\\\\Users\\\\fralu\\\\Documents\\\\GitHub\\\\anndl\\\\image-segmentation\\\\Segmentation_Dataset\\\\training\\\\images\\\\img\\\\5958.tif'"
      ]
     },
     "execution_count": 6,
     "metadata": {},
     "output_type": "execute_result"
    },
    {
     "data": {
      "text/plain": [
       "'C:\\\\Users\\\\fralu\\\\Documents\\\\GitHub\\\\anndl\\\\image-segmentation\\\\Segmentation_Dataset\\\\training\\\\masks\\\\img\\\\5958.tif'"
      ]
     },
     "execution_count": 6,
     "metadata": {},
     "output_type": "execute_result"
    },
    {
     "data": {
      "text/plain": [
       "'C:\\\\Users\\\\fralu\\\\Documents\\\\GitHub\\\\anndl\\\\image-segmentation\\\\Segmentation_Dataset\\\\training\\\\images\\\\img\\\\5960.tif'"
      ]
     },
     "execution_count": 6,
     "metadata": {},
     "output_type": "execute_result"
    },
    {
     "data": {
      "text/plain": [
       "'C:\\\\Users\\\\fralu\\\\Documents\\\\GitHub\\\\anndl\\\\image-segmentation\\\\Segmentation_Dataset\\\\training\\\\masks\\\\img\\\\5960.tif'"
      ]
     },
     "execution_count": 6,
     "metadata": {},
     "output_type": "execute_result"
    },
    {
     "data": {
      "text/plain": [
       "'C:\\\\Users\\\\fralu\\\\Documents\\\\GitHub\\\\anndl\\\\image-segmentation\\\\Segmentation_Dataset\\\\training\\\\images\\\\img\\\\5965.tif'"
      ]
     },
     "execution_count": 6,
     "metadata": {},
     "output_type": "execute_result"
    },
    {
     "data": {
      "text/plain": [
       "'C:\\\\Users\\\\fralu\\\\Documents\\\\GitHub\\\\anndl\\\\image-segmentation\\\\Segmentation_Dataset\\\\training\\\\masks\\\\img\\\\5965.tif'"
      ]
     },
     "execution_count": 6,
     "metadata": {},
     "output_type": "execute_result"
    },
    {
     "data": {
      "text/plain": [
       "'C:\\\\Users\\\\fralu\\\\Documents\\\\GitHub\\\\anndl\\\\image-segmentation\\\\Segmentation_Dataset\\\\training\\\\images\\\\img\\\\5969.tif'"
      ]
     },
     "execution_count": 6,
     "metadata": {},
     "output_type": "execute_result"
    },
    {
     "data": {
      "text/plain": [
       "'C:\\\\Users\\\\fralu\\\\Documents\\\\GitHub\\\\anndl\\\\image-segmentation\\\\Segmentation_Dataset\\\\training\\\\masks\\\\img\\\\5969.tif'"
      ]
     },
     "execution_count": 6,
     "metadata": {},
     "output_type": "execute_result"
    },
    {
     "data": {
      "text/plain": [
       "'C:\\\\Users\\\\fralu\\\\Documents\\\\GitHub\\\\anndl\\\\image-segmentation\\\\Segmentation_Dataset\\\\training\\\\images\\\\img\\\\597.tif'"
      ]
     },
     "execution_count": 6,
     "metadata": {},
     "output_type": "execute_result"
    },
    {
     "data": {
      "text/plain": [
       "'C:\\\\Users\\\\fralu\\\\Documents\\\\GitHub\\\\anndl\\\\image-segmentation\\\\Segmentation_Dataset\\\\training\\\\masks\\\\img\\\\597.tif'"
      ]
     },
     "execution_count": 6,
     "metadata": {},
     "output_type": "execute_result"
    },
    {
     "data": {
      "text/plain": [
       "'C:\\\\Users\\\\fralu\\\\Documents\\\\GitHub\\\\anndl\\\\image-segmentation\\\\Segmentation_Dataset\\\\training\\\\images\\\\img\\\\5972.tif'"
      ]
     },
     "execution_count": 6,
     "metadata": {},
     "output_type": "execute_result"
    },
    {
     "data": {
      "text/plain": [
       "'C:\\\\Users\\\\fralu\\\\Documents\\\\GitHub\\\\anndl\\\\image-segmentation\\\\Segmentation_Dataset\\\\training\\\\masks\\\\img\\\\5972.tif'"
      ]
     },
     "execution_count": 6,
     "metadata": {},
     "output_type": "execute_result"
    },
    {
     "data": {
      "text/plain": [
       "'C:\\\\Users\\\\fralu\\\\Documents\\\\GitHub\\\\anndl\\\\image-segmentation\\\\Segmentation_Dataset\\\\training\\\\images\\\\img\\\\5973.tif'"
      ]
     },
     "execution_count": 6,
     "metadata": {},
     "output_type": "execute_result"
    },
    {
     "data": {
      "text/plain": [
       "'C:\\\\Users\\\\fralu\\\\Documents\\\\GitHub\\\\anndl\\\\image-segmentation\\\\Segmentation_Dataset\\\\training\\\\masks\\\\img\\\\5973.tif'"
      ]
     },
     "execution_count": 6,
     "metadata": {},
     "output_type": "execute_result"
    },
    {
     "data": {
      "text/plain": [
       "'C:\\\\Users\\\\fralu\\\\Documents\\\\GitHub\\\\anndl\\\\image-segmentation\\\\Segmentation_Dataset\\\\training\\\\images\\\\img\\\\5980.tif'"
      ]
     },
     "execution_count": 6,
     "metadata": {},
     "output_type": "execute_result"
    },
    {
     "data": {
      "text/plain": [
       "'C:\\\\Users\\\\fralu\\\\Documents\\\\GitHub\\\\anndl\\\\image-segmentation\\\\Segmentation_Dataset\\\\training\\\\masks\\\\img\\\\5980.tif'"
      ]
     },
     "execution_count": 6,
     "metadata": {},
     "output_type": "execute_result"
    },
    {
     "data": {
      "text/plain": [
       "'C:\\\\Users\\\\fralu\\\\Documents\\\\GitHub\\\\anndl\\\\image-segmentation\\\\Segmentation_Dataset\\\\training\\\\images\\\\img\\\\5985.tif'"
      ]
     },
     "execution_count": 6,
     "metadata": {},
     "output_type": "execute_result"
    },
    {
     "data": {
      "text/plain": [
       "'C:\\\\Users\\\\fralu\\\\Documents\\\\GitHub\\\\anndl\\\\image-segmentation\\\\Segmentation_Dataset\\\\training\\\\masks\\\\img\\\\5985.tif'"
      ]
     },
     "execution_count": 6,
     "metadata": {},
     "output_type": "execute_result"
    },
    {
     "data": {
      "text/plain": [
       "'C:\\\\Users\\\\fralu\\\\Documents\\\\GitHub\\\\anndl\\\\image-segmentation\\\\Segmentation_Dataset\\\\training\\\\images\\\\img\\\\5997.tif'"
      ]
     },
     "execution_count": 6,
     "metadata": {},
     "output_type": "execute_result"
    },
    {
     "data": {
      "text/plain": [
       "'C:\\\\Users\\\\fralu\\\\Documents\\\\GitHub\\\\anndl\\\\image-segmentation\\\\Segmentation_Dataset\\\\training\\\\masks\\\\img\\\\5997.tif'"
      ]
     },
     "execution_count": 6,
     "metadata": {},
     "output_type": "execute_result"
    },
    {
     "data": {
      "text/plain": [
       "'C:\\\\Users\\\\fralu\\\\Documents\\\\GitHub\\\\anndl\\\\image-segmentation\\\\Segmentation_Dataset\\\\training\\\\images\\\\img\\\\6001.tif'"
      ]
     },
     "execution_count": 6,
     "metadata": {},
     "output_type": "execute_result"
    },
    {
     "data": {
      "text/plain": [
       "'C:\\\\Users\\\\fralu\\\\Documents\\\\GitHub\\\\anndl\\\\image-segmentation\\\\Segmentation_Dataset\\\\training\\\\masks\\\\img\\\\6001.tif'"
      ]
     },
     "execution_count": 6,
     "metadata": {},
     "output_type": "execute_result"
    },
    {
     "data": {
      "text/plain": [
       "'C:\\\\Users\\\\fralu\\\\Documents\\\\GitHub\\\\anndl\\\\image-segmentation\\\\Segmentation_Dataset\\\\training\\\\images\\\\img\\\\6002.tif'"
      ]
     },
     "execution_count": 6,
     "metadata": {},
     "output_type": "execute_result"
    },
    {
     "data": {
      "text/plain": [
       "'C:\\\\Users\\\\fralu\\\\Documents\\\\GitHub\\\\anndl\\\\image-segmentation\\\\Segmentation_Dataset\\\\training\\\\masks\\\\img\\\\6002.tif'"
      ]
     },
     "execution_count": 6,
     "metadata": {},
     "output_type": "execute_result"
    },
    {
     "data": {
      "text/plain": [
       "'C:\\\\Users\\\\fralu\\\\Documents\\\\GitHub\\\\anndl\\\\image-segmentation\\\\Segmentation_Dataset\\\\training\\\\images\\\\img\\\\6005.tif'"
      ]
     },
     "execution_count": 6,
     "metadata": {},
     "output_type": "execute_result"
    },
    {
     "data": {
      "text/plain": [
       "'C:\\\\Users\\\\fralu\\\\Documents\\\\GitHub\\\\anndl\\\\image-segmentation\\\\Segmentation_Dataset\\\\training\\\\masks\\\\img\\\\6005.tif'"
      ]
     },
     "execution_count": 6,
     "metadata": {},
     "output_type": "execute_result"
    },
    {
     "data": {
      "text/plain": [
       "'C:\\\\Users\\\\fralu\\\\Documents\\\\GitHub\\\\anndl\\\\image-segmentation\\\\Segmentation_Dataset\\\\training\\\\images\\\\img\\\\6016.tif'"
      ]
     },
     "execution_count": 6,
     "metadata": {},
     "output_type": "execute_result"
    },
    {
     "data": {
      "text/plain": [
       "'C:\\\\Users\\\\fralu\\\\Documents\\\\GitHub\\\\anndl\\\\image-segmentation\\\\Segmentation_Dataset\\\\training\\\\masks\\\\img\\\\6016.tif'"
      ]
     },
     "execution_count": 6,
     "metadata": {},
     "output_type": "execute_result"
    },
    {
     "data": {
      "text/plain": [
       "'C:\\\\Users\\\\fralu\\\\Documents\\\\GitHub\\\\anndl\\\\image-segmentation\\\\Segmentation_Dataset\\\\training\\\\images\\\\img\\\\602.tif'"
      ]
     },
     "execution_count": 6,
     "metadata": {},
     "output_type": "execute_result"
    },
    {
     "data": {
      "text/plain": [
       "'C:\\\\Users\\\\fralu\\\\Documents\\\\GitHub\\\\anndl\\\\image-segmentation\\\\Segmentation_Dataset\\\\training\\\\masks\\\\img\\\\602.tif'"
      ]
     },
     "execution_count": 6,
     "metadata": {},
     "output_type": "execute_result"
    },
    {
     "data": {
      "text/plain": [
       "'C:\\\\Users\\\\fralu\\\\Documents\\\\GitHub\\\\anndl\\\\image-segmentation\\\\Segmentation_Dataset\\\\training\\\\images\\\\img\\\\6020.tif'"
      ]
     },
     "execution_count": 6,
     "metadata": {},
     "output_type": "execute_result"
    },
    {
     "data": {
      "text/plain": [
       "'C:\\\\Users\\\\fralu\\\\Documents\\\\GitHub\\\\anndl\\\\image-segmentation\\\\Segmentation_Dataset\\\\training\\\\masks\\\\img\\\\6020.tif'"
      ]
     },
     "execution_count": 6,
     "metadata": {},
     "output_type": "execute_result"
    },
    {
     "data": {
      "text/plain": [
       "'C:\\\\Users\\\\fralu\\\\Documents\\\\GitHub\\\\anndl\\\\image-segmentation\\\\Segmentation_Dataset\\\\training\\\\images\\\\img\\\\6022.tif'"
      ]
     },
     "execution_count": 6,
     "metadata": {},
     "output_type": "execute_result"
    },
    {
     "data": {
      "text/plain": [
       "'C:\\\\Users\\\\fralu\\\\Documents\\\\GitHub\\\\anndl\\\\image-segmentation\\\\Segmentation_Dataset\\\\training\\\\masks\\\\img\\\\6022.tif'"
      ]
     },
     "execution_count": 6,
     "metadata": {},
     "output_type": "execute_result"
    },
    {
     "data": {
      "text/plain": [
       "'C:\\\\Users\\\\fralu\\\\Documents\\\\GitHub\\\\anndl\\\\image-segmentation\\\\Segmentation_Dataset\\\\training\\\\images\\\\img\\\\6030.tif'"
      ]
     },
     "execution_count": 6,
     "metadata": {},
     "output_type": "execute_result"
    },
    {
     "data": {
      "text/plain": [
       "'C:\\\\Users\\\\fralu\\\\Documents\\\\GitHub\\\\anndl\\\\image-segmentation\\\\Segmentation_Dataset\\\\training\\\\masks\\\\img\\\\6030.tif'"
      ]
     },
     "execution_count": 6,
     "metadata": {},
     "output_type": "execute_result"
    },
    {
     "data": {
      "text/plain": [
       "'C:\\\\Users\\\\fralu\\\\Documents\\\\GitHub\\\\anndl\\\\image-segmentation\\\\Segmentation_Dataset\\\\training\\\\images\\\\img\\\\6034.tif'"
      ]
     },
     "execution_count": 6,
     "metadata": {},
     "output_type": "execute_result"
    },
    {
     "data": {
      "text/plain": [
       "'C:\\\\Users\\\\fralu\\\\Documents\\\\GitHub\\\\anndl\\\\image-segmentation\\\\Segmentation_Dataset\\\\training\\\\masks\\\\img\\\\6034.tif'"
      ]
     },
     "execution_count": 6,
     "metadata": {},
     "output_type": "execute_result"
    },
    {
     "data": {
      "text/plain": [
       "'C:\\\\Users\\\\fralu\\\\Documents\\\\GitHub\\\\anndl\\\\image-segmentation\\\\Segmentation_Dataset\\\\training\\\\images\\\\img\\\\604.tif'"
      ]
     },
     "execution_count": 6,
     "metadata": {},
     "output_type": "execute_result"
    },
    {
     "data": {
      "text/plain": [
       "'C:\\\\Users\\\\fralu\\\\Documents\\\\GitHub\\\\anndl\\\\image-segmentation\\\\Segmentation_Dataset\\\\training\\\\masks\\\\img\\\\604.tif'"
      ]
     },
     "execution_count": 6,
     "metadata": {},
     "output_type": "execute_result"
    },
    {
     "data": {
      "text/plain": [
       "'C:\\\\Users\\\\fralu\\\\Documents\\\\GitHub\\\\anndl\\\\image-segmentation\\\\Segmentation_Dataset\\\\training\\\\images\\\\img\\\\605.tif'"
      ]
     },
     "execution_count": 6,
     "metadata": {},
     "output_type": "execute_result"
    },
    {
     "data": {
      "text/plain": [
       "'C:\\\\Users\\\\fralu\\\\Documents\\\\GitHub\\\\anndl\\\\image-segmentation\\\\Segmentation_Dataset\\\\training\\\\masks\\\\img\\\\605.tif'"
      ]
     },
     "execution_count": 6,
     "metadata": {},
     "output_type": "execute_result"
    },
    {
     "data": {
      "text/plain": [
       "'C:\\\\Users\\\\fralu\\\\Documents\\\\GitHub\\\\anndl\\\\image-segmentation\\\\Segmentation_Dataset\\\\training\\\\images\\\\img\\\\6080.tif'"
      ]
     },
     "execution_count": 6,
     "metadata": {},
     "output_type": "execute_result"
    },
    {
     "data": {
      "text/plain": [
       "'C:\\\\Users\\\\fralu\\\\Documents\\\\GitHub\\\\anndl\\\\image-segmentation\\\\Segmentation_Dataset\\\\training\\\\masks\\\\img\\\\6080.tif'"
      ]
     },
     "execution_count": 6,
     "metadata": {},
     "output_type": "execute_result"
    },
    {
     "data": {
      "text/plain": [
       "'C:\\\\Users\\\\fralu\\\\Documents\\\\GitHub\\\\anndl\\\\image-segmentation\\\\Segmentation_Dataset\\\\training\\\\images\\\\img\\\\6083.tif'"
      ]
     },
     "execution_count": 6,
     "metadata": {},
     "output_type": "execute_result"
    },
    {
     "data": {
      "text/plain": [
       "'C:\\\\Users\\\\fralu\\\\Documents\\\\GitHub\\\\anndl\\\\image-segmentation\\\\Segmentation_Dataset\\\\training\\\\masks\\\\img\\\\6083.tif'"
      ]
     },
     "execution_count": 6,
     "metadata": {},
     "output_type": "execute_result"
    },
    {
     "data": {
      "text/plain": [
       "'C:\\\\Users\\\\fralu\\\\Documents\\\\GitHub\\\\anndl\\\\image-segmentation\\\\Segmentation_Dataset\\\\training\\\\images\\\\img\\\\6085.tif'"
      ]
     },
     "execution_count": 6,
     "metadata": {},
     "output_type": "execute_result"
    },
    {
     "data": {
      "text/plain": [
       "'C:\\\\Users\\\\fralu\\\\Documents\\\\GitHub\\\\anndl\\\\image-segmentation\\\\Segmentation_Dataset\\\\training\\\\masks\\\\img\\\\6085.tif'"
      ]
     },
     "execution_count": 6,
     "metadata": {},
     "output_type": "execute_result"
    },
    {
     "data": {
      "text/plain": [
       "'C:\\\\Users\\\\fralu\\\\Documents\\\\GitHub\\\\anndl\\\\image-segmentation\\\\Segmentation_Dataset\\\\training\\\\images\\\\img\\\\6087.tif'"
      ]
     },
     "execution_count": 6,
     "metadata": {},
     "output_type": "execute_result"
    },
    {
     "data": {
      "text/plain": [
       "'C:\\\\Users\\\\fralu\\\\Documents\\\\GitHub\\\\anndl\\\\image-segmentation\\\\Segmentation_Dataset\\\\training\\\\masks\\\\img\\\\6087.tif'"
      ]
     },
     "execution_count": 6,
     "metadata": {},
     "output_type": "execute_result"
    },
    {
     "data": {
      "text/plain": [
       "'C:\\\\Users\\\\fralu\\\\Documents\\\\GitHub\\\\anndl\\\\image-segmentation\\\\Segmentation_Dataset\\\\training\\\\images\\\\img\\\\6089.tif'"
      ]
     },
     "execution_count": 6,
     "metadata": {},
     "output_type": "execute_result"
    },
    {
     "data": {
      "text/plain": [
       "'C:\\\\Users\\\\fralu\\\\Documents\\\\GitHub\\\\anndl\\\\image-segmentation\\\\Segmentation_Dataset\\\\training\\\\masks\\\\img\\\\6089.tif'"
      ]
     },
     "execution_count": 6,
     "metadata": {},
     "output_type": "execute_result"
    },
    {
     "data": {
      "text/plain": [
       "'C:\\\\Users\\\\fralu\\\\Documents\\\\GitHub\\\\anndl\\\\image-segmentation\\\\Segmentation_Dataset\\\\training\\\\images\\\\img\\\\6097.tif'"
      ]
     },
     "execution_count": 6,
     "metadata": {},
     "output_type": "execute_result"
    },
    {
     "data": {
      "text/plain": [
       "'C:\\\\Users\\\\fralu\\\\Documents\\\\GitHub\\\\anndl\\\\image-segmentation\\\\Segmentation_Dataset\\\\training\\\\masks\\\\img\\\\6097.tif'"
      ]
     },
     "execution_count": 6,
     "metadata": {},
     "output_type": "execute_result"
    },
    {
     "data": {
      "text/plain": [
       "'C:\\\\Users\\\\fralu\\\\Documents\\\\GitHub\\\\anndl\\\\image-segmentation\\\\Segmentation_Dataset\\\\training\\\\images\\\\img\\\\6098.tif'"
      ]
     },
     "execution_count": 6,
     "metadata": {},
     "output_type": "execute_result"
    },
    {
     "data": {
      "text/plain": [
       "'C:\\\\Users\\\\fralu\\\\Documents\\\\GitHub\\\\anndl\\\\image-segmentation\\\\Segmentation_Dataset\\\\training\\\\masks\\\\img\\\\6098.tif'"
      ]
     },
     "execution_count": 6,
     "metadata": {},
     "output_type": "execute_result"
    },
    {
     "data": {
      "text/plain": [
       "'C:\\\\Users\\\\fralu\\\\Documents\\\\GitHub\\\\anndl\\\\image-segmentation\\\\Segmentation_Dataset\\\\training\\\\images\\\\img\\\\61.tif'"
      ]
     },
     "execution_count": 6,
     "metadata": {},
     "output_type": "execute_result"
    },
    {
     "data": {
      "text/plain": [
       "'C:\\\\Users\\\\fralu\\\\Documents\\\\GitHub\\\\anndl\\\\image-segmentation\\\\Segmentation_Dataset\\\\training\\\\masks\\\\img\\\\61.tif'"
      ]
     },
     "execution_count": 6,
     "metadata": {},
     "output_type": "execute_result"
    },
    {
     "data": {
      "text/plain": [
       "'C:\\\\Users\\\\fralu\\\\Documents\\\\GitHub\\\\anndl\\\\image-segmentation\\\\Segmentation_Dataset\\\\training\\\\images\\\\img\\\\611.tif'"
      ]
     },
     "execution_count": 6,
     "metadata": {},
     "output_type": "execute_result"
    },
    {
     "data": {
      "text/plain": [
       "'C:\\\\Users\\\\fralu\\\\Documents\\\\GitHub\\\\anndl\\\\image-segmentation\\\\Segmentation_Dataset\\\\training\\\\masks\\\\img\\\\611.tif'"
      ]
     },
     "execution_count": 6,
     "metadata": {},
     "output_type": "execute_result"
    },
    {
     "data": {
      "text/plain": [
       "'C:\\\\Users\\\\fralu\\\\Documents\\\\GitHub\\\\anndl\\\\image-segmentation\\\\Segmentation_Dataset\\\\training\\\\images\\\\img\\\\6120.tif'"
      ]
     },
     "execution_count": 6,
     "metadata": {},
     "output_type": "execute_result"
    },
    {
     "data": {
      "text/plain": [
       "'C:\\\\Users\\\\fralu\\\\Documents\\\\GitHub\\\\anndl\\\\image-segmentation\\\\Segmentation_Dataset\\\\training\\\\masks\\\\img\\\\6120.tif'"
      ]
     },
     "execution_count": 6,
     "metadata": {},
     "output_type": "execute_result"
    },
    {
     "data": {
      "text/plain": [
       "'C:\\\\Users\\\\fralu\\\\Documents\\\\GitHub\\\\anndl\\\\image-segmentation\\\\Segmentation_Dataset\\\\training\\\\images\\\\img\\\\6126.tif'"
      ]
     },
     "execution_count": 6,
     "metadata": {},
     "output_type": "execute_result"
    },
    {
     "data": {
      "text/plain": [
       "'C:\\\\Users\\\\fralu\\\\Documents\\\\GitHub\\\\anndl\\\\image-segmentation\\\\Segmentation_Dataset\\\\training\\\\masks\\\\img\\\\6126.tif'"
      ]
     },
     "execution_count": 6,
     "metadata": {},
     "output_type": "execute_result"
    },
    {
     "data": {
      "text/plain": [
       "'C:\\\\Users\\\\fralu\\\\Documents\\\\GitHub\\\\anndl\\\\image-segmentation\\\\Segmentation_Dataset\\\\training\\\\images\\\\img\\\\6131.tif'"
      ]
     },
     "execution_count": 6,
     "metadata": {},
     "output_type": "execute_result"
    },
    {
     "data": {
      "text/plain": [
       "'C:\\\\Users\\\\fralu\\\\Documents\\\\GitHub\\\\anndl\\\\image-segmentation\\\\Segmentation_Dataset\\\\training\\\\masks\\\\img\\\\6131.tif'"
      ]
     },
     "execution_count": 6,
     "metadata": {},
     "output_type": "execute_result"
    },
    {
     "data": {
      "text/plain": [
       "'C:\\\\Users\\\\fralu\\\\Documents\\\\GitHub\\\\anndl\\\\image-segmentation\\\\Segmentation_Dataset\\\\training\\\\images\\\\img\\\\6137.tif'"
      ]
     },
     "execution_count": 6,
     "metadata": {},
     "output_type": "execute_result"
    },
    {
     "data": {
      "text/plain": [
       "'C:\\\\Users\\\\fralu\\\\Documents\\\\GitHub\\\\anndl\\\\image-segmentation\\\\Segmentation_Dataset\\\\training\\\\masks\\\\img\\\\6137.tif'"
      ]
     },
     "execution_count": 6,
     "metadata": {},
     "output_type": "execute_result"
    },
    {
     "data": {
      "text/plain": [
       "'C:\\\\Users\\\\fralu\\\\Documents\\\\GitHub\\\\anndl\\\\image-segmentation\\\\Segmentation_Dataset\\\\training\\\\images\\\\img\\\\6144.tif'"
      ]
     },
     "execution_count": 6,
     "metadata": {},
     "output_type": "execute_result"
    },
    {
     "data": {
      "text/plain": [
       "'C:\\\\Users\\\\fralu\\\\Documents\\\\GitHub\\\\anndl\\\\image-segmentation\\\\Segmentation_Dataset\\\\training\\\\masks\\\\img\\\\6144.tif'"
      ]
     },
     "execution_count": 6,
     "metadata": {},
     "output_type": "execute_result"
    },
    {
     "data": {
      "text/plain": [
       "'C:\\\\Users\\\\fralu\\\\Documents\\\\GitHub\\\\anndl\\\\image-segmentation\\\\Segmentation_Dataset\\\\training\\\\images\\\\img\\\\6145.tif'"
      ]
     },
     "execution_count": 6,
     "metadata": {},
     "output_type": "execute_result"
    },
    {
     "data": {
      "text/plain": [
       "'C:\\\\Users\\\\fralu\\\\Documents\\\\GitHub\\\\anndl\\\\image-segmentation\\\\Segmentation_Dataset\\\\training\\\\masks\\\\img\\\\6145.tif'"
      ]
     },
     "execution_count": 6,
     "metadata": {},
     "output_type": "execute_result"
    },
    {
     "data": {
      "text/plain": [
       "'C:\\\\Users\\\\fralu\\\\Documents\\\\GitHub\\\\anndl\\\\image-segmentation\\\\Segmentation_Dataset\\\\training\\\\images\\\\img\\\\6153.tif'"
      ]
     },
     "execution_count": 6,
     "metadata": {},
     "output_type": "execute_result"
    },
    {
     "data": {
      "text/plain": [
       "'C:\\\\Users\\\\fralu\\\\Documents\\\\GitHub\\\\anndl\\\\image-segmentation\\\\Segmentation_Dataset\\\\training\\\\masks\\\\img\\\\6153.tif'"
      ]
     },
     "execution_count": 6,
     "metadata": {},
     "output_type": "execute_result"
    },
    {
     "data": {
      "text/plain": [
       "'C:\\\\Users\\\\fralu\\\\Documents\\\\GitHub\\\\anndl\\\\image-segmentation\\\\Segmentation_Dataset\\\\training\\\\images\\\\img\\\\6156.tif'"
      ]
     },
     "execution_count": 6,
     "metadata": {},
     "output_type": "execute_result"
    },
    {
     "data": {
      "text/plain": [
       "'C:\\\\Users\\\\fralu\\\\Documents\\\\GitHub\\\\anndl\\\\image-segmentation\\\\Segmentation_Dataset\\\\training\\\\masks\\\\img\\\\6156.tif'"
      ]
     },
     "execution_count": 6,
     "metadata": {},
     "output_type": "execute_result"
    },
    {
     "data": {
      "text/plain": [
       "'C:\\\\Users\\\\fralu\\\\Documents\\\\GitHub\\\\anndl\\\\image-segmentation\\\\Segmentation_Dataset\\\\training\\\\images\\\\img\\\\6162.tif'"
      ]
     },
     "execution_count": 6,
     "metadata": {},
     "output_type": "execute_result"
    },
    {
     "data": {
      "text/plain": [
       "'C:\\\\Users\\\\fralu\\\\Documents\\\\GitHub\\\\anndl\\\\image-segmentation\\\\Segmentation_Dataset\\\\training\\\\masks\\\\img\\\\6162.tif'"
      ]
     },
     "execution_count": 6,
     "metadata": {},
     "output_type": "execute_result"
    },
    {
     "data": {
      "text/plain": [
       "'C:\\\\Users\\\\fralu\\\\Documents\\\\GitHub\\\\anndl\\\\image-segmentation\\\\Segmentation_Dataset\\\\training\\\\images\\\\img\\\\6165.tif'"
      ]
     },
     "execution_count": 6,
     "metadata": {},
     "output_type": "execute_result"
    },
    {
     "data": {
      "text/plain": [
       "'C:\\\\Users\\\\fralu\\\\Documents\\\\GitHub\\\\anndl\\\\image-segmentation\\\\Segmentation_Dataset\\\\training\\\\masks\\\\img\\\\6165.tif'"
      ]
     },
     "execution_count": 6,
     "metadata": {},
     "output_type": "execute_result"
    },
    {
     "data": {
      "text/plain": [
       "'C:\\\\Users\\\\fralu\\\\Documents\\\\GitHub\\\\anndl\\\\image-segmentation\\\\Segmentation_Dataset\\\\training\\\\images\\\\img\\\\6171.tif'"
      ]
     },
     "execution_count": 6,
     "metadata": {},
     "output_type": "execute_result"
    },
    {
     "data": {
      "text/plain": [
       "'C:\\\\Users\\\\fralu\\\\Documents\\\\GitHub\\\\anndl\\\\image-segmentation\\\\Segmentation_Dataset\\\\training\\\\masks\\\\img\\\\6171.tif'"
      ]
     },
     "execution_count": 6,
     "metadata": {},
     "output_type": "execute_result"
    },
    {
     "data": {
      "text/plain": [
       "'C:\\\\Users\\\\fralu\\\\Documents\\\\GitHub\\\\anndl\\\\image-segmentation\\\\Segmentation_Dataset\\\\training\\\\images\\\\img\\\\6177.tif'"
      ]
     },
     "execution_count": 6,
     "metadata": {},
     "output_type": "execute_result"
    },
    {
     "data": {
      "text/plain": [
       "'C:\\\\Users\\\\fralu\\\\Documents\\\\GitHub\\\\anndl\\\\image-segmentation\\\\Segmentation_Dataset\\\\training\\\\masks\\\\img\\\\6177.tif'"
      ]
     },
     "execution_count": 6,
     "metadata": {},
     "output_type": "execute_result"
    },
    {
     "data": {
      "text/plain": [
       "'C:\\\\Users\\\\fralu\\\\Documents\\\\GitHub\\\\anndl\\\\image-segmentation\\\\Segmentation_Dataset\\\\training\\\\images\\\\img\\\\6178.tif'"
      ]
     },
     "execution_count": 6,
     "metadata": {},
     "output_type": "execute_result"
    },
    {
     "data": {
      "text/plain": [
       "'C:\\\\Users\\\\fralu\\\\Documents\\\\GitHub\\\\anndl\\\\image-segmentation\\\\Segmentation_Dataset\\\\training\\\\masks\\\\img\\\\6178.tif'"
      ]
     },
     "execution_count": 6,
     "metadata": {},
     "output_type": "execute_result"
    },
    {
     "data": {
      "text/plain": [
       "'C:\\\\Users\\\\fralu\\\\Documents\\\\GitHub\\\\anndl\\\\image-segmentation\\\\Segmentation_Dataset\\\\training\\\\images\\\\img\\\\6183.tif'"
      ]
     },
     "execution_count": 6,
     "metadata": {},
     "output_type": "execute_result"
    },
    {
     "data": {
      "text/plain": [
       "'C:\\\\Users\\\\fralu\\\\Documents\\\\GitHub\\\\anndl\\\\image-segmentation\\\\Segmentation_Dataset\\\\training\\\\masks\\\\img\\\\6183.tif'"
      ]
     },
     "execution_count": 6,
     "metadata": {},
     "output_type": "execute_result"
    },
    {
     "data": {
      "text/plain": [
       "'C:\\\\Users\\\\fralu\\\\Documents\\\\GitHub\\\\anndl\\\\image-segmentation\\\\Segmentation_Dataset\\\\training\\\\images\\\\img\\\\6184.tif'"
      ]
     },
     "execution_count": 6,
     "metadata": {},
     "output_type": "execute_result"
    },
    {
     "data": {
      "text/plain": [
       "'C:\\\\Users\\\\fralu\\\\Documents\\\\GitHub\\\\anndl\\\\image-segmentation\\\\Segmentation_Dataset\\\\training\\\\masks\\\\img\\\\6184.tif'"
      ]
     },
     "execution_count": 6,
     "metadata": {},
     "output_type": "execute_result"
    },
    {
     "data": {
      "text/plain": [
       "'C:\\\\Users\\\\fralu\\\\Documents\\\\GitHub\\\\anndl\\\\image-segmentation\\\\Segmentation_Dataset\\\\training\\\\images\\\\img\\\\6191.tif'"
      ]
     },
     "execution_count": 6,
     "metadata": {},
     "output_type": "execute_result"
    },
    {
     "data": {
      "text/plain": [
       "'C:\\\\Users\\\\fralu\\\\Documents\\\\GitHub\\\\anndl\\\\image-segmentation\\\\Segmentation_Dataset\\\\training\\\\masks\\\\img\\\\6191.tif'"
      ]
     },
     "execution_count": 6,
     "metadata": {},
     "output_type": "execute_result"
    },
    {
     "data": {
      "text/plain": [
       "'C:\\\\Users\\\\fralu\\\\Documents\\\\GitHub\\\\anndl\\\\image-segmentation\\\\Segmentation_Dataset\\\\training\\\\images\\\\img\\\\6193.tif'"
      ]
     },
     "execution_count": 6,
     "metadata": {},
     "output_type": "execute_result"
    },
    {
     "data": {
      "text/plain": [
       "'C:\\\\Users\\\\fralu\\\\Documents\\\\GitHub\\\\anndl\\\\image-segmentation\\\\Segmentation_Dataset\\\\training\\\\masks\\\\img\\\\6193.tif'"
      ]
     },
     "execution_count": 6,
     "metadata": {},
     "output_type": "execute_result"
    },
    {
     "data": {
      "text/plain": [
       "'C:\\\\Users\\\\fralu\\\\Documents\\\\GitHub\\\\anndl\\\\image-segmentation\\\\Segmentation_Dataset\\\\training\\\\images\\\\img\\\\6199.tif'"
      ]
     },
     "execution_count": 6,
     "metadata": {},
     "output_type": "execute_result"
    },
    {
     "data": {
      "text/plain": [
       "'C:\\\\Users\\\\fralu\\\\Documents\\\\GitHub\\\\anndl\\\\image-segmentation\\\\Segmentation_Dataset\\\\training\\\\masks\\\\img\\\\6199.tif'"
      ]
     },
     "execution_count": 6,
     "metadata": {},
     "output_type": "execute_result"
    },
    {
     "data": {
      "text/plain": [
       "'C:\\\\Users\\\\fralu\\\\Documents\\\\GitHub\\\\anndl\\\\image-segmentation\\\\Segmentation_Dataset\\\\training\\\\images\\\\img\\\\62.tif'"
      ]
     },
     "execution_count": 6,
     "metadata": {},
     "output_type": "execute_result"
    },
    {
     "data": {
      "text/plain": [
       "'C:\\\\Users\\\\fralu\\\\Documents\\\\GitHub\\\\anndl\\\\image-segmentation\\\\Segmentation_Dataset\\\\training\\\\masks\\\\img\\\\62.tif'"
      ]
     },
     "execution_count": 6,
     "metadata": {},
     "output_type": "execute_result"
    },
    {
     "data": {
      "text/plain": [
       "'C:\\\\Users\\\\fralu\\\\Documents\\\\GitHub\\\\anndl\\\\image-segmentation\\\\Segmentation_Dataset\\\\training\\\\images\\\\img\\\\620.tif'"
      ]
     },
     "execution_count": 6,
     "metadata": {},
     "output_type": "execute_result"
    },
    {
     "data": {
      "text/plain": [
       "'C:\\\\Users\\\\fralu\\\\Documents\\\\GitHub\\\\anndl\\\\image-segmentation\\\\Segmentation_Dataset\\\\training\\\\masks\\\\img\\\\620.tif'"
      ]
     },
     "execution_count": 6,
     "metadata": {},
     "output_type": "execute_result"
    },
    {
     "data": {
      "text/plain": [
       "'C:\\\\Users\\\\fralu\\\\Documents\\\\GitHub\\\\anndl\\\\image-segmentation\\\\Segmentation_Dataset\\\\training\\\\images\\\\img\\\\6212.tif'"
      ]
     },
     "execution_count": 6,
     "metadata": {},
     "output_type": "execute_result"
    },
    {
     "data": {
      "text/plain": [
       "'C:\\\\Users\\\\fralu\\\\Documents\\\\GitHub\\\\anndl\\\\image-segmentation\\\\Segmentation_Dataset\\\\training\\\\masks\\\\img\\\\6212.tif'"
      ]
     },
     "execution_count": 6,
     "metadata": {},
     "output_type": "execute_result"
    },
    {
     "data": {
      "text/plain": [
       "'C:\\\\Users\\\\fralu\\\\Documents\\\\GitHub\\\\anndl\\\\image-segmentation\\\\Segmentation_Dataset\\\\training\\\\images\\\\img\\\\6213.tif'"
      ]
     },
     "execution_count": 6,
     "metadata": {},
     "output_type": "execute_result"
    },
    {
     "data": {
      "text/plain": [
       "'C:\\\\Users\\\\fralu\\\\Documents\\\\GitHub\\\\anndl\\\\image-segmentation\\\\Segmentation_Dataset\\\\training\\\\masks\\\\img\\\\6213.tif'"
      ]
     },
     "execution_count": 6,
     "metadata": {},
     "output_type": "execute_result"
    },
    {
     "data": {
      "text/plain": [
       "'C:\\\\Users\\\\fralu\\\\Documents\\\\GitHub\\\\anndl\\\\image-segmentation\\\\Segmentation_Dataset\\\\training\\\\images\\\\img\\\\6221.tif'"
      ]
     },
     "execution_count": 6,
     "metadata": {},
     "output_type": "execute_result"
    },
    {
     "data": {
      "text/plain": [
       "'C:\\\\Users\\\\fralu\\\\Documents\\\\GitHub\\\\anndl\\\\image-segmentation\\\\Segmentation_Dataset\\\\training\\\\masks\\\\img\\\\6221.tif'"
      ]
     },
     "execution_count": 6,
     "metadata": {},
     "output_type": "execute_result"
    },
    {
     "data": {
      "text/plain": [
       "'C:\\\\Users\\\\fralu\\\\Documents\\\\GitHub\\\\anndl\\\\image-segmentation\\\\Segmentation_Dataset\\\\training\\\\images\\\\img\\\\6224.tif'"
      ]
     },
     "execution_count": 6,
     "metadata": {},
     "output_type": "execute_result"
    },
    {
     "data": {
      "text/plain": [
       "'C:\\\\Users\\\\fralu\\\\Documents\\\\GitHub\\\\anndl\\\\image-segmentation\\\\Segmentation_Dataset\\\\training\\\\masks\\\\img\\\\6224.tif'"
      ]
     },
     "execution_count": 6,
     "metadata": {},
     "output_type": "execute_result"
    },
    {
     "data": {
      "text/plain": [
       "'C:\\\\Users\\\\fralu\\\\Documents\\\\GitHub\\\\anndl\\\\image-segmentation\\\\Segmentation_Dataset\\\\training\\\\images\\\\img\\\\6229.tif'"
      ]
     },
     "execution_count": 6,
     "metadata": {},
     "output_type": "execute_result"
    },
    {
     "data": {
      "text/plain": [
       "'C:\\\\Users\\\\fralu\\\\Documents\\\\GitHub\\\\anndl\\\\image-segmentation\\\\Segmentation_Dataset\\\\training\\\\masks\\\\img\\\\6229.tif'"
      ]
     },
     "execution_count": 6,
     "metadata": {},
     "output_type": "execute_result"
    },
    {
     "data": {
      "text/plain": [
       "'C:\\\\Users\\\\fralu\\\\Documents\\\\GitHub\\\\anndl\\\\image-segmentation\\\\Segmentation_Dataset\\\\training\\\\images\\\\img\\\\623.tif'"
      ]
     },
     "execution_count": 6,
     "metadata": {},
     "output_type": "execute_result"
    },
    {
     "data": {
      "text/plain": [
       "'C:\\\\Users\\\\fralu\\\\Documents\\\\GitHub\\\\anndl\\\\image-segmentation\\\\Segmentation_Dataset\\\\training\\\\masks\\\\img\\\\623.tif'"
      ]
     },
     "execution_count": 6,
     "metadata": {},
     "output_type": "execute_result"
    },
    {
     "data": {
      "text/plain": [
       "'C:\\\\Users\\\\fralu\\\\Documents\\\\GitHub\\\\anndl\\\\image-segmentation\\\\Segmentation_Dataset\\\\training\\\\images\\\\img\\\\6240.tif'"
      ]
     },
     "execution_count": 6,
     "metadata": {},
     "output_type": "execute_result"
    },
    {
     "data": {
      "text/plain": [
       "'C:\\\\Users\\\\fralu\\\\Documents\\\\GitHub\\\\anndl\\\\image-segmentation\\\\Segmentation_Dataset\\\\training\\\\masks\\\\img\\\\6240.tif'"
      ]
     },
     "execution_count": 6,
     "metadata": {},
     "output_type": "execute_result"
    },
    {
     "data": {
      "text/plain": [
       "'C:\\\\Users\\\\fralu\\\\Documents\\\\GitHub\\\\anndl\\\\image-segmentation\\\\Segmentation_Dataset\\\\training\\\\images\\\\img\\\\6244.tif'"
      ]
     },
     "execution_count": 6,
     "metadata": {},
     "output_type": "execute_result"
    },
    {
     "data": {
      "text/plain": [
       "'C:\\\\Users\\\\fralu\\\\Documents\\\\GitHub\\\\anndl\\\\image-segmentation\\\\Segmentation_Dataset\\\\training\\\\masks\\\\img\\\\6244.tif'"
      ]
     },
     "execution_count": 6,
     "metadata": {},
     "output_type": "execute_result"
    },
    {
     "data": {
      "text/plain": [
       "'C:\\\\Users\\\\fralu\\\\Documents\\\\GitHub\\\\anndl\\\\image-segmentation\\\\Segmentation_Dataset\\\\training\\\\images\\\\img\\\\6246.tif'"
      ]
     },
     "execution_count": 6,
     "metadata": {},
     "output_type": "execute_result"
    },
    {
     "data": {
      "text/plain": [
       "'C:\\\\Users\\\\fralu\\\\Documents\\\\GitHub\\\\anndl\\\\image-segmentation\\\\Segmentation_Dataset\\\\training\\\\masks\\\\img\\\\6246.tif'"
      ]
     },
     "execution_count": 6,
     "metadata": {},
     "output_type": "execute_result"
    },
    {
     "data": {
      "text/plain": [
       "'C:\\\\Users\\\\fralu\\\\Documents\\\\GitHub\\\\anndl\\\\image-segmentation\\\\Segmentation_Dataset\\\\training\\\\images\\\\img\\\\6254.tif'"
      ]
     },
     "execution_count": 6,
     "metadata": {},
     "output_type": "execute_result"
    },
    {
     "data": {
      "text/plain": [
       "'C:\\\\Users\\\\fralu\\\\Documents\\\\GitHub\\\\anndl\\\\image-segmentation\\\\Segmentation_Dataset\\\\training\\\\masks\\\\img\\\\6254.tif'"
      ]
     },
     "execution_count": 6,
     "metadata": {},
     "output_type": "execute_result"
    },
    {
     "data": {
      "text/plain": [
       "'C:\\\\Users\\\\fralu\\\\Documents\\\\GitHub\\\\anndl\\\\image-segmentation\\\\Segmentation_Dataset\\\\training\\\\images\\\\img\\\\6256.tif'"
      ]
     },
     "execution_count": 6,
     "metadata": {},
     "output_type": "execute_result"
    },
    {
     "data": {
      "text/plain": [
       "'C:\\\\Users\\\\fralu\\\\Documents\\\\GitHub\\\\anndl\\\\image-segmentation\\\\Segmentation_Dataset\\\\training\\\\masks\\\\img\\\\6256.tif'"
      ]
     },
     "execution_count": 6,
     "metadata": {},
     "output_type": "execute_result"
    },
    {
     "data": {
      "text/plain": [
       "'C:\\\\Users\\\\fralu\\\\Documents\\\\GitHub\\\\anndl\\\\image-segmentation\\\\Segmentation_Dataset\\\\training\\\\images\\\\img\\\\6257.tif'"
      ]
     },
     "execution_count": 6,
     "metadata": {},
     "output_type": "execute_result"
    },
    {
     "data": {
      "text/plain": [
       "'C:\\\\Users\\\\fralu\\\\Documents\\\\GitHub\\\\anndl\\\\image-segmentation\\\\Segmentation_Dataset\\\\training\\\\masks\\\\img\\\\6257.tif'"
      ]
     },
     "execution_count": 6,
     "metadata": {},
     "output_type": "execute_result"
    },
    {
     "data": {
      "text/plain": [
       "'C:\\\\Users\\\\fralu\\\\Documents\\\\GitHub\\\\anndl\\\\image-segmentation\\\\Segmentation_Dataset\\\\training\\\\images\\\\img\\\\6258.tif'"
      ]
     },
     "execution_count": 6,
     "metadata": {},
     "output_type": "execute_result"
    },
    {
     "data": {
      "text/plain": [
       "'C:\\\\Users\\\\fralu\\\\Documents\\\\GitHub\\\\anndl\\\\image-segmentation\\\\Segmentation_Dataset\\\\training\\\\masks\\\\img\\\\6258.tif'"
      ]
     },
     "execution_count": 6,
     "metadata": {},
     "output_type": "execute_result"
    },
    {
     "data": {
      "text/plain": [
       "'C:\\\\Users\\\\fralu\\\\Documents\\\\GitHub\\\\anndl\\\\image-segmentation\\\\Segmentation_Dataset\\\\training\\\\images\\\\img\\\\6261.tif'"
      ]
     },
     "execution_count": 6,
     "metadata": {},
     "output_type": "execute_result"
    },
    {
     "data": {
      "text/plain": [
       "'C:\\\\Users\\\\fralu\\\\Documents\\\\GitHub\\\\anndl\\\\image-segmentation\\\\Segmentation_Dataset\\\\training\\\\masks\\\\img\\\\6261.tif'"
      ]
     },
     "execution_count": 6,
     "metadata": {},
     "output_type": "execute_result"
    },
    {
     "data": {
      "text/plain": [
       "'C:\\\\Users\\\\fralu\\\\Documents\\\\GitHub\\\\anndl\\\\image-segmentation\\\\Segmentation_Dataset\\\\training\\\\images\\\\img\\\\6268.tif'"
      ]
     },
     "execution_count": 6,
     "metadata": {},
     "output_type": "execute_result"
    },
    {
     "data": {
      "text/plain": [
       "'C:\\\\Users\\\\fralu\\\\Documents\\\\GitHub\\\\anndl\\\\image-segmentation\\\\Segmentation_Dataset\\\\training\\\\masks\\\\img\\\\6268.tif'"
      ]
     },
     "execution_count": 6,
     "metadata": {},
     "output_type": "execute_result"
    },
    {
     "data": {
      "text/plain": [
       "'C:\\\\Users\\\\fralu\\\\Documents\\\\GitHub\\\\anndl\\\\image-segmentation\\\\Segmentation_Dataset\\\\training\\\\images\\\\img\\\\6272.tif'"
      ]
     },
     "execution_count": 6,
     "metadata": {},
     "output_type": "execute_result"
    },
    {
     "data": {
      "text/plain": [
       "'C:\\\\Users\\\\fralu\\\\Documents\\\\GitHub\\\\anndl\\\\image-segmentation\\\\Segmentation_Dataset\\\\training\\\\masks\\\\img\\\\6272.tif'"
      ]
     },
     "execution_count": 6,
     "metadata": {},
     "output_type": "execute_result"
    },
    {
     "data": {
      "text/plain": [
       "'C:\\\\Users\\\\fralu\\\\Documents\\\\GitHub\\\\anndl\\\\image-segmentation\\\\Segmentation_Dataset\\\\training\\\\images\\\\img\\\\6276.tif'"
      ]
     },
     "execution_count": 6,
     "metadata": {},
     "output_type": "execute_result"
    },
    {
     "data": {
      "text/plain": [
       "'C:\\\\Users\\\\fralu\\\\Documents\\\\GitHub\\\\anndl\\\\image-segmentation\\\\Segmentation_Dataset\\\\training\\\\masks\\\\img\\\\6276.tif'"
      ]
     },
     "execution_count": 6,
     "metadata": {},
     "output_type": "execute_result"
    },
    {
     "data": {
      "text/plain": [
       "'C:\\\\Users\\\\fralu\\\\Documents\\\\GitHub\\\\anndl\\\\image-segmentation\\\\Segmentation_Dataset\\\\training\\\\images\\\\img\\\\6281.tif'"
      ]
     },
     "execution_count": 6,
     "metadata": {},
     "output_type": "execute_result"
    },
    {
     "data": {
      "text/plain": [
       "'C:\\\\Users\\\\fralu\\\\Documents\\\\GitHub\\\\anndl\\\\image-segmentation\\\\Segmentation_Dataset\\\\training\\\\masks\\\\img\\\\6281.tif'"
      ]
     },
     "execution_count": 6,
     "metadata": {},
     "output_type": "execute_result"
    },
    {
     "data": {
      "text/plain": [
       "'C:\\\\Users\\\\fralu\\\\Documents\\\\GitHub\\\\anndl\\\\image-segmentation\\\\Segmentation_Dataset\\\\training\\\\images\\\\img\\\\6286.tif'"
      ]
     },
     "execution_count": 6,
     "metadata": {},
     "output_type": "execute_result"
    },
    {
     "data": {
      "text/plain": [
       "'C:\\\\Users\\\\fralu\\\\Documents\\\\GitHub\\\\anndl\\\\image-segmentation\\\\Segmentation_Dataset\\\\training\\\\masks\\\\img\\\\6286.tif'"
      ]
     },
     "execution_count": 6,
     "metadata": {},
     "output_type": "execute_result"
    },
    {
     "data": {
      "text/plain": [
       "'C:\\\\Users\\\\fralu\\\\Documents\\\\GitHub\\\\anndl\\\\image-segmentation\\\\Segmentation_Dataset\\\\training\\\\images\\\\img\\\\6288.tif'"
      ]
     },
     "execution_count": 6,
     "metadata": {},
     "output_type": "execute_result"
    },
    {
     "data": {
      "text/plain": [
       "'C:\\\\Users\\\\fralu\\\\Documents\\\\GitHub\\\\anndl\\\\image-segmentation\\\\Segmentation_Dataset\\\\training\\\\masks\\\\img\\\\6288.tif'"
      ]
     },
     "execution_count": 6,
     "metadata": {},
     "output_type": "execute_result"
    },
    {
     "data": {
      "text/plain": [
       "'C:\\\\Users\\\\fralu\\\\Documents\\\\GitHub\\\\anndl\\\\image-segmentation\\\\Segmentation_Dataset\\\\training\\\\images\\\\img\\\\6298.tif'"
      ]
     },
     "execution_count": 6,
     "metadata": {},
     "output_type": "execute_result"
    },
    {
     "data": {
      "text/plain": [
       "'C:\\\\Users\\\\fralu\\\\Documents\\\\GitHub\\\\anndl\\\\image-segmentation\\\\Segmentation_Dataset\\\\training\\\\masks\\\\img\\\\6298.tif'"
      ]
     },
     "execution_count": 6,
     "metadata": {},
     "output_type": "execute_result"
    },
    {
     "data": {
      "text/plain": [
       "'C:\\\\Users\\\\fralu\\\\Documents\\\\GitHub\\\\anndl\\\\image-segmentation\\\\Segmentation_Dataset\\\\training\\\\images\\\\img\\\\6300.tif'"
      ]
     },
     "execution_count": 6,
     "metadata": {},
     "output_type": "execute_result"
    },
    {
     "data": {
      "text/plain": [
       "'C:\\\\Users\\\\fralu\\\\Documents\\\\GitHub\\\\anndl\\\\image-segmentation\\\\Segmentation_Dataset\\\\training\\\\masks\\\\img\\\\6300.tif'"
      ]
     },
     "execution_count": 6,
     "metadata": {},
     "output_type": "execute_result"
    },
    {
     "data": {
      "text/plain": [
       "'C:\\\\Users\\\\fralu\\\\Documents\\\\GitHub\\\\anndl\\\\image-segmentation\\\\Segmentation_Dataset\\\\training\\\\images\\\\img\\\\6302.tif'"
      ]
     },
     "execution_count": 6,
     "metadata": {},
     "output_type": "execute_result"
    },
    {
     "data": {
      "text/plain": [
       "'C:\\\\Users\\\\fralu\\\\Documents\\\\GitHub\\\\anndl\\\\image-segmentation\\\\Segmentation_Dataset\\\\training\\\\masks\\\\img\\\\6302.tif'"
      ]
     },
     "execution_count": 6,
     "metadata": {},
     "output_type": "execute_result"
    },
    {
     "data": {
      "text/plain": [
       "'C:\\\\Users\\\\fralu\\\\Documents\\\\GitHub\\\\anndl\\\\image-segmentation\\\\Segmentation_Dataset\\\\training\\\\images\\\\img\\\\6316.tif'"
      ]
     },
     "execution_count": 6,
     "metadata": {},
     "output_type": "execute_result"
    },
    {
     "data": {
      "text/plain": [
       "'C:\\\\Users\\\\fralu\\\\Documents\\\\GitHub\\\\anndl\\\\image-segmentation\\\\Segmentation_Dataset\\\\training\\\\masks\\\\img\\\\6316.tif'"
      ]
     },
     "execution_count": 6,
     "metadata": {},
     "output_type": "execute_result"
    },
    {
     "data": {
      "text/plain": [
       "'C:\\\\Users\\\\fralu\\\\Documents\\\\GitHub\\\\anndl\\\\image-segmentation\\\\Segmentation_Dataset\\\\training\\\\images\\\\img\\\\6323.tif'"
      ]
     },
     "execution_count": 6,
     "metadata": {},
     "output_type": "execute_result"
    },
    {
     "data": {
      "text/plain": [
       "'C:\\\\Users\\\\fralu\\\\Documents\\\\GitHub\\\\anndl\\\\image-segmentation\\\\Segmentation_Dataset\\\\training\\\\masks\\\\img\\\\6323.tif'"
      ]
     },
     "execution_count": 6,
     "metadata": {},
     "output_type": "execute_result"
    },
    {
     "data": {
      "text/plain": [
       "'C:\\\\Users\\\\fralu\\\\Documents\\\\GitHub\\\\anndl\\\\image-segmentation\\\\Segmentation_Dataset\\\\training\\\\images\\\\img\\\\6327.tif'"
      ]
     },
     "execution_count": 6,
     "metadata": {},
     "output_type": "execute_result"
    },
    {
     "data": {
      "text/plain": [
       "'C:\\\\Users\\\\fralu\\\\Documents\\\\GitHub\\\\anndl\\\\image-segmentation\\\\Segmentation_Dataset\\\\training\\\\masks\\\\img\\\\6327.tif'"
      ]
     },
     "execution_count": 6,
     "metadata": {},
     "output_type": "execute_result"
    },
    {
     "data": {
      "text/plain": [
       "'C:\\\\Users\\\\fralu\\\\Documents\\\\GitHub\\\\anndl\\\\image-segmentation\\\\Segmentation_Dataset\\\\training\\\\images\\\\img\\\\6328.tif'"
      ]
     },
     "execution_count": 6,
     "metadata": {},
     "output_type": "execute_result"
    },
    {
     "data": {
      "text/plain": [
       "'C:\\\\Users\\\\fralu\\\\Documents\\\\GitHub\\\\anndl\\\\image-segmentation\\\\Segmentation_Dataset\\\\training\\\\masks\\\\img\\\\6328.tif'"
      ]
     },
     "execution_count": 6,
     "metadata": {},
     "output_type": "execute_result"
    },
    {
     "data": {
      "text/plain": [
       "'C:\\\\Users\\\\fralu\\\\Documents\\\\GitHub\\\\anndl\\\\image-segmentation\\\\Segmentation_Dataset\\\\training\\\\images\\\\img\\\\6332.tif'"
      ]
     },
     "execution_count": 6,
     "metadata": {},
     "output_type": "execute_result"
    },
    {
     "data": {
      "text/plain": [
       "'C:\\\\Users\\\\fralu\\\\Documents\\\\GitHub\\\\anndl\\\\image-segmentation\\\\Segmentation_Dataset\\\\training\\\\masks\\\\img\\\\6332.tif'"
      ]
     },
     "execution_count": 6,
     "metadata": {},
     "output_type": "execute_result"
    },
    {
     "data": {
      "text/plain": [
       "'C:\\\\Users\\\\fralu\\\\Documents\\\\GitHub\\\\anndl\\\\image-segmentation\\\\Segmentation_Dataset\\\\training\\\\images\\\\img\\\\6336.tif'"
      ]
     },
     "execution_count": 6,
     "metadata": {},
     "output_type": "execute_result"
    },
    {
     "data": {
      "text/plain": [
       "'C:\\\\Users\\\\fralu\\\\Documents\\\\GitHub\\\\anndl\\\\image-segmentation\\\\Segmentation_Dataset\\\\training\\\\masks\\\\img\\\\6336.tif'"
      ]
     },
     "execution_count": 6,
     "metadata": {},
     "output_type": "execute_result"
    },
    {
     "data": {
      "text/plain": [
       "'C:\\\\Users\\\\fralu\\\\Documents\\\\GitHub\\\\anndl\\\\image-segmentation\\\\Segmentation_Dataset\\\\training\\\\images\\\\img\\\\6337.tif'"
      ]
     },
     "execution_count": 6,
     "metadata": {},
     "output_type": "execute_result"
    },
    {
     "data": {
      "text/plain": [
       "'C:\\\\Users\\\\fralu\\\\Documents\\\\GitHub\\\\anndl\\\\image-segmentation\\\\Segmentation_Dataset\\\\training\\\\masks\\\\img\\\\6337.tif'"
      ]
     },
     "execution_count": 6,
     "metadata": {},
     "output_type": "execute_result"
    },
    {
     "data": {
      "text/plain": [
       "'C:\\\\Users\\\\fralu\\\\Documents\\\\GitHub\\\\anndl\\\\image-segmentation\\\\Segmentation_Dataset\\\\training\\\\images\\\\img\\\\634.tif'"
      ]
     },
     "execution_count": 6,
     "metadata": {},
     "output_type": "execute_result"
    },
    {
     "data": {
      "text/plain": [
       "'C:\\\\Users\\\\fralu\\\\Documents\\\\GitHub\\\\anndl\\\\image-segmentation\\\\Segmentation_Dataset\\\\training\\\\masks\\\\img\\\\634.tif'"
      ]
     },
     "execution_count": 6,
     "metadata": {},
     "output_type": "execute_result"
    },
    {
     "data": {
      "text/plain": [
       "'C:\\\\Users\\\\fralu\\\\Documents\\\\GitHub\\\\anndl\\\\image-segmentation\\\\Segmentation_Dataset\\\\training\\\\images\\\\img\\\\6342.tif'"
      ]
     },
     "execution_count": 6,
     "metadata": {},
     "output_type": "execute_result"
    },
    {
     "data": {
      "text/plain": [
       "'C:\\\\Users\\\\fralu\\\\Documents\\\\GitHub\\\\anndl\\\\image-segmentation\\\\Segmentation_Dataset\\\\training\\\\masks\\\\img\\\\6342.tif'"
      ]
     },
     "execution_count": 6,
     "metadata": {},
     "output_type": "execute_result"
    },
    {
     "data": {
      "text/plain": [
       "'C:\\\\Users\\\\fralu\\\\Documents\\\\GitHub\\\\anndl\\\\image-segmentation\\\\Segmentation_Dataset\\\\training\\\\images\\\\img\\\\6345.tif'"
      ]
     },
     "execution_count": 6,
     "metadata": {},
     "output_type": "execute_result"
    },
    {
     "data": {
      "text/plain": [
       "'C:\\\\Users\\\\fralu\\\\Documents\\\\GitHub\\\\anndl\\\\image-segmentation\\\\Segmentation_Dataset\\\\training\\\\masks\\\\img\\\\6345.tif'"
      ]
     },
     "execution_count": 6,
     "metadata": {},
     "output_type": "execute_result"
    },
    {
     "data": {
      "text/plain": [
       "'C:\\\\Users\\\\fralu\\\\Documents\\\\GitHub\\\\anndl\\\\image-segmentation\\\\Segmentation_Dataset\\\\training\\\\images\\\\img\\\\6348.tif'"
      ]
     },
     "execution_count": 6,
     "metadata": {},
     "output_type": "execute_result"
    },
    {
     "data": {
      "text/plain": [
       "'C:\\\\Users\\\\fralu\\\\Documents\\\\GitHub\\\\anndl\\\\image-segmentation\\\\Segmentation_Dataset\\\\training\\\\masks\\\\img\\\\6348.tif'"
      ]
     },
     "execution_count": 6,
     "metadata": {},
     "output_type": "execute_result"
    },
    {
     "data": {
      "text/plain": [
       "'C:\\\\Users\\\\fralu\\\\Documents\\\\GitHub\\\\anndl\\\\image-segmentation\\\\Segmentation_Dataset\\\\training\\\\images\\\\img\\\\6350.tif'"
      ]
     },
     "execution_count": 6,
     "metadata": {},
     "output_type": "execute_result"
    },
    {
     "data": {
      "text/plain": [
       "'C:\\\\Users\\\\fralu\\\\Documents\\\\GitHub\\\\anndl\\\\image-segmentation\\\\Segmentation_Dataset\\\\training\\\\masks\\\\img\\\\6350.tif'"
      ]
     },
     "execution_count": 6,
     "metadata": {},
     "output_type": "execute_result"
    },
    {
     "data": {
      "text/plain": [
       "'C:\\\\Users\\\\fralu\\\\Documents\\\\GitHub\\\\anndl\\\\image-segmentation\\\\Segmentation_Dataset\\\\training\\\\images\\\\img\\\\6358.tif'"
      ]
     },
     "execution_count": 6,
     "metadata": {},
     "output_type": "execute_result"
    },
    {
     "data": {
      "text/plain": [
       "'C:\\\\Users\\\\fralu\\\\Documents\\\\GitHub\\\\anndl\\\\image-segmentation\\\\Segmentation_Dataset\\\\training\\\\masks\\\\img\\\\6358.tif'"
      ]
     },
     "execution_count": 6,
     "metadata": {},
     "output_type": "execute_result"
    },
    {
     "data": {
      "text/plain": [
       "'C:\\\\Users\\\\fralu\\\\Documents\\\\GitHub\\\\anndl\\\\image-segmentation\\\\Segmentation_Dataset\\\\training\\\\images\\\\img\\\\6361.tif'"
      ]
     },
     "execution_count": 6,
     "metadata": {},
     "output_type": "execute_result"
    },
    {
     "data": {
      "text/plain": [
       "'C:\\\\Users\\\\fralu\\\\Documents\\\\GitHub\\\\anndl\\\\image-segmentation\\\\Segmentation_Dataset\\\\training\\\\masks\\\\img\\\\6361.tif'"
      ]
     },
     "execution_count": 6,
     "metadata": {},
     "output_type": "execute_result"
    },
    {
     "data": {
      "text/plain": [
       "'C:\\\\Users\\\\fralu\\\\Documents\\\\GitHub\\\\anndl\\\\image-segmentation\\\\Segmentation_Dataset\\\\training\\\\images\\\\img\\\\6367.tif'"
      ]
     },
     "execution_count": 6,
     "metadata": {},
     "output_type": "execute_result"
    },
    {
     "data": {
      "text/plain": [
       "'C:\\\\Users\\\\fralu\\\\Documents\\\\GitHub\\\\anndl\\\\image-segmentation\\\\Segmentation_Dataset\\\\training\\\\masks\\\\img\\\\6367.tif'"
      ]
     },
     "execution_count": 6,
     "metadata": {},
     "output_type": "execute_result"
    },
    {
     "data": {
      "text/plain": [
       "'C:\\\\Users\\\\fralu\\\\Documents\\\\GitHub\\\\anndl\\\\image-segmentation\\\\Segmentation_Dataset\\\\training\\\\images\\\\img\\\\6369.tif'"
      ]
     },
     "execution_count": 6,
     "metadata": {},
     "output_type": "execute_result"
    },
    {
     "data": {
      "text/plain": [
       "'C:\\\\Users\\\\fralu\\\\Documents\\\\GitHub\\\\anndl\\\\image-segmentation\\\\Segmentation_Dataset\\\\training\\\\masks\\\\img\\\\6369.tif'"
      ]
     },
     "execution_count": 6,
     "metadata": {},
     "output_type": "execute_result"
    },
    {
     "data": {
      "text/plain": [
       "'C:\\\\Users\\\\fralu\\\\Documents\\\\GitHub\\\\anndl\\\\image-segmentation\\\\Segmentation_Dataset\\\\training\\\\images\\\\img\\\\637.tif'"
      ]
     },
     "execution_count": 6,
     "metadata": {},
     "output_type": "execute_result"
    },
    {
     "data": {
      "text/plain": [
       "'C:\\\\Users\\\\fralu\\\\Documents\\\\GitHub\\\\anndl\\\\image-segmentation\\\\Segmentation_Dataset\\\\training\\\\masks\\\\img\\\\637.tif'"
      ]
     },
     "execution_count": 6,
     "metadata": {},
     "output_type": "execute_result"
    },
    {
     "data": {
      "text/plain": [
       "'C:\\\\Users\\\\fralu\\\\Documents\\\\GitHub\\\\anndl\\\\image-segmentation\\\\Segmentation_Dataset\\\\training\\\\images\\\\img\\\\6375.tif'"
      ]
     },
     "execution_count": 6,
     "metadata": {},
     "output_type": "execute_result"
    },
    {
     "data": {
      "text/plain": [
       "'C:\\\\Users\\\\fralu\\\\Documents\\\\GitHub\\\\anndl\\\\image-segmentation\\\\Segmentation_Dataset\\\\training\\\\masks\\\\img\\\\6375.tif'"
      ]
     },
     "execution_count": 6,
     "metadata": {},
     "output_type": "execute_result"
    },
    {
     "data": {
      "text/plain": [
       "'C:\\\\Users\\\\fralu\\\\Documents\\\\GitHub\\\\anndl\\\\image-segmentation\\\\Segmentation_Dataset\\\\training\\\\images\\\\img\\\\6376.tif'"
      ]
     },
     "execution_count": 6,
     "metadata": {},
     "output_type": "execute_result"
    },
    {
     "data": {
      "text/plain": [
       "'C:\\\\Users\\\\fralu\\\\Documents\\\\GitHub\\\\anndl\\\\image-segmentation\\\\Segmentation_Dataset\\\\training\\\\masks\\\\img\\\\6376.tif'"
      ]
     },
     "execution_count": 6,
     "metadata": {},
     "output_type": "execute_result"
    },
    {
     "data": {
      "text/plain": [
       "'C:\\\\Users\\\\fralu\\\\Documents\\\\GitHub\\\\anndl\\\\image-segmentation\\\\Segmentation_Dataset\\\\training\\\\images\\\\img\\\\638.tif'"
      ]
     },
     "execution_count": 6,
     "metadata": {},
     "output_type": "execute_result"
    },
    {
     "data": {
      "text/plain": [
       "'C:\\\\Users\\\\fralu\\\\Documents\\\\GitHub\\\\anndl\\\\image-segmentation\\\\Segmentation_Dataset\\\\training\\\\masks\\\\img\\\\638.tif'"
      ]
     },
     "execution_count": 6,
     "metadata": {},
     "output_type": "execute_result"
    },
    {
     "data": {
      "text/plain": [
       "'C:\\\\Users\\\\fralu\\\\Documents\\\\GitHub\\\\anndl\\\\image-segmentation\\\\Segmentation_Dataset\\\\training\\\\images\\\\img\\\\6384.tif'"
      ]
     },
     "execution_count": 6,
     "metadata": {},
     "output_type": "execute_result"
    },
    {
     "data": {
      "text/plain": [
       "'C:\\\\Users\\\\fralu\\\\Documents\\\\GitHub\\\\anndl\\\\image-segmentation\\\\Segmentation_Dataset\\\\training\\\\masks\\\\img\\\\6384.tif'"
      ]
     },
     "execution_count": 6,
     "metadata": {},
     "output_type": "execute_result"
    },
    {
     "data": {
      "text/plain": [
       "'C:\\\\Users\\\\fralu\\\\Documents\\\\GitHub\\\\anndl\\\\image-segmentation\\\\Segmentation_Dataset\\\\training\\\\images\\\\img\\\\6394.tif'"
      ]
     },
     "execution_count": 6,
     "metadata": {},
     "output_type": "execute_result"
    },
    {
     "data": {
      "text/plain": [
       "'C:\\\\Users\\\\fralu\\\\Documents\\\\GitHub\\\\anndl\\\\image-segmentation\\\\Segmentation_Dataset\\\\training\\\\masks\\\\img\\\\6394.tif'"
      ]
     },
     "execution_count": 6,
     "metadata": {},
     "output_type": "execute_result"
    },
    {
     "data": {
      "text/plain": [
       "'C:\\\\Users\\\\fralu\\\\Documents\\\\GitHub\\\\anndl\\\\image-segmentation\\\\Segmentation_Dataset\\\\training\\\\images\\\\img\\\\640.tif'"
      ]
     },
     "execution_count": 6,
     "metadata": {},
     "output_type": "execute_result"
    },
    {
     "data": {
      "text/plain": [
       "'C:\\\\Users\\\\fralu\\\\Documents\\\\GitHub\\\\anndl\\\\image-segmentation\\\\Segmentation_Dataset\\\\training\\\\masks\\\\img\\\\640.tif'"
      ]
     },
     "execution_count": 6,
     "metadata": {},
     "output_type": "execute_result"
    },
    {
     "data": {
      "text/plain": [
       "'C:\\\\Users\\\\fralu\\\\Documents\\\\GitHub\\\\anndl\\\\image-segmentation\\\\Segmentation_Dataset\\\\training\\\\images\\\\img\\\\6401.tif'"
      ]
     },
     "execution_count": 6,
     "metadata": {},
     "output_type": "execute_result"
    },
    {
     "data": {
      "text/plain": [
       "'C:\\\\Users\\\\fralu\\\\Documents\\\\GitHub\\\\anndl\\\\image-segmentation\\\\Segmentation_Dataset\\\\training\\\\masks\\\\img\\\\6401.tif'"
      ]
     },
     "execution_count": 6,
     "metadata": {},
     "output_type": "execute_result"
    },
    {
     "data": {
      "text/plain": [
       "'C:\\\\Users\\\\fralu\\\\Documents\\\\GitHub\\\\anndl\\\\image-segmentation\\\\Segmentation_Dataset\\\\training\\\\images\\\\img\\\\6411.tif'"
      ]
     },
     "execution_count": 6,
     "metadata": {},
     "output_type": "execute_result"
    },
    {
     "data": {
      "text/plain": [
       "'C:\\\\Users\\\\fralu\\\\Documents\\\\GitHub\\\\anndl\\\\image-segmentation\\\\Segmentation_Dataset\\\\training\\\\masks\\\\img\\\\6411.tif'"
      ]
     },
     "execution_count": 6,
     "metadata": {},
     "output_type": "execute_result"
    },
    {
     "data": {
      "text/plain": [
       "'C:\\\\Users\\\\fralu\\\\Documents\\\\GitHub\\\\anndl\\\\image-segmentation\\\\Segmentation_Dataset\\\\training\\\\images\\\\img\\\\6428.tif'"
      ]
     },
     "execution_count": 6,
     "metadata": {},
     "output_type": "execute_result"
    },
    {
     "data": {
      "text/plain": [
       "'C:\\\\Users\\\\fralu\\\\Documents\\\\GitHub\\\\anndl\\\\image-segmentation\\\\Segmentation_Dataset\\\\training\\\\masks\\\\img\\\\6428.tif'"
      ]
     },
     "execution_count": 6,
     "metadata": {},
     "output_type": "execute_result"
    },
    {
     "data": {
      "text/plain": [
       "'C:\\\\Users\\\\fralu\\\\Documents\\\\GitHub\\\\anndl\\\\image-segmentation\\\\Segmentation_Dataset\\\\training\\\\images\\\\img\\\\6434.tif'"
      ]
     },
     "execution_count": 6,
     "metadata": {},
     "output_type": "execute_result"
    },
    {
     "data": {
      "text/plain": [
       "'C:\\\\Users\\\\fralu\\\\Documents\\\\GitHub\\\\anndl\\\\image-segmentation\\\\Segmentation_Dataset\\\\training\\\\masks\\\\img\\\\6434.tif'"
      ]
     },
     "execution_count": 6,
     "metadata": {},
     "output_type": "execute_result"
    },
    {
     "data": {
      "text/plain": [
       "'C:\\\\Users\\\\fralu\\\\Documents\\\\GitHub\\\\anndl\\\\image-segmentation\\\\Segmentation_Dataset\\\\training\\\\images\\\\img\\\\6435.tif'"
      ]
     },
     "execution_count": 6,
     "metadata": {},
     "output_type": "execute_result"
    },
    {
     "data": {
      "text/plain": [
       "'C:\\\\Users\\\\fralu\\\\Documents\\\\GitHub\\\\anndl\\\\image-segmentation\\\\Segmentation_Dataset\\\\training\\\\masks\\\\img\\\\6435.tif'"
      ]
     },
     "execution_count": 6,
     "metadata": {},
     "output_type": "execute_result"
    },
    {
     "data": {
      "text/plain": [
       "'C:\\\\Users\\\\fralu\\\\Documents\\\\GitHub\\\\anndl\\\\image-segmentation\\\\Segmentation_Dataset\\\\training\\\\images\\\\img\\\\6441.tif'"
      ]
     },
     "execution_count": 6,
     "metadata": {},
     "output_type": "execute_result"
    },
    {
     "data": {
      "text/plain": [
       "'C:\\\\Users\\\\fralu\\\\Documents\\\\GitHub\\\\anndl\\\\image-segmentation\\\\Segmentation_Dataset\\\\training\\\\masks\\\\img\\\\6441.tif'"
      ]
     },
     "execution_count": 6,
     "metadata": {},
     "output_type": "execute_result"
    },
    {
     "data": {
      "text/plain": [
       "'C:\\\\Users\\\\fralu\\\\Documents\\\\GitHub\\\\anndl\\\\image-segmentation\\\\Segmentation_Dataset\\\\training\\\\images\\\\img\\\\6448.tif'"
      ]
     },
     "execution_count": 6,
     "metadata": {},
     "output_type": "execute_result"
    },
    {
     "data": {
      "text/plain": [
       "'C:\\\\Users\\\\fralu\\\\Documents\\\\GitHub\\\\anndl\\\\image-segmentation\\\\Segmentation_Dataset\\\\training\\\\masks\\\\img\\\\6448.tif'"
      ]
     },
     "execution_count": 6,
     "metadata": {},
     "output_type": "execute_result"
    },
    {
     "data": {
      "text/plain": [
       "'C:\\\\Users\\\\fralu\\\\Documents\\\\GitHub\\\\anndl\\\\image-segmentation\\\\Segmentation_Dataset\\\\training\\\\images\\\\img\\\\6454.tif'"
      ]
     },
     "execution_count": 6,
     "metadata": {},
     "output_type": "execute_result"
    },
    {
     "data": {
      "text/plain": [
       "'C:\\\\Users\\\\fralu\\\\Documents\\\\GitHub\\\\anndl\\\\image-segmentation\\\\Segmentation_Dataset\\\\training\\\\masks\\\\img\\\\6454.tif'"
      ]
     },
     "execution_count": 6,
     "metadata": {},
     "output_type": "execute_result"
    },
    {
     "data": {
      "text/plain": [
       "'C:\\\\Users\\\\fralu\\\\Documents\\\\GitHub\\\\anndl\\\\image-segmentation\\\\Segmentation_Dataset\\\\training\\\\images\\\\img\\\\6457.tif'"
      ]
     },
     "execution_count": 6,
     "metadata": {},
     "output_type": "execute_result"
    },
    {
     "data": {
      "text/plain": [
       "'C:\\\\Users\\\\fralu\\\\Documents\\\\GitHub\\\\anndl\\\\image-segmentation\\\\Segmentation_Dataset\\\\training\\\\masks\\\\img\\\\6457.tif'"
      ]
     },
     "execution_count": 6,
     "metadata": {},
     "output_type": "execute_result"
    },
    {
     "data": {
      "text/plain": [
       "'C:\\\\Users\\\\fralu\\\\Documents\\\\GitHub\\\\anndl\\\\image-segmentation\\\\Segmentation_Dataset\\\\training\\\\images\\\\img\\\\6481.tif'"
      ]
     },
     "execution_count": 6,
     "metadata": {},
     "output_type": "execute_result"
    },
    {
     "data": {
      "text/plain": [
       "'C:\\\\Users\\\\fralu\\\\Documents\\\\GitHub\\\\anndl\\\\image-segmentation\\\\Segmentation_Dataset\\\\training\\\\masks\\\\img\\\\6481.tif'"
      ]
     },
     "execution_count": 6,
     "metadata": {},
     "output_type": "execute_result"
    },
    {
     "data": {
      "text/plain": [
       "'C:\\\\Users\\\\fralu\\\\Documents\\\\GitHub\\\\anndl\\\\image-segmentation\\\\Segmentation_Dataset\\\\training\\\\images\\\\img\\\\6482.tif'"
      ]
     },
     "execution_count": 6,
     "metadata": {},
     "output_type": "execute_result"
    },
    {
     "data": {
      "text/plain": [
       "'C:\\\\Users\\\\fralu\\\\Documents\\\\GitHub\\\\anndl\\\\image-segmentation\\\\Segmentation_Dataset\\\\training\\\\masks\\\\img\\\\6482.tif'"
      ]
     },
     "execution_count": 6,
     "metadata": {},
     "output_type": "execute_result"
    },
    {
     "data": {
      "text/plain": [
       "'C:\\\\Users\\\\fralu\\\\Documents\\\\GitHub\\\\anndl\\\\image-segmentation\\\\Segmentation_Dataset\\\\training\\\\images\\\\img\\\\6483.tif'"
      ]
     },
     "execution_count": 6,
     "metadata": {},
     "output_type": "execute_result"
    },
    {
     "data": {
      "text/plain": [
       "'C:\\\\Users\\\\fralu\\\\Documents\\\\GitHub\\\\anndl\\\\image-segmentation\\\\Segmentation_Dataset\\\\training\\\\masks\\\\img\\\\6483.tif'"
      ]
     },
     "execution_count": 6,
     "metadata": {},
     "output_type": "execute_result"
    },
    {
     "data": {
      "text/plain": [
       "'C:\\\\Users\\\\fralu\\\\Documents\\\\GitHub\\\\anndl\\\\image-segmentation\\\\Segmentation_Dataset\\\\training\\\\images\\\\img\\\\6488.tif'"
      ]
     },
     "execution_count": 6,
     "metadata": {},
     "output_type": "execute_result"
    },
    {
     "data": {
      "text/plain": [
       "'C:\\\\Users\\\\fralu\\\\Documents\\\\GitHub\\\\anndl\\\\image-segmentation\\\\Segmentation_Dataset\\\\training\\\\masks\\\\img\\\\6488.tif'"
      ]
     },
     "execution_count": 6,
     "metadata": {},
     "output_type": "execute_result"
    },
    {
     "data": {
      "text/plain": [
       "'C:\\\\Users\\\\fralu\\\\Documents\\\\GitHub\\\\anndl\\\\image-segmentation\\\\Segmentation_Dataset\\\\training\\\\images\\\\img\\\\6493.tif'"
      ]
     },
     "execution_count": 6,
     "metadata": {},
     "output_type": "execute_result"
    },
    {
     "data": {
      "text/plain": [
       "'C:\\\\Users\\\\fralu\\\\Documents\\\\GitHub\\\\anndl\\\\image-segmentation\\\\Segmentation_Dataset\\\\training\\\\masks\\\\img\\\\6493.tif'"
      ]
     },
     "execution_count": 6,
     "metadata": {},
     "output_type": "execute_result"
    },
    {
     "data": {
      "text/plain": [
       "'C:\\\\Users\\\\fralu\\\\Documents\\\\GitHub\\\\anndl\\\\image-segmentation\\\\Segmentation_Dataset\\\\training\\\\images\\\\img\\\\6512.tif'"
      ]
     },
     "execution_count": 6,
     "metadata": {},
     "output_type": "execute_result"
    },
    {
     "data": {
      "text/plain": [
       "'C:\\\\Users\\\\fralu\\\\Documents\\\\GitHub\\\\anndl\\\\image-segmentation\\\\Segmentation_Dataset\\\\training\\\\masks\\\\img\\\\6512.tif'"
      ]
     },
     "execution_count": 6,
     "metadata": {},
     "output_type": "execute_result"
    },
    {
     "data": {
      "text/plain": [
       "'C:\\\\Users\\\\fralu\\\\Documents\\\\GitHub\\\\anndl\\\\image-segmentation\\\\Segmentation_Dataset\\\\training\\\\images\\\\img\\\\6516.tif'"
      ]
     },
     "execution_count": 6,
     "metadata": {},
     "output_type": "execute_result"
    },
    {
     "data": {
      "text/plain": [
       "'C:\\\\Users\\\\fralu\\\\Documents\\\\GitHub\\\\anndl\\\\image-segmentation\\\\Segmentation_Dataset\\\\training\\\\masks\\\\img\\\\6516.tif'"
      ]
     },
     "execution_count": 6,
     "metadata": {},
     "output_type": "execute_result"
    },
    {
     "data": {
      "text/plain": [
       "'C:\\\\Users\\\\fralu\\\\Documents\\\\GitHub\\\\anndl\\\\image-segmentation\\\\Segmentation_Dataset\\\\training\\\\images\\\\img\\\\6518.tif'"
      ]
     },
     "execution_count": 6,
     "metadata": {},
     "output_type": "execute_result"
    },
    {
     "data": {
      "text/plain": [
       "'C:\\\\Users\\\\fralu\\\\Documents\\\\GitHub\\\\anndl\\\\image-segmentation\\\\Segmentation_Dataset\\\\training\\\\masks\\\\img\\\\6518.tif'"
      ]
     },
     "execution_count": 6,
     "metadata": {},
     "output_type": "execute_result"
    },
    {
     "data": {
      "text/plain": [
       "'C:\\\\Users\\\\fralu\\\\Documents\\\\GitHub\\\\anndl\\\\image-segmentation\\\\Segmentation_Dataset\\\\training\\\\images\\\\img\\\\6524.tif'"
      ]
     },
     "execution_count": 6,
     "metadata": {},
     "output_type": "execute_result"
    },
    {
     "data": {
      "text/plain": [
       "'C:\\\\Users\\\\fralu\\\\Documents\\\\GitHub\\\\anndl\\\\image-segmentation\\\\Segmentation_Dataset\\\\training\\\\masks\\\\img\\\\6524.tif'"
      ]
     },
     "execution_count": 6,
     "metadata": {},
     "output_type": "execute_result"
    },
    {
     "data": {
      "text/plain": [
       "'C:\\\\Users\\\\fralu\\\\Documents\\\\GitHub\\\\anndl\\\\image-segmentation\\\\Segmentation_Dataset\\\\training\\\\images\\\\img\\\\6537.tif'"
      ]
     },
     "execution_count": 6,
     "metadata": {},
     "output_type": "execute_result"
    },
    {
     "data": {
      "text/plain": [
       "'C:\\\\Users\\\\fralu\\\\Documents\\\\GitHub\\\\anndl\\\\image-segmentation\\\\Segmentation_Dataset\\\\training\\\\masks\\\\img\\\\6537.tif'"
      ]
     },
     "execution_count": 6,
     "metadata": {},
     "output_type": "execute_result"
    },
    {
     "data": {
      "text/plain": [
       "'C:\\\\Users\\\\fralu\\\\Documents\\\\GitHub\\\\anndl\\\\image-segmentation\\\\Segmentation_Dataset\\\\training\\\\images\\\\img\\\\6538.tif'"
      ]
     },
     "execution_count": 6,
     "metadata": {},
     "output_type": "execute_result"
    },
    {
     "data": {
      "text/plain": [
       "'C:\\\\Users\\\\fralu\\\\Documents\\\\GitHub\\\\anndl\\\\image-segmentation\\\\Segmentation_Dataset\\\\training\\\\masks\\\\img\\\\6538.tif'"
      ]
     },
     "execution_count": 6,
     "metadata": {},
     "output_type": "execute_result"
    },
    {
     "data": {
      "text/plain": [
       "'C:\\\\Users\\\\fralu\\\\Documents\\\\GitHub\\\\anndl\\\\image-segmentation\\\\Segmentation_Dataset\\\\training\\\\images\\\\img\\\\6541.tif'"
      ]
     },
     "execution_count": 6,
     "metadata": {},
     "output_type": "execute_result"
    },
    {
     "data": {
      "text/plain": [
       "'C:\\\\Users\\\\fralu\\\\Documents\\\\GitHub\\\\anndl\\\\image-segmentation\\\\Segmentation_Dataset\\\\training\\\\masks\\\\img\\\\6541.tif'"
      ]
     },
     "execution_count": 6,
     "metadata": {},
     "output_type": "execute_result"
    },
    {
     "data": {
      "text/plain": [
       "'C:\\\\Users\\\\fralu\\\\Documents\\\\GitHub\\\\anndl\\\\image-segmentation\\\\Segmentation_Dataset\\\\training\\\\images\\\\img\\\\6542.tif'"
      ]
     },
     "execution_count": 6,
     "metadata": {},
     "output_type": "execute_result"
    },
    {
     "data": {
      "text/plain": [
       "'C:\\\\Users\\\\fralu\\\\Documents\\\\GitHub\\\\anndl\\\\image-segmentation\\\\Segmentation_Dataset\\\\training\\\\masks\\\\img\\\\6542.tif'"
      ]
     },
     "execution_count": 6,
     "metadata": {},
     "output_type": "execute_result"
    },
    {
     "data": {
      "text/plain": [
       "'C:\\\\Users\\\\fralu\\\\Documents\\\\GitHub\\\\anndl\\\\image-segmentation\\\\Segmentation_Dataset\\\\training\\\\images\\\\img\\\\6550.tif'"
      ]
     },
     "execution_count": 6,
     "metadata": {},
     "output_type": "execute_result"
    },
    {
     "data": {
      "text/plain": [
       "'C:\\\\Users\\\\fralu\\\\Documents\\\\GitHub\\\\anndl\\\\image-segmentation\\\\Segmentation_Dataset\\\\training\\\\masks\\\\img\\\\6550.tif'"
      ]
     },
     "execution_count": 6,
     "metadata": {},
     "output_type": "execute_result"
    },
    {
     "data": {
      "text/plain": [
       "'C:\\\\Users\\\\fralu\\\\Documents\\\\GitHub\\\\anndl\\\\image-segmentation\\\\Segmentation_Dataset\\\\training\\\\images\\\\img\\\\6556.tif'"
      ]
     },
     "execution_count": 6,
     "metadata": {},
     "output_type": "execute_result"
    },
    {
     "data": {
      "text/plain": [
       "'C:\\\\Users\\\\fralu\\\\Documents\\\\GitHub\\\\anndl\\\\image-segmentation\\\\Segmentation_Dataset\\\\training\\\\masks\\\\img\\\\6556.tif'"
      ]
     },
     "execution_count": 6,
     "metadata": {},
     "output_type": "execute_result"
    },
    {
     "data": {
      "text/plain": [
       "'C:\\\\Users\\\\fralu\\\\Documents\\\\GitHub\\\\anndl\\\\image-segmentation\\\\Segmentation_Dataset\\\\training\\\\images\\\\img\\\\6561.tif'"
      ]
     },
     "execution_count": 6,
     "metadata": {},
     "output_type": "execute_result"
    },
    {
     "data": {
      "text/plain": [
       "'C:\\\\Users\\\\fralu\\\\Documents\\\\GitHub\\\\anndl\\\\image-segmentation\\\\Segmentation_Dataset\\\\training\\\\masks\\\\img\\\\6561.tif'"
      ]
     },
     "execution_count": 6,
     "metadata": {},
     "output_type": "execute_result"
    },
    {
     "data": {
      "text/plain": [
       "'C:\\\\Users\\\\fralu\\\\Documents\\\\GitHub\\\\anndl\\\\image-segmentation\\\\Segmentation_Dataset\\\\training\\\\images\\\\img\\\\6564.tif'"
      ]
     },
     "execution_count": 6,
     "metadata": {},
     "output_type": "execute_result"
    },
    {
     "data": {
      "text/plain": [
       "'C:\\\\Users\\\\fralu\\\\Documents\\\\GitHub\\\\anndl\\\\image-segmentation\\\\Segmentation_Dataset\\\\training\\\\masks\\\\img\\\\6564.tif'"
      ]
     },
     "execution_count": 6,
     "metadata": {},
     "output_type": "execute_result"
    },
    {
     "data": {
      "text/plain": [
       "'C:\\\\Users\\\\fralu\\\\Documents\\\\GitHub\\\\anndl\\\\image-segmentation\\\\Segmentation_Dataset\\\\training\\\\images\\\\img\\\\6566.tif'"
      ]
     },
     "execution_count": 6,
     "metadata": {},
     "output_type": "execute_result"
    },
    {
     "data": {
      "text/plain": [
       "'C:\\\\Users\\\\fralu\\\\Documents\\\\GitHub\\\\anndl\\\\image-segmentation\\\\Segmentation_Dataset\\\\training\\\\masks\\\\img\\\\6566.tif'"
      ]
     },
     "execution_count": 6,
     "metadata": {},
     "output_type": "execute_result"
    },
    {
     "data": {
      "text/plain": [
       "'C:\\\\Users\\\\fralu\\\\Documents\\\\GitHub\\\\anndl\\\\image-segmentation\\\\Segmentation_Dataset\\\\training\\\\images\\\\img\\\\6570.tif'"
      ]
     },
     "execution_count": 6,
     "metadata": {},
     "output_type": "execute_result"
    },
    {
     "data": {
      "text/plain": [
       "'C:\\\\Users\\\\fralu\\\\Documents\\\\GitHub\\\\anndl\\\\image-segmentation\\\\Segmentation_Dataset\\\\training\\\\masks\\\\img\\\\6570.tif'"
      ]
     },
     "execution_count": 6,
     "metadata": {},
     "output_type": "execute_result"
    },
    {
     "data": {
      "text/plain": [
       "'C:\\\\Users\\\\fralu\\\\Documents\\\\GitHub\\\\anndl\\\\image-segmentation\\\\Segmentation_Dataset\\\\training\\\\images\\\\img\\\\6581.tif'"
      ]
     },
     "execution_count": 6,
     "metadata": {},
     "output_type": "execute_result"
    },
    {
     "data": {
      "text/plain": [
       "'C:\\\\Users\\\\fralu\\\\Documents\\\\GitHub\\\\anndl\\\\image-segmentation\\\\Segmentation_Dataset\\\\training\\\\masks\\\\img\\\\6581.tif'"
      ]
     },
     "execution_count": 6,
     "metadata": {},
     "output_type": "execute_result"
    },
    {
     "data": {
      "text/plain": [
       "'C:\\\\Users\\\\fralu\\\\Documents\\\\GitHub\\\\anndl\\\\image-segmentation\\\\Segmentation_Dataset\\\\training\\\\images\\\\img\\\\6585.tif'"
      ]
     },
     "execution_count": 6,
     "metadata": {},
     "output_type": "execute_result"
    },
    {
     "data": {
      "text/plain": [
       "'C:\\\\Users\\\\fralu\\\\Documents\\\\GitHub\\\\anndl\\\\image-segmentation\\\\Segmentation_Dataset\\\\training\\\\masks\\\\img\\\\6585.tif'"
      ]
     },
     "execution_count": 6,
     "metadata": {},
     "output_type": "execute_result"
    },
    {
     "data": {
      "text/plain": [
       "'C:\\\\Users\\\\fralu\\\\Documents\\\\GitHub\\\\anndl\\\\image-segmentation\\\\Segmentation_Dataset\\\\training\\\\images\\\\img\\\\6596.tif'"
      ]
     },
     "execution_count": 6,
     "metadata": {},
     "output_type": "execute_result"
    },
    {
     "data": {
      "text/plain": [
       "'C:\\\\Users\\\\fralu\\\\Documents\\\\GitHub\\\\anndl\\\\image-segmentation\\\\Segmentation_Dataset\\\\training\\\\masks\\\\img\\\\6596.tif'"
      ]
     },
     "execution_count": 6,
     "metadata": {},
     "output_type": "execute_result"
    },
    {
     "data": {
      "text/plain": [
       "'C:\\\\Users\\\\fralu\\\\Documents\\\\GitHub\\\\anndl\\\\image-segmentation\\\\Segmentation_Dataset\\\\training\\\\images\\\\img\\\\6603.tif'"
      ]
     },
     "execution_count": 6,
     "metadata": {},
     "output_type": "execute_result"
    },
    {
     "data": {
      "text/plain": [
       "'C:\\\\Users\\\\fralu\\\\Documents\\\\GitHub\\\\anndl\\\\image-segmentation\\\\Segmentation_Dataset\\\\training\\\\masks\\\\img\\\\6603.tif'"
      ]
     },
     "execution_count": 6,
     "metadata": {},
     "output_type": "execute_result"
    },
    {
     "data": {
      "text/plain": [
       "'C:\\\\Users\\\\fralu\\\\Documents\\\\GitHub\\\\anndl\\\\image-segmentation\\\\Segmentation_Dataset\\\\training\\\\images\\\\img\\\\6604.tif'"
      ]
     },
     "execution_count": 6,
     "metadata": {},
     "output_type": "execute_result"
    },
    {
     "data": {
      "text/plain": [
       "'C:\\\\Users\\\\fralu\\\\Documents\\\\GitHub\\\\anndl\\\\image-segmentation\\\\Segmentation_Dataset\\\\training\\\\masks\\\\img\\\\6604.tif'"
      ]
     },
     "execution_count": 6,
     "metadata": {},
     "output_type": "execute_result"
    },
    {
     "data": {
      "text/plain": [
       "'C:\\\\Users\\\\fralu\\\\Documents\\\\GitHub\\\\anndl\\\\image-segmentation\\\\Segmentation_Dataset\\\\training\\\\images\\\\img\\\\6605.tif'"
      ]
     },
     "execution_count": 6,
     "metadata": {},
     "output_type": "execute_result"
    },
    {
     "data": {
      "text/plain": [
       "'C:\\\\Users\\\\fralu\\\\Documents\\\\GitHub\\\\anndl\\\\image-segmentation\\\\Segmentation_Dataset\\\\training\\\\masks\\\\img\\\\6605.tif'"
      ]
     },
     "execution_count": 6,
     "metadata": {},
     "output_type": "execute_result"
    },
    {
     "data": {
      "text/plain": [
       "'C:\\\\Users\\\\fralu\\\\Documents\\\\GitHub\\\\anndl\\\\image-segmentation\\\\Segmentation_Dataset\\\\training\\\\images\\\\img\\\\6608.tif'"
      ]
     },
     "execution_count": 6,
     "metadata": {},
     "output_type": "execute_result"
    },
    {
     "data": {
      "text/plain": [
       "'C:\\\\Users\\\\fralu\\\\Documents\\\\GitHub\\\\anndl\\\\image-segmentation\\\\Segmentation_Dataset\\\\training\\\\masks\\\\img\\\\6608.tif'"
      ]
     },
     "execution_count": 6,
     "metadata": {},
     "output_type": "execute_result"
    },
    {
     "data": {
      "text/plain": [
       "'C:\\\\Users\\\\fralu\\\\Documents\\\\GitHub\\\\anndl\\\\image-segmentation\\\\Segmentation_Dataset\\\\training\\\\images\\\\img\\\\661.tif'"
      ]
     },
     "execution_count": 6,
     "metadata": {},
     "output_type": "execute_result"
    },
    {
     "data": {
      "text/plain": [
       "'C:\\\\Users\\\\fralu\\\\Documents\\\\GitHub\\\\anndl\\\\image-segmentation\\\\Segmentation_Dataset\\\\training\\\\masks\\\\img\\\\661.tif'"
      ]
     },
     "execution_count": 6,
     "metadata": {},
     "output_type": "execute_result"
    },
    {
     "data": {
      "text/plain": [
       "'C:\\\\Users\\\\fralu\\\\Documents\\\\GitHub\\\\anndl\\\\image-segmentation\\\\Segmentation_Dataset\\\\training\\\\images\\\\img\\\\6614.tif'"
      ]
     },
     "execution_count": 6,
     "metadata": {},
     "output_type": "execute_result"
    },
    {
     "data": {
      "text/plain": [
       "'C:\\\\Users\\\\fralu\\\\Documents\\\\GitHub\\\\anndl\\\\image-segmentation\\\\Segmentation_Dataset\\\\training\\\\masks\\\\img\\\\6614.tif'"
      ]
     },
     "execution_count": 6,
     "metadata": {},
     "output_type": "execute_result"
    },
    {
     "data": {
      "text/plain": [
       "'C:\\\\Users\\\\fralu\\\\Documents\\\\GitHub\\\\anndl\\\\image-segmentation\\\\Segmentation_Dataset\\\\training\\\\images\\\\img\\\\6615.tif'"
      ]
     },
     "execution_count": 6,
     "metadata": {},
     "output_type": "execute_result"
    },
    {
     "data": {
      "text/plain": [
       "'C:\\\\Users\\\\fralu\\\\Documents\\\\GitHub\\\\anndl\\\\image-segmentation\\\\Segmentation_Dataset\\\\training\\\\masks\\\\img\\\\6615.tif'"
      ]
     },
     "execution_count": 6,
     "metadata": {},
     "output_type": "execute_result"
    },
    {
     "data": {
      "text/plain": [
       "'C:\\\\Users\\\\fralu\\\\Documents\\\\GitHub\\\\anndl\\\\image-segmentation\\\\Segmentation_Dataset\\\\training\\\\images\\\\img\\\\6628.tif'"
      ]
     },
     "execution_count": 6,
     "metadata": {},
     "output_type": "execute_result"
    },
    {
     "data": {
      "text/plain": [
       "'C:\\\\Users\\\\fralu\\\\Documents\\\\GitHub\\\\anndl\\\\image-segmentation\\\\Segmentation_Dataset\\\\training\\\\masks\\\\img\\\\6628.tif'"
      ]
     },
     "execution_count": 6,
     "metadata": {},
     "output_type": "execute_result"
    },
    {
     "data": {
      "text/plain": [
       "'C:\\\\Users\\\\fralu\\\\Documents\\\\GitHub\\\\anndl\\\\image-segmentation\\\\Segmentation_Dataset\\\\training\\\\images\\\\img\\\\663.tif'"
      ]
     },
     "execution_count": 6,
     "metadata": {},
     "output_type": "execute_result"
    },
    {
     "data": {
      "text/plain": [
       "'C:\\\\Users\\\\fralu\\\\Documents\\\\GitHub\\\\anndl\\\\image-segmentation\\\\Segmentation_Dataset\\\\training\\\\masks\\\\img\\\\663.tif'"
      ]
     },
     "execution_count": 6,
     "metadata": {},
     "output_type": "execute_result"
    },
    {
     "data": {
      "text/plain": [
       "'C:\\\\Users\\\\fralu\\\\Documents\\\\GitHub\\\\anndl\\\\image-segmentation\\\\Segmentation_Dataset\\\\training\\\\images\\\\img\\\\6634.tif'"
      ]
     },
     "execution_count": 6,
     "metadata": {},
     "output_type": "execute_result"
    },
    {
     "data": {
      "text/plain": [
       "'C:\\\\Users\\\\fralu\\\\Documents\\\\GitHub\\\\anndl\\\\image-segmentation\\\\Segmentation_Dataset\\\\training\\\\masks\\\\img\\\\6634.tif'"
      ]
     },
     "execution_count": 6,
     "metadata": {},
     "output_type": "execute_result"
    },
    {
     "data": {
      "text/plain": [
       "'C:\\\\Users\\\\fralu\\\\Documents\\\\GitHub\\\\anndl\\\\image-segmentation\\\\Segmentation_Dataset\\\\training\\\\images\\\\img\\\\6636.tif'"
      ]
     },
     "execution_count": 6,
     "metadata": {},
     "output_type": "execute_result"
    },
    {
     "data": {
      "text/plain": [
       "'C:\\\\Users\\\\fralu\\\\Documents\\\\GitHub\\\\anndl\\\\image-segmentation\\\\Segmentation_Dataset\\\\training\\\\masks\\\\img\\\\6636.tif'"
      ]
     },
     "execution_count": 6,
     "metadata": {},
     "output_type": "execute_result"
    },
    {
     "data": {
      "text/plain": [
       "'C:\\\\Users\\\\fralu\\\\Documents\\\\GitHub\\\\anndl\\\\image-segmentation\\\\Segmentation_Dataset\\\\training\\\\images\\\\img\\\\6647.tif'"
      ]
     },
     "execution_count": 6,
     "metadata": {},
     "output_type": "execute_result"
    },
    {
     "data": {
      "text/plain": [
       "'C:\\\\Users\\\\fralu\\\\Documents\\\\GitHub\\\\anndl\\\\image-segmentation\\\\Segmentation_Dataset\\\\training\\\\masks\\\\img\\\\6647.tif'"
      ]
     },
     "execution_count": 6,
     "metadata": {},
     "output_type": "execute_result"
    },
    {
     "data": {
      "text/plain": [
       "'C:\\\\Users\\\\fralu\\\\Documents\\\\GitHub\\\\anndl\\\\image-segmentation\\\\Segmentation_Dataset\\\\training\\\\images\\\\img\\\\665.tif'"
      ]
     },
     "execution_count": 6,
     "metadata": {},
     "output_type": "execute_result"
    },
    {
     "data": {
      "text/plain": [
       "'C:\\\\Users\\\\fralu\\\\Documents\\\\GitHub\\\\anndl\\\\image-segmentation\\\\Segmentation_Dataset\\\\training\\\\masks\\\\img\\\\665.tif'"
      ]
     },
     "execution_count": 6,
     "metadata": {},
     "output_type": "execute_result"
    },
    {
     "data": {
      "text/plain": [
       "'C:\\\\Users\\\\fralu\\\\Documents\\\\GitHub\\\\anndl\\\\image-segmentation\\\\Segmentation_Dataset\\\\training\\\\images\\\\img\\\\6652.tif'"
      ]
     },
     "execution_count": 6,
     "metadata": {},
     "output_type": "execute_result"
    },
    {
     "data": {
      "text/plain": [
       "'C:\\\\Users\\\\fralu\\\\Documents\\\\GitHub\\\\anndl\\\\image-segmentation\\\\Segmentation_Dataset\\\\training\\\\masks\\\\img\\\\6652.tif'"
      ]
     },
     "execution_count": 6,
     "metadata": {},
     "output_type": "execute_result"
    },
    {
     "data": {
      "text/plain": [
       "'C:\\\\Users\\\\fralu\\\\Documents\\\\GitHub\\\\anndl\\\\image-segmentation\\\\Segmentation_Dataset\\\\training\\\\images\\\\img\\\\6655.tif'"
      ]
     },
     "execution_count": 6,
     "metadata": {},
     "output_type": "execute_result"
    },
    {
     "data": {
      "text/plain": [
       "'C:\\\\Users\\\\fralu\\\\Documents\\\\GitHub\\\\anndl\\\\image-segmentation\\\\Segmentation_Dataset\\\\training\\\\masks\\\\img\\\\6655.tif'"
      ]
     },
     "execution_count": 6,
     "metadata": {},
     "output_type": "execute_result"
    },
    {
     "data": {
      "text/plain": [
       "'C:\\\\Users\\\\fralu\\\\Documents\\\\GitHub\\\\anndl\\\\image-segmentation\\\\Segmentation_Dataset\\\\training\\\\images\\\\img\\\\6660.tif'"
      ]
     },
     "execution_count": 6,
     "metadata": {},
     "output_type": "execute_result"
    },
    {
     "data": {
      "text/plain": [
       "'C:\\\\Users\\\\fralu\\\\Documents\\\\GitHub\\\\anndl\\\\image-segmentation\\\\Segmentation_Dataset\\\\training\\\\masks\\\\img\\\\6660.tif'"
      ]
     },
     "execution_count": 6,
     "metadata": {},
     "output_type": "execute_result"
    },
    {
     "data": {
      "text/plain": [
       "'C:\\\\Users\\\\fralu\\\\Documents\\\\GitHub\\\\anndl\\\\image-segmentation\\\\Segmentation_Dataset\\\\training\\\\images\\\\img\\\\6661.tif'"
      ]
     },
     "execution_count": 6,
     "metadata": {},
     "output_type": "execute_result"
    },
    {
     "data": {
      "text/plain": [
       "'C:\\\\Users\\\\fralu\\\\Documents\\\\GitHub\\\\anndl\\\\image-segmentation\\\\Segmentation_Dataset\\\\training\\\\masks\\\\img\\\\6661.tif'"
      ]
     },
     "execution_count": 6,
     "metadata": {},
     "output_type": "execute_result"
    },
    {
     "data": {
      "text/plain": [
       "'C:\\\\Users\\\\fralu\\\\Documents\\\\GitHub\\\\anndl\\\\image-segmentation\\\\Segmentation_Dataset\\\\training\\\\images\\\\img\\\\6663.tif'"
      ]
     },
     "execution_count": 6,
     "metadata": {},
     "output_type": "execute_result"
    },
    {
     "data": {
      "text/plain": [
       "'C:\\\\Users\\\\fralu\\\\Documents\\\\GitHub\\\\anndl\\\\image-segmentation\\\\Segmentation_Dataset\\\\training\\\\masks\\\\img\\\\6663.tif'"
      ]
     },
     "execution_count": 6,
     "metadata": {},
     "output_type": "execute_result"
    },
    {
     "data": {
      "text/plain": [
       "'C:\\\\Users\\\\fralu\\\\Documents\\\\GitHub\\\\anndl\\\\image-segmentation\\\\Segmentation_Dataset\\\\training\\\\images\\\\img\\\\6671.tif'"
      ]
     },
     "execution_count": 6,
     "metadata": {},
     "output_type": "execute_result"
    },
    {
     "data": {
      "text/plain": [
       "'C:\\\\Users\\\\fralu\\\\Documents\\\\GitHub\\\\anndl\\\\image-segmentation\\\\Segmentation_Dataset\\\\training\\\\masks\\\\img\\\\6671.tif'"
      ]
     },
     "execution_count": 6,
     "metadata": {},
     "output_type": "execute_result"
    },
    {
     "data": {
      "text/plain": [
       "'C:\\\\Users\\\\fralu\\\\Documents\\\\GitHub\\\\anndl\\\\image-segmentation\\\\Segmentation_Dataset\\\\training\\\\images\\\\img\\\\668.tif'"
      ]
     },
     "execution_count": 6,
     "metadata": {},
     "output_type": "execute_result"
    },
    {
     "data": {
      "text/plain": [
       "'C:\\\\Users\\\\fralu\\\\Documents\\\\GitHub\\\\anndl\\\\image-segmentation\\\\Segmentation_Dataset\\\\training\\\\masks\\\\img\\\\668.tif'"
      ]
     },
     "execution_count": 6,
     "metadata": {},
     "output_type": "execute_result"
    },
    {
     "data": {
      "text/plain": [
       "'C:\\\\Users\\\\fralu\\\\Documents\\\\GitHub\\\\anndl\\\\image-segmentation\\\\Segmentation_Dataset\\\\training\\\\images\\\\img\\\\6683.tif'"
      ]
     },
     "execution_count": 6,
     "metadata": {},
     "output_type": "execute_result"
    },
    {
     "data": {
      "text/plain": [
       "'C:\\\\Users\\\\fralu\\\\Documents\\\\GitHub\\\\anndl\\\\image-segmentation\\\\Segmentation_Dataset\\\\training\\\\masks\\\\img\\\\6683.tif'"
      ]
     },
     "execution_count": 6,
     "metadata": {},
     "output_type": "execute_result"
    },
    {
     "data": {
      "text/plain": [
       "'C:\\\\Users\\\\fralu\\\\Documents\\\\GitHub\\\\anndl\\\\image-segmentation\\\\Segmentation_Dataset\\\\training\\\\images\\\\img\\\\6685.tif'"
      ]
     },
     "execution_count": 6,
     "metadata": {},
     "output_type": "execute_result"
    },
    {
     "data": {
      "text/plain": [
       "'C:\\\\Users\\\\fralu\\\\Documents\\\\GitHub\\\\anndl\\\\image-segmentation\\\\Segmentation_Dataset\\\\training\\\\masks\\\\img\\\\6685.tif'"
      ]
     },
     "execution_count": 6,
     "metadata": {},
     "output_type": "execute_result"
    },
    {
     "data": {
      "text/plain": [
       "'C:\\\\Users\\\\fralu\\\\Documents\\\\GitHub\\\\anndl\\\\image-segmentation\\\\Segmentation_Dataset\\\\training\\\\images\\\\img\\\\6687.tif'"
      ]
     },
     "execution_count": 6,
     "metadata": {},
     "output_type": "execute_result"
    },
    {
     "data": {
      "text/plain": [
       "'C:\\\\Users\\\\fralu\\\\Documents\\\\GitHub\\\\anndl\\\\image-segmentation\\\\Segmentation_Dataset\\\\training\\\\masks\\\\img\\\\6687.tif'"
      ]
     },
     "execution_count": 6,
     "metadata": {},
     "output_type": "execute_result"
    },
    {
     "data": {
      "text/plain": [
       "'C:\\\\Users\\\\fralu\\\\Documents\\\\GitHub\\\\anndl\\\\image-segmentation\\\\Segmentation_Dataset\\\\training\\\\images\\\\img\\\\6688.tif'"
      ]
     },
     "execution_count": 6,
     "metadata": {},
     "output_type": "execute_result"
    },
    {
     "data": {
      "text/plain": [
       "'C:\\\\Users\\\\fralu\\\\Documents\\\\GitHub\\\\anndl\\\\image-segmentation\\\\Segmentation_Dataset\\\\training\\\\masks\\\\img\\\\6688.tif'"
      ]
     },
     "execution_count": 6,
     "metadata": {},
     "output_type": "execute_result"
    },
    {
     "data": {
      "text/plain": [
       "'C:\\\\Users\\\\fralu\\\\Documents\\\\GitHub\\\\anndl\\\\image-segmentation\\\\Segmentation_Dataset\\\\training\\\\images\\\\img\\\\6690.tif'"
      ]
     },
     "execution_count": 6,
     "metadata": {},
     "output_type": "execute_result"
    },
    {
     "data": {
      "text/plain": [
       "'C:\\\\Users\\\\fralu\\\\Documents\\\\GitHub\\\\anndl\\\\image-segmentation\\\\Segmentation_Dataset\\\\training\\\\masks\\\\img\\\\6690.tif'"
      ]
     },
     "execution_count": 6,
     "metadata": {},
     "output_type": "execute_result"
    },
    {
     "data": {
      "text/plain": [
       "'C:\\\\Users\\\\fralu\\\\Documents\\\\GitHub\\\\anndl\\\\image-segmentation\\\\Segmentation_Dataset\\\\training\\\\images\\\\img\\\\6692.tif'"
      ]
     },
     "execution_count": 6,
     "metadata": {},
     "output_type": "execute_result"
    },
    {
     "data": {
      "text/plain": [
       "'C:\\\\Users\\\\fralu\\\\Documents\\\\GitHub\\\\anndl\\\\image-segmentation\\\\Segmentation_Dataset\\\\training\\\\masks\\\\img\\\\6692.tif'"
      ]
     },
     "execution_count": 6,
     "metadata": {},
     "output_type": "execute_result"
    },
    {
     "data": {
      "text/plain": [
       "'C:\\\\Users\\\\fralu\\\\Documents\\\\GitHub\\\\anndl\\\\image-segmentation\\\\Segmentation_Dataset\\\\training\\\\images\\\\img\\\\670.tif'"
      ]
     },
     "execution_count": 6,
     "metadata": {},
     "output_type": "execute_result"
    },
    {
     "data": {
      "text/plain": [
       "'C:\\\\Users\\\\fralu\\\\Documents\\\\GitHub\\\\anndl\\\\image-segmentation\\\\Segmentation_Dataset\\\\training\\\\masks\\\\img\\\\670.tif'"
      ]
     },
     "execution_count": 6,
     "metadata": {},
     "output_type": "execute_result"
    },
    {
     "data": {
      "text/plain": [
       "'C:\\\\Users\\\\fralu\\\\Documents\\\\GitHub\\\\anndl\\\\image-segmentation\\\\Segmentation_Dataset\\\\training\\\\images\\\\img\\\\6709.tif'"
      ]
     },
     "execution_count": 6,
     "metadata": {},
     "output_type": "execute_result"
    },
    {
     "data": {
      "text/plain": [
       "'C:\\\\Users\\\\fralu\\\\Documents\\\\GitHub\\\\anndl\\\\image-segmentation\\\\Segmentation_Dataset\\\\training\\\\masks\\\\img\\\\6709.tif'"
      ]
     },
     "execution_count": 6,
     "metadata": {},
     "output_type": "execute_result"
    },
    {
     "data": {
      "text/plain": [
       "'C:\\\\Users\\\\fralu\\\\Documents\\\\GitHub\\\\anndl\\\\image-segmentation\\\\Segmentation_Dataset\\\\training\\\\images\\\\img\\\\671.tif'"
      ]
     },
     "execution_count": 6,
     "metadata": {},
     "output_type": "execute_result"
    },
    {
     "data": {
      "text/plain": [
       "'C:\\\\Users\\\\fralu\\\\Documents\\\\GitHub\\\\anndl\\\\image-segmentation\\\\Segmentation_Dataset\\\\training\\\\masks\\\\img\\\\671.tif'"
      ]
     },
     "execution_count": 6,
     "metadata": {},
     "output_type": "execute_result"
    },
    {
     "data": {
      "text/plain": [
       "'C:\\\\Users\\\\fralu\\\\Documents\\\\GitHub\\\\anndl\\\\image-segmentation\\\\Segmentation_Dataset\\\\training\\\\images\\\\img\\\\6710.tif'"
      ]
     },
     "execution_count": 6,
     "metadata": {},
     "output_type": "execute_result"
    },
    {
     "data": {
      "text/plain": [
       "'C:\\\\Users\\\\fralu\\\\Documents\\\\GitHub\\\\anndl\\\\image-segmentation\\\\Segmentation_Dataset\\\\training\\\\masks\\\\img\\\\6710.tif'"
      ]
     },
     "execution_count": 6,
     "metadata": {},
     "output_type": "execute_result"
    },
    {
     "data": {
      "text/plain": [
       "'C:\\\\Users\\\\fralu\\\\Documents\\\\GitHub\\\\anndl\\\\image-segmentation\\\\Segmentation_Dataset\\\\training\\\\images\\\\img\\\\6711.tif'"
      ]
     },
     "execution_count": 6,
     "metadata": {},
     "output_type": "execute_result"
    },
    {
     "data": {
      "text/plain": [
       "'C:\\\\Users\\\\fralu\\\\Documents\\\\GitHub\\\\anndl\\\\image-segmentation\\\\Segmentation_Dataset\\\\training\\\\masks\\\\img\\\\6711.tif'"
      ]
     },
     "execution_count": 6,
     "metadata": {},
     "output_type": "execute_result"
    },
    {
     "data": {
      "text/plain": [
       "'C:\\\\Users\\\\fralu\\\\Documents\\\\GitHub\\\\anndl\\\\image-segmentation\\\\Segmentation_Dataset\\\\training\\\\images\\\\img\\\\6712.tif'"
      ]
     },
     "execution_count": 6,
     "metadata": {},
     "output_type": "execute_result"
    },
    {
     "data": {
      "text/plain": [
       "'C:\\\\Users\\\\fralu\\\\Documents\\\\GitHub\\\\anndl\\\\image-segmentation\\\\Segmentation_Dataset\\\\training\\\\masks\\\\img\\\\6712.tif'"
      ]
     },
     "execution_count": 6,
     "metadata": {},
     "output_type": "execute_result"
    },
    {
     "data": {
      "text/plain": [
       "'C:\\\\Users\\\\fralu\\\\Documents\\\\GitHub\\\\anndl\\\\image-segmentation\\\\Segmentation_Dataset\\\\training\\\\images\\\\img\\\\6714.tif'"
      ]
     },
     "execution_count": 6,
     "metadata": {},
     "output_type": "execute_result"
    },
    {
     "data": {
      "text/plain": [
       "'C:\\\\Users\\\\fralu\\\\Documents\\\\GitHub\\\\anndl\\\\image-segmentation\\\\Segmentation_Dataset\\\\training\\\\masks\\\\img\\\\6714.tif'"
      ]
     },
     "execution_count": 6,
     "metadata": {},
     "output_type": "execute_result"
    },
    {
     "data": {
      "text/plain": [
       "'C:\\\\Users\\\\fralu\\\\Documents\\\\GitHub\\\\anndl\\\\image-segmentation\\\\Segmentation_Dataset\\\\training\\\\images\\\\img\\\\6715.tif'"
      ]
     },
     "execution_count": 6,
     "metadata": {},
     "output_type": "execute_result"
    },
    {
     "data": {
      "text/plain": [
       "'C:\\\\Users\\\\fralu\\\\Documents\\\\GitHub\\\\anndl\\\\image-segmentation\\\\Segmentation_Dataset\\\\training\\\\masks\\\\img\\\\6715.tif'"
      ]
     },
     "execution_count": 6,
     "metadata": {},
     "output_type": "execute_result"
    },
    {
     "data": {
      "text/plain": [
       "'C:\\\\Users\\\\fralu\\\\Documents\\\\GitHub\\\\anndl\\\\image-segmentation\\\\Segmentation_Dataset\\\\training\\\\images\\\\img\\\\6718.tif'"
      ]
     },
     "execution_count": 6,
     "metadata": {},
     "output_type": "execute_result"
    },
    {
     "data": {
      "text/plain": [
       "'C:\\\\Users\\\\fralu\\\\Documents\\\\GitHub\\\\anndl\\\\image-segmentation\\\\Segmentation_Dataset\\\\training\\\\masks\\\\img\\\\6718.tif'"
      ]
     },
     "execution_count": 6,
     "metadata": {},
     "output_type": "execute_result"
    },
    {
     "data": {
      "text/plain": [
       "'C:\\\\Users\\\\fralu\\\\Documents\\\\GitHub\\\\anndl\\\\image-segmentation\\\\Segmentation_Dataset\\\\training\\\\images\\\\img\\\\672.tif'"
      ]
     },
     "execution_count": 6,
     "metadata": {},
     "output_type": "execute_result"
    },
    {
     "data": {
      "text/plain": [
       "'C:\\\\Users\\\\fralu\\\\Documents\\\\GitHub\\\\anndl\\\\image-segmentation\\\\Segmentation_Dataset\\\\training\\\\masks\\\\img\\\\672.tif'"
      ]
     },
     "execution_count": 6,
     "metadata": {},
     "output_type": "execute_result"
    },
    {
     "data": {
      "text/plain": [
       "'C:\\\\Users\\\\fralu\\\\Documents\\\\GitHub\\\\anndl\\\\image-segmentation\\\\Segmentation_Dataset\\\\training\\\\images\\\\img\\\\6722.tif'"
      ]
     },
     "execution_count": 6,
     "metadata": {},
     "output_type": "execute_result"
    },
    {
     "data": {
      "text/plain": [
       "'C:\\\\Users\\\\fralu\\\\Documents\\\\GitHub\\\\anndl\\\\image-segmentation\\\\Segmentation_Dataset\\\\training\\\\masks\\\\img\\\\6722.tif'"
      ]
     },
     "execution_count": 6,
     "metadata": {},
     "output_type": "execute_result"
    },
    {
     "data": {
      "text/plain": [
       "'C:\\\\Users\\\\fralu\\\\Documents\\\\GitHub\\\\anndl\\\\image-segmentation\\\\Segmentation_Dataset\\\\training\\\\images\\\\img\\\\6723.tif'"
      ]
     },
     "execution_count": 6,
     "metadata": {},
     "output_type": "execute_result"
    },
    {
     "data": {
      "text/plain": [
       "'C:\\\\Users\\\\fralu\\\\Documents\\\\GitHub\\\\anndl\\\\image-segmentation\\\\Segmentation_Dataset\\\\training\\\\masks\\\\img\\\\6723.tif'"
      ]
     },
     "execution_count": 6,
     "metadata": {},
     "output_type": "execute_result"
    },
    {
     "data": {
      "text/plain": [
       "'C:\\\\Users\\\\fralu\\\\Documents\\\\GitHub\\\\anndl\\\\image-segmentation\\\\Segmentation_Dataset\\\\training\\\\images\\\\img\\\\673.tif'"
      ]
     },
     "execution_count": 6,
     "metadata": {},
     "output_type": "execute_result"
    },
    {
     "data": {
      "text/plain": [
       "'C:\\\\Users\\\\fralu\\\\Documents\\\\GitHub\\\\anndl\\\\image-segmentation\\\\Segmentation_Dataset\\\\training\\\\masks\\\\img\\\\673.tif'"
      ]
     },
     "execution_count": 6,
     "metadata": {},
     "output_type": "execute_result"
    },
    {
     "data": {
      "text/plain": [
       "'C:\\\\Users\\\\fralu\\\\Documents\\\\GitHub\\\\anndl\\\\image-segmentation\\\\Segmentation_Dataset\\\\training\\\\images\\\\img\\\\6735.tif'"
      ]
     },
     "execution_count": 6,
     "metadata": {},
     "output_type": "execute_result"
    },
    {
     "data": {
      "text/plain": [
       "'C:\\\\Users\\\\fralu\\\\Documents\\\\GitHub\\\\anndl\\\\image-segmentation\\\\Segmentation_Dataset\\\\training\\\\masks\\\\img\\\\6735.tif'"
      ]
     },
     "execution_count": 6,
     "metadata": {},
     "output_type": "execute_result"
    },
    {
     "data": {
      "text/plain": [
       "'C:\\\\Users\\\\fralu\\\\Documents\\\\GitHub\\\\anndl\\\\image-segmentation\\\\Segmentation_Dataset\\\\training\\\\images\\\\img\\\\6746.tif'"
      ]
     },
     "execution_count": 6,
     "metadata": {},
     "output_type": "execute_result"
    },
    {
     "data": {
      "text/plain": [
       "'C:\\\\Users\\\\fralu\\\\Documents\\\\GitHub\\\\anndl\\\\image-segmentation\\\\Segmentation_Dataset\\\\training\\\\masks\\\\img\\\\6746.tif'"
      ]
     },
     "execution_count": 6,
     "metadata": {},
     "output_type": "execute_result"
    },
    {
     "data": {
      "text/plain": [
       "'C:\\\\Users\\\\fralu\\\\Documents\\\\GitHub\\\\anndl\\\\image-segmentation\\\\Segmentation_Dataset\\\\training\\\\images\\\\img\\\\6753.tif'"
      ]
     },
     "execution_count": 6,
     "metadata": {},
     "output_type": "execute_result"
    },
    {
     "data": {
      "text/plain": [
       "'C:\\\\Users\\\\fralu\\\\Documents\\\\GitHub\\\\anndl\\\\image-segmentation\\\\Segmentation_Dataset\\\\training\\\\masks\\\\img\\\\6753.tif'"
      ]
     },
     "execution_count": 6,
     "metadata": {},
     "output_type": "execute_result"
    },
    {
     "data": {
      "text/plain": [
       "'C:\\\\Users\\\\fralu\\\\Documents\\\\GitHub\\\\anndl\\\\image-segmentation\\\\Segmentation_Dataset\\\\training\\\\images\\\\img\\\\6759.tif'"
      ]
     },
     "execution_count": 6,
     "metadata": {},
     "output_type": "execute_result"
    },
    {
     "data": {
      "text/plain": [
       "'C:\\\\Users\\\\fralu\\\\Documents\\\\GitHub\\\\anndl\\\\image-segmentation\\\\Segmentation_Dataset\\\\training\\\\masks\\\\img\\\\6759.tif'"
      ]
     },
     "execution_count": 6,
     "metadata": {},
     "output_type": "execute_result"
    },
    {
     "data": {
      "text/plain": [
       "'C:\\\\Users\\\\fralu\\\\Documents\\\\GitHub\\\\anndl\\\\image-segmentation\\\\Segmentation_Dataset\\\\training\\\\images\\\\img\\\\677.tif'"
      ]
     },
     "execution_count": 6,
     "metadata": {},
     "output_type": "execute_result"
    },
    {
     "data": {
      "text/plain": [
       "'C:\\\\Users\\\\fralu\\\\Documents\\\\GitHub\\\\anndl\\\\image-segmentation\\\\Segmentation_Dataset\\\\training\\\\masks\\\\img\\\\677.tif'"
      ]
     },
     "execution_count": 6,
     "metadata": {},
     "output_type": "execute_result"
    },
    {
     "data": {
      "text/plain": [
       "'C:\\\\Users\\\\fralu\\\\Documents\\\\GitHub\\\\anndl\\\\image-segmentation\\\\Segmentation_Dataset\\\\training\\\\images\\\\img\\\\6773.tif'"
      ]
     },
     "execution_count": 6,
     "metadata": {},
     "output_type": "execute_result"
    },
    {
     "data": {
      "text/plain": [
       "'C:\\\\Users\\\\fralu\\\\Documents\\\\GitHub\\\\anndl\\\\image-segmentation\\\\Segmentation_Dataset\\\\training\\\\masks\\\\img\\\\6773.tif'"
      ]
     },
     "execution_count": 6,
     "metadata": {},
     "output_type": "execute_result"
    },
    {
     "data": {
      "text/plain": [
       "'C:\\\\Users\\\\fralu\\\\Documents\\\\GitHub\\\\anndl\\\\image-segmentation\\\\Segmentation_Dataset\\\\training\\\\images\\\\img\\\\6774.tif'"
      ]
     },
     "execution_count": 6,
     "metadata": {},
     "output_type": "execute_result"
    },
    {
     "data": {
      "text/plain": [
       "'C:\\\\Users\\\\fralu\\\\Documents\\\\GitHub\\\\anndl\\\\image-segmentation\\\\Segmentation_Dataset\\\\training\\\\masks\\\\img\\\\6774.tif'"
      ]
     },
     "execution_count": 6,
     "metadata": {},
     "output_type": "execute_result"
    },
    {
     "data": {
      "text/plain": [
       "'C:\\\\Users\\\\fralu\\\\Documents\\\\GitHub\\\\anndl\\\\image-segmentation\\\\Segmentation_Dataset\\\\training\\\\images\\\\img\\\\6777.tif'"
      ]
     },
     "execution_count": 6,
     "metadata": {},
     "output_type": "execute_result"
    },
    {
     "data": {
      "text/plain": [
       "'C:\\\\Users\\\\fralu\\\\Documents\\\\GitHub\\\\anndl\\\\image-segmentation\\\\Segmentation_Dataset\\\\training\\\\masks\\\\img\\\\6777.tif'"
      ]
     },
     "execution_count": 6,
     "metadata": {},
     "output_type": "execute_result"
    },
    {
     "data": {
      "text/plain": [
       "'C:\\\\Users\\\\fralu\\\\Documents\\\\GitHub\\\\anndl\\\\image-segmentation\\\\Segmentation_Dataset\\\\training\\\\images\\\\img\\\\6779.tif'"
      ]
     },
     "execution_count": 6,
     "metadata": {},
     "output_type": "execute_result"
    },
    {
     "data": {
      "text/plain": [
       "'C:\\\\Users\\\\fralu\\\\Documents\\\\GitHub\\\\anndl\\\\image-segmentation\\\\Segmentation_Dataset\\\\training\\\\masks\\\\img\\\\6779.tif'"
      ]
     },
     "execution_count": 6,
     "metadata": {},
     "output_type": "execute_result"
    },
    {
     "data": {
      "text/plain": [
       "'C:\\\\Users\\\\fralu\\\\Documents\\\\GitHub\\\\anndl\\\\image-segmentation\\\\Segmentation_Dataset\\\\training\\\\images\\\\img\\\\6780.tif'"
      ]
     },
     "execution_count": 6,
     "metadata": {},
     "output_type": "execute_result"
    },
    {
     "data": {
      "text/plain": [
       "'C:\\\\Users\\\\fralu\\\\Documents\\\\GitHub\\\\anndl\\\\image-segmentation\\\\Segmentation_Dataset\\\\training\\\\masks\\\\img\\\\6780.tif'"
      ]
     },
     "execution_count": 6,
     "metadata": {},
     "output_type": "execute_result"
    },
    {
     "data": {
      "text/plain": [
       "'C:\\\\Users\\\\fralu\\\\Documents\\\\GitHub\\\\anndl\\\\image-segmentation\\\\Segmentation_Dataset\\\\training\\\\images\\\\img\\\\6786.tif'"
      ]
     },
     "execution_count": 6,
     "metadata": {},
     "output_type": "execute_result"
    },
    {
     "data": {
      "text/plain": [
       "'C:\\\\Users\\\\fralu\\\\Documents\\\\GitHub\\\\anndl\\\\image-segmentation\\\\Segmentation_Dataset\\\\training\\\\masks\\\\img\\\\6786.tif'"
      ]
     },
     "execution_count": 6,
     "metadata": {},
     "output_type": "execute_result"
    },
    {
     "data": {
      "text/plain": [
       "'C:\\\\Users\\\\fralu\\\\Documents\\\\GitHub\\\\anndl\\\\image-segmentation\\\\Segmentation_Dataset\\\\training\\\\images\\\\img\\\\6795.tif'"
      ]
     },
     "execution_count": 6,
     "metadata": {},
     "output_type": "execute_result"
    },
    {
     "data": {
      "text/plain": [
       "'C:\\\\Users\\\\fralu\\\\Documents\\\\GitHub\\\\anndl\\\\image-segmentation\\\\Segmentation_Dataset\\\\training\\\\masks\\\\img\\\\6795.tif'"
      ]
     },
     "execution_count": 6,
     "metadata": {},
     "output_type": "execute_result"
    },
    {
     "data": {
      "text/plain": [
       "'C:\\\\Users\\\\fralu\\\\Documents\\\\GitHub\\\\anndl\\\\image-segmentation\\\\Segmentation_Dataset\\\\training\\\\images\\\\img\\\\6801.tif'"
      ]
     },
     "execution_count": 6,
     "metadata": {},
     "output_type": "execute_result"
    },
    {
     "data": {
      "text/plain": [
       "'C:\\\\Users\\\\fralu\\\\Documents\\\\GitHub\\\\anndl\\\\image-segmentation\\\\Segmentation_Dataset\\\\training\\\\masks\\\\img\\\\6801.tif'"
      ]
     },
     "execution_count": 6,
     "metadata": {},
     "output_type": "execute_result"
    },
    {
     "data": {
      "text/plain": [
       "'C:\\\\Users\\\\fralu\\\\Documents\\\\GitHub\\\\anndl\\\\image-segmentation\\\\Segmentation_Dataset\\\\training\\\\images\\\\img\\\\6802.tif'"
      ]
     },
     "execution_count": 6,
     "metadata": {},
     "output_type": "execute_result"
    },
    {
     "data": {
      "text/plain": [
       "'C:\\\\Users\\\\fralu\\\\Documents\\\\GitHub\\\\anndl\\\\image-segmentation\\\\Segmentation_Dataset\\\\training\\\\masks\\\\img\\\\6802.tif'"
      ]
     },
     "execution_count": 6,
     "metadata": {},
     "output_type": "execute_result"
    },
    {
     "data": {
      "text/plain": [
       "'C:\\\\Users\\\\fralu\\\\Documents\\\\GitHub\\\\anndl\\\\image-segmentation\\\\Segmentation_Dataset\\\\training\\\\images\\\\img\\\\6804.tif'"
      ]
     },
     "execution_count": 6,
     "metadata": {},
     "output_type": "execute_result"
    },
    {
     "data": {
      "text/plain": [
       "'C:\\\\Users\\\\fralu\\\\Documents\\\\GitHub\\\\anndl\\\\image-segmentation\\\\Segmentation_Dataset\\\\training\\\\masks\\\\img\\\\6804.tif'"
      ]
     },
     "execution_count": 6,
     "metadata": {},
     "output_type": "execute_result"
    },
    {
     "data": {
      "text/plain": [
       "'C:\\\\Users\\\\fralu\\\\Documents\\\\GitHub\\\\anndl\\\\image-segmentation\\\\Segmentation_Dataset\\\\training\\\\images\\\\img\\\\6806.tif'"
      ]
     },
     "execution_count": 6,
     "metadata": {},
     "output_type": "execute_result"
    },
    {
     "data": {
      "text/plain": [
       "'C:\\\\Users\\\\fralu\\\\Documents\\\\GitHub\\\\anndl\\\\image-segmentation\\\\Segmentation_Dataset\\\\training\\\\masks\\\\img\\\\6806.tif'"
      ]
     },
     "execution_count": 6,
     "metadata": {},
     "output_type": "execute_result"
    },
    {
     "data": {
      "text/plain": [
       "'C:\\\\Users\\\\fralu\\\\Documents\\\\GitHub\\\\anndl\\\\image-segmentation\\\\Segmentation_Dataset\\\\training\\\\images\\\\img\\\\6822.tif'"
      ]
     },
     "execution_count": 6,
     "metadata": {},
     "output_type": "execute_result"
    },
    {
     "data": {
      "text/plain": [
       "'C:\\\\Users\\\\fralu\\\\Documents\\\\GitHub\\\\anndl\\\\image-segmentation\\\\Segmentation_Dataset\\\\training\\\\masks\\\\img\\\\6822.tif'"
      ]
     },
     "execution_count": 6,
     "metadata": {},
     "output_type": "execute_result"
    },
    {
     "data": {
      "text/plain": [
       "'C:\\\\Users\\\\fralu\\\\Documents\\\\GitHub\\\\anndl\\\\image-segmentation\\\\Segmentation_Dataset\\\\training\\\\images\\\\img\\\\6825.tif'"
      ]
     },
     "execution_count": 6,
     "metadata": {},
     "output_type": "execute_result"
    },
    {
     "data": {
      "text/plain": [
       "'C:\\\\Users\\\\fralu\\\\Documents\\\\GitHub\\\\anndl\\\\image-segmentation\\\\Segmentation_Dataset\\\\training\\\\masks\\\\img\\\\6825.tif'"
      ]
     },
     "execution_count": 6,
     "metadata": {},
     "output_type": "execute_result"
    },
    {
     "data": {
      "text/plain": [
       "'C:\\\\Users\\\\fralu\\\\Documents\\\\GitHub\\\\anndl\\\\image-segmentation\\\\Segmentation_Dataset\\\\training\\\\images\\\\img\\\\6830.tif'"
      ]
     },
     "execution_count": 6,
     "metadata": {},
     "output_type": "execute_result"
    },
    {
     "data": {
      "text/plain": [
       "'C:\\\\Users\\\\fralu\\\\Documents\\\\GitHub\\\\anndl\\\\image-segmentation\\\\Segmentation_Dataset\\\\training\\\\masks\\\\img\\\\6830.tif'"
      ]
     },
     "execution_count": 6,
     "metadata": {},
     "output_type": "execute_result"
    },
    {
     "data": {
      "text/plain": [
       "'C:\\\\Users\\\\fralu\\\\Documents\\\\GitHub\\\\anndl\\\\image-segmentation\\\\Segmentation_Dataset\\\\training\\\\images\\\\img\\\\6831.tif'"
      ]
     },
     "execution_count": 6,
     "metadata": {},
     "output_type": "execute_result"
    },
    {
     "data": {
      "text/plain": [
       "'C:\\\\Users\\\\fralu\\\\Documents\\\\GitHub\\\\anndl\\\\image-segmentation\\\\Segmentation_Dataset\\\\training\\\\masks\\\\img\\\\6831.tif'"
      ]
     },
     "execution_count": 6,
     "metadata": {},
     "output_type": "execute_result"
    },
    {
     "data": {
      "text/plain": [
       "'C:\\\\Users\\\\fralu\\\\Documents\\\\GitHub\\\\anndl\\\\image-segmentation\\\\Segmentation_Dataset\\\\training\\\\images\\\\img\\\\6832.tif'"
      ]
     },
     "execution_count": 6,
     "metadata": {},
     "output_type": "execute_result"
    },
    {
     "data": {
      "text/plain": [
       "'C:\\\\Users\\\\fralu\\\\Documents\\\\GitHub\\\\anndl\\\\image-segmentation\\\\Segmentation_Dataset\\\\training\\\\masks\\\\img\\\\6832.tif'"
      ]
     },
     "execution_count": 6,
     "metadata": {},
     "output_type": "execute_result"
    },
    {
     "data": {
      "text/plain": [
       "'C:\\\\Users\\\\fralu\\\\Documents\\\\GitHub\\\\anndl\\\\image-segmentation\\\\Segmentation_Dataset\\\\training\\\\images\\\\img\\\\6834.tif'"
      ]
     },
     "execution_count": 6,
     "metadata": {},
     "output_type": "execute_result"
    },
    {
     "data": {
      "text/plain": [
       "'C:\\\\Users\\\\fralu\\\\Documents\\\\GitHub\\\\anndl\\\\image-segmentation\\\\Segmentation_Dataset\\\\training\\\\masks\\\\img\\\\6834.tif'"
      ]
     },
     "execution_count": 6,
     "metadata": {},
     "output_type": "execute_result"
    },
    {
     "data": {
      "text/plain": [
       "'C:\\\\Users\\\\fralu\\\\Documents\\\\GitHub\\\\anndl\\\\image-segmentation\\\\Segmentation_Dataset\\\\training\\\\images\\\\img\\\\6836.tif'"
      ]
     },
     "execution_count": 6,
     "metadata": {},
     "output_type": "execute_result"
    },
    {
     "data": {
      "text/plain": [
       "'C:\\\\Users\\\\fralu\\\\Documents\\\\GitHub\\\\anndl\\\\image-segmentation\\\\Segmentation_Dataset\\\\training\\\\masks\\\\img\\\\6836.tif'"
      ]
     },
     "execution_count": 6,
     "metadata": {},
     "output_type": "execute_result"
    },
    {
     "data": {
      "text/plain": [
       "'C:\\\\Users\\\\fralu\\\\Documents\\\\GitHub\\\\anndl\\\\image-segmentation\\\\Segmentation_Dataset\\\\training\\\\images\\\\img\\\\6839.tif'"
      ]
     },
     "execution_count": 6,
     "metadata": {},
     "output_type": "execute_result"
    },
    {
     "data": {
      "text/plain": [
       "'C:\\\\Users\\\\fralu\\\\Documents\\\\GitHub\\\\anndl\\\\image-segmentation\\\\Segmentation_Dataset\\\\training\\\\masks\\\\img\\\\6839.tif'"
      ]
     },
     "execution_count": 6,
     "metadata": {},
     "output_type": "execute_result"
    },
    {
     "data": {
      "text/plain": [
       "'C:\\\\Users\\\\fralu\\\\Documents\\\\GitHub\\\\anndl\\\\image-segmentation\\\\Segmentation_Dataset\\\\training\\\\images\\\\img\\\\6842.tif'"
      ]
     },
     "execution_count": 6,
     "metadata": {},
     "output_type": "execute_result"
    },
    {
     "data": {
      "text/plain": [
       "'C:\\\\Users\\\\fralu\\\\Documents\\\\GitHub\\\\anndl\\\\image-segmentation\\\\Segmentation_Dataset\\\\training\\\\masks\\\\img\\\\6842.tif'"
      ]
     },
     "execution_count": 6,
     "metadata": {},
     "output_type": "execute_result"
    },
    {
     "data": {
      "text/plain": [
       "'C:\\\\Users\\\\fralu\\\\Documents\\\\GitHub\\\\anndl\\\\image-segmentation\\\\Segmentation_Dataset\\\\training\\\\images\\\\img\\\\6843.tif'"
      ]
     },
     "execution_count": 6,
     "metadata": {},
     "output_type": "execute_result"
    },
    {
     "data": {
      "text/plain": [
       "'C:\\\\Users\\\\fralu\\\\Documents\\\\GitHub\\\\anndl\\\\image-segmentation\\\\Segmentation_Dataset\\\\training\\\\masks\\\\img\\\\6843.tif'"
      ]
     },
     "execution_count": 6,
     "metadata": {},
     "output_type": "execute_result"
    },
    {
     "data": {
      "text/plain": [
       "'C:\\\\Users\\\\fralu\\\\Documents\\\\GitHub\\\\anndl\\\\image-segmentation\\\\Segmentation_Dataset\\\\training\\\\images\\\\img\\\\6848.tif'"
      ]
     },
     "execution_count": 6,
     "metadata": {},
     "output_type": "execute_result"
    },
    {
     "data": {
      "text/plain": [
       "'C:\\\\Users\\\\fralu\\\\Documents\\\\GitHub\\\\anndl\\\\image-segmentation\\\\Segmentation_Dataset\\\\training\\\\masks\\\\img\\\\6848.tif'"
      ]
     },
     "execution_count": 6,
     "metadata": {},
     "output_type": "execute_result"
    },
    {
     "data": {
      "text/plain": [
       "'C:\\\\Users\\\\fralu\\\\Documents\\\\GitHub\\\\anndl\\\\image-segmentation\\\\Segmentation_Dataset\\\\training\\\\images\\\\img\\\\6853.tif'"
      ]
     },
     "execution_count": 6,
     "metadata": {},
     "output_type": "execute_result"
    },
    {
     "data": {
      "text/plain": [
       "'C:\\\\Users\\\\fralu\\\\Documents\\\\GitHub\\\\anndl\\\\image-segmentation\\\\Segmentation_Dataset\\\\training\\\\masks\\\\img\\\\6853.tif'"
      ]
     },
     "execution_count": 6,
     "metadata": {},
     "output_type": "execute_result"
    },
    {
     "data": {
      "text/plain": [
       "'C:\\\\Users\\\\fralu\\\\Documents\\\\GitHub\\\\anndl\\\\image-segmentation\\\\Segmentation_Dataset\\\\training\\\\images\\\\img\\\\6854.tif'"
      ]
     },
     "execution_count": 6,
     "metadata": {},
     "output_type": "execute_result"
    },
    {
     "data": {
      "text/plain": [
       "'C:\\\\Users\\\\fralu\\\\Documents\\\\GitHub\\\\anndl\\\\image-segmentation\\\\Segmentation_Dataset\\\\training\\\\masks\\\\img\\\\6854.tif'"
      ]
     },
     "execution_count": 6,
     "metadata": {},
     "output_type": "execute_result"
    },
    {
     "data": {
      "text/plain": [
       "'C:\\\\Users\\\\fralu\\\\Documents\\\\GitHub\\\\anndl\\\\image-segmentation\\\\Segmentation_Dataset\\\\training\\\\images\\\\img\\\\6855.tif'"
      ]
     },
     "execution_count": 6,
     "metadata": {},
     "output_type": "execute_result"
    },
    {
     "data": {
      "text/plain": [
       "'C:\\\\Users\\\\fralu\\\\Documents\\\\GitHub\\\\anndl\\\\image-segmentation\\\\Segmentation_Dataset\\\\training\\\\masks\\\\img\\\\6855.tif'"
      ]
     },
     "execution_count": 6,
     "metadata": {},
     "output_type": "execute_result"
    },
    {
     "data": {
      "text/plain": [
       "'C:\\\\Users\\\\fralu\\\\Documents\\\\GitHub\\\\anndl\\\\image-segmentation\\\\Segmentation_Dataset\\\\training\\\\images\\\\img\\\\6884.tif'"
      ]
     },
     "execution_count": 6,
     "metadata": {},
     "output_type": "execute_result"
    },
    {
     "data": {
      "text/plain": [
       "'C:\\\\Users\\\\fralu\\\\Documents\\\\GitHub\\\\anndl\\\\image-segmentation\\\\Segmentation_Dataset\\\\training\\\\masks\\\\img\\\\6884.tif'"
      ]
     },
     "execution_count": 6,
     "metadata": {},
     "output_type": "execute_result"
    },
    {
     "data": {
      "text/plain": [
       "'C:\\\\Users\\\\fralu\\\\Documents\\\\GitHub\\\\anndl\\\\image-segmentation\\\\Segmentation_Dataset\\\\training\\\\images\\\\img\\\\69.tif'"
      ]
     },
     "execution_count": 6,
     "metadata": {},
     "output_type": "execute_result"
    },
    {
     "data": {
      "text/plain": [
       "'C:\\\\Users\\\\fralu\\\\Documents\\\\GitHub\\\\anndl\\\\image-segmentation\\\\Segmentation_Dataset\\\\training\\\\masks\\\\img\\\\69.tif'"
      ]
     },
     "execution_count": 6,
     "metadata": {},
     "output_type": "execute_result"
    },
    {
     "data": {
      "text/plain": [
       "'C:\\\\Users\\\\fralu\\\\Documents\\\\GitHub\\\\anndl\\\\image-segmentation\\\\Segmentation_Dataset\\\\training\\\\images\\\\img\\\\6900.tif'"
      ]
     },
     "execution_count": 6,
     "metadata": {},
     "output_type": "execute_result"
    },
    {
     "data": {
      "text/plain": [
       "'C:\\\\Users\\\\fralu\\\\Documents\\\\GitHub\\\\anndl\\\\image-segmentation\\\\Segmentation_Dataset\\\\training\\\\masks\\\\img\\\\6900.tif'"
      ]
     },
     "execution_count": 6,
     "metadata": {},
     "output_type": "execute_result"
    },
    {
     "data": {
      "text/plain": [
       "'C:\\\\Users\\\\fralu\\\\Documents\\\\GitHub\\\\anndl\\\\image-segmentation\\\\Segmentation_Dataset\\\\training\\\\images\\\\img\\\\6908.tif'"
      ]
     },
     "execution_count": 6,
     "metadata": {},
     "output_type": "execute_result"
    },
    {
     "data": {
      "text/plain": [
       "'C:\\\\Users\\\\fralu\\\\Documents\\\\GitHub\\\\anndl\\\\image-segmentation\\\\Segmentation_Dataset\\\\training\\\\masks\\\\img\\\\6908.tif'"
      ]
     },
     "execution_count": 6,
     "metadata": {},
     "output_type": "execute_result"
    },
    {
     "data": {
      "text/plain": [
       "'C:\\\\Users\\\\fralu\\\\Documents\\\\GitHub\\\\anndl\\\\image-segmentation\\\\Segmentation_Dataset\\\\training\\\\images\\\\img\\\\6910.tif'"
      ]
     },
     "execution_count": 6,
     "metadata": {},
     "output_type": "execute_result"
    },
    {
     "data": {
      "text/plain": [
       "'C:\\\\Users\\\\fralu\\\\Documents\\\\GitHub\\\\anndl\\\\image-segmentation\\\\Segmentation_Dataset\\\\training\\\\masks\\\\img\\\\6910.tif'"
      ]
     },
     "execution_count": 6,
     "metadata": {},
     "output_type": "execute_result"
    },
    {
     "data": {
      "text/plain": [
       "'C:\\\\Users\\\\fralu\\\\Documents\\\\GitHub\\\\anndl\\\\image-segmentation\\\\Segmentation_Dataset\\\\training\\\\images\\\\img\\\\6919.tif'"
      ]
     },
     "execution_count": 6,
     "metadata": {},
     "output_type": "execute_result"
    },
    {
     "data": {
      "text/plain": [
       "'C:\\\\Users\\\\fralu\\\\Documents\\\\GitHub\\\\anndl\\\\image-segmentation\\\\Segmentation_Dataset\\\\training\\\\masks\\\\img\\\\6919.tif'"
      ]
     },
     "execution_count": 6,
     "metadata": {},
     "output_type": "execute_result"
    },
    {
     "data": {
      "text/plain": [
       "'C:\\\\Users\\\\fralu\\\\Documents\\\\GitHub\\\\anndl\\\\image-segmentation\\\\Segmentation_Dataset\\\\training\\\\images\\\\img\\\\6923.tif'"
      ]
     },
     "execution_count": 6,
     "metadata": {},
     "output_type": "execute_result"
    },
    {
     "data": {
      "text/plain": [
       "'C:\\\\Users\\\\fralu\\\\Documents\\\\GitHub\\\\anndl\\\\image-segmentation\\\\Segmentation_Dataset\\\\training\\\\masks\\\\img\\\\6923.tif'"
      ]
     },
     "execution_count": 6,
     "metadata": {},
     "output_type": "execute_result"
    },
    {
     "data": {
      "text/plain": [
       "'C:\\\\Users\\\\fralu\\\\Documents\\\\GitHub\\\\anndl\\\\image-segmentation\\\\Segmentation_Dataset\\\\training\\\\images\\\\img\\\\6933.tif'"
      ]
     },
     "execution_count": 6,
     "metadata": {},
     "output_type": "execute_result"
    },
    {
     "data": {
      "text/plain": [
       "'C:\\\\Users\\\\fralu\\\\Documents\\\\GitHub\\\\anndl\\\\image-segmentation\\\\Segmentation_Dataset\\\\training\\\\masks\\\\img\\\\6933.tif'"
      ]
     },
     "execution_count": 6,
     "metadata": {},
     "output_type": "execute_result"
    },
    {
     "data": {
      "text/plain": [
       "'C:\\\\Users\\\\fralu\\\\Documents\\\\GitHub\\\\anndl\\\\image-segmentation\\\\Segmentation_Dataset\\\\training\\\\images\\\\img\\\\6935.tif'"
      ]
     },
     "execution_count": 6,
     "metadata": {},
     "output_type": "execute_result"
    },
    {
     "data": {
      "text/plain": [
       "'C:\\\\Users\\\\fralu\\\\Documents\\\\GitHub\\\\anndl\\\\image-segmentation\\\\Segmentation_Dataset\\\\training\\\\masks\\\\img\\\\6935.tif'"
      ]
     },
     "execution_count": 6,
     "metadata": {},
     "output_type": "execute_result"
    },
    {
     "data": {
      "text/plain": [
       "'C:\\\\Users\\\\fralu\\\\Documents\\\\GitHub\\\\anndl\\\\image-segmentation\\\\Segmentation_Dataset\\\\training\\\\images\\\\img\\\\6940.tif'"
      ]
     },
     "execution_count": 6,
     "metadata": {},
     "output_type": "execute_result"
    },
    {
     "data": {
      "text/plain": [
       "'C:\\\\Users\\\\fralu\\\\Documents\\\\GitHub\\\\anndl\\\\image-segmentation\\\\Segmentation_Dataset\\\\training\\\\masks\\\\img\\\\6940.tif'"
      ]
     },
     "execution_count": 6,
     "metadata": {},
     "output_type": "execute_result"
    },
    {
     "data": {
      "text/plain": [
       "'C:\\\\Users\\\\fralu\\\\Documents\\\\GitHub\\\\anndl\\\\image-segmentation\\\\Segmentation_Dataset\\\\training\\\\images\\\\img\\\\6948.tif'"
      ]
     },
     "execution_count": 6,
     "metadata": {},
     "output_type": "execute_result"
    },
    {
     "data": {
      "text/plain": [
       "'C:\\\\Users\\\\fralu\\\\Documents\\\\GitHub\\\\anndl\\\\image-segmentation\\\\Segmentation_Dataset\\\\training\\\\masks\\\\img\\\\6948.tif'"
      ]
     },
     "execution_count": 6,
     "metadata": {},
     "output_type": "execute_result"
    },
    {
     "data": {
      "text/plain": [
       "'C:\\\\Users\\\\fralu\\\\Documents\\\\GitHub\\\\anndl\\\\image-segmentation\\\\Segmentation_Dataset\\\\training\\\\images\\\\img\\\\6949.tif'"
      ]
     },
     "execution_count": 6,
     "metadata": {},
     "output_type": "execute_result"
    },
    {
     "data": {
      "text/plain": [
       "'C:\\\\Users\\\\fralu\\\\Documents\\\\GitHub\\\\anndl\\\\image-segmentation\\\\Segmentation_Dataset\\\\training\\\\masks\\\\img\\\\6949.tif'"
      ]
     },
     "execution_count": 6,
     "metadata": {},
     "output_type": "execute_result"
    },
    {
     "data": {
      "text/plain": [
       "'C:\\\\Users\\\\fralu\\\\Documents\\\\GitHub\\\\anndl\\\\image-segmentation\\\\Segmentation_Dataset\\\\training\\\\images\\\\img\\\\6953.tif'"
      ]
     },
     "execution_count": 6,
     "metadata": {},
     "output_type": "execute_result"
    },
    {
     "data": {
      "text/plain": [
       "'C:\\\\Users\\\\fralu\\\\Documents\\\\GitHub\\\\anndl\\\\image-segmentation\\\\Segmentation_Dataset\\\\training\\\\masks\\\\img\\\\6953.tif'"
      ]
     },
     "execution_count": 6,
     "metadata": {},
     "output_type": "execute_result"
    },
    {
     "data": {
      "text/plain": [
       "'C:\\\\Users\\\\fralu\\\\Documents\\\\GitHub\\\\anndl\\\\image-segmentation\\\\Segmentation_Dataset\\\\training\\\\images\\\\img\\\\6954.tif'"
      ]
     },
     "execution_count": 6,
     "metadata": {},
     "output_type": "execute_result"
    },
    {
     "data": {
      "text/plain": [
       "'C:\\\\Users\\\\fralu\\\\Documents\\\\GitHub\\\\anndl\\\\image-segmentation\\\\Segmentation_Dataset\\\\training\\\\masks\\\\img\\\\6954.tif'"
      ]
     },
     "execution_count": 6,
     "metadata": {},
     "output_type": "execute_result"
    },
    {
     "data": {
      "text/plain": [
       "'C:\\\\Users\\\\fralu\\\\Documents\\\\GitHub\\\\anndl\\\\image-segmentation\\\\Segmentation_Dataset\\\\training\\\\images\\\\img\\\\6959.tif'"
      ]
     },
     "execution_count": 6,
     "metadata": {},
     "output_type": "execute_result"
    },
    {
     "data": {
      "text/plain": [
       "'C:\\\\Users\\\\fralu\\\\Documents\\\\GitHub\\\\anndl\\\\image-segmentation\\\\Segmentation_Dataset\\\\training\\\\masks\\\\img\\\\6959.tif'"
      ]
     },
     "execution_count": 6,
     "metadata": {},
     "output_type": "execute_result"
    },
    {
     "data": {
      "text/plain": [
       "'C:\\\\Users\\\\fralu\\\\Documents\\\\GitHub\\\\anndl\\\\image-segmentation\\\\Segmentation_Dataset\\\\training\\\\images\\\\img\\\\696.tif'"
      ]
     },
     "execution_count": 6,
     "metadata": {},
     "output_type": "execute_result"
    },
    {
     "data": {
      "text/plain": [
       "'C:\\\\Users\\\\fralu\\\\Documents\\\\GitHub\\\\anndl\\\\image-segmentation\\\\Segmentation_Dataset\\\\training\\\\masks\\\\img\\\\696.tif'"
      ]
     },
     "execution_count": 6,
     "metadata": {},
     "output_type": "execute_result"
    },
    {
     "data": {
      "text/plain": [
       "'C:\\\\Users\\\\fralu\\\\Documents\\\\GitHub\\\\anndl\\\\image-segmentation\\\\Segmentation_Dataset\\\\training\\\\images\\\\img\\\\6960.tif'"
      ]
     },
     "execution_count": 6,
     "metadata": {},
     "output_type": "execute_result"
    },
    {
     "data": {
      "text/plain": [
       "'C:\\\\Users\\\\fralu\\\\Documents\\\\GitHub\\\\anndl\\\\image-segmentation\\\\Segmentation_Dataset\\\\training\\\\masks\\\\img\\\\6960.tif'"
      ]
     },
     "execution_count": 6,
     "metadata": {},
     "output_type": "execute_result"
    },
    {
     "data": {
      "text/plain": [
       "'C:\\\\Users\\\\fralu\\\\Documents\\\\GitHub\\\\anndl\\\\image-segmentation\\\\Segmentation_Dataset\\\\training\\\\images\\\\img\\\\6968.tif'"
      ]
     },
     "execution_count": 6,
     "metadata": {},
     "output_type": "execute_result"
    },
    {
     "data": {
      "text/plain": [
       "'C:\\\\Users\\\\fralu\\\\Documents\\\\GitHub\\\\anndl\\\\image-segmentation\\\\Segmentation_Dataset\\\\training\\\\masks\\\\img\\\\6968.tif'"
      ]
     },
     "execution_count": 6,
     "metadata": {},
     "output_type": "execute_result"
    },
    {
     "data": {
      "text/plain": [
       "'C:\\\\Users\\\\fralu\\\\Documents\\\\GitHub\\\\anndl\\\\image-segmentation\\\\Segmentation_Dataset\\\\training\\\\images\\\\img\\\\6977.tif'"
      ]
     },
     "execution_count": 6,
     "metadata": {},
     "output_type": "execute_result"
    },
    {
     "data": {
      "text/plain": [
       "'C:\\\\Users\\\\fralu\\\\Documents\\\\GitHub\\\\anndl\\\\image-segmentation\\\\Segmentation_Dataset\\\\training\\\\masks\\\\img\\\\6977.tif'"
      ]
     },
     "execution_count": 6,
     "metadata": {},
     "output_type": "execute_result"
    },
    {
     "data": {
      "text/plain": [
       "'C:\\\\Users\\\\fralu\\\\Documents\\\\GitHub\\\\anndl\\\\image-segmentation\\\\Segmentation_Dataset\\\\training\\\\images\\\\img\\\\6985.tif'"
      ]
     },
     "execution_count": 6,
     "metadata": {},
     "output_type": "execute_result"
    },
    {
     "data": {
      "text/plain": [
       "'C:\\\\Users\\\\fralu\\\\Documents\\\\GitHub\\\\anndl\\\\image-segmentation\\\\Segmentation_Dataset\\\\training\\\\masks\\\\img\\\\6985.tif'"
      ]
     },
     "execution_count": 6,
     "metadata": {},
     "output_type": "execute_result"
    },
    {
     "data": {
      "text/plain": [
       "'C:\\\\Users\\\\fralu\\\\Documents\\\\GitHub\\\\anndl\\\\image-segmentation\\\\Segmentation_Dataset\\\\training\\\\images\\\\img\\\\6986.tif'"
      ]
     },
     "execution_count": 6,
     "metadata": {},
     "output_type": "execute_result"
    },
    {
     "data": {
      "text/plain": [
       "'C:\\\\Users\\\\fralu\\\\Documents\\\\GitHub\\\\anndl\\\\image-segmentation\\\\Segmentation_Dataset\\\\training\\\\masks\\\\img\\\\6986.tif'"
      ]
     },
     "execution_count": 6,
     "metadata": {},
     "output_type": "execute_result"
    },
    {
     "data": {
      "text/plain": [
       "'C:\\\\Users\\\\fralu\\\\Documents\\\\GitHub\\\\anndl\\\\image-segmentation\\\\Segmentation_Dataset\\\\training\\\\images\\\\img\\\\6987.tif'"
      ]
     },
     "execution_count": 6,
     "metadata": {},
     "output_type": "execute_result"
    },
    {
     "data": {
      "text/plain": [
       "'C:\\\\Users\\\\fralu\\\\Documents\\\\GitHub\\\\anndl\\\\image-segmentation\\\\Segmentation_Dataset\\\\training\\\\masks\\\\img\\\\6987.tif'"
      ]
     },
     "execution_count": 6,
     "metadata": {},
     "output_type": "execute_result"
    },
    {
     "data": {
      "text/plain": [
       "'C:\\\\Users\\\\fralu\\\\Documents\\\\GitHub\\\\anndl\\\\image-segmentation\\\\Segmentation_Dataset\\\\training\\\\images\\\\img\\\\6988.tif'"
      ]
     },
     "execution_count": 6,
     "metadata": {},
     "output_type": "execute_result"
    },
    {
     "data": {
      "text/plain": [
       "'C:\\\\Users\\\\fralu\\\\Documents\\\\GitHub\\\\anndl\\\\image-segmentation\\\\Segmentation_Dataset\\\\training\\\\masks\\\\img\\\\6988.tif'"
      ]
     },
     "execution_count": 6,
     "metadata": {},
     "output_type": "execute_result"
    },
    {
     "data": {
      "text/plain": [
       "'C:\\\\Users\\\\fralu\\\\Documents\\\\GitHub\\\\anndl\\\\image-segmentation\\\\Segmentation_Dataset\\\\training\\\\images\\\\img\\\\6989.tif'"
      ]
     },
     "execution_count": 6,
     "metadata": {},
     "output_type": "execute_result"
    },
    {
     "data": {
      "text/plain": [
       "'C:\\\\Users\\\\fralu\\\\Documents\\\\GitHub\\\\anndl\\\\image-segmentation\\\\Segmentation_Dataset\\\\training\\\\masks\\\\img\\\\6989.tif'"
      ]
     },
     "execution_count": 6,
     "metadata": {},
     "output_type": "execute_result"
    },
    {
     "data": {
      "text/plain": [
       "'C:\\\\Users\\\\fralu\\\\Documents\\\\GitHub\\\\anndl\\\\image-segmentation\\\\Segmentation_Dataset\\\\training\\\\images\\\\img\\\\6997.tif'"
      ]
     },
     "execution_count": 6,
     "metadata": {},
     "output_type": "execute_result"
    },
    {
     "data": {
      "text/plain": [
       "'C:\\\\Users\\\\fralu\\\\Documents\\\\GitHub\\\\anndl\\\\image-segmentation\\\\Segmentation_Dataset\\\\training\\\\masks\\\\img\\\\6997.tif'"
      ]
     },
     "execution_count": 6,
     "metadata": {},
     "output_type": "execute_result"
    },
    {
     "data": {
      "text/plain": [
       "'C:\\\\Users\\\\fralu\\\\Documents\\\\GitHub\\\\anndl\\\\image-segmentation\\\\Segmentation_Dataset\\\\training\\\\images\\\\img\\\\7003.tif'"
      ]
     },
     "execution_count": 6,
     "metadata": {},
     "output_type": "execute_result"
    },
    {
     "data": {
      "text/plain": [
       "'C:\\\\Users\\\\fralu\\\\Documents\\\\GitHub\\\\anndl\\\\image-segmentation\\\\Segmentation_Dataset\\\\training\\\\masks\\\\img\\\\7003.tif'"
      ]
     },
     "execution_count": 6,
     "metadata": {},
     "output_type": "execute_result"
    },
    {
     "data": {
      "text/plain": [
       "'C:\\\\Users\\\\fralu\\\\Documents\\\\GitHub\\\\anndl\\\\image-segmentation\\\\Segmentation_Dataset\\\\training\\\\images\\\\img\\\\7006.tif'"
      ]
     },
     "execution_count": 6,
     "metadata": {},
     "output_type": "execute_result"
    },
    {
     "data": {
      "text/plain": [
       "'C:\\\\Users\\\\fralu\\\\Documents\\\\GitHub\\\\anndl\\\\image-segmentation\\\\Segmentation_Dataset\\\\training\\\\masks\\\\img\\\\7006.tif'"
      ]
     },
     "execution_count": 6,
     "metadata": {},
     "output_type": "execute_result"
    },
    {
     "data": {
      "text/plain": [
       "'C:\\\\Users\\\\fralu\\\\Documents\\\\GitHub\\\\anndl\\\\image-segmentation\\\\Segmentation_Dataset\\\\training\\\\images\\\\img\\\\7008.tif'"
      ]
     },
     "execution_count": 6,
     "metadata": {},
     "output_type": "execute_result"
    },
    {
     "data": {
      "text/plain": [
       "'C:\\\\Users\\\\fralu\\\\Documents\\\\GitHub\\\\anndl\\\\image-segmentation\\\\Segmentation_Dataset\\\\training\\\\masks\\\\img\\\\7008.tif'"
      ]
     },
     "execution_count": 6,
     "metadata": {},
     "output_type": "execute_result"
    },
    {
     "data": {
      "text/plain": [
       "'C:\\\\Users\\\\fralu\\\\Documents\\\\GitHub\\\\anndl\\\\image-segmentation\\\\Segmentation_Dataset\\\\training\\\\images\\\\img\\\\701.tif'"
      ]
     },
     "execution_count": 6,
     "metadata": {},
     "output_type": "execute_result"
    },
    {
     "data": {
      "text/plain": [
       "'C:\\\\Users\\\\fralu\\\\Documents\\\\GitHub\\\\anndl\\\\image-segmentation\\\\Segmentation_Dataset\\\\training\\\\masks\\\\img\\\\701.tif'"
      ]
     },
     "execution_count": 6,
     "metadata": {},
     "output_type": "execute_result"
    },
    {
     "data": {
      "text/plain": [
       "'C:\\\\Users\\\\fralu\\\\Documents\\\\GitHub\\\\anndl\\\\image-segmentation\\\\Segmentation_Dataset\\\\training\\\\images\\\\img\\\\7018.tif'"
      ]
     },
     "execution_count": 6,
     "metadata": {},
     "output_type": "execute_result"
    },
    {
     "data": {
      "text/plain": [
       "'C:\\\\Users\\\\fralu\\\\Documents\\\\GitHub\\\\anndl\\\\image-segmentation\\\\Segmentation_Dataset\\\\training\\\\masks\\\\img\\\\7018.tif'"
      ]
     },
     "execution_count": 6,
     "metadata": {},
     "output_type": "execute_result"
    },
    {
     "data": {
      "text/plain": [
       "'C:\\\\Users\\\\fralu\\\\Documents\\\\GitHub\\\\anndl\\\\image-segmentation\\\\Segmentation_Dataset\\\\training\\\\images\\\\img\\\\7030.tif'"
      ]
     },
     "execution_count": 6,
     "metadata": {},
     "output_type": "execute_result"
    },
    {
     "data": {
      "text/plain": [
       "'C:\\\\Users\\\\fralu\\\\Documents\\\\GitHub\\\\anndl\\\\image-segmentation\\\\Segmentation_Dataset\\\\training\\\\masks\\\\img\\\\7030.tif'"
      ]
     },
     "execution_count": 6,
     "metadata": {},
     "output_type": "execute_result"
    },
    {
     "data": {
      "text/plain": [
       "'C:\\\\Users\\\\fralu\\\\Documents\\\\GitHub\\\\anndl\\\\image-segmentation\\\\Segmentation_Dataset\\\\training\\\\images\\\\img\\\\7033.tif'"
      ]
     },
     "execution_count": 6,
     "metadata": {},
     "output_type": "execute_result"
    },
    {
     "data": {
      "text/plain": [
       "'C:\\\\Users\\\\fralu\\\\Documents\\\\GitHub\\\\anndl\\\\image-segmentation\\\\Segmentation_Dataset\\\\training\\\\masks\\\\img\\\\7033.tif'"
      ]
     },
     "execution_count": 6,
     "metadata": {},
     "output_type": "execute_result"
    },
    {
     "data": {
      "text/plain": [
       "'C:\\\\Users\\\\fralu\\\\Documents\\\\GitHub\\\\anndl\\\\image-segmentation\\\\Segmentation_Dataset\\\\training\\\\images\\\\img\\\\7038.tif'"
      ]
     },
     "execution_count": 6,
     "metadata": {},
     "output_type": "execute_result"
    },
    {
     "data": {
      "text/plain": [
       "'C:\\\\Users\\\\fralu\\\\Documents\\\\GitHub\\\\anndl\\\\image-segmentation\\\\Segmentation_Dataset\\\\training\\\\masks\\\\img\\\\7038.tif'"
      ]
     },
     "execution_count": 6,
     "metadata": {},
     "output_type": "execute_result"
    },
    {
     "data": {
      "text/plain": [
       "'C:\\\\Users\\\\fralu\\\\Documents\\\\GitHub\\\\anndl\\\\image-segmentation\\\\Segmentation_Dataset\\\\training\\\\images\\\\img\\\\7041.tif'"
      ]
     },
     "execution_count": 6,
     "metadata": {},
     "output_type": "execute_result"
    },
    {
     "data": {
      "text/plain": [
       "'C:\\\\Users\\\\fralu\\\\Documents\\\\GitHub\\\\anndl\\\\image-segmentation\\\\Segmentation_Dataset\\\\training\\\\masks\\\\img\\\\7041.tif'"
      ]
     },
     "execution_count": 6,
     "metadata": {},
     "output_type": "execute_result"
    },
    {
     "data": {
      "text/plain": [
       "'C:\\\\Users\\\\fralu\\\\Documents\\\\GitHub\\\\anndl\\\\image-segmentation\\\\Segmentation_Dataset\\\\training\\\\images\\\\img\\\\7042.tif'"
      ]
     },
     "execution_count": 6,
     "metadata": {},
     "output_type": "execute_result"
    },
    {
     "data": {
      "text/plain": [
       "'C:\\\\Users\\\\fralu\\\\Documents\\\\GitHub\\\\anndl\\\\image-segmentation\\\\Segmentation_Dataset\\\\training\\\\masks\\\\img\\\\7042.tif'"
      ]
     },
     "execution_count": 6,
     "metadata": {},
     "output_type": "execute_result"
    },
    {
     "data": {
      "text/plain": [
       "'C:\\\\Users\\\\fralu\\\\Documents\\\\GitHub\\\\anndl\\\\image-segmentation\\\\Segmentation_Dataset\\\\training\\\\images\\\\img\\\\705.tif'"
      ]
     },
     "execution_count": 6,
     "metadata": {},
     "output_type": "execute_result"
    },
    {
     "data": {
      "text/plain": [
       "'C:\\\\Users\\\\fralu\\\\Documents\\\\GitHub\\\\anndl\\\\image-segmentation\\\\Segmentation_Dataset\\\\training\\\\masks\\\\img\\\\705.tif'"
      ]
     },
     "execution_count": 6,
     "metadata": {},
     "output_type": "execute_result"
    },
    {
     "data": {
      "text/plain": [
       "'C:\\\\Users\\\\fralu\\\\Documents\\\\GitHub\\\\anndl\\\\image-segmentation\\\\Segmentation_Dataset\\\\training\\\\images\\\\img\\\\7050.tif'"
      ]
     },
     "execution_count": 6,
     "metadata": {},
     "output_type": "execute_result"
    },
    {
     "data": {
      "text/plain": [
       "'C:\\\\Users\\\\fralu\\\\Documents\\\\GitHub\\\\anndl\\\\image-segmentation\\\\Segmentation_Dataset\\\\training\\\\masks\\\\img\\\\7050.tif'"
      ]
     },
     "execution_count": 6,
     "metadata": {},
     "output_type": "execute_result"
    },
    {
     "data": {
      "text/plain": [
       "'C:\\\\Users\\\\fralu\\\\Documents\\\\GitHub\\\\anndl\\\\image-segmentation\\\\Segmentation_Dataset\\\\training\\\\images\\\\img\\\\7055.tif'"
      ]
     },
     "execution_count": 6,
     "metadata": {},
     "output_type": "execute_result"
    },
    {
     "data": {
      "text/plain": [
       "'C:\\\\Users\\\\fralu\\\\Documents\\\\GitHub\\\\anndl\\\\image-segmentation\\\\Segmentation_Dataset\\\\training\\\\masks\\\\img\\\\7055.tif'"
      ]
     },
     "execution_count": 6,
     "metadata": {},
     "output_type": "execute_result"
    },
    {
     "data": {
      "text/plain": [
       "'C:\\\\Users\\\\fralu\\\\Documents\\\\GitHub\\\\anndl\\\\image-segmentation\\\\Segmentation_Dataset\\\\training\\\\images\\\\img\\\\7058.tif'"
      ]
     },
     "execution_count": 6,
     "metadata": {},
     "output_type": "execute_result"
    },
    {
     "data": {
      "text/plain": [
       "'C:\\\\Users\\\\fralu\\\\Documents\\\\GitHub\\\\anndl\\\\image-segmentation\\\\Segmentation_Dataset\\\\training\\\\masks\\\\img\\\\7058.tif'"
      ]
     },
     "execution_count": 6,
     "metadata": {},
     "output_type": "execute_result"
    },
    {
     "data": {
      "text/plain": [
       "'C:\\\\Users\\\\fralu\\\\Documents\\\\GitHub\\\\anndl\\\\image-segmentation\\\\Segmentation_Dataset\\\\training\\\\images\\\\img\\\\7074.tif'"
      ]
     },
     "execution_count": 6,
     "metadata": {},
     "output_type": "execute_result"
    },
    {
     "data": {
      "text/plain": [
       "'C:\\\\Users\\\\fralu\\\\Documents\\\\GitHub\\\\anndl\\\\image-segmentation\\\\Segmentation_Dataset\\\\training\\\\masks\\\\img\\\\7074.tif'"
      ]
     },
     "execution_count": 6,
     "metadata": {},
     "output_type": "execute_result"
    },
    {
     "data": {
      "text/plain": [
       "'C:\\\\Users\\\\fralu\\\\Documents\\\\GitHub\\\\anndl\\\\image-segmentation\\\\Segmentation_Dataset\\\\training\\\\images\\\\img\\\\7085.tif'"
      ]
     },
     "execution_count": 6,
     "metadata": {},
     "output_type": "execute_result"
    },
    {
     "data": {
      "text/plain": [
       "'C:\\\\Users\\\\fralu\\\\Documents\\\\GitHub\\\\anndl\\\\image-segmentation\\\\Segmentation_Dataset\\\\training\\\\masks\\\\img\\\\7085.tif'"
      ]
     },
     "execution_count": 6,
     "metadata": {},
     "output_type": "execute_result"
    },
    {
     "data": {
      "text/plain": [
       "'C:\\\\Users\\\\fralu\\\\Documents\\\\GitHub\\\\anndl\\\\image-segmentation\\\\Segmentation_Dataset\\\\training\\\\images\\\\img\\\\7095.tif'"
      ]
     },
     "execution_count": 6,
     "metadata": {},
     "output_type": "execute_result"
    },
    {
     "data": {
      "text/plain": [
       "'C:\\\\Users\\\\fralu\\\\Documents\\\\GitHub\\\\anndl\\\\image-segmentation\\\\Segmentation_Dataset\\\\training\\\\masks\\\\img\\\\7095.tif'"
      ]
     },
     "execution_count": 6,
     "metadata": {},
     "output_type": "execute_result"
    },
    {
     "data": {
      "text/plain": [
       "'C:\\\\Users\\\\fralu\\\\Documents\\\\GitHub\\\\anndl\\\\image-segmentation\\\\Segmentation_Dataset\\\\training\\\\images\\\\img\\\\71.tif'"
      ]
     },
     "execution_count": 6,
     "metadata": {},
     "output_type": "execute_result"
    },
    {
     "data": {
      "text/plain": [
       "'C:\\\\Users\\\\fralu\\\\Documents\\\\GitHub\\\\anndl\\\\image-segmentation\\\\Segmentation_Dataset\\\\training\\\\masks\\\\img\\\\71.tif'"
      ]
     },
     "execution_count": 6,
     "metadata": {},
     "output_type": "execute_result"
    },
    {
     "data": {
      "text/plain": [
       "'C:\\\\Users\\\\fralu\\\\Documents\\\\GitHub\\\\anndl\\\\image-segmentation\\\\Segmentation_Dataset\\\\training\\\\images\\\\img\\\\7117.tif'"
      ]
     },
     "execution_count": 6,
     "metadata": {},
     "output_type": "execute_result"
    },
    {
     "data": {
      "text/plain": [
       "'C:\\\\Users\\\\fralu\\\\Documents\\\\GitHub\\\\anndl\\\\image-segmentation\\\\Segmentation_Dataset\\\\training\\\\masks\\\\img\\\\7117.tif'"
      ]
     },
     "execution_count": 6,
     "metadata": {},
     "output_type": "execute_result"
    },
    {
     "data": {
      "text/plain": [
       "'C:\\\\Users\\\\fralu\\\\Documents\\\\GitHub\\\\anndl\\\\image-segmentation\\\\Segmentation_Dataset\\\\training\\\\images\\\\img\\\\7124.tif'"
      ]
     },
     "execution_count": 6,
     "metadata": {},
     "output_type": "execute_result"
    },
    {
     "data": {
      "text/plain": [
       "'C:\\\\Users\\\\fralu\\\\Documents\\\\GitHub\\\\anndl\\\\image-segmentation\\\\Segmentation_Dataset\\\\training\\\\masks\\\\img\\\\7124.tif'"
      ]
     },
     "execution_count": 6,
     "metadata": {},
     "output_type": "execute_result"
    },
    {
     "data": {
      "text/plain": [
       "'C:\\\\Users\\\\fralu\\\\Documents\\\\GitHub\\\\anndl\\\\image-segmentation\\\\Segmentation_Dataset\\\\training\\\\images\\\\img\\\\7129.tif'"
      ]
     },
     "execution_count": 6,
     "metadata": {},
     "output_type": "execute_result"
    },
    {
     "data": {
      "text/plain": [
       "'C:\\\\Users\\\\fralu\\\\Documents\\\\GitHub\\\\anndl\\\\image-segmentation\\\\Segmentation_Dataset\\\\training\\\\masks\\\\img\\\\7129.tif'"
      ]
     },
     "execution_count": 6,
     "metadata": {},
     "output_type": "execute_result"
    },
    {
     "data": {
      "text/plain": [
       "'C:\\\\Users\\\\fralu\\\\Documents\\\\GitHub\\\\anndl\\\\image-segmentation\\\\Segmentation_Dataset\\\\training\\\\images\\\\img\\\\7131.tif'"
      ]
     },
     "execution_count": 6,
     "metadata": {},
     "output_type": "execute_result"
    },
    {
     "data": {
      "text/plain": [
       "'C:\\\\Users\\\\fralu\\\\Documents\\\\GitHub\\\\anndl\\\\image-segmentation\\\\Segmentation_Dataset\\\\training\\\\masks\\\\img\\\\7131.tif'"
      ]
     },
     "execution_count": 6,
     "metadata": {},
     "output_type": "execute_result"
    },
    {
     "data": {
      "text/plain": [
       "'C:\\\\Users\\\\fralu\\\\Documents\\\\GitHub\\\\anndl\\\\image-segmentation\\\\Segmentation_Dataset\\\\training\\\\images\\\\img\\\\7133.tif'"
      ]
     },
     "execution_count": 6,
     "metadata": {},
     "output_type": "execute_result"
    },
    {
     "data": {
      "text/plain": [
       "'C:\\\\Users\\\\fralu\\\\Documents\\\\GitHub\\\\anndl\\\\image-segmentation\\\\Segmentation_Dataset\\\\training\\\\masks\\\\img\\\\7133.tif'"
      ]
     },
     "execution_count": 6,
     "metadata": {},
     "output_type": "execute_result"
    },
    {
     "data": {
      "text/plain": [
       "'C:\\\\Users\\\\fralu\\\\Documents\\\\GitHub\\\\anndl\\\\image-segmentation\\\\Segmentation_Dataset\\\\training\\\\images\\\\img\\\\7134.tif'"
      ]
     },
     "execution_count": 6,
     "metadata": {},
     "output_type": "execute_result"
    },
    {
     "data": {
      "text/plain": [
       "'C:\\\\Users\\\\fralu\\\\Documents\\\\GitHub\\\\anndl\\\\image-segmentation\\\\Segmentation_Dataset\\\\training\\\\masks\\\\img\\\\7134.tif'"
      ]
     },
     "execution_count": 6,
     "metadata": {},
     "output_type": "execute_result"
    },
    {
     "data": {
      "text/plain": [
       "'C:\\\\Users\\\\fralu\\\\Documents\\\\GitHub\\\\anndl\\\\image-segmentation\\\\Segmentation_Dataset\\\\training\\\\images\\\\img\\\\7136.tif'"
      ]
     },
     "execution_count": 6,
     "metadata": {},
     "output_type": "execute_result"
    },
    {
     "data": {
      "text/plain": [
       "'C:\\\\Users\\\\fralu\\\\Documents\\\\GitHub\\\\anndl\\\\image-segmentation\\\\Segmentation_Dataset\\\\training\\\\masks\\\\img\\\\7136.tif'"
      ]
     },
     "execution_count": 6,
     "metadata": {},
     "output_type": "execute_result"
    },
    {
     "data": {
      "text/plain": [
       "'C:\\\\Users\\\\fralu\\\\Documents\\\\GitHub\\\\anndl\\\\image-segmentation\\\\Segmentation_Dataset\\\\training\\\\images\\\\img\\\\7145.tif'"
      ]
     },
     "execution_count": 6,
     "metadata": {},
     "output_type": "execute_result"
    },
    {
     "data": {
      "text/plain": [
       "'C:\\\\Users\\\\fralu\\\\Documents\\\\GitHub\\\\anndl\\\\image-segmentation\\\\Segmentation_Dataset\\\\training\\\\masks\\\\img\\\\7145.tif'"
      ]
     },
     "execution_count": 6,
     "metadata": {},
     "output_type": "execute_result"
    },
    {
     "data": {
      "text/plain": [
       "'C:\\\\Users\\\\fralu\\\\Documents\\\\GitHub\\\\anndl\\\\image-segmentation\\\\Segmentation_Dataset\\\\training\\\\images\\\\img\\\\7148.tif'"
      ]
     },
     "execution_count": 6,
     "metadata": {},
     "output_type": "execute_result"
    },
    {
     "data": {
      "text/plain": [
       "'C:\\\\Users\\\\fralu\\\\Documents\\\\GitHub\\\\anndl\\\\image-segmentation\\\\Segmentation_Dataset\\\\training\\\\masks\\\\img\\\\7148.tif'"
      ]
     },
     "execution_count": 6,
     "metadata": {},
     "output_type": "execute_result"
    },
    {
     "data": {
      "text/plain": [
       "'C:\\\\Users\\\\fralu\\\\Documents\\\\GitHub\\\\anndl\\\\image-segmentation\\\\Segmentation_Dataset\\\\training\\\\images\\\\img\\\\7149.tif'"
      ]
     },
     "execution_count": 6,
     "metadata": {},
     "output_type": "execute_result"
    },
    {
     "data": {
      "text/plain": [
       "'C:\\\\Users\\\\fralu\\\\Documents\\\\GitHub\\\\anndl\\\\image-segmentation\\\\Segmentation_Dataset\\\\training\\\\masks\\\\img\\\\7149.tif'"
      ]
     },
     "execution_count": 6,
     "metadata": {},
     "output_type": "execute_result"
    },
    {
     "data": {
      "text/plain": [
       "'C:\\\\Users\\\\fralu\\\\Documents\\\\GitHub\\\\anndl\\\\image-segmentation\\\\Segmentation_Dataset\\\\training\\\\images\\\\img\\\\7153.tif'"
      ]
     },
     "execution_count": 6,
     "metadata": {},
     "output_type": "execute_result"
    },
    {
     "data": {
      "text/plain": [
       "'C:\\\\Users\\\\fralu\\\\Documents\\\\GitHub\\\\anndl\\\\image-segmentation\\\\Segmentation_Dataset\\\\training\\\\masks\\\\img\\\\7153.tif'"
      ]
     },
     "execution_count": 6,
     "metadata": {},
     "output_type": "execute_result"
    },
    {
     "data": {
      "text/plain": [
       "'C:\\\\Users\\\\fralu\\\\Documents\\\\GitHub\\\\anndl\\\\image-segmentation\\\\Segmentation_Dataset\\\\training\\\\images\\\\img\\\\7154.tif'"
      ]
     },
     "execution_count": 6,
     "metadata": {},
     "output_type": "execute_result"
    },
    {
     "data": {
      "text/plain": [
       "'C:\\\\Users\\\\fralu\\\\Documents\\\\GitHub\\\\anndl\\\\image-segmentation\\\\Segmentation_Dataset\\\\training\\\\masks\\\\img\\\\7154.tif'"
      ]
     },
     "execution_count": 6,
     "metadata": {},
     "output_type": "execute_result"
    },
    {
     "data": {
      "text/plain": [
       "'C:\\\\Users\\\\fralu\\\\Documents\\\\GitHub\\\\anndl\\\\image-segmentation\\\\Segmentation_Dataset\\\\training\\\\images\\\\img\\\\7161.tif'"
      ]
     },
     "execution_count": 6,
     "metadata": {},
     "output_type": "execute_result"
    },
    {
     "data": {
      "text/plain": [
       "'C:\\\\Users\\\\fralu\\\\Documents\\\\GitHub\\\\anndl\\\\image-segmentation\\\\Segmentation_Dataset\\\\training\\\\masks\\\\img\\\\7161.tif'"
      ]
     },
     "execution_count": 6,
     "metadata": {},
     "output_type": "execute_result"
    },
    {
     "data": {
      "text/plain": [
       "'C:\\\\Users\\\\fralu\\\\Documents\\\\GitHub\\\\anndl\\\\image-segmentation\\\\Segmentation_Dataset\\\\training\\\\images\\\\img\\\\7167.tif'"
      ]
     },
     "execution_count": 6,
     "metadata": {},
     "output_type": "execute_result"
    },
    {
     "data": {
      "text/plain": [
       "'C:\\\\Users\\\\fralu\\\\Documents\\\\GitHub\\\\anndl\\\\image-segmentation\\\\Segmentation_Dataset\\\\training\\\\masks\\\\img\\\\7167.tif'"
      ]
     },
     "execution_count": 6,
     "metadata": {},
     "output_type": "execute_result"
    },
    {
     "data": {
      "text/plain": [
       "'C:\\\\Users\\\\fralu\\\\Documents\\\\GitHub\\\\anndl\\\\image-segmentation\\\\Segmentation_Dataset\\\\training\\\\images\\\\img\\\\7168.tif'"
      ]
     },
     "execution_count": 6,
     "metadata": {},
     "output_type": "execute_result"
    },
    {
     "data": {
      "text/plain": [
       "'C:\\\\Users\\\\fralu\\\\Documents\\\\GitHub\\\\anndl\\\\image-segmentation\\\\Segmentation_Dataset\\\\training\\\\masks\\\\img\\\\7168.tif'"
      ]
     },
     "execution_count": 6,
     "metadata": {},
     "output_type": "execute_result"
    },
    {
     "data": {
      "text/plain": [
       "'C:\\\\Users\\\\fralu\\\\Documents\\\\GitHub\\\\anndl\\\\image-segmentation\\\\Segmentation_Dataset\\\\training\\\\images\\\\img\\\\7170.tif'"
      ]
     },
     "execution_count": 6,
     "metadata": {},
     "output_type": "execute_result"
    },
    {
     "data": {
      "text/plain": [
       "'C:\\\\Users\\\\fralu\\\\Documents\\\\GitHub\\\\anndl\\\\image-segmentation\\\\Segmentation_Dataset\\\\training\\\\masks\\\\img\\\\7170.tif'"
      ]
     },
     "execution_count": 6,
     "metadata": {},
     "output_type": "execute_result"
    },
    {
     "data": {
      "text/plain": [
       "'C:\\\\Users\\\\fralu\\\\Documents\\\\GitHub\\\\anndl\\\\image-segmentation\\\\Segmentation_Dataset\\\\training\\\\images\\\\img\\\\7171.tif'"
      ]
     },
     "execution_count": 6,
     "metadata": {},
     "output_type": "execute_result"
    },
    {
     "data": {
      "text/plain": [
       "'C:\\\\Users\\\\fralu\\\\Documents\\\\GitHub\\\\anndl\\\\image-segmentation\\\\Segmentation_Dataset\\\\training\\\\masks\\\\img\\\\7171.tif'"
      ]
     },
     "execution_count": 6,
     "metadata": {},
     "output_type": "execute_result"
    },
    {
     "data": {
      "text/plain": [
       "'C:\\\\Users\\\\fralu\\\\Documents\\\\GitHub\\\\anndl\\\\image-segmentation\\\\Segmentation_Dataset\\\\training\\\\images\\\\img\\\\7178.tif'"
      ]
     },
     "execution_count": 6,
     "metadata": {},
     "output_type": "execute_result"
    },
    {
     "data": {
      "text/plain": [
       "'C:\\\\Users\\\\fralu\\\\Documents\\\\GitHub\\\\anndl\\\\image-segmentation\\\\Segmentation_Dataset\\\\training\\\\masks\\\\img\\\\7178.tif'"
      ]
     },
     "execution_count": 6,
     "metadata": {},
     "output_type": "execute_result"
    },
    {
     "data": {
      "text/plain": [
       "'C:\\\\Users\\\\fralu\\\\Documents\\\\GitHub\\\\anndl\\\\image-segmentation\\\\Segmentation_Dataset\\\\training\\\\images\\\\img\\\\718.tif'"
      ]
     },
     "execution_count": 6,
     "metadata": {},
     "output_type": "execute_result"
    },
    {
     "data": {
      "text/plain": [
       "'C:\\\\Users\\\\fralu\\\\Documents\\\\GitHub\\\\anndl\\\\image-segmentation\\\\Segmentation_Dataset\\\\training\\\\masks\\\\img\\\\718.tif'"
      ]
     },
     "execution_count": 6,
     "metadata": {},
     "output_type": "execute_result"
    },
    {
     "data": {
      "text/plain": [
       "'C:\\\\Users\\\\fralu\\\\Documents\\\\GitHub\\\\anndl\\\\image-segmentation\\\\Segmentation_Dataset\\\\training\\\\images\\\\img\\\\7181.tif'"
      ]
     },
     "execution_count": 6,
     "metadata": {},
     "output_type": "execute_result"
    },
    {
     "data": {
      "text/plain": [
       "'C:\\\\Users\\\\fralu\\\\Documents\\\\GitHub\\\\anndl\\\\image-segmentation\\\\Segmentation_Dataset\\\\training\\\\masks\\\\img\\\\7181.tif'"
      ]
     },
     "execution_count": 6,
     "metadata": {},
     "output_type": "execute_result"
    },
    {
     "data": {
      "text/plain": [
       "'C:\\\\Users\\\\fralu\\\\Documents\\\\GitHub\\\\anndl\\\\image-segmentation\\\\Segmentation_Dataset\\\\training\\\\images\\\\img\\\\7182.tif'"
      ]
     },
     "execution_count": 6,
     "metadata": {},
     "output_type": "execute_result"
    },
    {
     "data": {
      "text/plain": [
       "'C:\\\\Users\\\\fralu\\\\Documents\\\\GitHub\\\\anndl\\\\image-segmentation\\\\Segmentation_Dataset\\\\training\\\\masks\\\\img\\\\7182.tif'"
      ]
     },
     "execution_count": 6,
     "metadata": {},
     "output_type": "execute_result"
    },
    {
     "data": {
      "text/plain": [
       "'C:\\\\Users\\\\fralu\\\\Documents\\\\GitHub\\\\anndl\\\\image-segmentation\\\\Segmentation_Dataset\\\\training\\\\images\\\\img\\\\7183.tif'"
      ]
     },
     "execution_count": 6,
     "metadata": {},
     "output_type": "execute_result"
    },
    {
     "data": {
      "text/plain": [
       "'C:\\\\Users\\\\fralu\\\\Documents\\\\GitHub\\\\anndl\\\\image-segmentation\\\\Segmentation_Dataset\\\\training\\\\masks\\\\img\\\\7183.tif'"
      ]
     },
     "execution_count": 6,
     "metadata": {},
     "output_type": "execute_result"
    },
    {
     "data": {
      "text/plain": [
       "'C:\\\\Users\\\\fralu\\\\Documents\\\\GitHub\\\\anndl\\\\image-segmentation\\\\Segmentation_Dataset\\\\training\\\\images\\\\img\\\\7192.tif'"
      ]
     },
     "execution_count": 6,
     "metadata": {},
     "output_type": "execute_result"
    },
    {
     "data": {
      "text/plain": [
       "'C:\\\\Users\\\\fralu\\\\Documents\\\\GitHub\\\\anndl\\\\image-segmentation\\\\Segmentation_Dataset\\\\training\\\\masks\\\\img\\\\7192.tif'"
      ]
     },
     "execution_count": 6,
     "metadata": {},
     "output_type": "execute_result"
    },
    {
     "data": {
      "text/plain": [
       "'C:\\\\Users\\\\fralu\\\\Documents\\\\GitHub\\\\anndl\\\\image-segmentation\\\\Segmentation_Dataset\\\\training\\\\images\\\\img\\\\7199.tif'"
      ]
     },
     "execution_count": 6,
     "metadata": {},
     "output_type": "execute_result"
    },
    {
     "data": {
      "text/plain": [
       "'C:\\\\Users\\\\fralu\\\\Documents\\\\GitHub\\\\anndl\\\\image-segmentation\\\\Segmentation_Dataset\\\\training\\\\masks\\\\img\\\\7199.tif'"
      ]
     },
     "execution_count": 6,
     "metadata": {},
     "output_type": "execute_result"
    },
    {
     "data": {
      "text/plain": [
       "'C:\\\\Users\\\\fralu\\\\Documents\\\\GitHub\\\\anndl\\\\image-segmentation\\\\Segmentation_Dataset\\\\training\\\\images\\\\img\\\\7200.tif'"
      ]
     },
     "execution_count": 6,
     "metadata": {},
     "output_type": "execute_result"
    },
    {
     "data": {
      "text/plain": [
       "'C:\\\\Users\\\\fralu\\\\Documents\\\\GitHub\\\\anndl\\\\image-segmentation\\\\Segmentation_Dataset\\\\training\\\\masks\\\\img\\\\7200.tif'"
      ]
     },
     "execution_count": 6,
     "metadata": {},
     "output_type": "execute_result"
    },
    {
     "data": {
      "text/plain": [
       "'C:\\\\Users\\\\fralu\\\\Documents\\\\GitHub\\\\anndl\\\\image-segmentation\\\\Segmentation_Dataset\\\\training\\\\images\\\\img\\\\7206.tif'"
      ]
     },
     "execution_count": 6,
     "metadata": {},
     "output_type": "execute_result"
    },
    {
     "data": {
      "text/plain": [
       "'C:\\\\Users\\\\fralu\\\\Documents\\\\GitHub\\\\anndl\\\\image-segmentation\\\\Segmentation_Dataset\\\\training\\\\masks\\\\img\\\\7206.tif'"
      ]
     },
     "execution_count": 6,
     "metadata": {},
     "output_type": "execute_result"
    },
    {
     "data": {
      "text/plain": [
       "'C:\\\\Users\\\\fralu\\\\Documents\\\\GitHub\\\\anndl\\\\image-segmentation\\\\Segmentation_Dataset\\\\training\\\\images\\\\img\\\\7226.tif'"
      ]
     },
     "execution_count": 6,
     "metadata": {},
     "output_type": "execute_result"
    },
    {
     "data": {
      "text/plain": [
       "'C:\\\\Users\\\\fralu\\\\Documents\\\\GitHub\\\\anndl\\\\image-segmentation\\\\Segmentation_Dataset\\\\training\\\\masks\\\\img\\\\7226.tif'"
      ]
     },
     "execution_count": 6,
     "metadata": {},
     "output_type": "execute_result"
    },
    {
     "data": {
      "text/plain": [
       "'C:\\\\Users\\\\fralu\\\\Documents\\\\GitHub\\\\anndl\\\\image-segmentation\\\\Segmentation_Dataset\\\\training\\\\images\\\\img\\\\7233.tif'"
      ]
     },
     "execution_count": 6,
     "metadata": {},
     "output_type": "execute_result"
    },
    {
     "data": {
      "text/plain": [
       "'C:\\\\Users\\\\fralu\\\\Documents\\\\GitHub\\\\anndl\\\\image-segmentation\\\\Segmentation_Dataset\\\\training\\\\masks\\\\img\\\\7233.tif'"
      ]
     },
     "execution_count": 6,
     "metadata": {},
     "output_type": "execute_result"
    },
    {
     "data": {
      "text/plain": [
       "'C:\\\\Users\\\\fralu\\\\Documents\\\\GitHub\\\\anndl\\\\image-segmentation\\\\Segmentation_Dataset\\\\training\\\\images\\\\img\\\\7234.tif'"
      ]
     },
     "execution_count": 6,
     "metadata": {},
     "output_type": "execute_result"
    },
    {
     "data": {
      "text/plain": [
       "'C:\\\\Users\\\\fralu\\\\Documents\\\\GitHub\\\\anndl\\\\image-segmentation\\\\Segmentation_Dataset\\\\training\\\\masks\\\\img\\\\7234.tif'"
      ]
     },
     "execution_count": 6,
     "metadata": {},
     "output_type": "execute_result"
    },
    {
     "data": {
      "text/plain": [
       "'C:\\\\Users\\\\fralu\\\\Documents\\\\GitHub\\\\anndl\\\\image-segmentation\\\\Segmentation_Dataset\\\\training\\\\images\\\\img\\\\724.tif'"
      ]
     },
     "execution_count": 6,
     "metadata": {},
     "output_type": "execute_result"
    },
    {
     "data": {
      "text/plain": [
       "'C:\\\\Users\\\\fralu\\\\Documents\\\\GitHub\\\\anndl\\\\image-segmentation\\\\Segmentation_Dataset\\\\training\\\\masks\\\\img\\\\724.tif'"
      ]
     },
     "execution_count": 6,
     "metadata": {},
     "output_type": "execute_result"
    },
    {
     "data": {
      "text/plain": [
       "'C:\\\\Users\\\\fralu\\\\Documents\\\\GitHub\\\\anndl\\\\image-segmentation\\\\Segmentation_Dataset\\\\training\\\\images\\\\img\\\\7243.tif'"
      ]
     },
     "execution_count": 6,
     "metadata": {},
     "output_type": "execute_result"
    },
    {
     "data": {
      "text/plain": [
       "'C:\\\\Users\\\\fralu\\\\Documents\\\\GitHub\\\\anndl\\\\image-segmentation\\\\Segmentation_Dataset\\\\training\\\\masks\\\\img\\\\7243.tif'"
      ]
     },
     "execution_count": 6,
     "metadata": {},
     "output_type": "execute_result"
    },
    {
     "data": {
      "text/plain": [
       "'C:\\\\Users\\\\fralu\\\\Documents\\\\GitHub\\\\anndl\\\\image-segmentation\\\\Segmentation_Dataset\\\\training\\\\images\\\\img\\\\7244.tif'"
      ]
     },
     "execution_count": 6,
     "metadata": {},
     "output_type": "execute_result"
    },
    {
     "data": {
      "text/plain": [
       "'C:\\\\Users\\\\fralu\\\\Documents\\\\GitHub\\\\anndl\\\\image-segmentation\\\\Segmentation_Dataset\\\\training\\\\masks\\\\img\\\\7244.tif'"
      ]
     },
     "execution_count": 6,
     "metadata": {},
     "output_type": "execute_result"
    },
    {
     "data": {
      "text/plain": [
       "'C:\\\\Users\\\\fralu\\\\Documents\\\\GitHub\\\\anndl\\\\image-segmentation\\\\Segmentation_Dataset\\\\training\\\\images\\\\img\\\\7246.tif'"
      ]
     },
     "execution_count": 6,
     "metadata": {},
     "output_type": "execute_result"
    },
    {
     "data": {
      "text/plain": [
       "'C:\\\\Users\\\\fralu\\\\Documents\\\\GitHub\\\\anndl\\\\image-segmentation\\\\Segmentation_Dataset\\\\training\\\\masks\\\\img\\\\7246.tif'"
      ]
     },
     "execution_count": 6,
     "metadata": {},
     "output_type": "execute_result"
    },
    {
     "data": {
      "text/plain": [
       "'C:\\\\Users\\\\fralu\\\\Documents\\\\GitHub\\\\anndl\\\\image-segmentation\\\\Segmentation_Dataset\\\\training\\\\images\\\\img\\\\7247.tif'"
      ]
     },
     "execution_count": 6,
     "metadata": {},
     "output_type": "execute_result"
    },
    {
     "data": {
      "text/plain": [
       "'C:\\\\Users\\\\fralu\\\\Documents\\\\GitHub\\\\anndl\\\\image-segmentation\\\\Segmentation_Dataset\\\\training\\\\masks\\\\img\\\\7247.tif'"
      ]
     },
     "execution_count": 6,
     "metadata": {},
     "output_type": "execute_result"
    },
    {
     "data": {
      "text/plain": [
       "'C:\\\\Users\\\\fralu\\\\Documents\\\\GitHub\\\\anndl\\\\image-segmentation\\\\Segmentation_Dataset\\\\training\\\\images\\\\img\\\\7248.tif'"
      ]
     },
     "execution_count": 6,
     "metadata": {},
     "output_type": "execute_result"
    },
    {
     "data": {
      "text/plain": [
       "'C:\\\\Users\\\\fralu\\\\Documents\\\\GitHub\\\\anndl\\\\image-segmentation\\\\Segmentation_Dataset\\\\training\\\\masks\\\\img\\\\7248.tif'"
      ]
     },
     "execution_count": 6,
     "metadata": {},
     "output_type": "execute_result"
    },
    {
     "data": {
      "text/plain": [
       "'C:\\\\Users\\\\fralu\\\\Documents\\\\GitHub\\\\anndl\\\\image-segmentation\\\\Segmentation_Dataset\\\\training\\\\images\\\\img\\\\7249.tif'"
      ]
     },
     "execution_count": 6,
     "metadata": {},
     "output_type": "execute_result"
    },
    {
     "data": {
      "text/plain": [
       "'C:\\\\Users\\\\fralu\\\\Documents\\\\GitHub\\\\anndl\\\\image-segmentation\\\\Segmentation_Dataset\\\\training\\\\masks\\\\img\\\\7249.tif'"
      ]
     },
     "execution_count": 6,
     "metadata": {},
     "output_type": "execute_result"
    },
    {
     "data": {
      "text/plain": [
       "'C:\\\\Users\\\\fralu\\\\Documents\\\\GitHub\\\\anndl\\\\image-segmentation\\\\Segmentation_Dataset\\\\training\\\\images\\\\img\\\\7251.tif'"
      ]
     },
     "execution_count": 6,
     "metadata": {},
     "output_type": "execute_result"
    },
    {
     "data": {
      "text/plain": [
       "'C:\\\\Users\\\\fralu\\\\Documents\\\\GitHub\\\\anndl\\\\image-segmentation\\\\Segmentation_Dataset\\\\training\\\\masks\\\\img\\\\7251.tif'"
      ]
     },
     "execution_count": 6,
     "metadata": {},
     "output_type": "execute_result"
    },
    {
     "data": {
      "text/plain": [
       "'C:\\\\Users\\\\fralu\\\\Documents\\\\GitHub\\\\anndl\\\\image-segmentation\\\\Segmentation_Dataset\\\\training\\\\images\\\\img\\\\7258.tif'"
      ]
     },
     "execution_count": 6,
     "metadata": {},
     "output_type": "execute_result"
    },
    {
     "data": {
      "text/plain": [
       "'C:\\\\Users\\\\fralu\\\\Documents\\\\GitHub\\\\anndl\\\\image-segmentation\\\\Segmentation_Dataset\\\\training\\\\masks\\\\img\\\\7258.tif'"
      ]
     },
     "execution_count": 6,
     "metadata": {},
     "output_type": "execute_result"
    },
    {
     "data": {
      "text/plain": [
       "'C:\\\\Users\\\\fralu\\\\Documents\\\\GitHub\\\\anndl\\\\image-segmentation\\\\Segmentation_Dataset\\\\training\\\\images\\\\img\\\\7265.tif'"
      ]
     },
     "execution_count": 6,
     "metadata": {},
     "output_type": "execute_result"
    },
    {
     "data": {
      "text/plain": [
       "'C:\\\\Users\\\\fralu\\\\Documents\\\\GitHub\\\\anndl\\\\image-segmentation\\\\Segmentation_Dataset\\\\training\\\\masks\\\\img\\\\7265.tif'"
      ]
     },
     "execution_count": 6,
     "metadata": {},
     "output_type": "execute_result"
    },
    {
     "data": {
      "text/plain": [
       "'C:\\\\Users\\\\fralu\\\\Documents\\\\GitHub\\\\anndl\\\\image-segmentation\\\\Segmentation_Dataset\\\\training\\\\images\\\\img\\\\7269.tif'"
      ]
     },
     "execution_count": 6,
     "metadata": {},
     "output_type": "execute_result"
    },
    {
     "data": {
      "text/plain": [
       "'C:\\\\Users\\\\fralu\\\\Documents\\\\GitHub\\\\anndl\\\\image-segmentation\\\\Segmentation_Dataset\\\\training\\\\masks\\\\img\\\\7269.tif'"
      ]
     },
     "execution_count": 6,
     "metadata": {},
     "output_type": "execute_result"
    },
    {
     "data": {
      "text/plain": [
       "'C:\\\\Users\\\\fralu\\\\Documents\\\\GitHub\\\\anndl\\\\image-segmentation\\\\Segmentation_Dataset\\\\training\\\\images\\\\img\\\\727.tif'"
      ]
     },
     "execution_count": 6,
     "metadata": {},
     "output_type": "execute_result"
    },
    {
     "data": {
      "text/plain": [
       "'C:\\\\Users\\\\fralu\\\\Documents\\\\GitHub\\\\anndl\\\\image-segmentation\\\\Segmentation_Dataset\\\\training\\\\masks\\\\img\\\\727.tif'"
      ]
     },
     "execution_count": 6,
     "metadata": {},
     "output_type": "execute_result"
    },
    {
     "data": {
      "text/plain": [
       "'C:\\\\Users\\\\fralu\\\\Documents\\\\GitHub\\\\anndl\\\\image-segmentation\\\\Segmentation_Dataset\\\\training\\\\images\\\\img\\\\7277.tif'"
      ]
     },
     "execution_count": 6,
     "metadata": {},
     "output_type": "execute_result"
    },
    {
     "data": {
      "text/plain": [
       "'C:\\\\Users\\\\fralu\\\\Documents\\\\GitHub\\\\anndl\\\\image-segmentation\\\\Segmentation_Dataset\\\\training\\\\masks\\\\img\\\\7277.tif'"
      ]
     },
     "execution_count": 6,
     "metadata": {},
     "output_type": "execute_result"
    },
    {
     "data": {
      "text/plain": [
       "'C:\\\\Users\\\\fralu\\\\Documents\\\\GitHub\\\\anndl\\\\image-segmentation\\\\Segmentation_Dataset\\\\training\\\\images\\\\img\\\\7282.tif'"
      ]
     },
     "execution_count": 6,
     "metadata": {},
     "output_type": "execute_result"
    },
    {
     "data": {
      "text/plain": [
       "'C:\\\\Users\\\\fralu\\\\Documents\\\\GitHub\\\\anndl\\\\image-segmentation\\\\Segmentation_Dataset\\\\training\\\\masks\\\\img\\\\7282.tif'"
      ]
     },
     "execution_count": 6,
     "metadata": {},
     "output_type": "execute_result"
    },
    {
     "data": {
      "text/plain": [
       "'C:\\\\Users\\\\fralu\\\\Documents\\\\GitHub\\\\anndl\\\\image-segmentation\\\\Segmentation_Dataset\\\\training\\\\images\\\\img\\\\7288.tif'"
      ]
     },
     "execution_count": 6,
     "metadata": {},
     "output_type": "execute_result"
    },
    {
     "data": {
      "text/plain": [
       "'C:\\\\Users\\\\fralu\\\\Documents\\\\GitHub\\\\anndl\\\\image-segmentation\\\\Segmentation_Dataset\\\\training\\\\masks\\\\img\\\\7288.tif'"
      ]
     },
     "execution_count": 6,
     "metadata": {},
     "output_type": "execute_result"
    },
    {
     "data": {
      "text/plain": [
       "'C:\\\\Users\\\\fralu\\\\Documents\\\\GitHub\\\\anndl\\\\image-segmentation\\\\Segmentation_Dataset\\\\training\\\\images\\\\img\\\\7290.tif'"
      ]
     },
     "execution_count": 6,
     "metadata": {},
     "output_type": "execute_result"
    },
    {
     "data": {
      "text/plain": [
       "'C:\\\\Users\\\\fralu\\\\Documents\\\\GitHub\\\\anndl\\\\image-segmentation\\\\Segmentation_Dataset\\\\training\\\\masks\\\\img\\\\7290.tif'"
      ]
     },
     "execution_count": 6,
     "metadata": {},
     "output_type": "execute_result"
    },
    {
     "data": {
      "text/plain": [
       "'C:\\\\Users\\\\fralu\\\\Documents\\\\GitHub\\\\anndl\\\\image-segmentation\\\\Segmentation_Dataset\\\\training\\\\images\\\\img\\\\734.tif'"
      ]
     },
     "execution_count": 6,
     "metadata": {},
     "output_type": "execute_result"
    },
    {
     "data": {
      "text/plain": [
       "'C:\\\\Users\\\\fralu\\\\Documents\\\\GitHub\\\\anndl\\\\image-segmentation\\\\Segmentation_Dataset\\\\training\\\\masks\\\\img\\\\734.tif'"
      ]
     },
     "execution_count": 6,
     "metadata": {},
     "output_type": "execute_result"
    },
    {
     "data": {
      "text/plain": [
       "'C:\\\\Users\\\\fralu\\\\Documents\\\\GitHub\\\\anndl\\\\image-segmentation\\\\Segmentation_Dataset\\\\training\\\\images\\\\img\\\\738.tif'"
      ]
     },
     "execution_count": 6,
     "metadata": {},
     "output_type": "execute_result"
    },
    {
     "data": {
      "text/plain": [
       "'C:\\\\Users\\\\fralu\\\\Documents\\\\GitHub\\\\anndl\\\\image-segmentation\\\\Segmentation_Dataset\\\\training\\\\masks\\\\img\\\\738.tif'"
      ]
     },
     "execution_count": 6,
     "metadata": {},
     "output_type": "execute_result"
    },
    {
     "data": {
      "text/plain": [
       "'C:\\\\Users\\\\fralu\\\\Documents\\\\GitHub\\\\anndl\\\\image-segmentation\\\\Segmentation_Dataset\\\\training\\\\images\\\\img\\\\7380.tif'"
      ]
     },
     "execution_count": 6,
     "metadata": {},
     "output_type": "execute_result"
    },
    {
     "data": {
      "text/plain": [
       "'C:\\\\Users\\\\fralu\\\\Documents\\\\GitHub\\\\anndl\\\\image-segmentation\\\\Segmentation_Dataset\\\\training\\\\masks\\\\img\\\\7380.tif'"
      ]
     },
     "execution_count": 6,
     "metadata": {},
     "output_type": "execute_result"
    },
    {
     "data": {
      "text/plain": [
       "'C:\\\\Users\\\\fralu\\\\Documents\\\\GitHub\\\\anndl\\\\image-segmentation\\\\Segmentation_Dataset\\\\training\\\\images\\\\img\\\\7384.tif'"
      ]
     },
     "execution_count": 6,
     "metadata": {},
     "output_type": "execute_result"
    },
    {
     "data": {
      "text/plain": [
       "'C:\\\\Users\\\\fralu\\\\Documents\\\\GitHub\\\\anndl\\\\image-segmentation\\\\Segmentation_Dataset\\\\training\\\\masks\\\\img\\\\7384.tif'"
      ]
     },
     "execution_count": 6,
     "metadata": {},
     "output_type": "execute_result"
    },
    {
     "data": {
      "text/plain": [
       "'C:\\\\Users\\\\fralu\\\\Documents\\\\GitHub\\\\anndl\\\\image-segmentation\\\\Segmentation_Dataset\\\\training\\\\images\\\\img\\\\7385.tif'"
      ]
     },
     "execution_count": 6,
     "metadata": {},
     "output_type": "execute_result"
    },
    {
     "data": {
      "text/plain": [
       "'C:\\\\Users\\\\fralu\\\\Documents\\\\GitHub\\\\anndl\\\\image-segmentation\\\\Segmentation_Dataset\\\\training\\\\masks\\\\img\\\\7385.tif'"
      ]
     },
     "execution_count": 6,
     "metadata": {},
     "output_type": "execute_result"
    },
    {
     "data": {
      "text/plain": [
       "'C:\\\\Users\\\\fralu\\\\Documents\\\\GitHub\\\\anndl\\\\image-segmentation\\\\Segmentation_Dataset\\\\training\\\\images\\\\img\\\\7387.tif'"
      ]
     },
     "execution_count": 6,
     "metadata": {},
     "output_type": "execute_result"
    },
    {
     "data": {
      "text/plain": [
       "'C:\\\\Users\\\\fralu\\\\Documents\\\\GitHub\\\\anndl\\\\image-segmentation\\\\Segmentation_Dataset\\\\training\\\\masks\\\\img\\\\7387.tif'"
      ]
     },
     "execution_count": 6,
     "metadata": {},
     "output_type": "execute_result"
    },
    {
     "data": {
      "text/plain": [
       "'C:\\\\Users\\\\fralu\\\\Documents\\\\GitHub\\\\anndl\\\\image-segmentation\\\\Segmentation_Dataset\\\\training\\\\images\\\\img\\\\7388.tif'"
      ]
     },
     "execution_count": 6,
     "metadata": {},
     "output_type": "execute_result"
    },
    {
     "data": {
      "text/plain": [
       "'C:\\\\Users\\\\fralu\\\\Documents\\\\GitHub\\\\anndl\\\\image-segmentation\\\\Segmentation_Dataset\\\\training\\\\masks\\\\img\\\\7388.tif'"
      ]
     },
     "execution_count": 6,
     "metadata": {},
     "output_type": "execute_result"
    },
    {
     "data": {
      "text/plain": [
       "'C:\\\\Users\\\\fralu\\\\Documents\\\\GitHub\\\\anndl\\\\image-segmentation\\\\Segmentation_Dataset\\\\training\\\\images\\\\img\\\\7392.tif'"
      ]
     },
     "execution_count": 6,
     "metadata": {},
     "output_type": "execute_result"
    },
    {
     "data": {
      "text/plain": [
       "'C:\\\\Users\\\\fralu\\\\Documents\\\\GitHub\\\\anndl\\\\image-segmentation\\\\Segmentation_Dataset\\\\training\\\\masks\\\\img\\\\7392.tif'"
      ]
     },
     "execution_count": 6,
     "metadata": {},
     "output_type": "execute_result"
    },
    {
     "data": {
      "text/plain": [
       "'C:\\\\Users\\\\fralu\\\\Documents\\\\GitHub\\\\anndl\\\\image-segmentation\\\\Segmentation_Dataset\\\\training\\\\images\\\\img\\\\7393.tif'"
      ]
     },
     "execution_count": 6,
     "metadata": {},
     "output_type": "execute_result"
    },
    {
     "data": {
      "text/plain": [
       "'C:\\\\Users\\\\fralu\\\\Documents\\\\GitHub\\\\anndl\\\\image-segmentation\\\\Segmentation_Dataset\\\\training\\\\masks\\\\img\\\\7393.tif'"
      ]
     },
     "execution_count": 6,
     "metadata": {},
     "output_type": "execute_result"
    },
    {
     "data": {
      "text/plain": [
       "'C:\\\\Users\\\\fralu\\\\Documents\\\\GitHub\\\\anndl\\\\image-segmentation\\\\Segmentation_Dataset\\\\training\\\\images\\\\img\\\\740.tif'"
      ]
     },
     "execution_count": 6,
     "metadata": {},
     "output_type": "execute_result"
    },
    {
     "data": {
      "text/plain": [
       "'C:\\\\Users\\\\fralu\\\\Documents\\\\GitHub\\\\anndl\\\\image-segmentation\\\\Segmentation_Dataset\\\\training\\\\masks\\\\img\\\\740.tif'"
      ]
     },
     "execution_count": 6,
     "metadata": {},
     "output_type": "execute_result"
    },
    {
     "data": {
      "text/plain": [
       "'C:\\\\Users\\\\fralu\\\\Documents\\\\GitHub\\\\anndl\\\\image-segmentation\\\\Segmentation_Dataset\\\\training\\\\images\\\\img\\\\7401.tif'"
      ]
     },
     "execution_count": 6,
     "metadata": {},
     "output_type": "execute_result"
    },
    {
     "data": {
      "text/plain": [
       "'C:\\\\Users\\\\fralu\\\\Documents\\\\GitHub\\\\anndl\\\\image-segmentation\\\\Segmentation_Dataset\\\\training\\\\masks\\\\img\\\\7401.tif'"
      ]
     },
     "execution_count": 6,
     "metadata": {},
     "output_type": "execute_result"
    },
    {
     "data": {
      "text/plain": [
       "'C:\\\\Users\\\\fralu\\\\Documents\\\\GitHub\\\\anndl\\\\image-segmentation\\\\Segmentation_Dataset\\\\training\\\\images\\\\img\\\\7402.tif'"
      ]
     },
     "execution_count": 6,
     "metadata": {},
     "output_type": "execute_result"
    },
    {
     "data": {
      "text/plain": [
       "'C:\\\\Users\\\\fralu\\\\Documents\\\\GitHub\\\\anndl\\\\image-segmentation\\\\Segmentation_Dataset\\\\training\\\\masks\\\\img\\\\7402.tif'"
      ]
     },
     "execution_count": 6,
     "metadata": {},
     "output_type": "execute_result"
    },
    {
     "data": {
      "text/plain": [
       "'C:\\\\Users\\\\fralu\\\\Documents\\\\GitHub\\\\anndl\\\\image-segmentation\\\\Segmentation_Dataset\\\\training\\\\images\\\\img\\\\7410.tif'"
      ]
     },
     "execution_count": 6,
     "metadata": {},
     "output_type": "execute_result"
    },
    {
     "data": {
      "text/plain": [
       "'C:\\\\Users\\\\fralu\\\\Documents\\\\GitHub\\\\anndl\\\\image-segmentation\\\\Segmentation_Dataset\\\\training\\\\masks\\\\img\\\\7410.tif'"
      ]
     },
     "execution_count": 6,
     "metadata": {},
     "output_type": "execute_result"
    },
    {
     "data": {
      "text/plain": [
       "'C:\\\\Users\\\\fralu\\\\Documents\\\\GitHub\\\\anndl\\\\image-segmentation\\\\Segmentation_Dataset\\\\training\\\\images\\\\img\\\\7411.tif'"
      ]
     },
     "execution_count": 6,
     "metadata": {},
     "output_type": "execute_result"
    },
    {
     "data": {
      "text/plain": [
       "'C:\\\\Users\\\\fralu\\\\Documents\\\\GitHub\\\\anndl\\\\image-segmentation\\\\Segmentation_Dataset\\\\training\\\\masks\\\\img\\\\7411.tif'"
      ]
     },
     "execution_count": 6,
     "metadata": {},
     "output_type": "execute_result"
    },
    {
     "data": {
      "text/plain": [
       "'C:\\\\Users\\\\fralu\\\\Documents\\\\GitHub\\\\anndl\\\\image-segmentation\\\\Segmentation_Dataset\\\\training\\\\images\\\\img\\\\7414.tif'"
      ]
     },
     "execution_count": 6,
     "metadata": {},
     "output_type": "execute_result"
    },
    {
     "data": {
      "text/plain": [
       "'C:\\\\Users\\\\fralu\\\\Documents\\\\GitHub\\\\anndl\\\\image-segmentation\\\\Segmentation_Dataset\\\\training\\\\masks\\\\img\\\\7414.tif'"
      ]
     },
     "execution_count": 6,
     "metadata": {},
     "output_type": "execute_result"
    },
    {
     "data": {
      "text/plain": [
       "'C:\\\\Users\\\\fralu\\\\Documents\\\\GitHub\\\\anndl\\\\image-segmentation\\\\Segmentation_Dataset\\\\training\\\\images\\\\img\\\\7417.tif'"
      ]
     },
     "execution_count": 6,
     "metadata": {},
     "output_type": "execute_result"
    },
    {
     "data": {
      "text/plain": [
       "'C:\\\\Users\\\\fralu\\\\Documents\\\\GitHub\\\\anndl\\\\image-segmentation\\\\Segmentation_Dataset\\\\training\\\\masks\\\\img\\\\7417.tif'"
      ]
     },
     "execution_count": 6,
     "metadata": {},
     "output_type": "execute_result"
    },
    {
     "data": {
      "text/plain": [
       "'C:\\\\Users\\\\fralu\\\\Documents\\\\GitHub\\\\anndl\\\\image-segmentation\\\\Segmentation_Dataset\\\\training\\\\images\\\\img\\\\7421.tif'"
      ]
     },
     "execution_count": 6,
     "metadata": {},
     "output_type": "execute_result"
    },
    {
     "data": {
      "text/plain": [
       "'C:\\\\Users\\\\fralu\\\\Documents\\\\GitHub\\\\anndl\\\\image-segmentation\\\\Segmentation_Dataset\\\\training\\\\masks\\\\img\\\\7421.tif'"
      ]
     },
     "execution_count": 6,
     "metadata": {},
     "output_type": "execute_result"
    },
    {
     "data": {
      "text/plain": [
       "'C:\\\\Users\\\\fralu\\\\Documents\\\\GitHub\\\\anndl\\\\image-segmentation\\\\Segmentation_Dataset\\\\training\\\\images\\\\img\\\\7424.tif'"
      ]
     },
     "execution_count": 6,
     "metadata": {},
     "output_type": "execute_result"
    },
    {
     "data": {
      "text/plain": [
       "'C:\\\\Users\\\\fralu\\\\Documents\\\\GitHub\\\\anndl\\\\image-segmentation\\\\Segmentation_Dataset\\\\training\\\\masks\\\\img\\\\7424.tif'"
      ]
     },
     "execution_count": 6,
     "metadata": {},
     "output_type": "execute_result"
    },
    {
     "data": {
      "text/plain": [
       "'C:\\\\Users\\\\fralu\\\\Documents\\\\GitHub\\\\anndl\\\\image-segmentation\\\\Segmentation_Dataset\\\\training\\\\images\\\\img\\\\7425.tif'"
      ]
     },
     "execution_count": 6,
     "metadata": {},
     "output_type": "execute_result"
    },
    {
     "data": {
      "text/plain": [
       "'C:\\\\Users\\\\fralu\\\\Documents\\\\GitHub\\\\anndl\\\\image-segmentation\\\\Segmentation_Dataset\\\\training\\\\masks\\\\img\\\\7425.tif'"
      ]
     },
     "execution_count": 6,
     "metadata": {},
     "output_type": "execute_result"
    },
    {
     "data": {
      "text/plain": [
       "'C:\\\\Users\\\\fralu\\\\Documents\\\\GitHub\\\\anndl\\\\image-segmentation\\\\Segmentation_Dataset\\\\training\\\\images\\\\img\\\\7428.tif'"
      ]
     },
     "execution_count": 6,
     "metadata": {},
     "output_type": "execute_result"
    },
    {
     "data": {
      "text/plain": [
       "'C:\\\\Users\\\\fralu\\\\Documents\\\\GitHub\\\\anndl\\\\image-segmentation\\\\Segmentation_Dataset\\\\training\\\\masks\\\\img\\\\7428.tif'"
      ]
     },
     "execution_count": 6,
     "metadata": {},
     "output_type": "execute_result"
    },
    {
     "data": {
      "text/plain": [
       "'C:\\\\Users\\\\fralu\\\\Documents\\\\GitHub\\\\anndl\\\\image-segmentation\\\\Segmentation_Dataset\\\\training\\\\images\\\\img\\\\7430.tif'"
      ]
     },
     "execution_count": 6,
     "metadata": {},
     "output_type": "execute_result"
    },
    {
     "data": {
      "text/plain": [
       "'C:\\\\Users\\\\fralu\\\\Documents\\\\GitHub\\\\anndl\\\\image-segmentation\\\\Segmentation_Dataset\\\\training\\\\masks\\\\img\\\\7430.tif'"
      ]
     },
     "execution_count": 6,
     "metadata": {},
     "output_type": "execute_result"
    },
    {
     "data": {
      "text/plain": [
       "'C:\\\\Users\\\\fralu\\\\Documents\\\\GitHub\\\\anndl\\\\image-segmentation\\\\Segmentation_Dataset\\\\training\\\\images\\\\img\\\\7431.tif'"
      ]
     },
     "execution_count": 6,
     "metadata": {},
     "output_type": "execute_result"
    },
    {
     "data": {
      "text/plain": [
       "'C:\\\\Users\\\\fralu\\\\Documents\\\\GitHub\\\\anndl\\\\image-segmentation\\\\Segmentation_Dataset\\\\training\\\\masks\\\\img\\\\7431.tif'"
      ]
     },
     "execution_count": 6,
     "metadata": {},
     "output_type": "execute_result"
    },
    {
     "data": {
      "text/plain": [
       "'C:\\\\Users\\\\fralu\\\\Documents\\\\GitHub\\\\anndl\\\\image-segmentation\\\\Segmentation_Dataset\\\\training\\\\images\\\\img\\\\7435.tif'"
      ]
     },
     "execution_count": 6,
     "metadata": {},
     "output_type": "execute_result"
    },
    {
     "data": {
      "text/plain": [
       "'C:\\\\Users\\\\fralu\\\\Documents\\\\GitHub\\\\anndl\\\\image-segmentation\\\\Segmentation_Dataset\\\\training\\\\masks\\\\img\\\\7435.tif'"
      ]
     },
     "execution_count": 6,
     "metadata": {},
     "output_type": "execute_result"
    },
    {
     "data": {
      "text/plain": [
       "'C:\\\\Users\\\\fralu\\\\Documents\\\\GitHub\\\\anndl\\\\image-segmentation\\\\Segmentation_Dataset\\\\training\\\\images\\\\img\\\\745.tif'"
      ]
     },
     "execution_count": 6,
     "metadata": {},
     "output_type": "execute_result"
    },
    {
     "data": {
      "text/plain": [
       "'C:\\\\Users\\\\fralu\\\\Documents\\\\GitHub\\\\anndl\\\\image-segmentation\\\\Segmentation_Dataset\\\\training\\\\masks\\\\img\\\\745.tif'"
      ]
     },
     "execution_count": 6,
     "metadata": {},
     "output_type": "execute_result"
    },
    {
     "data": {
      "text/plain": [
       "'C:\\\\Users\\\\fralu\\\\Documents\\\\GitHub\\\\anndl\\\\image-segmentation\\\\Segmentation_Dataset\\\\training\\\\images\\\\img\\\\7453.tif'"
      ]
     },
     "execution_count": 6,
     "metadata": {},
     "output_type": "execute_result"
    },
    {
     "data": {
      "text/plain": [
       "'C:\\\\Users\\\\fralu\\\\Documents\\\\GitHub\\\\anndl\\\\image-segmentation\\\\Segmentation_Dataset\\\\training\\\\masks\\\\img\\\\7453.tif'"
      ]
     },
     "execution_count": 6,
     "metadata": {},
     "output_type": "execute_result"
    },
    {
     "data": {
      "text/plain": [
       "'C:\\\\Users\\\\fralu\\\\Documents\\\\GitHub\\\\anndl\\\\image-segmentation\\\\Segmentation_Dataset\\\\training\\\\images\\\\img\\\\7454.tif'"
      ]
     },
     "execution_count": 6,
     "metadata": {},
     "output_type": "execute_result"
    },
    {
     "data": {
      "text/plain": [
       "'C:\\\\Users\\\\fralu\\\\Documents\\\\GitHub\\\\anndl\\\\image-segmentation\\\\Segmentation_Dataset\\\\training\\\\masks\\\\img\\\\7454.tif'"
      ]
     },
     "execution_count": 6,
     "metadata": {},
     "output_type": "execute_result"
    },
    {
     "data": {
      "text/plain": [
       "'C:\\\\Users\\\\fralu\\\\Documents\\\\GitHub\\\\anndl\\\\image-segmentation\\\\Segmentation_Dataset\\\\training\\\\images\\\\img\\\\7477.tif'"
      ]
     },
     "execution_count": 6,
     "metadata": {},
     "output_type": "execute_result"
    },
    {
     "data": {
      "text/plain": [
       "'C:\\\\Users\\\\fralu\\\\Documents\\\\GitHub\\\\anndl\\\\image-segmentation\\\\Segmentation_Dataset\\\\training\\\\masks\\\\img\\\\7477.tif'"
      ]
     },
     "execution_count": 6,
     "metadata": {},
     "output_type": "execute_result"
    },
    {
     "data": {
      "text/plain": [
       "'C:\\\\Users\\\\fralu\\\\Documents\\\\GitHub\\\\anndl\\\\image-segmentation\\\\Segmentation_Dataset\\\\training\\\\images\\\\img\\\\7481.tif'"
      ]
     },
     "execution_count": 6,
     "metadata": {},
     "output_type": "execute_result"
    },
    {
     "data": {
      "text/plain": [
       "'C:\\\\Users\\\\fralu\\\\Documents\\\\GitHub\\\\anndl\\\\image-segmentation\\\\Segmentation_Dataset\\\\training\\\\masks\\\\img\\\\7481.tif'"
      ]
     },
     "execution_count": 6,
     "metadata": {},
     "output_type": "execute_result"
    },
    {
     "data": {
      "text/plain": [
       "'C:\\\\Users\\\\fralu\\\\Documents\\\\GitHub\\\\anndl\\\\image-segmentation\\\\Segmentation_Dataset\\\\training\\\\images\\\\img\\\\7482.tif'"
      ]
     },
     "execution_count": 6,
     "metadata": {},
     "output_type": "execute_result"
    },
    {
     "data": {
      "text/plain": [
       "'C:\\\\Users\\\\fralu\\\\Documents\\\\GitHub\\\\anndl\\\\image-segmentation\\\\Segmentation_Dataset\\\\training\\\\masks\\\\img\\\\7482.tif'"
      ]
     },
     "execution_count": 6,
     "metadata": {},
     "output_type": "execute_result"
    },
    {
     "data": {
      "text/plain": [
       "'C:\\\\Users\\\\fralu\\\\Documents\\\\GitHub\\\\anndl\\\\image-segmentation\\\\Segmentation_Dataset\\\\training\\\\images\\\\img\\\\7496.tif'"
      ]
     },
     "execution_count": 6,
     "metadata": {},
     "output_type": "execute_result"
    },
    {
     "data": {
      "text/plain": [
       "'C:\\\\Users\\\\fralu\\\\Documents\\\\GitHub\\\\anndl\\\\image-segmentation\\\\Segmentation_Dataset\\\\training\\\\masks\\\\img\\\\7496.tif'"
      ]
     },
     "execution_count": 6,
     "metadata": {},
     "output_type": "execute_result"
    },
    {
     "data": {
      "text/plain": [
       "'C:\\\\Users\\\\fralu\\\\Documents\\\\GitHub\\\\anndl\\\\image-segmentation\\\\Segmentation_Dataset\\\\training\\\\images\\\\img\\\\7498.tif'"
      ]
     },
     "execution_count": 6,
     "metadata": {},
     "output_type": "execute_result"
    },
    {
     "data": {
      "text/plain": [
       "'C:\\\\Users\\\\fralu\\\\Documents\\\\GitHub\\\\anndl\\\\image-segmentation\\\\Segmentation_Dataset\\\\training\\\\masks\\\\img\\\\7498.tif'"
      ]
     },
     "execution_count": 6,
     "metadata": {},
     "output_type": "execute_result"
    },
    {
     "data": {
      "text/plain": [
       "'C:\\\\Users\\\\fralu\\\\Documents\\\\GitHub\\\\anndl\\\\image-segmentation\\\\Segmentation_Dataset\\\\training\\\\images\\\\img\\\\7499.tif'"
      ]
     },
     "execution_count": 6,
     "metadata": {},
     "output_type": "execute_result"
    },
    {
     "data": {
      "text/plain": [
       "'C:\\\\Users\\\\fralu\\\\Documents\\\\GitHub\\\\anndl\\\\image-segmentation\\\\Segmentation_Dataset\\\\training\\\\masks\\\\img\\\\7499.tif'"
      ]
     },
     "execution_count": 6,
     "metadata": {},
     "output_type": "execute_result"
    },
    {
     "data": {
      "text/plain": [
       "'C:\\\\Users\\\\fralu\\\\Documents\\\\GitHub\\\\anndl\\\\image-segmentation\\\\Segmentation_Dataset\\\\training\\\\images\\\\img\\\\7500.tif'"
      ]
     },
     "execution_count": 6,
     "metadata": {},
     "output_type": "execute_result"
    },
    {
     "data": {
      "text/plain": [
       "'C:\\\\Users\\\\fralu\\\\Documents\\\\GitHub\\\\anndl\\\\image-segmentation\\\\Segmentation_Dataset\\\\training\\\\masks\\\\img\\\\7500.tif'"
      ]
     },
     "execution_count": 6,
     "metadata": {},
     "output_type": "execute_result"
    },
    {
     "data": {
      "text/plain": [
       "'C:\\\\Users\\\\fralu\\\\Documents\\\\GitHub\\\\anndl\\\\image-segmentation\\\\Segmentation_Dataset\\\\training\\\\images\\\\img\\\\7502.tif'"
      ]
     },
     "execution_count": 6,
     "metadata": {},
     "output_type": "execute_result"
    },
    {
     "data": {
      "text/plain": [
       "'C:\\\\Users\\\\fralu\\\\Documents\\\\GitHub\\\\anndl\\\\image-segmentation\\\\Segmentation_Dataset\\\\training\\\\masks\\\\img\\\\7502.tif'"
      ]
     },
     "execution_count": 6,
     "metadata": {},
     "output_type": "execute_result"
    },
    {
     "data": {
      "text/plain": [
       "'C:\\\\Users\\\\fralu\\\\Documents\\\\GitHub\\\\anndl\\\\image-segmentation\\\\Segmentation_Dataset\\\\training\\\\images\\\\img\\\\7507.tif'"
      ]
     },
     "execution_count": 6,
     "metadata": {},
     "output_type": "execute_result"
    },
    {
     "data": {
      "text/plain": [
       "'C:\\\\Users\\\\fralu\\\\Documents\\\\GitHub\\\\anndl\\\\image-segmentation\\\\Segmentation_Dataset\\\\training\\\\masks\\\\img\\\\7507.tif'"
      ]
     },
     "execution_count": 6,
     "metadata": {},
     "output_type": "execute_result"
    },
    {
     "data": {
      "text/plain": [
       "'C:\\\\Users\\\\fralu\\\\Documents\\\\GitHub\\\\anndl\\\\image-segmentation\\\\Segmentation_Dataset\\\\training\\\\images\\\\img\\\\7509.tif'"
      ]
     },
     "execution_count": 6,
     "metadata": {},
     "output_type": "execute_result"
    },
    {
     "data": {
      "text/plain": [
       "'C:\\\\Users\\\\fralu\\\\Documents\\\\GitHub\\\\anndl\\\\image-segmentation\\\\Segmentation_Dataset\\\\training\\\\masks\\\\img\\\\7509.tif'"
      ]
     },
     "execution_count": 6,
     "metadata": {},
     "output_type": "execute_result"
    },
    {
     "data": {
      "text/plain": [
       "'C:\\\\Users\\\\fralu\\\\Documents\\\\GitHub\\\\anndl\\\\image-segmentation\\\\Segmentation_Dataset\\\\training\\\\images\\\\img\\\\7515.tif'"
      ]
     },
     "execution_count": 6,
     "metadata": {},
     "output_type": "execute_result"
    },
    {
     "data": {
      "text/plain": [
       "'C:\\\\Users\\\\fralu\\\\Documents\\\\GitHub\\\\anndl\\\\image-segmentation\\\\Segmentation_Dataset\\\\training\\\\masks\\\\img\\\\7515.tif'"
      ]
     },
     "execution_count": 6,
     "metadata": {},
     "output_type": "execute_result"
    },
    {
     "data": {
      "text/plain": [
       "'C:\\\\Users\\\\fralu\\\\Documents\\\\GitHub\\\\anndl\\\\image-segmentation\\\\Segmentation_Dataset\\\\training\\\\images\\\\img\\\\752.tif'"
      ]
     },
     "execution_count": 6,
     "metadata": {},
     "output_type": "execute_result"
    },
    {
     "data": {
      "text/plain": [
       "'C:\\\\Users\\\\fralu\\\\Documents\\\\GitHub\\\\anndl\\\\image-segmentation\\\\Segmentation_Dataset\\\\training\\\\masks\\\\img\\\\752.tif'"
      ]
     },
     "execution_count": 6,
     "metadata": {},
     "output_type": "execute_result"
    },
    {
     "data": {
      "text/plain": [
       "'C:\\\\Users\\\\fralu\\\\Documents\\\\GitHub\\\\anndl\\\\image-segmentation\\\\Segmentation_Dataset\\\\training\\\\images\\\\img\\\\7530.tif'"
      ]
     },
     "execution_count": 6,
     "metadata": {},
     "output_type": "execute_result"
    },
    {
     "data": {
      "text/plain": [
       "'C:\\\\Users\\\\fralu\\\\Documents\\\\GitHub\\\\anndl\\\\image-segmentation\\\\Segmentation_Dataset\\\\training\\\\masks\\\\img\\\\7530.tif'"
      ]
     },
     "execution_count": 6,
     "metadata": {},
     "output_type": "execute_result"
    },
    {
     "data": {
      "text/plain": [
       "'C:\\\\Users\\\\fralu\\\\Documents\\\\GitHub\\\\anndl\\\\image-segmentation\\\\Segmentation_Dataset\\\\training\\\\images\\\\img\\\\755.tif'"
      ]
     },
     "execution_count": 6,
     "metadata": {},
     "output_type": "execute_result"
    },
    {
     "data": {
      "text/plain": [
       "'C:\\\\Users\\\\fralu\\\\Documents\\\\GitHub\\\\anndl\\\\image-segmentation\\\\Segmentation_Dataset\\\\training\\\\masks\\\\img\\\\755.tif'"
      ]
     },
     "execution_count": 6,
     "metadata": {},
     "output_type": "execute_result"
    },
    {
     "data": {
      "text/plain": [
       "'C:\\\\Users\\\\fralu\\\\Documents\\\\GitHub\\\\anndl\\\\image-segmentation\\\\Segmentation_Dataset\\\\training\\\\images\\\\img\\\\758.tif'"
      ]
     },
     "execution_count": 6,
     "metadata": {},
     "output_type": "execute_result"
    },
    {
     "data": {
      "text/plain": [
       "'C:\\\\Users\\\\fralu\\\\Documents\\\\GitHub\\\\anndl\\\\image-segmentation\\\\Segmentation_Dataset\\\\training\\\\masks\\\\img\\\\758.tif'"
      ]
     },
     "execution_count": 6,
     "metadata": {},
     "output_type": "execute_result"
    },
    {
     "data": {
      "text/plain": [
       "'C:\\\\Users\\\\fralu\\\\Documents\\\\GitHub\\\\anndl\\\\image-segmentation\\\\Segmentation_Dataset\\\\training\\\\images\\\\img\\\\7607.tif'"
      ]
     },
     "execution_count": 6,
     "metadata": {},
     "output_type": "execute_result"
    },
    {
     "data": {
      "text/plain": [
       "'C:\\\\Users\\\\fralu\\\\Documents\\\\GitHub\\\\anndl\\\\image-segmentation\\\\Segmentation_Dataset\\\\training\\\\masks\\\\img\\\\7607.tif'"
      ]
     },
     "execution_count": 6,
     "metadata": {},
     "output_type": "execute_result"
    },
    {
     "data": {
      "text/plain": [
       "'C:\\\\Users\\\\fralu\\\\Documents\\\\GitHub\\\\anndl\\\\image-segmentation\\\\Segmentation_Dataset\\\\training\\\\images\\\\img\\\\7608.tif'"
      ]
     },
     "execution_count": 6,
     "metadata": {},
     "output_type": "execute_result"
    },
    {
     "data": {
      "text/plain": [
       "'C:\\\\Users\\\\fralu\\\\Documents\\\\GitHub\\\\anndl\\\\image-segmentation\\\\Segmentation_Dataset\\\\training\\\\masks\\\\img\\\\7608.tif'"
      ]
     },
     "execution_count": 6,
     "metadata": {},
     "output_type": "execute_result"
    },
    {
     "data": {
      "text/plain": [
       "'C:\\\\Users\\\\fralu\\\\Documents\\\\GitHub\\\\anndl\\\\image-segmentation\\\\Segmentation_Dataset\\\\training\\\\images\\\\img\\\\7611.tif'"
      ]
     },
     "execution_count": 6,
     "metadata": {},
     "output_type": "execute_result"
    },
    {
     "data": {
      "text/plain": [
       "'C:\\\\Users\\\\fralu\\\\Documents\\\\GitHub\\\\anndl\\\\image-segmentation\\\\Segmentation_Dataset\\\\training\\\\masks\\\\img\\\\7611.tif'"
      ]
     },
     "execution_count": 6,
     "metadata": {},
     "output_type": "execute_result"
    },
    {
     "data": {
      "text/plain": [
       "'C:\\\\Users\\\\fralu\\\\Documents\\\\GitHub\\\\anndl\\\\image-segmentation\\\\Segmentation_Dataset\\\\training\\\\images\\\\img\\\\7612.tif'"
      ]
     },
     "execution_count": 6,
     "metadata": {},
     "output_type": "execute_result"
    },
    {
     "data": {
      "text/plain": [
       "'C:\\\\Users\\\\fralu\\\\Documents\\\\GitHub\\\\anndl\\\\image-segmentation\\\\Segmentation_Dataset\\\\training\\\\masks\\\\img\\\\7612.tif'"
      ]
     },
     "execution_count": 6,
     "metadata": {},
     "output_type": "execute_result"
    },
    {
     "data": {
      "text/plain": [
       "'C:\\\\Users\\\\fralu\\\\Documents\\\\GitHub\\\\anndl\\\\image-segmentation\\\\Segmentation_Dataset\\\\training\\\\images\\\\img\\\\7614.tif'"
      ]
     },
     "execution_count": 6,
     "metadata": {},
     "output_type": "execute_result"
    },
    {
     "data": {
      "text/plain": [
       "'C:\\\\Users\\\\fralu\\\\Documents\\\\GitHub\\\\anndl\\\\image-segmentation\\\\Segmentation_Dataset\\\\training\\\\masks\\\\img\\\\7614.tif'"
      ]
     },
     "execution_count": 6,
     "metadata": {},
     "output_type": "execute_result"
    },
    {
     "data": {
      "text/plain": [
       "'C:\\\\Users\\\\fralu\\\\Documents\\\\GitHub\\\\anndl\\\\image-segmentation\\\\Segmentation_Dataset\\\\training\\\\images\\\\img\\\\7615.tif'"
      ]
     },
     "execution_count": 6,
     "metadata": {},
     "output_type": "execute_result"
    },
    {
     "data": {
      "text/plain": [
       "'C:\\\\Users\\\\fralu\\\\Documents\\\\GitHub\\\\anndl\\\\image-segmentation\\\\Segmentation_Dataset\\\\training\\\\masks\\\\img\\\\7615.tif'"
      ]
     },
     "execution_count": 6,
     "metadata": {},
     "output_type": "execute_result"
    },
    {
     "data": {
      "text/plain": [
       "'C:\\\\Users\\\\fralu\\\\Documents\\\\GitHub\\\\anndl\\\\image-segmentation\\\\Segmentation_Dataset\\\\training\\\\images\\\\img\\\\7626.tif'"
      ]
     },
     "execution_count": 6,
     "metadata": {},
     "output_type": "execute_result"
    },
    {
     "data": {
      "text/plain": [
       "'C:\\\\Users\\\\fralu\\\\Documents\\\\GitHub\\\\anndl\\\\image-segmentation\\\\Segmentation_Dataset\\\\training\\\\masks\\\\img\\\\7626.tif'"
      ]
     },
     "execution_count": 6,
     "metadata": {},
     "output_type": "execute_result"
    },
    {
     "data": {
      "text/plain": [
       "'C:\\\\Users\\\\fralu\\\\Documents\\\\GitHub\\\\anndl\\\\image-segmentation\\\\Segmentation_Dataset\\\\training\\\\images\\\\img\\\\7627.tif'"
      ]
     },
     "execution_count": 6,
     "metadata": {},
     "output_type": "execute_result"
    },
    {
     "data": {
      "text/plain": [
       "'C:\\\\Users\\\\fralu\\\\Documents\\\\GitHub\\\\anndl\\\\image-segmentation\\\\Segmentation_Dataset\\\\training\\\\masks\\\\img\\\\7627.tif'"
      ]
     },
     "execution_count": 6,
     "metadata": {},
     "output_type": "execute_result"
    },
    {
     "data": {
      "text/plain": [
       "'C:\\\\Users\\\\fralu\\\\Documents\\\\GitHub\\\\anndl\\\\image-segmentation\\\\Segmentation_Dataset\\\\training\\\\images\\\\img\\\\763.tif'"
      ]
     },
     "execution_count": 6,
     "metadata": {},
     "output_type": "execute_result"
    },
    {
     "data": {
      "text/plain": [
       "'C:\\\\Users\\\\fralu\\\\Documents\\\\GitHub\\\\anndl\\\\image-segmentation\\\\Segmentation_Dataset\\\\training\\\\masks\\\\img\\\\763.tif'"
      ]
     },
     "execution_count": 6,
     "metadata": {},
     "output_type": "execute_result"
    },
    {
     "data": {
      "text/plain": [
       "'C:\\\\Users\\\\fralu\\\\Documents\\\\GitHub\\\\anndl\\\\image-segmentation\\\\Segmentation_Dataset\\\\training\\\\images\\\\img\\\\7634.tif'"
      ]
     },
     "execution_count": 6,
     "metadata": {},
     "output_type": "execute_result"
    },
    {
     "data": {
      "text/plain": [
       "'C:\\\\Users\\\\fralu\\\\Documents\\\\GitHub\\\\anndl\\\\image-segmentation\\\\Segmentation_Dataset\\\\training\\\\masks\\\\img\\\\7634.tif'"
      ]
     },
     "execution_count": 6,
     "metadata": {},
     "output_type": "execute_result"
    },
    {
     "data": {
      "text/plain": [
       "'C:\\\\Users\\\\fralu\\\\Documents\\\\GitHub\\\\anndl\\\\image-segmentation\\\\Segmentation_Dataset\\\\training\\\\images\\\\img\\\\7639.tif'"
      ]
     },
     "execution_count": 6,
     "metadata": {},
     "output_type": "execute_result"
    },
    {
     "data": {
      "text/plain": [
       "'C:\\\\Users\\\\fralu\\\\Documents\\\\GitHub\\\\anndl\\\\image-segmentation\\\\Segmentation_Dataset\\\\training\\\\masks\\\\img\\\\7639.tif'"
      ]
     },
     "execution_count": 6,
     "metadata": {},
     "output_type": "execute_result"
    },
    {
     "data": {
      "text/plain": [
       "'C:\\\\Users\\\\fralu\\\\Documents\\\\GitHub\\\\anndl\\\\image-segmentation\\\\Segmentation_Dataset\\\\training\\\\images\\\\img\\\\7640.tif'"
      ]
     },
     "execution_count": 6,
     "metadata": {},
     "output_type": "execute_result"
    },
    {
     "data": {
      "text/plain": [
       "'C:\\\\Users\\\\fralu\\\\Documents\\\\GitHub\\\\anndl\\\\image-segmentation\\\\Segmentation_Dataset\\\\training\\\\masks\\\\img\\\\7640.tif'"
      ]
     },
     "execution_count": 6,
     "metadata": {},
     "output_type": "execute_result"
    },
    {
     "data": {
      "text/plain": [
       "'C:\\\\Users\\\\fralu\\\\Documents\\\\GitHub\\\\anndl\\\\image-segmentation\\\\Segmentation_Dataset\\\\training\\\\images\\\\img\\\\7644.tif'"
      ]
     },
     "execution_count": 6,
     "metadata": {},
     "output_type": "execute_result"
    },
    {
     "data": {
      "text/plain": [
       "'C:\\\\Users\\\\fralu\\\\Documents\\\\GitHub\\\\anndl\\\\image-segmentation\\\\Segmentation_Dataset\\\\training\\\\masks\\\\img\\\\7644.tif'"
      ]
     },
     "execution_count": 6,
     "metadata": {},
     "output_type": "execute_result"
    },
    {
     "data": {
      "text/plain": [
       "'C:\\\\Users\\\\fralu\\\\Documents\\\\GitHub\\\\anndl\\\\image-segmentation\\\\Segmentation_Dataset\\\\training\\\\images\\\\img\\\\7645.tif'"
      ]
     },
     "execution_count": 6,
     "metadata": {},
     "output_type": "execute_result"
    },
    {
     "data": {
      "text/plain": [
       "'C:\\\\Users\\\\fralu\\\\Documents\\\\GitHub\\\\anndl\\\\image-segmentation\\\\Segmentation_Dataset\\\\training\\\\masks\\\\img\\\\7645.tif'"
      ]
     },
     "execution_count": 6,
     "metadata": {},
     "output_type": "execute_result"
    },
    {
     "data": {
      "text/plain": [
       "'C:\\\\Users\\\\fralu\\\\Documents\\\\GitHub\\\\anndl\\\\image-segmentation\\\\Segmentation_Dataset\\\\training\\\\images\\\\img\\\\7652.tif'"
      ]
     },
     "execution_count": 6,
     "metadata": {},
     "output_type": "execute_result"
    },
    {
     "data": {
      "text/plain": [
       "'C:\\\\Users\\\\fralu\\\\Documents\\\\GitHub\\\\anndl\\\\image-segmentation\\\\Segmentation_Dataset\\\\training\\\\masks\\\\img\\\\7652.tif'"
      ]
     },
     "execution_count": 6,
     "metadata": {},
     "output_type": "execute_result"
    },
    {
     "data": {
      "text/plain": [
       "'C:\\\\Users\\\\fralu\\\\Documents\\\\GitHub\\\\anndl\\\\image-segmentation\\\\Segmentation_Dataset\\\\training\\\\images\\\\img\\\\7660.tif'"
      ]
     },
     "execution_count": 6,
     "metadata": {},
     "output_type": "execute_result"
    },
    {
     "data": {
      "text/plain": [
       "'C:\\\\Users\\\\fralu\\\\Documents\\\\GitHub\\\\anndl\\\\image-segmentation\\\\Segmentation_Dataset\\\\training\\\\masks\\\\img\\\\7660.tif'"
      ]
     },
     "execution_count": 6,
     "metadata": {},
     "output_type": "execute_result"
    },
    {
     "data": {
      "text/plain": [
       "'C:\\\\Users\\\\fralu\\\\Documents\\\\GitHub\\\\anndl\\\\image-segmentation\\\\Segmentation_Dataset\\\\training\\\\images\\\\img\\\\7680.tif'"
      ]
     },
     "execution_count": 6,
     "metadata": {},
     "output_type": "execute_result"
    },
    {
     "data": {
      "text/plain": [
       "'C:\\\\Users\\\\fralu\\\\Documents\\\\GitHub\\\\anndl\\\\image-segmentation\\\\Segmentation_Dataset\\\\training\\\\masks\\\\img\\\\7680.tif'"
      ]
     },
     "execution_count": 6,
     "metadata": {},
     "output_type": "execute_result"
    },
    {
     "data": {
      "text/plain": [
       "'C:\\\\Users\\\\fralu\\\\Documents\\\\GitHub\\\\anndl\\\\image-segmentation\\\\Segmentation_Dataset\\\\training\\\\images\\\\img\\\\7682.tif'"
      ]
     },
     "execution_count": 6,
     "metadata": {},
     "output_type": "execute_result"
    },
    {
     "data": {
      "text/plain": [
       "'C:\\\\Users\\\\fralu\\\\Documents\\\\GitHub\\\\anndl\\\\image-segmentation\\\\Segmentation_Dataset\\\\training\\\\masks\\\\img\\\\7682.tif'"
      ]
     },
     "execution_count": 6,
     "metadata": {},
     "output_type": "execute_result"
    },
    {
     "data": {
      "text/plain": [
       "'C:\\\\Users\\\\fralu\\\\Documents\\\\GitHub\\\\anndl\\\\image-segmentation\\\\Segmentation_Dataset\\\\training\\\\images\\\\img\\\\7685.tif'"
      ]
     },
     "execution_count": 6,
     "metadata": {},
     "output_type": "execute_result"
    },
    {
     "data": {
      "text/plain": [
       "'C:\\\\Users\\\\fralu\\\\Documents\\\\GitHub\\\\anndl\\\\image-segmentation\\\\Segmentation_Dataset\\\\training\\\\masks\\\\img\\\\7685.tif'"
      ]
     },
     "execution_count": 6,
     "metadata": {},
     "output_type": "execute_result"
    },
    {
     "data": {
      "text/plain": [
       "'C:\\\\Users\\\\fralu\\\\Documents\\\\GitHub\\\\anndl\\\\image-segmentation\\\\Segmentation_Dataset\\\\training\\\\images\\\\img\\\\7687.tif'"
      ]
     },
     "execution_count": 6,
     "metadata": {},
     "output_type": "execute_result"
    },
    {
     "data": {
      "text/plain": [
       "'C:\\\\Users\\\\fralu\\\\Documents\\\\GitHub\\\\anndl\\\\image-segmentation\\\\Segmentation_Dataset\\\\training\\\\masks\\\\img\\\\7687.tif'"
      ]
     },
     "execution_count": 6,
     "metadata": {},
     "output_type": "execute_result"
    },
    {
     "data": {
      "text/plain": [
       "'C:\\\\Users\\\\fralu\\\\Documents\\\\GitHub\\\\anndl\\\\image-segmentation\\\\Segmentation_Dataset\\\\training\\\\images\\\\img\\\\7692.tif'"
      ]
     },
     "execution_count": 6,
     "metadata": {},
     "output_type": "execute_result"
    },
    {
     "data": {
      "text/plain": [
       "'C:\\\\Users\\\\fralu\\\\Documents\\\\GitHub\\\\anndl\\\\image-segmentation\\\\Segmentation_Dataset\\\\training\\\\masks\\\\img\\\\7692.tif'"
      ]
     },
     "execution_count": 6,
     "metadata": {},
     "output_type": "execute_result"
    },
    {
     "data": {
      "text/plain": [
       "'C:\\\\Users\\\\fralu\\\\Documents\\\\GitHub\\\\anndl\\\\image-segmentation\\\\Segmentation_Dataset\\\\training\\\\images\\\\img\\\\7697.tif'"
      ]
     },
     "execution_count": 6,
     "metadata": {},
     "output_type": "execute_result"
    },
    {
     "data": {
      "text/plain": [
       "'C:\\\\Users\\\\fralu\\\\Documents\\\\GitHub\\\\anndl\\\\image-segmentation\\\\Segmentation_Dataset\\\\training\\\\masks\\\\img\\\\7697.tif'"
      ]
     },
     "execution_count": 6,
     "metadata": {},
     "output_type": "execute_result"
    },
    {
     "data": {
      "text/plain": [
       "'C:\\\\Users\\\\fralu\\\\Documents\\\\GitHub\\\\anndl\\\\image-segmentation\\\\Segmentation_Dataset\\\\training\\\\images\\\\img\\\\7701.tif'"
      ]
     },
     "execution_count": 6,
     "metadata": {},
     "output_type": "execute_result"
    },
    {
     "data": {
      "text/plain": [
       "'C:\\\\Users\\\\fralu\\\\Documents\\\\GitHub\\\\anndl\\\\image-segmentation\\\\Segmentation_Dataset\\\\training\\\\masks\\\\img\\\\7701.tif'"
      ]
     },
     "execution_count": 6,
     "metadata": {},
     "output_type": "execute_result"
    },
    {
     "data": {
      "text/plain": [
       "'C:\\\\Users\\\\fralu\\\\Documents\\\\GitHub\\\\anndl\\\\image-segmentation\\\\Segmentation_Dataset\\\\training\\\\images\\\\img\\\\7702.tif'"
      ]
     },
     "execution_count": 6,
     "metadata": {},
     "output_type": "execute_result"
    },
    {
     "data": {
      "text/plain": [
       "'C:\\\\Users\\\\fralu\\\\Documents\\\\GitHub\\\\anndl\\\\image-segmentation\\\\Segmentation_Dataset\\\\training\\\\masks\\\\img\\\\7702.tif'"
      ]
     },
     "execution_count": 6,
     "metadata": {},
     "output_type": "execute_result"
    },
    {
     "data": {
      "text/plain": [
       "'C:\\\\Users\\\\fralu\\\\Documents\\\\GitHub\\\\anndl\\\\image-segmentation\\\\Segmentation_Dataset\\\\training\\\\images\\\\img\\\\7703.tif'"
      ]
     },
     "execution_count": 6,
     "metadata": {},
     "output_type": "execute_result"
    },
    {
     "data": {
      "text/plain": [
       "'C:\\\\Users\\\\fralu\\\\Documents\\\\GitHub\\\\anndl\\\\image-segmentation\\\\Segmentation_Dataset\\\\training\\\\masks\\\\img\\\\7703.tif'"
      ]
     },
     "execution_count": 6,
     "metadata": {},
     "output_type": "execute_result"
    },
    {
     "data": {
      "text/plain": [
       "'C:\\\\Users\\\\fralu\\\\Documents\\\\GitHub\\\\anndl\\\\image-segmentation\\\\Segmentation_Dataset\\\\training\\\\images\\\\img\\\\771.tif'"
      ]
     },
     "execution_count": 6,
     "metadata": {},
     "output_type": "execute_result"
    },
    {
     "data": {
      "text/plain": [
       "'C:\\\\Users\\\\fralu\\\\Documents\\\\GitHub\\\\anndl\\\\image-segmentation\\\\Segmentation_Dataset\\\\training\\\\masks\\\\img\\\\771.tif'"
      ]
     },
     "execution_count": 6,
     "metadata": {},
     "output_type": "execute_result"
    },
    {
     "data": {
      "text/plain": [
       "'C:\\\\Users\\\\fralu\\\\Documents\\\\GitHub\\\\anndl\\\\image-segmentation\\\\Segmentation_Dataset\\\\training\\\\images\\\\img\\\\7721.tif'"
      ]
     },
     "execution_count": 6,
     "metadata": {},
     "output_type": "execute_result"
    },
    {
     "data": {
      "text/plain": [
       "'C:\\\\Users\\\\fralu\\\\Documents\\\\GitHub\\\\anndl\\\\image-segmentation\\\\Segmentation_Dataset\\\\training\\\\masks\\\\img\\\\7721.tif'"
      ]
     },
     "execution_count": 6,
     "metadata": {},
     "output_type": "execute_result"
    },
    {
     "data": {
      "text/plain": [
       "'C:\\\\Users\\\\fralu\\\\Documents\\\\GitHub\\\\anndl\\\\image-segmentation\\\\Segmentation_Dataset\\\\training\\\\images\\\\img\\\\7731.tif'"
      ]
     },
     "execution_count": 6,
     "metadata": {},
     "output_type": "execute_result"
    },
    {
     "data": {
      "text/plain": [
       "'C:\\\\Users\\\\fralu\\\\Documents\\\\GitHub\\\\anndl\\\\image-segmentation\\\\Segmentation_Dataset\\\\training\\\\masks\\\\img\\\\7731.tif'"
      ]
     },
     "execution_count": 6,
     "metadata": {},
     "output_type": "execute_result"
    },
    {
     "data": {
      "text/plain": [
       "'C:\\\\Users\\\\fralu\\\\Documents\\\\GitHub\\\\anndl\\\\image-segmentation\\\\Segmentation_Dataset\\\\training\\\\images\\\\img\\\\7735.tif'"
      ]
     },
     "execution_count": 6,
     "metadata": {},
     "output_type": "execute_result"
    },
    {
     "data": {
      "text/plain": [
       "'C:\\\\Users\\\\fralu\\\\Documents\\\\GitHub\\\\anndl\\\\image-segmentation\\\\Segmentation_Dataset\\\\training\\\\masks\\\\img\\\\7735.tif'"
      ]
     },
     "execution_count": 6,
     "metadata": {},
     "output_type": "execute_result"
    },
    {
     "data": {
      "text/plain": [
       "'C:\\\\Users\\\\fralu\\\\Documents\\\\GitHub\\\\anndl\\\\image-segmentation\\\\Segmentation_Dataset\\\\training\\\\images\\\\img\\\\7738.tif'"
      ]
     },
     "execution_count": 6,
     "metadata": {},
     "output_type": "execute_result"
    },
    {
     "data": {
      "text/plain": [
       "'C:\\\\Users\\\\fralu\\\\Documents\\\\GitHub\\\\anndl\\\\image-segmentation\\\\Segmentation_Dataset\\\\training\\\\masks\\\\img\\\\7738.tif'"
      ]
     },
     "execution_count": 6,
     "metadata": {},
     "output_type": "execute_result"
    },
    {
     "data": {
      "text/plain": [
       "'C:\\\\Users\\\\fralu\\\\Documents\\\\GitHub\\\\anndl\\\\image-segmentation\\\\Segmentation_Dataset\\\\training\\\\images\\\\img\\\\7739.tif'"
      ]
     },
     "execution_count": 6,
     "metadata": {},
     "output_type": "execute_result"
    },
    {
     "data": {
      "text/plain": [
       "'C:\\\\Users\\\\fralu\\\\Documents\\\\GitHub\\\\anndl\\\\image-segmentation\\\\Segmentation_Dataset\\\\training\\\\masks\\\\img\\\\7739.tif'"
      ]
     },
     "execution_count": 6,
     "metadata": {},
     "output_type": "execute_result"
    },
    {
     "data": {
      "text/plain": [
       "'C:\\\\Users\\\\fralu\\\\Documents\\\\GitHub\\\\anndl\\\\image-segmentation\\\\Segmentation_Dataset\\\\training\\\\images\\\\img\\\\7746.tif'"
      ]
     },
     "execution_count": 6,
     "metadata": {},
     "output_type": "execute_result"
    },
    {
     "data": {
      "text/plain": [
       "'C:\\\\Users\\\\fralu\\\\Documents\\\\GitHub\\\\anndl\\\\image-segmentation\\\\Segmentation_Dataset\\\\training\\\\masks\\\\img\\\\7746.tif'"
      ]
     },
     "execution_count": 6,
     "metadata": {},
     "output_type": "execute_result"
    },
    {
     "data": {
      "text/plain": [
       "'C:\\\\Users\\\\fralu\\\\Documents\\\\GitHub\\\\anndl\\\\image-segmentation\\\\Segmentation_Dataset\\\\training\\\\images\\\\img\\\\7755.tif'"
      ]
     },
     "execution_count": 6,
     "metadata": {},
     "output_type": "execute_result"
    },
    {
     "data": {
      "text/plain": [
       "'C:\\\\Users\\\\fralu\\\\Documents\\\\GitHub\\\\anndl\\\\image-segmentation\\\\Segmentation_Dataset\\\\training\\\\masks\\\\img\\\\7755.tif'"
      ]
     },
     "execution_count": 6,
     "metadata": {},
     "output_type": "execute_result"
    },
    {
     "data": {
      "text/plain": [
       "'C:\\\\Users\\\\fralu\\\\Documents\\\\GitHub\\\\anndl\\\\image-segmentation\\\\Segmentation_Dataset\\\\training\\\\images\\\\img\\\\7782.tif'"
      ]
     },
     "execution_count": 6,
     "metadata": {},
     "output_type": "execute_result"
    },
    {
     "data": {
      "text/plain": [
       "'C:\\\\Users\\\\fralu\\\\Documents\\\\GitHub\\\\anndl\\\\image-segmentation\\\\Segmentation_Dataset\\\\training\\\\masks\\\\img\\\\7782.tif'"
      ]
     },
     "execution_count": 6,
     "metadata": {},
     "output_type": "execute_result"
    },
    {
     "data": {
      "text/plain": [
       "'C:\\\\Users\\\\fralu\\\\Documents\\\\GitHub\\\\anndl\\\\image-segmentation\\\\Segmentation_Dataset\\\\training\\\\images\\\\img\\\\7789.tif'"
      ]
     },
     "execution_count": 6,
     "metadata": {},
     "output_type": "execute_result"
    },
    {
     "data": {
      "text/plain": [
       "'C:\\\\Users\\\\fralu\\\\Documents\\\\GitHub\\\\anndl\\\\image-segmentation\\\\Segmentation_Dataset\\\\training\\\\masks\\\\img\\\\7789.tif'"
      ]
     },
     "execution_count": 6,
     "metadata": {},
     "output_type": "execute_result"
    },
    {
     "data": {
      "text/plain": [
       "'C:\\\\Users\\\\fralu\\\\Documents\\\\GitHub\\\\anndl\\\\image-segmentation\\\\Segmentation_Dataset\\\\training\\\\images\\\\img\\\\7793.tif'"
      ]
     },
     "execution_count": 6,
     "metadata": {},
     "output_type": "execute_result"
    },
    {
     "data": {
      "text/plain": [
       "'C:\\\\Users\\\\fralu\\\\Documents\\\\GitHub\\\\anndl\\\\image-segmentation\\\\Segmentation_Dataset\\\\training\\\\masks\\\\img\\\\7793.tif'"
      ]
     },
     "execution_count": 6,
     "metadata": {},
     "output_type": "execute_result"
    },
    {
     "data": {
      "text/plain": [
       "'C:\\\\Users\\\\fralu\\\\Documents\\\\GitHub\\\\anndl\\\\image-segmentation\\\\Segmentation_Dataset\\\\training\\\\images\\\\img\\\\7794.tif'"
      ]
     },
     "execution_count": 6,
     "metadata": {},
     "output_type": "execute_result"
    },
    {
     "data": {
      "text/plain": [
       "'C:\\\\Users\\\\fralu\\\\Documents\\\\GitHub\\\\anndl\\\\image-segmentation\\\\Segmentation_Dataset\\\\training\\\\masks\\\\img\\\\7794.tif'"
      ]
     },
     "execution_count": 6,
     "metadata": {},
     "output_type": "execute_result"
    },
    {
     "data": {
      "text/plain": [
       "'C:\\\\Users\\\\fralu\\\\Documents\\\\GitHub\\\\anndl\\\\image-segmentation\\\\Segmentation_Dataset\\\\training\\\\images\\\\img\\\\780.tif'"
      ]
     },
     "execution_count": 6,
     "metadata": {},
     "output_type": "execute_result"
    },
    {
     "data": {
      "text/plain": [
       "'C:\\\\Users\\\\fralu\\\\Documents\\\\GitHub\\\\anndl\\\\image-segmentation\\\\Segmentation_Dataset\\\\training\\\\masks\\\\img\\\\780.tif'"
      ]
     },
     "execution_count": 6,
     "metadata": {},
     "output_type": "execute_result"
    },
    {
     "data": {
      "text/plain": [
       "'C:\\\\Users\\\\fralu\\\\Documents\\\\GitHub\\\\anndl\\\\image-segmentation\\\\Segmentation_Dataset\\\\training\\\\images\\\\img\\\\7806.tif'"
      ]
     },
     "execution_count": 6,
     "metadata": {},
     "output_type": "execute_result"
    },
    {
     "data": {
      "text/plain": [
       "'C:\\\\Users\\\\fralu\\\\Documents\\\\GitHub\\\\anndl\\\\image-segmentation\\\\Segmentation_Dataset\\\\training\\\\masks\\\\img\\\\7806.tif'"
      ]
     },
     "execution_count": 6,
     "metadata": {},
     "output_type": "execute_result"
    },
    {
     "data": {
      "text/plain": [
       "'C:\\\\Users\\\\fralu\\\\Documents\\\\GitHub\\\\anndl\\\\image-segmentation\\\\Segmentation_Dataset\\\\training\\\\images\\\\img\\\\7831.tif'"
      ]
     },
     "execution_count": 6,
     "metadata": {},
     "output_type": "execute_result"
    },
    {
     "data": {
      "text/plain": [
       "'C:\\\\Users\\\\fralu\\\\Documents\\\\GitHub\\\\anndl\\\\image-segmentation\\\\Segmentation_Dataset\\\\training\\\\masks\\\\img\\\\7831.tif'"
      ]
     },
     "execution_count": 6,
     "metadata": {},
     "output_type": "execute_result"
    },
    {
     "data": {
      "text/plain": [
       "'C:\\\\Users\\\\fralu\\\\Documents\\\\GitHub\\\\anndl\\\\image-segmentation\\\\Segmentation_Dataset\\\\training\\\\images\\\\img\\\\7834.tif'"
      ]
     },
     "execution_count": 6,
     "metadata": {},
     "output_type": "execute_result"
    },
    {
     "data": {
      "text/plain": [
       "'C:\\\\Users\\\\fralu\\\\Documents\\\\GitHub\\\\anndl\\\\image-segmentation\\\\Segmentation_Dataset\\\\training\\\\masks\\\\img\\\\7834.tif'"
      ]
     },
     "execution_count": 6,
     "metadata": {},
     "output_type": "execute_result"
    },
    {
     "data": {
      "text/plain": [
       "'C:\\\\Users\\\\fralu\\\\Documents\\\\GitHub\\\\anndl\\\\image-segmentation\\\\Segmentation_Dataset\\\\training\\\\images\\\\img\\\\7843.tif'"
      ]
     },
     "execution_count": 6,
     "metadata": {},
     "output_type": "execute_result"
    },
    {
     "data": {
      "text/plain": [
       "'C:\\\\Users\\\\fralu\\\\Documents\\\\GitHub\\\\anndl\\\\image-segmentation\\\\Segmentation_Dataset\\\\training\\\\masks\\\\img\\\\7843.tif'"
      ]
     },
     "execution_count": 6,
     "metadata": {},
     "output_type": "execute_result"
    },
    {
     "data": {
      "text/plain": [
       "'C:\\\\Users\\\\fralu\\\\Documents\\\\GitHub\\\\anndl\\\\image-segmentation\\\\Segmentation_Dataset\\\\training\\\\images\\\\img\\\\7844.tif'"
      ]
     },
     "execution_count": 6,
     "metadata": {},
     "output_type": "execute_result"
    },
    {
     "data": {
      "text/plain": [
       "'C:\\\\Users\\\\fralu\\\\Documents\\\\GitHub\\\\anndl\\\\image-segmentation\\\\Segmentation_Dataset\\\\training\\\\masks\\\\img\\\\7844.tif'"
      ]
     },
     "execution_count": 6,
     "metadata": {},
     "output_type": "execute_result"
    },
    {
     "data": {
      "text/plain": [
       "'C:\\\\Users\\\\fralu\\\\Documents\\\\GitHub\\\\anndl\\\\image-segmentation\\\\Segmentation_Dataset\\\\training\\\\images\\\\img\\\\7848.tif'"
      ]
     },
     "execution_count": 6,
     "metadata": {},
     "output_type": "execute_result"
    },
    {
     "data": {
      "text/plain": [
       "'C:\\\\Users\\\\fralu\\\\Documents\\\\GitHub\\\\anndl\\\\image-segmentation\\\\Segmentation_Dataset\\\\training\\\\masks\\\\img\\\\7848.tif'"
      ]
     },
     "execution_count": 6,
     "metadata": {},
     "output_type": "execute_result"
    },
    {
     "data": {
      "text/plain": [
       "'C:\\\\Users\\\\fralu\\\\Documents\\\\GitHub\\\\anndl\\\\image-segmentation\\\\Segmentation_Dataset\\\\training\\\\images\\\\img\\\\7851.tif'"
      ]
     },
     "execution_count": 6,
     "metadata": {},
     "output_type": "execute_result"
    },
    {
     "data": {
      "text/plain": [
       "'C:\\\\Users\\\\fralu\\\\Documents\\\\GitHub\\\\anndl\\\\image-segmentation\\\\Segmentation_Dataset\\\\training\\\\masks\\\\img\\\\7851.tif'"
      ]
     },
     "execution_count": 6,
     "metadata": {},
     "output_type": "execute_result"
    },
    {
     "data": {
      "text/plain": [
       "'C:\\\\Users\\\\fralu\\\\Documents\\\\GitHub\\\\anndl\\\\image-segmentation\\\\Segmentation_Dataset\\\\training\\\\images\\\\img\\\\7854.tif'"
      ]
     },
     "execution_count": 6,
     "metadata": {},
     "output_type": "execute_result"
    },
    {
     "data": {
      "text/plain": [
       "'C:\\\\Users\\\\fralu\\\\Documents\\\\GitHub\\\\anndl\\\\image-segmentation\\\\Segmentation_Dataset\\\\training\\\\masks\\\\img\\\\7854.tif'"
      ]
     },
     "execution_count": 6,
     "metadata": {},
     "output_type": "execute_result"
    },
    {
     "data": {
      "text/plain": [
       "'C:\\\\Users\\\\fralu\\\\Documents\\\\GitHub\\\\anndl\\\\image-segmentation\\\\Segmentation_Dataset\\\\training\\\\images\\\\img\\\\7855.tif'"
      ]
     },
     "execution_count": 6,
     "metadata": {},
     "output_type": "execute_result"
    },
    {
     "data": {
      "text/plain": [
       "'C:\\\\Users\\\\fralu\\\\Documents\\\\GitHub\\\\anndl\\\\image-segmentation\\\\Segmentation_Dataset\\\\training\\\\masks\\\\img\\\\7855.tif'"
      ]
     },
     "execution_count": 6,
     "metadata": {},
     "output_type": "execute_result"
    },
    {
     "data": {
      "text/plain": [
       "'C:\\\\Users\\\\fralu\\\\Documents\\\\GitHub\\\\anndl\\\\image-segmentation\\\\Segmentation_Dataset\\\\training\\\\images\\\\img\\\\7863.tif'"
      ]
     },
     "execution_count": 6,
     "metadata": {},
     "output_type": "execute_result"
    },
    {
     "data": {
      "text/plain": [
       "'C:\\\\Users\\\\fralu\\\\Documents\\\\GitHub\\\\anndl\\\\image-segmentation\\\\Segmentation_Dataset\\\\training\\\\masks\\\\img\\\\7863.tif'"
      ]
     },
     "execution_count": 6,
     "metadata": {},
     "output_type": "execute_result"
    },
    {
     "data": {
      "text/plain": [
       "'C:\\\\Users\\\\fralu\\\\Documents\\\\GitHub\\\\anndl\\\\image-segmentation\\\\Segmentation_Dataset\\\\training\\\\images\\\\img\\\\7866.tif'"
      ]
     },
     "execution_count": 6,
     "metadata": {},
     "output_type": "execute_result"
    },
    {
     "data": {
      "text/plain": [
       "'C:\\\\Users\\\\fralu\\\\Documents\\\\GitHub\\\\anndl\\\\image-segmentation\\\\Segmentation_Dataset\\\\training\\\\masks\\\\img\\\\7866.tif'"
      ]
     },
     "execution_count": 6,
     "metadata": {},
     "output_type": "execute_result"
    },
    {
     "data": {
      "text/plain": [
       "'C:\\\\Users\\\\fralu\\\\Documents\\\\GitHub\\\\anndl\\\\image-segmentation\\\\Segmentation_Dataset\\\\training\\\\images\\\\img\\\\7867.tif'"
      ]
     },
     "execution_count": 6,
     "metadata": {},
     "output_type": "execute_result"
    },
    {
     "data": {
      "text/plain": [
       "'C:\\\\Users\\\\fralu\\\\Documents\\\\GitHub\\\\anndl\\\\image-segmentation\\\\Segmentation_Dataset\\\\training\\\\masks\\\\img\\\\7867.tif'"
      ]
     },
     "execution_count": 6,
     "metadata": {},
     "output_type": "execute_result"
    },
    {
     "data": {
      "text/plain": [
       "'C:\\\\Users\\\\fralu\\\\Documents\\\\GitHub\\\\anndl\\\\image-segmentation\\\\Segmentation_Dataset\\\\training\\\\images\\\\img\\\\7869.tif'"
      ]
     },
     "execution_count": 6,
     "metadata": {},
     "output_type": "execute_result"
    },
    {
     "data": {
      "text/plain": [
       "'C:\\\\Users\\\\fralu\\\\Documents\\\\GitHub\\\\anndl\\\\image-segmentation\\\\Segmentation_Dataset\\\\training\\\\masks\\\\img\\\\7869.tif'"
      ]
     },
     "execution_count": 6,
     "metadata": {},
     "output_type": "execute_result"
    },
    {
     "data": {
      "text/plain": [
       "'C:\\\\Users\\\\fralu\\\\Documents\\\\GitHub\\\\anndl\\\\image-segmentation\\\\Segmentation_Dataset\\\\training\\\\images\\\\img\\\\7873.tif'"
      ]
     },
     "execution_count": 6,
     "metadata": {},
     "output_type": "execute_result"
    },
    {
     "data": {
      "text/plain": [
       "'C:\\\\Users\\\\fralu\\\\Documents\\\\GitHub\\\\anndl\\\\image-segmentation\\\\Segmentation_Dataset\\\\training\\\\masks\\\\img\\\\7873.tif'"
      ]
     },
     "execution_count": 6,
     "metadata": {},
     "output_type": "execute_result"
    },
    {
     "data": {
      "text/plain": [
       "'C:\\\\Users\\\\fralu\\\\Documents\\\\GitHub\\\\anndl\\\\image-segmentation\\\\Segmentation_Dataset\\\\training\\\\images\\\\img\\\\7876.tif'"
      ]
     },
     "execution_count": 6,
     "metadata": {},
     "output_type": "execute_result"
    },
    {
     "data": {
      "text/plain": [
       "'C:\\\\Users\\\\fralu\\\\Documents\\\\GitHub\\\\anndl\\\\image-segmentation\\\\Segmentation_Dataset\\\\training\\\\masks\\\\img\\\\7876.tif'"
      ]
     },
     "execution_count": 6,
     "metadata": {},
     "output_type": "execute_result"
    },
    {
     "data": {
      "text/plain": [
       "'C:\\\\Users\\\\fralu\\\\Documents\\\\GitHub\\\\anndl\\\\image-segmentation\\\\Segmentation_Dataset\\\\training\\\\images\\\\img\\\\7881.tif'"
      ]
     },
     "execution_count": 6,
     "metadata": {},
     "output_type": "execute_result"
    },
    {
     "data": {
      "text/plain": [
       "'C:\\\\Users\\\\fralu\\\\Documents\\\\GitHub\\\\anndl\\\\image-segmentation\\\\Segmentation_Dataset\\\\training\\\\masks\\\\img\\\\7881.tif'"
      ]
     },
     "execution_count": 6,
     "metadata": {},
     "output_type": "execute_result"
    },
    {
     "data": {
      "text/plain": [
       "'C:\\\\Users\\\\fralu\\\\Documents\\\\GitHub\\\\anndl\\\\image-segmentation\\\\Segmentation_Dataset\\\\training\\\\images\\\\img\\\\79.tif'"
      ]
     },
     "execution_count": 6,
     "metadata": {},
     "output_type": "execute_result"
    },
    {
     "data": {
      "text/plain": [
       "'C:\\\\Users\\\\fralu\\\\Documents\\\\GitHub\\\\anndl\\\\image-segmentation\\\\Segmentation_Dataset\\\\training\\\\masks\\\\img\\\\79.tif'"
      ]
     },
     "execution_count": 6,
     "metadata": {},
     "output_type": "execute_result"
    },
    {
     "data": {
      "text/plain": [
       "'C:\\\\Users\\\\fralu\\\\Documents\\\\GitHub\\\\anndl\\\\image-segmentation\\\\Segmentation_Dataset\\\\training\\\\images\\\\img\\\\7906.tif'"
      ]
     },
     "execution_count": 6,
     "metadata": {},
     "output_type": "execute_result"
    },
    {
     "data": {
      "text/plain": [
       "'C:\\\\Users\\\\fralu\\\\Documents\\\\GitHub\\\\anndl\\\\image-segmentation\\\\Segmentation_Dataset\\\\training\\\\masks\\\\img\\\\7906.tif'"
      ]
     },
     "execution_count": 6,
     "metadata": {},
     "output_type": "execute_result"
    },
    {
     "data": {
      "text/plain": [
       "'C:\\\\Users\\\\fralu\\\\Documents\\\\GitHub\\\\anndl\\\\image-segmentation\\\\Segmentation_Dataset\\\\training\\\\images\\\\img\\\\7910.tif'"
      ]
     },
     "execution_count": 6,
     "metadata": {},
     "output_type": "execute_result"
    },
    {
     "data": {
      "text/plain": [
       "'C:\\\\Users\\\\fralu\\\\Documents\\\\GitHub\\\\anndl\\\\image-segmentation\\\\Segmentation_Dataset\\\\training\\\\masks\\\\img\\\\7910.tif'"
      ]
     },
     "execution_count": 6,
     "metadata": {},
     "output_type": "execute_result"
    },
    {
     "data": {
      "text/plain": [
       "'C:\\\\Users\\\\fralu\\\\Documents\\\\GitHub\\\\anndl\\\\image-segmentation\\\\Segmentation_Dataset\\\\training\\\\images\\\\img\\\\7914.tif'"
      ]
     },
     "execution_count": 6,
     "metadata": {},
     "output_type": "execute_result"
    },
    {
     "data": {
      "text/plain": [
       "'C:\\\\Users\\\\fralu\\\\Documents\\\\GitHub\\\\anndl\\\\image-segmentation\\\\Segmentation_Dataset\\\\training\\\\masks\\\\img\\\\7914.tif'"
      ]
     },
     "execution_count": 6,
     "metadata": {},
     "output_type": "execute_result"
    },
    {
     "data": {
      "text/plain": [
       "'C:\\\\Users\\\\fralu\\\\Documents\\\\GitHub\\\\anndl\\\\image-segmentation\\\\Segmentation_Dataset\\\\training\\\\images\\\\img\\\\7915.tif'"
      ]
     },
     "execution_count": 6,
     "metadata": {},
     "output_type": "execute_result"
    },
    {
     "data": {
      "text/plain": [
       "'C:\\\\Users\\\\fralu\\\\Documents\\\\GitHub\\\\anndl\\\\image-segmentation\\\\Segmentation_Dataset\\\\training\\\\masks\\\\img\\\\7915.tif'"
      ]
     },
     "execution_count": 6,
     "metadata": {},
     "output_type": "execute_result"
    },
    {
     "data": {
      "text/plain": [
       "'C:\\\\Users\\\\fralu\\\\Documents\\\\GitHub\\\\anndl\\\\image-segmentation\\\\Segmentation_Dataset\\\\training\\\\images\\\\img\\\\7916.tif'"
      ]
     },
     "execution_count": 6,
     "metadata": {},
     "output_type": "execute_result"
    },
    {
     "data": {
      "text/plain": [
       "'C:\\\\Users\\\\fralu\\\\Documents\\\\GitHub\\\\anndl\\\\image-segmentation\\\\Segmentation_Dataset\\\\training\\\\masks\\\\img\\\\7916.tif'"
      ]
     },
     "execution_count": 6,
     "metadata": {},
     "output_type": "execute_result"
    },
    {
     "data": {
      "text/plain": [
       "'C:\\\\Users\\\\fralu\\\\Documents\\\\GitHub\\\\anndl\\\\image-segmentation\\\\Segmentation_Dataset\\\\training\\\\images\\\\img\\\\7919.tif'"
      ]
     },
     "execution_count": 6,
     "metadata": {},
     "output_type": "execute_result"
    },
    {
     "data": {
      "text/plain": [
       "'C:\\\\Users\\\\fralu\\\\Documents\\\\GitHub\\\\anndl\\\\image-segmentation\\\\Segmentation_Dataset\\\\training\\\\masks\\\\img\\\\7919.tif'"
      ]
     },
     "execution_count": 6,
     "metadata": {},
     "output_type": "execute_result"
    },
    {
     "data": {
      "text/plain": [
       "'C:\\\\Users\\\\fralu\\\\Documents\\\\GitHub\\\\anndl\\\\image-segmentation\\\\Segmentation_Dataset\\\\training\\\\images\\\\img\\\\792.tif'"
      ]
     },
     "execution_count": 6,
     "metadata": {},
     "output_type": "execute_result"
    },
    {
     "data": {
      "text/plain": [
       "'C:\\\\Users\\\\fralu\\\\Documents\\\\GitHub\\\\anndl\\\\image-segmentation\\\\Segmentation_Dataset\\\\training\\\\masks\\\\img\\\\792.tif'"
      ]
     },
     "execution_count": 6,
     "metadata": {},
     "output_type": "execute_result"
    },
    {
     "data": {
      "text/plain": [
       "'C:\\\\Users\\\\fralu\\\\Documents\\\\GitHub\\\\anndl\\\\image-segmentation\\\\Segmentation_Dataset\\\\training\\\\images\\\\img\\\\7921.tif'"
      ]
     },
     "execution_count": 6,
     "metadata": {},
     "output_type": "execute_result"
    },
    {
     "data": {
      "text/plain": [
       "'C:\\\\Users\\\\fralu\\\\Documents\\\\GitHub\\\\anndl\\\\image-segmentation\\\\Segmentation_Dataset\\\\training\\\\masks\\\\img\\\\7921.tif'"
      ]
     },
     "execution_count": 6,
     "metadata": {},
     "output_type": "execute_result"
    },
    {
     "data": {
      "text/plain": [
       "'C:\\\\Users\\\\fralu\\\\Documents\\\\GitHub\\\\anndl\\\\image-segmentation\\\\Segmentation_Dataset\\\\training\\\\images\\\\img\\\\7924.tif'"
      ]
     },
     "execution_count": 6,
     "metadata": {},
     "output_type": "execute_result"
    },
    {
     "data": {
      "text/plain": [
       "'C:\\\\Users\\\\fralu\\\\Documents\\\\GitHub\\\\anndl\\\\image-segmentation\\\\Segmentation_Dataset\\\\training\\\\masks\\\\img\\\\7924.tif'"
      ]
     },
     "execution_count": 6,
     "metadata": {},
     "output_type": "execute_result"
    },
    {
     "data": {
      "text/plain": [
       "'C:\\\\Users\\\\fralu\\\\Documents\\\\GitHub\\\\anndl\\\\image-segmentation\\\\Segmentation_Dataset\\\\training\\\\images\\\\img\\\\7930.tif'"
      ]
     },
     "execution_count": 6,
     "metadata": {},
     "output_type": "execute_result"
    },
    {
     "data": {
      "text/plain": [
       "'C:\\\\Users\\\\fralu\\\\Documents\\\\GitHub\\\\anndl\\\\image-segmentation\\\\Segmentation_Dataset\\\\training\\\\masks\\\\img\\\\7930.tif'"
      ]
     },
     "execution_count": 6,
     "metadata": {},
     "output_type": "execute_result"
    },
    {
     "data": {
      "text/plain": [
       "'C:\\\\Users\\\\fralu\\\\Documents\\\\GitHub\\\\anndl\\\\image-segmentation\\\\Segmentation_Dataset\\\\training\\\\images\\\\img\\\\7933.tif'"
      ]
     },
     "execution_count": 6,
     "metadata": {},
     "output_type": "execute_result"
    },
    {
     "data": {
      "text/plain": [
       "'C:\\\\Users\\\\fralu\\\\Documents\\\\GitHub\\\\anndl\\\\image-segmentation\\\\Segmentation_Dataset\\\\training\\\\masks\\\\img\\\\7933.tif'"
      ]
     },
     "execution_count": 6,
     "metadata": {},
     "output_type": "execute_result"
    },
    {
     "data": {
      "text/plain": [
       "'C:\\\\Users\\\\fralu\\\\Documents\\\\GitHub\\\\anndl\\\\image-segmentation\\\\Segmentation_Dataset\\\\training\\\\images\\\\img\\\\7935.tif'"
      ]
     },
     "execution_count": 6,
     "metadata": {},
     "output_type": "execute_result"
    },
    {
     "data": {
      "text/plain": [
       "'C:\\\\Users\\\\fralu\\\\Documents\\\\GitHub\\\\anndl\\\\image-segmentation\\\\Segmentation_Dataset\\\\training\\\\masks\\\\img\\\\7935.tif'"
      ]
     },
     "execution_count": 6,
     "metadata": {},
     "output_type": "execute_result"
    },
    {
     "data": {
      "text/plain": [
       "'C:\\\\Users\\\\fralu\\\\Documents\\\\GitHub\\\\anndl\\\\image-segmentation\\\\Segmentation_Dataset\\\\training\\\\images\\\\img\\\\7943.tif'"
      ]
     },
     "execution_count": 6,
     "metadata": {},
     "output_type": "execute_result"
    },
    {
     "data": {
      "text/plain": [
       "'C:\\\\Users\\\\fralu\\\\Documents\\\\GitHub\\\\anndl\\\\image-segmentation\\\\Segmentation_Dataset\\\\training\\\\masks\\\\img\\\\7943.tif'"
      ]
     },
     "execution_count": 6,
     "metadata": {},
     "output_type": "execute_result"
    },
    {
     "data": {
      "text/plain": [
       "'C:\\\\Users\\\\fralu\\\\Documents\\\\GitHub\\\\anndl\\\\image-segmentation\\\\Segmentation_Dataset\\\\training\\\\images\\\\img\\\\7944.tif'"
      ]
     },
     "execution_count": 6,
     "metadata": {},
     "output_type": "execute_result"
    },
    {
     "data": {
      "text/plain": [
       "'C:\\\\Users\\\\fralu\\\\Documents\\\\GitHub\\\\anndl\\\\image-segmentation\\\\Segmentation_Dataset\\\\training\\\\masks\\\\img\\\\7944.tif'"
      ]
     },
     "execution_count": 6,
     "metadata": {},
     "output_type": "execute_result"
    },
    {
     "data": {
      "text/plain": [
       "'C:\\\\Users\\\\fralu\\\\Documents\\\\GitHub\\\\anndl\\\\image-segmentation\\\\Segmentation_Dataset\\\\training\\\\images\\\\img\\\\7945.tif'"
      ]
     },
     "execution_count": 6,
     "metadata": {},
     "output_type": "execute_result"
    },
    {
     "data": {
      "text/plain": [
       "'C:\\\\Users\\\\fralu\\\\Documents\\\\GitHub\\\\anndl\\\\image-segmentation\\\\Segmentation_Dataset\\\\training\\\\masks\\\\img\\\\7945.tif'"
      ]
     },
     "execution_count": 6,
     "metadata": {},
     "output_type": "execute_result"
    },
    {
     "data": {
      "text/plain": [
       "'C:\\\\Users\\\\fralu\\\\Documents\\\\GitHub\\\\anndl\\\\image-segmentation\\\\Segmentation_Dataset\\\\training\\\\images\\\\img\\\\7946.tif'"
      ]
     },
     "execution_count": 6,
     "metadata": {},
     "output_type": "execute_result"
    },
    {
     "data": {
      "text/plain": [
       "'C:\\\\Users\\\\fralu\\\\Documents\\\\GitHub\\\\anndl\\\\image-segmentation\\\\Segmentation_Dataset\\\\training\\\\masks\\\\img\\\\7946.tif'"
      ]
     },
     "execution_count": 6,
     "metadata": {},
     "output_type": "execute_result"
    },
    {
     "data": {
      "text/plain": [
       "'C:\\\\Users\\\\fralu\\\\Documents\\\\GitHub\\\\anndl\\\\image-segmentation\\\\Segmentation_Dataset\\\\training\\\\images\\\\img\\\\7948.tif'"
      ]
     },
     "execution_count": 6,
     "metadata": {},
     "output_type": "execute_result"
    },
    {
     "data": {
      "text/plain": [
       "'C:\\\\Users\\\\fralu\\\\Documents\\\\GitHub\\\\anndl\\\\image-segmentation\\\\Segmentation_Dataset\\\\training\\\\masks\\\\img\\\\7948.tif'"
      ]
     },
     "execution_count": 6,
     "metadata": {},
     "output_type": "execute_result"
    },
    {
     "data": {
      "text/plain": [
       "'C:\\\\Users\\\\fralu\\\\Documents\\\\GitHub\\\\anndl\\\\image-segmentation\\\\Segmentation_Dataset\\\\training\\\\images\\\\img\\\\7959.tif'"
      ]
     },
     "execution_count": 6,
     "metadata": {},
     "output_type": "execute_result"
    },
    {
     "data": {
      "text/plain": [
       "'C:\\\\Users\\\\fralu\\\\Documents\\\\GitHub\\\\anndl\\\\image-segmentation\\\\Segmentation_Dataset\\\\training\\\\masks\\\\img\\\\7959.tif'"
      ]
     },
     "execution_count": 6,
     "metadata": {},
     "output_type": "execute_result"
    },
    {
     "data": {
      "text/plain": [
       "'C:\\\\Users\\\\fralu\\\\Documents\\\\GitHub\\\\anndl\\\\image-segmentation\\\\Segmentation_Dataset\\\\training\\\\images\\\\img\\\\7963.tif'"
      ]
     },
     "execution_count": 6,
     "metadata": {},
     "output_type": "execute_result"
    },
    {
     "data": {
      "text/plain": [
       "'C:\\\\Users\\\\fralu\\\\Documents\\\\GitHub\\\\anndl\\\\image-segmentation\\\\Segmentation_Dataset\\\\training\\\\masks\\\\img\\\\7963.tif'"
      ]
     },
     "execution_count": 6,
     "metadata": {},
     "output_type": "execute_result"
    },
    {
     "data": {
      "text/plain": [
       "'C:\\\\Users\\\\fralu\\\\Documents\\\\GitHub\\\\anndl\\\\image-segmentation\\\\Segmentation_Dataset\\\\training\\\\images\\\\img\\\\7970.tif'"
      ]
     },
     "execution_count": 6,
     "metadata": {},
     "output_type": "execute_result"
    },
    {
     "data": {
      "text/plain": [
       "'C:\\\\Users\\\\fralu\\\\Documents\\\\GitHub\\\\anndl\\\\image-segmentation\\\\Segmentation_Dataset\\\\training\\\\masks\\\\img\\\\7970.tif'"
      ]
     },
     "execution_count": 6,
     "metadata": {},
     "output_type": "execute_result"
    },
    {
     "data": {
      "text/plain": [
       "'C:\\\\Users\\\\fralu\\\\Documents\\\\GitHub\\\\anndl\\\\image-segmentation\\\\Segmentation_Dataset\\\\training\\\\images\\\\img\\\\7971.tif'"
      ]
     },
     "execution_count": 6,
     "metadata": {},
     "output_type": "execute_result"
    },
    {
     "data": {
      "text/plain": [
       "'C:\\\\Users\\\\fralu\\\\Documents\\\\GitHub\\\\anndl\\\\image-segmentation\\\\Segmentation_Dataset\\\\training\\\\masks\\\\img\\\\7971.tif'"
      ]
     },
     "execution_count": 6,
     "metadata": {},
     "output_type": "execute_result"
    },
    {
     "data": {
      "text/plain": [
       "'C:\\\\Users\\\\fralu\\\\Documents\\\\GitHub\\\\anndl\\\\image-segmentation\\\\Segmentation_Dataset\\\\training\\\\images\\\\img\\\\7978.tif'"
      ]
     },
     "execution_count": 6,
     "metadata": {},
     "output_type": "execute_result"
    },
    {
     "data": {
      "text/plain": [
       "'C:\\\\Users\\\\fralu\\\\Documents\\\\GitHub\\\\anndl\\\\image-segmentation\\\\Segmentation_Dataset\\\\training\\\\masks\\\\img\\\\7978.tif'"
      ]
     },
     "execution_count": 6,
     "metadata": {},
     "output_type": "execute_result"
    },
    {
     "data": {
      "text/plain": [
       "'C:\\\\Users\\\\fralu\\\\Documents\\\\GitHub\\\\anndl\\\\image-segmentation\\\\Segmentation_Dataset\\\\training\\\\images\\\\img\\\\7987.tif'"
      ]
     },
     "execution_count": 6,
     "metadata": {},
     "output_type": "execute_result"
    },
    {
     "data": {
      "text/plain": [
       "'C:\\\\Users\\\\fralu\\\\Documents\\\\GitHub\\\\anndl\\\\image-segmentation\\\\Segmentation_Dataset\\\\training\\\\masks\\\\img\\\\7987.tif'"
      ]
     },
     "execution_count": 6,
     "metadata": {},
     "output_type": "execute_result"
    },
    {
     "data": {
      "text/plain": [
       "'C:\\\\Users\\\\fralu\\\\Documents\\\\GitHub\\\\anndl\\\\image-segmentation\\\\Segmentation_Dataset\\\\training\\\\images\\\\img\\\\7988.tif'"
      ]
     },
     "execution_count": 6,
     "metadata": {},
     "output_type": "execute_result"
    },
    {
     "data": {
      "text/plain": [
       "'C:\\\\Users\\\\fralu\\\\Documents\\\\GitHub\\\\anndl\\\\image-segmentation\\\\Segmentation_Dataset\\\\training\\\\masks\\\\img\\\\7988.tif'"
      ]
     },
     "execution_count": 6,
     "metadata": {},
     "output_type": "execute_result"
    },
    {
     "data": {
      "text/plain": [
       "'C:\\\\Users\\\\fralu\\\\Documents\\\\GitHub\\\\anndl\\\\image-segmentation\\\\Segmentation_Dataset\\\\training\\\\images\\\\img\\\\7993.tif'"
      ]
     },
     "execution_count": 6,
     "metadata": {},
     "output_type": "execute_result"
    },
    {
     "data": {
      "text/plain": [
       "'C:\\\\Users\\\\fralu\\\\Documents\\\\GitHub\\\\anndl\\\\image-segmentation\\\\Segmentation_Dataset\\\\training\\\\masks\\\\img\\\\7993.tif'"
      ]
     },
     "execution_count": 6,
     "metadata": {},
     "output_type": "execute_result"
    },
    {
     "data": {
      "text/plain": [
       "'C:\\\\Users\\\\fralu\\\\Documents\\\\GitHub\\\\anndl\\\\image-segmentation\\\\Segmentation_Dataset\\\\training\\\\images\\\\img\\\\7997.tif'"
      ]
     },
     "execution_count": 6,
     "metadata": {},
     "output_type": "execute_result"
    },
    {
     "data": {
      "text/plain": [
       "'C:\\\\Users\\\\fralu\\\\Documents\\\\GitHub\\\\anndl\\\\image-segmentation\\\\Segmentation_Dataset\\\\training\\\\masks\\\\img\\\\7997.tif'"
      ]
     },
     "execution_count": 6,
     "metadata": {},
     "output_type": "execute_result"
    },
    {
     "data": {
      "text/plain": [
       "'C:\\\\Users\\\\fralu\\\\Documents\\\\GitHub\\\\anndl\\\\image-segmentation\\\\Segmentation_Dataset\\\\training\\\\images\\\\img\\\\808.tif'"
      ]
     },
     "execution_count": 6,
     "metadata": {},
     "output_type": "execute_result"
    },
    {
     "data": {
      "text/plain": [
       "'C:\\\\Users\\\\fralu\\\\Documents\\\\GitHub\\\\anndl\\\\image-segmentation\\\\Segmentation_Dataset\\\\training\\\\masks\\\\img\\\\808.tif'"
      ]
     },
     "execution_count": 6,
     "metadata": {},
     "output_type": "execute_result"
    },
    {
     "data": {
      "text/plain": [
       "'C:\\\\Users\\\\fralu\\\\Documents\\\\GitHub\\\\anndl\\\\image-segmentation\\\\Segmentation_Dataset\\\\training\\\\images\\\\img\\\\8086.tif'"
      ]
     },
     "execution_count": 6,
     "metadata": {},
     "output_type": "execute_result"
    },
    {
     "data": {
      "text/plain": [
       "'C:\\\\Users\\\\fralu\\\\Documents\\\\GitHub\\\\anndl\\\\image-segmentation\\\\Segmentation_Dataset\\\\training\\\\masks\\\\img\\\\8086.tif'"
      ]
     },
     "execution_count": 6,
     "metadata": {},
     "output_type": "execute_result"
    },
    {
     "data": {
      "text/plain": [
       "'C:\\\\Users\\\\fralu\\\\Documents\\\\GitHub\\\\anndl\\\\image-segmentation\\\\Segmentation_Dataset\\\\training\\\\images\\\\img\\\\8089.tif'"
      ]
     },
     "execution_count": 6,
     "metadata": {},
     "output_type": "execute_result"
    },
    {
     "data": {
      "text/plain": [
       "'C:\\\\Users\\\\fralu\\\\Documents\\\\GitHub\\\\anndl\\\\image-segmentation\\\\Segmentation_Dataset\\\\training\\\\masks\\\\img\\\\8089.tif'"
      ]
     },
     "execution_count": 6,
     "metadata": {},
     "output_type": "execute_result"
    },
    {
     "data": {
      "text/plain": [
       "'C:\\\\Users\\\\fralu\\\\Documents\\\\GitHub\\\\anndl\\\\image-segmentation\\\\Segmentation_Dataset\\\\training\\\\images\\\\img\\\\8091.tif'"
      ]
     },
     "execution_count": 6,
     "metadata": {},
     "output_type": "execute_result"
    },
    {
     "data": {
      "text/plain": [
       "'C:\\\\Users\\\\fralu\\\\Documents\\\\GitHub\\\\anndl\\\\image-segmentation\\\\Segmentation_Dataset\\\\training\\\\masks\\\\img\\\\8091.tif'"
      ]
     },
     "execution_count": 6,
     "metadata": {},
     "output_type": "execute_result"
    },
    {
     "data": {
      "text/plain": [
       "'C:\\\\Users\\\\fralu\\\\Documents\\\\GitHub\\\\anndl\\\\image-segmentation\\\\Segmentation_Dataset\\\\training\\\\images\\\\img\\\\8092.tif'"
      ]
     },
     "execution_count": 6,
     "metadata": {},
     "output_type": "execute_result"
    },
    {
     "data": {
      "text/plain": [
       "'C:\\\\Users\\\\fralu\\\\Documents\\\\GitHub\\\\anndl\\\\image-segmentation\\\\Segmentation_Dataset\\\\training\\\\masks\\\\img\\\\8092.tif'"
      ]
     },
     "execution_count": 6,
     "metadata": {},
     "output_type": "execute_result"
    },
    {
     "data": {
      "text/plain": [
       "'C:\\\\Users\\\\fralu\\\\Documents\\\\GitHub\\\\anndl\\\\image-segmentation\\\\Segmentation_Dataset\\\\training\\\\images\\\\img\\\\8099.tif'"
      ]
     },
     "execution_count": 6,
     "metadata": {},
     "output_type": "execute_result"
    },
    {
     "data": {
      "text/plain": [
       "'C:\\\\Users\\\\fralu\\\\Documents\\\\GitHub\\\\anndl\\\\image-segmentation\\\\Segmentation_Dataset\\\\training\\\\masks\\\\img\\\\8099.tif'"
      ]
     },
     "execution_count": 6,
     "metadata": {},
     "output_type": "execute_result"
    },
    {
     "data": {
      "text/plain": [
       "'C:\\\\Users\\\\fralu\\\\Documents\\\\GitHub\\\\anndl\\\\image-segmentation\\\\Segmentation_Dataset\\\\training\\\\images\\\\img\\\\810.tif'"
      ]
     },
     "execution_count": 6,
     "metadata": {},
     "output_type": "execute_result"
    },
    {
     "data": {
      "text/plain": [
       "'C:\\\\Users\\\\fralu\\\\Documents\\\\GitHub\\\\anndl\\\\image-segmentation\\\\Segmentation_Dataset\\\\training\\\\masks\\\\img\\\\810.tif'"
      ]
     },
     "execution_count": 6,
     "metadata": {},
     "output_type": "execute_result"
    },
    {
     "data": {
      "text/plain": [
       "'C:\\\\Users\\\\fralu\\\\Documents\\\\GitHub\\\\anndl\\\\image-segmentation\\\\Segmentation_Dataset\\\\training\\\\images\\\\img\\\\8104.tif'"
      ]
     },
     "execution_count": 6,
     "metadata": {},
     "output_type": "execute_result"
    },
    {
     "data": {
      "text/plain": [
       "'C:\\\\Users\\\\fralu\\\\Documents\\\\GitHub\\\\anndl\\\\image-segmentation\\\\Segmentation_Dataset\\\\training\\\\masks\\\\img\\\\8104.tif'"
      ]
     },
     "execution_count": 6,
     "metadata": {},
     "output_type": "execute_result"
    },
    {
     "data": {
      "text/plain": [
       "'C:\\\\Users\\\\fralu\\\\Documents\\\\GitHub\\\\anndl\\\\image-segmentation\\\\Segmentation_Dataset\\\\training\\\\images\\\\img\\\\8107.tif'"
      ]
     },
     "execution_count": 6,
     "metadata": {},
     "output_type": "execute_result"
    },
    {
     "data": {
      "text/plain": [
       "'C:\\\\Users\\\\fralu\\\\Documents\\\\GitHub\\\\anndl\\\\image-segmentation\\\\Segmentation_Dataset\\\\training\\\\masks\\\\img\\\\8107.tif'"
      ]
     },
     "execution_count": 6,
     "metadata": {},
     "output_type": "execute_result"
    },
    {
     "data": {
      "text/plain": [
       "'C:\\\\Users\\\\fralu\\\\Documents\\\\GitHub\\\\anndl\\\\image-segmentation\\\\Segmentation_Dataset\\\\training\\\\images\\\\img\\\\8113.tif'"
      ]
     },
     "execution_count": 6,
     "metadata": {},
     "output_type": "execute_result"
    },
    {
     "data": {
      "text/plain": [
       "'C:\\\\Users\\\\fralu\\\\Documents\\\\GitHub\\\\anndl\\\\image-segmentation\\\\Segmentation_Dataset\\\\training\\\\masks\\\\img\\\\8113.tif'"
      ]
     },
     "execution_count": 6,
     "metadata": {},
     "output_type": "execute_result"
    },
    {
     "data": {
      "text/plain": [
       "'C:\\\\Users\\\\fralu\\\\Documents\\\\GitHub\\\\anndl\\\\image-segmentation\\\\Segmentation_Dataset\\\\training\\\\images\\\\img\\\\8116.tif'"
      ]
     },
     "execution_count": 6,
     "metadata": {},
     "output_type": "execute_result"
    },
    {
     "data": {
      "text/plain": [
       "'C:\\\\Users\\\\fralu\\\\Documents\\\\GitHub\\\\anndl\\\\image-segmentation\\\\Segmentation_Dataset\\\\training\\\\masks\\\\img\\\\8116.tif'"
      ]
     },
     "execution_count": 6,
     "metadata": {},
     "output_type": "execute_result"
    },
    {
     "data": {
      "text/plain": [
       "'C:\\\\Users\\\\fralu\\\\Documents\\\\GitHub\\\\anndl\\\\image-segmentation\\\\Segmentation_Dataset\\\\training\\\\images\\\\img\\\\8117.tif'"
      ]
     },
     "execution_count": 6,
     "metadata": {},
     "output_type": "execute_result"
    },
    {
     "data": {
      "text/plain": [
       "'C:\\\\Users\\\\fralu\\\\Documents\\\\GitHub\\\\anndl\\\\image-segmentation\\\\Segmentation_Dataset\\\\training\\\\masks\\\\img\\\\8117.tif'"
      ]
     },
     "execution_count": 6,
     "metadata": {},
     "output_type": "execute_result"
    },
    {
     "data": {
      "text/plain": [
       "'C:\\\\Users\\\\fralu\\\\Documents\\\\GitHub\\\\anndl\\\\image-segmentation\\\\Segmentation_Dataset\\\\training\\\\images\\\\img\\\\8123.tif'"
      ]
     },
     "execution_count": 6,
     "metadata": {},
     "output_type": "execute_result"
    },
    {
     "data": {
      "text/plain": [
       "'C:\\\\Users\\\\fralu\\\\Documents\\\\GitHub\\\\anndl\\\\image-segmentation\\\\Segmentation_Dataset\\\\training\\\\masks\\\\img\\\\8123.tif'"
      ]
     },
     "execution_count": 6,
     "metadata": {},
     "output_type": "execute_result"
    },
    {
     "data": {
      "text/plain": [
       "'C:\\\\Users\\\\fralu\\\\Documents\\\\GitHub\\\\anndl\\\\image-segmentation\\\\Segmentation_Dataset\\\\training\\\\images\\\\img\\\\8131.tif'"
      ]
     },
     "execution_count": 6,
     "metadata": {},
     "output_type": "execute_result"
    },
    {
     "data": {
      "text/plain": [
       "'C:\\\\Users\\\\fralu\\\\Documents\\\\GitHub\\\\anndl\\\\image-segmentation\\\\Segmentation_Dataset\\\\training\\\\masks\\\\img\\\\8131.tif'"
      ]
     },
     "execution_count": 6,
     "metadata": {},
     "output_type": "execute_result"
    },
    {
     "data": {
      "text/plain": [
       "'C:\\\\Users\\\\fralu\\\\Documents\\\\GitHub\\\\anndl\\\\image-segmentation\\\\Segmentation_Dataset\\\\training\\\\images\\\\img\\\\8133.tif'"
      ]
     },
     "execution_count": 6,
     "metadata": {},
     "output_type": "execute_result"
    },
    {
     "data": {
      "text/plain": [
       "'C:\\\\Users\\\\fralu\\\\Documents\\\\GitHub\\\\anndl\\\\image-segmentation\\\\Segmentation_Dataset\\\\training\\\\masks\\\\img\\\\8133.tif'"
      ]
     },
     "execution_count": 6,
     "metadata": {},
     "output_type": "execute_result"
    },
    {
     "data": {
      "text/plain": [
       "'C:\\\\Users\\\\fralu\\\\Documents\\\\GitHub\\\\anndl\\\\image-segmentation\\\\Segmentation_Dataset\\\\training\\\\images\\\\img\\\\8135.tif'"
      ]
     },
     "execution_count": 6,
     "metadata": {},
     "output_type": "execute_result"
    },
    {
     "data": {
      "text/plain": [
       "'C:\\\\Users\\\\fralu\\\\Documents\\\\GitHub\\\\anndl\\\\image-segmentation\\\\Segmentation_Dataset\\\\training\\\\masks\\\\img\\\\8135.tif'"
      ]
     },
     "execution_count": 6,
     "metadata": {},
     "output_type": "execute_result"
    },
    {
     "data": {
      "text/plain": [
       "'C:\\\\Users\\\\fralu\\\\Documents\\\\GitHub\\\\anndl\\\\image-segmentation\\\\Segmentation_Dataset\\\\training\\\\images\\\\img\\\\8144.tif'"
      ]
     },
     "execution_count": 6,
     "metadata": {},
     "output_type": "execute_result"
    },
    {
     "data": {
      "text/plain": [
       "'C:\\\\Users\\\\fralu\\\\Documents\\\\GitHub\\\\anndl\\\\image-segmentation\\\\Segmentation_Dataset\\\\training\\\\masks\\\\img\\\\8144.tif'"
      ]
     },
     "execution_count": 6,
     "metadata": {},
     "output_type": "execute_result"
    },
    {
     "data": {
      "text/plain": [
       "'C:\\\\Users\\\\fralu\\\\Documents\\\\GitHub\\\\anndl\\\\image-segmentation\\\\Segmentation_Dataset\\\\training\\\\images\\\\img\\\\8148.tif'"
      ]
     },
     "execution_count": 6,
     "metadata": {},
     "output_type": "execute_result"
    },
    {
     "data": {
      "text/plain": [
       "'C:\\\\Users\\\\fralu\\\\Documents\\\\GitHub\\\\anndl\\\\image-segmentation\\\\Segmentation_Dataset\\\\training\\\\masks\\\\img\\\\8148.tif'"
      ]
     },
     "execution_count": 6,
     "metadata": {},
     "output_type": "execute_result"
    },
    {
     "data": {
      "text/plain": [
       "'C:\\\\Users\\\\fralu\\\\Documents\\\\GitHub\\\\anndl\\\\image-segmentation\\\\Segmentation_Dataset\\\\training\\\\images\\\\img\\\\8149.tif'"
      ]
     },
     "execution_count": 6,
     "metadata": {},
     "output_type": "execute_result"
    },
    {
     "data": {
      "text/plain": [
       "'C:\\\\Users\\\\fralu\\\\Documents\\\\GitHub\\\\anndl\\\\image-segmentation\\\\Segmentation_Dataset\\\\training\\\\masks\\\\img\\\\8149.tif'"
      ]
     },
     "execution_count": 6,
     "metadata": {},
     "output_type": "execute_result"
    },
    {
     "data": {
      "text/plain": [
       "'C:\\\\Users\\\\fralu\\\\Documents\\\\GitHub\\\\anndl\\\\image-segmentation\\\\Segmentation_Dataset\\\\training\\\\images\\\\img\\\\8154.tif'"
      ]
     },
     "execution_count": 6,
     "metadata": {},
     "output_type": "execute_result"
    },
    {
     "data": {
      "text/plain": [
       "'C:\\\\Users\\\\fralu\\\\Documents\\\\GitHub\\\\anndl\\\\image-segmentation\\\\Segmentation_Dataset\\\\training\\\\masks\\\\img\\\\8154.tif'"
      ]
     },
     "execution_count": 6,
     "metadata": {},
     "output_type": "execute_result"
    },
    {
     "data": {
      "text/plain": [
       "'C:\\\\Users\\\\fralu\\\\Documents\\\\GitHub\\\\anndl\\\\image-segmentation\\\\Segmentation_Dataset\\\\training\\\\images\\\\img\\\\8163.tif'"
      ]
     },
     "execution_count": 6,
     "metadata": {},
     "output_type": "execute_result"
    },
    {
     "data": {
      "text/plain": [
       "'C:\\\\Users\\\\fralu\\\\Documents\\\\GitHub\\\\anndl\\\\image-segmentation\\\\Segmentation_Dataset\\\\training\\\\masks\\\\img\\\\8163.tif'"
      ]
     },
     "execution_count": 6,
     "metadata": {},
     "output_type": "execute_result"
    },
    {
     "data": {
      "text/plain": [
       "'C:\\\\Users\\\\fralu\\\\Documents\\\\GitHub\\\\anndl\\\\image-segmentation\\\\Segmentation_Dataset\\\\training\\\\images\\\\img\\\\8166.tif'"
      ]
     },
     "execution_count": 6,
     "metadata": {},
     "output_type": "execute_result"
    },
    {
     "data": {
      "text/plain": [
       "'C:\\\\Users\\\\fralu\\\\Documents\\\\GitHub\\\\anndl\\\\image-segmentation\\\\Segmentation_Dataset\\\\training\\\\masks\\\\img\\\\8166.tif'"
      ]
     },
     "execution_count": 6,
     "metadata": {},
     "output_type": "execute_result"
    },
    {
     "data": {
      "text/plain": [
       "'C:\\\\Users\\\\fralu\\\\Documents\\\\GitHub\\\\anndl\\\\image-segmentation\\\\Segmentation_Dataset\\\\training\\\\images\\\\img\\\\8168.tif'"
      ]
     },
     "execution_count": 6,
     "metadata": {},
     "output_type": "execute_result"
    },
    {
     "data": {
      "text/plain": [
       "'C:\\\\Users\\\\fralu\\\\Documents\\\\GitHub\\\\anndl\\\\image-segmentation\\\\Segmentation_Dataset\\\\training\\\\masks\\\\img\\\\8168.tif'"
      ]
     },
     "execution_count": 6,
     "metadata": {},
     "output_type": "execute_result"
    },
    {
     "data": {
      "text/plain": [
       "'C:\\\\Users\\\\fralu\\\\Documents\\\\GitHub\\\\anndl\\\\image-segmentation\\\\Segmentation_Dataset\\\\training\\\\images\\\\img\\\\817.tif'"
      ]
     },
     "execution_count": 6,
     "metadata": {},
     "output_type": "execute_result"
    },
    {
     "data": {
      "text/plain": [
       "'C:\\\\Users\\\\fralu\\\\Documents\\\\GitHub\\\\anndl\\\\image-segmentation\\\\Segmentation_Dataset\\\\training\\\\masks\\\\img\\\\817.tif'"
      ]
     },
     "execution_count": 6,
     "metadata": {},
     "output_type": "execute_result"
    },
    {
     "data": {
      "text/plain": [
       "'C:\\\\Users\\\\fralu\\\\Documents\\\\GitHub\\\\anndl\\\\image-segmentation\\\\Segmentation_Dataset\\\\training\\\\images\\\\img\\\\818.tif'"
      ]
     },
     "execution_count": 6,
     "metadata": {},
     "output_type": "execute_result"
    },
    {
     "data": {
      "text/plain": [
       "'C:\\\\Users\\\\fralu\\\\Documents\\\\GitHub\\\\anndl\\\\image-segmentation\\\\Segmentation_Dataset\\\\training\\\\masks\\\\img\\\\818.tif'"
      ]
     },
     "execution_count": 6,
     "metadata": {},
     "output_type": "execute_result"
    },
    {
     "data": {
      "text/plain": [
       "'C:\\\\Users\\\\fralu\\\\Documents\\\\GitHub\\\\anndl\\\\image-segmentation\\\\Segmentation_Dataset\\\\training\\\\images\\\\img\\\\822.tif'"
      ]
     },
     "execution_count": 6,
     "metadata": {},
     "output_type": "execute_result"
    },
    {
     "data": {
      "text/plain": [
       "'C:\\\\Users\\\\fralu\\\\Documents\\\\GitHub\\\\anndl\\\\image-segmentation\\\\Segmentation_Dataset\\\\training\\\\masks\\\\img\\\\822.tif'"
      ]
     },
     "execution_count": 6,
     "metadata": {},
     "output_type": "execute_result"
    },
    {
     "data": {
      "text/plain": [
       "'C:\\\\Users\\\\fralu\\\\Documents\\\\GitHub\\\\anndl\\\\image-segmentation\\\\Segmentation_Dataset\\\\training\\\\images\\\\img\\\\8233.tif'"
      ]
     },
     "execution_count": 6,
     "metadata": {},
     "output_type": "execute_result"
    },
    {
     "data": {
      "text/plain": [
       "'C:\\\\Users\\\\fralu\\\\Documents\\\\GitHub\\\\anndl\\\\image-segmentation\\\\Segmentation_Dataset\\\\training\\\\masks\\\\img\\\\8233.tif'"
      ]
     },
     "execution_count": 6,
     "metadata": {},
     "output_type": "execute_result"
    },
    {
     "data": {
      "text/plain": [
       "'C:\\\\Users\\\\fralu\\\\Documents\\\\GitHub\\\\anndl\\\\image-segmentation\\\\Segmentation_Dataset\\\\training\\\\images\\\\img\\\\8239.tif'"
      ]
     },
     "execution_count": 6,
     "metadata": {},
     "output_type": "execute_result"
    },
    {
     "data": {
      "text/plain": [
       "'C:\\\\Users\\\\fralu\\\\Documents\\\\GitHub\\\\anndl\\\\image-segmentation\\\\Segmentation_Dataset\\\\training\\\\masks\\\\img\\\\8239.tif'"
      ]
     },
     "execution_count": 6,
     "metadata": {},
     "output_type": "execute_result"
    },
    {
     "data": {
      "text/plain": [
       "'C:\\\\Users\\\\fralu\\\\Documents\\\\GitHub\\\\anndl\\\\image-segmentation\\\\Segmentation_Dataset\\\\training\\\\images\\\\img\\\\8241.tif'"
      ]
     },
     "execution_count": 6,
     "metadata": {},
     "output_type": "execute_result"
    },
    {
     "data": {
      "text/plain": [
       "'C:\\\\Users\\\\fralu\\\\Documents\\\\GitHub\\\\anndl\\\\image-segmentation\\\\Segmentation_Dataset\\\\training\\\\masks\\\\img\\\\8241.tif'"
      ]
     },
     "execution_count": 6,
     "metadata": {},
     "output_type": "execute_result"
    },
    {
     "data": {
      "text/plain": [
       "'C:\\\\Users\\\\fralu\\\\Documents\\\\GitHub\\\\anndl\\\\image-segmentation\\\\Segmentation_Dataset\\\\training\\\\images\\\\img\\\\8244.tif'"
      ]
     },
     "execution_count": 6,
     "metadata": {},
     "output_type": "execute_result"
    },
    {
     "data": {
      "text/plain": [
       "'C:\\\\Users\\\\fralu\\\\Documents\\\\GitHub\\\\anndl\\\\image-segmentation\\\\Segmentation_Dataset\\\\training\\\\masks\\\\img\\\\8244.tif'"
      ]
     },
     "execution_count": 6,
     "metadata": {},
     "output_type": "execute_result"
    },
    {
     "data": {
      "text/plain": [
       "'C:\\\\Users\\\\fralu\\\\Documents\\\\GitHub\\\\anndl\\\\image-segmentation\\\\Segmentation_Dataset\\\\training\\\\images\\\\img\\\\8248.tif'"
      ]
     },
     "execution_count": 6,
     "metadata": {},
     "output_type": "execute_result"
    },
    {
     "data": {
      "text/plain": [
       "'C:\\\\Users\\\\fralu\\\\Documents\\\\GitHub\\\\anndl\\\\image-segmentation\\\\Segmentation_Dataset\\\\training\\\\masks\\\\img\\\\8248.tif'"
      ]
     },
     "execution_count": 6,
     "metadata": {},
     "output_type": "execute_result"
    },
    {
     "data": {
      "text/plain": [
       "'C:\\\\Users\\\\fralu\\\\Documents\\\\GitHub\\\\anndl\\\\image-segmentation\\\\Segmentation_Dataset\\\\training\\\\images\\\\img\\\\8249.tif'"
      ]
     },
     "execution_count": 6,
     "metadata": {},
     "output_type": "execute_result"
    },
    {
     "data": {
      "text/plain": [
       "'C:\\\\Users\\\\fralu\\\\Documents\\\\GitHub\\\\anndl\\\\image-segmentation\\\\Segmentation_Dataset\\\\training\\\\masks\\\\img\\\\8249.tif'"
      ]
     },
     "execution_count": 6,
     "metadata": {},
     "output_type": "execute_result"
    },
    {
     "data": {
      "text/plain": [
       "'C:\\\\Users\\\\fralu\\\\Documents\\\\GitHub\\\\anndl\\\\image-segmentation\\\\Segmentation_Dataset\\\\training\\\\images\\\\img\\\\8254.tif'"
      ]
     },
     "execution_count": 6,
     "metadata": {},
     "output_type": "execute_result"
    },
    {
     "data": {
      "text/plain": [
       "'C:\\\\Users\\\\fralu\\\\Documents\\\\GitHub\\\\anndl\\\\image-segmentation\\\\Segmentation_Dataset\\\\training\\\\masks\\\\img\\\\8254.tif'"
      ]
     },
     "execution_count": 6,
     "metadata": {},
     "output_type": "execute_result"
    },
    {
     "data": {
      "text/plain": [
       "'C:\\\\Users\\\\fralu\\\\Documents\\\\GitHub\\\\anndl\\\\image-segmentation\\\\Segmentation_Dataset\\\\training\\\\images\\\\img\\\\8262.tif'"
      ]
     },
     "execution_count": 6,
     "metadata": {},
     "output_type": "execute_result"
    },
    {
     "data": {
      "text/plain": [
       "'C:\\\\Users\\\\fralu\\\\Documents\\\\GitHub\\\\anndl\\\\image-segmentation\\\\Segmentation_Dataset\\\\training\\\\masks\\\\img\\\\8262.tif'"
      ]
     },
     "execution_count": 6,
     "metadata": {},
     "output_type": "execute_result"
    },
    {
     "data": {
      "text/plain": [
       "'C:\\\\Users\\\\fralu\\\\Documents\\\\GitHub\\\\anndl\\\\image-segmentation\\\\Segmentation_Dataset\\\\training\\\\images\\\\img\\\\8265.tif'"
      ]
     },
     "execution_count": 6,
     "metadata": {},
     "output_type": "execute_result"
    },
    {
     "data": {
      "text/plain": [
       "'C:\\\\Users\\\\fralu\\\\Documents\\\\GitHub\\\\anndl\\\\image-segmentation\\\\Segmentation_Dataset\\\\training\\\\masks\\\\img\\\\8265.tif'"
      ]
     },
     "execution_count": 6,
     "metadata": {},
     "output_type": "execute_result"
    },
    {
     "data": {
      "text/plain": [
       "'C:\\\\Users\\\\fralu\\\\Documents\\\\GitHub\\\\anndl\\\\image-segmentation\\\\Segmentation_Dataset\\\\training\\\\images\\\\img\\\\8276.tif'"
      ]
     },
     "execution_count": 6,
     "metadata": {},
     "output_type": "execute_result"
    },
    {
     "data": {
      "text/plain": [
       "'C:\\\\Users\\\\fralu\\\\Documents\\\\GitHub\\\\anndl\\\\image-segmentation\\\\Segmentation_Dataset\\\\training\\\\masks\\\\img\\\\8276.tif'"
      ]
     },
     "execution_count": 6,
     "metadata": {},
     "output_type": "execute_result"
    },
    {
     "data": {
      "text/plain": [
       "'C:\\\\Users\\\\fralu\\\\Documents\\\\GitHub\\\\anndl\\\\image-segmentation\\\\Segmentation_Dataset\\\\training\\\\images\\\\img\\\\8279.tif'"
      ]
     },
     "execution_count": 6,
     "metadata": {},
     "output_type": "execute_result"
    },
    {
     "data": {
      "text/plain": [
       "'C:\\\\Users\\\\fralu\\\\Documents\\\\GitHub\\\\anndl\\\\image-segmentation\\\\Segmentation_Dataset\\\\training\\\\masks\\\\img\\\\8279.tif'"
      ]
     },
     "execution_count": 6,
     "metadata": {},
     "output_type": "execute_result"
    },
    {
     "data": {
      "text/plain": [
       "'C:\\\\Users\\\\fralu\\\\Documents\\\\GitHub\\\\anndl\\\\image-segmentation\\\\Segmentation_Dataset\\\\training\\\\images\\\\img\\\\828.tif'"
      ]
     },
     "execution_count": 6,
     "metadata": {},
     "output_type": "execute_result"
    },
    {
     "data": {
      "text/plain": [
       "'C:\\\\Users\\\\fralu\\\\Documents\\\\GitHub\\\\anndl\\\\image-segmentation\\\\Segmentation_Dataset\\\\training\\\\masks\\\\img\\\\828.tif'"
      ]
     },
     "execution_count": 6,
     "metadata": {},
     "output_type": "execute_result"
    },
    {
     "data": {
      "text/plain": [
       "'C:\\\\Users\\\\fralu\\\\Documents\\\\GitHub\\\\anndl\\\\image-segmentation\\\\Segmentation_Dataset\\\\training\\\\images\\\\img\\\\8281.tif'"
      ]
     },
     "execution_count": 6,
     "metadata": {},
     "output_type": "execute_result"
    },
    {
     "data": {
      "text/plain": [
       "'C:\\\\Users\\\\fralu\\\\Documents\\\\GitHub\\\\anndl\\\\image-segmentation\\\\Segmentation_Dataset\\\\training\\\\masks\\\\img\\\\8281.tif'"
      ]
     },
     "execution_count": 6,
     "metadata": {},
     "output_type": "execute_result"
    },
    {
     "data": {
      "text/plain": [
       "'C:\\\\Users\\\\fralu\\\\Documents\\\\GitHub\\\\anndl\\\\image-segmentation\\\\Segmentation_Dataset\\\\training\\\\images\\\\img\\\\8290.tif'"
      ]
     },
     "execution_count": 6,
     "metadata": {},
     "output_type": "execute_result"
    },
    {
     "data": {
      "text/plain": [
       "'C:\\\\Users\\\\fralu\\\\Documents\\\\GitHub\\\\anndl\\\\image-segmentation\\\\Segmentation_Dataset\\\\training\\\\masks\\\\img\\\\8290.tif'"
      ]
     },
     "execution_count": 6,
     "metadata": {},
     "output_type": "execute_result"
    },
    {
     "data": {
      "text/plain": [
       "'C:\\\\Users\\\\fralu\\\\Documents\\\\GitHub\\\\anndl\\\\image-segmentation\\\\Segmentation_Dataset\\\\training\\\\images\\\\img\\\\8297.tif'"
      ]
     },
     "execution_count": 6,
     "metadata": {},
     "output_type": "execute_result"
    },
    {
     "data": {
      "text/plain": [
       "'C:\\\\Users\\\\fralu\\\\Documents\\\\GitHub\\\\anndl\\\\image-segmentation\\\\Segmentation_Dataset\\\\training\\\\masks\\\\img\\\\8297.tif'"
      ]
     },
     "execution_count": 6,
     "metadata": {},
     "output_type": "execute_result"
    },
    {
     "data": {
      "text/plain": [
       "'C:\\\\Users\\\\fralu\\\\Documents\\\\GitHub\\\\anndl\\\\image-segmentation\\\\Segmentation_Dataset\\\\training\\\\images\\\\img\\\\8304.tif'"
      ]
     },
     "execution_count": 6,
     "metadata": {},
     "output_type": "execute_result"
    },
    {
     "data": {
      "text/plain": [
       "'C:\\\\Users\\\\fralu\\\\Documents\\\\GitHub\\\\anndl\\\\image-segmentation\\\\Segmentation_Dataset\\\\training\\\\masks\\\\img\\\\8304.tif'"
      ]
     },
     "execution_count": 6,
     "metadata": {},
     "output_type": "execute_result"
    },
    {
     "data": {
      "text/plain": [
       "'C:\\\\Users\\\\fralu\\\\Documents\\\\GitHub\\\\anndl\\\\image-segmentation\\\\Segmentation_Dataset\\\\training\\\\images\\\\img\\\\8306.tif'"
      ]
     },
     "execution_count": 6,
     "metadata": {},
     "output_type": "execute_result"
    },
    {
     "data": {
      "text/plain": [
       "'C:\\\\Users\\\\fralu\\\\Documents\\\\GitHub\\\\anndl\\\\image-segmentation\\\\Segmentation_Dataset\\\\training\\\\masks\\\\img\\\\8306.tif'"
      ]
     },
     "execution_count": 6,
     "metadata": {},
     "output_type": "execute_result"
    },
    {
     "data": {
      "text/plain": [
       "'C:\\\\Users\\\\fralu\\\\Documents\\\\GitHub\\\\anndl\\\\image-segmentation\\\\Segmentation_Dataset\\\\training\\\\images\\\\img\\\\8308.tif'"
      ]
     },
     "execution_count": 6,
     "metadata": {},
     "output_type": "execute_result"
    },
    {
     "data": {
      "text/plain": [
       "'C:\\\\Users\\\\fralu\\\\Documents\\\\GitHub\\\\anndl\\\\image-segmentation\\\\Segmentation_Dataset\\\\training\\\\masks\\\\img\\\\8308.tif'"
      ]
     },
     "execution_count": 6,
     "metadata": {},
     "output_type": "execute_result"
    },
    {
     "data": {
      "text/plain": [
       "'C:\\\\Users\\\\fralu\\\\Documents\\\\GitHub\\\\anndl\\\\image-segmentation\\\\Segmentation_Dataset\\\\training\\\\images\\\\img\\\\831.tif'"
      ]
     },
     "execution_count": 6,
     "metadata": {},
     "output_type": "execute_result"
    },
    {
     "data": {
      "text/plain": [
       "'C:\\\\Users\\\\fralu\\\\Documents\\\\GitHub\\\\anndl\\\\image-segmentation\\\\Segmentation_Dataset\\\\training\\\\masks\\\\img\\\\831.tif'"
      ]
     },
     "execution_count": 6,
     "metadata": {},
     "output_type": "execute_result"
    },
    {
     "data": {
      "text/plain": [
       "'C:\\\\Users\\\\fralu\\\\Documents\\\\GitHub\\\\anndl\\\\image-segmentation\\\\Segmentation_Dataset\\\\training\\\\images\\\\img\\\\8310.tif'"
      ]
     },
     "execution_count": 6,
     "metadata": {},
     "output_type": "execute_result"
    },
    {
     "data": {
      "text/plain": [
       "'C:\\\\Users\\\\fralu\\\\Documents\\\\GitHub\\\\anndl\\\\image-segmentation\\\\Segmentation_Dataset\\\\training\\\\masks\\\\img\\\\8310.tif'"
      ]
     },
     "execution_count": 6,
     "metadata": {},
     "output_type": "execute_result"
    },
    {
     "data": {
      "text/plain": [
       "'C:\\\\Users\\\\fralu\\\\Documents\\\\GitHub\\\\anndl\\\\image-segmentation\\\\Segmentation_Dataset\\\\training\\\\images\\\\img\\\\8311.tif'"
      ]
     },
     "execution_count": 6,
     "metadata": {},
     "output_type": "execute_result"
    },
    {
     "data": {
      "text/plain": [
       "'C:\\\\Users\\\\fralu\\\\Documents\\\\GitHub\\\\anndl\\\\image-segmentation\\\\Segmentation_Dataset\\\\training\\\\masks\\\\img\\\\8311.tif'"
      ]
     },
     "execution_count": 6,
     "metadata": {},
     "output_type": "execute_result"
    },
    {
     "data": {
      "text/plain": [
       "'C:\\\\Users\\\\fralu\\\\Documents\\\\GitHub\\\\anndl\\\\image-segmentation\\\\Segmentation_Dataset\\\\training\\\\images\\\\img\\\\8313.tif'"
      ]
     },
     "execution_count": 6,
     "metadata": {},
     "output_type": "execute_result"
    },
    {
     "data": {
      "text/plain": [
       "'C:\\\\Users\\\\fralu\\\\Documents\\\\GitHub\\\\anndl\\\\image-segmentation\\\\Segmentation_Dataset\\\\training\\\\masks\\\\img\\\\8313.tif'"
      ]
     },
     "execution_count": 6,
     "metadata": {},
     "output_type": "execute_result"
    },
    {
     "data": {
      "text/plain": [
       "'C:\\\\Users\\\\fralu\\\\Documents\\\\GitHub\\\\anndl\\\\image-segmentation\\\\Segmentation_Dataset\\\\training\\\\images\\\\img\\\\8316.tif'"
      ]
     },
     "execution_count": 6,
     "metadata": {},
     "output_type": "execute_result"
    },
    {
     "data": {
      "text/plain": [
       "'C:\\\\Users\\\\fralu\\\\Documents\\\\GitHub\\\\anndl\\\\image-segmentation\\\\Segmentation_Dataset\\\\training\\\\masks\\\\img\\\\8316.tif'"
      ]
     },
     "execution_count": 6,
     "metadata": {},
     "output_type": "execute_result"
    },
    {
     "data": {
      "text/plain": [
       "'C:\\\\Users\\\\fralu\\\\Documents\\\\GitHub\\\\anndl\\\\image-segmentation\\\\Segmentation_Dataset\\\\training\\\\images\\\\img\\\\8321.tif'"
      ]
     },
     "execution_count": 6,
     "metadata": {},
     "output_type": "execute_result"
    },
    {
     "data": {
      "text/plain": [
       "'C:\\\\Users\\\\fralu\\\\Documents\\\\GitHub\\\\anndl\\\\image-segmentation\\\\Segmentation_Dataset\\\\training\\\\masks\\\\img\\\\8321.tif'"
      ]
     },
     "execution_count": 6,
     "metadata": {},
     "output_type": "execute_result"
    },
    {
     "data": {
      "text/plain": [
       "'C:\\\\Users\\\\fralu\\\\Documents\\\\GitHub\\\\anndl\\\\image-segmentation\\\\Segmentation_Dataset\\\\training\\\\images\\\\img\\\\8324.tif'"
      ]
     },
     "execution_count": 6,
     "metadata": {},
     "output_type": "execute_result"
    },
    {
     "data": {
      "text/plain": [
       "'C:\\\\Users\\\\fralu\\\\Documents\\\\GitHub\\\\anndl\\\\image-segmentation\\\\Segmentation_Dataset\\\\training\\\\masks\\\\img\\\\8324.tif'"
      ]
     },
     "execution_count": 6,
     "metadata": {},
     "output_type": "execute_result"
    },
    {
     "data": {
      "text/plain": [
       "'C:\\\\Users\\\\fralu\\\\Documents\\\\GitHub\\\\anndl\\\\image-segmentation\\\\Segmentation_Dataset\\\\training\\\\images\\\\img\\\\833.tif'"
      ]
     },
     "execution_count": 6,
     "metadata": {},
     "output_type": "execute_result"
    },
    {
     "data": {
      "text/plain": [
       "'C:\\\\Users\\\\fralu\\\\Documents\\\\GitHub\\\\anndl\\\\image-segmentation\\\\Segmentation_Dataset\\\\training\\\\masks\\\\img\\\\833.tif'"
      ]
     },
     "execution_count": 6,
     "metadata": {},
     "output_type": "execute_result"
    },
    {
     "data": {
      "text/plain": [
       "'C:\\\\Users\\\\fralu\\\\Documents\\\\GitHub\\\\anndl\\\\image-segmentation\\\\Segmentation_Dataset\\\\training\\\\images\\\\img\\\\8338.tif'"
      ]
     },
     "execution_count": 6,
     "metadata": {},
     "output_type": "execute_result"
    },
    {
     "data": {
      "text/plain": [
       "'C:\\\\Users\\\\fralu\\\\Documents\\\\GitHub\\\\anndl\\\\image-segmentation\\\\Segmentation_Dataset\\\\training\\\\masks\\\\img\\\\8338.tif'"
      ]
     },
     "execution_count": 6,
     "metadata": {},
     "output_type": "execute_result"
    },
    {
     "data": {
      "text/plain": [
       "'C:\\\\Users\\\\fralu\\\\Documents\\\\GitHub\\\\anndl\\\\image-segmentation\\\\Segmentation_Dataset\\\\training\\\\images\\\\img\\\\8340.tif'"
      ]
     },
     "execution_count": 6,
     "metadata": {},
     "output_type": "execute_result"
    },
    {
     "data": {
      "text/plain": [
       "'C:\\\\Users\\\\fralu\\\\Documents\\\\GitHub\\\\anndl\\\\image-segmentation\\\\Segmentation_Dataset\\\\training\\\\masks\\\\img\\\\8340.tif'"
      ]
     },
     "execution_count": 6,
     "metadata": {},
     "output_type": "execute_result"
    },
    {
     "data": {
      "text/plain": [
       "'C:\\\\Users\\\\fralu\\\\Documents\\\\GitHub\\\\anndl\\\\image-segmentation\\\\Segmentation_Dataset\\\\training\\\\images\\\\img\\\\8344.tif'"
      ]
     },
     "execution_count": 6,
     "metadata": {},
     "output_type": "execute_result"
    },
    {
     "data": {
      "text/plain": [
       "'C:\\\\Users\\\\fralu\\\\Documents\\\\GitHub\\\\anndl\\\\image-segmentation\\\\Segmentation_Dataset\\\\training\\\\masks\\\\img\\\\8344.tif'"
      ]
     },
     "execution_count": 6,
     "metadata": {},
     "output_type": "execute_result"
    },
    {
     "data": {
      "text/plain": [
       "'C:\\\\Users\\\\fralu\\\\Documents\\\\GitHub\\\\anndl\\\\image-segmentation\\\\Segmentation_Dataset\\\\training\\\\images\\\\img\\\\8346.tif'"
      ]
     },
     "execution_count": 6,
     "metadata": {},
     "output_type": "execute_result"
    },
    {
     "data": {
      "text/plain": [
       "'C:\\\\Users\\\\fralu\\\\Documents\\\\GitHub\\\\anndl\\\\image-segmentation\\\\Segmentation_Dataset\\\\training\\\\masks\\\\img\\\\8346.tif'"
      ]
     },
     "execution_count": 6,
     "metadata": {},
     "output_type": "execute_result"
    },
    {
     "data": {
      "text/plain": [
       "'C:\\\\Users\\\\fralu\\\\Documents\\\\GitHub\\\\anndl\\\\image-segmentation\\\\Segmentation_Dataset\\\\training\\\\images\\\\img\\\\835.tif'"
      ]
     },
     "execution_count": 6,
     "metadata": {},
     "output_type": "execute_result"
    },
    {
     "data": {
      "text/plain": [
       "'C:\\\\Users\\\\fralu\\\\Documents\\\\GitHub\\\\anndl\\\\image-segmentation\\\\Segmentation_Dataset\\\\training\\\\masks\\\\img\\\\835.tif'"
      ]
     },
     "execution_count": 6,
     "metadata": {},
     "output_type": "execute_result"
    },
    {
     "data": {
      "text/plain": [
       "'C:\\\\Users\\\\fralu\\\\Documents\\\\GitHub\\\\anndl\\\\image-segmentation\\\\Segmentation_Dataset\\\\training\\\\images\\\\img\\\\8355.tif'"
      ]
     },
     "execution_count": 6,
     "metadata": {},
     "output_type": "execute_result"
    },
    {
     "data": {
      "text/plain": [
       "'C:\\\\Users\\\\fralu\\\\Documents\\\\GitHub\\\\anndl\\\\image-segmentation\\\\Segmentation_Dataset\\\\training\\\\masks\\\\img\\\\8355.tif'"
      ]
     },
     "execution_count": 6,
     "metadata": {},
     "output_type": "execute_result"
    },
    {
     "data": {
      "text/plain": [
       "'C:\\\\Users\\\\fralu\\\\Documents\\\\GitHub\\\\anndl\\\\image-segmentation\\\\Segmentation_Dataset\\\\training\\\\images\\\\img\\\\8357.tif'"
      ]
     },
     "execution_count": 6,
     "metadata": {},
     "output_type": "execute_result"
    },
    {
     "data": {
      "text/plain": [
       "'C:\\\\Users\\\\fralu\\\\Documents\\\\GitHub\\\\anndl\\\\image-segmentation\\\\Segmentation_Dataset\\\\training\\\\masks\\\\img\\\\8357.tif'"
      ]
     },
     "execution_count": 6,
     "metadata": {},
     "output_type": "execute_result"
    },
    {
     "data": {
      "text/plain": [
       "'C:\\\\Users\\\\fralu\\\\Documents\\\\GitHub\\\\anndl\\\\image-segmentation\\\\Segmentation_Dataset\\\\training\\\\images\\\\img\\\\8363.tif'"
      ]
     },
     "execution_count": 6,
     "metadata": {},
     "output_type": "execute_result"
    },
    {
     "data": {
      "text/plain": [
       "'C:\\\\Users\\\\fralu\\\\Documents\\\\GitHub\\\\anndl\\\\image-segmentation\\\\Segmentation_Dataset\\\\training\\\\masks\\\\img\\\\8363.tif'"
      ]
     },
     "execution_count": 6,
     "metadata": {},
     "output_type": "execute_result"
    },
    {
     "data": {
      "text/plain": [
       "'C:\\\\Users\\\\fralu\\\\Documents\\\\GitHub\\\\anndl\\\\image-segmentation\\\\Segmentation_Dataset\\\\training\\\\images\\\\img\\\\8371.tif'"
      ]
     },
     "execution_count": 6,
     "metadata": {},
     "output_type": "execute_result"
    },
    {
     "data": {
      "text/plain": [
       "'C:\\\\Users\\\\fralu\\\\Documents\\\\GitHub\\\\anndl\\\\image-segmentation\\\\Segmentation_Dataset\\\\training\\\\masks\\\\img\\\\8371.tif'"
      ]
     },
     "execution_count": 6,
     "metadata": {},
     "output_type": "execute_result"
    },
    {
     "data": {
      "text/plain": [
       "'C:\\\\Users\\\\fralu\\\\Documents\\\\GitHub\\\\anndl\\\\image-segmentation\\\\Segmentation_Dataset\\\\training\\\\images\\\\img\\\\8386.tif'"
      ]
     },
     "execution_count": 6,
     "metadata": {},
     "output_type": "execute_result"
    },
    {
     "data": {
      "text/plain": [
       "'C:\\\\Users\\\\fralu\\\\Documents\\\\GitHub\\\\anndl\\\\image-segmentation\\\\Segmentation_Dataset\\\\training\\\\masks\\\\img\\\\8386.tif'"
      ]
     },
     "execution_count": 6,
     "metadata": {},
     "output_type": "execute_result"
    },
    {
     "data": {
      "text/plain": [
       "'C:\\\\Users\\\\fralu\\\\Documents\\\\GitHub\\\\anndl\\\\image-segmentation\\\\Segmentation_Dataset\\\\training\\\\images\\\\img\\\\8391.tif'"
      ]
     },
     "execution_count": 6,
     "metadata": {},
     "output_type": "execute_result"
    },
    {
     "data": {
      "text/plain": [
       "'C:\\\\Users\\\\fralu\\\\Documents\\\\GitHub\\\\anndl\\\\image-segmentation\\\\Segmentation_Dataset\\\\training\\\\masks\\\\img\\\\8391.tif'"
      ]
     },
     "execution_count": 6,
     "metadata": {},
     "output_type": "execute_result"
    },
    {
     "data": {
      "text/plain": [
       "'C:\\\\Users\\\\fralu\\\\Documents\\\\GitHub\\\\anndl\\\\image-segmentation\\\\Segmentation_Dataset\\\\training\\\\images\\\\img\\\\8392.tif'"
      ]
     },
     "execution_count": 6,
     "metadata": {},
     "output_type": "execute_result"
    },
    {
     "data": {
      "text/plain": [
       "'C:\\\\Users\\\\fralu\\\\Documents\\\\GitHub\\\\anndl\\\\image-segmentation\\\\Segmentation_Dataset\\\\training\\\\masks\\\\img\\\\8392.tif'"
      ]
     },
     "execution_count": 6,
     "metadata": {},
     "output_type": "execute_result"
    },
    {
     "data": {
      "text/plain": [
       "'C:\\\\Users\\\\fralu\\\\Documents\\\\GitHub\\\\anndl\\\\image-segmentation\\\\Segmentation_Dataset\\\\training\\\\images\\\\img\\\\8393.tif'"
      ]
     },
     "execution_count": 6,
     "metadata": {},
     "output_type": "execute_result"
    },
    {
     "data": {
      "text/plain": [
       "'C:\\\\Users\\\\fralu\\\\Documents\\\\GitHub\\\\anndl\\\\image-segmentation\\\\Segmentation_Dataset\\\\training\\\\masks\\\\img\\\\8393.tif'"
      ]
     },
     "execution_count": 6,
     "metadata": {},
     "output_type": "execute_result"
    },
    {
     "data": {
      "text/plain": [
       "'C:\\\\Users\\\\fralu\\\\Documents\\\\GitHub\\\\anndl\\\\image-segmentation\\\\Segmentation_Dataset\\\\training\\\\images\\\\img\\\\8394.tif'"
      ]
     },
     "execution_count": 6,
     "metadata": {},
     "output_type": "execute_result"
    },
    {
     "data": {
      "text/plain": [
       "'C:\\\\Users\\\\fralu\\\\Documents\\\\GitHub\\\\anndl\\\\image-segmentation\\\\Segmentation_Dataset\\\\training\\\\masks\\\\img\\\\8394.tif'"
      ]
     },
     "execution_count": 6,
     "metadata": {},
     "output_type": "execute_result"
    },
    {
     "data": {
      "text/plain": [
       "'C:\\\\Users\\\\fralu\\\\Documents\\\\GitHub\\\\anndl\\\\image-segmentation\\\\Segmentation_Dataset\\\\training\\\\images\\\\img\\\\84.tif'"
      ]
     },
     "execution_count": 6,
     "metadata": {},
     "output_type": "execute_result"
    },
    {
     "data": {
      "text/plain": [
       "'C:\\\\Users\\\\fralu\\\\Documents\\\\GitHub\\\\anndl\\\\image-segmentation\\\\Segmentation_Dataset\\\\training\\\\masks\\\\img\\\\84.tif'"
      ]
     },
     "execution_count": 6,
     "metadata": {},
     "output_type": "execute_result"
    },
    {
     "data": {
      "text/plain": [
       "'C:\\\\Users\\\\fralu\\\\Documents\\\\GitHub\\\\anndl\\\\image-segmentation\\\\Segmentation_Dataset\\\\training\\\\images\\\\img\\\\8402.tif'"
      ]
     },
     "execution_count": 6,
     "metadata": {},
     "output_type": "execute_result"
    },
    {
     "data": {
      "text/plain": [
       "'C:\\\\Users\\\\fralu\\\\Documents\\\\GitHub\\\\anndl\\\\image-segmentation\\\\Segmentation_Dataset\\\\training\\\\masks\\\\img\\\\8402.tif'"
      ]
     },
     "execution_count": 6,
     "metadata": {},
     "output_type": "execute_result"
    },
    {
     "data": {
      "text/plain": [
       "'C:\\\\Users\\\\fralu\\\\Documents\\\\GitHub\\\\anndl\\\\image-segmentation\\\\Segmentation_Dataset\\\\training\\\\images\\\\img\\\\8404.tif'"
      ]
     },
     "execution_count": 6,
     "metadata": {},
     "output_type": "execute_result"
    },
    {
     "data": {
      "text/plain": [
       "'C:\\\\Users\\\\fralu\\\\Documents\\\\GitHub\\\\anndl\\\\image-segmentation\\\\Segmentation_Dataset\\\\training\\\\masks\\\\img\\\\8404.tif'"
      ]
     },
     "execution_count": 6,
     "metadata": {},
     "output_type": "execute_result"
    },
    {
     "data": {
      "text/plain": [
       "'C:\\\\Users\\\\fralu\\\\Documents\\\\GitHub\\\\anndl\\\\image-segmentation\\\\Segmentation_Dataset\\\\training\\\\images\\\\img\\\\8411.tif'"
      ]
     },
     "execution_count": 6,
     "metadata": {},
     "output_type": "execute_result"
    },
    {
     "data": {
      "text/plain": [
       "'C:\\\\Users\\\\fralu\\\\Documents\\\\GitHub\\\\anndl\\\\image-segmentation\\\\Segmentation_Dataset\\\\training\\\\masks\\\\img\\\\8411.tif'"
      ]
     },
     "execution_count": 6,
     "metadata": {},
     "output_type": "execute_result"
    },
    {
     "data": {
      "text/plain": [
       "'C:\\\\Users\\\\fralu\\\\Documents\\\\GitHub\\\\anndl\\\\image-segmentation\\\\Segmentation_Dataset\\\\training\\\\images\\\\img\\\\8415.tif'"
      ]
     },
     "execution_count": 6,
     "metadata": {},
     "output_type": "execute_result"
    },
    {
     "data": {
      "text/plain": [
       "'C:\\\\Users\\\\fralu\\\\Documents\\\\GitHub\\\\anndl\\\\image-segmentation\\\\Segmentation_Dataset\\\\training\\\\masks\\\\img\\\\8415.tif'"
      ]
     },
     "execution_count": 6,
     "metadata": {},
     "output_type": "execute_result"
    },
    {
     "data": {
      "text/plain": [
       "'C:\\\\Users\\\\fralu\\\\Documents\\\\GitHub\\\\anndl\\\\image-segmentation\\\\Segmentation_Dataset\\\\training\\\\images\\\\img\\\\8423.tif'"
      ]
     },
     "execution_count": 6,
     "metadata": {},
     "output_type": "execute_result"
    },
    {
     "data": {
      "text/plain": [
       "'C:\\\\Users\\\\fralu\\\\Documents\\\\GitHub\\\\anndl\\\\image-segmentation\\\\Segmentation_Dataset\\\\training\\\\masks\\\\img\\\\8423.tif'"
      ]
     },
     "execution_count": 6,
     "metadata": {},
     "output_type": "execute_result"
    },
    {
     "data": {
      "text/plain": [
       "'C:\\\\Users\\\\fralu\\\\Documents\\\\GitHub\\\\anndl\\\\image-segmentation\\\\Segmentation_Dataset\\\\training\\\\images\\\\img\\\\8435.tif'"
      ]
     },
     "execution_count": 6,
     "metadata": {},
     "output_type": "execute_result"
    },
    {
     "data": {
      "text/plain": [
       "'C:\\\\Users\\\\fralu\\\\Documents\\\\GitHub\\\\anndl\\\\image-segmentation\\\\Segmentation_Dataset\\\\training\\\\masks\\\\img\\\\8435.tif'"
      ]
     },
     "execution_count": 6,
     "metadata": {},
     "output_type": "execute_result"
    },
    {
     "data": {
      "text/plain": [
       "'C:\\\\Users\\\\fralu\\\\Documents\\\\GitHub\\\\anndl\\\\image-segmentation\\\\Segmentation_Dataset\\\\training\\\\images\\\\img\\\\8442.tif'"
      ]
     },
     "execution_count": 6,
     "metadata": {},
     "output_type": "execute_result"
    },
    {
     "data": {
      "text/plain": [
       "'C:\\\\Users\\\\fralu\\\\Documents\\\\GitHub\\\\anndl\\\\image-segmentation\\\\Segmentation_Dataset\\\\training\\\\masks\\\\img\\\\8442.tif'"
      ]
     },
     "execution_count": 6,
     "metadata": {},
     "output_type": "execute_result"
    },
    {
     "data": {
      "text/plain": [
       "'C:\\\\Users\\\\fralu\\\\Documents\\\\GitHub\\\\anndl\\\\image-segmentation\\\\Segmentation_Dataset\\\\training\\\\images\\\\img\\\\8444.tif'"
      ]
     },
     "execution_count": 6,
     "metadata": {},
     "output_type": "execute_result"
    },
    {
     "data": {
      "text/plain": [
       "'C:\\\\Users\\\\fralu\\\\Documents\\\\GitHub\\\\anndl\\\\image-segmentation\\\\Segmentation_Dataset\\\\training\\\\masks\\\\img\\\\8444.tif'"
      ]
     },
     "execution_count": 6,
     "metadata": {},
     "output_type": "execute_result"
    },
    {
     "data": {
      "text/plain": [
       "'C:\\\\Users\\\\fralu\\\\Documents\\\\GitHub\\\\anndl\\\\image-segmentation\\\\Segmentation_Dataset\\\\training\\\\images\\\\img\\\\8447.tif'"
      ]
     },
     "execution_count": 6,
     "metadata": {},
     "output_type": "execute_result"
    },
    {
     "data": {
      "text/plain": [
       "'C:\\\\Users\\\\fralu\\\\Documents\\\\GitHub\\\\anndl\\\\image-segmentation\\\\Segmentation_Dataset\\\\training\\\\masks\\\\img\\\\8447.tif'"
      ]
     },
     "execution_count": 6,
     "metadata": {},
     "output_type": "execute_result"
    },
    {
     "data": {
      "text/plain": [
       "'C:\\\\Users\\\\fralu\\\\Documents\\\\GitHub\\\\anndl\\\\image-segmentation\\\\Segmentation_Dataset\\\\training\\\\images\\\\img\\\\846.tif'"
      ]
     },
     "execution_count": 6,
     "metadata": {},
     "output_type": "execute_result"
    },
    {
     "data": {
      "text/plain": [
       "'C:\\\\Users\\\\fralu\\\\Documents\\\\GitHub\\\\anndl\\\\image-segmentation\\\\Segmentation_Dataset\\\\training\\\\masks\\\\img\\\\846.tif'"
      ]
     },
     "execution_count": 6,
     "metadata": {},
     "output_type": "execute_result"
    },
    {
     "data": {
      "text/plain": [
       "'C:\\\\Users\\\\fralu\\\\Documents\\\\GitHub\\\\anndl\\\\image-segmentation\\\\Segmentation_Dataset\\\\training\\\\images\\\\img\\\\8461.tif'"
      ]
     },
     "execution_count": 6,
     "metadata": {},
     "output_type": "execute_result"
    },
    {
     "data": {
      "text/plain": [
       "'C:\\\\Users\\\\fralu\\\\Documents\\\\GitHub\\\\anndl\\\\image-segmentation\\\\Segmentation_Dataset\\\\training\\\\masks\\\\img\\\\8461.tif'"
      ]
     },
     "execution_count": 6,
     "metadata": {},
     "output_type": "execute_result"
    },
    {
     "data": {
      "text/plain": [
       "'C:\\\\Users\\\\fralu\\\\Documents\\\\GitHub\\\\anndl\\\\image-segmentation\\\\Segmentation_Dataset\\\\training\\\\images\\\\img\\\\847.tif'"
      ]
     },
     "execution_count": 6,
     "metadata": {},
     "output_type": "execute_result"
    },
    {
     "data": {
      "text/plain": [
       "'C:\\\\Users\\\\fralu\\\\Documents\\\\GitHub\\\\anndl\\\\image-segmentation\\\\Segmentation_Dataset\\\\training\\\\masks\\\\img\\\\847.tif'"
      ]
     },
     "execution_count": 6,
     "metadata": {},
     "output_type": "execute_result"
    },
    {
     "data": {
      "text/plain": [
       "'C:\\\\Users\\\\fralu\\\\Documents\\\\GitHub\\\\anndl\\\\image-segmentation\\\\Segmentation_Dataset\\\\training\\\\images\\\\img\\\\8470.tif'"
      ]
     },
     "execution_count": 6,
     "metadata": {},
     "output_type": "execute_result"
    },
    {
     "data": {
      "text/plain": [
       "'C:\\\\Users\\\\fralu\\\\Documents\\\\GitHub\\\\anndl\\\\image-segmentation\\\\Segmentation_Dataset\\\\training\\\\masks\\\\img\\\\8470.tif'"
      ]
     },
     "execution_count": 6,
     "metadata": {},
     "output_type": "execute_result"
    },
    {
     "data": {
      "text/plain": [
       "'C:\\\\Users\\\\fralu\\\\Documents\\\\GitHub\\\\anndl\\\\image-segmentation\\\\Segmentation_Dataset\\\\training\\\\images\\\\img\\\\8474.tif'"
      ]
     },
     "execution_count": 6,
     "metadata": {},
     "output_type": "execute_result"
    },
    {
     "data": {
      "text/plain": [
       "'C:\\\\Users\\\\fralu\\\\Documents\\\\GitHub\\\\anndl\\\\image-segmentation\\\\Segmentation_Dataset\\\\training\\\\masks\\\\img\\\\8474.tif'"
      ]
     },
     "execution_count": 6,
     "metadata": {},
     "output_type": "execute_result"
    },
    {
     "data": {
      "text/plain": [
       "'C:\\\\Users\\\\fralu\\\\Documents\\\\GitHub\\\\anndl\\\\image-segmentation\\\\Segmentation_Dataset\\\\training\\\\images\\\\img\\\\8478.tif'"
      ]
     },
     "execution_count": 6,
     "metadata": {},
     "output_type": "execute_result"
    },
    {
     "data": {
      "text/plain": [
       "'C:\\\\Users\\\\fralu\\\\Documents\\\\GitHub\\\\anndl\\\\image-segmentation\\\\Segmentation_Dataset\\\\training\\\\masks\\\\img\\\\8478.tif'"
      ]
     },
     "execution_count": 6,
     "metadata": {},
     "output_type": "execute_result"
    },
    {
     "data": {
      "text/plain": [
       "'C:\\\\Users\\\\fralu\\\\Documents\\\\GitHub\\\\anndl\\\\image-segmentation\\\\Segmentation_Dataset\\\\training\\\\images\\\\img\\\\8480.tif'"
      ]
     },
     "execution_count": 6,
     "metadata": {},
     "output_type": "execute_result"
    },
    {
     "data": {
      "text/plain": [
       "'C:\\\\Users\\\\fralu\\\\Documents\\\\GitHub\\\\anndl\\\\image-segmentation\\\\Segmentation_Dataset\\\\training\\\\masks\\\\img\\\\8480.tif'"
      ]
     },
     "execution_count": 6,
     "metadata": {},
     "output_type": "execute_result"
    },
    {
     "data": {
      "text/plain": [
       "'C:\\\\Users\\\\fralu\\\\Documents\\\\GitHub\\\\anndl\\\\image-segmentation\\\\Segmentation_Dataset\\\\training\\\\images\\\\img\\\\8481.tif'"
      ]
     },
     "execution_count": 6,
     "metadata": {},
     "output_type": "execute_result"
    },
    {
     "data": {
      "text/plain": [
       "'C:\\\\Users\\\\fralu\\\\Documents\\\\GitHub\\\\anndl\\\\image-segmentation\\\\Segmentation_Dataset\\\\training\\\\masks\\\\img\\\\8481.tif'"
      ]
     },
     "execution_count": 6,
     "metadata": {},
     "output_type": "execute_result"
    },
    {
     "data": {
      "text/plain": [
       "'C:\\\\Users\\\\fralu\\\\Documents\\\\GitHub\\\\anndl\\\\image-segmentation\\\\Segmentation_Dataset\\\\training\\\\images\\\\img\\\\8482.tif'"
      ]
     },
     "execution_count": 6,
     "metadata": {},
     "output_type": "execute_result"
    },
    {
     "data": {
      "text/plain": [
       "'C:\\\\Users\\\\fralu\\\\Documents\\\\GitHub\\\\anndl\\\\image-segmentation\\\\Segmentation_Dataset\\\\training\\\\masks\\\\img\\\\8482.tif'"
      ]
     },
     "execution_count": 6,
     "metadata": {},
     "output_type": "execute_result"
    },
    {
     "data": {
      "text/plain": [
       "'C:\\\\Users\\\\fralu\\\\Documents\\\\GitHub\\\\anndl\\\\image-segmentation\\\\Segmentation_Dataset\\\\training\\\\images\\\\img\\\\8485.tif'"
      ]
     },
     "execution_count": 6,
     "metadata": {},
     "output_type": "execute_result"
    },
    {
     "data": {
      "text/plain": [
       "'C:\\\\Users\\\\fralu\\\\Documents\\\\GitHub\\\\anndl\\\\image-segmentation\\\\Segmentation_Dataset\\\\training\\\\masks\\\\img\\\\8485.tif'"
      ]
     },
     "execution_count": 6,
     "metadata": {},
     "output_type": "execute_result"
    },
    {
     "data": {
      "text/plain": [
       "'C:\\\\Users\\\\fralu\\\\Documents\\\\GitHub\\\\anndl\\\\image-segmentation\\\\Segmentation_Dataset\\\\training\\\\images\\\\img\\\\8487.tif'"
      ]
     },
     "execution_count": 6,
     "metadata": {},
     "output_type": "execute_result"
    },
    {
     "data": {
      "text/plain": [
       "'C:\\\\Users\\\\fralu\\\\Documents\\\\GitHub\\\\anndl\\\\image-segmentation\\\\Segmentation_Dataset\\\\training\\\\masks\\\\img\\\\8487.tif'"
      ]
     },
     "execution_count": 6,
     "metadata": {},
     "output_type": "execute_result"
    },
    {
     "data": {
      "text/plain": [
       "'C:\\\\Users\\\\fralu\\\\Documents\\\\GitHub\\\\anndl\\\\image-segmentation\\\\Segmentation_Dataset\\\\training\\\\images\\\\img\\\\8488.tif'"
      ]
     },
     "execution_count": 6,
     "metadata": {},
     "output_type": "execute_result"
    },
    {
     "data": {
      "text/plain": [
       "'C:\\\\Users\\\\fralu\\\\Documents\\\\GitHub\\\\anndl\\\\image-segmentation\\\\Segmentation_Dataset\\\\training\\\\masks\\\\img\\\\8488.tif'"
      ]
     },
     "execution_count": 6,
     "metadata": {},
     "output_type": "execute_result"
    },
    {
     "data": {
      "text/plain": [
       "'C:\\\\Users\\\\fralu\\\\Documents\\\\GitHub\\\\anndl\\\\image-segmentation\\\\Segmentation_Dataset\\\\training\\\\images\\\\img\\\\8489.tif'"
      ]
     },
     "execution_count": 6,
     "metadata": {},
     "output_type": "execute_result"
    },
    {
     "data": {
      "text/plain": [
       "'C:\\\\Users\\\\fralu\\\\Documents\\\\GitHub\\\\anndl\\\\image-segmentation\\\\Segmentation_Dataset\\\\training\\\\masks\\\\img\\\\8489.tif'"
      ]
     },
     "execution_count": 6,
     "metadata": {},
     "output_type": "execute_result"
    },
    {
     "data": {
      "text/plain": [
       "'C:\\\\Users\\\\fralu\\\\Documents\\\\GitHub\\\\anndl\\\\image-segmentation\\\\Segmentation_Dataset\\\\training\\\\images\\\\img\\\\8491.tif'"
      ]
     },
     "execution_count": 6,
     "metadata": {},
     "output_type": "execute_result"
    },
    {
     "data": {
      "text/plain": [
       "'C:\\\\Users\\\\fralu\\\\Documents\\\\GitHub\\\\anndl\\\\image-segmentation\\\\Segmentation_Dataset\\\\training\\\\masks\\\\img\\\\8491.tif'"
      ]
     },
     "execution_count": 6,
     "metadata": {},
     "output_type": "execute_result"
    },
    {
     "data": {
      "text/plain": [
       "'C:\\\\Users\\\\fralu\\\\Documents\\\\GitHub\\\\anndl\\\\image-segmentation\\\\Segmentation_Dataset\\\\training\\\\images\\\\img\\\\8495.tif'"
      ]
     },
     "execution_count": 6,
     "metadata": {},
     "output_type": "execute_result"
    },
    {
     "data": {
      "text/plain": [
       "'C:\\\\Users\\\\fralu\\\\Documents\\\\GitHub\\\\anndl\\\\image-segmentation\\\\Segmentation_Dataset\\\\training\\\\masks\\\\img\\\\8495.tif'"
      ]
     },
     "execution_count": 6,
     "metadata": {},
     "output_type": "execute_result"
    },
    {
     "data": {
      "text/plain": [
       "'C:\\\\Users\\\\fralu\\\\Documents\\\\GitHub\\\\anndl\\\\image-segmentation\\\\Segmentation_Dataset\\\\training\\\\images\\\\img\\\\8501.tif'"
      ]
     },
     "execution_count": 6,
     "metadata": {},
     "output_type": "execute_result"
    },
    {
     "data": {
      "text/plain": [
       "'C:\\\\Users\\\\fralu\\\\Documents\\\\GitHub\\\\anndl\\\\image-segmentation\\\\Segmentation_Dataset\\\\training\\\\masks\\\\img\\\\8501.tif'"
      ]
     },
     "execution_count": 6,
     "metadata": {},
     "output_type": "execute_result"
    },
    {
     "data": {
      "text/plain": [
       "'C:\\\\Users\\\\fralu\\\\Documents\\\\GitHub\\\\anndl\\\\image-segmentation\\\\Segmentation_Dataset\\\\training\\\\images\\\\img\\\\8517.tif'"
      ]
     },
     "execution_count": 6,
     "metadata": {},
     "output_type": "execute_result"
    },
    {
     "data": {
      "text/plain": [
       "'C:\\\\Users\\\\fralu\\\\Documents\\\\GitHub\\\\anndl\\\\image-segmentation\\\\Segmentation_Dataset\\\\training\\\\masks\\\\img\\\\8517.tif'"
      ]
     },
     "execution_count": 6,
     "metadata": {},
     "output_type": "execute_result"
    },
    {
     "data": {
      "text/plain": [
       "'C:\\\\Users\\\\fralu\\\\Documents\\\\GitHub\\\\anndl\\\\image-segmentation\\\\Segmentation_Dataset\\\\training\\\\images\\\\img\\\\8527.tif'"
      ]
     },
     "execution_count": 6,
     "metadata": {},
     "output_type": "execute_result"
    },
    {
     "data": {
      "text/plain": [
       "'C:\\\\Users\\\\fralu\\\\Documents\\\\GitHub\\\\anndl\\\\image-segmentation\\\\Segmentation_Dataset\\\\training\\\\masks\\\\img\\\\8527.tif'"
      ]
     },
     "execution_count": 6,
     "metadata": {},
     "output_type": "execute_result"
    },
    {
     "data": {
      "text/plain": [
       "'C:\\\\Users\\\\fralu\\\\Documents\\\\GitHub\\\\anndl\\\\image-segmentation\\\\Segmentation_Dataset\\\\training\\\\images\\\\img\\\\8529.tif'"
      ]
     },
     "execution_count": 6,
     "metadata": {},
     "output_type": "execute_result"
    },
    {
     "data": {
      "text/plain": [
       "'C:\\\\Users\\\\fralu\\\\Documents\\\\GitHub\\\\anndl\\\\image-segmentation\\\\Segmentation_Dataset\\\\training\\\\masks\\\\img\\\\8529.tif'"
      ]
     },
     "execution_count": 6,
     "metadata": {},
     "output_type": "execute_result"
    },
    {
     "data": {
      "text/plain": [
       "'C:\\\\Users\\\\fralu\\\\Documents\\\\GitHub\\\\anndl\\\\image-segmentation\\\\Segmentation_Dataset\\\\training\\\\images\\\\img\\\\854.tif'"
      ]
     },
     "execution_count": 6,
     "metadata": {},
     "output_type": "execute_result"
    },
    {
     "data": {
      "text/plain": [
       "'C:\\\\Users\\\\fralu\\\\Documents\\\\GitHub\\\\anndl\\\\image-segmentation\\\\Segmentation_Dataset\\\\training\\\\masks\\\\img\\\\854.tif'"
      ]
     },
     "execution_count": 6,
     "metadata": {},
     "output_type": "execute_result"
    },
    {
     "data": {
      "text/plain": [
       "'C:\\\\Users\\\\fralu\\\\Documents\\\\GitHub\\\\anndl\\\\image-segmentation\\\\Segmentation_Dataset\\\\training\\\\images\\\\img\\\\8543.tif'"
      ]
     },
     "execution_count": 6,
     "metadata": {},
     "output_type": "execute_result"
    },
    {
     "data": {
      "text/plain": [
       "'C:\\\\Users\\\\fralu\\\\Documents\\\\GitHub\\\\anndl\\\\image-segmentation\\\\Segmentation_Dataset\\\\training\\\\masks\\\\img\\\\8543.tif'"
      ]
     },
     "execution_count": 6,
     "metadata": {},
     "output_type": "execute_result"
    },
    {
     "data": {
      "text/plain": [
       "'C:\\\\Users\\\\fralu\\\\Documents\\\\GitHub\\\\anndl\\\\image-segmentation\\\\Segmentation_Dataset\\\\training\\\\images\\\\img\\\\8546.tif'"
      ]
     },
     "execution_count": 6,
     "metadata": {},
     "output_type": "execute_result"
    },
    {
     "data": {
      "text/plain": [
       "'C:\\\\Users\\\\fralu\\\\Documents\\\\GitHub\\\\anndl\\\\image-segmentation\\\\Segmentation_Dataset\\\\training\\\\masks\\\\img\\\\8546.tif'"
      ]
     },
     "execution_count": 6,
     "metadata": {},
     "output_type": "execute_result"
    },
    {
     "data": {
      "text/plain": [
       "'C:\\\\Users\\\\fralu\\\\Documents\\\\GitHub\\\\anndl\\\\image-segmentation\\\\Segmentation_Dataset\\\\training\\\\images\\\\img\\\\8549.tif'"
      ]
     },
     "execution_count": 6,
     "metadata": {},
     "output_type": "execute_result"
    },
    {
     "data": {
      "text/plain": [
       "'C:\\\\Users\\\\fralu\\\\Documents\\\\GitHub\\\\anndl\\\\image-segmentation\\\\Segmentation_Dataset\\\\training\\\\masks\\\\img\\\\8549.tif'"
      ]
     },
     "execution_count": 6,
     "metadata": {},
     "output_type": "execute_result"
    },
    {
     "data": {
      "text/plain": [
       "'C:\\\\Users\\\\fralu\\\\Documents\\\\GitHub\\\\anndl\\\\image-segmentation\\\\Segmentation_Dataset\\\\training\\\\images\\\\img\\\\8550.tif'"
      ]
     },
     "execution_count": 6,
     "metadata": {},
     "output_type": "execute_result"
    },
    {
     "data": {
      "text/plain": [
       "'C:\\\\Users\\\\fralu\\\\Documents\\\\GitHub\\\\anndl\\\\image-segmentation\\\\Segmentation_Dataset\\\\training\\\\masks\\\\img\\\\8550.tif'"
      ]
     },
     "execution_count": 6,
     "metadata": {},
     "output_type": "execute_result"
    },
    {
     "data": {
      "text/plain": [
       "'C:\\\\Users\\\\fralu\\\\Documents\\\\GitHub\\\\anndl\\\\image-segmentation\\\\Segmentation_Dataset\\\\training\\\\images\\\\img\\\\8557.tif'"
      ]
     },
     "execution_count": 6,
     "metadata": {},
     "output_type": "execute_result"
    },
    {
     "data": {
      "text/plain": [
       "'C:\\\\Users\\\\fralu\\\\Documents\\\\GitHub\\\\anndl\\\\image-segmentation\\\\Segmentation_Dataset\\\\training\\\\masks\\\\img\\\\8557.tif'"
      ]
     },
     "execution_count": 6,
     "metadata": {},
     "output_type": "execute_result"
    },
    {
     "data": {
      "text/plain": [
       "'C:\\\\Users\\\\fralu\\\\Documents\\\\GitHub\\\\anndl\\\\image-segmentation\\\\Segmentation_Dataset\\\\training\\\\images\\\\img\\\\8559.tif'"
      ]
     },
     "execution_count": 6,
     "metadata": {},
     "output_type": "execute_result"
    },
    {
     "data": {
      "text/plain": [
       "'C:\\\\Users\\\\fralu\\\\Documents\\\\GitHub\\\\anndl\\\\image-segmentation\\\\Segmentation_Dataset\\\\training\\\\masks\\\\img\\\\8559.tif'"
      ]
     },
     "execution_count": 6,
     "metadata": {},
     "output_type": "execute_result"
    },
    {
     "data": {
      "text/plain": [
       "'C:\\\\Users\\\\fralu\\\\Documents\\\\GitHub\\\\anndl\\\\image-segmentation\\\\Segmentation_Dataset\\\\training\\\\images\\\\img\\\\8560.tif'"
      ]
     },
     "execution_count": 6,
     "metadata": {},
     "output_type": "execute_result"
    },
    {
     "data": {
      "text/plain": [
       "'C:\\\\Users\\\\fralu\\\\Documents\\\\GitHub\\\\anndl\\\\image-segmentation\\\\Segmentation_Dataset\\\\training\\\\masks\\\\img\\\\8560.tif'"
      ]
     },
     "execution_count": 6,
     "metadata": {},
     "output_type": "execute_result"
    },
    {
     "data": {
      "text/plain": [
       "'C:\\\\Users\\\\fralu\\\\Documents\\\\GitHub\\\\anndl\\\\image-segmentation\\\\Segmentation_Dataset\\\\training\\\\images\\\\img\\\\8562.tif'"
      ]
     },
     "execution_count": 6,
     "metadata": {},
     "output_type": "execute_result"
    },
    {
     "data": {
      "text/plain": [
       "'C:\\\\Users\\\\fralu\\\\Documents\\\\GitHub\\\\anndl\\\\image-segmentation\\\\Segmentation_Dataset\\\\training\\\\masks\\\\img\\\\8562.tif'"
      ]
     },
     "execution_count": 6,
     "metadata": {},
     "output_type": "execute_result"
    },
    {
     "data": {
      "text/plain": [
       "'C:\\\\Users\\\\fralu\\\\Documents\\\\GitHub\\\\anndl\\\\image-segmentation\\\\Segmentation_Dataset\\\\training\\\\images\\\\img\\\\8571.tif'"
      ]
     },
     "execution_count": 6,
     "metadata": {},
     "output_type": "execute_result"
    },
    {
     "data": {
      "text/plain": [
       "'C:\\\\Users\\\\fralu\\\\Documents\\\\GitHub\\\\anndl\\\\image-segmentation\\\\Segmentation_Dataset\\\\training\\\\masks\\\\img\\\\8571.tif'"
      ]
     },
     "execution_count": 6,
     "metadata": {},
     "output_type": "execute_result"
    },
    {
     "data": {
      "text/plain": [
       "'C:\\\\Users\\\\fralu\\\\Documents\\\\GitHub\\\\anndl\\\\image-segmentation\\\\Segmentation_Dataset\\\\training\\\\images\\\\img\\\\8573.tif'"
      ]
     },
     "execution_count": 6,
     "metadata": {},
     "output_type": "execute_result"
    },
    {
     "data": {
      "text/plain": [
       "'C:\\\\Users\\\\fralu\\\\Documents\\\\GitHub\\\\anndl\\\\image-segmentation\\\\Segmentation_Dataset\\\\training\\\\masks\\\\img\\\\8573.tif'"
      ]
     },
     "execution_count": 6,
     "metadata": {},
     "output_type": "execute_result"
    },
    {
     "data": {
      "text/plain": [
       "'C:\\\\Users\\\\fralu\\\\Documents\\\\GitHub\\\\anndl\\\\image-segmentation\\\\Segmentation_Dataset\\\\training\\\\images\\\\img\\\\8575.tif'"
      ]
     },
     "execution_count": 6,
     "metadata": {},
     "output_type": "execute_result"
    },
    {
     "data": {
      "text/plain": [
       "'C:\\\\Users\\\\fralu\\\\Documents\\\\GitHub\\\\anndl\\\\image-segmentation\\\\Segmentation_Dataset\\\\training\\\\masks\\\\img\\\\8575.tif'"
      ]
     },
     "execution_count": 6,
     "metadata": {},
     "output_type": "execute_result"
    },
    {
     "data": {
      "text/plain": [
       "'C:\\\\Users\\\\fralu\\\\Documents\\\\GitHub\\\\anndl\\\\image-segmentation\\\\Segmentation_Dataset\\\\training\\\\images\\\\img\\\\8577.tif'"
      ]
     },
     "execution_count": 6,
     "metadata": {},
     "output_type": "execute_result"
    },
    {
     "data": {
      "text/plain": [
       "'C:\\\\Users\\\\fralu\\\\Documents\\\\GitHub\\\\anndl\\\\image-segmentation\\\\Segmentation_Dataset\\\\training\\\\masks\\\\img\\\\8577.tif'"
      ]
     },
     "execution_count": 6,
     "metadata": {},
     "output_type": "execute_result"
    },
    {
     "data": {
      "text/plain": [
       "'C:\\\\Users\\\\fralu\\\\Documents\\\\GitHub\\\\anndl\\\\image-segmentation\\\\Segmentation_Dataset\\\\training\\\\images\\\\img\\\\8581.tif'"
      ]
     },
     "execution_count": 6,
     "metadata": {},
     "output_type": "execute_result"
    },
    {
     "data": {
      "text/plain": [
       "'C:\\\\Users\\\\fralu\\\\Documents\\\\GitHub\\\\anndl\\\\image-segmentation\\\\Segmentation_Dataset\\\\training\\\\masks\\\\img\\\\8581.tif'"
      ]
     },
     "execution_count": 6,
     "metadata": {},
     "output_type": "execute_result"
    },
    {
     "data": {
      "text/plain": [
       "'C:\\\\Users\\\\fralu\\\\Documents\\\\GitHub\\\\anndl\\\\image-segmentation\\\\Segmentation_Dataset\\\\training\\\\images\\\\img\\\\8584.tif'"
      ]
     },
     "execution_count": 6,
     "metadata": {},
     "output_type": "execute_result"
    },
    {
     "data": {
      "text/plain": [
       "'C:\\\\Users\\\\fralu\\\\Documents\\\\GitHub\\\\anndl\\\\image-segmentation\\\\Segmentation_Dataset\\\\training\\\\masks\\\\img\\\\8584.tif'"
      ]
     },
     "execution_count": 6,
     "metadata": {},
     "output_type": "execute_result"
    },
    {
     "data": {
      "text/plain": [
       "'C:\\\\Users\\\\fralu\\\\Documents\\\\GitHub\\\\anndl\\\\image-segmentation\\\\Segmentation_Dataset\\\\training\\\\images\\\\img\\\\8590.tif'"
      ]
     },
     "execution_count": 6,
     "metadata": {},
     "output_type": "execute_result"
    },
    {
     "data": {
      "text/plain": [
       "'C:\\\\Users\\\\fralu\\\\Documents\\\\GitHub\\\\anndl\\\\image-segmentation\\\\Segmentation_Dataset\\\\training\\\\masks\\\\img\\\\8590.tif'"
      ]
     },
     "execution_count": 6,
     "metadata": {},
     "output_type": "execute_result"
    },
    {
     "data": {
      "text/plain": [
       "'C:\\\\Users\\\\fralu\\\\Documents\\\\GitHub\\\\anndl\\\\image-segmentation\\\\Segmentation_Dataset\\\\training\\\\images\\\\img\\\\8593.tif'"
      ]
     },
     "execution_count": 6,
     "metadata": {},
     "output_type": "execute_result"
    },
    {
     "data": {
      "text/plain": [
       "'C:\\\\Users\\\\fralu\\\\Documents\\\\GitHub\\\\anndl\\\\image-segmentation\\\\Segmentation_Dataset\\\\training\\\\masks\\\\img\\\\8593.tif'"
      ]
     },
     "execution_count": 6,
     "metadata": {},
     "output_type": "execute_result"
    },
    {
     "data": {
      "text/plain": [
       "'C:\\\\Users\\\\fralu\\\\Documents\\\\GitHub\\\\anndl\\\\image-segmentation\\\\Segmentation_Dataset\\\\training\\\\images\\\\img\\\\8594.tif'"
      ]
     },
     "execution_count": 6,
     "metadata": {},
     "output_type": "execute_result"
    },
    {
     "data": {
      "text/plain": [
       "'C:\\\\Users\\\\fralu\\\\Documents\\\\GitHub\\\\anndl\\\\image-segmentation\\\\Segmentation_Dataset\\\\training\\\\masks\\\\img\\\\8594.tif'"
      ]
     },
     "execution_count": 6,
     "metadata": {},
     "output_type": "execute_result"
    },
    {
     "data": {
      "text/plain": [
       "'C:\\\\Users\\\\fralu\\\\Documents\\\\GitHub\\\\anndl\\\\image-segmentation\\\\Segmentation_Dataset\\\\training\\\\images\\\\img\\\\86.tif'"
      ]
     },
     "execution_count": 6,
     "metadata": {},
     "output_type": "execute_result"
    },
    {
     "data": {
      "text/plain": [
       "'C:\\\\Users\\\\fralu\\\\Documents\\\\GitHub\\\\anndl\\\\image-segmentation\\\\Segmentation_Dataset\\\\training\\\\masks\\\\img\\\\86.tif'"
      ]
     },
     "execution_count": 6,
     "metadata": {},
     "output_type": "execute_result"
    },
    {
     "data": {
      "text/plain": [
       "'C:\\\\Users\\\\fralu\\\\Documents\\\\GitHub\\\\anndl\\\\image-segmentation\\\\Segmentation_Dataset\\\\training\\\\images\\\\img\\\\8605.tif'"
      ]
     },
     "execution_count": 6,
     "metadata": {},
     "output_type": "execute_result"
    },
    {
     "data": {
      "text/plain": [
       "'C:\\\\Users\\\\fralu\\\\Documents\\\\GitHub\\\\anndl\\\\image-segmentation\\\\Segmentation_Dataset\\\\training\\\\masks\\\\img\\\\8605.tif'"
      ]
     },
     "execution_count": 6,
     "metadata": {},
     "output_type": "execute_result"
    },
    {
     "data": {
      "text/plain": [
       "'C:\\\\Users\\\\fralu\\\\Documents\\\\GitHub\\\\anndl\\\\image-segmentation\\\\Segmentation_Dataset\\\\training\\\\images\\\\img\\\\8608.tif'"
      ]
     },
     "execution_count": 6,
     "metadata": {},
     "output_type": "execute_result"
    },
    {
     "data": {
      "text/plain": [
       "'C:\\\\Users\\\\fralu\\\\Documents\\\\GitHub\\\\anndl\\\\image-segmentation\\\\Segmentation_Dataset\\\\training\\\\masks\\\\img\\\\8608.tif'"
      ]
     },
     "execution_count": 6,
     "metadata": {},
     "output_type": "execute_result"
    },
    {
     "data": {
      "text/plain": [
       "'C:\\\\Users\\\\fralu\\\\Documents\\\\GitHub\\\\anndl\\\\image-segmentation\\\\Segmentation_Dataset\\\\training\\\\images\\\\img\\\\8611.tif'"
      ]
     },
     "execution_count": 6,
     "metadata": {},
     "output_type": "execute_result"
    },
    {
     "data": {
      "text/plain": [
       "'C:\\\\Users\\\\fralu\\\\Documents\\\\GitHub\\\\anndl\\\\image-segmentation\\\\Segmentation_Dataset\\\\training\\\\masks\\\\img\\\\8611.tif'"
      ]
     },
     "execution_count": 6,
     "metadata": {},
     "output_type": "execute_result"
    },
    {
     "data": {
      "text/plain": [
       "'C:\\\\Users\\\\fralu\\\\Documents\\\\GitHub\\\\anndl\\\\image-segmentation\\\\Segmentation_Dataset\\\\training\\\\images\\\\img\\\\8620.tif'"
      ]
     },
     "execution_count": 6,
     "metadata": {},
     "output_type": "execute_result"
    },
    {
     "data": {
      "text/plain": [
       "'C:\\\\Users\\\\fralu\\\\Documents\\\\GitHub\\\\anndl\\\\image-segmentation\\\\Segmentation_Dataset\\\\training\\\\masks\\\\img\\\\8620.tif'"
      ]
     },
     "execution_count": 6,
     "metadata": {},
     "output_type": "execute_result"
    },
    {
     "data": {
      "text/plain": [
       "'C:\\\\Users\\\\fralu\\\\Documents\\\\GitHub\\\\anndl\\\\image-segmentation\\\\Segmentation_Dataset\\\\training\\\\images\\\\img\\\\8622.tif'"
      ]
     },
     "execution_count": 6,
     "metadata": {},
     "output_type": "execute_result"
    },
    {
     "data": {
      "text/plain": [
       "'C:\\\\Users\\\\fralu\\\\Documents\\\\GitHub\\\\anndl\\\\image-segmentation\\\\Segmentation_Dataset\\\\training\\\\masks\\\\img\\\\8622.tif'"
      ]
     },
     "execution_count": 6,
     "metadata": {},
     "output_type": "execute_result"
    },
    {
     "data": {
      "text/plain": [
       "'C:\\\\Users\\\\fralu\\\\Documents\\\\GitHub\\\\anndl\\\\image-segmentation\\\\Segmentation_Dataset\\\\training\\\\images\\\\img\\\\8631.tif'"
      ]
     },
     "execution_count": 6,
     "metadata": {},
     "output_type": "execute_result"
    },
    {
     "data": {
      "text/plain": [
       "'C:\\\\Users\\\\fralu\\\\Documents\\\\GitHub\\\\anndl\\\\image-segmentation\\\\Segmentation_Dataset\\\\training\\\\masks\\\\img\\\\8631.tif'"
      ]
     },
     "execution_count": 6,
     "metadata": {},
     "output_type": "execute_result"
    },
    {
     "data": {
      "text/plain": [
       "'C:\\\\Users\\\\fralu\\\\Documents\\\\GitHub\\\\anndl\\\\image-segmentation\\\\Segmentation_Dataset\\\\training\\\\images\\\\img\\\\8637.tif'"
      ]
     },
     "execution_count": 6,
     "metadata": {},
     "output_type": "execute_result"
    },
    {
     "data": {
      "text/plain": [
       "'C:\\\\Users\\\\fralu\\\\Documents\\\\GitHub\\\\anndl\\\\image-segmentation\\\\Segmentation_Dataset\\\\training\\\\masks\\\\img\\\\8637.tif'"
      ]
     },
     "execution_count": 6,
     "metadata": {},
     "output_type": "execute_result"
    },
    {
     "data": {
      "text/plain": [
       "'C:\\\\Users\\\\fralu\\\\Documents\\\\GitHub\\\\anndl\\\\image-segmentation\\\\Segmentation_Dataset\\\\training\\\\images\\\\img\\\\8645.tif'"
      ]
     },
     "execution_count": 6,
     "metadata": {},
     "output_type": "execute_result"
    },
    {
     "data": {
      "text/plain": [
       "'C:\\\\Users\\\\fralu\\\\Documents\\\\GitHub\\\\anndl\\\\image-segmentation\\\\Segmentation_Dataset\\\\training\\\\masks\\\\img\\\\8645.tif'"
      ]
     },
     "execution_count": 6,
     "metadata": {},
     "output_type": "execute_result"
    },
    {
     "data": {
      "text/plain": [
       "'C:\\\\Users\\\\fralu\\\\Documents\\\\GitHub\\\\anndl\\\\image-segmentation\\\\Segmentation_Dataset\\\\training\\\\images\\\\img\\\\8646.tif'"
      ]
     },
     "execution_count": 6,
     "metadata": {},
     "output_type": "execute_result"
    },
    {
     "data": {
      "text/plain": [
       "'C:\\\\Users\\\\fralu\\\\Documents\\\\GitHub\\\\anndl\\\\image-segmentation\\\\Segmentation_Dataset\\\\training\\\\masks\\\\img\\\\8646.tif'"
      ]
     },
     "execution_count": 6,
     "metadata": {},
     "output_type": "execute_result"
    },
    {
     "data": {
      "text/plain": [
       "'C:\\\\Users\\\\fralu\\\\Documents\\\\GitHub\\\\anndl\\\\image-segmentation\\\\Segmentation_Dataset\\\\training\\\\images\\\\img\\\\8647.tif'"
      ]
     },
     "execution_count": 6,
     "metadata": {},
     "output_type": "execute_result"
    },
    {
     "data": {
      "text/plain": [
       "'C:\\\\Users\\\\fralu\\\\Documents\\\\GitHub\\\\anndl\\\\image-segmentation\\\\Segmentation_Dataset\\\\training\\\\masks\\\\img\\\\8647.tif'"
      ]
     },
     "execution_count": 6,
     "metadata": {},
     "output_type": "execute_result"
    },
    {
     "data": {
      "text/plain": [
       "'C:\\\\Users\\\\fralu\\\\Documents\\\\GitHub\\\\anndl\\\\image-segmentation\\\\Segmentation_Dataset\\\\training\\\\images\\\\img\\\\8656.tif'"
      ]
     },
     "execution_count": 6,
     "metadata": {},
     "output_type": "execute_result"
    },
    {
     "data": {
      "text/plain": [
       "'C:\\\\Users\\\\fralu\\\\Documents\\\\GitHub\\\\anndl\\\\image-segmentation\\\\Segmentation_Dataset\\\\training\\\\masks\\\\img\\\\8656.tif'"
      ]
     },
     "execution_count": 6,
     "metadata": {},
     "output_type": "execute_result"
    },
    {
     "data": {
      "text/plain": [
       "'C:\\\\Users\\\\fralu\\\\Documents\\\\GitHub\\\\anndl\\\\image-segmentation\\\\Segmentation_Dataset\\\\training\\\\images\\\\img\\\\8659.tif'"
      ]
     },
     "execution_count": 6,
     "metadata": {},
     "output_type": "execute_result"
    },
    {
     "data": {
      "text/plain": [
       "'C:\\\\Users\\\\fralu\\\\Documents\\\\GitHub\\\\anndl\\\\image-segmentation\\\\Segmentation_Dataset\\\\training\\\\masks\\\\img\\\\8659.tif'"
      ]
     },
     "execution_count": 6,
     "metadata": {},
     "output_type": "execute_result"
    },
    {
     "data": {
      "text/plain": [
       "'C:\\\\Users\\\\fralu\\\\Documents\\\\GitHub\\\\anndl\\\\image-segmentation\\\\Segmentation_Dataset\\\\training\\\\images\\\\img\\\\8671.tif'"
      ]
     },
     "execution_count": 6,
     "metadata": {},
     "output_type": "execute_result"
    },
    {
     "data": {
      "text/plain": [
       "'C:\\\\Users\\\\fralu\\\\Documents\\\\GitHub\\\\anndl\\\\image-segmentation\\\\Segmentation_Dataset\\\\training\\\\masks\\\\img\\\\8671.tif'"
      ]
     },
     "execution_count": 6,
     "metadata": {},
     "output_type": "execute_result"
    },
    {
     "data": {
      "text/plain": [
       "'C:\\\\Users\\\\fralu\\\\Documents\\\\GitHub\\\\anndl\\\\image-segmentation\\\\Segmentation_Dataset\\\\training\\\\images\\\\img\\\\8673.tif'"
      ]
     },
     "execution_count": 6,
     "metadata": {},
     "output_type": "execute_result"
    },
    {
     "data": {
      "text/plain": [
       "'C:\\\\Users\\\\fralu\\\\Documents\\\\GitHub\\\\anndl\\\\image-segmentation\\\\Segmentation_Dataset\\\\training\\\\masks\\\\img\\\\8673.tif'"
      ]
     },
     "execution_count": 6,
     "metadata": {},
     "output_type": "execute_result"
    },
    {
     "data": {
      "text/plain": [
       "'C:\\\\Users\\\\fralu\\\\Documents\\\\GitHub\\\\anndl\\\\image-segmentation\\\\Segmentation_Dataset\\\\training\\\\images\\\\img\\\\8681.tif'"
      ]
     },
     "execution_count": 6,
     "metadata": {},
     "output_type": "execute_result"
    },
    {
     "data": {
      "text/plain": [
       "'C:\\\\Users\\\\fralu\\\\Documents\\\\GitHub\\\\anndl\\\\image-segmentation\\\\Segmentation_Dataset\\\\training\\\\masks\\\\img\\\\8681.tif'"
      ]
     },
     "execution_count": 6,
     "metadata": {},
     "output_type": "execute_result"
    },
    {
     "data": {
      "text/plain": [
       "'C:\\\\Users\\\\fralu\\\\Documents\\\\GitHub\\\\anndl\\\\image-segmentation\\\\Segmentation_Dataset\\\\training\\\\images\\\\img\\\\8686.tif'"
      ]
     },
     "execution_count": 6,
     "metadata": {},
     "output_type": "execute_result"
    },
    {
     "data": {
      "text/plain": [
       "'C:\\\\Users\\\\fralu\\\\Documents\\\\GitHub\\\\anndl\\\\image-segmentation\\\\Segmentation_Dataset\\\\training\\\\masks\\\\img\\\\8686.tif'"
      ]
     },
     "execution_count": 6,
     "metadata": {},
     "output_type": "execute_result"
    },
    {
     "data": {
      "text/plain": [
       "'C:\\\\Users\\\\fralu\\\\Documents\\\\GitHub\\\\anndl\\\\image-segmentation\\\\Segmentation_Dataset\\\\training\\\\images\\\\img\\\\8691.tif'"
      ]
     },
     "execution_count": 6,
     "metadata": {},
     "output_type": "execute_result"
    },
    {
     "data": {
      "text/plain": [
       "'C:\\\\Users\\\\fralu\\\\Documents\\\\GitHub\\\\anndl\\\\image-segmentation\\\\Segmentation_Dataset\\\\training\\\\masks\\\\img\\\\8691.tif'"
      ]
     },
     "execution_count": 6,
     "metadata": {},
     "output_type": "execute_result"
    },
    {
     "data": {
      "text/plain": [
       "'C:\\\\Users\\\\fralu\\\\Documents\\\\GitHub\\\\anndl\\\\image-segmentation\\\\Segmentation_Dataset\\\\training\\\\images\\\\img\\\\8692.tif'"
      ]
     },
     "execution_count": 6,
     "metadata": {},
     "output_type": "execute_result"
    },
    {
     "data": {
      "text/plain": [
       "'C:\\\\Users\\\\fralu\\\\Documents\\\\GitHub\\\\anndl\\\\image-segmentation\\\\Segmentation_Dataset\\\\training\\\\masks\\\\img\\\\8692.tif'"
      ]
     },
     "execution_count": 6,
     "metadata": {},
     "output_type": "execute_result"
    },
    {
     "data": {
      "text/plain": [
       "'C:\\\\Users\\\\fralu\\\\Documents\\\\GitHub\\\\anndl\\\\image-segmentation\\\\Segmentation_Dataset\\\\training\\\\images\\\\img\\\\8694.tif'"
      ]
     },
     "execution_count": 6,
     "metadata": {},
     "output_type": "execute_result"
    },
    {
     "data": {
      "text/plain": [
       "'C:\\\\Users\\\\fralu\\\\Documents\\\\GitHub\\\\anndl\\\\image-segmentation\\\\Segmentation_Dataset\\\\training\\\\masks\\\\img\\\\8694.tif'"
      ]
     },
     "execution_count": 6,
     "metadata": {},
     "output_type": "execute_result"
    },
    {
     "data": {
      "text/plain": [
       "'C:\\\\Users\\\\fralu\\\\Documents\\\\GitHub\\\\anndl\\\\image-segmentation\\\\Segmentation_Dataset\\\\training\\\\images\\\\img\\\\8697.tif'"
      ]
     },
     "execution_count": 6,
     "metadata": {},
     "output_type": "execute_result"
    },
    {
     "data": {
      "text/plain": [
       "'C:\\\\Users\\\\fralu\\\\Documents\\\\GitHub\\\\anndl\\\\image-segmentation\\\\Segmentation_Dataset\\\\training\\\\masks\\\\img\\\\8697.tif'"
      ]
     },
     "execution_count": 6,
     "metadata": {},
     "output_type": "execute_result"
    },
    {
     "data": {
      "text/plain": [
       "'C:\\\\Users\\\\fralu\\\\Documents\\\\GitHub\\\\anndl\\\\image-segmentation\\\\Segmentation_Dataset\\\\training\\\\images\\\\img\\\\870.tif'"
      ]
     },
     "execution_count": 6,
     "metadata": {},
     "output_type": "execute_result"
    },
    {
     "data": {
      "text/plain": [
       "'C:\\\\Users\\\\fralu\\\\Documents\\\\GitHub\\\\anndl\\\\image-segmentation\\\\Segmentation_Dataset\\\\training\\\\masks\\\\img\\\\870.tif'"
      ]
     },
     "execution_count": 6,
     "metadata": {},
     "output_type": "execute_result"
    },
    {
     "data": {
      "text/plain": [
       "'C:\\\\Users\\\\fralu\\\\Documents\\\\GitHub\\\\anndl\\\\image-segmentation\\\\Segmentation_Dataset\\\\training\\\\images\\\\img\\\\8702.tif'"
      ]
     },
     "execution_count": 6,
     "metadata": {},
     "output_type": "execute_result"
    },
    {
     "data": {
      "text/plain": [
       "'C:\\\\Users\\\\fralu\\\\Documents\\\\GitHub\\\\anndl\\\\image-segmentation\\\\Segmentation_Dataset\\\\training\\\\masks\\\\img\\\\8702.tif'"
      ]
     },
     "execution_count": 6,
     "metadata": {},
     "output_type": "execute_result"
    },
    {
     "data": {
      "text/plain": [
       "'C:\\\\Users\\\\fralu\\\\Documents\\\\GitHub\\\\anndl\\\\image-segmentation\\\\Segmentation_Dataset\\\\training\\\\images\\\\img\\\\8704.tif'"
      ]
     },
     "execution_count": 6,
     "metadata": {},
     "output_type": "execute_result"
    },
    {
     "data": {
      "text/plain": [
       "'C:\\\\Users\\\\fralu\\\\Documents\\\\GitHub\\\\anndl\\\\image-segmentation\\\\Segmentation_Dataset\\\\training\\\\masks\\\\img\\\\8704.tif'"
      ]
     },
     "execution_count": 6,
     "metadata": {},
     "output_type": "execute_result"
    },
    {
     "data": {
      "text/plain": [
       "'C:\\\\Users\\\\fralu\\\\Documents\\\\GitHub\\\\anndl\\\\image-segmentation\\\\Segmentation_Dataset\\\\training\\\\images\\\\img\\\\8705.tif'"
      ]
     },
     "execution_count": 6,
     "metadata": {},
     "output_type": "execute_result"
    },
    {
     "data": {
      "text/plain": [
       "'C:\\\\Users\\\\fralu\\\\Documents\\\\GitHub\\\\anndl\\\\image-segmentation\\\\Segmentation_Dataset\\\\training\\\\masks\\\\img\\\\8705.tif'"
      ]
     },
     "execution_count": 6,
     "metadata": {},
     "output_type": "execute_result"
    },
    {
     "data": {
      "text/plain": [
       "'C:\\\\Users\\\\fralu\\\\Documents\\\\GitHub\\\\anndl\\\\image-segmentation\\\\Segmentation_Dataset\\\\training\\\\images\\\\img\\\\871.tif'"
      ]
     },
     "execution_count": 6,
     "metadata": {},
     "output_type": "execute_result"
    },
    {
     "data": {
      "text/plain": [
       "'C:\\\\Users\\\\fralu\\\\Documents\\\\GitHub\\\\anndl\\\\image-segmentation\\\\Segmentation_Dataset\\\\training\\\\masks\\\\img\\\\871.tif'"
      ]
     },
     "execution_count": 6,
     "metadata": {},
     "output_type": "execute_result"
    },
    {
     "data": {
      "text/plain": [
       "'C:\\\\Users\\\\fralu\\\\Documents\\\\GitHub\\\\anndl\\\\image-segmentation\\\\Segmentation_Dataset\\\\training\\\\images\\\\img\\\\88.tif'"
      ]
     },
     "execution_count": 6,
     "metadata": {},
     "output_type": "execute_result"
    },
    {
     "data": {
      "text/plain": [
       "'C:\\\\Users\\\\fralu\\\\Documents\\\\GitHub\\\\anndl\\\\image-segmentation\\\\Segmentation_Dataset\\\\training\\\\masks\\\\img\\\\88.tif'"
      ]
     },
     "execution_count": 6,
     "metadata": {},
     "output_type": "execute_result"
    },
    {
     "data": {
      "text/plain": [
       "'C:\\\\Users\\\\fralu\\\\Documents\\\\GitHub\\\\anndl\\\\image-segmentation\\\\Segmentation_Dataset\\\\training\\\\images\\\\img\\\\880.tif'"
      ]
     },
     "execution_count": 6,
     "metadata": {},
     "output_type": "execute_result"
    },
    {
     "data": {
      "text/plain": [
       "'C:\\\\Users\\\\fralu\\\\Documents\\\\GitHub\\\\anndl\\\\image-segmentation\\\\Segmentation_Dataset\\\\training\\\\masks\\\\img\\\\880.tif'"
      ]
     },
     "execution_count": 6,
     "metadata": {},
     "output_type": "execute_result"
    },
    {
     "data": {
      "text/plain": [
       "'C:\\\\Users\\\\fralu\\\\Documents\\\\GitHub\\\\anndl\\\\image-segmentation\\\\Segmentation_Dataset\\\\training\\\\images\\\\img\\\\8801.tif'"
      ]
     },
     "execution_count": 6,
     "metadata": {},
     "output_type": "execute_result"
    },
    {
     "data": {
      "text/plain": [
       "'C:\\\\Users\\\\fralu\\\\Documents\\\\GitHub\\\\anndl\\\\image-segmentation\\\\Segmentation_Dataset\\\\training\\\\masks\\\\img\\\\8801.tif'"
      ]
     },
     "execution_count": 6,
     "metadata": {},
     "output_type": "execute_result"
    },
    {
     "data": {
      "text/plain": [
       "'C:\\\\Users\\\\fralu\\\\Documents\\\\GitHub\\\\anndl\\\\image-segmentation\\\\Segmentation_Dataset\\\\training\\\\images\\\\img\\\\8806.tif'"
      ]
     },
     "execution_count": 6,
     "metadata": {},
     "output_type": "execute_result"
    },
    {
     "data": {
      "text/plain": [
       "'C:\\\\Users\\\\fralu\\\\Documents\\\\GitHub\\\\anndl\\\\image-segmentation\\\\Segmentation_Dataset\\\\training\\\\masks\\\\img\\\\8806.tif'"
      ]
     },
     "execution_count": 6,
     "metadata": {},
     "output_type": "execute_result"
    },
    {
     "data": {
      "text/plain": [
       "'C:\\\\Users\\\\fralu\\\\Documents\\\\GitHub\\\\anndl\\\\image-segmentation\\\\Segmentation_Dataset\\\\training\\\\images\\\\img\\\\8809.tif'"
      ]
     },
     "execution_count": 6,
     "metadata": {},
     "output_type": "execute_result"
    },
    {
     "data": {
      "text/plain": [
       "'C:\\\\Users\\\\fralu\\\\Documents\\\\GitHub\\\\anndl\\\\image-segmentation\\\\Segmentation_Dataset\\\\training\\\\masks\\\\img\\\\8809.tif'"
      ]
     },
     "execution_count": 6,
     "metadata": {},
     "output_type": "execute_result"
    },
    {
     "data": {
      "text/plain": [
       "'C:\\\\Users\\\\fralu\\\\Documents\\\\GitHub\\\\anndl\\\\image-segmentation\\\\Segmentation_Dataset\\\\training\\\\images\\\\img\\\\8813.tif'"
      ]
     },
     "execution_count": 6,
     "metadata": {},
     "output_type": "execute_result"
    },
    {
     "data": {
      "text/plain": [
       "'C:\\\\Users\\\\fralu\\\\Documents\\\\GitHub\\\\anndl\\\\image-segmentation\\\\Segmentation_Dataset\\\\training\\\\masks\\\\img\\\\8813.tif'"
      ]
     },
     "execution_count": 6,
     "metadata": {},
     "output_type": "execute_result"
    },
    {
     "data": {
      "text/plain": [
       "'C:\\\\Users\\\\fralu\\\\Documents\\\\GitHub\\\\anndl\\\\image-segmentation\\\\Segmentation_Dataset\\\\training\\\\images\\\\img\\\\8815.tif'"
      ]
     },
     "execution_count": 6,
     "metadata": {},
     "output_type": "execute_result"
    },
    {
     "data": {
      "text/plain": [
       "'C:\\\\Users\\\\fralu\\\\Documents\\\\GitHub\\\\anndl\\\\image-segmentation\\\\Segmentation_Dataset\\\\training\\\\masks\\\\img\\\\8815.tif'"
      ]
     },
     "execution_count": 6,
     "metadata": {},
     "output_type": "execute_result"
    },
    {
     "data": {
      "text/plain": [
       "'C:\\\\Users\\\\fralu\\\\Documents\\\\GitHub\\\\anndl\\\\image-segmentation\\\\Segmentation_Dataset\\\\training\\\\images\\\\img\\\\8817.tif'"
      ]
     },
     "execution_count": 6,
     "metadata": {},
     "output_type": "execute_result"
    },
    {
     "data": {
      "text/plain": [
       "'C:\\\\Users\\\\fralu\\\\Documents\\\\GitHub\\\\anndl\\\\image-segmentation\\\\Segmentation_Dataset\\\\training\\\\masks\\\\img\\\\8817.tif'"
      ]
     },
     "execution_count": 6,
     "metadata": {},
     "output_type": "execute_result"
    },
    {
     "data": {
      "text/plain": [
       "'C:\\\\Users\\\\fralu\\\\Documents\\\\GitHub\\\\anndl\\\\image-segmentation\\\\Segmentation_Dataset\\\\training\\\\images\\\\img\\\\8818.tif'"
      ]
     },
     "execution_count": 6,
     "metadata": {},
     "output_type": "execute_result"
    },
    {
     "data": {
      "text/plain": [
       "'C:\\\\Users\\\\fralu\\\\Documents\\\\GitHub\\\\anndl\\\\image-segmentation\\\\Segmentation_Dataset\\\\training\\\\masks\\\\img\\\\8818.tif'"
      ]
     },
     "execution_count": 6,
     "metadata": {},
     "output_type": "execute_result"
    },
    {
     "data": {
      "text/plain": [
       "'C:\\\\Users\\\\fralu\\\\Documents\\\\GitHub\\\\anndl\\\\image-segmentation\\\\Segmentation_Dataset\\\\training\\\\images\\\\img\\\\8819.tif'"
      ]
     },
     "execution_count": 6,
     "metadata": {},
     "output_type": "execute_result"
    },
    {
     "data": {
      "text/plain": [
       "'C:\\\\Users\\\\fralu\\\\Documents\\\\GitHub\\\\anndl\\\\image-segmentation\\\\Segmentation_Dataset\\\\training\\\\masks\\\\img\\\\8819.tif'"
      ]
     },
     "execution_count": 6,
     "metadata": {},
     "output_type": "execute_result"
    },
    {
     "data": {
      "text/plain": [
       "'C:\\\\Users\\\\fralu\\\\Documents\\\\GitHub\\\\anndl\\\\image-segmentation\\\\Segmentation_Dataset\\\\training\\\\images\\\\img\\\\8822.tif'"
      ]
     },
     "execution_count": 6,
     "metadata": {},
     "output_type": "execute_result"
    },
    {
     "data": {
      "text/plain": [
       "'C:\\\\Users\\\\fralu\\\\Documents\\\\GitHub\\\\anndl\\\\image-segmentation\\\\Segmentation_Dataset\\\\training\\\\masks\\\\img\\\\8822.tif'"
      ]
     },
     "execution_count": 6,
     "metadata": {},
     "output_type": "execute_result"
    },
    {
     "data": {
      "text/plain": [
       "'C:\\\\Users\\\\fralu\\\\Documents\\\\GitHub\\\\anndl\\\\image-segmentation\\\\Segmentation_Dataset\\\\training\\\\images\\\\img\\\\883.tif'"
      ]
     },
     "execution_count": 6,
     "metadata": {},
     "output_type": "execute_result"
    },
    {
     "data": {
      "text/plain": [
       "'C:\\\\Users\\\\fralu\\\\Documents\\\\GitHub\\\\anndl\\\\image-segmentation\\\\Segmentation_Dataset\\\\training\\\\masks\\\\img\\\\883.tif'"
      ]
     },
     "execution_count": 6,
     "metadata": {},
     "output_type": "execute_result"
    },
    {
     "data": {
      "text/plain": [
       "'C:\\\\Users\\\\fralu\\\\Documents\\\\GitHub\\\\anndl\\\\image-segmentation\\\\Segmentation_Dataset\\\\training\\\\images\\\\img\\\\885.tif'"
      ]
     },
     "execution_count": 6,
     "metadata": {},
     "output_type": "execute_result"
    },
    {
     "data": {
      "text/plain": [
       "'C:\\\\Users\\\\fralu\\\\Documents\\\\GitHub\\\\anndl\\\\image-segmentation\\\\Segmentation_Dataset\\\\training\\\\masks\\\\img\\\\885.tif'"
      ]
     },
     "execution_count": 6,
     "metadata": {},
     "output_type": "execute_result"
    },
    {
     "data": {
      "text/plain": [
       "'C:\\\\Users\\\\fralu\\\\Documents\\\\GitHub\\\\anndl\\\\image-segmentation\\\\Segmentation_Dataset\\\\training\\\\images\\\\img\\\\8850.tif'"
      ]
     },
     "execution_count": 6,
     "metadata": {},
     "output_type": "execute_result"
    },
    {
     "data": {
      "text/plain": [
       "'C:\\\\Users\\\\fralu\\\\Documents\\\\GitHub\\\\anndl\\\\image-segmentation\\\\Segmentation_Dataset\\\\training\\\\masks\\\\img\\\\8850.tif'"
      ]
     },
     "execution_count": 6,
     "metadata": {},
     "output_type": "execute_result"
    },
    {
     "data": {
      "text/plain": [
       "'C:\\\\Users\\\\fralu\\\\Documents\\\\GitHub\\\\anndl\\\\image-segmentation\\\\Segmentation_Dataset\\\\training\\\\images\\\\img\\\\8855.tif'"
      ]
     },
     "execution_count": 6,
     "metadata": {},
     "output_type": "execute_result"
    },
    {
     "data": {
      "text/plain": [
       "'C:\\\\Users\\\\fralu\\\\Documents\\\\GitHub\\\\anndl\\\\image-segmentation\\\\Segmentation_Dataset\\\\training\\\\masks\\\\img\\\\8855.tif'"
      ]
     },
     "execution_count": 6,
     "metadata": {},
     "output_type": "execute_result"
    },
    {
     "data": {
      "text/plain": [
       "'C:\\\\Users\\\\fralu\\\\Documents\\\\GitHub\\\\anndl\\\\image-segmentation\\\\Segmentation_Dataset\\\\training\\\\images\\\\img\\\\8861.tif'"
      ]
     },
     "execution_count": 6,
     "metadata": {},
     "output_type": "execute_result"
    },
    {
     "data": {
      "text/plain": [
       "'C:\\\\Users\\\\fralu\\\\Documents\\\\GitHub\\\\anndl\\\\image-segmentation\\\\Segmentation_Dataset\\\\training\\\\masks\\\\img\\\\8861.tif'"
      ]
     },
     "execution_count": 6,
     "metadata": {},
     "output_type": "execute_result"
    },
    {
     "data": {
      "text/plain": [
       "'C:\\\\Users\\\\fralu\\\\Documents\\\\GitHub\\\\anndl\\\\image-segmentation\\\\Segmentation_Dataset\\\\training\\\\images\\\\img\\\\8863.tif'"
      ]
     },
     "execution_count": 6,
     "metadata": {},
     "output_type": "execute_result"
    },
    {
     "data": {
      "text/plain": [
       "'C:\\\\Users\\\\fralu\\\\Documents\\\\GitHub\\\\anndl\\\\image-segmentation\\\\Segmentation_Dataset\\\\training\\\\masks\\\\img\\\\8863.tif'"
      ]
     },
     "execution_count": 6,
     "metadata": {},
     "output_type": "execute_result"
    },
    {
     "data": {
      "text/plain": [
       "'C:\\\\Users\\\\fralu\\\\Documents\\\\GitHub\\\\anndl\\\\image-segmentation\\\\Segmentation_Dataset\\\\training\\\\images\\\\img\\\\8864.tif'"
      ]
     },
     "execution_count": 6,
     "metadata": {},
     "output_type": "execute_result"
    },
    {
     "data": {
      "text/plain": [
       "'C:\\\\Users\\\\fralu\\\\Documents\\\\GitHub\\\\anndl\\\\image-segmentation\\\\Segmentation_Dataset\\\\training\\\\masks\\\\img\\\\8864.tif'"
      ]
     },
     "execution_count": 6,
     "metadata": {},
     "output_type": "execute_result"
    },
    {
     "data": {
      "text/plain": [
       "'C:\\\\Users\\\\fralu\\\\Documents\\\\GitHub\\\\anndl\\\\image-segmentation\\\\Segmentation_Dataset\\\\training\\\\images\\\\img\\\\8866.tif'"
      ]
     },
     "execution_count": 6,
     "metadata": {},
     "output_type": "execute_result"
    },
    {
     "data": {
      "text/plain": [
       "'C:\\\\Users\\\\fralu\\\\Documents\\\\GitHub\\\\anndl\\\\image-segmentation\\\\Segmentation_Dataset\\\\training\\\\masks\\\\img\\\\8866.tif'"
      ]
     },
     "execution_count": 6,
     "metadata": {},
     "output_type": "execute_result"
    },
    {
     "data": {
      "text/plain": [
       "'C:\\\\Users\\\\fralu\\\\Documents\\\\GitHub\\\\anndl\\\\image-segmentation\\\\Segmentation_Dataset\\\\training\\\\images\\\\img\\\\887.tif'"
      ]
     },
     "execution_count": 6,
     "metadata": {},
     "output_type": "execute_result"
    },
    {
     "data": {
      "text/plain": [
       "'C:\\\\Users\\\\fralu\\\\Documents\\\\GitHub\\\\anndl\\\\image-segmentation\\\\Segmentation_Dataset\\\\training\\\\masks\\\\img\\\\887.tif'"
      ]
     },
     "execution_count": 6,
     "metadata": {},
     "output_type": "execute_result"
    },
    {
     "data": {
      "text/plain": [
       "'C:\\\\Users\\\\fralu\\\\Documents\\\\GitHub\\\\anndl\\\\image-segmentation\\\\Segmentation_Dataset\\\\training\\\\images\\\\img\\\\8875.tif'"
      ]
     },
     "execution_count": 6,
     "metadata": {},
     "output_type": "execute_result"
    },
    {
     "data": {
      "text/plain": [
       "'C:\\\\Users\\\\fralu\\\\Documents\\\\GitHub\\\\anndl\\\\image-segmentation\\\\Segmentation_Dataset\\\\training\\\\masks\\\\img\\\\8875.tif'"
      ]
     },
     "execution_count": 6,
     "metadata": {},
     "output_type": "execute_result"
    },
    {
     "data": {
      "text/plain": [
       "'C:\\\\Users\\\\fralu\\\\Documents\\\\GitHub\\\\anndl\\\\image-segmentation\\\\Segmentation_Dataset\\\\training\\\\images\\\\img\\\\8876.tif'"
      ]
     },
     "execution_count": 6,
     "metadata": {},
     "output_type": "execute_result"
    },
    {
     "data": {
      "text/plain": [
       "'C:\\\\Users\\\\fralu\\\\Documents\\\\GitHub\\\\anndl\\\\image-segmentation\\\\Segmentation_Dataset\\\\training\\\\masks\\\\img\\\\8876.tif'"
      ]
     },
     "execution_count": 6,
     "metadata": {},
     "output_type": "execute_result"
    },
    {
     "data": {
      "text/plain": [
       "'C:\\\\Users\\\\fralu\\\\Documents\\\\GitHub\\\\anndl\\\\image-segmentation\\\\Segmentation_Dataset\\\\training\\\\images\\\\img\\\\8877.tif'"
      ]
     },
     "execution_count": 6,
     "metadata": {},
     "output_type": "execute_result"
    },
    {
     "data": {
      "text/plain": [
       "'C:\\\\Users\\\\fralu\\\\Documents\\\\GitHub\\\\anndl\\\\image-segmentation\\\\Segmentation_Dataset\\\\training\\\\masks\\\\img\\\\8877.tif'"
      ]
     },
     "execution_count": 6,
     "metadata": {},
     "output_type": "execute_result"
    },
    {
     "data": {
      "text/plain": [
       "'C:\\\\Users\\\\fralu\\\\Documents\\\\GitHub\\\\anndl\\\\image-segmentation\\\\Segmentation_Dataset\\\\training\\\\images\\\\img\\\\8878.tif'"
      ]
     },
     "execution_count": 6,
     "metadata": {},
     "output_type": "execute_result"
    },
    {
     "data": {
      "text/plain": [
       "'C:\\\\Users\\\\fralu\\\\Documents\\\\GitHub\\\\anndl\\\\image-segmentation\\\\Segmentation_Dataset\\\\training\\\\masks\\\\img\\\\8878.tif'"
      ]
     },
     "execution_count": 6,
     "metadata": {},
     "output_type": "execute_result"
    },
    {
     "data": {
      "text/plain": [
       "'C:\\\\Users\\\\fralu\\\\Documents\\\\GitHub\\\\anndl\\\\image-segmentation\\\\Segmentation_Dataset\\\\training\\\\images\\\\img\\\\890.tif'"
      ]
     },
     "execution_count": 6,
     "metadata": {},
     "output_type": "execute_result"
    },
    {
     "data": {
      "text/plain": [
       "'C:\\\\Users\\\\fralu\\\\Documents\\\\GitHub\\\\anndl\\\\image-segmentation\\\\Segmentation_Dataset\\\\training\\\\masks\\\\img\\\\890.tif'"
      ]
     },
     "execution_count": 6,
     "metadata": {},
     "output_type": "execute_result"
    },
    {
     "data": {
      "text/plain": [
       "'C:\\\\Users\\\\fralu\\\\Documents\\\\GitHub\\\\anndl\\\\image-segmentation\\\\Segmentation_Dataset\\\\training\\\\images\\\\img\\\\895.tif'"
      ]
     },
     "execution_count": 6,
     "metadata": {},
     "output_type": "execute_result"
    },
    {
     "data": {
      "text/plain": [
       "'C:\\\\Users\\\\fralu\\\\Documents\\\\GitHub\\\\anndl\\\\image-segmentation\\\\Segmentation_Dataset\\\\training\\\\masks\\\\img\\\\895.tif'"
      ]
     },
     "execution_count": 6,
     "metadata": {},
     "output_type": "execute_result"
    },
    {
     "data": {
      "text/plain": [
       "'C:\\\\Users\\\\fralu\\\\Documents\\\\GitHub\\\\anndl\\\\image-segmentation\\\\Segmentation_Dataset\\\\training\\\\images\\\\img\\\\898.tif'"
      ]
     },
     "execution_count": 6,
     "metadata": {},
     "output_type": "execute_result"
    },
    {
     "data": {
      "text/plain": [
       "'C:\\\\Users\\\\fralu\\\\Documents\\\\GitHub\\\\anndl\\\\image-segmentation\\\\Segmentation_Dataset\\\\training\\\\masks\\\\img\\\\898.tif'"
      ]
     },
     "execution_count": 6,
     "metadata": {},
     "output_type": "execute_result"
    },
    {
     "data": {
      "text/plain": [
       "'C:\\\\Users\\\\fralu\\\\Documents\\\\GitHub\\\\anndl\\\\image-segmentation\\\\Segmentation_Dataset\\\\training\\\\images\\\\img\\\\901.tif'"
      ]
     },
     "execution_count": 6,
     "metadata": {},
     "output_type": "execute_result"
    },
    {
     "data": {
      "text/plain": [
       "'C:\\\\Users\\\\fralu\\\\Documents\\\\GitHub\\\\anndl\\\\image-segmentation\\\\Segmentation_Dataset\\\\training\\\\masks\\\\img\\\\901.tif'"
      ]
     },
     "execution_count": 6,
     "metadata": {},
     "output_type": "execute_result"
    },
    {
     "data": {
      "text/plain": [
       "'C:\\\\Users\\\\fralu\\\\Documents\\\\GitHub\\\\anndl\\\\image-segmentation\\\\Segmentation_Dataset\\\\training\\\\images\\\\img\\\\910.tif'"
      ]
     },
     "execution_count": 6,
     "metadata": {},
     "output_type": "execute_result"
    },
    {
     "data": {
      "text/plain": [
       "'C:\\\\Users\\\\fralu\\\\Documents\\\\GitHub\\\\anndl\\\\image-segmentation\\\\Segmentation_Dataset\\\\training\\\\masks\\\\img\\\\910.tif'"
      ]
     },
     "execution_count": 6,
     "metadata": {},
     "output_type": "execute_result"
    },
    {
     "data": {
      "text/plain": [
       "'C:\\\\Users\\\\fralu\\\\Documents\\\\GitHub\\\\anndl\\\\image-segmentation\\\\Segmentation_Dataset\\\\training\\\\images\\\\img\\\\92.tif'"
      ]
     },
     "execution_count": 6,
     "metadata": {},
     "output_type": "execute_result"
    },
    {
     "data": {
      "text/plain": [
       "'C:\\\\Users\\\\fralu\\\\Documents\\\\GitHub\\\\anndl\\\\image-segmentation\\\\Segmentation_Dataset\\\\training\\\\masks\\\\img\\\\92.tif'"
      ]
     },
     "execution_count": 6,
     "metadata": {},
     "output_type": "execute_result"
    },
    {
     "data": {
      "text/plain": [
       "'C:\\\\Users\\\\fralu\\\\Documents\\\\GitHub\\\\anndl\\\\image-segmentation\\\\Segmentation_Dataset\\\\training\\\\images\\\\img\\\\969.tif'"
      ]
     },
     "execution_count": 6,
     "metadata": {},
     "output_type": "execute_result"
    },
    {
     "data": {
      "text/plain": [
       "'C:\\\\Users\\\\fralu\\\\Documents\\\\GitHub\\\\anndl\\\\image-segmentation\\\\Segmentation_Dataset\\\\training\\\\masks\\\\img\\\\969.tif'"
      ]
     },
     "execution_count": 6,
     "metadata": {},
     "output_type": "execute_result"
    },
    {
     "data": {
      "text/plain": [
       "'C:\\\\Users\\\\fralu\\\\Documents\\\\GitHub\\\\anndl\\\\image-segmentation\\\\Segmentation_Dataset\\\\training\\\\images\\\\img\\\\971.tif'"
      ]
     },
     "execution_count": 6,
     "metadata": {},
     "output_type": "execute_result"
    },
    {
     "data": {
      "text/plain": [
       "'C:\\\\Users\\\\fralu\\\\Documents\\\\GitHub\\\\anndl\\\\image-segmentation\\\\Segmentation_Dataset\\\\training\\\\masks\\\\img\\\\971.tif'"
      ]
     },
     "execution_count": 6,
     "metadata": {},
     "output_type": "execute_result"
    },
    {
     "data": {
      "text/plain": [
       "'C:\\\\Users\\\\fralu\\\\Documents\\\\GitHub\\\\anndl\\\\image-segmentation\\\\Segmentation_Dataset\\\\training\\\\images\\\\img\\\\974.tif'"
      ]
     },
     "execution_count": 6,
     "metadata": {},
     "output_type": "execute_result"
    },
    {
     "data": {
      "text/plain": [
       "'C:\\\\Users\\\\fralu\\\\Documents\\\\GitHub\\\\anndl\\\\image-segmentation\\\\Segmentation_Dataset\\\\training\\\\masks\\\\img\\\\974.tif'"
      ]
     },
     "execution_count": 6,
     "metadata": {},
     "output_type": "execute_result"
    },
    {
     "data": {
      "text/plain": [
       "'C:\\\\Users\\\\fralu\\\\Documents\\\\GitHub\\\\anndl\\\\image-segmentation\\\\Segmentation_Dataset\\\\training\\\\images\\\\img\\\\975.tif'"
      ]
     },
     "execution_count": 6,
     "metadata": {},
     "output_type": "execute_result"
    },
    {
     "data": {
      "text/plain": [
       "'C:\\\\Users\\\\fralu\\\\Documents\\\\GitHub\\\\anndl\\\\image-segmentation\\\\Segmentation_Dataset\\\\training\\\\masks\\\\img\\\\975.tif'"
      ]
     },
     "execution_count": 6,
     "metadata": {},
     "output_type": "execute_result"
    },
    {
     "data": {
      "text/plain": [
       "'C:\\\\Users\\\\fralu\\\\Documents\\\\GitHub\\\\anndl\\\\image-segmentation\\\\Segmentation_Dataset\\\\training\\\\images\\\\img\\\\983.tif'"
      ]
     },
     "execution_count": 6,
     "metadata": {},
     "output_type": "execute_result"
    },
    {
     "data": {
      "text/plain": [
       "'C:\\\\Users\\\\fralu\\\\Documents\\\\GitHub\\\\anndl\\\\image-segmentation\\\\Segmentation_Dataset\\\\training\\\\masks\\\\img\\\\983.tif'"
      ]
     },
     "execution_count": 6,
     "metadata": {},
     "output_type": "execute_result"
    },
    {
     "data": {
      "text/plain": [
       "'C:\\\\Users\\\\fralu\\\\Documents\\\\GitHub\\\\anndl\\\\image-segmentation\\\\Segmentation_Dataset\\\\training\\\\images\\\\img\\\\985.tif'"
      ]
     },
     "execution_count": 6,
     "metadata": {},
     "output_type": "execute_result"
    },
    {
     "data": {
      "text/plain": [
       "'C:\\\\Users\\\\fralu\\\\Documents\\\\GitHub\\\\anndl\\\\image-segmentation\\\\Segmentation_Dataset\\\\training\\\\masks\\\\img\\\\985.tif'"
      ]
     },
     "execution_count": 6,
     "metadata": {},
     "output_type": "execute_result"
    },
    {
     "data": {
      "text/plain": [
       "'C:\\\\Users\\\\fralu\\\\Documents\\\\GitHub\\\\anndl\\\\image-segmentation\\\\Segmentation_Dataset\\\\training\\\\images\\\\img\\\\991.tif'"
      ]
     },
     "execution_count": 6,
     "metadata": {},
     "output_type": "execute_result"
    },
    {
     "data": {
      "text/plain": [
       "'C:\\\\Users\\\\fralu\\\\Documents\\\\GitHub\\\\anndl\\\\image-segmentation\\\\Segmentation_Dataset\\\\training\\\\masks\\\\img\\\\991.tif'"
      ]
     },
     "execution_count": 6,
     "metadata": {},
     "output_type": "execute_result"
    },
    {
     "data": {
      "text/plain": [
       "'C:\\\\Users\\\\fralu\\\\Documents\\\\GitHub\\\\anndl\\\\image-segmentation\\\\Segmentation_Dataset\\\\training\\\\images\\\\img\\\\996.tif'"
      ]
     },
     "execution_count": 6,
     "metadata": {},
     "output_type": "execute_result"
    },
    {
     "data": {
      "text/plain": [
       "'C:\\\\Users\\\\fralu\\\\Documents\\\\GitHub\\\\anndl\\\\image-segmentation\\\\Segmentation_Dataset\\\\training\\\\masks\\\\img\\\\996.tif'"
      ]
     },
     "execution_count": 6,
     "metadata": {},
     "output_type": "execute_result"
    }
   ],
   "source": [
    "for subdir, dirs, files in os.walk(os.path.join(validation_dir, 'images', 'img')):\n",
    "    for file in files:\n",
    "        shutil.move(os.path.join(subdir, file), os.path.join(images_dir, file))\n",
    "        shutil.move(os.path.join(validation_dir, 'masks', 'img', file), os.path.join(masks_dir, file))\n",
    "        \n",
    "shutil.rmtree(validation_dir)"
   ]
  },
  {
   "cell_type": "markdown",
   "metadata": {},
   "source": [
    "Compute Prediction\n",
    "---"
   ]
  },
  {
   "cell_type": "code",
   "execution_count": null,
   "metadata": {},
   "outputs": [],
   "source": [
    "import time\n",
    "import matplotlib.pyplot as plt\n",
    "\n",
    "from PIL import Image\n",
    "\n",
    "%matplotlib notebook\n",
    "\n",
    "# Cycle over test images\n",
    "test_dir = os.path.join(dataset_dir, 'test')\n",
    "test_img_dir = os.path.join(test_dir, 'images', 'img')"
   ]
  },
  {
   "cell_type": "markdown",
   "metadata": {},
   "source": [
    "CSV File Creation\n",
    "---"
   ]
  },
  {
   "cell_type": "code",
   "execution_count": null,
   "metadata": {},
   "outputs": [],
   "source": [
    "import os\n",
    "from datetime import datetime\n",
    "\n",
    "def create_csv(results, results_dir='./'):\n",
    "\n",
    "    csv_fname = 'results_'\n",
    "    csv_fname += datetime.now().strftime('%b%d_%H-%M-%S') + '.csv'\n",
    "\n",
    "    with open(csv_fname, 'w') as f:\n",
    "\n",
    "      f.write('ImageId,EncodedPixels,Width,Height\\n')\n",
    "\n",
    "      for key, value in results.items():\n",
    "        value\n",
    "        f.write(key + ',' + str(value) + ',' + '256' + ',' + '256' + '\\n')"
   ]
  },
  {
   "cell_type": "markdown",
   "metadata": {},
   "source": [
    "Image Flatten Codification\n",
    "----"
   ]
  },
  {
   "cell_type": "code",
   "execution_count": null,
   "metadata": {},
   "outputs": [],
   "source": [
    "def rle_encode(img):\n",
    "    # Flatten column-wise\n",
    "    pixels = img.T.flatten()\n",
    "    pixels\n",
    "    pixels = np.concatenate([[0], pixels, [0]])\n",
    "    pixels\n",
    "    runs = np.where(pixels[1:] != pixels[:-1])[0] + 1\n",
    "    runs\n",
    "    runs[1::2] -= runs[::2]\n",
    "    runs\n",
    "    return ' '.join(str(x) for x in runs)"
   ]
  },
  {
   "cell_type": "markdown",
   "metadata": {},
   "source": [
    "Model Predictions\n",
    "---"
   ]
  },
  {
   "cell_type": "code",
   "execution_count": null,
   "metadata": {},
   "outputs": [],
   "source": [
    "img_filenames = next(os.walk(test_img_dir))[2]\n",
    "\n",
    "fig, ax = plt.subplots(1, 2, figsize=(8, 8))\n",
    "fig.show()\n",
    "\n",
    "# Assign a color to each class\n",
    "colors_dict = {}\n",
    "colors_dict[1] = [255, 255, 255] # foreground\n",
    "colors_dict[0] = [0, 0, 0]      # background\n",
    "\n",
    "results={}\n",
    "i=1\n",
    "for img_filename in img_filenames:\n",
    "    \n",
    "    \n",
    "    img = Image.open(os.path.join(test_img_dir, img_filename))\n",
    "    img = img.resize((256, 256))\n",
    "    \n",
    "    img_arr = np.expand_dims(np.array(img), 0)\n",
    "    \n",
    "    out_sigmoid = model.predict(x=img_arr / 255.)\n",
    "    \n",
    "    # Get predicted class as the index corresponding to the maximum value in the vector probability\n",
    "    predicted_class = tf.argmax(out_sigmoid, -1)\n",
    "    predicted_class = predicted_class[0]\n",
    "    \n",
    "    # Assign colors (just for visualization)\n",
    "    prediction_img = np.zeros([predicted_class.shape[0], predicted_class.shape[1], 3])\n",
    "    \n",
    "    prediction_img[np.where(predicted_class == 0)] = colors_dict[0]\n",
    "    prediction_img[np.where(predicted_class == 1)] = colors_dict[1]\n",
    "    \n",
    "    runs = rle_encode(prediction_img)\n",
    "    results[img_filename[:-4]] = runs\n",
    "    print(i)\n",
    "    i+=1\n",
    "    \n",
    "    ax[0].imshow(np.uint8(img_arr[0, ...]))\n",
    "    ax[1].imshow(np.uint8(prediction_img))\n",
    "    \n",
    "    fig.canvas.draw()\n",
    "    time.sleep(2)\n",
    "\n",
    "create_csv(results)    "
   ]
  }
 ],
 "metadata": {
  "kernelspec": {
   "display_name": "Python 3",
   "language": "python",
   "name": "python3"
  },
  "language_info": {
   "codemirror_mode": {
    "name": "ipython",
    "version": 3
   },
   "file_extension": ".py",
   "mimetype": "text/x-python",
   "name": "python",
   "nbconvert_exporter": "python",
   "pygments_lexer": "ipython3",
   "version": "3.7.5"
  }
 },
 "nbformat": 4,
 "nbformat_minor": 1
}
