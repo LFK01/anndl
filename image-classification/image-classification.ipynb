{
 "cells": [
  {
   "cell_type": "code",
   "execution_count": 4,
   "metadata": {},
   "outputs": [],
   "source": [
    "from IPython.core.interactiveshell import InteractiveShell\n",
    "InteractiveShell.ast_node_interactivity = \"all\""
   ]
  },
  {
   "cell_type": "code",
   "execution_count": 5,
   "metadata": {},
   "outputs": [],
   "source": [
    "import os\n",
    "import tensorflow as tf\n",
    "import numpy as np\n",
    "\n",
    "# Set the seed for random operations. \n",
    "# This let our experiments to be reproducible. \n",
    "SEED = 1234\n",
    "tf.random.set_seed(SEED)  \n",
    "\n",
    "# Get current working directory\n",
    "cwd = os.getcwd()\n",
    "\n",
    "# Set GPU memory growth\n",
    "# Allows to only as much GPU memory as needed\n",
    "#gpus = tf.config.experimental.list_physical_devices('GPU')\n",
    "#if gpus:\n",
    "#  try:\n",
    "    # Currently, memory growth needs to be the same across GPUs\n",
    "#    for gpu in gpus:\n",
    "#      tf.config.experimental.set_memory_growth(gpu, True)\n",
    "#    logical_gpus = tf.config.experimental.list_logical_devices('GPU')\n",
    "#    print(len(gpus), \"Physical GPUs,\", len(logical_gpus), \"Logical GPUs\")\n",
    "#  except RuntimeError as e:\n",
    "    # Memory growth must be set before GPUs have been initialized\n",
    "#    print(e)"
   ]
  },
  {
   "cell_type": "code",
   "execution_count": 6,
   "metadata": {},
   "outputs": [],
   "source": [
    "# ImageDataGenerator\n",
    "# ------------------\n",
    "import shutil\n",
    "import numpy as np\n",
    "from tensorflow.keras.preprocessing.image import ImageDataGenerator\n",
    "\n",
    "dataset_dir = os.path.join(cwd, 'Classification_Dataset')\n",
    "training_dir = os.path.join(dataset_dir, 'training')\n",
    "validation_dir = os.path.join(dataset_dir, 'validation')"
   ]
  },
  {
   "cell_type": "code",
   "execution_count": null,
   "metadata": {},
   "outputs": [],
   "source": [
    "if not os.path.exists(validation_dir):\n",
    "    os.mkdir(validation_dir)\n",
    "    \n",
    "\n",
    "\n",
    "for subdir, dirs, files in os.walk(training_dir):\n",
    "    for file in files:\n",
    "        class_dir = os.path.basename(subdir)\n",
    "        if not os.path.exists(os.path.join(validation_dir, class_dir)):\n",
    "            os.mkdir(os.path.join(validation_dir, class_dir))\n",
    "        if np.random.rand(1) < 0.2:\n",
    "            shutil.move(os.path.join(subdir, file), os.path.join(validation_dir, class_dir, file))    \n",
    "\n",
    "\n",
    "apply_data_augmentation = True\n",
    "if apply_data_augmentation:\n",
    "    train_data_gen = ImageDataGenerator(rotation_range=10,\n",
    "                                        width_shift_range=10,\n",
    "                                        height_shift_range=10,\n",
    "                                        zoom_range=0.3,\n",
    "                                        horizontal_flip=True,\n",
    "                                        vertical_flip=False,\n",
    "                                        fill_mode='constant',\n",
    "                                        cval=0,\n",
    "                                        rescale=1./255)\n",
    "\n",
    "# Create validation and test ImageDataGenerator objects\n",
    "valid_data_gen = ImageDataGenerator(rescale=1./255)"
   ]
  },
  {
   "cell_type": "code",
   "execution_count": null,
   "metadata": {},
   "outputs": [],
   "source": [
    "# Create generators to read images from dataset directory\n",
    "# -------------------------------------------------------\n",
    "\n",
    "# Batch size\n",
    "bs = 8\n",
    "\n",
    "# img shape, competition dataset does not have regular shapes, must search a method to solve\n",
    "img_h = 256\n",
    "img_w = 256\n",
    "\n",
    "num_classes = 20\n",
    "\n",
    "decide_class_indices = True\n",
    "if decide_class_indices:\n",
    "    class_list = ['owl', # 0\n",
    "               'galaxy', # 1\n",
    "               'lightning', # 2\n",
    "               'wine-bottle', # 3\n",
    "               't-shirt', # 4\n",
    "               'waterfall', # 5\n",
    "               'sword', # 6\n",
    "               'school-bus', # 7\n",
    "               'calculator', # 8\n",
    "               'sheet-music', # 9\n",
    "               'airplanes', # 10\n",
    "               'lightbulb', # 11\n",
    "               'skyscraper', # 12\n",
    "               'mountain-bike', # 13\n",
    "               'fireworks', # 14\n",
    "               'computer-monitor', # 15\n",
    "               'bear', # 16\n",
    "               'grand-piano', # 17\n",
    "               'kangaroo', # 18\n",
    "               'laptop'] # 19\n",
    "else:\n",
    "    classes = None\n",
    "\n",
    "# Training\n",
    "\n",
    "train_gen = train_data_gen.flow_from_directory(training_dir,\n",
    "                                               target_size=(img_h, img_w),\n",
    "                                               batch_size=bs,\n",
    "                                               classes=class_list,\n",
    "                                               class_mode='categorical',\n",
    "                                               shuffle=True,\n",
    "                                               seed=SEED)  \n",
    "# targets are directly converted into one-hot vectors\n",
    "\n",
    "from matplotlib import pyplot as plt\n",
    "%matplotlib inline\n",
    "n_array_images, n_array_labels = train_gen.next()\n",
    "\n",
    "for images in n_array_images[:8]:\n",
    "        plt.imshow(images)\n",
    "        plt.show()\n",
    "\n",
    "# Validation,\n",
    "valid_gen = valid_data_gen.flow_from_directory(training_dir,\n",
    "                                               target_size=(img_h, img_w),\n",
    "                                               batch_size=bs, \n",
    "                                               classes=class_list,\n",
    "                                               class_mode='categorical',\n",
    "                                               shuffle=False,\n",
    "                                               seed=SEED)\n",
    "\n",
    "n_array_images, n_array_labels = valid_gen.next()\n",
    "print(\"validation Set\")\n",
    "for images in n_array_images[:8]:\n",
    "        plt.imshow(images)\n",
    "        plt.show()"
   ]
  },
  {
   "cell_type": "code",
   "execution_count": null,
   "metadata": {},
   "outputs": [],
   "source": [
    "# Create Dataset objects\n",
    "# ----------------------\n",
    "\n",
    "# Training\n",
    "train_dataset = tf.data.Dataset.from_generator(lambda: train_gen,\n",
    "                                               output_types=(tf.float32, tf.float32),\n",
    "                                               output_shapes=([None, img_h, img_w, 3], [None, num_classes]))\n",
    "\n",
    "# Shuffle (Already done in generator..)\n",
    "# train_dataset = train_dataset.shuffle(buffer_size=len(train_gen))\n",
    "\n",
    "# Normalize images (Already done in generator..)\n",
    "#def normalize_img(x_, y_):\n",
    "#     return tf.cast(x_, tf.float32) / 255., y_\n",
    "\n",
    "# train_dataset = train_dataset.map(normalize_img)\n",
    "\n",
    "# 1-hot encoding <- for categorical cross entropy (Already done in generator..)\n",
    "# def to_categorical(x_, y_):\n",
    "#     return x_, tf.one_hot(y_, depth=10)\n",
    "\n",
    "# train_dataset = train_dataset.map(to_categorical)\n",
    "\n",
    "# Divide in batches (Already done in generator..)\n",
    "# train_dataset = train_dataset.batch(bs)\n",
    "\n",
    "# Repeat\n",
    "# Without calling the repeat function the dataset \n",
    "# will be empty after consuming all the images\n",
    "train_dataset = train_dataset.repeat()\n",
    "\n",
    "# Validation\n",
    "# ----------\n",
    "valid_dataset = tf.data.Dataset.from_generator(lambda: valid_gen, \n",
    "                                               output_types=(tf.float32, tf.float32),\n",
    "                                               output_shapes=([None, img_h, img_w, 3], [None, num_classes]))\n",
    "\n",
    "# Repeat\n",
    "valid_dataset = valid_dataset.repeat()"
   ]
  },
  {
   "cell_type": "code",
   "execution_count": null,
   "metadata": {},
   "outputs": [],
   "source": [
    "train_gen.class_indices"
   ]
  },
  {
   "cell_type": "markdown",
   "metadata": {},
   "source": [
    "Transfer Learning"
   ]
  },
  {
   "cell_type": "code",
   "execution_count": null,
   "metadata": {},
   "outputs": [],
   "source": [
    "vgg = tf.keras.applications.VGG16(weights='imagenet', include_top=False, input_shape=(img_h, img_w, 3))"
   ]
  },
  {
   "cell_type": "code",
   "execution_count": null,
   "metadata": {},
   "outputs": [],
   "source": [
    "vgg.summary()\n",
    "vgg.layers"
   ]
  },
  {
   "cell_type": "code",
   "execution_count": null,
   "metadata": {},
   "outputs": [],
   "source": [
    "# Create Model\n",
    "# ------------\n",
    "\n",
    "finetuning = True\n",
    "\n",
    "if finetuning:\n",
    "    freeze_until = 16 # layer from which we want to fine-tune\n",
    "    \n",
    "    for layer in vgg.layers[:freeze_until]:\n",
    "        layer.trainable = False\n",
    "else:\n",
    "    vgg.trainable = False\n",
    "    \n",
    "model = tf.keras.Sequential()\n",
    "model.add(vgg)\n",
    "model.add(tf.keras.layers.Flatten())\n",
    "model.add(tf.keras.layers.Dense(units=512, activation='relu'))\n",
    "model.add(tf.keras.layers.Dense(units=num_classes, activation='softmax'))\n",
    "\n",
    "# Visualize created model as a table\n",
    "model.summary()\n",
    "\n",
    "# Visualize initialized weights\n",
    "model.weights"
   ]
  },
  {
   "cell_type": "code",
   "execution_count": null,
   "metadata": {},
   "outputs": [],
   "source": [
    "# Optimization params\n",
    "# -------------------\n",
    "\n",
    "# Loss\n",
    "loss = tf.keras.losses.CategoricalCrossentropy()\n",
    "\n",
    "# learning rate\n",
    "lr = 1e-3\n",
    "optimizer = tf.keras.optimizers.Adam(learning_rate=lr)\n",
    "# -------------------\n",
    "\n",
    "# Validation metrics\n",
    "# ------------------\n",
    "\n",
    "metrics = ['accuracy']\n",
    "# ------------------\n",
    "\n",
    "# Compile Model\n",
    "model.compile(optimizer=optimizer, loss=loss, metrics=metrics)"
   ]
  },
  {
   "cell_type": "code",
   "execution_count": null,
   "metadata": {},
   "outputs": [],
   "source": [
    "import os\n",
    "from datetime import datetime\n",
    "\n",
    "cwd = os.getcwd()\n",
    "\n",
    "exps_dir = os.path.join(cwd, 'classification_experiments')\n",
    "if not os.path.exists(exps_dir):\n",
    "    os.makedirs(exps_dir)\n",
    "\n",
    "now = datetime.now().strftime('%b%d_%H-%M-%S')\n",
    "\n",
    "model_name = 'VGG'\n",
    "\n",
    "exp_dir = os.path.join(exps_dir, model_name + '_' + str(now))\n",
    "if not os.path.exists(exp_dir):\n",
    "    os.makedirs(exp_dir)\n",
    "    \n",
    "callbacks = []\n",
    "\n",
    "# Model checkpoint\n",
    "# ----------------\n",
    "ckpt_dir = os.path.join(exp_dir, 'ckpts')\n",
    "if not os.path.exists(ckpt_dir):\n",
    "    os.makedirs(ckpt_dir)\n",
    "\n",
    "ckpt_callback = tf.keras.callbacks.ModelCheckpoint(filepath=os.path.join(ckpt_dir, 'cp_{epoch:02d}.ckpt'), \n",
    "                                                   save_weights_only=True)  # False to save the model directly\n",
    "callbacks.append(ckpt_callback)\n",
    "\n",
    "# Visualize Learning on Tensorboard\n",
    "# ---------------------------------\n",
    "tb_dir = os.path.join(exp_dir, 'tb_logs')\n",
    "if not os.path.exists(tb_dir):\n",
    "    os.makedirs(tb_dir)\n",
    "    \n",
    "# By default shows losses and metrics for both training and validation\n",
    "tb_callback = tf.keras.callbacks.TensorBoard(log_dir=tb_dir,\n",
    "                                             profile_batch=0,\n",
    "                                             histogram_freq=1)  # if 1 shows weights histograms\n",
    "callbacks.append(tb_callback)\n",
    "\n",
    "# Early Stopping\n",
    "# --------------\n",
    "early_stop = True\n",
    "if early_stop:\n",
    "    es_callback = tf.keras.callbacks.EarlyStopping(monitor='val_loss', \n",
    "                                                   min_delta=0,\n",
    "                                                   patience=10)\n",
    "    callbacks.append(es_callback)\n",
    "\n",
    "\n",
    "model.fit(x=train_dataset,\n",
    "          epochs=100,  #### set repeat in training dataset\n",
    "          steps_per_epoch=len(train_gen),\n",
    "          validation_data=valid_dataset,\n",
    "          validation_steps=len(valid_gen),\n",
    "          callbacks=callbacks)\n",
    "\n",
    "# How to visualize Tensorboard\n",
    "\n",
    "# 1. tensorboard --logdir classification_experiments --port 6066     <- from terminal\n",
    "# 2. localhost:6066   <- in your browser"
   ]
  },
  {
   "cell_type": "code",
   "execution_count": 7,
   "metadata": {},
   "outputs": [
    {
     "data": {
      "text/plain": [
       "'C:\\\\Users\\\\fralu\\\\Documents\\\\GitHub\\\\anndl\\\\image-classification\\\\Classification_Dataset\\\\training\\\\airplanes\\\\IMG_1177.jpg'"
      ]
     },
     "execution_count": 7,
     "metadata": {},
     "output_type": "execute_result"
    },
    {
     "data": {
      "text/plain": [
       "'C:\\\\Users\\\\fralu\\\\Documents\\\\GitHub\\\\anndl\\\\image-classification\\\\Classification_Dataset\\\\training\\\\airplanes\\\\IMG_1343.jpg'"
      ]
     },
     "execution_count": 7,
     "metadata": {},
     "output_type": "execute_result"
    },
    {
     "data": {
      "text/plain": [
       "'C:\\\\Users\\\\fralu\\\\Documents\\\\GitHub\\\\anndl\\\\image-classification\\\\Classification_Dataset\\\\training\\\\airplanes\\\\IMG_1408.jpg'"
      ]
     },
     "execution_count": 7,
     "metadata": {},
     "output_type": "execute_result"
    },
    {
     "data": {
      "text/plain": [
       "'C:\\\\Users\\\\fralu\\\\Documents\\\\GitHub\\\\anndl\\\\image-classification\\\\Classification_Dataset\\\\training\\\\airplanes\\\\IMG_1487.jpg'"
      ]
     },
     "execution_count": 7,
     "metadata": {},
     "output_type": "execute_result"
    },
    {
     "data": {
      "text/plain": [
       "'C:\\\\Users\\\\fralu\\\\Documents\\\\GitHub\\\\anndl\\\\image-classification\\\\Classification_Dataset\\\\training\\\\airplanes\\\\IMG_1590.jpg'"
      ]
     },
     "execution_count": 7,
     "metadata": {},
     "output_type": "execute_result"
    },
    {
     "data": {
      "text/plain": [
       "'C:\\\\Users\\\\fralu\\\\Documents\\\\GitHub\\\\anndl\\\\image-classification\\\\Classification_Dataset\\\\training\\\\airplanes\\\\IMG_1616.jpg'"
      ]
     },
     "execution_count": 7,
     "metadata": {},
     "output_type": "execute_result"
    },
    {
     "data": {
      "text/plain": [
       "'C:\\\\Users\\\\fralu\\\\Documents\\\\GitHub\\\\anndl\\\\image-classification\\\\Classification_Dataset\\\\training\\\\airplanes\\\\IMG_1891.jpg'"
      ]
     },
     "execution_count": 7,
     "metadata": {},
     "output_type": "execute_result"
    },
    {
     "data": {
      "text/plain": [
       "'C:\\\\Users\\\\fralu\\\\Documents\\\\GitHub\\\\anndl\\\\image-classification\\\\Classification_Dataset\\\\training\\\\airplanes\\\\IMG_1956.jpg'"
      ]
     },
     "execution_count": 7,
     "metadata": {},
     "output_type": "execute_result"
    },
    {
     "data": {
      "text/plain": [
       "'C:\\\\Users\\\\fralu\\\\Documents\\\\GitHub\\\\anndl\\\\image-classification\\\\Classification_Dataset\\\\training\\\\airplanes\\\\IMG_2040.jpg'"
      ]
     },
     "execution_count": 7,
     "metadata": {},
     "output_type": "execute_result"
    },
    {
     "data": {
      "text/plain": [
       "'C:\\\\Users\\\\fralu\\\\Documents\\\\GitHub\\\\anndl\\\\image-classification\\\\Classification_Dataset\\\\training\\\\airplanes\\\\IMG_229.jpg'"
      ]
     },
     "execution_count": 7,
     "metadata": {},
     "output_type": "execute_result"
    },
    {
     "data": {
      "text/plain": [
       "'C:\\\\Users\\\\fralu\\\\Documents\\\\GitHub\\\\anndl\\\\image-classification\\\\Classification_Dataset\\\\training\\\\airplanes\\\\IMG_334.jpg'"
      ]
     },
     "execution_count": 7,
     "metadata": {},
     "output_type": "execute_result"
    },
    {
     "data": {
      "text/plain": [
       "'C:\\\\Users\\\\fralu\\\\Documents\\\\GitHub\\\\anndl\\\\image-classification\\\\Classification_Dataset\\\\training\\\\airplanes\\\\IMG_361.jpg'"
      ]
     },
     "execution_count": 7,
     "metadata": {},
     "output_type": "execute_result"
    },
    {
     "data": {
      "text/plain": [
       "'C:\\\\Users\\\\fralu\\\\Documents\\\\GitHub\\\\anndl\\\\image-classification\\\\Classification_Dataset\\\\training\\\\airplanes\\\\IMG_490.jpg'"
      ]
     },
     "execution_count": 7,
     "metadata": {},
     "output_type": "execute_result"
    },
    {
     "data": {
      "text/plain": [
       "'C:\\\\Users\\\\fralu\\\\Documents\\\\GitHub\\\\anndl\\\\image-classification\\\\Classification_Dataset\\\\training\\\\airplanes\\\\IMG_696.jpg'"
      ]
     },
     "execution_count": 7,
     "metadata": {},
     "output_type": "execute_result"
    },
    {
     "data": {
      "text/plain": [
       "'C:\\\\Users\\\\fralu\\\\Documents\\\\GitHub\\\\anndl\\\\image-classification\\\\Classification_Dataset\\\\training\\\\airplanes\\\\IMG_779.jpg'"
      ]
     },
     "execution_count": 7,
     "metadata": {},
     "output_type": "execute_result"
    },
    {
     "data": {
      "text/plain": [
       "'C:\\\\Users\\\\fralu\\\\Documents\\\\GitHub\\\\anndl\\\\image-classification\\\\Classification_Dataset\\\\training\\\\airplanes\\\\IMG_879.jpg'"
      ]
     },
     "execution_count": 7,
     "metadata": {},
     "output_type": "execute_result"
    },
    {
     "data": {
      "text/plain": [
       "'C:\\\\Users\\\\fralu\\\\Documents\\\\GitHub\\\\anndl\\\\image-classification\\\\Classification_Dataset\\\\training\\\\airplanes\\\\IMG_968.jpg'"
      ]
     },
     "execution_count": 7,
     "metadata": {},
     "output_type": "execute_result"
    },
    {
     "data": {
      "text/plain": [
       "'C:\\\\Users\\\\fralu\\\\Documents\\\\GitHub\\\\anndl\\\\image-classification\\\\Classification_Dataset\\\\training\\\\bear\\\\IMG_116.jpg'"
      ]
     },
     "execution_count": 7,
     "metadata": {},
     "output_type": "execute_result"
    },
    {
     "data": {
      "text/plain": [
       "'C:\\\\Users\\\\fralu\\\\Documents\\\\GitHub\\\\anndl\\\\image-classification\\\\Classification_Dataset\\\\training\\\\bear\\\\IMG_1204.jpg'"
      ]
     },
     "execution_count": 7,
     "metadata": {},
     "output_type": "execute_result"
    },
    {
     "data": {
      "text/plain": [
       "'C:\\\\Users\\\\fralu\\\\Documents\\\\GitHub\\\\anndl\\\\image-classification\\\\Classification_Dataset\\\\training\\\\bear\\\\IMG_1389.jpg'"
      ]
     },
     "execution_count": 7,
     "metadata": {},
     "output_type": "execute_result"
    },
    {
     "data": {
      "text/plain": [
       "'C:\\\\Users\\\\fralu\\\\Documents\\\\GitHub\\\\anndl\\\\image-classification\\\\Classification_Dataset\\\\training\\\\bear\\\\IMG_1652.jpg'"
      ]
     },
     "execution_count": 7,
     "metadata": {},
     "output_type": "execute_result"
    },
    {
     "data": {
      "text/plain": [
       "'C:\\\\Users\\\\fralu\\\\Documents\\\\GitHub\\\\anndl\\\\image-classification\\\\Classification_Dataset\\\\training\\\\bear\\\\IMG_179.jpg'"
      ]
     },
     "execution_count": 7,
     "metadata": {},
     "output_type": "execute_result"
    },
    {
     "data": {
      "text/plain": [
       "'C:\\\\Users\\\\fralu\\\\Documents\\\\GitHub\\\\anndl\\\\image-classification\\\\Classification_Dataset\\\\training\\\\bear\\\\IMG_1860.jpg'"
      ]
     },
     "execution_count": 7,
     "metadata": {},
     "output_type": "execute_result"
    },
    {
     "data": {
      "text/plain": [
       "'C:\\\\Users\\\\fralu\\\\Documents\\\\GitHub\\\\anndl\\\\image-classification\\\\Classification_Dataset\\\\training\\\\bear\\\\IMG_1906.jpg'"
      ]
     },
     "execution_count": 7,
     "metadata": {},
     "output_type": "execute_result"
    },
    {
     "data": {
      "text/plain": [
       "'C:\\\\Users\\\\fralu\\\\Documents\\\\GitHub\\\\anndl\\\\image-classification\\\\Classification_Dataset\\\\training\\\\bear\\\\IMG_1953.jpg'"
      ]
     },
     "execution_count": 7,
     "metadata": {},
     "output_type": "execute_result"
    },
    {
     "data": {
      "text/plain": [
       "'C:\\\\Users\\\\fralu\\\\Documents\\\\GitHub\\\\anndl\\\\image-classification\\\\Classification_Dataset\\\\training\\\\bear\\\\IMG_380.jpg'"
      ]
     },
     "execution_count": 7,
     "metadata": {},
     "output_type": "execute_result"
    },
    {
     "data": {
      "text/plain": [
       "'C:\\\\Users\\\\fralu\\\\Documents\\\\GitHub\\\\anndl\\\\image-classification\\\\Classification_Dataset\\\\training\\\\bear\\\\IMG_389.jpg'"
      ]
     },
     "execution_count": 7,
     "metadata": {},
     "output_type": "execute_result"
    },
    {
     "data": {
      "text/plain": [
       "'C:\\\\Users\\\\fralu\\\\Documents\\\\GitHub\\\\anndl\\\\image-classification\\\\Classification_Dataset\\\\training\\\\bear\\\\IMG_549.jpg'"
      ]
     },
     "execution_count": 7,
     "metadata": {},
     "output_type": "execute_result"
    },
    {
     "data": {
      "text/plain": [
       "'C:\\\\Users\\\\fralu\\\\Documents\\\\GitHub\\\\anndl\\\\image-classification\\\\Classification_Dataset\\\\training\\\\bear\\\\IMG_657.jpg'"
      ]
     },
     "execution_count": 7,
     "metadata": {},
     "output_type": "execute_result"
    },
    {
     "data": {
      "text/plain": [
       "'C:\\\\Users\\\\fralu\\\\Documents\\\\GitHub\\\\anndl\\\\image-classification\\\\Classification_Dataset\\\\training\\\\bear\\\\IMG_966.jpg'"
      ]
     },
     "execution_count": 7,
     "metadata": {},
     "output_type": "execute_result"
    },
    {
     "data": {
      "text/plain": [
       "'C:\\\\Users\\\\fralu\\\\Documents\\\\GitHub\\\\anndl\\\\image-classification\\\\Classification_Dataset\\\\training\\\\bear\\\\IMG_996.jpg'"
      ]
     },
     "execution_count": 7,
     "metadata": {},
     "output_type": "execute_result"
    },
    {
     "data": {
      "text/plain": [
       "'C:\\\\Users\\\\fralu\\\\Documents\\\\GitHub\\\\anndl\\\\image-classification\\\\Classification_Dataset\\\\training\\\\calculator\\\\IMG_1110.jpg'"
      ]
     },
     "execution_count": 7,
     "metadata": {},
     "output_type": "execute_result"
    },
    {
     "data": {
      "text/plain": [
       "'C:\\\\Users\\\\fralu\\\\Documents\\\\GitHub\\\\anndl\\\\image-classification\\\\Classification_Dataset\\\\training\\\\calculator\\\\IMG_1252.jpg'"
      ]
     },
     "execution_count": 7,
     "metadata": {},
     "output_type": "execute_result"
    },
    {
     "data": {
      "text/plain": [
       "'C:\\\\Users\\\\fralu\\\\Documents\\\\GitHub\\\\anndl\\\\image-classification\\\\Classification_Dataset\\\\training\\\\calculator\\\\IMG_1554.jpg'"
      ]
     },
     "execution_count": 7,
     "metadata": {},
     "output_type": "execute_result"
    },
    {
     "data": {
      "text/plain": [
       "'C:\\\\Users\\\\fralu\\\\Documents\\\\GitHub\\\\anndl\\\\image-classification\\\\Classification_Dataset\\\\training\\\\calculator\\\\IMG_1563.jpg'"
      ]
     },
     "execution_count": 7,
     "metadata": {},
     "output_type": "execute_result"
    },
    {
     "data": {
      "text/plain": [
       "'C:\\\\Users\\\\fralu\\\\Documents\\\\GitHub\\\\anndl\\\\image-classification\\\\Classification_Dataset\\\\training\\\\calculator\\\\IMG_1769.jpg'"
      ]
     },
     "execution_count": 7,
     "metadata": {},
     "output_type": "execute_result"
    },
    {
     "data": {
      "text/plain": [
       "'C:\\\\Users\\\\fralu\\\\Documents\\\\GitHub\\\\anndl\\\\image-classification\\\\Classification_Dataset\\\\training\\\\calculator\\\\IMG_1950.jpg'"
      ]
     },
     "execution_count": 7,
     "metadata": {},
     "output_type": "execute_result"
    },
    {
     "data": {
      "text/plain": [
       "'C:\\\\Users\\\\fralu\\\\Documents\\\\GitHub\\\\anndl\\\\image-classification\\\\Classification_Dataset\\\\training\\\\calculator\\\\IMG_302.jpg'"
      ]
     },
     "execution_count": 7,
     "metadata": {},
     "output_type": "execute_result"
    },
    {
     "data": {
      "text/plain": [
       "'C:\\\\Users\\\\fralu\\\\Documents\\\\GitHub\\\\anndl\\\\image-classification\\\\Classification_Dataset\\\\training\\\\calculator\\\\IMG_359.jpg'"
      ]
     },
     "execution_count": 7,
     "metadata": {},
     "output_type": "execute_result"
    },
    {
     "data": {
      "text/plain": [
       "'C:\\\\Users\\\\fralu\\\\Documents\\\\GitHub\\\\anndl\\\\image-classification\\\\Classification_Dataset\\\\training\\\\calculator\\\\IMG_481.jpg'"
      ]
     },
     "execution_count": 7,
     "metadata": {},
     "output_type": "execute_result"
    },
    {
     "data": {
      "text/plain": [
       "'C:\\\\Users\\\\fralu\\\\Documents\\\\GitHub\\\\anndl\\\\image-classification\\\\Classification_Dataset\\\\training\\\\calculator\\\\IMG_604.jpg'"
      ]
     },
     "execution_count": 7,
     "metadata": {},
     "output_type": "execute_result"
    },
    {
     "data": {
      "text/plain": [
       "'C:\\\\Users\\\\fralu\\\\Documents\\\\GitHub\\\\anndl\\\\image-classification\\\\Classification_Dataset\\\\training\\\\calculator\\\\IMG_614.jpg'"
      ]
     },
     "execution_count": 7,
     "metadata": {},
     "output_type": "execute_result"
    },
    {
     "data": {
      "text/plain": [
       "'C:\\\\Users\\\\fralu\\\\Documents\\\\GitHub\\\\anndl\\\\image-classification\\\\Classification_Dataset\\\\training\\\\calculator\\\\IMG_620.jpg'"
      ]
     },
     "execution_count": 7,
     "metadata": {},
     "output_type": "execute_result"
    },
    {
     "data": {
      "text/plain": [
       "'C:\\\\Users\\\\fralu\\\\Documents\\\\GitHub\\\\anndl\\\\image-classification\\\\Classification_Dataset\\\\training\\\\calculator\\\\IMG_652.jpg'"
      ]
     },
     "execution_count": 7,
     "metadata": {},
     "output_type": "execute_result"
    },
    {
     "data": {
      "text/plain": [
       "'C:\\\\Users\\\\fralu\\\\Documents\\\\GitHub\\\\anndl\\\\image-classification\\\\Classification_Dataset\\\\training\\\\calculator\\\\IMG_872.jpg'"
      ]
     },
     "execution_count": 7,
     "metadata": {},
     "output_type": "execute_result"
    },
    {
     "data": {
      "text/plain": [
       "'C:\\\\Users\\\\fralu\\\\Documents\\\\GitHub\\\\anndl\\\\image-classification\\\\Classification_Dataset\\\\training\\\\calculator\\\\IMG_882.jpg'"
      ]
     },
     "execution_count": 7,
     "metadata": {},
     "output_type": "execute_result"
    },
    {
     "data": {
      "text/plain": [
       "'C:\\\\Users\\\\fralu\\\\Documents\\\\GitHub\\\\anndl\\\\image-classification\\\\Classification_Dataset\\\\training\\\\calculator\\\\IMG_926.jpg'"
      ]
     },
     "execution_count": 7,
     "metadata": {},
     "output_type": "execute_result"
    },
    {
     "data": {
      "text/plain": [
       "'C:\\\\Users\\\\fralu\\\\Documents\\\\GitHub\\\\anndl\\\\image-classification\\\\Classification_Dataset\\\\training\\\\computer-monitor\\\\IMG_1082.jpg'"
      ]
     },
     "execution_count": 7,
     "metadata": {},
     "output_type": "execute_result"
    },
    {
     "data": {
      "text/plain": [
       "'C:\\\\Users\\\\fralu\\\\Documents\\\\GitHub\\\\anndl\\\\image-classification\\\\Classification_Dataset\\\\training\\\\computer-monitor\\\\IMG_1290.jpg'"
      ]
     },
     "execution_count": 7,
     "metadata": {},
     "output_type": "execute_result"
    },
    {
     "data": {
      "text/plain": [
       "'C:\\\\Users\\\\fralu\\\\Documents\\\\GitHub\\\\anndl\\\\image-classification\\\\Classification_Dataset\\\\training\\\\computer-monitor\\\\IMG_1293.jpg'"
      ]
     },
     "execution_count": 7,
     "metadata": {},
     "output_type": "execute_result"
    },
    {
     "data": {
      "text/plain": [
       "'C:\\\\Users\\\\fralu\\\\Documents\\\\GitHub\\\\anndl\\\\image-classification\\\\Classification_Dataset\\\\training\\\\computer-monitor\\\\IMG_1407.jpg'"
      ]
     },
     "execution_count": 7,
     "metadata": {},
     "output_type": "execute_result"
    },
    {
     "data": {
      "text/plain": [
       "'C:\\\\Users\\\\fralu\\\\Documents\\\\GitHub\\\\anndl\\\\image-classification\\\\Classification_Dataset\\\\training\\\\computer-monitor\\\\IMG_1539.jpg'"
      ]
     },
     "execution_count": 7,
     "metadata": {},
     "output_type": "execute_result"
    },
    {
     "data": {
      "text/plain": [
       "'C:\\\\Users\\\\fralu\\\\Documents\\\\GitHub\\\\anndl\\\\image-classification\\\\Classification_Dataset\\\\training\\\\computer-monitor\\\\IMG_157.jpg'"
      ]
     },
     "execution_count": 7,
     "metadata": {},
     "output_type": "execute_result"
    },
    {
     "data": {
      "text/plain": [
       "'C:\\\\Users\\\\fralu\\\\Documents\\\\GitHub\\\\anndl\\\\image-classification\\\\Classification_Dataset\\\\training\\\\computer-monitor\\\\IMG_1867.jpg'"
      ]
     },
     "execution_count": 7,
     "metadata": {},
     "output_type": "execute_result"
    },
    {
     "data": {
      "text/plain": [
       "'C:\\\\Users\\\\fralu\\\\Documents\\\\GitHub\\\\anndl\\\\image-classification\\\\Classification_Dataset\\\\training\\\\computer-monitor\\\\IMG_1965.jpg'"
      ]
     },
     "execution_count": 7,
     "metadata": {},
     "output_type": "execute_result"
    },
    {
     "data": {
      "text/plain": [
       "'C:\\\\Users\\\\fralu\\\\Documents\\\\GitHub\\\\anndl\\\\image-classification\\\\Classification_Dataset\\\\training\\\\computer-monitor\\\\IMG_2050.jpg'"
      ]
     },
     "execution_count": 7,
     "metadata": {},
     "output_type": "execute_result"
    },
    {
     "data": {
      "text/plain": [
       "'C:\\\\Users\\\\fralu\\\\Documents\\\\GitHub\\\\anndl\\\\image-classification\\\\Classification_Dataset\\\\training\\\\computer-monitor\\\\IMG_239.jpg'"
      ]
     },
     "execution_count": 7,
     "metadata": {},
     "output_type": "execute_result"
    },
    {
     "data": {
      "text/plain": [
       "'C:\\\\Users\\\\fralu\\\\Documents\\\\GitHub\\\\anndl\\\\image-classification\\\\Classification_Dataset\\\\training\\\\computer-monitor\\\\IMG_257.jpg'"
      ]
     },
     "execution_count": 7,
     "metadata": {},
     "output_type": "execute_result"
    },
    {
     "data": {
      "text/plain": [
       "'C:\\\\Users\\\\fralu\\\\Documents\\\\GitHub\\\\anndl\\\\image-classification\\\\Classification_Dataset\\\\training\\\\computer-monitor\\\\IMG_327.jpg'"
      ]
     },
     "execution_count": 7,
     "metadata": {},
     "output_type": "execute_result"
    },
    {
     "data": {
      "text/plain": [
       "'C:\\\\Users\\\\fralu\\\\Documents\\\\GitHub\\\\anndl\\\\image-classification\\\\Classification_Dataset\\\\training\\\\computer-monitor\\\\IMG_344.jpg'"
      ]
     },
     "execution_count": 7,
     "metadata": {},
     "output_type": "execute_result"
    },
    {
     "data": {
      "text/plain": [
       "'C:\\\\Users\\\\fralu\\\\Documents\\\\GitHub\\\\anndl\\\\image-classification\\\\Classification_Dataset\\\\training\\\\computer-monitor\\\\IMG_368.jpg'"
      ]
     },
     "execution_count": 7,
     "metadata": {},
     "output_type": "execute_result"
    },
    {
     "data": {
      "text/plain": [
       "'C:\\\\Users\\\\fralu\\\\Documents\\\\GitHub\\\\anndl\\\\image-classification\\\\Classification_Dataset\\\\training\\\\computer-monitor\\\\IMG_402.jpg'"
      ]
     },
     "execution_count": 7,
     "metadata": {},
     "output_type": "execute_result"
    },
    {
     "data": {
      "text/plain": [
       "'C:\\\\Users\\\\fralu\\\\Documents\\\\GitHub\\\\anndl\\\\image-classification\\\\Classification_Dataset\\\\training\\\\computer-monitor\\\\IMG_43.jpg'"
      ]
     },
     "execution_count": 7,
     "metadata": {},
     "output_type": "execute_result"
    },
    {
     "data": {
      "text/plain": [
       "'C:\\\\Users\\\\fralu\\\\Documents\\\\GitHub\\\\anndl\\\\image-classification\\\\Classification_Dataset\\\\training\\\\computer-monitor\\\\IMG_523.jpg'"
      ]
     },
     "execution_count": 7,
     "metadata": {},
     "output_type": "execute_result"
    },
    {
     "data": {
      "text/plain": [
       "'C:\\\\Users\\\\fralu\\\\Documents\\\\GitHub\\\\anndl\\\\image-classification\\\\Classification_Dataset\\\\training\\\\computer-monitor\\\\IMG_532.jpg'"
      ]
     },
     "execution_count": 7,
     "metadata": {},
     "output_type": "execute_result"
    },
    {
     "data": {
      "text/plain": [
       "'C:\\\\Users\\\\fralu\\\\Documents\\\\GitHub\\\\anndl\\\\image-classification\\\\Classification_Dataset\\\\training\\\\computer-monitor\\\\IMG_568.jpg'"
      ]
     },
     "execution_count": 7,
     "metadata": {},
     "output_type": "execute_result"
    },
    {
     "data": {
      "text/plain": [
       "'C:\\\\Users\\\\fralu\\\\Documents\\\\GitHub\\\\anndl\\\\image-classification\\\\Classification_Dataset\\\\training\\\\computer-monitor\\\\IMG_580.jpg'"
      ]
     },
     "execution_count": 7,
     "metadata": {},
     "output_type": "execute_result"
    },
    {
     "data": {
      "text/plain": [
       "'C:\\\\Users\\\\fralu\\\\Documents\\\\GitHub\\\\anndl\\\\image-classification\\\\Classification_Dataset\\\\training\\\\computer-monitor\\\\IMG_665.jpg'"
      ]
     },
     "execution_count": 7,
     "metadata": {},
     "output_type": "execute_result"
    },
    {
     "data": {
      "text/plain": [
       "'C:\\\\Users\\\\fralu\\\\Documents\\\\GitHub\\\\anndl\\\\image-classification\\\\Classification_Dataset\\\\training\\\\computer-monitor\\\\IMG_7.jpg'"
      ]
     },
     "execution_count": 7,
     "metadata": {},
     "output_type": "execute_result"
    },
    {
     "data": {
      "text/plain": [
       "'C:\\\\Users\\\\fralu\\\\Documents\\\\GitHub\\\\anndl\\\\image-classification\\\\Classification_Dataset\\\\training\\\\computer-monitor\\\\IMG_701.jpg'"
      ]
     },
     "execution_count": 7,
     "metadata": {},
     "output_type": "execute_result"
    },
    {
     "data": {
      "text/plain": [
       "'C:\\\\Users\\\\fralu\\\\Documents\\\\GitHub\\\\anndl\\\\image-classification\\\\Classification_Dataset\\\\training\\\\computer-monitor\\\\IMG_720.jpg'"
      ]
     },
     "execution_count": 7,
     "metadata": {},
     "output_type": "execute_result"
    },
    {
     "data": {
      "text/plain": [
       "'C:\\\\Users\\\\fralu\\\\Documents\\\\GitHub\\\\anndl\\\\image-classification\\\\Classification_Dataset\\\\training\\\\computer-monitor\\\\IMG_746.jpg'"
      ]
     },
     "execution_count": 7,
     "metadata": {},
     "output_type": "execute_result"
    },
    {
     "data": {
      "text/plain": [
       "'C:\\\\Users\\\\fralu\\\\Documents\\\\GitHub\\\\anndl\\\\image-classification\\\\Classification_Dataset\\\\training\\\\computer-monitor\\\\IMG_787.jpg'"
      ]
     },
     "execution_count": 7,
     "metadata": {},
     "output_type": "execute_result"
    },
    {
     "data": {
      "text/plain": [
       "'C:\\\\Users\\\\fralu\\\\Documents\\\\GitHub\\\\anndl\\\\image-classification\\\\Classification_Dataset\\\\training\\\\computer-monitor\\\\IMG_885.jpg'"
      ]
     },
     "execution_count": 7,
     "metadata": {},
     "output_type": "execute_result"
    },
    {
     "data": {
      "text/plain": [
       "'C:\\\\Users\\\\fralu\\\\Documents\\\\GitHub\\\\anndl\\\\image-classification\\\\Classification_Dataset\\\\training\\\\fireworks\\\\IMG_1320.jpg'"
      ]
     },
     "execution_count": 7,
     "metadata": {},
     "output_type": "execute_result"
    },
    {
     "data": {
      "text/plain": [
       "'C:\\\\Users\\\\fralu\\\\Documents\\\\GitHub\\\\anndl\\\\image-classification\\\\Classification_Dataset\\\\training\\\\fireworks\\\\IMG_165.jpg'"
      ]
     },
     "execution_count": 7,
     "metadata": {},
     "output_type": "execute_result"
    },
    {
     "data": {
      "text/plain": [
       "'C:\\\\Users\\\\fralu\\\\Documents\\\\GitHub\\\\anndl\\\\image-classification\\\\Classification_Dataset\\\\training\\\\fireworks\\\\IMG_1757.jpg'"
      ]
     },
     "execution_count": 7,
     "metadata": {},
     "output_type": "execute_result"
    },
    {
     "data": {
      "text/plain": [
       "'C:\\\\Users\\\\fralu\\\\Documents\\\\GitHub\\\\anndl\\\\image-classification\\\\Classification_Dataset\\\\training\\\\fireworks\\\\IMG_1823.jpg'"
      ]
     },
     "execution_count": 7,
     "metadata": {},
     "output_type": "execute_result"
    },
    {
     "data": {
      "text/plain": [
       "'C:\\\\Users\\\\fralu\\\\Documents\\\\GitHub\\\\anndl\\\\image-classification\\\\Classification_Dataset\\\\training\\\\fireworks\\\\IMG_189.jpg'"
      ]
     },
     "execution_count": 7,
     "metadata": {},
     "output_type": "execute_result"
    },
    {
     "data": {
      "text/plain": [
       "'C:\\\\Users\\\\fralu\\\\Documents\\\\GitHub\\\\anndl\\\\image-classification\\\\Classification_Dataset\\\\training\\\\fireworks\\\\IMG_28.jpg'"
      ]
     },
     "execution_count": 7,
     "metadata": {},
     "output_type": "execute_result"
    },
    {
     "data": {
      "text/plain": [
       "'C:\\\\Users\\\\fralu\\\\Documents\\\\GitHub\\\\anndl\\\\image-classification\\\\Classification_Dataset\\\\training\\\\fireworks\\\\IMG_310.jpg'"
      ]
     },
     "execution_count": 7,
     "metadata": {},
     "output_type": "execute_result"
    },
    {
     "data": {
      "text/plain": [
       "'C:\\\\Users\\\\fralu\\\\Documents\\\\GitHub\\\\anndl\\\\image-classification\\\\Classification_Dataset\\\\training\\\\fireworks\\\\IMG_318.jpg'"
      ]
     },
     "execution_count": 7,
     "metadata": {},
     "output_type": "execute_result"
    },
    {
     "data": {
      "text/plain": [
       "'C:\\\\Users\\\\fralu\\\\Documents\\\\GitHub\\\\anndl\\\\image-classification\\\\Classification_Dataset\\\\training\\\\fireworks\\\\IMG_430.jpg'"
      ]
     },
     "execution_count": 7,
     "metadata": {},
     "output_type": "execute_result"
    },
    {
     "data": {
      "text/plain": [
       "'C:\\\\Users\\\\fralu\\\\Documents\\\\GitHub\\\\anndl\\\\image-classification\\\\Classification_Dataset\\\\training\\\\fireworks\\\\IMG_436.jpg'"
      ]
     },
     "execution_count": 7,
     "metadata": {},
     "output_type": "execute_result"
    },
    {
     "data": {
      "text/plain": [
       "'C:\\\\Users\\\\fralu\\\\Documents\\\\GitHub\\\\anndl\\\\image-classification\\\\Classification_Dataset\\\\training\\\\fireworks\\\\IMG_533.jpg'"
      ]
     },
     "execution_count": 7,
     "metadata": {},
     "output_type": "execute_result"
    },
    {
     "data": {
      "text/plain": [
       "'C:\\\\Users\\\\fralu\\\\Documents\\\\GitHub\\\\anndl\\\\image-classification\\\\Classification_Dataset\\\\training\\\\fireworks\\\\IMG_627.jpg'"
      ]
     },
     "execution_count": 7,
     "metadata": {},
     "output_type": "execute_result"
    },
    {
     "data": {
      "text/plain": [
       "'C:\\\\Users\\\\fralu\\\\Documents\\\\GitHub\\\\anndl\\\\image-classification\\\\Classification_Dataset\\\\training\\\\fireworks\\\\IMG_85.jpg'"
      ]
     },
     "execution_count": 7,
     "metadata": {},
     "output_type": "execute_result"
    },
    {
     "data": {
      "text/plain": [
       "'C:\\\\Users\\\\fralu\\\\Documents\\\\GitHub\\\\anndl\\\\image-classification\\\\Classification_Dataset\\\\training\\\\fireworks\\\\IMG_894.jpg'"
      ]
     },
     "execution_count": 7,
     "metadata": {},
     "output_type": "execute_result"
    },
    {
     "data": {
      "text/plain": [
       "'C:\\\\Users\\\\fralu\\\\Documents\\\\GitHub\\\\anndl\\\\image-classification\\\\Classification_Dataset\\\\training\\\\galaxy\\\\IMG_1592.jpg'"
      ]
     },
     "execution_count": 7,
     "metadata": {},
     "output_type": "execute_result"
    },
    {
     "data": {
      "text/plain": [
       "'C:\\\\Users\\\\fralu\\\\Documents\\\\GitHub\\\\anndl\\\\image-classification\\\\Classification_Dataset\\\\training\\\\galaxy\\\\IMG_1856.jpg'"
      ]
     },
     "execution_count": 7,
     "metadata": {},
     "output_type": "execute_result"
    },
    {
     "data": {
      "text/plain": [
       "'C:\\\\Users\\\\fralu\\\\Documents\\\\GitHub\\\\anndl\\\\image-classification\\\\Classification_Dataset\\\\training\\\\galaxy\\\\IMG_1968.jpg'"
      ]
     },
     "execution_count": 7,
     "metadata": {},
     "output_type": "execute_result"
    },
    {
     "data": {
      "text/plain": [
       "'C:\\\\Users\\\\fralu\\\\Documents\\\\GitHub\\\\anndl\\\\image-classification\\\\Classification_Dataset\\\\training\\\\galaxy\\\\IMG_211.jpg'"
      ]
     },
     "execution_count": 7,
     "metadata": {},
     "output_type": "execute_result"
    },
    {
     "data": {
      "text/plain": [
       "'C:\\\\Users\\\\fralu\\\\Documents\\\\GitHub\\\\anndl\\\\image-classification\\\\Classification_Dataset\\\\training\\\\galaxy\\\\IMG_765.jpg'"
      ]
     },
     "execution_count": 7,
     "metadata": {},
     "output_type": "execute_result"
    },
    {
     "data": {
      "text/plain": [
       "'C:\\\\Users\\\\fralu\\\\Documents\\\\GitHub\\\\anndl\\\\image-classification\\\\Classification_Dataset\\\\training\\\\galaxy\\\\IMG_778.jpg'"
      ]
     },
     "execution_count": 7,
     "metadata": {},
     "output_type": "execute_result"
    },
    {
     "data": {
      "text/plain": [
       "'C:\\\\Users\\\\fralu\\\\Documents\\\\GitHub\\\\anndl\\\\image-classification\\\\Classification_Dataset\\\\training\\\\grand-piano\\\\IMG_1017.jpg'"
      ]
     },
     "execution_count": 7,
     "metadata": {},
     "output_type": "execute_result"
    },
    {
     "data": {
      "text/plain": [
       "'C:\\\\Users\\\\fralu\\\\Documents\\\\GitHub\\\\anndl\\\\image-classification\\\\Classification_Dataset\\\\training\\\\grand-piano\\\\IMG_1266.jpg'"
      ]
     },
     "execution_count": 7,
     "metadata": {},
     "output_type": "execute_result"
    },
    {
     "data": {
      "text/plain": [
       "'C:\\\\Users\\\\fralu\\\\Documents\\\\GitHub\\\\anndl\\\\image-classification\\\\Classification_Dataset\\\\training\\\\grand-piano\\\\IMG_1323.jpg'"
      ]
     },
     "execution_count": 7,
     "metadata": {},
     "output_type": "execute_result"
    },
    {
     "data": {
      "text/plain": [
       "'C:\\\\Users\\\\fralu\\\\Documents\\\\GitHub\\\\anndl\\\\image-classification\\\\Classification_Dataset\\\\training\\\\grand-piano\\\\IMG_1379.jpg'"
      ]
     },
     "execution_count": 7,
     "metadata": {},
     "output_type": "execute_result"
    },
    {
     "data": {
      "text/plain": [
       "'C:\\\\Users\\\\fralu\\\\Documents\\\\GitHub\\\\anndl\\\\image-classification\\\\Classification_Dataset\\\\training\\\\grand-piano\\\\IMG_1485.jpg'"
      ]
     },
     "execution_count": 7,
     "metadata": {},
     "output_type": "execute_result"
    },
    {
     "data": {
      "text/plain": [
       "'C:\\\\Users\\\\fralu\\\\Documents\\\\GitHub\\\\anndl\\\\image-classification\\\\Classification_Dataset\\\\training\\\\grand-piano\\\\IMG_1504.jpg'"
      ]
     },
     "execution_count": 7,
     "metadata": {},
     "output_type": "execute_result"
    },
    {
     "data": {
      "text/plain": [
       "'C:\\\\Users\\\\fralu\\\\Documents\\\\GitHub\\\\anndl\\\\image-classification\\\\Classification_Dataset\\\\training\\\\grand-piano\\\\IMG_1666.jpg'"
      ]
     },
     "execution_count": 7,
     "metadata": {},
     "output_type": "execute_result"
    },
    {
     "data": {
      "text/plain": [
       "'C:\\\\Users\\\\fralu\\\\Documents\\\\GitHub\\\\anndl\\\\image-classification\\\\Classification_Dataset\\\\training\\\\grand-piano\\\\IMG_1875.jpg'"
      ]
     },
     "execution_count": 7,
     "metadata": {},
     "output_type": "execute_result"
    },
    {
     "data": {
      "text/plain": [
       "'C:\\\\Users\\\\fralu\\\\Documents\\\\GitHub\\\\anndl\\\\image-classification\\\\Classification_Dataset\\\\training\\\\grand-piano\\\\IMG_1931.jpg'"
      ]
     },
     "execution_count": 7,
     "metadata": {},
     "output_type": "execute_result"
    },
    {
     "data": {
      "text/plain": [
       "'C:\\\\Users\\\\fralu\\\\Documents\\\\GitHub\\\\anndl\\\\image-classification\\\\Classification_Dataset\\\\training\\\\grand-piano\\\\IMG_1988.jpg'"
      ]
     },
     "execution_count": 7,
     "metadata": {},
     "output_type": "execute_result"
    },
    {
     "data": {
      "text/plain": [
       "'C:\\\\Users\\\\fralu\\\\Documents\\\\GitHub\\\\anndl\\\\image-classification\\\\Classification_Dataset\\\\training\\\\grand-piano\\\\IMG_425.jpg'"
      ]
     },
     "execution_count": 7,
     "metadata": {},
     "output_type": "execute_result"
    },
    {
     "data": {
      "text/plain": [
       "'C:\\\\Users\\\\fralu\\\\Documents\\\\GitHub\\\\anndl\\\\image-classification\\\\Classification_Dataset\\\\training\\\\grand-piano\\\\IMG_559.jpg'"
      ]
     },
     "execution_count": 7,
     "metadata": {},
     "output_type": "execute_result"
    },
    {
     "data": {
      "text/plain": [
       "'C:\\\\Users\\\\fralu\\\\Documents\\\\GitHub\\\\anndl\\\\image-classification\\\\Classification_Dataset\\\\training\\\\grand-piano\\\\IMG_776.jpg'"
      ]
     },
     "execution_count": 7,
     "metadata": {},
     "output_type": "execute_result"
    },
    {
     "data": {
      "text/plain": [
       "'C:\\\\Users\\\\fralu\\\\Documents\\\\GitHub\\\\anndl\\\\image-classification\\\\Classification_Dataset\\\\training\\\\grand-piano\\\\IMG_988.jpg'"
      ]
     },
     "execution_count": 7,
     "metadata": {},
     "output_type": "execute_result"
    },
    {
     "data": {
      "text/plain": [
       "'C:\\\\Users\\\\fralu\\\\Documents\\\\GitHub\\\\anndl\\\\image-classification\\\\Classification_Dataset\\\\training\\\\kangaroo\\\\IMG_1394.jpg'"
      ]
     },
     "execution_count": 7,
     "metadata": {},
     "output_type": "execute_result"
    },
    {
     "data": {
      "text/plain": [
       "'C:\\\\Users\\\\fralu\\\\Documents\\\\GitHub\\\\anndl\\\\image-classification\\\\Classification_Dataset\\\\training\\\\kangaroo\\\\IMG_1582.jpg'"
      ]
     },
     "execution_count": 7,
     "metadata": {},
     "output_type": "execute_result"
    },
    {
     "data": {
      "text/plain": [
       "'C:\\\\Users\\\\fralu\\\\Documents\\\\GitHub\\\\anndl\\\\image-classification\\\\Classification_Dataset\\\\training\\\\kangaroo\\\\IMG_1588.jpg'"
      ]
     },
     "execution_count": 7,
     "metadata": {},
     "output_type": "execute_result"
    },
    {
     "data": {
      "text/plain": [
       "'C:\\\\Users\\\\fralu\\\\Documents\\\\GitHub\\\\anndl\\\\image-classification\\\\Classification_Dataset\\\\training\\\\kangaroo\\\\IMG_1745.jpg'"
      ]
     },
     "execution_count": 7,
     "metadata": {},
     "output_type": "execute_result"
    },
    {
     "data": {
      "text/plain": [
       "'C:\\\\Users\\\\fralu\\\\Documents\\\\GitHub\\\\anndl\\\\image-classification\\\\Classification_Dataset\\\\training\\\\kangaroo\\\\IMG_1770.jpg'"
      ]
     },
     "execution_count": 7,
     "metadata": {},
     "output_type": "execute_result"
    },
    {
     "data": {
      "text/plain": [
       "'C:\\\\Users\\\\fralu\\\\Documents\\\\GitHub\\\\anndl\\\\image-classification\\\\Classification_Dataset\\\\training\\\\kangaroo\\\\IMG_1834.jpg'"
      ]
     },
     "execution_count": 7,
     "metadata": {},
     "output_type": "execute_result"
    },
    {
     "data": {
      "text/plain": [
       "'C:\\\\Users\\\\fralu\\\\Documents\\\\GitHub\\\\anndl\\\\image-classification\\\\Classification_Dataset\\\\training\\\\kangaroo\\\\IMG_1895.jpg'"
      ]
     },
     "execution_count": 7,
     "metadata": {},
     "output_type": "execute_result"
    },
    {
     "data": {
      "text/plain": [
       "'C:\\\\Users\\\\fralu\\\\Documents\\\\GitHub\\\\anndl\\\\image-classification\\\\Classification_Dataset\\\\training\\\\kangaroo\\\\IMG_2046.jpg'"
      ]
     },
     "execution_count": 7,
     "metadata": {},
     "output_type": "execute_result"
    },
    {
     "data": {
      "text/plain": [
       "'C:\\\\Users\\\\fralu\\\\Documents\\\\GitHub\\\\anndl\\\\image-classification\\\\Classification_Dataset\\\\training\\\\kangaroo\\\\IMG_303.jpg'"
      ]
     },
     "execution_count": 7,
     "metadata": {},
     "output_type": "execute_result"
    },
    {
     "data": {
      "text/plain": [
       "'C:\\\\Users\\\\fralu\\\\Documents\\\\GitHub\\\\anndl\\\\image-classification\\\\Classification_Dataset\\\\training\\\\kangaroo\\\\IMG_475.jpg'"
      ]
     },
     "execution_count": 7,
     "metadata": {},
     "output_type": "execute_result"
    },
    {
     "data": {
      "text/plain": [
       "'C:\\\\Users\\\\fralu\\\\Documents\\\\GitHub\\\\anndl\\\\image-classification\\\\Classification_Dataset\\\\training\\\\kangaroo\\\\IMG_723.jpg'"
      ]
     },
     "execution_count": 7,
     "metadata": {},
     "output_type": "execute_result"
    },
    {
     "data": {
      "text/plain": [
       "'C:\\\\Users\\\\fralu\\\\Documents\\\\GitHub\\\\anndl\\\\image-classification\\\\Classification_Dataset\\\\training\\\\kangaroo\\\\IMG_795.jpg'"
      ]
     },
     "execution_count": 7,
     "metadata": {},
     "output_type": "execute_result"
    },
    {
     "data": {
      "text/plain": [
       "'C:\\\\Users\\\\fralu\\\\Documents\\\\GitHub\\\\anndl\\\\image-classification\\\\Classification_Dataset\\\\training\\\\kangaroo\\\\IMG_851.jpg'"
      ]
     },
     "execution_count": 7,
     "metadata": {},
     "output_type": "execute_result"
    },
    {
     "data": {
      "text/plain": [
       "'C:\\\\Users\\\\fralu\\\\Documents\\\\GitHub\\\\anndl\\\\image-classification\\\\Classification_Dataset\\\\training\\\\laptop\\\\IMG_1024.jpg'"
      ]
     },
     "execution_count": 7,
     "metadata": {},
     "output_type": "execute_result"
    },
    {
     "data": {
      "text/plain": [
       "'C:\\\\Users\\\\fralu\\\\Documents\\\\GitHub\\\\anndl\\\\image-classification\\\\Classification_Dataset\\\\training\\\\laptop\\\\IMG_1093.jpg'"
      ]
     },
     "execution_count": 7,
     "metadata": {},
     "output_type": "execute_result"
    },
    {
     "data": {
      "text/plain": [
       "'C:\\\\Users\\\\fralu\\\\Documents\\\\GitHub\\\\anndl\\\\image-classification\\\\Classification_Dataset\\\\training\\\\laptop\\\\IMG_1305.jpg'"
      ]
     },
     "execution_count": 7,
     "metadata": {},
     "output_type": "execute_result"
    },
    {
     "data": {
      "text/plain": [
       "'C:\\\\Users\\\\fralu\\\\Documents\\\\GitHub\\\\anndl\\\\image-classification\\\\Classification_Dataset\\\\training\\\\laptop\\\\IMG_1454.jpg'"
      ]
     },
     "execution_count": 7,
     "metadata": {},
     "output_type": "execute_result"
    },
    {
     "data": {
      "text/plain": [
       "'C:\\\\Users\\\\fralu\\\\Documents\\\\GitHub\\\\anndl\\\\image-classification\\\\Classification_Dataset\\\\training\\\\laptop\\\\IMG_1470.jpg'"
      ]
     },
     "execution_count": 7,
     "metadata": {},
     "output_type": "execute_result"
    },
    {
     "data": {
      "text/plain": [
       "'C:\\\\Users\\\\fralu\\\\Documents\\\\GitHub\\\\anndl\\\\image-classification\\\\Classification_Dataset\\\\training\\\\laptop\\\\IMG_1548.jpg'"
      ]
     },
     "execution_count": 7,
     "metadata": {},
     "output_type": "execute_result"
    },
    {
     "data": {
      "text/plain": [
       "'C:\\\\Users\\\\fralu\\\\Documents\\\\GitHub\\\\anndl\\\\image-classification\\\\Classification_Dataset\\\\training\\\\laptop\\\\IMG_158.jpg'"
      ]
     },
     "execution_count": 7,
     "metadata": {},
     "output_type": "execute_result"
    },
    {
     "data": {
      "text/plain": [
       "'C:\\\\Users\\\\fralu\\\\Documents\\\\GitHub\\\\anndl\\\\image-classification\\\\Classification_Dataset\\\\training\\\\laptop\\\\IMG_1647.jpg'"
      ]
     },
     "execution_count": 7,
     "metadata": {},
     "output_type": "execute_result"
    },
    {
     "data": {
      "text/plain": [
       "'C:\\\\Users\\\\fralu\\\\Documents\\\\GitHub\\\\anndl\\\\image-classification\\\\Classification_Dataset\\\\training\\\\laptop\\\\IMG_1682.jpg'"
      ]
     },
     "execution_count": 7,
     "metadata": {},
     "output_type": "execute_result"
    },
    {
     "data": {
      "text/plain": [
       "'C:\\\\Users\\\\fralu\\\\Documents\\\\GitHub\\\\anndl\\\\image-classification\\\\Classification_Dataset\\\\training\\\\laptop\\\\IMG_1751.jpg'"
      ]
     },
     "execution_count": 7,
     "metadata": {},
     "output_type": "execute_result"
    },
    {
     "data": {
      "text/plain": [
       "'C:\\\\Users\\\\fralu\\\\Documents\\\\GitHub\\\\anndl\\\\image-classification\\\\Classification_Dataset\\\\training\\\\laptop\\\\IMG_1758.jpg'"
      ]
     },
     "execution_count": 7,
     "metadata": {},
     "output_type": "execute_result"
    },
    {
     "data": {
      "text/plain": [
       "'C:\\\\Users\\\\fralu\\\\Documents\\\\GitHub\\\\anndl\\\\image-classification\\\\Classification_Dataset\\\\training\\\\laptop\\\\IMG_221.jpg'"
      ]
     },
     "execution_count": 7,
     "metadata": {},
     "output_type": "execute_result"
    },
    {
     "data": {
      "text/plain": [
       "'C:\\\\Users\\\\fralu\\\\Documents\\\\GitHub\\\\anndl\\\\image-classification\\\\Classification_Dataset\\\\training\\\\laptop\\\\IMG_225.jpg'"
      ]
     },
     "execution_count": 7,
     "metadata": {},
     "output_type": "execute_result"
    },
    {
     "data": {
      "text/plain": [
       "'C:\\\\Users\\\\fralu\\\\Documents\\\\GitHub\\\\anndl\\\\image-classification\\\\Classification_Dataset\\\\training\\\\laptop\\\\IMG_241.jpg'"
      ]
     },
     "execution_count": 7,
     "metadata": {},
     "output_type": "execute_result"
    },
    {
     "data": {
      "text/plain": [
       "'C:\\\\Users\\\\fralu\\\\Documents\\\\GitHub\\\\anndl\\\\image-classification\\\\Classification_Dataset\\\\training\\\\laptop\\\\IMG_266.jpg'"
      ]
     },
     "execution_count": 7,
     "metadata": {},
     "output_type": "execute_result"
    },
    {
     "data": {
      "text/plain": [
       "'C:\\\\Users\\\\fralu\\\\Documents\\\\GitHub\\\\anndl\\\\image-classification\\\\Classification_Dataset\\\\training\\\\laptop\\\\IMG_283.jpg'"
      ]
     },
     "execution_count": 7,
     "metadata": {},
     "output_type": "execute_result"
    },
    {
     "data": {
      "text/plain": [
       "'C:\\\\Users\\\\fralu\\\\Documents\\\\GitHub\\\\anndl\\\\image-classification\\\\Classification_Dataset\\\\training\\\\laptop\\\\IMG_393.jpg'"
      ]
     },
     "execution_count": 7,
     "metadata": {},
     "output_type": "execute_result"
    },
    {
     "data": {
      "text/plain": [
       "'C:\\\\Users\\\\fralu\\\\Documents\\\\GitHub\\\\anndl\\\\image-classification\\\\Classification_Dataset\\\\training\\\\laptop\\\\IMG_578.jpg'"
      ]
     },
     "execution_count": 7,
     "metadata": {},
     "output_type": "execute_result"
    },
    {
     "data": {
      "text/plain": [
       "'C:\\\\Users\\\\fralu\\\\Documents\\\\GitHub\\\\anndl\\\\image-classification\\\\Classification_Dataset\\\\training\\\\laptop\\\\IMG_60.jpg'"
      ]
     },
     "execution_count": 7,
     "metadata": {},
     "output_type": "execute_result"
    },
    {
     "data": {
      "text/plain": [
       "'C:\\\\Users\\\\fralu\\\\Documents\\\\GitHub\\\\anndl\\\\image-classification\\\\Classification_Dataset\\\\training\\\\laptop\\\\IMG_639.jpg'"
      ]
     },
     "execution_count": 7,
     "metadata": {},
     "output_type": "execute_result"
    },
    {
     "data": {
      "text/plain": [
       "'C:\\\\Users\\\\fralu\\\\Documents\\\\GitHub\\\\anndl\\\\image-classification\\\\Classification_Dataset\\\\training\\\\laptop\\\\IMG_648.jpg'"
      ]
     },
     "execution_count": 7,
     "metadata": {},
     "output_type": "execute_result"
    },
    {
     "data": {
      "text/plain": [
       "'C:\\\\Users\\\\fralu\\\\Documents\\\\GitHub\\\\anndl\\\\image-classification\\\\Classification_Dataset\\\\training\\\\laptop\\\\IMG_663.jpg'"
      ]
     },
     "execution_count": 7,
     "metadata": {},
     "output_type": "execute_result"
    },
    {
     "data": {
      "text/plain": [
       "'C:\\\\Users\\\\fralu\\\\Documents\\\\GitHub\\\\anndl\\\\image-classification\\\\Classification_Dataset\\\\training\\\\laptop\\\\IMG_742.jpg'"
      ]
     },
     "execution_count": 7,
     "metadata": {},
     "output_type": "execute_result"
    },
    {
     "data": {
      "text/plain": [
       "'C:\\\\Users\\\\fralu\\\\Documents\\\\GitHub\\\\anndl\\\\image-classification\\\\Classification_Dataset\\\\training\\\\laptop\\\\IMG_874.jpg'"
      ]
     },
     "execution_count": 7,
     "metadata": {},
     "output_type": "execute_result"
    },
    {
     "data": {
      "text/plain": [
       "'C:\\\\Users\\\\fralu\\\\Documents\\\\GitHub\\\\anndl\\\\image-classification\\\\Classification_Dataset\\\\training\\\\lightbulb\\\\IMG_112.jpg'"
      ]
     },
     "execution_count": 7,
     "metadata": {},
     "output_type": "execute_result"
    },
    {
     "data": {
      "text/plain": [
       "'C:\\\\Users\\\\fralu\\\\Documents\\\\GitHub\\\\anndl\\\\image-classification\\\\Classification_Dataset\\\\training\\\\lightbulb\\\\IMG_1164.jpg'"
      ]
     },
     "execution_count": 7,
     "metadata": {},
     "output_type": "execute_result"
    },
    {
     "data": {
      "text/plain": [
       "'C:\\\\Users\\\\fralu\\\\Documents\\\\GitHub\\\\anndl\\\\image-classification\\\\Classification_Dataset\\\\training\\\\lightbulb\\\\IMG_1168.jpg'"
      ]
     },
     "execution_count": 7,
     "metadata": {},
     "output_type": "execute_result"
    },
    {
     "data": {
      "text/plain": [
       "'C:\\\\Users\\\\fralu\\\\Documents\\\\GitHub\\\\anndl\\\\image-classification\\\\Classification_Dataset\\\\training\\\\lightbulb\\\\IMG_1336.jpg'"
      ]
     },
     "execution_count": 7,
     "metadata": {},
     "output_type": "execute_result"
    },
    {
     "data": {
      "text/plain": [
       "'C:\\\\Users\\\\fralu\\\\Documents\\\\GitHub\\\\anndl\\\\image-classification\\\\Classification_Dataset\\\\training\\\\lightbulb\\\\IMG_147.jpg'"
      ]
     },
     "execution_count": 7,
     "metadata": {},
     "output_type": "execute_result"
    },
    {
     "data": {
      "text/plain": [
       "'C:\\\\Users\\\\fralu\\\\Documents\\\\GitHub\\\\anndl\\\\image-classification\\\\Classification_Dataset\\\\training\\\\lightbulb\\\\IMG_1508.jpg'"
      ]
     },
     "execution_count": 7,
     "metadata": {},
     "output_type": "execute_result"
    },
    {
     "data": {
      "text/plain": [
       "'C:\\\\Users\\\\fralu\\\\Documents\\\\GitHub\\\\anndl\\\\image-classification\\\\Classification_Dataset\\\\training\\\\lightbulb\\\\IMG_1613.jpg'"
      ]
     },
     "execution_count": 7,
     "metadata": {},
     "output_type": "execute_result"
    },
    {
     "data": {
      "text/plain": [
       "'C:\\\\Users\\\\fralu\\\\Documents\\\\GitHub\\\\anndl\\\\image-classification\\\\Classification_Dataset\\\\training\\\\lightbulb\\\\IMG_1999.jpg'"
      ]
     },
     "execution_count": 7,
     "metadata": {},
     "output_type": "execute_result"
    },
    {
     "data": {
      "text/plain": [
       "'C:\\\\Users\\\\fralu\\\\Documents\\\\GitHub\\\\anndl\\\\image-classification\\\\Classification_Dataset\\\\training\\\\lightbulb\\\\IMG_471.jpg'"
      ]
     },
     "execution_count": 7,
     "metadata": {},
     "output_type": "execute_result"
    },
    {
     "data": {
      "text/plain": [
       "'C:\\\\Users\\\\fralu\\\\Documents\\\\GitHub\\\\anndl\\\\image-classification\\\\Classification_Dataset\\\\training\\\\lightbulb\\\\IMG_633.jpg'"
      ]
     },
     "execution_count": 7,
     "metadata": {},
     "output_type": "execute_result"
    },
    {
     "data": {
      "text/plain": [
       "'C:\\\\Users\\\\fralu\\\\Documents\\\\GitHub\\\\anndl\\\\image-classification\\\\Classification_Dataset\\\\training\\\\lightbulb\\\\IMG_771.jpg'"
      ]
     },
     "execution_count": 7,
     "metadata": {},
     "output_type": "execute_result"
    },
    {
     "data": {
      "text/plain": [
       "'C:\\\\Users\\\\fralu\\\\Documents\\\\GitHub\\\\anndl\\\\image-classification\\\\Classification_Dataset\\\\training\\\\lightbulb\\\\IMG_979.jpg'"
      ]
     },
     "execution_count": 7,
     "metadata": {},
     "output_type": "execute_result"
    },
    {
     "data": {
      "text/plain": [
       "'C:\\\\Users\\\\fralu\\\\Documents\\\\GitHub\\\\anndl\\\\image-classification\\\\Classification_Dataset\\\\training\\\\lightbulb\\\\IMG_995.jpg'"
      ]
     },
     "execution_count": 7,
     "metadata": {},
     "output_type": "execute_result"
    },
    {
     "data": {
      "text/plain": [
       "'C:\\\\Users\\\\fralu\\\\Documents\\\\GitHub\\\\anndl\\\\image-classification\\\\Classification_Dataset\\\\training\\\\lightning\\\\IMG_1081.jpg'"
      ]
     },
     "execution_count": 7,
     "metadata": {},
     "output_type": "execute_result"
    },
    {
     "data": {
      "text/plain": [
       "'C:\\\\Users\\\\fralu\\\\Documents\\\\GitHub\\\\anndl\\\\image-classification\\\\Classification_Dataset\\\\training\\\\lightning\\\\IMG_11.jpg'"
      ]
     },
     "execution_count": 7,
     "metadata": {},
     "output_type": "execute_result"
    },
    {
     "data": {
      "text/plain": [
       "'C:\\\\Users\\\\fralu\\\\Documents\\\\GitHub\\\\anndl\\\\image-classification\\\\Classification_Dataset\\\\training\\\\lightning\\\\IMG_1125.jpg'"
      ]
     },
     "execution_count": 7,
     "metadata": {},
     "output_type": "execute_result"
    },
    {
     "data": {
      "text/plain": [
       "'C:\\\\Users\\\\fralu\\\\Documents\\\\GitHub\\\\anndl\\\\image-classification\\\\Classification_Dataset\\\\training\\\\lightning\\\\IMG_118.jpg'"
      ]
     },
     "execution_count": 7,
     "metadata": {},
     "output_type": "execute_result"
    },
    {
     "data": {
      "text/plain": [
       "'C:\\\\Users\\\\fralu\\\\Documents\\\\GitHub\\\\anndl\\\\image-classification\\\\Classification_Dataset\\\\training\\\\lightning\\\\IMG_1262.jpg'"
      ]
     },
     "execution_count": 7,
     "metadata": {},
     "output_type": "execute_result"
    },
    {
     "data": {
      "text/plain": [
       "'C:\\\\Users\\\\fralu\\\\Documents\\\\GitHub\\\\anndl\\\\image-classification\\\\Classification_Dataset\\\\training\\\\lightning\\\\IMG_1273.jpg'"
      ]
     },
     "execution_count": 7,
     "metadata": {},
     "output_type": "execute_result"
    },
    {
     "data": {
      "text/plain": [
       "'C:\\\\Users\\\\fralu\\\\Documents\\\\GitHub\\\\anndl\\\\image-classification\\\\Classification_Dataset\\\\training\\\\lightning\\\\IMG_1277.jpg'"
      ]
     },
     "execution_count": 7,
     "metadata": {},
     "output_type": "execute_result"
    },
    {
     "data": {
      "text/plain": [
       "'C:\\\\Users\\\\fralu\\\\Documents\\\\GitHub\\\\anndl\\\\image-classification\\\\Classification_Dataset\\\\training\\\\lightning\\\\IMG_1287.jpg'"
      ]
     },
     "execution_count": 7,
     "metadata": {},
     "output_type": "execute_result"
    },
    {
     "data": {
      "text/plain": [
       "'C:\\\\Users\\\\fralu\\\\Documents\\\\GitHub\\\\anndl\\\\image-classification\\\\Classification_Dataset\\\\training\\\\lightning\\\\IMG_1413.jpg'"
      ]
     },
     "execution_count": 7,
     "metadata": {},
     "output_type": "execute_result"
    },
    {
     "data": {
      "text/plain": [
       "'C:\\\\Users\\\\fralu\\\\Documents\\\\GitHub\\\\anndl\\\\image-classification\\\\Classification_Dataset\\\\training\\\\lightning\\\\IMG_1439.jpg'"
      ]
     },
     "execution_count": 7,
     "metadata": {},
     "output_type": "execute_result"
    },
    {
     "data": {
      "text/plain": [
       "'C:\\\\Users\\\\fralu\\\\Documents\\\\GitHub\\\\anndl\\\\image-classification\\\\Classification_Dataset\\\\training\\\\lightning\\\\IMG_161.jpg'"
      ]
     },
     "execution_count": 7,
     "metadata": {},
     "output_type": "execute_result"
    },
    {
     "data": {
      "text/plain": [
       "'C:\\\\Users\\\\fralu\\\\Documents\\\\GitHub\\\\anndl\\\\image-classification\\\\Classification_Dataset\\\\training\\\\lightning\\\\IMG_1629.jpg'"
      ]
     },
     "execution_count": 7,
     "metadata": {},
     "output_type": "execute_result"
    },
    {
     "data": {
      "text/plain": [
       "'C:\\\\Users\\\\fralu\\\\Documents\\\\GitHub\\\\anndl\\\\image-classification\\\\Classification_Dataset\\\\training\\\\lightning\\\\IMG_1825.jpg'"
      ]
     },
     "execution_count": 7,
     "metadata": {},
     "output_type": "execute_result"
    },
    {
     "data": {
      "text/plain": [
       "'C:\\\\Users\\\\fralu\\\\Documents\\\\GitHub\\\\anndl\\\\image-classification\\\\Classification_Dataset\\\\training\\\\lightning\\\\IMG_1972.jpg'"
      ]
     },
     "execution_count": 7,
     "metadata": {},
     "output_type": "execute_result"
    },
    {
     "data": {
      "text/plain": [
       "'C:\\\\Users\\\\fralu\\\\Documents\\\\GitHub\\\\anndl\\\\image-classification\\\\Classification_Dataset\\\\training\\\\lightning\\\\IMG_339.jpg'"
      ]
     },
     "execution_count": 7,
     "metadata": {},
     "output_type": "execute_result"
    },
    {
     "data": {
      "text/plain": [
       "'C:\\\\Users\\\\fralu\\\\Documents\\\\GitHub\\\\anndl\\\\image-classification\\\\Classification_Dataset\\\\training\\\\lightning\\\\IMG_345.jpg'"
      ]
     },
     "execution_count": 7,
     "metadata": {},
     "output_type": "execute_result"
    },
    {
     "data": {
      "text/plain": [
       "'C:\\\\Users\\\\fralu\\\\Documents\\\\GitHub\\\\anndl\\\\image-classification\\\\Classification_Dataset\\\\training\\\\lightning\\\\IMG_468.jpg'"
      ]
     },
     "execution_count": 7,
     "metadata": {},
     "output_type": "execute_result"
    },
    {
     "data": {
      "text/plain": [
       "'C:\\\\Users\\\\fralu\\\\Documents\\\\GitHub\\\\anndl\\\\image-classification\\\\Classification_Dataset\\\\training\\\\lightning\\\\IMG_573.jpg'"
      ]
     },
     "execution_count": 7,
     "metadata": {},
     "output_type": "execute_result"
    },
    {
     "data": {
      "text/plain": [
       "'C:\\\\Users\\\\fralu\\\\Documents\\\\GitHub\\\\anndl\\\\image-classification\\\\Classification_Dataset\\\\training\\\\lightning\\\\IMG_772.jpg'"
      ]
     },
     "execution_count": 7,
     "metadata": {},
     "output_type": "execute_result"
    },
    {
     "data": {
      "text/plain": [
       "'C:\\\\Users\\\\fralu\\\\Documents\\\\GitHub\\\\anndl\\\\image-classification\\\\Classification_Dataset\\\\training\\\\lightning\\\\IMG_777.jpg'"
      ]
     },
     "execution_count": 7,
     "metadata": {},
     "output_type": "execute_result"
    },
    {
     "data": {
      "text/plain": [
       "'C:\\\\Users\\\\fralu\\\\Documents\\\\GitHub\\\\anndl\\\\image-classification\\\\Classification_Dataset\\\\training\\\\lightning\\\\IMG_855.jpg'"
      ]
     },
     "execution_count": 7,
     "metadata": {},
     "output_type": "execute_result"
    },
    {
     "data": {
      "text/plain": [
       "'C:\\\\Users\\\\fralu\\\\Documents\\\\GitHub\\\\anndl\\\\image-classification\\\\Classification_Dataset\\\\training\\\\mountain-bike\\\\IMG_1005.jpg'"
      ]
     },
     "execution_count": 7,
     "metadata": {},
     "output_type": "execute_result"
    },
    {
     "data": {
      "text/plain": [
       "'C:\\\\Users\\\\fralu\\\\Documents\\\\GitHub\\\\anndl\\\\image-classification\\\\Classification_Dataset\\\\training\\\\mountain-bike\\\\IMG_1300.jpg'"
      ]
     },
     "execution_count": 7,
     "metadata": {},
     "output_type": "execute_result"
    },
    {
     "data": {
      "text/plain": [
       "'C:\\\\Users\\\\fralu\\\\Documents\\\\GitHub\\\\anndl\\\\image-classification\\\\Classification_Dataset\\\\training\\\\mountain-bike\\\\IMG_1438.jpg'"
      ]
     },
     "execution_count": 7,
     "metadata": {},
     "output_type": "execute_result"
    },
    {
     "data": {
      "text/plain": [
       "'C:\\\\Users\\\\fralu\\\\Documents\\\\GitHub\\\\anndl\\\\image-classification\\\\Classification_Dataset\\\\training\\\\mountain-bike\\\\IMG_1765.jpg'"
      ]
     },
     "execution_count": 7,
     "metadata": {},
     "output_type": "execute_result"
    },
    {
     "data": {
      "text/plain": [
       "'C:\\\\Users\\\\fralu\\\\Documents\\\\GitHub\\\\anndl\\\\image-classification\\\\Classification_Dataset\\\\training\\\\mountain-bike\\\\IMG_193.jpg'"
      ]
     },
     "execution_count": 7,
     "metadata": {},
     "output_type": "execute_result"
    },
    {
     "data": {
      "text/plain": [
       "'C:\\\\Users\\\\fralu\\\\Documents\\\\GitHub\\\\anndl\\\\image-classification\\\\Classification_Dataset\\\\training\\\\mountain-bike\\\\IMG_1955.jpg'"
      ]
     },
     "execution_count": 7,
     "metadata": {},
     "output_type": "execute_result"
    },
    {
     "data": {
      "text/plain": [
       "'C:\\\\Users\\\\fralu\\\\Documents\\\\GitHub\\\\anndl\\\\image-classification\\\\Classification_Dataset\\\\training\\\\mountain-bike\\\\IMG_1992.jpg'"
      ]
     },
     "execution_count": 7,
     "metadata": {},
     "output_type": "execute_result"
    },
    {
     "data": {
      "text/plain": [
       "'C:\\\\Users\\\\fralu\\\\Documents\\\\GitHub\\\\anndl\\\\image-classification\\\\Classification_Dataset\\\\training\\\\mountain-bike\\\\IMG_247.jpg'"
      ]
     },
     "execution_count": 7,
     "metadata": {},
     "output_type": "execute_result"
    },
    {
     "data": {
      "text/plain": [
       "'C:\\\\Users\\\\fralu\\\\Documents\\\\GitHub\\\\anndl\\\\image-classification\\\\Classification_Dataset\\\\training\\\\mountain-bike\\\\IMG_618.jpg'"
      ]
     },
     "execution_count": 7,
     "metadata": {},
     "output_type": "execute_result"
    },
    {
     "data": {
      "text/plain": [
       "'C:\\\\Users\\\\fralu\\\\Documents\\\\GitHub\\\\anndl\\\\image-classification\\\\Classification_Dataset\\\\training\\\\mountain-bike\\\\IMG_839.jpg'"
      ]
     },
     "execution_count": 7,
     "metadata": {},
     "output_type": "execute_result"
    },
    {
     "data": {
      "text/plain": [
       "'C:\\\\Users\\\\fralu\\\\Documents\\\\GitHub\\\\anndl\\\\image-classification\\\\Classification_Dataset\\\\training\\\\owl\\\\IMG_1018.jpg'"
      ]
     },
     "execution_count": 7,
     "metadata": {},
     "output_type": "execute_result"
    },
    {
     "data": {
      "text/plain": [
       "'C:\\\\Users\\\\fralu\\\\Documents\\\\GitHub\\\\anndl\\\\image-classification\\\\Classification_Dataset\\\\training\\\\owl\\\\IMG_1039.jpg'"
      ]
     },
     "execution_count": 7,
     "metadata": {},
     "output_type": "execute_result"
    },
    {
     "data": {
      "text/plain": [
       "'C:\\\\Users\\\\fralu\\\\Documents\\\\GitHub\\\\anndl\\\\image-classification\\\\Classification_Dataset\\\\training\\\\owl\\\\IMG_1044.jpg'"
      ]
     },
     "execution_count": 7,
     "metadata": {},
     "output_type": "execute_result"
    },
    {
     "data": {
      "text/plain": [
       "'C:\\\\Users\\\\fralu\\\\Documents\\\\GitHub\\\\anndl\\\\image-classification\\\\Classification_Dataset\\\\training\\\\owl\\\\IMG_1065.jpg'"
      ]
     },
     "execution_count": 7,
     "metadata": {},
     "output_type": "execute_result"
    },
    {
     "data": {
      "text/plain": [
       "'C:\\\\Users\\\\fralu\\\\Documents\\\\GitHub\\\\anndl\\\\image-classification\\\\Classification_Dataset\\\\training\\\\owl\\\\IMG_1088.jpg'"
      ]
     },
     "execution_count": 7,
     "metadata": {},
     "output_type": "execute_result"
    },
    {
     "data": {
      "text/plain": [
       "'C:\\\\Users\\\\fralu\\\\Documents\\\\GitHub\\\\anndl\\\\image-classification\\\\Classification_Dataset\\\\training\\\\owl\\\\IMG_1182.jpg'"
      ]
     },
     "execution_count": 7,
     "metadata": {},
     "output_type": "execute_result"
    },
    {
     "data": {
      "text/plain": [
       "'C:\\\\Users\\\\fralu\\\\Documents\\\\GitHub\\\\anndl\\\\image-classification\\\\Classification_Dataset\\\\training\\\\owl\\\\IMG_1223.jpg'"
      ]
     },
     "execution_count": 7,
     "metadata": {},
     "output_type": "execute_result"
    },
    {
     "data": {
      "text/plain": [
       "'C:\\\\Users\\\\fralu\\\\Documents\\\\GitHub\\\\anndl\\\\image-classification\\\\Classification_Dataset\\\\training\\\\owl\\\\IMG_1301.jpg'"
      ]
     },
     "execution_count": 7,
     "metadata": {},
     "output_type": "execute_result"
    },
    {
     "data": {
      "text/plain": [
       "'C:\\\\Users\\\\fralu\\\\Documents\\\\GitHub\\\\anndl\\\\image-classification\\\\Classification_Dataset\\\\training\\\\owl\\\\IMG_1319.jpg'"
      ]
     },
     "execution_count": 7,
     "metadata": {},
     "output_type": "execute_result"
    },
    {
     "data": {
      "text/plain": [
       "'C:\\\\Users\\\\fralu\\\\Documents\\\\GitHub\\\\anndl\\\\image-classification\\\\Classification_Dataset\\\\training\\\\owl\\\\IMG_1326.jpg'"
      ]
     },
     "execution_count": 7,
     "metadata": {},
     "output_type": "execute_result"
    },
    {
     "data": {
      "text/plain": [
       "'C:\\\\Users\\\\fralu\\\\Documents\\\\GitHub\\\\anndl\\\\image-classification\\\\Classification_Dataset\\\\training\\\\owl\\\\IMG_1362.jpg'"
      ]
     },
     "execution_count": 7,
     "metadata": {},
     "output_type": "execute_result"
    },
    {
     "data": {
      "text/plain": [
       "'C:\\\\Users\\\\fralu\\\\Documents\\\\GitHub\\\\anndl\\\\image-classification\\\\Classification_Dataset\\\\training\\\\owl\\\\IMG_1366.jpg'"
      ]
     },
     "execution_count": 7,
     "metadata": {},
     "output_type": "execute_result"
    },
    {
     "data": {
      "text/plain": [
       "'C:\\\\Users\\\\fralu\\\\Documents\\\\GitHub\\\\anndl\\\\image-classification\\\\Classification_Dataset\\\\training\\\\owl\\\\IMG_1375.jpg'"
      ]
     },
     "execution_count": 7,
     "metadata": {},
     "output_type": "execute_result"
    },
    {
     "data": {
      "text/plain": [
       "'C:\\\\Users\\\\fralu\\\\Documents\\\\GitHub\\\\anndl\\\\image-classification\\\\Classification_Dataset\\\\training\\\\owl\\\\IMG_1380.jpg'"
      ]
     },
     "execution_count": 7,
     "metadata": {},
     "output_type": "execute_result"
    },
    {
     "data": {
      "text/plain": [
       "'C:\\\\Users\\\\fralu\\\\Documents\\\\GitHub\\\\anndl\\\\image-classification\\\\Classification_Dataset\\\\training\\\\owl\\\\IMG_1677.jpg'"
      ]
     },
     "execution_count": 7,
     "metadata": {},
     "output_type": "execute_result"
    },
    {
     "data": {
      "text/plain": [
       "'C:\\\\Users\\\\fralu\\\\Documents\\\\GitHub\\\\anndl\\\\image-classification\\\\Classification_Dataset\\\\training\\\\owl\\\\IMG_1694.jpg'"
      ]
     },
     "execution_count": 7,
     "metadata": {},
     "output_type": "execute_result"
    },
    {
     "data": {
      "text/plain": [
       "'C:\\\\Users\\\\fralu\\\\Documents\\\\GitHub\\\\anndl\\\\image-classification\\\\Classification_Dataset\\\\training\\\\owl\\\\IMG_1711.jpg'"
      ]
     },
     "execution_count": 7,
     "metadata": {},
     "output_type": "execute_result"
    },
    {
     "data": {
      "text/plain": [
       "'C:\\\\Users\\\\fralu\\\\Documents\\\\GitHub\\\\anndl\\\\image-classification\\\\Classification_Dataset\\\\training\\\\owl\\\\IMG_1779.jpg'"
      ]
     },
     "execution_count": 7,
     "metadata": {},
     "output_type": "execute_result"
    },
    {
     "data": {
      "text/plain": [
       "'C:\\\\Users\\\\fralu\\\\Documents\\\\GitHub\\\\anndl\\\\image-classification\\\\Classification_Dataset\\\\training\\\\owl\\\\IMG_1920.jpg'"
      ]
     },
     "execution_count": 7,
     "metadata": {},
     "output_type": "execute_result"
    },
    {
     "data": {
      "text/plain": [
       "'C:\\\\Users\\\\fralu\\\\Documents\\\\GitHub\\\\anndl\\\\image-classification\\\\Classification_Dataset\\\\training\\\\owl\\\\IMG_1980.jpg'"
      ]
     },
     "execution_count": 7,
     "metadata": {},
     "output_type": "execute_result"
    },
    {
     "data": {
      "text/plain": [
       "'C:\\\\Users\\\\fralu\\\\Documents\\\\GitHub\\\\anndl\\\\image-classification\\\\Classification_Dataset\\\\training\\\\owl\\\\IMG_1983.jpg'"
      ]
     },
     "execution_count": 7,
     "metadata": {},
     "output_type": "execute_result"
    },
    {
     "data": {
      "text/plain": [
       "'C:\\\\Users\\\\fralu\\\\Documents\\\\GitHub\\\\anndl\\\\image-classification\\\\Classification_Dataset\\\\training\\\\owl\\\\IMG_2048.jpg'"
      ]
     },
     "execution_count": 7,
     "metadata": {},
     "output_type": "execute_result"
    },
    {
     "data": {
      "text/plain": [
       "'C:\\\\Users\\\\fralu\\\\Documents\\\\GitHub\\\\anndl\\\\image-classification\\\\Classification_Dataset\\\\training\\\\owl\\\\IMG_274.jpg'"
      ]
     },
     "execution_count": 7,
     "metadata": {},
     "output_type": "execute_result"
    },
    {
     "data": {
      "text/plain": [
       "'C:\\\\Users\\\\fralu\\\\Documents\\\\GitHub\\\\anndl\\\\image-classification\\\\Classification_Dataset\\\\training\\\\owl\\\\IMG_319.jpg'"
      ]
     },
     "execution_count": 7,
     "metadata": {},
     "output_type": "execute_result"
    },
    {
     "data": {
      "text/plain": [
       "'C:\\\\Users\\\\fralu\\\\Documents\\\\GitHub\\\\anndl\\\\image-classification\\\\Classification_Dataset\\\\training\\\\owl\\\\IMG_399.jpg'"
      ]
     },
     "execution_count": 7,
     "metadata": {},
     "output_type": "execute_result"
    },
    {
     "data": {
      "text/plain": [
       "'C:\\\\Users\\\\fralu\\\\Documents\\\\GitHub\\\\anndl\\\\image-classification\\\\Classification_Dataset\\\\training\\\\owl\\\\IMG_431.jpg'"
      ]
     },
     "execution_count": 7,
     "metadata": {},
     "output_type": "execute_result"
    },
    {
     "data": {
      "text/plain": [
       "'C:\\\\Users\\\\fralu\\\\Documents\\\\GitHub\\\\anndl\\\\image-classification\\\\Classification_Dataset\\\\training\\\\owl\\\\IMG_434.jpg'"
      ]
     },
     "execution_count": 7,
     "metadata": {},
     "output_type": "execute_result"
    },
    {
     "data": {
      "text/plain": [
       "'C:\\\\Users\\\\fralu\\\\Documents\\\\GitHub\\\\anndl\\\\image-classification\\\\Classification_Dataset\\\\training\\\\owl\\\\IMG_50.jpg'"
      ]
     },
     "execution_count": 7,
     "metadata": {},
     "output_type": "execute_result"
    },
    {
     "data": {
      "text/plain": [
       "'C:\\\\Users\\\\fralu\\\\Documents\\\\GitHub\\\\anndl\\\\image-classification\\\\Classification_Dataset\\\\training\\\\owl\\\\IMG_541.jpg'"
      ]
     },
     "execution_count": 7,
     "metadata": {},
     "output_type": "execute_result"
    },
    {
     "data": {
      "text/plain": [
       "'C:\\\\Users\\\\fralu\\\\Documents\\\\GitHub\\\\anndl\\\\image-classification\\\\Classification_Dataset\\\\training\\\\owl\\\\IMG_595.jpg'"
      ]
     },
     "execution_count": 7,
     "metadata": {},
     "output_type": "execute_result"
    },
    {
     "data": {
      "text/plain": [
       "'C:\\\\Users\\\\fralu\\\\Documents\\\\GitHub\\\\anndl\\\\image-classification\\\\Classification_Dataset\\\\training\\\\owl\\\\IMG_65.jpg'"
      ]
     },
     "execution_count": 7,
     "metadata": {},
     "output_type": "execute_result"
    },
    {
     "data": {
      "text/plain": [
       "'C:\\\\Users\\\\fralu\\\\Documents\\\\GitHub\\\\anndl\\\\image-classification\\\\Classification_Dataset\\\\training\\\\owl\\\\IMG_76.jpg'"
      ]
     },
     "execution_count": 7,
     "metadata": {},
     "output_type": "execute_result"
    },
    {
     "data": {
      "text/plain": [
       "'C:\\\\Users\\\\fralu\\\\Documents\\\\GitHub\\\\anndl\\\\image-classification\\\\Classification_Dataset\\\\training\\\\school-bus\\\\IMG_1075.jpg'"
      ]
     },
     "execution_count": 7,
     "metadata": {},
     "output_type": "execute_result"
    },
    {
     "data": {
      "text/plain": [
       "'C:\\\\Users\\\\fralu\\\\Documents\\\\GitHub\\\\anndl\\\\image-classification\\\\Classification_Dataset\\\\training\\\\school-bus\\\\IMG_1471.jpg'"
      ]
     },
     "execution_count": 7,
     "metadata": {},
     "output_type": "execute_result"
    },
    {
     "data": {
      "text/plain": [
       "'C:\\\\Users\\\\fralu\\\\Documents\\\\GitHub\\\\anndl\\\\image-classification\\\\Classification_Dataset\\\\training\\\\school-bus\\\\IMG_1519.jpg'"
      ]
     },
     "execution_count": 7,
     "metadata": {},
     "output_type": "execute_result"
    },
    {
     "data": {
      "text/plain": [
       "'C:\\\\Users\\\\fralu\\\\Documents\\\\GitHub\\\\anndl\\\\image-classification\\\\Classification_Dataset\\\\training\\\\school-bus\\\\IMG_1742.jpg'"
      ]
     },
     "execution_count": 7,
     "metadata": {},
     "output_type": "execute_result"
    },
    {
     "data": {
      "text/plain": [
       "'C:\\\\Users\\\\fralu\\\\Documents\\\\GitHub\\\\anndl\\\\image-classification\\\\Classification_Dataset\\\\training\\\\school-bus\\\\IMG_216.jpg'"
      ]
     },
     "execution_count": 7,
     "metadata": {},
     "output_type": "execute_result"
    },
    {
     "data": {
      "text/plain": [
       "'C:\\\\Users\\\\fralu\\\\Documents\\\\GitHub\\\\anndl\\\\image-classification\\\\Classification_Dataset\\\\training\\\\school-bus\\\\IMG_242.jpg'"
      ]
     },
     "execution_count": 7,
     "metadata": {},
     "output_type": "execute_result"
    },
    {
     "data": {
      "text/plain": [
       "'C:\\\\Users\\\\fralu\\\\Documents\\\\GitHub\\\\anndl\\\\image-classification\\\\Classification_Dataset\\\\training\\\\school-bus\\\\IMG_326.jpg'"
      ]
     },
     "execution_count": 7,
     "metadata": {},
     "output_type": "execute_result"
    },
    {
     "data": {
      "text/plain": [
       "'C:\\\\Users\\\\fralu\\\\Documents\\\\GitHub\\\\anndl\\\\image-classification\\\\Classification_Dataset\\\\training\\\\school-bus\\\\IMG_428.jpg'"
      ]
     },
     "execution_count": 7,
     "metadata": {},
     "output_type": "execute_result"
    },
    {
     "data": {
      "text/plain": [
       "'C:\\\\Users\\\\fralu\\\\Documents\\\\GitHub\\\\anndl\\\\image-classification\\\\Classification_Dataset\\\\training\\\\school-bus\\\\IMG_453.jpg'"
      ]
     },
     "execution_count": 7,
     "metadata": {},
     "output_type": "execute_result"
    },
    {
     "data": {
      "text/plain": [
       "'C:\\\\Users\\\\fralu\\\\Documents\\\\GitHub\\\\anndl\\\\image-classification\\\\Classification_Dataset\\\\training\\\\school-bus\\\\IMG_619.jpg'"
      ]
     },
     "execution_count": 7,
     "metadata": {},
     "output_type": "execute_result"
    },
    {
     "data": {
      "text/plain": [
       "'C:\\\\Users\\\\fralu\\\\Documents\\\\GitHub\\\\anndl\\\\image-classification\\\\Classification_Dataset\\\\training\\\\school-bus\\\\IMG_799.jpg'"
      ]
     },
     "execution_count": 7,
     "metadata": {},
     "output_type": "execute_result"
    },
    {
     "data": {
      "text/plain": [
       "'C:\\\\Users\\\\fralu\\\\Documents\\\\GitHub\\\\anndl\\\\image-classification\\\\Classification_Dataset\\\\training\\\\school-bus\\\\IMG_841.jpg'"
      ]
     },
     "execution_count": 7,
     "metadata": {},
     "output_type": "execute_result"
    },
    {
     "data": {
      "text/plain": [
       "'C:\\\\Users\\\\fralu\\\\Documents\\\\GitHub\\\\anndl\\\\image-classification\\\\Classification_Dataset\\\\training\\\\school-bus\\\\IMG_858.jpg'"
      ]
     },
     "execution_count": 7,
     "metadata": {},
     "output_type": "execute_result"
    },
    {
     "data": {
      "text/plain": [
       "'C:\\\\Users\\\\fralu\\\\Documents\\\\GitHub\\\\anndl\\\\image-classification\\\\Classification_Dataset\\\\training\\\\school-bus\\\\IMG_868.jpg'"
      ]
     },
     "execution_count": 7,
     "metadata": {},
     "output_type": "execute_result"
    },
    {
     "data": {
      "text/plain": [
       "'C:\\\\Users\\\\fralu\\\\Documents\\\\GitHub\\\\anndl\\\\image-classification\\\\Classification_Dataset\\\\training\\\\sheet-music\\\\IMG_1316.jpg'"
      ]
     },
     "execution_count": 7,
     "metadata": {},
     "output_type": "execute_result"
    },
    {
     "data": {
      "text/plain": [
       "'C:\\\\Users\\\\fralu\\\\Documents\\\\GitHub\\\\anndl\\\\image-classification\\\\Classification_Dataset\\\\training\\\\sheet-music\\\\IMG_1371.jpg'"
      ]
     },
     "execution_count": 7,
     "metadata": {},
     "output_type": "execute_result"
    },
    {
     "data": {
      "text/plain": [
       "'C:\\\\Users\\\\fralu\\\\Documents\\\\GitHub\\\\anndl\\\\image-classification\\\\Classification_Dataset\\\\training\\\\sheet-music\\\\IMG_1376.jpg'"
      ]
     },
     "execution_count": 7,
     "metadata": {},
     "output_type": "execute_result"
    },
    {
     "data": {
      "text/plain": [
       "'C:\\\\Users\\\\fralu\\\\Documents\\\\GitHub\\\\anndl\\\\image-classification\\\\Classification_Dataset\\\\training\\\\sheet-music\\\\IMG_1463.jpg'"
      ]
     },
     "execution_count": 7,
     "metadata": {},
     "output_type": "execute_result"
    },
    {
     "data": {
      "text/plain": [
       "'C:\\\\Users\\\\fralu\\\\Documents\\\\GitHub\\\\anndl\\\\image-classification\\\\Classification_Dataset\\\\training\\\\sheet-music\\\\IMG_1489.jpg'"
      ]
     },
     "execution_count": 7,
     "metadata": {},
     "output_type": "execute_result"
    },
    {
     "data": {
      "text/plain": [
       "'C:\\\\Users\\\\fralu\\\\Documents\\\\GitHub\\\\anndl\\\\image-classification\\\\Classification_Dataset\\\\training\\\\sheet-music\\\\IMG_1569.jpg'"
      ]
     },
     "execution_count": 7,
     "metadata": {},
     "output_type": "execute_result"
    },
    {
     "data": {
      "text/plain": [
       "'C:\\\\Users\\\\fralu\\\\Documents\\\\GitHub\\\\anndl\\\\image-classification\\\\Classification_Dataset\\\\training\\\\sheet-music\\\\IMG_1641.jpg'"
      ]
     },
     "execution_count": 7,
     "metadata": {},
     "output_type": "execute_result"
    },
    {
     "data": {
      "text/plain": [
       "'C:\\\\Users\\\\fralu\\\\Documents\\\\GitHub\\\\anndl\\\\image-classification\\\\Classification_Dataset\\\\training\\\\sheet-music\\\\IMG_1843.jpg'"
      ]
     },
     "execution_count": 7,
     "metadata": {},
     "output_type": "execute_result"
    },
    {
     "data": {
      "text/plain": [
       "'C:\\\\Users\\\\fralu\\\\Documents\\\\GitHub\\\\anndl\\\\image-classification\\\\Classification_Dataset\\\\training\\\\sheet-music\\\\IMG_276.jpg'"
      ]
     },
     "execution_count": 7,
     "metadata": {},
     "output_type": "execute_result"
    },
    {
     "data": {
      "text/plain": [
       "'C:\\\\Users\\\\fralu\\\\Documents\\\\GitHub\\\\anndl\\\\image-classification\\\\Classification_Dataset\\\\training\\\\sheet-music\\\\IMG_311.jpg'"
      ]
     },
     "execution_count": 7,
     "metadata": {},
     "output_type": "execute_result"
    },
    {
     "data": {
      "text/plain": [
       "'C:\\\\Users\\\\fralu\\\\Documents\\\\GitHub\\\\anndl\\\\image-classification\\\\Classification_Dataset\\\\training\\\\sheet-music\\\\IMG_333.jpg'"
      ]
     },
     "execution_count": 7,
     "metadata": {},
     "output_type": "execute_result"
    },
    {
     "data": {
      "text/plain": [
       "'C:\\\\Users\\\\fralu\\\\Documents\\\\GitHub\\\\anndl\\\\image-classification\\\\Classification_Dataset\\\\training\\\\sheet-music\\\\IMG_354.jpg'"
      ]
     },
     "execution_count": 7,
     "metadata": {},
     "output_type": "execute_result"
    },
    {
     "data": {
      "text/plain": [
       "'C:\\\\Users\\\\fralu\\\\Documents\\\\GitHub\\\\anndl\\\\image-classification\\\\Classification_Dataset\\\\training\\\\sheet-music\\\\IMG_632.jpg'"
      ]
     },
     "execution_count": 7,
     "metadata": {},
     "output_type": "execute_result"
    },
    {
     "data": {
      "text/plain": [
       "'C:\\\\Users\\\\fralu\\\\Documents\\\\GitHub\\\\anndl\\\\image-classification\\\\Classification_Dataset\\\\training\\\\sheet-music\\\\IMG_745.jpg'"
      ]
     },
     "execution_count": 7,
     "metadata": {},
     "output_type": "execute_result"
    },
    {
     "data": {
      "text/plain": [
       "'C:\\\\Users\\\\fralu\\\\Documents\\\\GitHub\\\\anndl\\\\image-classification\\\\Classification_Dataset\\\\training\\\\sheet-music\\\\IMG_750.jpg'"
      ]
     },
     "execution_count": 7,
     "metadata": {},
     "output_type": "execute_result"
    },
    {
     "data": {
      "text/plain": [
       "'C:\\\\Users\\\\fralu\\\\Documents\\\\GitHub\\\\anndl\\\\image-classification\\\\Classification_Dataset\\\\training\\\\sheet-music\\\\IMG_816.jpg'"
      ]
     },
     "execution_count": 7,
     "metadata": {},
     "output_type": "execute_result"
    },
    {
     "data": {
      "text/plain": [
       "'C:\\\\Users\\\\fralu\\\\Documents\\\\GitHub\\\\anndl\\\\image-classification\\\\Classification_Dataset\\\\training\\\\sheet-music\\\\IMG_822.jpg'"
      ]
     },
     "execution_count": 7,
     "metadata": {},
     "output_type": "execute_result"
    },
    {
     "data": {
      "text/plain": [
       "'C:\\\\Users\\\\fralu\\\\Documents\\\\GitHub\\\\anndl\\\\image-classification\\\\Classification_Dataset\\\\training\\\\sheet-music\\\\IMG_824.jpg'"
      ]
     },
     "execution_count": 7,
     "metadata": {},
     "output_type": "execute_result"
    },
    {
     "data": {
      "text/plain": [
       "'C:\\\\Users\\\\fralu\\\\Documents\\\\GitHub\\\\anndl\\\\image-classification\\\\Classification_Dataset\\\\training\\\\sheet-music\\\\IMG_906.jpg'"
      ]
     },
     "execution_count": 7,
     "metadata": {},
     "output_type": "execute_result"
    },
    {
     "data": {
      "text/plain": [
       "'C:\\\\Users\\\\fralu\\\\Documents\\\\GitHub\\\\anndl\\\\image-classification\\\\Classification_Dataset\\\\training\\\\sheet-music\\\\IMG_970.jpg'"
      ]
     },
     "execution_count": 7,
     "metadata": {},
     "output_type": "execute_result"
    },
    {
     "data": {
      "text/plain": [
       "'C:\\\\Users\\\\fralu\\\\Documents\\\\GitHub\\\\anndl\\\\image-classification\\\\Classification_Dataset\\\\training\\\\skyscraper\\\\IMG_1000.jpg'"
      ]
     },
     "execution_count": 7,
     "metadata": {},
     "output_type": "execute_result"
    },
    {
     "data": {
      "text/plain": [
       "'C:\\\\Users\\\\fralu\\\\Documents\\\\GitHub\\\\anndl\\\\image-classification\\\\Classification_Dataset\\\\training\\\\skyscraper\\\\IMG_1049.jpg'"
      ]
     },
     "execution_count": 7,
     "metadata": {},
     "output_type": "execute_result"
    },
    {
     "data": {
      "text/plain": [
       "'C:\\\\Users\\\\fralu\\\\Documents\\\\GitHub\\\\anndl\\\\image-classification\\\\Classification_Dataset\\\\training\\\\skyscraper\\\\IMG_1102.jpg'"
      ]
     },
     "execution_count": 7,
     "metadata": {},
     "output_type": "execute_result"
    },
    {
     "data": {
      "text/plain": [
       "'C:\\\\Users\\\\fralu\\\\Documents\\\\GitHub\\\\anndl\\\\image-classification\\\\Classification_Dataset\\\\training\\\\skyscraper\\\\IMG_1126.jpg'"
      ]
     },
     "execution_count": 7,
     "metadata": {},
     "output_type": "execute_result"
    },
    {
     "data": {
      "text/plain": [
       "'C:\\\\Users\\\\fralu\\\\Documents\\\\GitHub\\\\anndl\\\\image-classification\\\\Classification_Dataset\\\\training\\\\skyscraper\\\\IMG_1169.jpg'"
      ]
     },
     "execution_count": 7,
     "metadata": {},
     "output_type": "execute_result"
    },
    {
     "data": {
      "text/plain": [
       "'C:\\\\Users\\\\fralu\\\\Documents\\\\GitHub\\\\anndl\\\\image-classification\\\\Classification_Dataset\\\\training\\\\skyscraper\\\\IMG_1178.jpg'"
      ]
     },
     "execution_count": 7,
     "metadata": {},
     "output_type": "execute_result"
    },
    {
     "data": {
      "text/plain": [
       "'C:\\\\Users\\\\fralu\\\\Documents\\\\GitHub\\\\anndl\\\\image-classification\\\\Classification_Dataset\\\\training\\\\skyscraper\\\\IMG_1207.jpg'"
      ]
     },
     "execution_count": 7,
     "metadata": {},
     "output_type": "execute_result"
    },
    {
     "data": {
      "text/plain": [
       "'C:\\\\Users\\\\fralu\\\\Documents\\\\GitHub\\\\anndl\\\\image-classification\\\\Classification_Dataset\\\\training\\\\skyscraper\\\\IMG_1448.jpg'"
      ]
     },
     "execution_count": 7,
     "metadata": {},
     "output_type": "execute_result"
    },
    {
     "data": {
      "text/plain": [
       "'C:\\\\Users\\\\fralu\\\\Documents\\\\GitHub\\\\anndl\\\\image-classification\\\\Classification_Dataset\\\\training\\\\skyscraper\\\\IMG_1517.jpg'"
      ]
     },
     "execution_count": 7,
     "metadata": {},
     "output_type": "execute_result"
    },
    {
     "data": {
      "text/plain": [
       "'C:\\\\Users\\\\fralu\\\\Documents\\\\GitHub\\\\anndl\\\\image-classification\\\\Classification_Dataset\\\\training\\\\skyscraper\\\\IMG_1567.jpg'"
      ]
     },
     "execution_count": 7,
     "metadata": {},
     "output_type": "execute_result"
    },
    {
     "data": {
      "text/plain": [
       "'C:\\\\Users\\\\fralu\\\\Documents\\\\GitHub\\\\anndl\\\\image-classification\\\\Classification_Dataset\\\\training\\\\skyscraper\\\\IMG_1625.jpg'"
      ]
     },
     "execution_count": 7,
     "metadata": {},
     "output_type": "execute_result"
    },
    {
     "data": {
      "text/plain": [
       "'C:\\\\Users\\\\fralu\\\\Documents\\\\GitHub\\\\anndl\\\\image-classification\\\\Classification_Dataset\\\\training\\\\skyscraper\\\\IMG_1688.jpg'"
      ]
     },
     "execution_count": 7,
     "metadata": {},
     "output_type": "execute_result"
    },
    {
     "data": {
      "text/plain": [
       "'C:\\\\Users\\\\fralu\\\\Documents\\\\GitHub\\\\anndl\\\\image-classification\\\\Classification_Dataset\\\\training\\\\skyscraper\\\\IMG_1775.jpg'"
      ]
     },
     "execution_count": 7,
     "metadata": {},
     "output_type": "execute_result"
    },
    {
     "data": {
      "text/plain": [
       "'C:\\\\Users\\\\fralu\\\\Documents\\\\GitHub\\\\anndl\\\\image-classification\\\\Classification_Dataset\\\\training\\\\skyscraper\\\\IMG_1844.jpg'"
      ]
     },
     "execution_count": 7,
     "metadata": {},
     "output_type": "execute_result"
    },
    {
     "data": {
      "text/plain": [
       "'C:\\\\Users\\\\fralu\\\\Documents\\\\GitHub\\\\anndl\\\\image-classification\\\\Classification_Dataset\\\\training\\\\skyscraper\\\\IMG_1879.jpg'"
      ]
     },
     "execution_count": 7,
     "metadata": {},
     "output_type": "execute_result"
    },
    {
     "data": {
      "text/plain": [
       "'C:\\\\Users\\\\fralu\\\\Documents\\\\GitHub\\\\anndl\\\\image-classification\\\\Classification_Dataset\\\\training\\\\skyscraper\\\\IMG_1888.jpg'"
      ]
     },
     "execution_count": 7,
     "metadata": {},
     "output_type": "execute_result"
    },
    {
     "data": {
      "text/plain": [
       "'C:\\\\Users\\\\fralu\\\\Documents\\\\GitHub\\\\anndl\\\\image-classification\\\\Classification_Dataset\\\\training\\\\skyscraper\\\\IMG_1897.jpg'"
      ]
     },
     "execution_count": 7,
     "metadata": {},
     "output_type": "execute_result"
    },
    {
     "data": {
      "text/plain": [
       "'C:\\\\Users\\\\fralu\\\\Documents\\\\GitHub\\\\anndl\\\\image-classification\\\\Classification_Dataset\\\\training\\\\skyscraper\\\\IMG_1947.jpg'"
      ]
     },
     "execution_count": 7,
     "metadata": {},
     "output_type": "execute_result"
    },
    {
     "data": {
      "text/plain": [
       "'C:\\\\Users\\\\fralu\\\\Documents\\\\GitHub\\\\anndl\\\\image-classification\\\\Classification_Dataset\\\\training\\\\skyscraper\\\\IMG_347.jpg'"
      ]
     },
     "execution_count": 7,
     "metadata": {},
     "output_type": "execute_result"
    },
    {
     "data": {
      "text/plain": [
       "'C:\\\\Users\\\\fralu\\\\Documents\\\\GitHub\\\\anndl\\\\image-classification\\\\Classification_Dataset\\\\training\\\\skyscraper\\\\IMG_599.jpg'"
      ]
     },
     "execution_count": 7,
     "metadata": {},
     "output_type": "execute_result"
    },
    {
     "data": {
      "text/plain": [
       "'C:\\\\Users\\\\fralu\\\\Documents\\\\GitHub\\\\anndl\\\\image-classification\\\\Classification_Dataset\\\\training\\\\skyscraper\\\\IMG_684.jpg'"
      ]
     },
     "execution_count": 7,
     "metadata": {},
     "output_type": "execute_result"
    },
    {
     "data": {
      "text/plain": [
       "'C:\\\\Users\\\\fralu\\\\Documents\\\\GitHub\\\\anndl\\\\image-classification\\\\Classification_Dataset\\\\training\\\\skyscraper\\\\IMG_693.jpg'"
      ]
     },
     "execution_count": 7,
     "metadata": {},
     "output_type": "execute_result"
    },
    {
     "data": {
      "text/plain": [
       "'C:\\\\Users\\\\fralu\\\\Documents\\\\GitHub\\\\anndl\\\\image-classification\\\\Classification_Dataset\\\\training\\\\skyscraper\\\\IMG_715.jpg'"
      ]
     },
     "execution_count": 7,
     "metadata": {},
     "output_type": "execute_result"
    },
    {
     "data": {
      "text/plain": [
       "'C:\\\\Users\\\\fralu\\\\Documents\\\\GitHub\\\\anndl\\\\image-classification\\\\Classification_Dataset\\\\training\\\\skyscraper\\\\IMG_859.jpg'"
      ]
     },
     "execution_count": 7,
     "metadata": {},
     "output_type": "execute_result"
    },
    {
     "data": {
      "text/plain": [
       "'C:\\\\Users\\\\fralu\\\\Documents\\\\GitHub\\\\anndl\\\\image-classification\\\\Classification_Dataset\\\\training\\\\sword\\\\IMG_1138.jpg'"
      ]
     },
     "execution_count": 7,
     "metadata": {},
     "output_type": "execute_result"
    },
    {
     "data": {
      "text/plain": [
       "'C:\\\\Users\\\\fralu\\\\Documents\\\\GitHub\\\\anndl\\\\image-classification\\\\Classification_Dataset\\\\training\\\\sword\\\\IMG_1456.jpg'"
      ]
     },
     "execution_count": 7,
     "metadata": {},
     "output_type": "execute_result"
    },
    {
     "data": {
      "text/plain": [
       "'C:\\\\Users\\\\fralu\\\\Documents\\\\GitHub\\\\anndl\\\\image-classification\\\\Classification_Dataset\\\\training\\\\sword\\\\IMG_1513.jpg'"
      ]
     },
     "execution_count": 7,
     "metadata": {},
     "output_type": "execute_result"
    },
    {
     "data": {
      "text/plain": [
       "'C:\\\\Users\\\\fralu\\\\Documents\\\\GitHub\\\\anndl\\\\image-classification\\\\Classification_Dataset\\\\training\\\\sword\\\\IMG_1553.jpg'"
      ]
     },
     "execution_count": 7,
     "metadata": {},
     "output_type": "execute_result"
    },
    {
     "data": {
      "text/plain": [
       "'C:\\\\Users\\\\fralu\\\\Documents\\\\GitHub\\\\anndl\\\\image-classification\\\\Classification_Dataset\\\\training\\\\sword\\\\IMG_1558.jpg'"
      ]
     },
     "execution_count": 7,
     "metadata": {},
     "output_type": "execute_result"
    },
    {
     "data": {
      "text/plain": [
       "'C:\\\\Users\\\\fralu\\\\Documents\\\\GitHub\\\\anndl\\\\image-classification\\\\Classification_Dataset\\\\training\\\\sword\\\\IMG_1772.jpg'"
      ]
     },
     "execution_count": 7,
     "metadata": {},
     "output_type": "execute_result"
    },
    {
     "data": {
      "text/plain": [
       "'C:\\\\Users\\\\fralu\\\\Documents\\\\GitHub\\\\anndl\\\\image-classification\\\\Classification_Dataset\\\\training\\\\sword\\\\IMG_1776.jpg'"
      ]
     },
     "execution_count": 7,
     "metadata": {},
     "output_type": "execute_result"
    },
    {
     "data": {
      "text/plain": [
       "'C:\\\\Users\\\\fralu\\\\Documents\\\\GitHub\\\\anndl\\\\image-classification\\\\Classification_Dataset\\\\training\\\\sword\\\\IMG_1816.jpg'"
      ]
     },
     "execution_count": 7,
     "metadata": {},
     "output_type": "execute_result"
    },
    {
     "data": {
      "text/plain": [
       "'C:\\\\Users\\\\fralu\\\\Documents\\\\GitHub\\\\anndl\\\\image-classification\\\\Classification_Dataset\\\\training\\\\sword\\\\IMG_236.jpg'"
      ]
     },
     "execution_count": 7,
     "metadata": {},
     "output_type": "execute_result"
    },
    {
     "data": {
      "text/plain": [
       "'C:\\\\Users\\\\fralu\\\\Documents\\\\GitHub\\\\anndl\\\\image-classification\\\\Classification_Dataset\\\\training\\\\sword\\\\IMG_435.jpg'"
      ]
     },
     "execution_count": 7,
     "metadata": {},
     "output_type": "execute_result"
    },
    {
     "data": {
      "text/plain": [
       "'C:\\\\Users\\\\fralu\\\\Documents\\\\GitHub\\\\anndl\\\\image-classification\\\\Classification_Dataset\\\\training\\\\sword\\\\IMG_886.jpg'"
      ]
     },
     "execution_count": 7,
     "metadata": {},
     "output_type": "execute_result"
    },
    {
     "data": {
      "text/plain": [
       "'C:\\\\Users\\\\fralu\\\\Documents\\\\GitHub\\\\anndl\\\\image-classification\\\\Classification_Dataset\\\\training\\\\sword\\\\IMG_933.jpg'"
      ]
     },
     "execution_count": 7,
     "metadata": {},
     "output_type": "execute_result"
    },
    {
     "data": {
      "text/plain": [
       "'C:\\\\Users\\\\fralu\\\\Documents\\\\GitHub\\\\anndl\\\\image-classification\\\\Classification_Dataset\\\\training\\\\sword\\\\IMG_991.jpg'"
      ]
     },
     "execution_count": 7,
     "metadata": {},
     "output_type": "execute_result"
    },
    {
     "data": {
      "text/plain": [
       "'C:\\\\Users\\\\fralu\\\\Documents\\\\GitHub\\\\anndl\\\\image-classification\\\\Classification_Dataset\\\\training\\\\t-shirt\\\\IMG_1191.jpg'"
      ]
     },
     "execution_count": 7,
     "metadata": {},
     "output_type": "execute_result"
    },
    {
     "data": {
      "text/plain": [
       "'C:\\\\Users\\\\fralu\\\\Documents\\\\GitHub\\\\anndl\\\\image-classification\\\\Classification_Dataset\\\\training\\\\t-shirt\\\\IMG_1261.jpg'"
      ]
     },
     "execution_count": 7,
     "metadata": {},
     "output_type": "execute_result"
    },
    {
     "data": {
      "text/plain": [
       "'C:\\\\Users\\\\fralu\\\\Documents\\\\GitHub\\\\anndl\\\\image-classification\\\\Classification_Dataset\\\\training\\\\t-shirt\\\\IMG_128.jpg'"
      ]
     },
     "execution_count": 7,
     "metadata": {},
     "output_type": "execute_result"
    },
    {
     "data": {
      "text/plain": [
       "'C:\\\\Users\\\\fralu\\\\Documents\\\\GitHub\\\\anndl\\\\image-classification\\\\Classification_Dataset\\\\training\\\\t-shirt\\\\IMG_1288.jpg'"
      ]
     },
     "execution_count": 7,
     "metadata": {},
     "output_type": "execute_result"
    },
    {
     "data": {
      "text/plain": [
       "'C:\\\\Users\\\\fralu\\\\Documents\\\\GitHub\\\\anndl\\\\image-classification\\\\Classification_Dataset\\\\training\\\\t-shirt\\\\IMG_1314.jpg'"
      ]
     },
     "execution_count": 7,
     "metadata": {},
     "output_type": "execute_result"
    },
    {
     "data": {
      "text/plain": [
       "'C:\\\\Users\\\\fralu\\\\Documents\\\\GitHub\\\\anndl\\\\image-classification\\\\Classification_Dataset\\\\training\\\\t-shirt\\\\IMG_1355.jpg'"
      ]
     },
     "execution_count": 7,
     "metadata": {},
     "output_type": "execute_result"
    },
    {
     "data": {
      "text/plain": [
       "'C:\\\\Users\\\\fralu\\\\Documents\\\\GitHub\\\\anndl\\\\image-classification\\\\Classification_Dataset\\\\training\\\\t-shirt\\\\IMG_1486.jpg'"
      ]
     },
     "execution_count": 7,
     "metadata": {},
     "output_type": "execute_result"
    },
    {
     "data": {
      "text/plain": [
       "'C:\\\\Users\\\\fralu\\\\Documents\\\\GitHub\\\\anndl\\\\image-classification\\\\Classification_Dataset\\\\training\\\\t-shirt\\\\IMG_1542.jpg'"
      ]
     },
     "execution_count": 7,
     "metadata": {},
     "output_type": "execute_result"
    },
    {
     "data": {
      "text/plain": [
       "'C:\\\\Users\\\\fralu\\\\Documents\\\\GitHub\\\\anndl\\\\image-classification\\\\Classification_Dataset\\\\training\\\\t-shirt\\\\IMG_1568.jpg'"
      ]
     },
     "execution_count": 7,
     "metadata": {},
     "output_type": "execute_result"
    },
    {
     "data": {
      "text/plain": [
       "'C:\\\\Users\\\\fralu\\\\Documents\\\\GitHub\\\\anndl\\\\image-classification\\\\Classification_Dataset\\\\training\\\\t-shirt\\\\IMG_1615.jpg'"
      ]
     },
     "execution_count": 7,
     "metadata": {},
     "output_type": "execute_result"
    },
    {
     "data": {
      "text/plain": [
       "'C:\\\\Users\\\\fralu\\\\Documents\\\\GitHub\\\\anndl\\\\image-classification\\\\Classification_Dataset\\\\training\\\\t-shirt\\\\IMG_172.jpg'"
      ]
     },
     "execution_count": 7,
     "metadata": {},
     "output_type": "execute_result"
    },
    {
     "data": {
      "text/plain": [
       "'C:\\\\Users\\\\fralu\\\\Documents\\\\GitHub\\\\anndl\\\\image-classification\\\\Classification_Dataset\\\\training\\\\t-shirt\\\\IMG_1760.jpg'"
      ]
     },
     "execution_count": 7,
     "metadata": {},
     "output_type": "execute_result"
    },
    {
     "data": {
      "text/plain": [
       "'C:\\\\Users\\\\fralu\\\\Documents\\\\GitHub\\\\anndl\\\\image-classification\\\\Classification_Dataset\\\\training\\\\t-shirt\\\\IMG_1848.jpg'"
      ]
     },
     "execution_count": 7,
     "metadata": {},
     "output_type": "execute_result"
    },
    {
     "data": {
      "text/plain": [
       "'C:\\\\Users\\\\fralu\\\\Documents\\\\GitHub\\\\anndl\\\\image-classification\\\\Classification_Dataset\\\\training\\\\t-shirt\\\\IMG_1952.jpg'"
      ]
     },
     "execution_count": 7,
     "metadata": {},
     "output_type": "execute_result"
    },
    {
     "data": {
      "text/plain": [
       "'C:\\\\Users\\\\fralu\\\\Documents\\\\GitHub\\\\anndl\\\\image-classification\\\\Classification_Dataset\\\\training\\\\t-shirt\\\\IMG_1987.jpg'"
      ]
     },
     "execution_count": 7,
     "metadata": {},
     "output_type": "execute_result"
    },
    {
     "data": {
      "text/plain": [
       "'C:\\\\Users\\\\fralu\\\\Documents\\\\GitHub\\\\anndl\\\\image-classification\\\\Classification_Dataset\\\\training\\\\t-shirt\\\\IMG_203.jpg'"
      ]
     },
     "execution_count": 7,
     "metadata": {},
     "output_type": "execute_result"
    },
    {
     "data": {
      "text/plain": [
       "'C:\\\\Users\\\\fralu\\\\Documents\\\\GitHub\\\\anndl\\\\image-classification\\\\Classification_Dataset\\\\training\\\\t-shirt\\\\IMG_323.jpg'"
      ]
     },
     "execution_count": 7,
     "metadata": {},
     "output_type": "execute_result"
    },
    {
     "data": {
      "text/plain": [
       "'C:\\\\Users\\\\fralu\\\\Documents\\\\GitHub\\\\anndl\\\\image-classification\\\\Classification_Dataset\\\\training\\\\t-shirt\\\\IMG_348.jpg'"
      ]
     },
     "execution_count": 7,
     "metadata": {},
     "output_type": "execute_result"
    },
    {
     "data": {
      "text/plain": [
       "'C:\\\\Users\\\\fralu\\\\Documents\\\\GitHub\\\\anndl\\\\image-classification\\\\Classification_Dataset\\\\training\\\\t-shirt\\\\IMG_411.jpg'"
      ]
     },
     "execution_count": 7,
     "metadata": {},
     "output_type": "execute_result"
    },
    {
     "data": {
      "text/plain": [
       "'C:\\\\Users\\\\fralu\\\\Documents\\\\GitHub\\\\anndl\\\\image-classification\\\\Classification_Dataset\\\\training\\\\t-shirt\\\\IMG_494.jpg'"
      ]
     },
     "execution_count": 7,
     "metadata": {},
     "output_type": "execute_result"
    },
    {
     "data": {
      "text/plain": [
       "'C:\\\\Users\\\\fralu\\\\Documents\\\\GitHub\\\\anndl\\\\image-classification\\\\Classification_Dataset\\\\training\\\\t-shirt\\\\IMG_526.jpg'"
      ]
     },
     "execution_count": 7,
     "metadata": {},
     "output_type": "execute_result"
    },
    {
     "data": {
      "text/plain": [
       "'C:\\\\Users\\\\fralu\\\\Documents\\\\GitHub\\\\anndl\\\\image-classification\\\\Classification_Dataset\\\\training\\\\t-shirt\\\\IMG_611.jpg'"
      ]
     },
     "execution_count": 7,
     "metadata": {},
     "output_type": "execute_result"
    },
    {
     "data": {
      "text/plain": [
       "'C:\\\\Users\\\\fralu\\\\Documents\\\\GitHub\\\\anndl\\\\image-classification\\\\Classification_Dataset\\\\training\\\\t-shirt\\\\IMG_721.jpg'"
      ]
     },
     "execution_count": 7,
     "metadata": {},
     "output_type": "execute_result"
    },
    {
     "data": {
      "text/plain": [
       "'C:\\\\Users\\\\fralu\\\\Documents\\\\GitHub\\\\anndl\\\\image-classification\\\\Classification_Dataset\\\\training\\\\t-shirt\\\\IMG_763.jpg'"
      ]
     },
     "execution_count": 7,
     "metadata": {},
     "output_type": "execute_result"
    },
    {
     "data": {
      "text/plain": [
       "'C:\\\\Users\\\\fralu\\\\Documents\\\\GitHub\\\\anndl\\\\image-classification\\\\Classification_Dataset\\\\training\\\\t-shirt\\\\IMG_807.jpg'"
      ]
     },
     "execution_count": 7,
     "metadata": {},
     "output_type": "execute_result"
    },
    {
     "data": {
      "text/plain": [
       "'C:\\\\Users\\\\fralu\\\\Documents\\\\GitHub\\\\anndl\\\\image-classification\\\\Classification_Dataset\\\\training\\\\waterfall\\\\IMG_1019.jpg'"
      ]
     },
     "execution_count": 7,
     "metadata": {},
     "output_type": "execute_result"
    },
    {
     "data": {
      "text/plain": [
       "'C:\\\\Users\\\\fralu\\\\Documents\\\\GitHub\\\\anndl\\\\image-classification\\\\Classification_Dataset\\\\training\\\\waterfall\\\\IMG_1220.jpg'"
      ]
     },
     "execution_count": 7,
     "metadata": {},
     "output_type": "execute_result"
    },
    {
     "data": {
      "text/plain": [
       "'C:\\\\Users\\\\fralu\\\\Documents\\\\GitHub\\\\anndl\\\\image-classification\\\\Classification_Dataset\\\\training\\\\waterfall\\\\IMG_1461.jpg'"
      ]
     },
     "execution_count": 7,
     "metadata": {},
     "output_type": "execute_result"
    },
    {
     "data": {
      "text/plain": [
       "'C:\\\\Users\\\\fralu\\\\Documents\\\\GitHub\\\\anndl\\\\image-classification\\\\Classification_Dataset\\\\training\\\\waterfall\\\\IMG_1490.jpg'"
      ]
     },
     "execution_count": 7,
     "metadata": {},
     "output_type": "execute_result"
    },
    {
     "data": {
      "text/plain": [
       "'C:\\\\Users\\\\fralu\\\\Documents\\\\GitHub\\\\anndl\\\\image-classification\\\\Classification_Dataset\\\\training\\\\waterfall\\\\IMG_1737.jpg'"
      ]
     },
     "execution_count": 7,
     "metadata": {},
     "output_type": "execute_result"
    },
    {
     "data": {
      "text/plain": [
       "'C:\\\\Users\\\\fralu\\\\Documents\\\\GitHub\\\\anndl\\\\image-classification\\\\Classification_Dataset\\\\training\\\\waterfall\\\\IMG_1774.jpg'"
      ]
     },
     "execution_count": 7,
     "metadata": {},
     "output_type": "execute_result"
    },
    {
     "data": {
      "text/plain": [
       "'C:\\\\Users\\\\fralu\\\\Documents\\\\GitHub\\\\anndl\\\\image-classification\\\\Classification_Dataset\\\\training\\\\waterfall\\\\IMG_1830.jpg'"
      ]
     },
     "execution_count": 7,
     "metadata": {},
     "output_type": "execute_result"
    },
    {
     "data": {
      "text/plain": [
       "'C:\\\\Users\\\\fralu\\\\Documents\\\\GitHub\\\\anndl\\\\image-classification\\\\Classification_Dataset\\\\training\\\\waterfall\\\\IMG_1874.jpg'"
      ]
     },
     "execution_count": 7,
     "metadata": {},
     "output_type": "execute_result"
    },
    {
     "data": {
      "text/plain": [
       "'C:\\\\Users\\\\fralu\\\\Documents\\\\GitHub\\\\anndl\\\\image-classification\\\\Classification_Dataset\\\\training\\\\waterfall\\\\IMG_1986.jpg'"
      ]
     },
     "execution_count": 7,
     "metadata": {},
     "output_type": "execute_result"
    },
    {
     "data": {
      "text/plain": [
       "'C:\\\\Users\\\\fralu\\\\Documents\\\\GitHub\\\\anndl\\\\image-classification\\\\Classification_Dataset\\\\training\\\\waterfall\\\\IMG_413.jpg'"
      ]
     },
     "execution_count": 7,
     "metadata": {},
     "output_type": "execute_result"
    },
    {
     "data": {
      "text/plain": [
       "'C:\\\\Users\\\\fralu\\\\Documents\\\\GitHub\\\\anndl\\\\image-classification\\\\Classification_Dataset\\\\training\\\\waterfall\\\\IMG_655.jpg'"
      ]
     },
     "execution_count": 7,
     "metadata": {},
     "output_type": "execute_result"
    },
    {
     "data": {
      "text/plain": [
       "'C:\\\\Users\\\\fralu\\\\Documents\\\\GitHub\\\\anndl\\\\image-classification\\\\Classification_Dataset\\\\training\\\\waterfall\\\\IMG_909.jpg'"
      ]
     },
     "execution_count": 7,
     "metadata": {},
     "output_type": "execute_result"
    },
    {
     "data": {
      "text/plain": [
       "'C:\\\\Users\\\\fralu\\\\Documents\\\\GitHub\\\\anndl\\\\image-classification\\\\Classification_Dataset\\\\training\\\\wine-bottle\\\\IMG_1222.jpg'"
      ]
     },
     "execution_count": 7,
     "metadata": {},
     "output_type": "execute_result"
    },
    {
     "data": {
      "text/plain": [
       "'C:\\\\Users\\\\fralu\\\\Documents\\\\GitHub\\\\anndl\\\\image-classification\\\\Classification_Dataset\\\\training\\\\wine-bottle\\\\IMG_1364.jpg'"
      ]
     },
     "execution_count": 7,
     "metadata": {},
     "output_type": "execute_result"
    },
    {
     "data": {
      "text/plain": [
       "'C:\\\\Users\\\\fralu\\\\Documents\\\\GitHub\\\\anndl\\\\image-classification\\\\Classification_Dataset\\\\training\\\\wine-bottle\\\\IMG_1398.jpg'"
      ]
     },
     "execution_count": 7,
     "metadata": {},
     "output_type": "execute_result"
    },
    {
     "data": {
      "text/plain": [
       "'C:\\\\Users\\\\fralu\\\\Documents\\\\GitHub\\\\anndl\\\\image-classification\\\\Classification_Dataset\\\\training\\\\wine-bottle\\\\IMG_1417.jpg'"
      ]
     },
     "execution_count": 7,
     "metadata": {},
     "output_type": "execute_result"
    },
    {
     "data": {
      "text/plain": [
       "'C:\\\\Users\\\\fralu\\\\Documents\\\\GitHub\\\\anndl\\\\image-classification\\\\Classification_Dataset\\\\training\\\\wine-bottle\\\\IMG_1478.jpg'"
      ]
     },
     "execution_count": 7,
     "metadata": {},
     "output_type": "execute_result"
    },
    {
     "data": {
      "text/plain": [
       "'C:\\\\Users\\\\fralu\\\\Documents\\\\GitHub\\\\anndl\\\\image-classification\\\\Classification_Dataset\\\\training\\\\wine-bottle\\\\IMG_1617.jpg'"
      ]
     },
     "execution_count": 7,
     "metadata": {},
     "output_type": "execute_result"
    },
    {
     "data": {
      "text/plain": [
       "'C:\\\\Users\\\\fralu\\\\Documents\\\\GitHub\\\\anndl\\\\image-classification\\\\Classification_Dataset\\\\training\\\\wine-bottle\\\\IMG_1624.jpg'"
      ]
     },
     "execution_count": 7,
     "metadata": {},
     "output_type": "execute_result"
    },
    {
     "data": {
      "text/plain": [
       "'C:\\\\Users\\\\fralu\\\\Documents\\\\GitHub\\\\anndl\\\\image-classification\\\\Classification_Dataset\\\\training\\\\wine-bottle\\\\IMG_1689.jpg'"
      ]
     },
     "execution_count": 7,
     "metadata": {},
     "output_type": "execute_result"
    },
    {
     "data": {
      "text/plain": [
       "'C:\\\\Users\\\\fralu\\\\Documents\\\\GitHub\\\\anndl\\\\image-classification\\\\Classification_Dataset\\\\training\\\\wine-bottle\\\\IMG_17.jpg'"
      ]
     },
     "execution_count": 7,
     "metadata": {},
     "output_type": "execute_result"
    },
    {
     "data": {
      "text/plain": [
       "'C:\\\\Users\\\\fralu\\\\Documents\\\\GitHub\\\\anndl\\\\image-classification\\\\Classification_Dataset\\\\training\\\\wine-bottle\\\\IMG_1755.jpg'"
      ]
     },
     "execution_count": 7,
     "metadata": {},
     "output_type": "execute_result"
    },
    {
     "data": {
      "text/plain": [
       "'C:\\\\Users\\\\fralu\\\\Documents\\\\GitHub\\\\anndl\\\\image-classification\\\\Classification_Dataset\\\\training\\\\wine-bottle\\\\IMG_1793.jpg'"
      ]
     },
     "execution_count": 7,
     "metadata": {},
     "output_type": "execute_result"
    },
    {
     "data": {
      "text/plain": [
       "'C:\\\\Users\\\\fralu\\\\Documents\\\\GitHub\\\\anndl\\\\image-classification\\\\Classification_Dataset\\\\training\\\\wine-bottle\\\\IMG_1812.jpg'"
      ]
     },
     "execution_count": 7,
     "metadata": {},
     "output_type": "execute_result"
    },
    {
     "data": {
      "text/plain": [
       "'C:\\\\Users\\\\fralu\\\\Documents\\\\GitHub\\\\anndl\\\\image-classification\\\\Classification_Dataset\\\\training\\\\wine-bottle\\\\IMG_1917.jpg'"
      ]
     },
     "execution_count": 7,
     "metadata": {},
     "output_type": "execute_result"
    },
    {
     "data": {
      "text/plain": [
       "'C:\\\\Users\\\\fralu\\\\Documents\\\\GitHub\\\\anndl\\\\image-classification\\\\Classification_Dataset\\\\training\\\\wine-bottle\\\\IMG_443.jpg'"
      ]
     },
     "execution_count": 7,
     "metadata": {},
     "output_type": "execute_result"
    },
    {
     "data": {
      "text/plain": [
       "'C:\\\\Users\\\\fralu\\\\Documents\\\\GitHub\\\\anndl\\\\image-classification\\\\Classification_Dataset\\\\training\\\\wine-bottle\\\\IMG_470.jpg'"
      ]
     },
     "execution_count": 7,
     "metadata": {},
     "output_type": "execute_result"
    },
    {
     "data": {
      "text/plain": [
       "'C:\\\\Users\\\\fralu\\\\Documents\\\\GitHub\\\\anndl\\\\image-classification\\\\Classification_Dataset\\\\training\\\\wine-bottle\\\\IMG_502.jpg'"
      ]
     },
     "execution_count": 7,
     "metadata": {},
     "output_type": "execute_result"
    },
    {
     "data": {
      "text/plain": [
       "'C:\\\\Users\\\\fralu\\\\Documents\\\\GitHub\\\\anndl\\\\image-classification\\\\Classification_Dataset\\\\training\\\\wine-bottle\\\\IMG_82.jpg'"
      ]
     },
     "execution_count": 7,
     "metadata": {},
     "output_type": "execute_result"
    }
   ],
   "source": [
    "for subdir, dirs, files in os.walk(validation_dir):\n",
    "    for file in files:\n",
    "        class_dir = os.path.basename(subdir)\n",
    "        shutil.move(os.path.join(subdir, file), os.path.join(training_dir, class_dir, file))\n",
    "        \n",
    "shutil.rmtree(validation_dir)"
   ]
  },
  {
   "cell_type": "code",
   "execution_count": null,
   "metadata": {},
   "outputs": [],
   "source": [
    "import os\n",
    "from datetime import datetime\n",
    "\n",
    "def create_csv(results, results_dir='./'):\n",
    "\n",
    "    csv_fname = 'results_'\n",
    "    csv_fname += datetime.now().strftime('%b%d_%H-%M-%S') + '.csv'\n",
    "\n",
    "    with open(os.path.join(results_dir, csv_fname), 'w') as f:\n",
    "\n",
    "        f.write('Id,Category\\n')\n",
    "\n",
    "        for key, value in results.items():\n",
    "            f.write(key + ',' + str(value) + '\\n')"
   ]
  },
  {
   "cell_type": "code",
   "execution_count": null,
   "metadata": {},
   "outputs": [],
   "source": [
    "from PIL import Image\n",
    "import numpy as np\n",
    "#model.load_weights(cwd+'/classification_experiments/CNN_Nov20_18-25-57/ckpts/cp_14.ckpt')  # use this if you want to restore saved model\n",
    "\n",
    "# Test\n",
    "test_dir = os.path.join(dataset_dir, 'test')\n",
    "image_filenames = next(os.walk(test_dir))[2]\n",
    "\n",
    "results = {}\n",
    "for image_name in image_filenames:\n",
    "    file_path = os.path.join(test_dir, image_name)\n",
    "    img = Image.open(file_path).convert('RGB')\n",
    "    img = img.resize((img_w, img_h))\n",
    "    img_array = np.array(img)\n",
    "    img_array = np.expand_dims(img_array, 0)\n",
    "    out_softmax = model.predict(x=img_array / 255.)\n",
    "    prediction = tf.argmax(out_softmax, -1)\n",
    "    results[image_name] = prediction[0].numpy()\n",
    "    \n",
    "create_csv(results)"
   ]
  },
  {
   "cell_type": "code",
   "execution_count": null,
   "metadata": {},
   "outputs": [],
   "source": []
  }
 ],
 "metadata": {
  "kernelspec": {
   "display_name": "Python 3",
   "language": "python",
   "name": "python3"
  },
  "language_info": {
   "codemirror_mode": {
    "name": "ipython",
    "version": 3
   },
   "file_extension": ".py",
   "mimetype": "text/x-python",
   "name": "python",
   "nbconvert_exporter": "python",
   "pygments_lexer": "ipython3",
   "version": "3.7.5"
  }
 },
 "nbformat": 4,
 "nbformat_minor": 2
}
